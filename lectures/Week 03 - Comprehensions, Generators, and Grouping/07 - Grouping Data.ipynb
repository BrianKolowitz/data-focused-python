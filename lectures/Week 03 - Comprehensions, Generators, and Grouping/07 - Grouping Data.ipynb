{
 "cells": [
  {
   "cell_type": "markdown",
   "metadata": {},
   "source": [
    "# Grouping data using python\n",
    "\n",
    "In this tutorial we're going to learn how to use basic python funtionality to group datasets."
   ]
  },
  {
   "cell_type": "code",
   "execution_count": 1,
   "metadata": {},
   "outputs": [],
   "source": [
    "import csv\n",
    "from pprint import pprint"
   ]
  },
  {
   "cell_type": "code",
   "execution_count": 2,
   "metadata": {},
   "outputs": [
    {
     "name": "stdout",
     "output_type": "stream",
     "text": [
      "OrderedDict([('Id', 'c09181f8-6526-4de7-87c7-25c95ccdbdea'),\n",
      "             ('BIRTHDATE', '2014-06-06'),\n",
      "             ('DEATHDATE', ''),\n",
      "             ('SSN', '999-26-1662'),\n",
      "             ('DRIVERS', ''),\n",
      "             ('PASSPORT', ''),\n",
      "             ('PREFIX', ''),\n",
      "             ('FIRST', 'Lizbeth716'),\n",
      "             ('LAST', 'Hackett68'),\n",
      "             ('SUFFIX', ''),\n",
      "             ('MAIDEN', ''),\n",
      "             ('MARITAL', ''),\n",
      "             ('RACE', 'white'),\n",
      "             ('ETHNICITY', 'irish'),\n",
      "             ('GENDER', 'F'),\n",
      "             ('BIRTHPLACE', 'Denver  Pennsylvania  US'),\n",
      "             ('ADDRESS', '742 Parisian Run Suite 87'),\n",
      "             ('CITY', 'Pittsburgh'),\n",
      "             ('STATE', 'Pennsylvania'),\n",
      "             ('ZIP', '15106')])\n",
      "OrderedDict([('Id', '8d1c4f3b-3d44-4daf-8962-cc260bad8c87'),\n",
      "             ('BIRTHDATE', '1969-05-10'),\n",
      "             ('DEATHDATE', ''),\n",
      "             ('SSN', '999-64-1895'),\n",
      "             ('DRIVERS', 'S99989200'),\n",
      "             ('PASSPORT', 'X16155415X'),\n",
      "             ('PREFIX', 'Mrs.'),\n",
      "             ('FIRST', 'Augustine565'),\n",
      "             ('LAST', 'Conroy74'),\n",
      "             ('SUFFIX', ''),\n",
      "             ('MAIDEN', 'Cremin516'),\n",
      "             ('MARITAL', 'M'),\n",
      "             ('RACE', 'asian'),\n",
      "             ('ETHNICITY', 'asian_indian'),\n",
      "             ('GENDER', 'F'),\n",
      "             ('BIRTHPLACE', 'Unityship  Pennsylvania  US'),\n",
      "             ('ADDRESS', '931 Watsica Lock'),\n",
      "             ('CITY', 'Pittsburgh'),\n",
      "             ('STATE', 'Pennsylvania'),\n",
      "             ('ZIP', '15106')])\n"
     ]
    }
   ],
   "source": [
    "# recall, opening the file and reading the data\n",
    "with open('../data/csv/patients.csv') as f:\n",
    "    reader = csv.DictReader(f)\n",
    "    for i, row in enumerate(reader):\n",
    "        pprint(row)\n",
    "        if i >= 1:\n",
    "            break"
   ]
  },
  {
   "cell_type": "code",
   "execution_count": 3,
   "metadata": {},
   "outputs": [
    {
     "name": "stdout",
     "output_type": "stream",
     "text": [
      "F\n",
      "F\n",
      "M\n"
     ]
    }
   ],
   "source": [
    "# then we're going to parse out a group, e.g. Gender\n",
    "# recall, opening the file and reading the data\n",
    "with open('../data/csv/patients.csv') as f:\n",
    "    reader = csv.DictReader(f)\n",
    "    for i, row in enumerate(reader):\n",
    "        patient_gender = row['GENDER']\n",
    "        print(patient_gender)\n",
    "        if i >= 2:\n",
    "            break"
   ]
  },
  {
   "cell_type": "code",
   "execution_count": 5,
   "metadata": {},
   "outputs": [
    {
     "name": "stdout",
     "output_type": "stream",
     "text": [
      "{'M', 'F'}\n"
     ]
    }
   ],
   "source": [
    "# how do we know what the unique genders are?\n",
    "# let's iterate over them and create a set\n",
    "patient_genders = set()\n",
    "\n",
    "with open('../data/csv/patients.csv') as f:\n",
    "    reader = csv.DictReader(f)\n",
    "    for i, row in enumerate(reader):\n",
    "        patient_gender = row['GENDER']\n",
    "        patient_genders.add(patient_gender)\n",
    "print(patient_genders)"
   ]
  },
  {
   "cell_type": "code",
   "execution_count": 6,
   "metadata": {},
   "outputs": [
    {
     "name": "stdout",
     "output_type": "stream",
     "text": [
      "OrderedDict([('Id', 'cb115d2a-56b5-42a7-bf64-0362505df9f2'),\n",
      "             ('BIRTHDATE', '1969-05-30'),\n",
      "             ('DEATHDATE', ''),\n",
      "             ('SSN', '999-28-4068'),\n",
      "             ('DRIVERS', 'S99947751'),\n",
      "             ('PASSPORT', 'X52116181X'),\n",
      "             ('PREFIX', 'Mr.'),\n",
      "             ('FIRST', 'Rhett759'),\n",
      "             ('LAST', 'Mosciski958'),\n",
      "             ('SUFFIX', ''),\n",
      "             ('MAIDEN', ''),\n",
      "             ('MARITAL', 'M'),\n",
      "             ('RACE', 'asian'),\n",
      "             ('ETHNICITY', 'chinese'),\n",
      "             ('GENDER', 'M'),\n",
      "             ('BIRTHPLACE',\n",
      "              \"Macau  Macao Special Administrative Region of the People's \"\n",
      "              'Republic of China  CN'),\n",
      "             ('ADDRESS', '370 Gleichner Parade'),\n",
      "             ('CITY', 'Pittsburgh'),\n",
      "             ('STATE', 'Pennsylvania'),\n",
      "             ('ZIP', '15106')])\n",
      "OrderedDict([('Id', 'c09181f8-6526-4de7-87c7-25c95ccdbdea'),\n",
      "             ('BIRTHDATE', '2014-06-06'),\n",
      "             ('DEATHDATE', ''),\n",
      "             ('SSN', '999-26-1662'),\n",
      "             ('DRIVERS', ''),\n",
      "             ('PASSPORT', ''),\n",
      "             ('PREFIX', ''),\n",
      "             ('FIRST', 'Lizbeth716'),\n",
      "             ('LAST', 'Hackett68'),\n",
      "             ('SUFFIX', ''),\n",
      "             ('MAIDEN', ''),\n",
      "             ('MARITAL', ''),\n",
      "             ('RACE', 'white'),\n",
      "             ('ETHNICITY', 'irish'),\n",
      "             ('GENDER', 'F'),\n",
      "             ('BIRTHPLACE', 'Denver  Pennsylvania  US'),\n",
      "             ('ADDRESS', '742 Parisian Run Suite 87'),\n",
      "             ('CITY', 'Pittsburgh'),\n",
      "             ('STATE', 'Pennsylvania'),\n",
      "             ('ZIP', '15106')])\n"
     ]
    }
   ],
   "source": [
    "# okay, we have 2 genders let's create 2 lists\n",
    "male_patients = []\n",
    "female_patients = []\n",
    "\n",
    "with open('../data/csv/patients.csv') as f:\n",
    "    reader = csv.DictReader(f)\n",
    "    for i, row in enumerate(reader):\n",
    "        patient_gender = row['GENDER']\n",
    "        if patient_gender == 'M':\n",
    "            male_patients.append(row)\n",
    "        elif patient_gender == 'F':\n",
    "            female_patients.append(row)\n",
    "        else:\n",
    "            raise Exception('Unknown Gender')\n",
    "\n",
    "pprint(male_patients[0])\n",
    "pprint(female_patients[0])"
   ]
  },
  {
   "cell_type": "markdown",
   "metadata": {},
   "source": [
    "## Can we do better?\n",
    "\n",
    "What's wrong with the code above?\n",
    "\n",
    "1. Multiple iterations over the file\n",
    "2. Brittle... not resilient to new genders\n",
    "\n",
    "What can we do?\n",
    "\n",
    "1. Use a dictionary to store the groupings\n",
    "2. Make the code case insensitive"
   ]
  },
  {
   "cell_type": "code",
   "execution_count": 7,
   "metadata": {},
   "outputs": [
    {
     "name": "stdout",
     "output_type": "stream",
     "text": [
      "{'F': ['patient1', 'patient3'], 'M': ['patient2', 'patient4']}\n"
     ]
    }
   ],
   "source": [
    "# patients by gender\n",
    "patients_by_gender = {}\n",
    "\n",
    "patients_by_gender['F'] = ['patient1', 'patient3']\n",
    "patients_by_gender['M'] = ['patient2', 'patient4']\n",
    "\n",
    "pprint(patients_by_gender)"
   ]
  },
  {
   "cell_type": "code",
   "execution_count": 8,
   "metadata": {},
   "outputs": [
    {
     "name": "stdout",
     "output_type": "stream",
     "text": [
      "dict_keys(['F', 'M'])\n"
     ]
    }
   ],
   "source": [
    "print(patients_by_gender.keys())"
   ]
  },
  {
   "cell_type": "code",
   "execution_count": 9,
   "metadata": {},
   "outputs": [
    {
     "name": "stdout",
     "output_type": "stream",
     "text": [
      "dict_values([['patient1', 'patient3'], ['patient2', 'patient4']])\n"
     ]
    }
   ],
   "source": [
    "print(patients_by_gender.values())"
   ]
  },
  {
   "cell_type": "code",
   "execution_count": 10,
   "metadata": {},
   "outputs": [
    {
     "name": "stdout",
     "output_type": "stream",
     "text": [
      "dict_items([('F', ['patient1', 'patient3']), ('M', ['patient2', 'patient4'])])\n"
     ]
    }
   ],
   "source": [
    "print(patients_by_gender.items())"
   ]
  },
  {
   "cell_type": "code",
   "execution_count": 11,
   "metadata": {},
   "outputs": [
    {
     "name": "stdout",
     "output_type": "stream",
     "text": [
      "True\n"
     ]
    }
   ],
   "source": [
    "# check if a gender is in the dictionary\n",
    "print('F' in patients_by_gender)"
   ]
  },
  {
   "cell_type": "code",
   "execution_count": 12,
   "metadata": {},
   "outputs": [
    {
     "name": "stdout",
     "output_type": "stream",
     "text": [
      "False\n"
     ]
    }
   ],
   "source": [
    "print('f' in patients_by_gender)"
   ]
  },
  {
   "cell_type": "code",
   "execution_count": 13,
   "metadata": {},
   "outputs": [
    {
     "name": "stdout",
     "output_type": "stream",
     "text": [
      "dict_keys(['F', 'M'])\n"
     ]
    }
   ],
   "source": [
    "# let's group using a dictionary\n",
    "patients_by_gender = {}\n",
    "\n",
    "with open('../data/csv/patients.csv') as f:\n",
    "    reader = csv.DictReader(f)\n",
    "    \n",
    "    for row in reader:\n",
    "        patient_gender = row['GENDER'].upper() # let's store the keys as uppercase\n",
    "        \n",
    "        # check to see if the key exists, if not\n",
    "        if patient_gender not in patients_by_gender:\n",
    "            # add the key\n",
    "            patients_by_gender[patient_gender] = [] # create an empty list\n",
    "\n",
    "        # append the patient as a new row to the correct grouping\n",
    "        patients_by_gender[patient_gender].append(row)\n",
    "\n",
    "print(patients_by_gender.keys())"
   ]
  },
  {
   "cell_type": "code",
   "execution_count": 14,
   "metadata": {},
   "outputs": [
    {
     "name": "stdout",
     "output_type": "stream",
     "text": [
      "[OrderedDict([('Id', 'c09181f8-6526-4de7-87c7-25c95ccdbdea'),\n",
      "              ('BIRTHDATE', '2014-06-06'),\n",
      "              ('DEATHDATE', ''),\n",
      "              ('SSN', '999-26-1662'),\n",
      "              ('DRIVERS', ''),\n",
      "              ('PASSPORT', ''),\n",
      "              ('PREFIX', ''),\n",
      "              ('FIRST', 'Lizbeth716'),\n",
      "              ('LAST', 'Hackett68'),\n",
      "              ('SUFFIX', ''),\n",
      "              ('MAIDEN', ''),\n",
      "              ('MARITAL', ''),\n",
      "              ('RACE', 'white'),\n",
      "              ('ETHNICITY', 'irish'),\n",
      "              ('GENDER', 'F'),\n",
      "              ('BIRTHPLACE', 'Denver  Pennsylvania  US'),\n",
      "              ('ADDRESS', '742 Parisian Run Suite 87'),\n",
      "              ('CITY', 'Pittsburgh'),\n",
      "              ('STATE', 'Pennsylvania'),\n",
      "              ('ZIP', '15106')]),\n",
      " OrderedDict([('Id', '8d1c4f3b-3d44-4daf-8962-cc260bad8c87'),\n",
      "              ('BIRTHDATE', '1969-05-10'),\n",
      "              ('DEATHDATE', ''),\n",
      "              ('SSN', '999-64-1895'),\n",
      "              ('DRIVERS', 'S99989200'),\n",
      "              ('PASSPORT', 'X16155415X'),\n",
      "              ('PREFIX', 'Mrs.'),\n",
      "              ('FIRST', 'Augustine565'),\n",
      "              ('LAST', 'Conroy74'),\n",
      "              ('SUFFIX', ''),\n",
      "              ('MAIDEN', 'Cremin516'),\n",
      "              ('MARITAL', 'M'),\n",
      "              ('RACE', 'asian'),\n",
      "              ('ETHNICITY', 'asian_indian'),\n",
      "              ('GENDER', 'F'),\n",
      "              ('BIRTHPLACE', 'Unityship  Pennsylvania  US'),\n",
      "              ('ADDRESS', '931 Watsica Lock'),\n",
      "              ('CITY', 'Pittsburgh'),\n",
      "              ('STATE', 'Pennsylvania'),\n",
      "              ('ZIP', '15106')])]\n"
     ]
    }
   ],
   "source": [
    "pprint(patients_by_gender['F'][0:2])"
   ]
  },
  {
   "cell_type": "code",
   "execution_count": 15,
   "metadata": {},
   "outputs": [
    {
     "name": "stdout",
     "output_type": "stream",
     "text": [
      "Hackett68\n"
     ]
    }
   ],
   "source": [
    "print(patients_by_gender['F'][0]['LAST'])"
   ]
  },
  {
   "cell_type": "markdown",
   "metadata": {},
   "source": [
    "## Let's make the code reusable\n",
    "\n",
    "1. Create a function\n",
    "2. Externalize parameters that will change fromt the function\n",
    "\n",
    "What's common?\n",
    "1. The csv processing\n",
    "2. The grouping logic\n",
    "\n",
    "What's different?\n",
    "1. The file name\n",
    "2. The groupby parameters"
   ]
  },
  {
   "cell_type": "code",
   "execution_count": 16,
   "metadata": {},
   "outputs": [],
   "source": [
    "# define the function\n",
    "def group_patient(file_name, groupby):\n",
    "    pass"
   ]
  },
  {
   "cell_type": "code",
   "execution_count": 17,
   "metadata": {},
   "outputs": [
    {
     "name": "stdout",
     "output_type": "stream",
     "text": [
      "None\n"
     ]
    }
   ],
   "source": [
    "# call the function\n",
    "patients_by_gender = group_patient('../data/csv/patients.csv', 'GENDER')\n",
    "print(patients_by_gender)"
   ]
  },
  {
   "cell_type": "code",
   "execution_count": 18,
   "metadata": {},
   "outputs": [],
   "source": [
    "# now let's implement the function\n",
    "def group_patient(file_name, groupby):\n",
    "    patients_by_group = {}\n",
    "    with open(file_name) as f:\n",
    "        reader = csv.DictReader(f)\n",
    "        for row in reader:\n",
    "            # note : we renamed the variable to _attribute\n",
    "            patient_attribute = row[groupby].upper()\n",
    "\n",
    "            # check to see if the key exists, if not\n",
    "            if patient_attribute not in patients_by_group:\n",
    "                # add the key\n",
    "                patients_by_group[patient_attribute] = [] # create an empty list\n",
    "\n",
    "            # append the patient as a new row to the correct grouping\n",
    "            patients_by_group[patient_attribute].append(row)\n",
    "    return patients_by_group"
   ]
  },
  {
   "cell_type": "code",
   "execution_count": 19,
   "metadata": {},
   "outputs": [
    {
     "name": "stdout",
     "output_type": "stream",
     "text": [
      "[OrderedDict([('Id', 'c09181f8-6526-4de7-87c7-25c95ccdbdea'),\n",
      "              ('BIRTHDATE', '2014-06-06'),\n",
      "              ('DEATHDATE', ''),\n",
      "              ('SSN', '999-26-1662'),\n",
      "              ('DRIVERS', ''),\n",
      "              ('PASSPORT', ''),\n",
      "              ('PREFIX', ''),\n",
      "              ('FIRST', 'Lizbeth716'),\n",
      "              ('LAST', 'Hackett68'),\n",
      "              ('SUFFIX', ''),\n",
      "              ('MAIDEN', ''),\n",
      "              ('MARITAL', ''),\n",
      "              ('RACE', 'white'),\n",
      "              ('ETHNICITY', 'irish'),\n",
      "              ('GENDER', 'F'),\n",
      "              ('BIRTHPLACE', 'Denver  Pennsylvania  US'),\n",
      "              ('ADDRESS', '742 Parisian Run Suite 87'),\n",
      "              ('CITY', 'Pittsburgh'),\n",
      "              ('STATE', 'Pennsylvania'),\n",
      "              ('ZIP', '15106')]),\n",
      " OrderedDict([('Id', '8d1c4f3b-3d44-4daf-8962-cc260bad8c87'),\n",
      "              ('BIRTHDATE', '1969-05-10'),\n",
      "              ('DEATHDATE', ''),\n",
      "              ('SSN', '999-64-1895'),\n",
      "              ('DRIVERS', 'S99989200'),\n",
      "              ('PASSPORT', 'X16155415X'),\n",
      "              ('PREFIX', 'Mrs.'),\n",
      "              ('FIRST', 'Augustine565'),\n",
      "              ('LAST', 'Conroy74'),\n",
      "              ('SUFFIX', ''),\n",
      "              ('MAIDEN', 'Cremin516'),\n",
      "              ('MARITAL', 'M'),\n",
      "              ('RACE', 'asian'),\n",
      "              ('ETHNICITY', 'asian_indian'),\n",
      "              ('GENDER', 'F'),\n",
      "              ('BIRTHPLACE', 'Unityship  Pennsylvania  US'),\n",
      "              ('ADDRESS', '931 Watsica Lock'),\n",
      "              ('CITY', 'Pittsburgh'),\n",
      "              ('STATE', 'Pennsylvania'),\n",
      "              ('ZIP', '15106')])]\n"
     ]
    }
   ],
   "source": [
    "patients_by_gender = group_patient('../data/csv/patients.csv', 'GENDER')\n",
    "pprint(patients_by_gender['F'][0:2])"
   ]
  },
  {
   "cell_type": "code",
   "execution_count": 20,
   "metadata": {},
   "outputs": [],
   "source": [
    "# but wait... is there anything patient specific???\n",
    "# let's refactor the code to make it more extensible \n",
    "# and easier to read\n",
    "def group(file_name, groupby):\n",
    "    grouped_data = {}\n",
    "    with open(file_name) as f:\n",
    "        reader = csv.DictReader(f)\n",
    "        for row in reader:\n",
    "            attribute = row[groupby].upper()\n",
    "            if attribute not in grouped_data:\n",
    "                grouped_data[attribute] = []\n",
    "            grouped_data[attribute].append(row)\n",
    "    return grouped_data"
   ]
  },
  {
   "cell_type": "code",
   "execution_count": 21,
   "metadata": {},
   "outputs": [
    {
     "name": "stdout",
     "output_type": "stream",
     "text": [
      "OrderedDict([('Id', 'c09181f8-6526-4de7-87c7-25c95ccdbdea'),\n",
      "             ('BIRTHDATE', '2014-06-06'),\n",
      "             ('DEATHDATE', ''),\n",
      "             ('SSN', '999-26-1662'),\n",
      "             ('DRIVERS', ''),\n",
      "             ('PASSPORT', ''),\n",
      "             ('PREFIX', ''),\n",
      "             ('FIRST', 'Lizbeth716'),\n",
      "             ('LAST', 'Hackett68'),\n",
      "             ('SUFFIX', ''),\n",
      "             ('MAIDEN', ''),\n",
      "             ('MARITAL', ''),\n",
      "             ('RACE', 'white'),\n",
      "             ('ETHNICITY', 'irish'),\n",
      "             ('GENDER', 'F'),\n",
      "             ('BIRTHPLACE', 'Denver  Pennsylvania  US'),\n",
      "             ('ADDRESS', '742 Parisian Run Suite 87'),\n",
      "             ('CITY', 'Pittsburgh'),\n",
      "             ('STATE', 'Pennsylvania'),\n",
      "             ('ZIP', '15106')])\n"
     ]
    }
   ],
   "source": [
    "patients_by_gender = group('../data/csv/patients.csv', 'GENDER')\n",
    "pprint(patients_by_gender['F'][0])"
   ]
  },
  {
   "cell_type": "markdown",
   "metadata": {},
   "source": [
    "## What if we want multiple grouping levels?"
   ]
  },
  {
   "cell_type": "code",
   "execution_count": 22,
   "metadata": {},
   "outputs": [
    {
     "data": {
      "text/plain": [
       "{'F': ['patient1', 'patient2'], 'M': ['patient3', 'patient4']}"
      ]
     },
     "execution_count": 22,
     "metadata": {},
     "output_type": "execute_result"
    }
   ],
   "source": [
    "# single level grouping by gender\n",
    "{\n",
    "    \"F\": [ 'patient1', 'patient2'],\n",
    "    \"M\": [ 'patient3', 'patient4']\n",
    "}"
   ]
  },
  {
   "cell_type": "code",
   "execution_count": 25,
   "metadata": {},
   "outputs": [
    {
     "data": {
      "text/plain": [
       "{'F': {'WHITE': ['patient1', 'patient2'], 'HISPANIC': ['patient3']},\n",
       " 'M': {'WHITE': [], 'HISPANIC': ['patient4', 'patient5']}}"
      ]
     },
     "execution_count": 25,
     "metadata": {},
     "output_type": "execute_result"
    }
   ],
   "source": [
    "# multi level grouping by gender and race\n",
    "{\n",
    "    \"F\": {\n",
    "        \"WHITE\": ['patient1', 'patient2'],\n",
    "        \"HISPANIC\": ['patient3'] \n",
    "    },\n",
    "    \"M\": {\n",
    "        \"WHITE\": [],\n",
    "        \"HISPANIC\": ['patient4', 'patient5']\n",
    "    }\n",
    "}"
   ]
  },
  {
   "cell_type": "code",
   "execution_count": 26,
   "metadata": {},
   "outputs": [],
   "source": [
    "def group_file(file_name, groupby):\n",
    "    with open(file_name) as f:\n",
    "        reader = csv.DictReader(f)\n",
    "        return group(reader, groupby)\n",
    "    \n",
    "def group(iterable, groupby):\n",
    "    grouped_data = {}\n",
    "    for item in iterable:\n",
    "        attribute = item[groupby].upper()\n",
    "        if attribute not in grouped_data:\n",
    "            grouped_data[attribute] = []\n",
    "        grouped_data[attribute].append(item)\n",
    "    return grouped_data"
   ]
  },
  {
   "cell_type": "code",
   "execution_count": 27,
   "metadata": {},
   "outputs": [
    {
     "name": "stdout",
     "output_type": "stream",
     "text": [
      "OrderedDict([('Id', 'c09181f8-6526-4de7-87c7-25c95ccdbdea'),\n",
      "             ('BIRTHDATE', '2014-06-06'),\n",
      "             ('DEATHDATE', ''),\n",
      "             ('SSN', '999-26-1662'),\n",
      "             ('DRIVERS', ''),\n",
      "             ('PASSPORT', ''),\n",
      "             ('PREFIX', ''),\n",
      "             ('FIRST', 'Lizbeth716'),\n",
      "             ('LAST', 'Hackett68'),\n",
      "             ('SUFFIX', ''),\n",
      "             ('MAIDEN', ''),\n",
      "             ('MARITAL', ''),\n",
      "             ('RACE', 'white'),\n",
      "             ('ETHNICITY', 'irish'),\n",
      "             ('GENDER', 'F'),\n",
      "             ('BIRTHPLACE', 'Denver  Pennsylvania  US'),\n",
      "             ('ADDRESS', '742 Parisian Run Suite 87'),\n",
      "             ('CITY', 'Pittsburgh'),\n",
      "             ('STATE', 'Pennsylvania'),\n",
      "             ('ZIP', '15106')])\n"
     ]
    }
   ],
   "source": [
    "patients_by_gender = group_file('../data/csv/patients.csv', 'GENDER')\n",
    "pprint(patients_by_gender['F'][0])"
   ]
  },
  {
   "cell_type": "code",
   "execution_count": 29,
   "metadata": {},
   "outputs": [
    {
     "name": "stdout",
     "output_type": "stream",
     "text": [
      "{'F': {}, 'M': {}}\n"
     ]
    }
   ],
   "source": [
    "# patients by gender and race\n",
    "# here we'll use a dictionary to represent the 2nd level\n",
    "patients_by_gender_and_race = group_file('../data/csv/patients.csv', 'GENDER')\n",
    "for gender in patients_by_gender_and_race.keys():\n",
    "    patients_by_gender_and_race[gender] = {}\n",
    "pprint(patients_by_gender_and_race)"
   ]
  },
  {
   "cell_type": "code",
   "execution_count": 33,
   "metadata": {},
   "outputs": [],
   "source": [
    "# now let's perform the groupings\n",
    "patients_by_gender_and_race = group_file('../data/csv/patients.csv', 'GENDER')\n",
    "# print(patients_by_gender_and_race)\n",
    "for gender in patients_by_gender.keys():\n",
    "    patients_by_gender_and_race[gender] = group(patients_by_gender[gender], 'RACE')"
   ]
  },
  {
   "cell_type": "code",
   "execution_count": 35,
   "metadata": {},
   "outputs": [
    {
     "name": "stdout",
     "output_type": "stream",
     "text": [
      "F WHITE\n",
      "F ASIAN\n",
      "F BLACK\n",
      "M ASIAN\n",
      "M WHITE\n"
     ]
    }
   ],
   "source": [
    "# finally let's print the unique genders and races\n",
    "for gender in patients_by_gender_and_race.keys():\n",
    "    for race in patients_by_gender_and_race[gender].keys():\n",
    "        print(gender, race)"
   ]
  },
  {
   "cell_type": "code",
   "execution_count": 37,
   "metadata": {},
   "outputs": [
    {
     "name": "stdout",
     "output_type": "stream",
     "text": [
      "{'M', 'F'} {'white', 'black', 'asian'}\n"
     ]
    }
   ],
   "source": [
    "# as a sanity check let's look over the dataset again\n",
    "gender = set()\n",
    "race = set()\n",
    "\n",
    "with open('../data/csv/patients.csv') as f:\n",
    "    reader = csv.DictReader(f)\n",
    "    for row in reader:\n",
    "        gender.add(row['GENDER'])\n",
    "        race.add(row['RACE'])    \n",
    "print(gender, race)"
   ]
  },
  {
   "cell_type": "code",
   "execution_count": 41,
   "metadata": {},
   "outputs": [],
   "source": [
    "# what about 3 levels of grouping?\n",
    "grouped_patients = group_file('../data/csv/patients.csv', 'GENDER')\n",
    "for gender in grouped_patients.keys():\n",
    "    grouped_patients[gender] = group(grouped_patients[gender], 'RACE')\n",
    "    for race in grouped_patients[gender].keys():\n",
    "        grouped_patients[gender][race] = group(grouped_patients[gender][race], 'ETHNICITY')\n",
    "        \n",
    "# print(grouped_patients)"
   ]
  },
  {
   "cell_type": "code",
   "execution_count": 42,
   "metadata": {},
   "outputs": [
    {
     "name": "stdout",
     "output_type": "stream",
     "text": [
      "F WHITE IRISH\n",
      "F WHITE AMERICAN\n",
      "F WHITE GERMAN\n",
      "F WHITE ITALIAN\n",
      "F WHITE SCOTTISH\n",
      "F ASIAN ASIAN_INDIAN\n",
      "F BLACK DOMINICAN\n",
      "M ASIAN CHINESE\n",
      "M WHITE ITALIAN\n"
     ]
    }
   ],
   "source": [
    "# let's print the unique genders and races\n",
    "for gender in grouped_patients.keys():\n",
    "    for race in grouped_patients[gender].keys():\n",
    "        for ethnicity in grouped_patients[gender][race].keys():\n",
    "            print(gender, race, ethnicity)"
   ]
  },
  {
   "cell_type": "markdown",
   "metadata": {},
   "source": [
    "## What about 4 levels of grouping?\n",
    "\n",
    "I think we should refactor again. This time using [recursion](https://realpython.com/python-thinking-recursively/). This time we'll support any number of groupings."
   ]
  },
  {
   "cell_type": "code",
   "execution_count": 43,
   "metadata": {},
   "outputs": [],
   "source": [
    "def group_file_by_list(file_name, groupings):\n",
    "    with open(file_name) as f:\n",
    "        reader = csv.DictReader(f)\n",
    "        grouped_data = group(reader, groupings[0])\n",
    "        if len(groupings) > 1:\n",
    "            group_by_list(grouped_data.keys(), grouped_data, groupings[1:])\n",
    "        return grouped_data\n",
    "    \n",
    "def group_by_list(iterable, grouped_data, groupings):\n",
    "    for item in iterable:\n",
    "        grouped_data[item] = group(grouped_data[item], groupings[0])\n",
    "        if len(groupings) > 1:\n",
    "            group_by_list(grouped_data[item].keys(), grouped_data[item], groupings[1:])\n",
    "    return grouped_data"
   ]
  },
  {
   "cell_type": "code",
   "execution_count": 44,
   "metadata": {},
   "outputs": [],
   "source": [
    "groupings = ['GENDER', 'RACE', 'ETHNICITY']\n",
    "grouped_patients = group_file_by_list('../data/csv/patients.csv', groupings)"
   ]
  },
  {
   "cell_type": "code",
   "execution_count": 46,
   "metadata": {},
   "outputs": [
    {
     "name": "stdout",
     "output_type": "stream",
     "text": [
      "F WHITE IRISH\n",
      "F WHITE AMERICAN\n",
      "F WHITE GERMAN\n",
      "F WHITE ITALIAN\n",
      "F WHITE SCOTTISH\n",
      "F ASIAN ASIAN_INDIAN\n",
      "F BLACK DOMINICAN\n",
      "M ASIAN CHINESE\n",
      "M WHITE ITALIAN\n"
     ]
    }
   ],
   "source": [
    "for gender in grouped_patients.keys():\n",
    "    for race in grouped_patients[gender].keys():\n",
    "        for ethnicity in grouped_patients[gender][race].keys():\n",
    "            print(gender, race, ethnicity)"
   ]
  },
  {
   "cell_type": "code",
   "execution_count": 47,
   "metadata": {},
   "outputs": [
    {
     "name": "stdout",
     "output_type": "stream",
     "text": [
      "F WHITE IRISH\n",
      "F WHITE AMERICAN\n",
      "F WHITE GERMAN\n",
      "F WHITE ITALIAN\n",
      "F WHITE SCOTTISH\n",
      "F ASIAN ASIAN_INDIAN\n",
      "F BLACK DOMINICAN\n",
      "M ASIAN CHINESE\n",
      "M WHITE ITALIAN\n"
     ]
    }
   ],
   "source": [
    "# let's create a recursive print\n",
    "def print_keys(d):\n",
    "    for k, v in d.items():\n",
    "        print_keys2(v, [k])\n",
    "\n",
    "def print_keys2(d, l):\n",
    "    if isinstance(d, dict):\n",
    "        for k, v in d.items():\n",
    "            print_keys2(v, l + [k])\n",
    "    else:\n",
    "        print(' '.join(l))\n",
    "        l = []\n",
    "    \n",
    "print_keys(grouped_patients)"
   ]
  },
  {
   "cell_type": "code",
   "execution_count": 423,
   "metadata": {
    "collapsed": true
   },
   "outputs": [],
   "source": [
    "# lets try it out on a few examples"
   ]
  },
  {
   "cell_type": "code",
   "execution_count": 48,
   "metadata": {},
   "outputs": [
    {
     "name": "stdout",
     "output_type": "stream",
     "text": [
      "F\n",
      "M\n"
     ]
    }
   ],
   "source": [
    "grouped_patients = group_file_by_list('../data/csv/patients.csv', ['GENDER'])\n",
    "print_keys(grouped_patients)"
   ]
  },
  {
   "cell_type": "code",
   "execution_count": 49,
   "metadata": {},
   "outputs": [
    {
     "name": "stdout",
     "output_type": "stream",
     "text": [
      "WHITE\n",
      "ASIAN\n",
      "BLACK\n"
     ]
    }
   ],
   "source": [
    "grouped_patients = group_file_by_list('../data/csv/patients.csv', ['RACE'])\n",
    "print_keys(grouped_patients)"
   ]
  },
  {
   "cell_type": "code",
   "execution_count": 50,
   "metadata": {},
   "outputs": [
    {
     "name": "stdout",
     "output_type": "stream",
     "text": [
      "F WHITE\n",
      "F ASIAN\n",
      "F BLACK\n",
      "M ASIAN\n",
      "M WHITE\n"
     ]
    }
   ],
   "source": [
    "grouped_patients = group_file_by_list('../data/csv/patients.csv', ['GENDER', 'RACE'])\n",
    "print_keys(grouped_patients)"
   ]
  },
  {
   "cell_type": "code",
   "execution_count": 51,
   "metadata": {},
   "outputs": [
    {
     "name": "stdout",
     "output_type": "stream",
     "text": [
      "WHITE F\n",
      "WHITE M\n",
      "ASIAN F\n",
      "ASIAN M\n",
      "BLACK F\n"
     ]
    }
   ],
   "source": [
    "grouped_patients = group_file_by_list('../data/csv/patients.csv', ['RACE', 'GENDER'])\n",
    "print_keys(grouped_patients)"
   ]
  },
  {
   "cell_type": "code",
   "execution_count": 52,
   "metadata": {},
   "outputs": [
    {
     "name": "stdout",
     "output_type": "stream",
     "text": [
      "IRISH\n",
      "ASIAN_INDIAN\n",
      "CHINESE\n",
      "AMERICAN\n",
      "DOMINICAN\n",
      "GERMAN\n",
      "ITALIAN\n",
      "SCOTTISH\n"
     ]
    }
   ],
   "source": [
    "grouped_patients = group_file_by_list('../data/csv/patients.csv', ['ETHNICITY'])\n",
    "print_keys(grouped_patients)"
   ]
  },
  {
   "cell_type": "code",
   "execution_count": 53,
   "metadata": {},
   "outputs": [
    {
     "name": "stdout",
     "output_type": "stream",
     "text": [
      "WHITE IRISH\n",
      "WHITE AMERICAN\n",
      "WHITE GERMAN\n",
      "WHITE ITALIAN\n",
      "WHITE SCOTTISH\n",
      "ASIAN ASIAN_INDIAN\n",
      "ASIAN CHINESE\n",
      "BLACK DOMINICAN\n"
     ]
    }
   ],
   "source": [
    "grouped_patients = group_file_by_list('../data/csv/patients.csv', ['RACE', 'ETHNICITY'])\n",
    "print_keys(grouped_patients)"
   ]
  },
  {
   "cell_type": "code",
   "execution_count": 54,
   "metadata": {},
   "outputs": [
    {
     "name": "stdout",
     "output_type": "stream",
     "text": [
      "WHITE IRISH DENVER  PENNSYLVANIA  US F\n",
      "WHITE IRISH EAST EARLSHIP  PENNSYLVANIA  US F\n",
      "WHITE AMERICAN READINGSHIP  PENNSYLVANIA  US F\n",
      "WHITE GERMAN BROWNSVILLE  PENNSYLVANIA  US F\n",
      "WHITE ITALIAN UPPER ALLENSHIP  PENNSYLVANIA  US F\n",
      "WHITE ITALIAN BIRDSBORO  PENNSYLVANIA  US M\n",
      "WHITE SCOTTISH LEHMANSHIP  PENNSYLVANIA  US F\n",
      "ASIAN ASIAN_INDIAN UNITYSHIP  PENNSYLVANIA  US F\n",
      "ASIAN CHINESE MACAU  MACAO SPECIAL ADMINISTRATIVE REGION OF THE PEOPLE'S REPUBLIC OF CHINA  CN M\n",
      "BLACK DOMINICAN PHILADELPHIA  PENNSYLVANIA  US F\n"
     ]
    }
   ],
   "source": [
    "grouped_patients = group_file_by_list('../data/csv/patients.csv', ['RACE', 'ETHNICITY', 'BIRTHPLACE', 'GENDER'])\n",
    "print_keys(grouped_patients)"
   ]
  },
  {
   "cell_type": "code",
   "execution_count": null,
   "metadata": {
    "collapsed": true
   },
   "outputs": [],
   "source": []
  }
 ],
 "metadata": {
  "kernelspec": {
   "display_name": "Python 3",
   "language": "python",
   "name": "python3"
  },
  "language_info": {
   "codemirror_mode": {
    "name": "ipython",
    "version": 3
   },
   "file_extension": ".py",
   "mimetype": "text/x-python",
   "name": "python",
   "nbconvert_exporter": "python",
   "pygments_lexer": "ipython3",
   "version": "3.6.8"
  }
 },
 "nbformat": 4,
 "nbformat_minor": 2
}
