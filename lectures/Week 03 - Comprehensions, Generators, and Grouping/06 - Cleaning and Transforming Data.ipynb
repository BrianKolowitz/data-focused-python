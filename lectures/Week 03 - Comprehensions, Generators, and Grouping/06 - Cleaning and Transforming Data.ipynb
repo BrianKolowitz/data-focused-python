{
 "cells": [
  {
   "cell_type": "code",
   "execution_count": 1,
   "metadata": {},
   "outputs": [],
   "source": [
    "import csv\n",
    "import json\n",
    "from pprint import pprint"
   ]
  },
  {
   "cell_type": "code",
   "execution_count": 5,
   "metadata": {},
   "outputs": [
    {
     "name": "stdout",
     "output_type": "stream",
     "text": [
      "['Id', 'BIRTHDATE', 'DEATHDATE', 'SSN', 'DRIVERS', 'PASSPORT', 'PREFIX', 'FIRST', 'LAST', 'SUFFIX', 'MAIDEN', 'MARITAL', 'RACE', 'ETHNICITY', 'GENDER', 'BIRTHPLACE', 'ADDRESS', 'CITY', 'STATE', 'ZIP']\n",
      "['c09181f8-6526-4de7-87c7-25c95ccdbdea', '2014-06-06', '', '999-26-1662', '', '', '', 'Lizbeth716', 'Hackett68', '', '', '', 'white', 'irish', 'F', 'Denver  Pennsylvania  US', '742 Parisian Run Suite 87', 'Pittsburgh', 'Pennsylvania', '15106']\n"
     ]
    }
   ],
   "source": [
    "with open('../data/csv/patients.csv') as f:\n",
    "    reader = csv.reader(f)\n",
    "    header = next(reader, None)\n",
    "    rows = [row for row in reader]\n",
    "\n",
    "print(header)\n",
    "print(rows[0])"
   ]
  },
  {
   "cell_type": "code",
   "execution_count": 40,
   "metadata": {},
   "outputs": [],
   "source": [
    "import datetime\n",
    "from datetime import date, timedelta\n",
    "from dateutil import parser\n",
    "\n",
    "def get_age(birth_date):\n",
    "    if isinstance(birth_date, str):\n",
    "        birth_date = parser.parse(birth_date).date()\n",
    "\n",
    "    age = (date.today()  - birth_date) // timedelta(days=365)\n",
    "    return age"
   ]
  },
  {
   "cell_type": "code",
   "execution_count": 27,
   "metadata": {},
   "outputs": [
    {
     "data": {
      "text/plain": [
       "datetime.date(2019, 6, 6)"
      ]
     },
     "execution_count": 27,
     "metadata": {},
     "output_type": "execute_result"
    }
   ],
   "source": [
    "date.today()"
   ]
  },
  {
   "cell_type": "code",
   "execution_count": 29,
   "metadata": {},
   "outputs": [
    {
     "data": {
      "text/plain": [
       "datetime.datetime(2019, 6, 6, 19, 56, 20, 846787)"
      ]
     },
     "execution_count": 29,
     "metadata": {},
     "output_type": "execute_result"
    }
   ],
   "source": [
    "datetime.datetime.now()"
   ]
  },
  {
   "cell_type": "code",
   "execution_count": 30,
   "metadata": {},
   "outputs": [
    {
     "name": "stdout",
     "output_type": "stream",
     "text": [
      "7\n"
     ]
    }
   ],
   "source": [
    "print(get_age('2011-09-10'))"
   ]
  },
  {
   "cell_type": "code",
   "execution_count": 31,
   "metadata": {},
   "outputs": [
    {
     "name": "stdout",
     "output_type": "stream",
     "text": [
      "5\n"
     ]
    }
   ],
   "source": [
    "print(get_age('2014-01-10'))"
   ]
  },
  {
   "cell_type": "code",
   "execution_count": 32,
   "metadata": {},
   "outputs": [
    {
     "name": "stdout",
     "output_type": "stream",
     "text": [
      "[4, 50, 50, 41, 63, 52, 28, 72, 23, 31]\n"
     ]
    }
   ],
   "source": [
    "ages = [get_age(row[1]) for row in rows]\n",
    "print(ages)"
   ]
  },
  {
   "cell_type": "code",
   "execution_count": 41,
   "metadata": {},
   "outputs": [
    {
     "name": "stdout",
     "output_type": "stream",
     "text": [
      "[{'age': 5, 'birth_date': '2014-06-06'},\n",
      " {'age': 50, 'birth_date': '1969-05-10'},\n",
      " {'age': 50, 'birth_date': '1969-05-30'},\n",
      " {'age': 41, 'birth_date': '1978-02-04'},\n",
      " {'age': 63, 'birth_date': '1955-11-01'},\n",
      " {'age': 52, 'birth_date': '1966-10-13'},\n",
      " {'age': 28, 'birth_date': '1990-08-20'},\n",
      " {'age': 72, 'birth_date': '1947-01-31'},\n",
      " {'age': 23, 'birth_date': '1995-07-03'},\n",
      " {'age': 31, 'birth_date': '1987-10-01'}]\n"
     ]
    }
   ],
   "source": [
    "patients = [ {'birth_date': row[1], 'age': get_age(row[1])} for row in rows ]\n",
    "pprint(patients)"
   ]
  },
  {
   "cell_type": "code",
   "execution_count": 42,
   "metadata": {},
   "outputs": [
    {
     "name": "stdout",
     "output_type": "stream",
     "text": [
      "[{'age': 50, 'birth_date': '1969-05-10'},\n",
      " {'age': 50, 'birth_date': '1969-05-30'},\n",
      " {'age': 41, 'birth_date': '1978-02-04'},\n",
      " {'age': 63, 'birth_date': '1955-11-01'},\n",
      " {'age': 52, 'birth_date': '1966-10-13'},\n",
      " {'age': 28, 'birth_date': '1990-08-20'},\n",
      " {'age': 72, 'birth_date': '1947-01-31'},\n",
      " {'age': 23, 'birth_date': '1995-07-03'},\n",
      " {'age': 31, 'birth_date': '1987-10-01'}]\n"
     ]
    }
   ],
   "source": [
    "# filtering based on age\n",
    "min_age = 18\n",
    "max_age = 79\n",
    "patients = [ {'birth_date': row[1], 'age': get_age(row[1])} \n",
    "            for row in rows if get_age(row[1]) >= min_age and get_age(row[1]) <= max_age ]\n",
    "pprint(patients)"
   ]
  },
  {
   "cell_type": "code",
   "execution_count": 43,
   "metadata": {},
   "outputs": [],
   "source": [
    "# another way to do it, add the age to the end\n",
    "for row in rows:\n",
    "    row.append(get_age(row[1]))"
   ]
  },
  {
   "cell_type": "code",
   "execution_count": 44,
   "metadata": {},
   "outputs": [
    {
     "name": "stdout",
     "output_type": "stream",
     "text": [
      "['c09181f8-6526-4de7-87c7-25c95ccdbdea', '2014-06-06', '', '999-26-1662', '', '', '', 'Lizbeth716', 'Hackett68', '', '', '', 'white', 'irish', 'F', 'Denver  Pennsylvania  US', '742 Parisian Run Suite 87', 'Pittsburgh', 'Pennsylvania', '15106', 5]\n"
     ]
    }
   ],
   "source": [
    "print(rows[0])"
   ]
  },
  {
   "cell_type": "code",
   "execution_count": 45,
   "metadata": {},
   "outputs": [
    {
     "name": "stdout",
     "output_type": "stream",
     "text": [
      "[{'age': 50, 'birth_date': '1969-05-10'},\n",
      " {'age': 50, 'birth_date': '1969-05-30'},\n",
      " {'age': 41, 'birth_date': '1978-02-04'},\n",
      " {'age': 63, 'birth_date': '1955-11-01'},\n",
      " {'age': 52, 'birth_date': '1966-10-13'},\n",
      " {'age': 28, 'birth_date': '1990-08-20'},\n",
      " {'age': 72, 'birth_date': '1947-01-31'},\n",
      " {'age': 23, 'birth_date': '1995-07-03'},\n",
      " {'age': 31, 'birth_date': '1987-10-01'}]\n"
     ]
    }
   ],
   "source": [
    "min_age = 18\n",
    "max_age = 79\n",
    "patients = [ {'birth_date': row[1], 'age': row[20]} \n",
    "            for row in rows if row[20] >= min_age and row[20] <= max_age ]\n",
    "pprint(patients)"
   ]
  },
  {
   "cell_type": "code",
   "execution_count": 46,
   "metadata": {},
   "outputs": [],
   "source": [
    "# deidentify the name\n",
    "import random\n",
    "\n",
    "def fake_name_generator():\n",
    "    fake_names = \\\n",
    "\"\"\"Veronique Tippetts\n",
    "Sarah Santiago\n",
    "Eustolia Bushard\n",
    "Emanuel Riker\n",
    "Maybelle Denney\n",
    "Lilia Gobel\n",
    "Clarine Vandermeer\n",
    "Felicidad Joynes\n",
    "Rod Pixley\n",
    "Rashad Fukushima\n",
    "Marci Bakley\n",
    "Melvina Cichon\n",
    "Susy Sibert\n",
    "Oma Hoskins\n",
    "Lance Curnutte\n",
    "Mei Wooldridge\n",
    "Jillian Mccroy\n",
    "Darby Castellon\n",
    "Raul Pickney\n",
    "Loni Kaur\"\"\".split('\\n')\n",
    "    return random.choice(fake_names).strip()"
   ]
  },
  {
   "cell_type": "code",
   "execution_count": 47,
   "metadata": {},
   "outputs": [
    {
     "name": "stdout",
     "output_type": "stream",
     "text": [
      "Lilia Gobel\n",
      "Emanuel Riker\n",
      "Clarine Vandermeer\n"
     ]
    }
   ],
   "source": [
    "print(fake_name_generator())\n",
    "print(fake_name_generator())\n",
    "print(fake_name_generator())"
   ]
  },
  {
   "cell_type": "code",
   "execution_count": 50,
   "metadata": {},
   "outputs": [],
   "source": [
    "# don't reuse names\n",
    "fake_names = \\\n",
    "\"\"\"Veronique Tippetts\n",
    "Sarah Santiago\n",
    "Eustolia Bushard\n",
    "Emanuel Riker\n",
    "Maybelle Denney\n",
    "Lilia Gobel\n",
    "Clarine Vandermeer\n",
    "Felicidad Joynes\n",
    "Rod Pixley\n",
    "Rashad Fukushima\n",
    "Marci Bakley\n",
    "Melvina Cichon\n",
    "Susy Sibert\n",
    "Oma Hoskins\n",
    "Lance Curnutte\n",
    "Mei Wooldridge\n",
    "Jillian Mccroy\n",
    "Darby Castellon\n",
    "Raul Pickney\n",
    "Loni Kaur\"\"\".split('\\n')\n",
    "    \n",
    "def get_fake_name():\n",
    "    if len(fake_names) == 0:\n",
    "        return None\n",
    "    r = random.randint(0, len(fake_names) - 1)\n",
    "    n = fake_names[r].strip()\n",
    "    del fake_names[r]\n",
    "    return n"
   ]
  },
  {
   "cell_type": "code",
   "execution_count": 49,
   "metadata": {},
   "outputs": [
    {
     "name": "stdout",
     "output_type": "stream",
     "text": [
      "Melvina Cichon\n",
      "Marci Bakley\n",
      "Raul Pickney\n",
      "Maybelle Denney\n",
      "Lilia Gobel\n",
      "Loni Kaur\n",
      "Felicidad Joynes\n",
      "Susy Sibert\n",
      "Rod Pixley\n",
      "Oma Hoskins\n",
      "Jillian Mccroy\n",
      "Eustolia Bushard\n",
      "Lance Curnutte\n",
      "Clarine Vandermeer\n",
      "Veronique Tippetts\n",
      "Sarah Santiago\n",
      "Mei Wooldridge\n",
      "Rashad Fukushima\n",
      "Darby Castellon\n",
      "Emanuel Riker\n",
      "None\n"
     ]
    }
   ],
   "source": [
    "for i in range(21):\n",
    "    print(get_fake_name())"
   ]
  },
  {
   "cell_type": "code",
   "execution_count": 52,
   "metadata": {},
   "outputs": [
    {
     "name": "stdout",
     "output_type": "stream",
     "text": [
      "[{'age': 50, 'birth_date': '1969-05-10', 'name': 'Oma Hoskins'},\n",
      " {'age': 50, 'birth_date': '1969-05-30', 'name': 'Clarine Vandermeer'},\n",
      " {'age': 41, 'birth_date': '1978-02-04', 'name': 'Darby Castellon'},\n",
      " {'age': 63, 'birth_date': '1955-11-01', 'name': 'Loni Kaur'},\n",
      " {'age': 52, 'birth_date': '1966-10-13', 'name': 'Rod Pixley'},\n",
      " {'age': 28, 'birth_date': '1990-08-20', 'name': 'Jillian Mccroy'},\n",
      " {'age': 72, 'birth_date': '1947-01-31', 'name': 'Raul Pickney'},\n",
      " {'age': 23, 'birth_date': '1995-07-03', 'name': 'Felicidad Joynes'},\n",
      " {'age': 31, 'birth_date': '1987-10-01', 'name': 'Marci Bakley'}]\n"
     ]
    }
   ],
   "source": [
    "min_age = 18\n",
    "max_age = 79\n",
    "patients = [ {'birth_date': row[1], 'age': row[20], 'name': get_fake_name() } \n",
    "            for row in rows if row[20] >= min_age and row[20] <= max_age ]\n",
    "pprint(patients)"
   ]
  },
  {
   "cell_type": "code",
   "execution_count": null,
   "metadata": {
    "collapsed": true
   },
   "outputs": [],
   "source": []
  }
 ],
 "metadata": {
  "kernelspec": {
   "display_name": "Python 3",
   "language": "python",
   "name": "python3"
  },
  "language_info": {
   "codemirror_mode": {
    "name": "ipython",
    "version": 3
   },
   "file_extension": ".py",
   "mimetype": "text/x-python",
   "name": "python",
   "nbconvert_exporter": "python",
   "pygments_lexer": "ipython3",
   "version": "3.6.8"
  }
 },
 "nbformat": 4,
 "nbformat_minor": 2
}
