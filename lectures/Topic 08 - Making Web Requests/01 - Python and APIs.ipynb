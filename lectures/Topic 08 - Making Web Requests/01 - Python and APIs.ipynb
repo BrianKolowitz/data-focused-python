{
 "cells": [
  {
   "cell_type": "markdown",
   "id": "bfb4875b",
   "metadata": {},
   "source": [
    "# Python & APIs: A Winning Combo for Reading Public Data\n",
    "\n",
    "[Source](https://realpython.com/python-api/)"
   ]
  },
  {
   "cell_type": "markdown",
   "id": "70b5a837",
   "metadata": {},
   "source": [
    "Knowing how to consume an API is one of those magical skills that, once mastered, will crack open a whole new world of possibilities, and consuming APIs using Python is a great way to learn such a skill."
   ]
  },
  {
   "cell_type": "markdown",
   "id": "c0d4e894",
   "metadata": {},
   "source": [
    "A lot of apps and systems you use on a daily basis are connected to an API. From very simple and mundane things, like checking the weather in the morning, to more addictive and time-consuming actions, such as scrolling through your Instagram, TikTok, or Twitter feed, APIs play a central role."
   ]
  },
  {
   "cell_type": "markdown",
   "id": "4b152a5e",
   "metadata": {},
   "source": [
    "In this tutorial, you’ll learn:\n",
    "\n",
    "* What an API is\n",
    "* How you can consume APIs with your Python code\n",
    "* What the most important API-related concepts are\n",
    "* How to use Python to read data available through public APIs"
   ]
  },
  {
   "cell_type": "markdown",
   "id": "c15c686e",
   "metadata": {},
   "source": [
    "By the end of this tutorial, you’ll be able to use Python to consume most APIs you come across. If you’re a developer, knowing how to consume APIs with Python will make you much more proficient, especially when it comes to integrating your work with third-party applications.\n",
    "\n",
    "> Note: This tutorial is focused on how to consume APIs using Python, not how to build them. For information on building an API with Python, check out [Python REST APIs With Flask, Connexion, and SQLAlchemy](https://realpython.com/flask-connexion-rest-api/)."
   ]
  },
  {
   "cell_type": "markdown",
   "id": "5a1d69fa",
   "metadata": {},
   "source": [
    "## Getting to Know APIs\n",
    "\n",
    "API stands for application programming interface. In essence, an API acts as a communication layer, or as the name says, an interface, that allows different systems to talk to each other without having to understand exactly what each other does."
   ]
  },
  {
   "cell_type": "markdown",
   "id": "5b17a738",
   "metadata": {},
   "source": [
    "APIs can come in many forms or shapes. They can be operating system APIs, used for actions like turning on your camera and audio for joining a Zoom call. Or they can be web APIs, used for web-focused actions such as liking images on your Instagram or fetching the latest tweets."
   ]
  },
  {
   "cell_type": "markdown",
   "id": "eb00f40b",
   "metadata": {},
   "source": [
    "No matter the type, all APIs function mostly the same way. You usually make a request for information or data, and the API returns a response with what you requested. For example, every time you open Twitter or scroll down your Instagram feed, you’re basically making a request to the API behind that app and getting a response in return. This is also known as calling an API."
   ]
  },
  {
   "cell_type": "markdown",
   "id": "e23633ce",
   "metadata": {},
   "source": [
    "In this tutorial you’ll focus more on the high-level APIs that communicate across networks, also called web APIs."
   ]
  },
  {
   "cell_type": "markdown",
   "id": "7ebdaaf5",
   "metadata": {},
   "source": [
    "### SOAP vs REST vs GraphQL\n",
    "\n",
    "Even though some of the examples mentioned above are geared toward newer platforms or apps, web APIs have been around for quite a long time. In the late 1990s and early 2000s, two different design models became the norm in exposing data publicly:\n",
    "\n",
    "* **SOAP (Simple Object Access Protocol)** is typically associated with the enterprise world, has a stricter contract-based usage, and is mostly designed around actions.\n",
    "* **REST (Representational State Transfer)** is typically used for public APIs and is ideal for fetching data from the web. It’s much lighter and closer to the HTTP specification than SOAP.\n",
    "\n",
    "Nowadays, there’s a new kid in town: [GraphQL](https://graphql.org/). Created by Facebook, GraphQL is a very flexible query language for APIs, where the clients decide exactly what they want to fetch from the server instead of the server deciding what to send."
   ]
  },
  {
   "cell_type": "markdown",
   "id": "ad1eab5d",
   "metadata": {},
   "source": [
    "If you want to learn more about the differences between these three design models, then here are a few good resources:\n",
    "\n",
    "* [What is SOAP?](https://www.altexsoft.com/blog/engineering/what-is-soap-formats-protocols-message-structure-and-how-soap-is-different-from-rest/)\n",
    "* [What is REST?](https://restfulapi.net/)\n",
    "* [API 101: SOAP vs. REST](https://blog.postman.com/soap-vs-rest/)\n",
    "* [Introduction to GraphQL](https://graphql.org/learn/)\n",
    "* [Comparing API Architectural Styles: SOAP vs REST vs GraphQL vs RPC](https://www.altexsoft.com/blog/soap-vs-rest-vs-graphql-vs-rpc/)"
   ]
  },
  {
   "cell_type": "markdown",
   "id": "3dcf9b4f",
   "metadata": {},
   "source": [
    "Even though GraphQL is on the rise and is being adopted by bigger and bigger companies, including GitHub and Shopify, the truth is that the majority of public APIs are still REST APIs. Therefore, for the purpose of this tutorial, you’ll learn only about REST APIs and how to consume them using Python."
   ]
  },
  {
   "cell_type": "markdown",
   "id": "a2600b6a",
   "metadata": {},
   "source": [
    "### requests and APIs: A Match Made in Heaven\n",
    "\n",
    "When consuming APIs with Python, there’s only one library you need: requests. With it, you should be able to do most, if not all, of the actions required to consume any public API.\n",
    "\n",
    "You can install requests by running the following command in your console:\n",
    "\n",
    "```python\n",
    "$ python -m pip install requests\n",
    "```\n",
    "\n",
    "To follow the code examples in this tutorial, make sure you’re using Python 3.8.1 and requests 2.24.0 or higher."
   ]
  },
  {
   "cell_type": "markdown",
   "id": "15231b57",
   "metadata": {},
   "source": [
    "## Calling Your First API Using Python\n",
    "\n",
    "Enough talking—it’s time to make your first API call! For the first example, you’ll be calling a popular API for generating [random user data](https://randomuser.me/)."
   ]
  },
  {
   "cell_type": "markdown",
   "id": "094382cd",
   "metadata": {},
   "source": [
    "Throughout the tutorial, you’ll see new APIs introduced in alert blocks like the one below. It’s a convenient way for you to scroll through afterward and quickly spot all the new APIs you learned about.\n",
    "\n",
    "> Random User Generator API: This is a great tool for [generating random user data](https://randomuser.me/). You can use it to generate any number of random users and associated data, and you can also specify gender, nationality, and many other filters that can be really helpful when testing apps or, in this case, APIs."
   ]
  },
  {
   "cell_type": "markdown",
   "id": "f4bef413",
   "metadata": {},
   "source": [
    "The only thing you need to start with the Random User Generator API is to know which URL to call it with. For this example, the URL to use is `https://randomuser.me/api/`, and this is the tiniest API call you can make:"
   ]
  },
  {
   "cell_type": "code",
   "execution_count": 1,
   "id": "3c3695fe",
   "metadata": {},
   "outputs": [
    {
     "data": {
      "text/plain": [
       "<Response [200]>"
      ]
     },
     "execution_count": 1,
     "metadata": {},
     "output_type": "execute_result"
    }
   ],
   "source": [
    "import requests\n",
    "requests.get(\"https://randomuser.me/api/\")"
   ]
  },
  {
   "cell_type": "markdown",
   "id": "a21dda63",
   "metadata": {},
   "source": [
    "<Response [200]>\n",
    "In this small example, you import the requests library and then fetch (or get) data from the URL for the Random User Generator API. But you don’t actually see any of the data returned. What you get instead is a Response [200], which in API terms means everything went OK."
   ]
  },
  {
   "cell_type": "markdown",
   "id": "04f05d6f",
   "metadata": {},
   "source": [
    "If you want to see the actual data, then you can use .text from the returned Response object:"
   ]
  },
  {
   "cell_type": "code",
   "execution_count": 3,
   "id": "098e9bd8",
   "metadata": {},
   "outputs": [
    {
     "data": {
      "text/plain": [
       "'{\"results\":[{\"gender\":\"male\",\"name\":{\"title\":\"Mr\",\"first\":\"Kadir\",\"last\":\"Beşok\"},\"location\":{\"street\":{\"number\":9409,\"name\":\"Fatih Sultan Mehmet Cd\"},\"city\":\"Sivas\",\"state\":\"Kırklareli\",\"country\":\"Turkey\",\"postcode\":18240,\"coordinates\":{\"latitude\":\"71.2646\",\"longitude\":\"-30.1599\"},\"timezone\":{\"offset\":\"+2:00\",\"description\":\"Kaliningrad, South Africa\"}},\"email\":\"kadir.besok@example.com\",\"login\":{\"uuid\":\"738fcb71-91b0-4920-8ff5-61d3aea35a2d\",\"username\":\"whitegoose493\",\"password\":\"xerxes\",\"salt\":\"MhTbKkbs\",\"md5\":\"7bffca4a421eb11fef090a6f6eaf825a\",\"sha1\":\"9aa85d20bb4c2b11e94b8d894faafdc511f234ee\",\"sha256\":\"00830c682e40d5e6aac095b6ab86fbdda805eb0901428de88030b6d52e493535\"},\"dob\":{\"date\":\"1950-07-25T05:25:30.373Z\",\"age\":71},\"registered\":{\"date\":\"2017-06-02T01:02:42.154Z\",\"age\":4},\"phone\":\"(696)-136-1873\",\"cell\":\"(645)-315-9173\",\"id\":{\"name\":\"\",\"value\":null},\"picture\":{\"large\":\"https://randomuser.me/api/portraits/men/22.jpg\",\"medium\":\"https://randomuser.me/api/portraits/med/men/22.jpg\",\"thumbnail\":\"https://randomuser.me/api/portraits/thumb/men/22.jpg\"},\"nat\":\"TR\"}],\"info\":{\"seed\":\"8dc6d2e919bd7b3d\",\"results\":1,\"page\":1,\"version\":\"1.3\"}}'"
      ]
     },
     "execution_count": 3,
     "metadata": {},
     "output_type": "execute_result"
    }
   ],
   "source": [
    "response = requests.get(\"https://randomuser.me/api/\")\n",
    "response.text"
   ]
  },
  {
   "cell_type": "markdown",
   "id": "d9cec290",
   "metadata": {},
   "source": [
    "### Endpoints and Resources\n",
    "\n",
    "As you saw above, the first thing you need to know for consuming an API is the API URL, typically called the base URL. The base URL structure is no different from the URLs you use for browsing Google, YouTube, or Facebook, though it usually contains the word api. This is not mandatory, just more of a rule of thumb."
   ]
  },
  {
   "cell_type": "markdown",
   "id": "bd75f53a",
   "metadata": {},
   "source": [
    "For example, here are the base URLs for a few well-known API players:\n",
    "\n",
    "* https://api.twitter.com\n",
    "* https://api.github.com\n",
    "* https://api.stripe.com"
   ]
  },
  {
   "cell_type": "markdown",
   "id": "647edb1d",
   "metadata": {},
   "source": [
    "As you can see, all of the above start with https://api and include the remaining official domain, such as .twitter.com or .github.com. There’s no specific standard for how the API base URL should look, but it’s quite common for it to mimic this structure."
   ]
  },
  {
   "cell_type": "markdown",
   "id": "de60eb2d",
   "metadata": {},
   "source": [
    "If you try opening any of the above links, then you’ll notice that most of them will return an error or ask for credentials. That’s because APIs sometimes require authentication steps before you can use them. You’ll learn more about this a bit later in the tutorial.\n",
    "\n",
    ">TheDogAPI: This API is quite fun but also a really good example of a well-done API with great [documentation](https://thedogapi.com/). With it, you can fetch the different dog breeds and some images, but if you register, you can also cast votes on your favorite dogs."
   ]
  },
  {
   "cell_type": "markdown",
   "id": "16f6ed44",
   "metadata": {},
   "source": [
    "Next, using the just-introduced [TheDogAPI](https://thedogapi.com/), you’ll try to make a basic request to see how it may differ from the Random User Generator API you tried above:"
   ]
  },
  {
   "cell_type": "code",
   "execution_count": 4,
   "id": "0406574b",
   "metadata": {},
   "outputs": [
    {
     "data": {
      "text/plain": [
       "'{\"message\":\"The Dog API\"}'"
      ]
     },
     "execution_count": 4,
     "metadata": {},
     "output_type": "execute_result"
    }
   ],
   "source": [
    "response = requests.get(\"https://api.thedogapi.com/\")\n",
    "response.text"
   ]
  },
  {
   "cell_type": "markdown",
   "id": "e098d444",
   "metadata": {},
   "source": [
    "In this case, when calling the base URL, you get this generic message saying The Dog API. This is because you’re calling the base URL, which is typically used for very basic information about an API, not the real data."
   ]
  },
  {
   "cell_type": "markdown",
   "id": "63a26ec0",
   "metadata": {},
   "source": [
    "Calling the base URL alone isn’t a lot of fun, but that’s where endpoints come in handy. An endpoint is a part of the URL that specifies what resource you want to fetch. Well-documented APIs usually contain an API reference, which is extremely useful for knowing the exact endpoints and resources an API has and how to use them."
   ]
  },
  {
   "cell_type": "markdown",
   "id": "e486d05a",
   "metadata": {},
   "source": [
    "You can check the [official documentation](https://docs.thedogapi.com/api-reference) to learn more about how to use TheDogAPI and what endpoints are available. In there, you’ll find a [/breeds](https://docs.thedogapi.com/api-reference/breeds/breeds-list) endpoint that you can use to fetch all the available breed resources or objects.\n",
    "\n",
    "If you scroll down, then you’ll find the Send a Test Request section, where you’ll see a form for testing.\n",
    "\n",
    "This is something that you’ll see in many API documentations: a way for you to quickly test the API directly from the documentation page. In this case, you can click Send to quickly get the result of calling that endpoint. Et voilà, you just called an API without having to write any code for it."
   ]
  },
  {
   "cell_type": "markdown",
   "id": "5566797e",
   "metadata": {},
   "source": [
    "Now, give it a try in code locally using the [breeds](https://docs.thedogapi.com/api-reference/breeds/breeds-list) endpoint and some of the API knowledge you already have:"
   ]
  },
  {
   "cell_type": "code",
   "execution_count": 7,
   "id": "3fff0399",
   "metadata": {},
   "outputs": [
    {
     "data": {
      "text/plain": [
       "'[{\"weight\":{\"imperial\":\"6 - 13\",\"metric\":\"3 - 6\"},\"height\":{\"imperial\":\"9 - 11.5\",\"metric\":\"23 - 29\"},\"id\":1,\"name\":\"Affenpinscher\",\"bred_for\":\"Small rodent hunting, lapdog\",\"breed_group\":\"Toy\",\"life_'"
      ]
     },
     "execution_count": 7,
     "metadata": {},
     "output_type": "execute_result"
    }
   ],
   "source": [
    "response = requests.get(\"https://api.thedogapi.com/v1/breeds\")\n",
    "response.text[:200] # sliced for brevity"
   ]
  },
  {
   "cell_type": "markdown",
   "id": "f58e6e57",
   "metadata": {},
   "source": [
    "If you’re a cat person, don’t fret. There’s an API for you, too, with the same endpoint but a different base URL:"
   ]
  },
  {
   "cell_type": "code",
   "execution_count": 8,
   "id": "565062ca",
   "metadata": {},
   "outputs": [
    {
     "data": {
      "text/plain": [
       "'en.wikipedia.org/wiki/York_Chocolate\",\"hypoallergenic\":0,\"reference_image_id\":\"0SxW2SQ_S\",\"image\":{\"id\":\"0SxW2SQ_S\",\"width\":800,\"height\":1203,\"url\":\"https://cdn2.thecatapi.com/images/0SxW2SQ_S.jpg\"}}]'"
      ]
     },
     "execution_count": 8,
     "metadata": {},
     "output_type": "execute_result"
    }
   ],
   "source": [
    "response = requests.get(\"https://api.thecatapi.com/v1/breeds\")\n",
    "response.text[-200:]"
   ]
  },
  {
   "cell_type": "markdown",
   "id": "cdff83bf",
   "metadata": {},
   "source": [
    "I bet you’re already thinking about different ways you can use these APIs to make some cute side project, and that’s the great thing about APIs. Once you start using them, there’s nothing stopping you from turning a hobby or passion into a fun little project."
   ]
  },
  {
   "cell_type": "markdown",
   "id": "6ee24f06",
   "metadata": {},
   "source": [
    "Before you move forward, one thing you need to know about endpoints is the difference between `http://` and `https://`. In a nutshell, `HTTPS` is the encrypted version of `HTTP`, making all traffic between the client and the server much safer. When consuming public APIs, you should definitely stay away from sending any private or sensitive information to `http://` endpoints and use only those APIs that provide a secure `https://` base URL."
   ]
  },
  {
   "cell_type": "markdown",
   "id": "4e6f96e7",
   "metadata": {},
   "source": [
    "For more information on why it’s important to stick to HTTPS when online browsing, check out [Exploring HTTPS With Python](https://realpython.com/python-https/).\n",
    "\n",
    "In the next section, you’ll dig a bit further into the main components of an API call."
   ]
  },
  {
   "cell_type": "markdown",
   "id": "6f90b1ce",
   "metadata": {},
   "source": [
    "### Request and Response\n",
    "\n",
    "As you very briefly read above, all interactions between a client—in this case your \n",
    "Python console—and an API are split into a request and a response:"
   ]
  },
  {
   "cell_type": "markdown",
   "id": "ef2f730e",
   "metadata": {},
   "source": [
    "* **Requests** contain relevant data regarding your API request call, such as the base URL, the endpoint, the method used, the headers, and so on.\n",
    "* **Responses** contain relevant data returned by the server, including the data or content, the status code, and the headers."
   ]
  },
  {
   "cell_type": "markdown",
   "id": "c8717e45",
   "metadata": {},
   "source": [
    "Using TheDogAPI again, you can drill down a bit more into what exactly is inside the Request and Response objects:"
   ]
  },
  {
   "cell_type": "code",
   "execution_count": 9,
   "id": "46594276",
   "metadata": {},
   "outputs": [
    {
     "data": {
      "text/plain": [
       "<Response [200]>"
      ]
     },
     "execution_count": 9,
     "metadata": {},
     "output_type": "execute_result"
    }
   ],
   "source": [
    "response = requests.get(\"https://api.thedogapi.com/v1/breeds\")\n",
    "response"
   ]
  },
  {
   "cell_type": "code",
   "execution_count": 10,
   "id": "f80833ad",
   "metadata": {},
   "outputs": [
    {
     "data": {
      "text/plain": [
       "<PreparedRequest [GET]>"
      ]
     },
     "execution_count": 10,
     "metadata": {},
     "output_type": "execute_result"
    }
   ],
   "source": [
    "response.request"
   ]
  },
  {
   "cell_type": "code",
   "execution_count": 11,
   "id": "2c2d7448",
   "metadata": {},
   "outputs": [
    {
     "data": {
      "text/plain": [
       "'https://api.thedogapi.com/v1/breeds'"
      ]
     },
     "execution_count": 11,
     "metadata": {},
     "output_type": "execute_result"
    }
   ],
   "source": [
    "request = response.request\n",
    "request.url"
   ]
  },
  {
   "cell_type": "code",
   "execution_count": 12,
   "id": "48e0dc0b",
   "metadata": {},
   "outputs": [
    {
     "data": {
      "text/plain": [
       "'/v1/breeds'"
      ]
     },
     "execution_count": 12,
     "metadata": {},
     "output_type": "execute_result"
    }
   ],
   "source": [
    "request.path_url"
   ]
  },
  {
   "cell_type": "code",
   "execution_count": 13,
   "id": "c70399c1",
   "metadata": {},
   "outputs": [
    {
     "data": {
      "text/plain": [
       "'GET'"
      ]
     },
     "execution_count": 13,
     "metadata": {},
     "output_type": "execute_result"
    }
   ],
   "source": [
    "request.method"
   ]
  },
  {
   "cell_type": "code",
   "execution_count": 14,
   "id": "2e45b8fa",
   "metadata": {},
   "outputs": [
    {
     "data": {
      "text/plain": [
       "{'User-Agent': 'python-requests/2.26.0', 'Accept-Encoding': 'gzip, deflate, br', 'Accept': '*/*', 'Connection': 'keep-alive'}"
      ]
     },
     "execution_count": 14,
     "metadata": {},
     "output_type": "execute_result"
    }
   ],
   "source": [
    "request.headers"
   ]
  },
  {
   "cell_type": "code",
   "execution_count": 15,
   "id": "0683148a",
   "metadata": {},
   "outputs": [
    {
     "data": {
      "text/plain": [
       "<Response [200]>"
      ]
     },
     "execution_count": 15,
     "metadata": {},
     "output_type": "execute_result"
    }
   ],
   "source": [
    "response"
   ]
  },
  {
   "cell_type": "code",
   "execution_count": 17,
   "id": "7b9b7e20",
   "metadata": {},
   "outputs": [
    {
     "data": {
      "text/plain": [
       "'[{\"weight\":{\"imperial\":\"6 - 13\",\"metric\":\"3 - 6\"},\"height\":{\"imperial\":\"9 - 11.5\",\"metric\":\"23 - 29\"},\"id\":1,\"name\":\"Affenpinscher\",\"bred_for\":\"Small rodent hunting, lapdog\",\"breed_group\":\"Toy\",\"life_'"
      ]
     },
     "execution_count": 17,
     "metadata": {},
     "output_type": "execute_result"
    }
   ],
   "source": [
    "response.text[:200]"
   ]
  },
  {
   "cell_type": "code",
   "execution_count": 18,
   "id": "7a9d1cda",
   "metadata": {},
   "outputs": [
    {
     "data": {
      "text/plain": [
       "200"
      ]
     },
     "execution_count": 18,
     "metadata": {},
     "output_type": "execute_result"
    }
   ],
   "source": [
    "response.status_code"
   ]
  },
  {
   "cell_type": "code",
   "execution_count": 22,
   "id": "56192e1c",
   "metadata": {},
   "outputs": [
    {
     "data": {
      "text/plain": [
       "{'x-dns-prefetch-control': 'off', 'x-frame-options': 'SAMEORIGIN', 'strict-transport-security': 'max-age=15552000; includeSubDomains', 'x-download-options': 'noopen', 'x-content-type-options': 'nosniff', 'x-xss-protection': '1; mode=block', 'vary': 'Origin', 'pagination-count': '172', 'pagination-page': '0', 'pagination-limit': '1000', 'access-control-expose-headers': 'Pagination-Count, Pagination-Page, Pagination-Limit', 'content-type': 'application/json; charset=utf-8', 'x-response-time': '6ms', 'X-Cloud-Trace-Context': '5fd785f3cc96fd46716a688f232d7e20', 'Date': 'Wed, 01 Dec 2021 19:56:27 GMT', 'Server': 'Google Frontend', 'Content-Length': '76246'}"
      ]
     },
     "execution_count": 22,
     "metadata": {},
     "output_type": "execute_result"
    }
   ],
   "source": [
    "response.headers"
   ]
  },
  {
   "cell_type": "markdown",
   "id": "8da6e08b",
   "metadata": {},
   "source": [
    "The example above shows you a few of the most important attributes available for Request and Response objects.\n",
    "\n",
    "You’ll learn more about some of these attributes in this tutorial, but if you want to dig even further, then you can check Mozilla’s documentation on HTTP messages for a more in-depth explanation of each attribute."
   ]
  },
  {
   "cell_type": "markdown",
   "id": "a39ff09d",
   "metadata": {},
   "source": [
    "### Status Codes\n",
    "\n",
    "Status codes are one of the most important pieces of information to look for in any API response. They tell you if your request was successful, if it’s missing data, if it’s missing credentials, and so on."
   ]
  },
  {
   "cell_type": "markdown",
   "id": "ddfdc13b",
   "metadata": {},
   "source": [
    "With time, you’ll recognize the different status codes without help. But for now, here’s a list with some of the most common status codes you’ll find:\n",
    "\n",
    "| Status code |\tDescription |\n",
    "|:-- |:-- |\n",
    "| 200 OK\t| Your request was successful! |\n",
    "| 201 Created\t| Your request was accepted and the resource was created. |\n",
    "| 400 Bad Request\t| Your request is either wrong or missing some information. |\n",
    "| 401 Unauthorized\t| Your request requires some additional permissions. |\n",
    "| 404 Not Found\t| The requested resource does not exist. |\n",
    "| 405 Method Not Allowed\t| The endpoint does not allow for that specific HTTP method. |\n",
    "| 500 Internal Server Error\t| Your request wasn’t expected and probably broke something on the server side. |"
   ]
  },
  {
   "cell_type": "markdown",
   "id": "501a337f",
   "metadata": {},
   "source": [
    "You saw 200 OK earlier in the examples you executed, and you might even recognize 404 Not Found from browsing the web.\n",
    "\n",
    ">Fun fact: Companies tend to use 404 error pages for private jokes or pure fun, like these examples below:\n",
    ">* [Mantra Labs](https://www.mantralabsglobal.com/404)\n",
    ">* [Gymbox](https://www.gymbox.com/404)\n",
    ">* [Pixar](https://www.pixar.com/404)\n",
    ">* [Slack](https://slack.com/404)\n",
    ">\n",
    ">In the API world, though, developers have limited space in the response for this kind of fun. But they make up for it in other places, like the HTTP headers. You’ll see some examples soon enough!"
   ]
  },
  {
   "cell_type": "markdown",
   "id": "6675c7e2",
   "metadata": {},
   "source": [
    "You can check the status of a response using `.status_code` and `.reason`. The requests library also prints the status code in the representation of the Response object:"
   ]
  },
  {
   "cell_type": "code",
   "execution_count": 23,
   "id": "14f62d9c",
   "metadata": {},
   "outputs": [
    {
     "data": {
      "text/plain": [
       "<Response [200]>"
      ]
     },
     "execution_count": 23,
     "metadata": {},
     "output_type": "execute_result"
    }
   ],
   "source": [
    "response = requests.get(\"https://api.thedogapi.com/v1/breeds\")\n",
    "response"
   ]
  },
  {
   "cell_type": "code",
   "execution_count": 24,
   "id": "1e75e4ce",
   "metadata": {},
   "outputs": [
    {
     "data": {
      "text/plain": [
       "200"
      ]
     },
     "execution_count": 24,
     "metadata": {},
     "output_type": "execute_result"
    }
   ],
   "source": [
    "response.status_code"
   ]
  },
  {
   "cell_type": "code",
   "execution_count": 25,
   "id": "1b3023b7",
   "metadata": {},
   "outputs": [
    {
     "data": {
      "text/plain": [
       "'OK'"
      ]
     },
     "execution_count": 25,
     "metadata": {},
     "output_type": "execute_result"
    }
   ],
   "source": [
    "response.reason"
   ]
  },
  {
   "cell_type": "markdown",
   "id": "895b3b1a",
   "metadata": {},
   "source": [
    "The request above returns 200, so you can consider it a successful request. But now have a look at a failing request triggered when you include a typo in the endpoint /breedz:"
   ]
  },
  {
   "cell_type": "code",
   "execution_count": 26,
   "id": "4adc1d58",
   "metadata": {},
   "outputs": [
    {
     "data": {
      "text/plain": [
       "<Response [404]>"
      ]
     },
     "execution_count": 26,
     "metadata": {},
     "output_type": "execute_result"
    }
   ],
   "source": [
    "response = requests.get(\"https://api.thedogapi.com/v1/breedz\")\n",
    "response"
   ]
  },
  {
   "cell_type": "code",
   "execution_count": 27,
   "id": "f616bb24",
   "metadata": {},
   "outputs": [
    {
     "data": {
      "text/plain": [
       "404"
      ]
     },
     "execution_count": 27,
     "metadata": {},
     "output_type": "execute_result"
    }
   ],
   "source": [
    "response.status_code"
   ]
  },
  {
   "cell_type": "code",
   "execution_count": 28,
   "id": "32cfbdbc",
   "metadata": {},
   "outputs": [
    {
     "data": {
      "text/plain": [
       "'Not Found'"
      ]
     },
     "execution_count": 28,
     "metadata": {},
     "output_type": "execute_result"
    }
   ],
   "source": [
    "response.reason"
   ]
  },
  {
   "cell_type": "markdown",
   "id": "e37d3ca8",
   "metadata": {},
   "source": [
    "As you can see, the /breedz endpoint doesn’t exist, so the API returns a 404 Not Found status code.\n",
    "\n",
    "You can use these status codes to quickly see if your request needs to be changed or if you should check the documentation again for any typos or missing pieces."
   ]
  },
  {
   "cell_type": "markdown",
   "id": "6b634975",
   "metadata": {},
   "source": [
    "### HTTP Headers\n",
    "\n",
    "HTTP headers are used to define a few parameters governing requests and responses:"
   ]
  },
  {
   "cell_type": "markdown",
   "id": "abdad43c",
   "metadata": {},
   "source": [
    "| HTTP Header | Description |\n",
    "| :-- | :-- |\n",
    "| Accept | What type of content the client can accept |\n",
    "| Content-Type | What type of content the server will respond with |\n",
    "| User-Agent | What software the client is using to communicate with the server |\n",
    "| Server | What software the server is using to communicate with the client |\n",
    "| Authentication | Who is calling the API and what credentials they have |"
   ]
  },
  {
   "cell_type": "markdown",
   "id": "2b249b8c",
   "metadata": {},
   "source": [
    "There are many other headers that you can find when inspecting a request or response. Have a look at [Mozilla’s extended list](https://developer.mozilla.org/en-US/docs/Web/HTTP/Headers) if you’re curious about the specific use for each of them."
   ]
  },
  {
   "cell_type": "markdown",
   "id": "a43bdcb6",
   "metadata": {},
   "source": [
    "To inspect the headers of a response, you can use `response.headers`:"
   ]
  },
  {
   "cell_type": "code",
   "execution_count": 29,
   "id": "2911308c",
   "metadata": {},
   "outputs": [
    {
     "data": {
      "text/plain": [
       "{'x-dns-prefetch-control': 'off', 'x-frame-options': 'SAMEORIGIN', 'strict-transport-security': 'max-age=15552000; includeSubDomains', 'x-download-options': 'noopen', 'x-content-type-options': 'nosniff', 'x-xss-protection': '1; mode=block', 'vary': 'Origin', 'content-type': 'application/json; charset=utf-8', 'x-response-time': '1ms', 'X-Cloud-Trace-Context': '25ec7d4a8039178e30fa1df7c0b3cb89', 'Date': 'Wed, 01 Dec 2021 20:09:19 GMT', 'Server': 'Google Frontend', 'Content-Length': '357'}"
      ]
     },
     "execution_count": 29,
     "metadata": {},
     "output_type": "execute_result"
    }
   ],
   "source": [
    "response = requests.get(\"https://api.thedogapi.com/v1/breeds/1\")\n",
    "response.headers"
   ]
  },
  {
   "cell_type": "markdown",
   "id": "eb9146e4",
   "metadata": {},
   "source": [
    "To do the same with the request headers, you can use response.request.headers since request is an attribute of the Response object:"
   ]
  },
  {
   "cell_type": "code",
   "execution_count": 30,
   "id": "ca763545",
   "metadata": {},
   "outputs": [
    {
     "data": {
      "text/plain": [
       "{'User-Agent': 'python-requests/2.26.0', 'Accept-Encoding': 'gzip, deflate, br', 'Accept': '*/*', 'Connection': 'keep-alive'}"
      ]
     },
     "execution_count": 30,
     "metadata": {},
     "output_type": "execute_result"
    }
   ],
   "source": [
    "response = requests.get(\"https://api.thedogapi.com/v1/breeds/1\")\n",
    "response.request.headers"
   ]
  },
  {
   "cell_type": "markdown",
   "id": "25cb31bc",
   "metadata": {},
   "source": [
    "In this case, you don’t define any specific headers when you make the request, so the default headers are returned."
   ]
  },
  {
   "cell_type": "markdown",
   "id": "dc26a084",
   "metadata": {},
   "source": [
    "### Custom Headers\n",
    "\n",
    "Another standard that you might come across when consuming APIs is the use of custom headers. These usually start with X-, but they’re not required to. API developers typically use custom headers to send or request additional custom information from clients.\n",
    "\n",
    "> Fun fact: A few companies go to extra lengths to be funny and innovative, using HTTP headers in a way they [weren’t meant to be used](https://frenxi.com/http-headers-you-dont-expect/), such as to solicit job applications."
   ]
  },
  {
   "cell_type": "markdown",
   "id": "d6df20c3",
   "metadata": {},
   "source": [
    "You can use a dictionary to define headers, and you can send them along with your request using the headers parameter of `.get()`."
   ]
  },
  {
   "cell_type": "markdown",
   "id": "984cc972",
   "metadata": {},
   "source": [
    "For example, say you want to send some request ID to the API server, and you know you can do that using `X-Request-Id`:"
   ]
  },
  {
   "cell_type": "code",
   "execution_count": 31,
   "id": "1c81f3b3",
   "metadata": {},
   "outputs": [
    {
     "data": {
      "text/plain": [
       "{'User-Agent': 'python-requests/2.26.0', 'Accept-Encoding': 'gzip, deflate, br', 'Accept': '*/*', 'Connection': 'keep-alive', 'X-Request-Id': '<my-request-id>'}"
      ]
     },
     "execution_count": 31,
     "metadata": {},
     "output_type": "execute_result"
    }
   ],
   "source": [
    "headers = {\"X-Request-Id\": \"<my-request-id>\"}\n",
    "response = requests.get(\"https://example.org\", headers=headers)\n",
    "response.request.headers"
   ]
  },
  {
   "cell_type": "markdown",
   "id": "d5f77a82",
   "metadata": {},
   "source": [
    "If you go through the `request.headers` dictionary, then you’ll find `X-Request-Id` right at the end, among a few other headers that come by default with any API request."
   ]
  },
  {
   "cell_type": "markdown",
   "id": "5750ee8f",
   "metadata": {},
   "source": [
    "There are many useful headers a response might have, but one of the most important ones is Content-Type, which defines the kind of content returned in the response."
   ]
  },
  {
   "cell_type": "markdown",
   "id": "e6bd0c61",
   "metadata": {},
   "source": [
    "### Content-Type\n",
    "\n",
    "These days, most APIs use [JSON](https://realpython.com/python-json/) as the default content type, but you might need to use an API that returns XML or other media types, such as images or video. In that case, the content type will differ."
   ]
  },
  {
   "cell_type": "markdown",
   "id": "04b558b0",
   "metadata": {},
   "source": [
    "If you look back to one of the previous examples using TheDogAPI and try to inspect the Content-Type header, then you’ll notice how it was defined as `application/json`:"
   ]
  },
  {
   "cell_type": "code",
   "execution_count": 32,
   "id": "3e911a27",
   "metadata": {},
   "outputs": [
    {
     "data": {
      "text/plain": [
       "'application/json; charset=utf-8'"
      ]
     },
     "execution_count": 32,
     "metadata": {},
     "output_type": "execute_result"
    }
   ],
   "source": [
    "response = requests.get(\"https://api.thedogapi.com/v1/breeds/1\")\n",
    "response.headers.get(\"Content-Type\")"
   ]
  },
  {
   "cell_type": "markdown",
   "id": "0858f74e",
   "metadata": {},
   "source": [
    "Apart from the specific type of content (in this case application/json), the header might also return the specified encoding for the response content."
   ]
  },
  {
   "cell_type": "markdown",
   "id": "f78210ae",
   "metadata": {},
   "source": [
    "If, for example, you try to fetch an image of a goat from the following API, then you’ll notice that the content type is no longer application/json, but instead it’s defined as image/jpeg:"
   ]
  },
  {
   "cell_type": "code",
   "execution_count": 39,
   "id": "07cbdd3a",
   "metadata": {},
   "outputs": [
    {
     "data": {
      "text/plain": [
       "<Response [200]>"
      ]
     },
     "execution_count": 39,
     "metadata": {},
     "output_type": "execute_result"
    }
   ],
   "source": [
    "response = requests.get(\"https://picsum.photos/200/300\")\n",
    "response"
   ]
  },
  {
   "cell_type": "code",
   "execution_count": 40,
   "id": "98146c64",
   "metadata": {},
   "outputs": [
    {
     "data": {
      "text/plain": [
       "'image/jpeg'"
      ]
     },
     "execution_count": 40,
     "metadata": {},
     "output_type": "execute_result"
    }
   ],
   "source": [
    "response.headers.get(\"Content-Type\")"
   ]
  },
  {
   "cell_type": "markdown",
   "id": "f5f3272c",
   "metadata": {},
   "source": [
    "In this case, the Content-Type header states that the returned content is a JPEG image. You’ll learn how to view this content in the next section.\n",
    "\n",
    "The `Content-Type` header is very important for you to know how to handle a response and what to do with its content. There are [hundreds](http://www.iana.org/assignments/media-types/media-types.xhtml) of other acceptable content types, including audio, video, fonts, and more."
   ]
  },
  {
   "cell_type": "markdown",
   "id": "c54c18cd",
   "metadata": {},
   "source": [
    "### Response Content\n",
    "\n",
    "As you just learned, the type of content you find in the API response will vary according to the Content-Type header. To properly read the response contents according to the different Content-Type headers, the requests package comes with a couple of different Response attributes you can use to manipulate the response data:\n",
    "\n",
    "* **.text** returns the response contents in Unicode format.\n",
    "* **.content** returns the response contents in bytes."
   ]
  },
  {
   "cell_type": "markdown",
   "id": "e4e701ea",
   "metadata": {},
   "source": [
    "You already used the `.text` attribute above. But for some specific types of data, like images and other nontextual data, using `.content` is typically a better approach, even if it returns a very similar result to `.text`:"
   ]
  },
  {
   "cell_type": "code",
   "execution_count": 41,
   "id": "380bca2a",
   "metadata": {},
   "outputs": [
    {
     "data": {
      "text/plain": [
       "'application/json; charset=utf-8'"
      ]
     },
     "execution_count": 41,
     "metadata": {},
     "output_type": "execute_result"
    }
   ],
   "source": [
    "response = requests.get(\"https://api.thedogapi.com/v1/breeds/1\")\n",
    "response.headers.get(\"Content-Type\")"
   ]
  },
  {
   "cell_type": "code",
   "execution_count": 42,
   "id": "67216080",
   "metadata": {},
   "outputs": [
    {
     "data": {
      "text/plain": [
       "b'{\"weight\":{\"imperial\":\"6 - 13\",\"metric\":\"3 - 6\"},\"height\":{\"imperial\":\"9 - 11.5\",\"metric\":\"23 - 29\"},\"id\":1,\"name\":\"Affenpinscher\",\"bred_for\":\"Small rodent hunting, lapdog\",\"breed_group\":\"Toy\",\"life_span\":\"10 - 12 years\",\"temperament\":\"Stubborn, Curious, Playful, Adventurous, Active, Fun-loving\",\"origin\":\"Germany, France\",\"reference_image_id\":\"BJa4kxc4X\"}'"
      ]
     },
     "execution_count": 42,
     "metadata": {},
     "output_type": "execute_result"
    }
   ],
   "source": [
    "response.content"
   ]
  },
  {
   "cell_type": "markdown",
   "id": "51fd2f59",
   "metadata": {},
   "source": [
    "As you can see, there isn’t a big difference between `.content` and the previously used `.text`.\n",
    "\n",
    "However, by looking at the response’s `Content-Type` header, you can see the content is `application/json;`, a `JSON` object. For that kind of content, the requests library includes a specific `.json()` method that you can use to immediately convert the API bytes response into a Python data structure:"
   ]
  },
  {
   "cell_type": "code",
   "execution_count": 43,
   "id": "c98400b5",
   "metadata": {},
   "outputs": [
    {
     "data": {
      "text/plain": [
       "'application/json; charset=utf-8'"
      ]
     },
     "execution_count": 43,
     "metadata": {},
     "output_type": "execute_result"
    }
   ],
   "source": [
    "response = requests.get(\"https://api.thedogapi.com/v1/breeds/1\")\n",
    "response.headers.get(\"Content-Type\")"
   ]
  },
  {
   "cell_type": "code",
   "execution_count": 44,
   "id": "48aa9198",
   "metadata": {},
   "outputs": [
    {
     "data": {
      "text/plain": [
       "{'weight': {'imperial': '6 - 13', 'metric': '3 - 6'},\n",
       " 'height': {'imperial': '9 - 11.5', 'metric': '23 - 29'},\n",
       " 'id': 1,\n",
       " 'name': 'Affenpinscher',\n",
       " 'bred_for': 'Small rodent hunting, lapdog',\n",
       " 'breed_group': 'Toy',\n",
       " 'life_span': '10 - 12 years',\n",
       " 'temperament': 'Stubborn, Curious, Playful, Adventurous, Active, Fun-loving',\n",
       " 'origin': 'Germany, France',\n",
       " 'reference_image_id': 'BJa4kxc4X'}"
      ]
     },
     "execution_count": 44,
     "metadata": {},
     "output_type": "execute_result"
    }
   ],
   "source": [
    "response.json()"
   ]
  },
  {
   "cell_type": "code",
   "execution_count": 45,
   "id": "bf5cc515",
   "metadata": {},
   "outputs": [
    {
     "data": {
      "text/plain": [
       "'Affenpinscher'"
      ]
     },
     "execution_count": 45,
     "metadata": {},
     "output_type": "execute_result"
    }
   ],
   "source": [
    "response.json()[\"name\"]"
   ]
  },
  {
   "cell_type": "markdown",
   "id": "100b45a2",
   "metadata": {},
   "source": [
    "As you can see, after executing `response.json()`, you get a dictionary that you’re able to use as you’d use any other dictionary in Python.\n",
    "\n",
    "Now, looking back at the recent example you ran using the image API, try to fetch that same image and have a look at its content:"
   ]
  },
  {
   "cell_type": "code",
   "execution_count": 46,
   "id": "f78f1b6b",
   "metadata": {},
   "outputs": [
    {
     "data": {
      "text/plain": [
       "<Response [200]>"
      ]
     },
     "execution_count": 46,
     "metadata": {},
     "output_type": "execute_result"
    }
   ],
   "source": [
    "response = requests.get(\"https://picsum.photos/200/300\")\n",
    "response"
   ]
  },
  {
   "cell_type": "code",
   "execution_count": 47,
   "id": "6845fbac",
   "metadata": {},
   "outputs": [
    {
     "data": {
      "text/plain": [
       "'image/jpeg'"
      ]
     },
     "execution_count": 47,
     "metadata": {},
     "output_type": "execute_result"
    }
   ],
   "source": [
    "response.headers.get(\"Content-Type\")"
   ]
  },
  {
   "cell_type": "code",
   "execution_count": 49,
   "id": "5f3b2171",
   "metadata": {},
   "outputs": [
    {
     "data": {
      "text/plain": [
       "b'\\xff\\xd8\\xff\\xe0\\x00\\x10JFIF\\x00\\x01\\x01\\x00\\x00\\x01\\x00\\x01\\x00\\x00\\xff\\xe1\\x00\\xdeExif\\x00\\x00II*\\x00\\x08\\x00\\x00\\x00\\x06\\x00\\x12\\x01\\x03\\x00\\x01\\x00\\x00\\x00\\x01\\x00\\x00\\x00\\x1a\\x01\\x05\\x00\\x01\\x00\\x00\\x00V\\x00\\x00\\x00\\x1b\\x01\\x05\\x00\\x01\\x00\\x00\\x00^\\x00\\x00\\x00(\\x01\\x03\\x00\\x01\\x00\\x00\\x00\\x02\\x00\\x00\\x00\\x13\\x02\\x03\\x00\\x01\\x00\\x00\\x00\\x01\\x00\\x00\\x00i\\x87\\x04\\x00\\x01\\x00\\x00\\x00f\\x00\\x00\\x00\\x00\\x00\\x00\\x008c\\x00\\x00\\xe8\\x03\\x00\\x008c\\x00\\x00\\xe8\\x03\\x00\\x00\\x07\\x00\\x00\\x90\\x07\\x00\\x04\\x00\\x00\\x000210\\x01\\x91\\x07\\x00\\x04\\x00\\x00\\x00\\x01\\x02\\x03\\x00\\x86\\x92\\x07\\x00\\x16\\x00\\x00\\x00\\xc0\\x00\\x00\\x00\\x00\\xa0\\x07\\x00\\x04\\x00\\x00\\x000100\\x01\\xa0\\x03\\x00\\x01\\x00\\x00\\x00\\xff\\xff\\x00\\x00\\x02\\xa0\\x04\\x00\\x01\\x00'"
      ]
     },
     "execution_count": 49,
     "metadata": {},
     "output_type": "execute_result"
    }
   ],
   "source": [
    "response.content[:200]"
   ]
  },
  {
   "cell_type": "markdown",
   "id": "4bdc09fc",
   "metadata": {},
   "source": [
    "In this case, because you’re requesting an image, .content isn’t very helpful. In fact, it’s nearly impossible to understand. However, you know this is a JPEG image, so you can try storing it into a file and see what happens:"
   ]
  },
  {
   "cell_type": "code",
   "execution_count": 51,
   "id": "90565b56",
   "metadata": {},
   "outputs": [],
   "source": [
    "response = requests.get(\"https://picsum.photos/200/300\")\n",
    "file = open(\"placeholder.jpeg\", \"wb\")\n",
    "file.write(response.content)\n",
    "file.close()"
   ]
  },
  {
   "cell_type": "markdown",
   "id": "a4559693",
   "metadata": {},
   "source": [
    "Now if you open the folder you’re working from, then you’ll find a `placeholder.jpeg' file, which is a random image that you just fetched using an API. Isn’t that amazing?\n",
    "![placeholder](placeholder.jpeg)"
   ]
  },
  {
   "cell_type": "markdown",
   "id": "3db0d598",
   "metadata": {},
   "source": [
    "### HTTP Methods\n",
    "\n",
    "When calling an API, there are a few different methods, also called verbs, that you can use to specify what action you want to execute. For example, if you wanted to fetch some data, you’d use the method GET, and if you wanted to create some data, then you’d use the method POST."
   ]
  },
  {
   "cell_type": "markdown",
   "id": "5fbdb3d5",
   "metadata": {},
   "source": [
    "When purely consuming data using APIs, you’ll typically stick to GET requests, but here’s a list of the most common methods and their typical use case:\n",
    "\n",
    "| HTTP Method | Description | Requests method |\n",
    "| :-- | :-- | :-- |\n",
    "| POST | Create a new resource. | `requests.post()` |\n",
    "| GET | Read an existing resource. | `requests.get()` |\n",
    "| PUT | Update an existing resource. | `requests.put()` |\n",
    "| DELETE | Delete an existing resource. | `requests.delete()` |"
   ]
  },
  {
   "cell_type": "markdown",
   "id": "992c509d",
   "metadata": {},
   "source": [
    "These four methods are typically referred to as CRUD operations as they allow you to create, read, update and delete resources.\n",
    "\n",
    "> Note: There’s an additional `PATCH` method that’s also associated with CRUD operations, but it’s slightly less common than the four above. It’s used to make partial modifications instead of completely replacing a resource using `PUT`.\n",
    ">\n",
    "> You can read a bit more about the [differences between PUT and PATCH](https://medium.com/backticks-tildes/restful-api-design-put-vs-patch-4a061aa3ed0b) to understand their different needs."
   ]
  },
  {
   "cell_type": "markdown",
   "id": "cb57c9c8",
   "metadata": {},
   "source": [
    "If you’re curious about the remaining HTTP methods, or if you just want to learn a bit more about those already mentioned, then have a look through [Mozilla’s documentation](https://developer.mozilla.org/en-US/docs/Web/HTTP/Methods)."
   ]
  },
  {
   "cell_type": "markdown",
   "id": "dc5eef35",
   "metadata": {},
   "source": [
    "Until now, you’ve only used `.get()` to fetch data, but you can use the requests package for all the other HTTP methods as well:"
   ]
  },
  {
   "cell_type": "code",
   "execution_count": 52,
   "id": "c28d4de1",
   "metadata": {},
   "outputs": [
    {
     "data": {
      "text/plain": [
       "<Response [405]>"
      ]
     },
     "execution_count": 52,
     "metadata": {},
     "output_type": "execute_result"
    }
   ],
   "source": [
    "requests.post(\"https://api.thedogapi.com/v1/breeds/1\")"
   ]
  },
  {
   "cell_type": "code",
   "execution_count": 53,
   "id": "8a32a124",
   "metadata": {},
   "outputs": [
    {
     "data": {
      "text/plain": [
       "<Response [200]>"
      ]
     },
     "execution_count": 53,
     "metadata": {},
     "output_type": "execute_result"
    }
   ],
   "source": [
    "requests.get(\"https://api.thedogapi.com/v1/breeds/1\")"
   ]
  },
  {
   "cell_type": "code",
   "execution_count": 54,
   "id": "6e278afb",
   "metadata": {},
   "outputs": [
    {
     "data": {
      "text/plain": [
       "<Response [405]>"
      ]
     },
     "execution_count": 54,
     "metadata": {},
     "output_type": "execute_result"
    }
   ],
   "source": [
    "requests.put(\"https://api.thedogapi.com/v1/breeds/1\")"
   ]
  },
  {
   "cell_type": "code",
   "execution_count": 55,
   "id": "89883867",
   "metadata": {},
   "outputs": [
    {
     "data": {
      "text/plain": [
       "<Response [405]>"
      ]
     },
     "execution_count": 55,
     "metadata": {},
     "output_type": "execute_result"
    }
   ],
   "source": [
    "requests.delete(\"https://api.thedogapi.com/v1/breeds/1\")"
   ]
  },
  {
   "cell_type": "markdown",
   "id": "3bb7c6a1",
   "metadata": {},
   "source": [
    "If you try these on your console, then you’ll notice that most of them will return a 405 Method Not Allowed [status code](https://realpython.com/python-api/#status-codes). That’s because not all endpoints will allow for `POST`, `PUT`, or `DELETE` methods. Especially when you’re reading data using public APIs, you’ll find that most APIs will only allow `GET` requests since you’re not allowed to create or change the existing data."
   ]
  },
  {
   "cell_type": "markdown",
   "id": "8ed98f66",
   "metadata": {},
   "source": [
    "### Query Parameters\n",
    "\n",
    "Sometimes when you call an API, you get a ton of data that you don’t need or want. For example, when calling TheDogAPI’s `/breeds` endpoint, you get a lot of information about a given breed. But in some cases, you might want to extract only certain information about a given breed. That’s where query parameters come in!"
   ]
  },
  {
   "cell_type": "markdown",
   "id": "d84c8cab",
   "metadata": {},
   "source": [
    "You might have seen or used query parameters when browsing online. For example when watching a YouTube video, you have a URL like https://www.youtube.com/watch?v=aL5GK2LVMWI. The `v=` in the URL is what you call a query parameter. It typically comes after the base URL and endpoint."
   ]
  },
  {
   "cell_type": "markdown",
   "id": "b9c2a2ac",
   "metadata": {},
   "source": [
    "To add a query parameter to a given URL, you have to add a question mark (`?`) before the first query parameter. If you want to have multiple query parameters in your request, then you can split them with an ampersand (`&`).\n",
    "\n",
    "The same YouTube URL above with multiple query parameters would look like this: https://www.youtube.com/watch?v=aL5GK2LVMWI&t=75."
   ]
  },
  {
   "cell_type": "markdown",
   "id": "f60ee04f",
   "metadata": {},
   "source": [
    "In the API world, query parameters are used as filters you can send with your API request to further narrow down the responses. For example, going back to the Random User Generator API, you know how to generate a random user:"
   ]
  },
  {
   "cell_type": "code",
   "execution_count": 57,
   "id": "effa3747",
   "metadata": {},
   "outputs": [
    {
     "data": {
      "text/plain": [
       "{'results': [{'gender': 'female',\n",
       "   'name': {'title': 'Ms', 'first': 'Rose', 'last': 'Holland'},\n",
       "   'location': {'street': {'number': 5926, 'name': 'Lone Wolf Trail'},\n",
       "    'city': 'Charlotte',\n",
       "    'state': 'Montana',\n",
       "    'country': 'United States',\n",
       "    'postcode': 31757,\n",
       "    'coordinates': {'latitude': '80.8707', 'longitude': '164.4143'},\n",
       "    'timezone': {'offset': '+4:00',\n",
       "     'description': 'Abu Dhabi, Muscat, Baku, Tbilisi'}},\n",
       "   'email': 'rose.holland@example.com',\n",
       "   'login': {'uuid': 'd6e99728-3532-40c3-a0e5-ab883ae2bb1c',\n",
       "    'username': 'greenostrich727',\n",
       "    'password': 'titts',\n",
       "    'salt': 'wnhaXpka',\n",
       "    'md5': '62476aa7e4d48627819a60c9e0d78848',\n",
       "    'sha1': '9989fd950fa1b0ab989b26a63283eae06e8c48fb',\n",
       "    'sha256': '20e8792b196ca4b5a2862f74a930fa04d5b0b7963f72d472fc9944eec9147efe'},\n",
       "   'dob': {'date': '1973-04-02T22:04:06.954Z', 'age': 48},\n",
       "   'registered': {'date': '2011-11-24T23:14:03.932Z', 'age': 10},\n",
       "   'phone': '(691)-760-7310',\n",
       "   'cell': '(966)-817-2820',\n",
       "   'id': {'name': 'SSN', 'value': '571-02-2197'},\n",
       "   'picture': {'large': 'https://randomuser.me/api/portraits/women/23.jpg',\n",
       "    'medium': 'https://randomuser.me/api/portraits/med/women/23.jpg',\n",
       "    'thumbnail': 'https://randomuser.me/api/portraits/thumb/women/23.jpg'},\n",
       "   'nat': 'US'}],\n",
       " 'info': {'seed': 'c4c34c4f9e349852',\n",
       "  'results': 1,\n",
       "  'page': 1,\n",
       "  'version': '1.3'}}"
      ]
     },
     "execution_count": 57,
     "metadata": {},
     "output_type": "execute_result"
    }
   ],
   "source": [
    "requests.get(\"https://randomuser.me/api/\").json()"
   ]
  },
  {
   "cell_type": "markdown",
   "id": "92f59cf0",
   "metadata": {},
   "source": [
    "However, let’s say you specifically want to generate only random female users. According to the documentation, you can use the query parameter gender= for that:"
   ]
  },
  {
   "cell_type": "code",
   "execution_count": 58,
   "id": "c80bac4b",
   "metadata": {},
   "outputs": [
    {
     "data": {
      "text/plain": [
       "{'results': [{'gender': 'female',\n",
       "   'name': {'title': 'Ms', 'first': 'Iina', 'last': 'Lampinen'},\n",
       "   'location': {'street': {'number': 9488, 'name': 'Suvantokatu'},\n",
       "    'city': 'Isokyrö',\n",
       "    'state': 'Central Ostrobothnia',\n",
       "    'country': 'Finland',\n",
       "    'postcode': 74680,\n",
       "    'coordinates': {'latitude': '-14.8635', 'longitude': '-57.0888'},\n",
       "    'timezone': {'offset': '+9:30', 'description': 'Adelaide, Darwin'}},\n",
       "   'email': 'iina.lampinen@example.com',\n",
       "   'login': {'uuid': '7eefd21b-180d-4090-ae73-f9c6bacfa363',\n",
       "    'username': 'heavyduck989',\n",
       "    'password': 'tank',\n",
       "    'salt': 'fHbYbLcz',\n",
       "    'md5': 'f12032c643eb76d532046b631f5ae87e',\n",
       "    'sha1': 'df5a6b65dc99c3d1e9cbe503cca1c9800be711b8',\n",
       "    'sha256': 'ce264c3d8015f65307d370347a9d6b29c5567d9a04bfef30e8824a4833c2fc45'},\n",
       "   'dob': {'date': '1975-03-01T03:20:24.611Z', 'age': 46},\n",
       "   'registered': {'date': '2016-02-07T22:42:12.742Z', 'age': 5},\n",
       "   'phone': '07-679-624',\n",
       "   'cell': '041-764-69-11',\n",
       "   'id': {'name': 'HETU', 'value': 'NaNNA340undefined'},\n",
       "   'picture': {'large': 'https://randomuser.me/api/portraits/women/38.jpg',\n",
       "    'medium': 'https://randomuser.me/api/portraits/med/women/38.jpg',\n",
       "    'thumbnail': 'https://randomuser.me/api/portraits/thumb/women/38.jpg'},\n",
       "   'nat': 'FI'}],\n",
       " 'info': {'seed': 'c2d5fba97f0073e9',\n",
       "  'results': 1,\n",
       "  'page': 1,\n",
       "  'version': '1.3'}}"
      ]
     },
     "execution_count": 58,
     "metadata": {},
     "output_type": "execute_result"
    }
   ],
   "source": [
    "requests.get(\"https://randomuser.me/api/?gender=female\").json()"
   ]
  },
  {
   "cell_type": "markdown",
   "id": "0ae8d7b6",
   "metadata": {},
   "source": [
    "That’s great! Now let’s say you want to generate only female users from Germany. Again, looking through the documentation, you find a section on nationality, and you can use the query parameter `nat=` for that:"
   ]
  },
  {
   "cell_type": "code",
   "execution_count": 59,
   "id": "15e401d2",
   "metadata": {},
   "outputs": [
    {
     "data": {
      "text/plain": [
       "{'results': [{'gender': 'female',\n",
       "   'name': {'title': 'Mrs', 'first': 'Tina', 'last': 'Kohnen'},\n",
       "   'location': {'street': {'number': 6295, 'name': 'Waldstraße'},\n",
       "    'city': 'Franzburg',\n",
       "    'state': 'Sachsen-Anhalt',\n",
       "    'country': 'Germany',\n",
       "    'postcode': 74858,\n",
       "    'coordinates': {'latitude': '5.5969', 'longitude': '155.0415'},\n",
       "    'timezone': {'offset': '+7:00', 'description': 'Bangkok, Hanoi, Jakarta'}},\n",
       "   'email': 'tina.kohnen@example.com',\n",
       "   'login': {'uuid': '79caf4db-602a-413b-aa01-11f13caabbca',\n",
       "    'username': 'angrybutterfly162',\n",
       "    'password': 'oooooo',\n",
       "    'salt': 'xdjQgmSO',\n",
       "    'md5': 'df0022b87ac5223578e0585ee6ad4dea',\n",
       "    'sha1': '47d9e4c151f934ab95db1a7d1403fa0dcafe3b25',\n",
       "    'sha256': '4892bc1ec6f3cd3c4bb650c6921eaa481f793d7b305de1593b20564f4a81a7be'},\n",
       "   'dob': {'date': '1950-06-09T17:03:05.683Z', 'age': 71},\n",
       "   'registered': {'date': '2019-01-03T21:13:16.208Z', 'age': 2},\n",
       "   'phone': '0276-6777692',\n",
       "   'cell': '0177-3641373',\n",
       "   'id': {'name': '', 'value': None},\n",
       "   'picture': {'large': 'https://randomuser.me/api/portraits/women/9.jpg',\n",
       "    'medium': 'https://randomuser.me/api/portraits/med/women/9.jpg',\n",
       "    'thumbnail': 'https://randomuser.me/api/portraits/thumb/women/9.jpg'},\n",
       "   'nat': 'DE'}],\n",
       " 'info': {'seed': 'bda46856652ee73e',\n",
       "  'results': 1,\n",
       "  'page': 1,\n",
       "  'version': '1.3'}}"
      ]
     },
     "execution_count": 59,
     "metadata": {},
     "output_type": "execute_result"
    }
   ],
   "source": [
    "requests.get(\"https://randomuser.me/api/?gender=female&nat=de\").json()"
   ]
  },
  {
   "cell_type": "markdown",
   "id": "580e8b37",
   "metadata": {},
   "source": [
    "Using query parameters, you can start fetching more specific data from an API, making the whole experience a bit more tailored to your needs."
   ]
  },
  {
   "cell_type": "markdown",
   "id": "aabfce8b",
   "metadata": {},
   "source": [
    "To avoid having to rebuild the URL over and over again, you can use the params attribute to send in a dictionary of all query parameters to append to a URL:"
   ]
  },
  {
   "cell_type": "code",
   "execution_count": 60,
   "id": "16829034",
   "metadata": {},
   "outputs": [
    {
     "data": {
      "text/plain": [
       "{'results': [{'gender': 'female',\n",
       "   'name': {'title': 'Miss', 'first': 'Auguste', 'last': 'Schümann'},\n",
       "   'location': {'street': {'number': 1899, 'name': 'Meisenweg'},\n",
       "    'city': 'Xanten',\n",
       "    'state': 'Bremen',\n",
       "    'country': 'Germany',\n",
       "    'postcode': 61351,\n",
       "    'coordinates': {'latitude': '5.5967', 'longitude': '-142.9741'},\n",
       "    'timezone': {'offset': '+9:30', 'description': 'Adelaide, Darwin'}},\n",
       "   'email': 'auguste.schumann@example.com',\n",
       "   'login': {'uuid': 'd2e3af49-c87e-42f3-9270-2886cb237037',\n",
       "    'username': 'heavybird261',\n",
       "    'password': 'bowwow',\n",
       "    'salt': 'WHE4h7nw',\n",
       "    'md5': 'fd513c683a4e82b3ea4b7d506b165925',\n",
       "    'sha1': '70958c393f4f530782bf4e45f354ff3d19805ca6',\n",
       "    'sha256': '05e04247fd9e5869d9d548d049eedd2b62d538c962cc65a2f6f473c52dc8138b'},\n",
       "   'dob': {'date': '1973-12-02T15:39:25.306Z', 'age': 48},\n",
       "   'registered': {'date': '2011-07-28T07:37:36.226Z', 'age': 10},\n",
       "   'phone': '0861-2402473',\n",
       "   'cell': '0172-8346935',\n",
       "   'id': {'name': '', 'value': None},\n",
       "   'picture': {'large': 'https://randomuser.me/api/portraits/women/41.jpg',\n",
       "    'medium': 'https://randomuser.me/api/portraits/med/women/41.jpg',\n",
       "    'thumbnail': 'https://randomuser.me/api/portraits/thumb/women/41.jpg'},\n",
       "   'nat': 'DE'}],\n",
       " 'info': {'seed': '868424ecf72bfc5b',\n",
       "  'results': 1,\n",
       "  'page': 1,\n",
       "  'version': '1.3'}}"
      ]
     },
     "execution_count": 60,
     "metadata": {},
     "output_type": "execute_result"
    }
   ],
   "source": [
    "query_params = {\"gender\": \"female\", \"nat\": \"de\"}\n",
    "requests.get(\"https://randomuser.me/api/\", params=query_params).json()"
   ]
  },
  {
   "cell_type": "markdown",
   "id": "27a05e23",
   "metadata": {},
   "source": [
    "You can apply the above to any other API you like. If you go back to TheDogAPI, the documentation has a way for you to filter the breeds endpoint to return only the breeds that match a specific name. For example, if you wanted to look for the Labradoodle breed, then you could do that with the query parameter `q`:"
   ]
  },
  {
   "cell_type": "code",
   "execution_count": 61,
   "id": "bde08abb",
   "metadata": {},
   "outputs": [
    {
     "data": {
      "text/plain": [
       "[{'weight': {'imperial': '45 - 100', 'metric': '20 - 45'},\n",
       "  'height': {'imperial': '14 - 24', 'metric': '36 - 61'},\n",
       "  'id': 148,\n",
       "  'name': 'Labradoodle',\n",
       "  'breed_group': 'Mixed',\n",
       "  'life_span': '10 - 15 years'}]"
      ]
     },
     "execution_count": 61,
     "metadata": {},
     "output_type": "execute_result"
    }
   ],
   "source": [
    "query_params = {\"q\": \"labradoodle\"}\n",
    "endpoint = \"https://api.thedogapi.com/v1/breeds/search\"\n",
    "requests.get(endpoint, params=query_params).json()"
   ]
  },
  {
   "cell_type": "markdown",
   "id": "21f4733e",
   "metadata": {},
   "source": [
    "There you have it! By sending the query parameter `q` with the value labradoodle, you’re able to filter all breeds that match that specific value.\n",
    "\n",
    "> Tip: When you’re reusing the same endpoint, it’s a best practice to define it as a [variable](https://realpython.com/python-variables/) at the top of your code. This will make your life easier when interacting with an API over and over again.\n",
    "\n",
    "With the help of query parameters, you’re able to further narrow your requests and specify exactly what you’re looking for. Most APIs you’ll find online will have some sort of query parameters that you can use to filter data. Remember to look through the documentation and API reference to find them."
   ]
  },
  {
   "cell_type": "markdown",
   "id": "e73c7a8f",
   "metadata": {},
   "source": [
    "## Learning Advanced API Concepts\n",
    "\n",
    "Now that you have a good understanding of the basics of API consumption using Python, there are a few more advanced topics that are worth touching upon, even if briefly, such as [authentication](https://realpython.com/python-api/#authentication), [pagination](https://realpython.com/python-api/#pagination), and [rate limiting](https://realpython.com/python-api/#rate-limiting)."
   ]
  },
  {
   "cell_type": "markdown",
   "id": "a7b53605",
   "metadata": {},
   "source": [
    "### Authentication\n",
    "\n",
    "API authentication is perhaps the most complex topic covered in this tutorial. Even though a lot of public APIs are free and completely public, an even bigger number of APIs are available behind some form of authentication. There are numerous APIs that require authentication, but here are a few good examples:\n",
    "\n",
    "* [GitHub API](https://docs.github.com/en/free-pro-team@latest/rest)\n",
    "* [Twitter API](https://developer.twitter.com/en/docs)\n",
    "* [Instagram API](https://developers.facebook.com/docs/instagram-basic-display-api)\n",
    "\n",
    "Authentication approaches range from the simplistic and straightforward, like those using API keys or Basic Authentication, to much more complex and safer techniques, like OAuth.\n",
    "\n",
    "Typically, calling an API without credentials or with the wrong ones will return a 401 Unauthorized or 403 Forbidden status code."
   ]
  },
  {
   "cell_type": "markdown",
   "id": "d2e1f4a2",
   "metadata": {},
   "source": [
    "### API Keys\n",
    "\n",
    "The most common level of authentication is the API key. These keys are used to identify you as an API user or customer and to trace your use of the API. API keys are typically sent as a request header or as a query parameter.\n",
    "\n",
    "> NASA APIs: One of the coolest collections of publicly available APIs is the one provided by [NASA](https://api.nasa.gov/). You can find APIs to fetch the [astronomy picture of the day](https://apod.nasa.gov/apod/astropix.html) or pictures taken by the [Earth Polychromatic Imaging Camera (EPIC)](https://epic.gsfc.nasa.gov/), among others."
   ]
  },
  {
   "cell_type": "markdown",
   "id": "877fa501",
   "metadata": {},
   "source": [
    "For this example, you’ll have a go at NASA’s [Mars Rover Photo API](https://github.com/chrisccerami/mars-photo-api), and you’ll fetch pictures taken on July 1, 2020. For testing purposes, you can use the DEMO_KEY API key that NASA provides by default. Otherwise, you can quickly generate your own by going to NASA’s [main API page](https://api.nasa.gov/) and clicking Get Started."
   ]
  },
  {
   "cell_type": "markdown",
   "id": "86346b31",
   "metadata": {},
   "source": [
    "You can add the API key to your request by appending the api_key= query parameter:"
   ]
  },
  {
   "cell_type": "code",
   "execution_count": 74,
   "id": "c86ae709",
   "metadata": {},
   "outputs": [
    {
     "data": {
      "text/plain": [
       "<Response [200]>"
      ]
     },
     "execution_count": 74,
     "metadata": {},
     "output_type": "execute_result"
    }
   ],
   "source": [
    "from dotenv import dotenv_values\n",
    "config = dotenv_values(\"nasa.env\")\n",
    "\n",
    "endpoint = \"https://api.nasa.gov/mars-photos/api/v1/rovers/curiosity/photos\"\n",
    "\n",
    "query_params = {\"api_key\": config['API_KEY'], \"earth_date\": \"2020-07-01\"}\n",
    "response = requests.get(endpoint, params=query_params)\n",
    "response"
   ]
  },
  {
   "cell_type": "markdown",
   "id": "304c7118",
   "metadata": {},
   "source": [
    "So far, so good. You managed to make an authenticated request to NASA’s API and to get back a 200 OK response.\n",
    "\n",
    "Now have a look at the Response object and try to extract some pictures from it:"
   ]
  },
  {
   "cell_type": "code",
   "execution_count": 75,
   "id": "87635334",
   "metadata": {},
   "outputs": [
    {
     "data": {
      "text/plain": [
       "{'photos': [{'id': 754118,\n",
       "   'sol': 2809,\n",
       "   'camera': {'id': 20,\n",
       "    'name': 'FHAZ',\n",
       "    'rover_id': 5,\n",
       "    'full_name': 'Front Hazard Avoidance Camera'},\n",
       "   'img_src': 'https://mars.nasa.gov/msl-raw-images/proj/msl/redops/ods/surface/sol/02809/opgs/edr/fcam/FLB_646868981EDR_F0810628FHAZ00337M_.JPG',\n",
       "   'earth_date': '2020-07-01',\n",
       "   'rover': {'id': 5,\n",
       "    'name': 'Curiosity',\n",
       "    'landing_date': '2012-08-06',\n",
       "    'launch_date': '2011-11-26',\n",
       "    'status': 'active'}},\n",
       "  {'id': 754119,\n",
       "   'sol': 2809,\n",
       "   'camera': {'id': 20,\n",
       "    'name': 'FHAZ',\n",
       "    'rover_id': 5,\n",
       "    'full_name': 'Front Hazard Avoidance Camera'},\n",
       "   'img_src': 'https://mars.nasa.gov/msl-raw-images/proj/msl/redops/ods/surface/sol/02809/opgs/edr/fcam/FRB_646868981EDR_F0810628FHAZ00337M_.JPG',\n",
       "   'earth_date': '2020-07-01',\n",
       "   'rover': {'id': 5,\n",
       "    'name': 'Curiosity',\n",
       "    'landing_date': '2012-08-06',\n",
       "    'launch_date': '2011-11-26',\n",
       "    'status': 'active'}},\n",
       "  {'id': 754120,\n",
       "   'sol': 2809,\n",
       "   'camera': {'id': 20,\n",
       "    'name': 'FHAZ',\n",
       "    'rover_id': 5,\n",
       "    'full_name': 'Front Hazard Avoidance Camera'},\n",
       "   'img_src': 'https://mars.nasa.gov/msl-raw-images/proj/msl/redops/ods/surface/sol/02809/opgs/edr/fcam/FRB_646860144EDR_F0810628FHAZ00337M_.JPG',\n",
       "   'earth_date': '2020-07-01',\n",
       "   'rover': {'id': 5,\n",
       "    'name': 'Curiosity',\n",
       "    'landing_date': '2012-08-06',\n",
       "    'launch_date': '2011-11-26',\n",
       "    'status': 'active'}},\n",
       "  {'id': 754121,\n",
       "   'sol': 2809,\n",
       "   'camera': {'id': 20,\n",
       "    'name': 'FHAZ',\n",
       "    'rover_id': 5,\n",
       "    'full_name': 'Front Hazard Avoidance Camera'},\n",
       "   'img_src': 'https://mars.nasa.gov/msl-raw-images/proj/msl/redops/ods/surface/sol/02809/opgs/edr/fcam/FLB_646860144EDR_F0810628FHAZ00337M_.JPG',\n",
       "   'earth_date': '2020-07-01',\n",
       "   'rover': {'id': 5,\n",
       "    'name': 'Curiosity',\n",
       "    'landing_date': '2012-08-06',\n",
       "    'launch_date': '2011-11-26',\n",
       "    'status': 'active'}},\n",
       "  {'id': 754122,\n",
       "   'sol': 2809,\n",
       "   'camera': {'id': 21,\n",
       "    'name': 'RHAZ',\n",
       "    'rover_id': 5,\n",
       "    'full_name': 'Rear Hazard Avoidance Camera'},\n",
       "   'img_src': 'https://mars.nasa.gov/msl-raw-images/proj/msl/redops/ods/surface/sol/02809/opgs/edr/rcam/RRB_646869036EDR_F0810628RHAZ00337M_.JPG',\n",
       "   'earth_date': '2020-07-01',\n",
       "   'rover': {'id': 5,\n",
       "    'name': 'Curiosity',\n",
       "    'landing_date': '2012-08-06',\n",
       "    'launch_date': '2011-11-26',\n",
       "    'status': 'active'}},\n",
       "  {'id': 754123,\n",
       "   'sol': 2809,\n",
       "   'camera': {'id': 21,\n",
       "    'name': 'RHAZ',\n",
       "    'rover_id': 5,\n",
       "    'full_name': 'Rear Hazard Avoidance Camera'},\n",
       "   'img_src': 'https://mars.nasa.gov/msl-raw-images/proj/msl/redops/ods/surface/sol/02809/opgs/edr/rcam/RLB_646869036EDR_F0810628RHAZ00337M_.JPG',\n",
       "   'earth_date': '2020-07-01',\n",
       "   'rover': {'id': 5,\n",
       "    'name': 'Curiosity',\n",
       "    'landing_date': '2012-08-06',\n",
       "    'launch_date': '2011-11-26',\n",
       "    'status': 'active'}},\n",
       "  {'id': 754124,\n",
       "   'sol': 2809,\n",
       "   'camera': {'id': 21,\n",
       "    'name': 'RHAZ',\n",
       "    'rover_id': 5,\n",
       "    'full_name': 'Rear Hazard Avoidance Camera'},\n",
       "   'img_src': 'https://mars.nasa.gov/msl-raw-images/proj/msl/redops/ods/surface/sol/02809/opgs/edr/rcam/RRB_646860185EDR_F0810628RHAZ00337M_.JPG',\n",
       "   'earth_date': '2020-07-01',\n",
       "   'rover': {'id': 5,\n",
       "    'name': 'Curiosity',\n",
       "    'landing_date': '2012-08-06',\n",
       "    'launch_date': '2011-11-26',\n",
       "    'status': 'active'}},\n",
       "  {'id': 754125,\n",
       "   'sol': 2809,\n",
       "   'camera': {'id': 21,\n",
       "    'name': 'RHAZ',\n",
       "    'rover_id': 5,\n",
       "    'full_name': 'Rear Hazard Avoidance Camera'},\n",
       "   'img_src': 'https://mars.nasa.gov/msl-raw-images/proj/msl/redops/ods/surface/sol/02809/opgs/edr/rcam/RLB_646860185EDR_F0810628RHAZ00337M_.JPG',\n",
       "   'earth_date': '2020-07-01',\n",
       "   'rover': {'id': 5,\n",
       "    'name': 'Curiosity',\n",
       "    'landing_date': '2012-08-06',\n",
       "    'launch_date': '2011-11-26',\n",
       "    'status': 'active'}},\n",
       "  {'id': 754126,\n",
       "   'sol': 2809,\n",
       "   'camera': {'id': 26,\n",
       "    'name': 'NAVCAM',\n",
       "    'rover_id': 5,\n",
       "    'full_name': 'Navigation Camera'},\n",
       "   'img_src': 'https://mars.nasa.gov/msl-raw-images/proj/msl/redops/ods/surface/sol/02809/opgs/edr/ncam/NLB_646869070EDR_F0810628NCAM00229M_.JPG',\n",
       "   'earth_date': '2020-07-01',\n",
       "   'rover': {'id': 5,\n",
       "    'name': 'Curiosity',\n",
       "    'landing_date': '2012-08-06',\n",
       "    'launch_date': '2011-11-26',\n",
       "    'status': 'active'}},\n",
       "  {'id': 754127,\n",
       "   'sol': 2809,\n",
       "   'camera': {'id': 26,\n",
       "    'name': 'NAVCAM',\n",
       "    'rover_id': 5,\n",
       "    'full_name': 'Navigation Camera'},\n",
       "   'img_src': 'https://mars.nasa.gov/msl-raw-images/proj/msl/redops/ods/surface/sol/02809/opgs/edr/ncam/NLB_646860211EDR_F0810628NCAM00229M_.JPG',\n",
       "   'earth_date': '2020-07-01',\n",
       "   'rover': {'id': 5,\n",
       "    'name': 'Curiosity',\n",
       "    'landing_date': '2012-08-06',\n",
       "    'launch_date': '2011-11-26',\n",
       "    'status': 'active'}},\n",
       "  {'id': 754128,\n",
       "   'sol': 2809,\n",
       "   'camera': {'id': 26,\n",
       "    'name': 'NAVCAM',\n",
       "    'rover_id': 5,\n",
       "    'full_name': 'Navigation Camera'},\n",
       "   'img_src': 'https://mars.nasa.gov/msl-raw-images/proj/msl/redops/ods/surface/sol/02809/opgs/edr/ncam/NRB_646869070EDR_F0810628NCAM00229M_.JPG',\n",
       "   'earth_date': '2020-07-01',\n",
       "   'rover': {'id': 5,\n",
       "    'name': 'Curiosity',\n",
       "    'landing_date': '2012-08-06',\n",
       "    'launch_date': '2011-11-26',\n",
       "    'status': 'active'}},\n",
       "  {'id': 754129,\n",
       "   'sol': 2809,\n",
       "   'camera': {'id': 26,\n",
       "    'name': 'NAVCAM',\n",
       "    'rover_id': 5,\n",
       "    'full_name': 'Navigation Camera'},\n",
       "   'img_src': 'https://mars.nasa.gov/msl-raw-images/proj/msl/redops/ods/surface/sol/02809/opgs/edr/ncam/NRB_646860211EDR_F0810628NCAM00229M_.JPG',\n",
       "   'earth_date': '2020-07-01',\n",
       "   'rover': {'id': 5,\n",
       "    'name': 'Curiosity',\n",
       "    'landing_date': '2012-08-06',\n",
       "    'launch_date': '2011-11-26',\n",
       "    'status': 'active'}}]}"
      ]
     },
     "execution_count": 75,
     "metadata": {},
     "output_type": "execute_result"
    }
   ],
   "source": [
    "response.json()"
   ]
  },
  {
   "cell_type": "code",
   "execution_count": 76,
   "id": "9599a70f",
   "metadata": {},
   "outputs": [],
   "source": [
    "photos = response.json()[\"photos\"]"
   ]
  },
  {
   "cell_type": "code",
   "execution_count": 77,
   "id": "0ed97287",
   "metadata": {},
   "outputs": [
    {
     "name": "stdout",
     "output_type": "stream",
     "text": [
      "Found 12 photos\n"
     ]
    }
   ],
   "source": [
    "print(f\"Found {len(photos)} photos\")"
   ]
  },
  {
   "cell_type": "code",
   "execution_count": 78,
   "id": "538f90dc",
   "metadata": {},
   "outputs": [
    {
     "data": {
      "text/plain": [
       "'https://mars.nasa.gov/msl-raw-images/proj/msl/redops/ods/surface/sol/02809/opgs/edr/rcam/RRB_646869036EDR_F0810628RHAZ00337M_.JPG'"
      ]
     },
     "execution_count": 78,
     "metadata": {},
     "output_type": "execute_result"
    }
   ],
   "source": [
    "photos[4][\"img_src\"]"
   ]
  },
  {
   "cell_type": "markdown",
   "id": "ea250bc5",
   "metadata": {},
   "source": [
    "Using `.json()` to convert the response to a Python dictionary and then fetching the photos field from the response, you’re able to iterate through all Photo objects and even fetch a specific photo’s image URL. If you open that URL in your browser, then you’ll see the following picture of Mars taken by one of the Mars rovers"
   ]
  },
  {
   "cell_type": "markdown",
   "id": "5b015d94",
   "metadata": {},
   "source": [
    "For this example, you picked a specific earth_date (2020-07-01) and then a specific photo from the response dictionary (4). Before moving forward, try changing the date or fetching pictures from a different [camera](https://github.com/chrisccerami/mars-photo-api#cameras) to see how it changes the end result."
   ]
  },
  {
   "cell_type": "markdown",
   "id": "a35a93c5",
   "metadata": {},
   "source": [
    "### OAuth: Getting Started\n",
    "\n",
    "Another very common standard in API authentication is [OAuth](https://oauth.net/). You’ll learn only the essentials of OAuth in this tutorial since it’s a very broad topic.\n",
    "\n",
    "Even if you weren’t aware that it was part of OAuth, you may have seen and used the OAuth flow multiple times. Every time an app or platform has a Login With or Continue With option, that’s the starting point of an OAuth flow:"
   ]
  },
  {
   "cell_type": "markdown",
   "id": "55de7d8e",
   "metadata": {},
   "source": [
    "Here’s a step-by-step breakdown of what will happen if you click Continue With Facebook:\n",
    "\n",
    "1. The Spotify app will ask the Facebook API to start an authentication flow. To do this, the Spotify app will send its application ID (client_id) and a URL (redirect_uri) to redirect the user after success or error.\n",
    "2. You’ll be redirected to the Facebook website and asked to log in with your credentials. The Spotify app won’t see or have access to these credentials. This is the most important benefit of OAuth.\n",
    "3. Facebook will show you all the data the Spotify app is requesting from your profile and ask you to accept or reject sharing that data.\n",
    "4. If you accept giving Spotify access to your data, then you’ll be redirected back to the Spotify app, already logged in.\n",
    "\n",
    "When going through step 4, Facebook will provide Spotify with a special credential (access_token) that can be used repeatedly to fetch your information. This specific Facebook login token is valid for sixty days, but other apps might have different expiration periods. If you’re curious, then Facebook has a [settings page](https://www.facebook.com/settings?tab=applications&ref=settings) that you can check to see which apps have been given your Facebook access token."
   ]
  },
  {
   "cell_type": "markdown",
   "id": "d370eacf",
   "metadata": {},
   "source": [
    "Now, from a more technical standpoint, here are the things you need to know when consuming APIs using OAuth:\n",
    "\n",
    "* You need to create an application that will have an ID (`app_id` or `client_id`) and a secret (`app_secret` or `client_secret`).\n",
    "* You need to have a redirect URL (`redirect_uri`), which the API will use to send information to you.\n",
    "* You’ll get a code as the result of the authentication, which you need to exchange for an access token.\n",
    "\n",
    "There are a few variations to the above, but generally speaking, most OAuth flows will have steps similar to these.\n",
    "\n",
    "> Tip: When you’re just testing things out and you need some sort of redirect URL to get a code, you can use a service called [httpbin](https://httpbin.org/).\n",
    ">\n",
    ">More specifically, you can use https://httpbin.org/anything as a redirect URL, as it’ll simply output whatever it gets as an input. You can test it yourself by navigating to that URL.\n",
    "\n",
    "Next, you’ll dive into an example using the GitHub API!"
   ]
  },
  {
   "cell_type": "markdown",
   "id": "fb748bb1",
   "metadata": {},
   "source": [
    "### OAuth: A Practical Example\n",
    "\n",
    "As you saw above, the first thing you need to do is create an application. There’s a great step-by-step explanation on how to do this in the [GitHub documentation](https://docs.github.com/en/free-pro-team@latest/developers/apps/creating-an-oauth-app) that you can follow. The only thing to keep in mind is to use the https://httpbin.org/anything URL mentioned above for the Authorization callback URL field.\n",
    "\n",
    "> GitHub API: You can use the [GitHub API](https://docs.github.com/en/rest) for a lot of different use cases, such as getting a list of repositories you’re a part of, getting a list of followers you have, and much more."
   ]
  },
  {
   "cell_type": "markdown",
   "id": "fe78890a",
   "metadata": {},
   "source": [
    "Once you’ve created your app, copy and paste the Client_ID and Client_Secret, together with your selected redirect URL, into a Python file called github.py:"
   ]
  },
  {
   "cell_type": "code",
   "execution_count": 79,
   "id": "966d9ad8",
   "metadata": {},
   "outputs": [],
   "source": [
    "import requests\n",
    "from dotenv import dotenv_values\n",
    "config = dotenv_values(\"github.env\")\n",
    "\n",
    "# REPLACE the following variables with your Client ID and Client Secret\n",
    "CLIENT_ID = config['CLIENT_ID']\n",
    "CLIENT_SECRET = config['CLIENT_SECRET']\n",
    "\n",
    "# REPLACE the following variable with what you added in the\n",
    "# \"Authorization callback URL\" field\n",
    "REDIRECT_URI = \"https://httpbin.org/anything\""
   ]
  },
  {
   "cell_type": "markdown",
   "id": "1c8dd039",
   "metadata": {},
   "source": [
    "Now that you have all the important variables in place, you need to be able to create a link to redirect the user to their GitHub account, as explained in the GitHub documentation:"
   ]
  },
  {
   "cell_type": "code",
   "execution_count": 80,
   "id": "c1f0c360",
   "metadata": {},
   "outputs": [],
   "source": [
    "def create_oauth_link():\n",
    "    params = {\n",
    "        \"client_id\": CLIENT_ID,\n",
    "        \"redirect_uri\": REDIRECT_URI,\n",
    "        \"scope\": \"user\",\n",
    "        \"response_type\": \"code\",\n",
    "    }\n",
    "\n",
    "    endpoint = \"https://github.com/login/oauth/authorize\"\n",
    "    response = requests.get(endpoint, params=params)\n",
    "    url = response.url\n",
    "    return url"
   ]
  },
  {
   "cell_type": "markdown",
   "id": "ac62ac3e",
   "metadata": {},
   "source": [
    "In this piece of code, you first define the required parameters that the API expects and then call the API using the requests package and `.get()`.\n",
    "\n",
    "When you make the request to the `/login/oauth/authorize` endpoint, the API will automatically redirect you to the GitHub website. In that case, you want to fetch the url parameter from the response. This parameter contains the exact URL that GitHub is redirecting you to."
   ]
  },
  {
   "cell_type": "markdown",
   "id": "e1581b10",
   "metadata": {},
   "source": [
    "The next step in the authorization flow is to exchange the code you get for an access token. Again, following the steps in GitHub’s documentation, you can make a method for it:"
   ]
  },
  {
   "cell_type": "code",
   "execution_count": 81,
   "id": "46525897",
   "metadata": {},
   "outputs": [],
   "source": [
    "def exchange_code_for_access_token(code=None):\n",
    "    params = {\n",
    "        \"client_id\": CLIENT_ID,\n",
    "        \"client_secret\": CLIENT_SECRET,\n",
    "        \"redirect_uri\": REDIRECT_URI,\n",
    "        \"code\": code,\n",
    "    }\n",
    "\n",
    "    headers = {\"Accept\": \"application/json\"}\n",
    "    endpoint = \"https://github.com/login/oauth/access_token\"\n",
    "    response = requests.post(endpoint, params=params, headers=headers).json()\n",
    "    return response[\"access_token\"]"
   ]
  },
  {
   "cell_type": "markdown",
   "id": "d6c6eabd",
   "metadata": {},
   "source": [
    "Here, you make a `POST` request to exchange the code for an access token. In this request, you have to send your `CLIENT_SECRET` and code so that GitHub can validate that this specific code was initially generated by your application. Only then will the GitHub API generate a valid access token and return it to you.\n",
    "\n",
    "Now you can add the following to your file and try running it:"
   ]
  },
  {
   "cell_type": "code",
   "execution_count": null,
   "id": "2e49aa87",
   "metadata": {},
   "outputs": [],
   "source": [
    "link = create_oauth_link()\n",
    "print(f\"Follow the link to start the authentication with GitHub: {link}\")\n",
    "code = input(\"GitHub code: \")\n",
    "access_token = exchange_code_for_access_token(code)\n",
    "print(f\"Exchanged code {code} with access token: {access_token}\")"
   ]
  },
  {
   "cell_type": "markdown",
   "id": "e5e8a4f9",
   "metadata": {},
   "source": [
    "If everything goes according to plan, then you should be rewarded with a valid access token that you can use to make calls to the GitHub API, impersonating the authenticated user.\n",
    "\n",
    "Now try adding the following code to fetch your user profile using the User API and to print your name, username, and number of private repositories:"
   ]
  },
  {
   "cell_type": "code",
   "execution_count": 83,
   "id": "44972343",
   "metadata": {},
   "outputs": [],
   "source": [
    "def print_user_info(access_token=None):\n",
    "    headers = {\"Authorization\": f\"token {access_token}\"}\n",
    "    endpoint = \"https://api.github.com/user\"\n",
    "    response = requests.get(endpoint, headers=headers).json()\n",
    "    name = response[\"name\"]\n",
    "    username = response[\"login\"]\n",
    "    private_repos_count = response[\"total_private_repos\"]\n",
    "    print(\n",
    "        f\"{name} ({username}) | private repositories: {private_repos_count}\"\n",
    "    )"
   ]
  },
  {
   "cell_type": "markdown",
   "id": "299c2a0f",
   "metadata": {},
   "source": [
    "Now that you have a valid access token, you need to send it on all your API requests using the Authorization header. The response to your request will be a Python dictionary containing all the user information. From that dictionary, you want to fetch the fields name, login, and total_private_repos. You can also print the response variable to see what other fields are available.\n",
    "\n",
    "Alright, that should be it! The only thing left to do is to put it all together and try it out:"
   ]
  },
  {
   "cell_type": "code",
   "execution_count": 84,
   "id": "c6ec1b4d",
   "metadata": {},
   "outputs": [
    {
     "name": "stdout",
     "output_type": "stream",
     "text": [
      "Brian J Kolowitz (BrianKolowitz) | private repositories: 3\n"
     ]
    }
   ],
   "source": [
    "print_user_info(access_token=access_token)"
   ]
  },
  {
   "cell_type": "markdown",
   "id": "fd20ba6e",
   "metadata": {},
   "source": [
    "Here’s what happens when you run the code above:\n",
    "\n",
    "1. A link is generated asking you to go to a GitHub page for authentication.\n",
    "2. After following that link and logging in with your GitHub credentials, you’re redirected to your defined callback URL with a code field in the query parameters: \n",
    "3. After pasting that code in your console, you exchange the code for a reusable access token.\n",
    "4. Your user information is fetched using that access token. Your name, username, and private repositories count are printed.\n",
    "If you follow the steps above, then you should get a similar end result to this one:\n",
    "\n",
    "```bash\n",
    "$ John Doe (johndoe) | number of private repositories: 42\n",
    "```"
   ]
  },
  {
   "cell_type": "markdown",
   "id": "152846f9",
   "metadata": {},
   "source": [
    "There are quite a few steps to take here, but it’s important that you take the time to really understand each one. Most APIs using OAuth will share a lot of the same behavior, so knowing this process well will unlock a lot of potential when you’re reading data from APIs."
   ]
  },
  {
   "cell_type": "markdown",
   "id": "dca995f5",
   "metadata": {},
   "source": [
    "Feel free to improve this example and add more functionality, such as getting your public and starred repositories or iterating through your followers to identify the most popular ones."
   ]
  },
  {
   "cell_type": "markdown",
   "id": "33d7594b",
   "metadata": {},
   "source": [
    "There are plenty of great resources online about OAuth, and if consuming APIs behind OAuth is what you really need, then I’d advise you to do a bit more research on that topic specifically. Here are a few good places to start:\n",
    "\n",
    "* [What the Heck is OAuth](https://developer.okta.com/blog/2017/06/21/what-the-heck-is-oauth)?\n",
    "* [OAuth 2 Simplified](https://aaronparecki.com/oauth-2-simplified/)\n",
    "* [OAuth 2.0 Authorization Framework](https://auth0.com/docs/protocols/oauth2)\n",
    "\n",
    "From an API consumption perspective, knowing OAuth will definitely come very in handy when you’re interacting with public APIs. Most APIs have adopted OAuth as their authentication standard, and with good reason."
   ]
  },
  {
   "cell_type": "markdown",
   "id": "30f7d36b",
   "metadata": {},
   "source": [
    "### Pagination\n",
    "\n",
    "Sending lots of data back and forth between clients and servers comes with a price: bandwidth. To make sure that servers can cope with a lot of requests, APIs typically use pagination.\n",
    "\n",
    "In very simple terms, pagination is the act of splitting large amounts of data into multiple smaller pieces."
   ]
  },
  {
   "cell_type": "markdown",
   "id": "10aa369f",
   "metadata": {},
   "source": [
    "You probably recognize this from many other websites, and the concept is mostly the same across different sites. For APIs in specific, this is normally handled with the help of query parameters, mainly the following two:\n",
    "\n",
    "1. A page attribute that defines which page you’re currently requesting\n",
    "2. A size attribute that defines the size of each page"
   ]
  },
  {
   "cell_type": "markdown",
   "id": "8205995b",
   "metadata": {},
   "source": [
    "The specific query parameter names might vary a lot depending on the API developers, but the concept is the same. A few API players might also use HTTP headers or the JSON response to return current pagination filters in place."
   ]
  },
  {
   "cell_type": "markdown",
   "id": "f38f7680",
   "metadata": {},
   "source": [
    "Using the GitHub API again, you can find an events endpoint in the documentation that contains pagination query parameters. The parameter `per_page=` defines the number of items to return, and `page=` allows you to paginate through multiple results. Here’s how to use these parameters:"
   ]
  },
  {
   "cell_type": "code",
   "execution_count": 85,
   "id": "2185c563",
   "metadata": {},
   "outputs": [
    {
     "data": {
      "text/plain": [
       "'19159189189'"
      ]
     },
     "execution_count": 85,
     "metadata": {},
     "output_type": "execute_result"
    }
   ],
   "source": [
    "response = requests.get(\"https://api.github.com/events?per_page=1&page=0\")\n",
    "response.json()[0][\"id\"]"
   ]
  },
  {
   "cell_type": "code",
   "execution_count": 86,
   "id": "010b004a",
   "metadata": {},
   "outputs": [
    {
     "data": {
      "text/plain": [
       "'19159192226'"
      ]
     },
     "execution_count": 86,
     "metadata": {},
     "output_type": "execute_result"
    }
   ],
   "source": [
    "response = requests.get(\"https://api.github.com/events?per_page=1&page=1\")\n",
    "response.json()[0][\"id\"]"
   ]
  },
  {
   "cell_type": "code",
   "execution_count": 87,
   "id": "a4f3dc97",
   "metadata": {},
   "outputs": [
    {
     "data": {
      "text/plain": [
       "'19159198801'"
      ]
     },
     "execution_count": 87,
     "metadata": {},
     "output_type": "execute_result"
    }
   ],
   "source": [
    "response = requests.get(\"https://api.github.com/events?per_page=1&page=2\")\n",
    "response.json()[0][\"id\"]"
   ]
  },
  {
   "cell_type": "markdown",
   "id": "ad2805a7",
   "metadata": {},
   "source": [
    "With the first URL, you’re only able to fetch one event. But using the page= query parameter, you can keep paginating through results, making sure that you’re able to fetch all of the events without overloading the API."
   ]
  },
  {
   "cell_type": "markdown",
   "id": "486fbc5e",
   "metadata": {},
   "source": [
    "### Rate Limiting\n",
    "\n",
    "Given that APIs are public facing and can be used by anyone, people with bad intentions often try to abuse them. To prevent such attacks, you can use a technique called rate limiting, which restricts the number of requests that users can make in a given time frame."
   ]
  },
  {
   "cell_type": "markdown",
   "id": "ec6b308e",
   "metadata": {},
   "source": [
    "Some APIs may actually block your IP or API keys if you go over the defined rate limit too often. Be careful not to exceed the limits set by the API developers. Otherwise, you might have to wait a while before calling that API again."
   ]
  },
  {
   "cell_type": "markdown",
   "id": "8eea6be9",
   "metadata": {},
   "source": [
    "For the example below, you’ll once again use the GitHub API and the /events endpoint. According to its documentation, GitHub allows about sixty unauthenticated requests per hour. If you go above that, then you’ll get a 403 status code and won’t be able to make any more API calls for quite some time.\n",
    "\n",
    "> Warning: Running the next piece of code will really block you from calling GitHub for some time, so make sure you don’t need access to GitHub’s API for a bit before you run it."
   ]
  },
  {
   "cell_type": "markdown",
   "id": "2a9022a9",
   "metadata": {},
   "source": [
    "For the sake of demonstration, you’ll purposefully try to exceed GitHub’s rate limit to see what happens. In the code below, you’ll request data until you get a status code other than `200 OK`:"
   ]
  },
  {
   "cell_type": "code",
   "execution_count": 94,
   "id": "8270e437",
   "metadata": {},
   "outputs": [
    {
     "name": "stdout",
     "output_type": "stream",
     "text": [
      "0 - 403\n"
     ]
    }
   ],
   "source": [
    "endpoint = \"https://api.github.com/events\"\n",
    "for i in range(100):\n",
    "    response = requests.get(endpoint)\n",
    "    if i % 10 == 0 or response.status_code != 200:\n",
    "        print(f\"{i} - {response.status_code}\")\n",
    "    if response.status_code != 200:\n",
    "        break"
   ]
  },
  {
   "cell_type": "markdown",
   "id": "19c3144b",
   "metadata": {},
   "source": [
    "0 - 200\n",
    "1 - 200\n",
    "2 - 200\n",
    "3 - 200\n",
    "4 - 200\n",
    "5 - 200\n",
    "...\n",
    "55 - 200\n",
    "56 - 200\n",
    "57 - 403"
   ]
  },
  {
   "cell_type": "code",
   "execution_count": 95,
   "id": "7be6fc4d",
   "metadata": {},
   "outputs": [
    {
     "data": {
      "text/plain": [
       "<Response [403]>"
      ]
     },
     "execution_count": 95,
     "metadata": {},
     "output_type": "execute_result"
    }
   ],
   "source": [
    "response"
   ]
  },
  {
   "cell_type": "code",
   "execution_count": 96,
   "id": "78485652",
   "metadata": {},
   "outputs": [
    {
     "data": {
      "text/plain": [
       "{'message': \"API rate limit exceeded for 72.95.128.204. (But here's the good news: Authenticated requests get a higher rate limit. Check out the documentation for more details.)\",\n",
       " 'documentation_url': 'https://docs.github.com/rest/overview/resources-in-the-rest-api#rate-limiting'}"
      ]
     },
     "execution_count": 96,
     "metadata": {},
     "output_type": "execute_result"
    }
   ],
   "source": [
    "response.json()"
   ]
  },
  {
   "cell_type": "markdown",
   "id": "9be380ba",
   "metadata": {},
   "source": [
    "There you have it: After about sixty requests, the API stopped returning `200 OK` responses and returned a `403 Forbidden` response instead, informing you that you exceeded the API rate limit.\n",
    "\n",
    "Some APIs, like GitHub’s, might even include additional information in the headers regarding your current rate limit and how many requests you have remaining. These are very helpful for you to avoid going over the defined limit. Have a look at the latest response.headers to see if you can find those specific rate limiting headers."
   ]
  },
  {
   "cell_type": "markdown",
   "id": "22bb5b00",
   "metadata": {},
   "source": [
    "## Consuming APIs With Python: Practical Examples\n",
    "\n",
    "Now that you know all the theory and have experimented with a few APIs, you can consolidate those learnings with some more practical examples. You can modify the examples below to tailor them to your own purposes."
   ]
  },
  {
   "cell_type": "markdown",
   "id": "7ce92c3e",
   "metadata": {},
   "source": [
    "### Searching and Fetching Trending GIFs\n",
    "\n",
    "How about making a small script that fetches the top three trending GIFs from the [GIPHY](https://giphy.com/) website? To do this, you need to create an app and get an API key from GIPHY. You can find instructions by expanding the box below, and you can also check GIPHY’s [quickstart documentation](https://developers.giphy.com/docs/api#quick-start-guide)."
   ]
  },
  {
   "cell_type": "markdown",
   "id": "b10b1272",
   "metadata": {},
   "source": [
    "After you have the API key in your hands, you can start writing some code to consume this API. However, sometimes you want to run some tests before you implement a lot of code. I know I do. The thing is, a few APIs will actually provide you with tools to fetch API data directly from the documentation or their dashboard."
   ]
  },
  {
   "cell_type": "markdown",
   "id": "e2610506",
   "metadata": {},
   "source": [
    "In this particular case, GIPHY provides you with an [API Explorer](https://developers.giphy.com/explorer) that, after you create your app, allows you to start consuming the API without writing a line of code."
   ]
  },
  {
   "cell_type": "markdown",
   "id": "5559191a",
   "metadata": {},
   "source": [
    "Some other APIs will provide you with explorers within the documentation itself, which is what [TheDogAPI](https://docs.thedogapi.com/api-reference/breeds/breeds-search) does on the bottom of each API reference page."
   ]
  },
  {
   "cell_type": "markdown",
   "id": "576e4820",
   "metadata": {},
   "source": [
    "In any case, you can always use code to consume APIs, and that’s what you’ll do here. Grab the API key from the dashboard and, by replacing the value of the API_KEY variable below, you can start consuming the GIPHY API:"
   ]
  },
  {
   "cell_type": "code",
   "execution_count": null,
   "id": "efc0b5be",
   "metadata": {},
   "outputs": [],
   "source": [
    "import requests\n",
    "from dotenv import dotenv_values\n",
    "config = dotenv_values(\"giphy.env\")\n",
    "\n",
    "endpoint = \"https://api.giphy.com/v1/gifs/trending\"\n",
    "params = {\"api_key\": config['API_KEY'], \"limit\": 3, \"rating\": \"g\"}\n",
    "response = requests.get(endpoint, params=params).json()\n",
    "\n",
    "for gif in response[\"data\"]:\n",
    "    title = gif[\"title\"]\n",
    "    trending_date = gif[\"trending_datetime\"]\n",
    "    url = gif[\"url\"]\n",
    "    print(f\"{title} | {trending_date} | {url}\")"
   ]
  },
  {
   "cell_type": "markdown",
   "id": "e83f0cd4",
   "metadata": {},
   "source": [
    "At the top of the file, on lines 4 and 5, you define your API_KEY and the GIPHY API endpoint since they won’t change as often as the rest.\n",
    "\n",
    "On line 7, making use of what you learned in the query parameters section, you define the params and add your own API key. You also include a couple of other filters: limit to get 3 results and rating to get only appropriate content.\n",
    "\n",
    "Finally, after getting a response, you iterate through the results on line 9. For each GIF, you print its title, date, and URL on line 13.\n",
    "\n",
    "Running this piece of code in the console would output a somewhat structured list of GIFs:"
   ]
  },
  {
   "cell_type": "markdown",
   "id": "29ed5831",
   "metadata": {},
   "source": [
    "Now, let’s say you want to make a script that allows you to search for a specific word and fetch the first GIPHY match to that word. A different endpoint and slight variation of the code above can do that quite quickly:"
   ]
  },
  {
   "cell_type": "code",
   "execution_count": null,
   "id": "c8e45010",
   "metadata": {},
   "outputs": [],
   "source": [
    "import requests\n",
    "from dotenv import dotenv_values\n",
    "config = dotenv_values(\"giphy.env\")\n",
    "\n",
    "endpoint = \"https://api.giphy.com/v1/gifs/search\"\n",
    "\n",
    "search_term = \"shrug\"\n",
    "params = {\"api_key\": config['API_KEY'], \"limit\": 1, \"q\": search_term, \"rating\": \"g\"}\n",
    "response = requests.get(endpoint, params=params).json()\n",
    "\n",
    "for gif in response[\"data\"]:\n",
    "    title = gif[\"title\"]\n",
    "    url = gif[\"url\"]\n",
    "    print(f\"{title} | {url}\")"
   ]
  },
  {
   "cell_type": "markdown",
   "id": "b35dd607",
   "metadata": {},
   "source": [
    "There you have it! Now you can modify this script to your liking and generate GIFs on demand. Try fetching GIFs from your favorite show or movie, adding a shortcut to your terminal to get the most popular GIFs on demand, or integrating with another API from your favorite messaging system—WhatsApp, Slack, you name it. Then start sending GIFs to your friends and coworkers!"
   ]
  },
  {
   "cell_type": "markdown",
   "id": "8a6c0bff",
   "metadata": {},
   "source": [
    "### Getting COVID-19 Confirmed Cases Per Country\n",
    "\n",
    "Even though this may be something that you’re tired of hearing about by now, there’s a [free API](https://covid19api.com/) with up-to-date world COVID-19 data. This API doesn’t require authentication, so it’s pretty straightforward to get some data right away. The free version that you’ll use below has a rate limit and some restrictions on the data, but it’s more than enough for small use cases."
   ]
  },
  {
   "cell_type": "markdown",
   "id": "6cf83217",
   "metadata": {},
   "source": [
    "For this example, you’ll get the total number of confirmed cases up to the previous day. I randomly picked Germany again as the country, but you can pick any [country slug](https://api.covid19api.com/countries) you like:"
   ]
  },
  {
   "cell_type": "code",
   "execution_count": 67,
   "id": "4368e20b",
   "metadata": {},
   "outputs": [
    {
     "name": "stdout",
     "output_type": "stream",
     "text": [
      "Total Confirmed Covid-19 cases in germany: 5923564\n"
     ]
    }
   ],
   "source": [
    "import requests\n",
    "from datetime import date, timedelta\n",
    "\n",
    "today = date.today()\n",
    "yesterday = today - timedelta(days=1)\n",
    "country = \"germany\"\n",
    "endpoint = f\"https://api.covid19api.com/country/{country}/status/confirmed\"\n",
    "params = {\"from\": str(yesterday), \"to\": str(today)}\n",
    "\n",
    "response = requests.get(endpoint, params=params).json()\n",
    "total_confirmed = 0\n",
    "for day in response:\n",
    "    cases = day.get(\"Cases\", 0)\n",
    "    total_confirmed += cases\n",
    "\n",
    "print(f\"Total Confirmed Covid-19 cases in {country}: {total_confirmed}\")"
   ]
  },
  {
   "cell_type": "markdown",
   "id": "92463cd8",
   "metadata": {},
   "source": [
    "On lines 1 and 2, you import the necessary modules. In this case, you have to import the date and timedelta objects to be able to get today’s and yesterday’s dates.\n",
    "\n",
    "On lines 6 to 8, you define the country slug you want to use, the endpoint, and the query parameters for the API request.\n",
    "\n",
    "The response is a list of days, and for each day you have a Cases field that contains the total number of confirmed cases on that date. On line 11, you create a variable to keep the total number of confirmed cases, and then on line 14 you iterate through all the days and sum them up.\n",
    "\n",
    "Printing the end result will show you the total number of confirmed cases in the selected country:"
   ]
  },
  {
   "cell_type": "markdown",
   "id": "1117e072",
   "metadata": {},
   "source": [
    "In this example, you’re looking at total number of confirmed cases for a whole country. However, you could also try looking at the [documentation](https://documenter.getpostman.com/view/10808728/SzS8rjbc) and fetching the data for your specific city instead. And why not make it a bit more thorough and get some other data, such as the number of recovered cases?"
   ]
  },
  {
   "cell_type": "markdown",
   "id": "c7e624f2",
   "metadata": {},
   "source": [
    "### Searching Google Books\n",
    "\n",
    "If you have a passion for books, then you might want a quick way to search for a specific book. You might even want to connect it to your local library’s search to see if a given book is available using the book’s [ISBN](https://en.wikipedia.org/wiki/International_Standard_Book_Number)."
   ]
  },
  {
   "cell_type": "markdown",
   "id": "2e69a95a",
   "metadata": {},
   "source": [
    "For this example, you’ll use the [Google Books API](https://developers.google.com/books) and the [public volumes](https://developers.google.com/books/docs/v1/using#WorkingVolumes) endpoint to do simple searches of books."
   ]
  },
  {
   "cell_type": "markdown",
   "id": "04720582",
   "metadata": {},
   "source": [
    "Here’s a straightforward piece of code to look for the words moby dick in the whole catalog:"
   ]
  },
  {
   "cell_type": "code",
   "execution_count": 71,
   "id": "a417cf08",
   "metadata": {},
   "outputs": [
    {
     "name": "stdout",
     "output_type": "stream",
     "text": [
      "Moby Dick | (2014-11-29) | Moby-Dick; or, The Whale is a \n",
      "Moby Dick | (2016-06-17) | Moby Dick is a novel by Americ\n",
      "Why Read Moby-Dick? | (2013-09-24) | A “brilliant and provocative” \n"
     ]
    }
   ],
   "source": [
    "import requests\n",
    "\n",
    "endpoint = \"https://www.googleapis.com/books/v1/volumes\"\n",
    "query = \"moby dick\"\n",
    "\n",
    "params = {\"q\": query, \"maxResults\": 3}\n",
    "response = requests.get(endpoint, params=params).json()\n",
    "for book in response[\"items\"]:\n",
    "    volume = book[\"volumeInfo\"]\n",
    "    title = volume[\"title\"]\n",
    "    published = volume[\"publishedDate\"]\n",
    "    description = volume[\"description\"]\n",
    "    print(f\"{title} | ({published}) | {description[:30]}\")"
   ]
  },
  {
   "cell_type": "markdown",
   "id": "e4f0ee4c",
   "metadata": {},
   "source": [
    "This code example is pretty similar to the ones you’ve seen before. You start on lines 3 and 4 by defining important variables, such as the endpoint and, in this case, the query.\n",
    "\n",
    "After making the API request, on line 8 you start iterating through the results. Then, on line 13, you print the most interesting information for each book that matches your initial query:"
   ]
  },
  {
   "cell_type": "markdown",
   "id": "99c68bd2",
   "metadata": {},
   "source": [
    "You can print the book variable inside the loop to see what other fields you have available. Here are a few that could be useful for further improving this code:\n",
    "\n",
    "* industryIdentifiers\n",
    "* averageRating and ratingsCount\n",
    "* imageLinks"
   ]
  },
  {
   "cell_type": "markdown",
   "id": "6a3f80e0",
   "metadata": {},
   "source": [
    "A fun challenge to do with this API is to use your [OAuth knowledge](https://developers.google.com/books/docs/v1/using#auth) and create your own bookshelf app that keeps records of all the books you read or want to read. You can even connect it to your favorite bookstore or library afterward to quickly find books from your wish list that are available near you. This is just one idea—I’m sure you can come up with more."
   ]
  },
  {
   "cell_type": "markdown",
   "id": "dec17bc6",
   "metadata": {},
   "source": [
    "## Conclusion\n",
    "\n",
    "There are a million other things you can learn about APIs: different headers, different content types, different authentication techniques, and so on. However, the concepts and techniques you learned in this tutorial will allow you to practice with any API of your liking and to use Python for any API consumption needs you may have.\n",
    "\n",
    "In this tutorial, you learned:\n",
    "\n",
    "* What an API is and what can you use it for\n",
    "* What status codes, HTTP headers, and HTTP methods are\n",
    "* How can you use Python to consume public data using APIs\n",
    "* How to use authentication when consuming APIs with Python\n",
    "\n",
    "Go ahead and try this new magic skill with some public APIs of your liking! You can also review the examples you saw in this tutorial by downloading the source code from the link below:"
   ]
  },
  {
   "cell_type": "markdown",
   "id": "7f4a35a0",
   "metadata": {},
   "source": [
    "## Further Reading\n",
    "\n",
    "The APIs used as examples in this tutorial are just a tiny fraction of the numerous public APIs available for free. Here’s a list of API collections that you can use to find your next favorite API:\n",
    "\n",
    "* [GitHub Public APIs repository](https://github.com/public-apis/public-apis)\n",
    "* [Public APIs](https://public-apis.io/)\n",
    "* [Public API](https://public-apis.xyz/)\n",
    "* [Any API](https://any-api.com/)\n",
    "\n",
    "You can check these out and find an API that speaks to you and your hobbies and maybe inspires you to do a small project with it. If you come across a good public API that you think I or other people reading the tutorial should know about, then please leave a comment below!"
   ]
  },
  {
   "cell_type": "code",
   "execution_count": null,
   "id": "80c3ecf6",
   "metadata": {},
   "outputs": [],
   "source": []
  }
 ],
 "metadata": {
  "kernelspec": {
   "display_name": "Python 3 (ipykernel)",
   "language": "python",
   "name": "python3"
  },
  "language_info": {
   "codemirror_mode": {
    "name": "ipython",
    "version": 3
   },
   "file_extension": ".py",
   "mimetype": "text/x-python",
   "name": "python",
   "nbconvert_exporter": "python",
   "pygments_lexer": "ipython3",
   "version": "3.9.7"
  }
 },
 "nbformat": 4,
 "nbformat_minor": 5
}
