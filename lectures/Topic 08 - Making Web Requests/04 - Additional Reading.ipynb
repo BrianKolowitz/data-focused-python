{
 "cells": [
  {
   "cell_type": "markdown",
   "id": "d069d7c0-0f22-4b09-9b5d-32326e857119",
   "metadata": {},
   "source": [
    "# Additional Reading\n",
    "\n",
    "* [Working with Google Sheets](https://automatetheboringstuff.com/2e/chapter14/)\n",
    "\n"
   ]
  },
  {
   "cell_type": "code",
   "execution_count": null,
   "id": "574d642b-3656-428e-b33a-ecfaa98fb78b",
   "metadata": {},
   "outputs": [],
   "source": []
  }
 ],
 "metadata": {
  "kernelspec": {
   "display_name": "Python 3 (ipykernel)",
   "language": "python",
   "name": "python3"
  },
  "language_info": {
   "codemirror_mode": {
    "name": "ipython",
    "version": 3
   },
   "file_extension": ".py",
   "mimetype": "text/x-python",
   "name": "python",
   "nbconvert_exporter": "python",
   "pygments_lexer": "ipython3",
   "version": "3.9.7"
  }
 },
 "nbformat": 4,
 "nbformat_minor": 5
}
