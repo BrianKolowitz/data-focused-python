{
 "cells": [
  {
   "cell_type": "markdown",
   "metadata": {},
   "source": [
    "# Descriptive Statistics\n",
    "\n",
    "* Min\n",
    "* Max\n",
    "* Mean\n",
    "* Median\n",
    "* Standard Deviation\n",
    "* Variance\n",
    "\n",
    "First we're going to define a method to get the patient's age from their birthdate and then use that function to create a list of patient ages."
   ]
  },
  {
   "cell_type": "code",
   "execution_count": 1,
   "metadata": {
    "collapsed": true
   },
   "outputs": [],
   "source": [
    "import csv\n",
    "\n",
    "from datetime import date, timedelta\n",
    "from dateutil import parser\n",
    "\n",
    "def get_age(birth_date):\n",
    "    if isinstance(birth_date, str):\n",
    "        birth_date = parser.parse(birth_date).date()\n",
    "\n",
    "    age = (date.today() - birth_date) // timedelta(days=365)\n",
    "    return age"
   ]
  },
  {
   "cell_type": "code",
   "execution_count": 2,
   "metadata": {},
   "outputs": [
    {
     "name": "stdout",
     "output_type": "stream",
     "text": [
      "[4, 16, 11, 15, 6, 7, 53, 82, 12, 18, 52, 21, 16, 62, 9, 37, 32, 3, 80, 17, 16, 13, 24, 26, 27, 6, 69, 30, 80, 39, 49, 15, 38, 52, 58, 63, 9, 19, 30, 50, 1, 51, 80, 28, 67, 22, 97, 10, 49, 97, 25, 74, 76, 27, 15, 67, 32, 76, 56, 74, 97, 64, 68, 58, 48, 31, 2, 76, 64, 46, 1, 64, 75, 97, 23, 17, 45, 77, 97, 30, 8, 72, 59, 97, 61, 57, 65, 0, 48, 97, 1, 68, 59, 60, 41, 16, 70, 27, 97, 51, 69, 24, 26, 54, 30, 67, 21, 29, 44, 97, 104, 28, 19, 65, 65, 104, 97, 104, 97, 104, 104, 97, 104, 97, 97, 97, 97, 88, 88]\n"
     ]
    }
   ],
   "source": [
    "# calculate a list of patient ages\n",
    "patient_ages = []\n",
    "with open('../data/csv/patients.csv') as f:\n",
    "    reader = csv.DictReader(f)\n",
    "    for i, row in enumerate(reader):\n",
    "        date_of_birth = row['BIRTHDATE']\n",
    "        age = get_age(date_of_birth)\n",
    "        patient_ages.append(age)\n",
    "print(patient_ages)"
   ]
  },
  {
   "cell_type": "markdown",
   "metadata": {},
   "source": [
    "## Min & Max"
   ]
  },
  {
   "cell_type": "code",
   "execution_count": 3,
   "metadata": {},
   "outputs": [
    {
     "name": "stdout",
     "output_type": "stream",
     "text": [
      "Min Age: 0, Max Age: 104\n"
     ]
    }
   ],
   "source": [
    "# find min and max with a for loop:\n",
    "min_age = 0\n",
    "max_age = 0\n",
    "\n",
    "for i, age in enumerate(patient_ages):\n",
    "    if i == 0:\n",
    "        min_age = age\n",
    "        max_age = age\n",
    "        \n",
    "    if age < min_age:\n",
    "        min_age = age\n",
    "    if age > max_age:\n",
    "        max_age = age\n",
    "\n",
    "print(f'Min Age: {min_age}, Max Age: {max_age}')"
   ]
  },
  {
   "cell_type": "code",
   "execution_count": 4,
   "metadata": {},
   "outputs": [
    {
     "name": "stdout",
     "output_type": "stream",
     "text": [
      "Min Age: 0, Max Age: 104\n"
     ]
    }
   ],
   "source": [
    "# find min and max with a for loop:\n",
    "min_age = patient_ages[0]\n",
    "max_age = patient_ages[0]\n",
    "\n",
    "for age in patient_ages:\n",
    "    if age < min_age:\n",
    "        min_age = age\n",
    "    if age > max_age:\n",
    "        max_age = age\n",
    "\n",
    "print(f'Min Age: {min_age}, Max Age: {max_age}')"
   ]
  },
  {
   "cell_type": "code",
   "execution_count": 5,
   "metadata": {},
   "outputs": [
    {
     "name": "stdout",
     "output_type": "stream",
     "text": [
      "Min Age: 0, Max Age: 104\n"
     ]
    }
   ],
   "source": [
    "# find min and max by sorting\n",
    "sorted_ages = sorted(patient_ages)\n",
    "min_age = sorted_ages[0]\n",
    "max_age = sorted_ages[-1]\n",
    "print(f'Min Age: {min_age}, Max Age: {max_age}')"
   ]
  },
  {
   "cell_type": "code",
   "execution_count": 6,
   "metadata": {},
   "outputs": [
    {
     "name": "stdout",
     "output_type": "stream",
     "text": [
      "Min Age: 0, Max Age: 104\n"
     ]
    }
   ],
   "source": [
    "# find min and max with reduce\n",
    "from functools import reduce\n",
    "\n",
    "min_age = reduce(lambda a, b : a if a < b else b, patient_ages)\n",
    "max_age = reduce(lambda a, b : a if a > b else b, patient_ages)\n",
    "print(f'Min Age: {min_age}, Max Age: {max_age}')"
   ]
  },
  {
   "cell_type": "code",
   "execution_count": 7,
   "metadata": {},
   "outputs": [
    {
     "name": "stdout",
     "output_type": "stream",
     "text": [
      "Min Age: 0, Max Age: 104\n"
     ]
    }
   ],
   "source": [
    "# find min and max with min and max\n",
    "min_age = min(patient_ages)\n",
    "max_age = max(patient_ages)\n",
    "print(f'Min Age: {min_age}, Max Age: {max_age}')"
   ]
  },
  {
   "cell_type": "markdown",
   "metadata": {},
   "source": [
    "## Mean"
   ]
  },
  {
   "cell_type": "code",
   "execution_count": 8,
   "metadata": {},
   "outputs": [
    {
     "name": "stdout",
     "output_type": "stream",
     "text": [
      "Mean Age: 50.70542635658915\n"
     ]
    }
   ],
   "source": [
    "# calculate mean with a for loop\n",
    "total_age = 0\n",
    "age_count = 0\n",
    "\n",
    "for age in patient_ages:\n",
    "    total_age += age\n",
    "    age_count += 1\n",
    "    \n",
    "mean_age = total_age / age_count\n",
    "print(f'Mean Age: {mean_age}')"
   ]
  },
  {
   "cell_type": "code",
   "execution_count": 9,
   "metadata": {},
   "outputs": [
    {
     "name": "stdout",
     "output_type": "stream",
     "text": [
      "Mean Age: 50.70542635658915\n"
     ]
    }
   ],
   "source": [
    "# calculate mean age with reduce \n",
    "import functools\n",
    "total_age = functools.reduce(lambda a, b : a + b, patient_ages)\n",
    "age_count = len(patient_ages)\n",
    "\n",
    "mean_age = total_age / age_count\n",
    "print(f'Mean Age: {mean_age}')"
   ]
  },
  {
   "cell_type": "code",
   "execution_count": 10,
   "metadata": {},
   "outputs": [
    {
     "name": "stdout",
     "output_type": "stream",
     "text": [
      "Mean Age: 50.70542635658915\n"
     ]
    }
   ],
   "source": [
    "# calculate mean age with sum and len\n",
    "mean_age = sum(patient_ages) / len(patient_ages)\n",
    "print(f'Mean Age: {mean_age}')"
   ]
  },
  {
   "cell_type": "code",
   "execution_count": 11,
   "metadata": {},
   "outputs": [
    {
     "name": "stdout",
     "output_type": "stream",
     "text": [
      "Mean Age: 50.70542635658915\n"
     ]
    }
   ],
   "source": [
    "# calculate mean with statistics package\n",
    "from statistics import mean\n",
    "\n",
    "mean_age = mean(patient_ages)\n",
    "print(f'Mean Age: {mean_age}')"
   ]
  },
  {
   "cell_type": "markdown",
   "metadata": {},
   "source": [
    "## Median"
   ]
  },
  {
   "cell_type": "code",
   "execution_count": 12,
   "metadata": {},
   "outputs": [
    {
     "name": "stdout",
     "output_type": "stream",
     "text": [
      "Median Age: 51\n"
     ]
    }
   ],
   "source": [
    "# calculate median with a for loop\n",
    "from math import floor\n",
    "\n",
    "sorted_ages = sorted(patient_ages)\n",
    "\n",
    "midpoint = len(sorted_ages) / 2\n",
    "\n",
    "if midpoint.is_integer():\n",
    "    high_index = floor(midpoint)\n",
    "    low_index = high_index - 1\n",
    "    median_age = (sorted_ages[high_index] + sorted_ages[low_index]) / 2\n",
    "else:\n",
    "    median_age = sorted_ages[floor(midpoint)]\n",
    "\n",
    "print(f'Median Age: {median_age}')"
   ]
  },
  {
   "cell_type": "code",
   "execution_count": 13,
   "metadata": {},
   "outputs": [
    {
     "name": "stdout",
     "output_type": "stream",
     "text": [
      "Median Age: 51\n"
     ]
    }
   ],
   "source": [
    "# calculate median with statistics package\n",
    "from statistics import median\n",
    "\n",
    "median_age = median(patient_ages)\n",
    "print(f'Median Age: {median_age}')"
   ]
  },
  {
   "cell_type": "markdown",
   "metadata": {},
   "source": [
    "## Variance"
   ]
  },
  {
   "cell_type": "code",
   "execution_count": 14,
   "metadata": {},
   "outputs": [
    {
     "name": "stdout",
     "output_type": "stream",
     "text": [
      "Variance: 994.7039240430262\n"
     ]
    }
   ],
   "source": [
    "# calculate variance with a for loop\n",
    "mean_age = mean(patient_ages)\n",
    "squares = []\n",
    "\n",
    "for age in patient_ages:\n",
    "    squares.append((age - mean_age)**2)\n",
    "    \n",
    "age_variance = mean(squares)\n",
    "print(f'Variance: {age_variance}')"
   ]
  },
  {
   "cell_type": "code",
   "execution_count": 15,
   "metadata": {},
   "outputs": [
    {
     "name": "stdout",
     "output_type": "stream",
     "text": [
      "Variance: 994.7039240430262\n"
     ]
    }
   ],
   "source": [
    "# calculate variance with a list comprehension\n",
    "mean_age = mean(patient_ages)\n",
    "squares = [(age - mean_age)**2 for age in patient_ages]\n",
    "age_variance = mean(squares)\n",
    "print(f'Variance: {age_variance}')"
   ]
  },
  {
   "cell_type": "code",
   "execution_count": 16,
   "metadata": {},
   "outputs": [
    {
     "name": "stdout",
     "output_type": "stream",
     "text": [
      "Variance: 994.7039240430266\n"
     ]
    }
   ],
   "source": [
    "# calculate variance with map and reduce\n",
    "from functools import reduce\n",
    "\n",
    "mean_age = mean(patient_ages)\n",
    "\n",
    "squares = map(lambda x: (x - mean_age) ** 2, patient_ages)\n",
    "age_variance = reduce(lambda a, b: a + b, squares) / len(patient_ages)\n",
    "print(f'Variance: {age_variance}')"
   ]
  },
  {
   "cell_type": "code",
   "execution_count": 17,
   "metadata": {},
   "outputs": [
    {
     "name": "stdout",
     "output_type": "stream",
     "text": [
      "Populaiton Variance: 994.7039240430262\n"
     ]
    }
   ],
   "source": [
    "# calculate variance with statistics package\n",
    "from statistics import pvariance\n",
    "age_variance = pvariance(patient_ages)\n",
    "print(f'Populaiton Variance: {age_variance}')"
   ]
  },
  {
   "cell_type": "code",
   "execution_count": 18,
   "metadata": {},
   "outputs": [
    {
     "name": "stdout",
     "output_type": "stream",
     "text": [
      "Saple Variance: 1002.4750484496124\n"
     ]
    }
   ],
   "source": [
    "# calculate variance with statistics package\n",
    "from statistics import variance\n",
    "age_variance = variance(patient_ages)\n",
    "print(f'Saple Variance: {age_variance}')"
   ]
  },
  {
   "cell_type": "markdown",
   "metadata": {},
   "source": [
    "## Standard Deviation"
   ]
  },
  {
   "cell_type": "code",
   "execution_count": 19,
   "metadata": {},
   "outputs": [
    {
     "name": "stdout",
     "output_type": "stream",
     "text": [
      "Standard Deviation: 31.538927122573877\n"
     ]
    }
   ],
   "source": [
    "# calculate variance with statistics package\n",
    "import math\n",
    "from statistics import pvariance\n",
    "\n",
    "age_variance = pvariance(patient_ages)\n",
    "standard_devation = math.sqrt(age_variance)\n",
    "print(f'Standard Deviation: {standard_devation}')"
   ]
  },
  {
   "cell_type": "code",
   "execution_count": 20,
   "metadata": {},
   "outputs": [
    {
     "name": "stdout",
     "output_type": "stream",
     "text": [
      "Standard Deviation: 31.538927122573877\n"
     ]
    }
   ],
   "source": [
    "# calculate variance with statistics package\n",
    "from statistics import pstdev\n",
    "\n",
    "standard_devation = pstdev(patient_ages)\n",
    "print(f'Standard Deviation: {standard_devation}')"
   ]
  },
  {
   "cell_type": "code",
   "execution_count": 21,
   "metadata": {},
   "outputs": [
    {
     "name": "stdout",
     "output_type": "stream",
     "text": [
      "Standard Deviation: 31.538927122573877\n"
     ]
    }
   ],
   "source": [
    "# calculate standard deviation with statistics package\n",
    "from statistics import pstdev\n",
    "\n",
    "standard_deviation = pstdev(patient_ages)\n",
    "print(f'Standard Deviation: {standard_deviation}')"
   ]
  },
  {
   "cell_type": "code",
   "execution_count": null,
   "metadata": {
    "collapsed": true
   },
   "outputs": [],
   "source": []
  }
 ],
 "metadata": {
  "kernelspec": {
   "display_name": "Python 3",
   "language": "python",
   "name": "python3"
  },
  "language_info": {
   "codemirror_mode": {
    "name": "ipython",
    "version": 3
   },
   "file_extension": ".py",
   "mimetype": "text/x-python",
   "name": "python",
   "nbconvert_exporter": "python",
   "pygments_lexer": "ipython3",
   "version": "3.6.4"
  }
 },
 "nbformat": 4,
 "nbformat_minor": 2
}
