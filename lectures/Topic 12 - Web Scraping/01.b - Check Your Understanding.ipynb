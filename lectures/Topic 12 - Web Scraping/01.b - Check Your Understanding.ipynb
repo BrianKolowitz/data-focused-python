{
 "cells": [
  {
   "cell_type": "markdown",
   "id": "78d9a9b1",
   "metadata": {},
   "source": [
    "# Check Your Understanding 1\n",
    "\n",
    "First, import the urlopen function from the urlib.request module:"
   ]
  },
  {
   "cell_type": "code",
   "execution_count": 2,
   "id": "8d47bbf6",
   "metadata": {},
   "outputs": [],
   "source": [
    "from urllib.request import urlopen"
   ]
  },
  {
   "cell_type": "markdown",
   "id": "093451a7",
   "metadata": {},
   "source": [
    "Then open the URL and use the `.read()` method of the `HTTPResponse` object returned by `urlopen()` to read the page’s HTML:"
   ]
  },
  {
   "cell_type": "code",
   "execution_count": 3,
   "id": "d9e0c9ca",
   "metadata": {},
   "outputs": [],
   "source": [
    "url = \"http://olympus.realpython.org/profiles/dionysus\"\n",
    "html_page = urlopen(url)\n",
    "html_text = html_page.read().decode(\"utf-8\")"
   ]
  },
  {
   "cell_type": "markdown",
   "id": "c92f5b61",
   "metadata": {},
   "source": [
    "`.read()` returns a byte string, so you use `.decode()` to decode the bytes using the `UTF-8` encoding."
   ]
  },
  {
   "cell_type": "markdown",
   "id": "906de8d2",
   "metadata": {},
   "source": [
    "Now that you have the HTML source of the web page as a string assigned to the html_text variable, you can extract Dionysus’s name and favorite color from his profile. The structure of the HTML for Dionysus’s profile is the same as Aphrodite’s profile that you saw earlier."
   ]
  },
  {
   "cell_type": "markdown",
   "id": "61ac4e5d",
   "metadata": {},
   "source": [
    "You can get the name by finding the string \"Name:\" in the text and extracting everything that comes after the first occurence of the string and before the next HTML tag. That is, you need to extract everything after the colon (`:`) and before the first angle bracket (`<`). You can use the same technique to extract the favorite color."
   ]
  },
  {
   "cell_type": "markdown",
   "id": "396357da",
   "metadata": {},
   "source": [
    "The following for loop extracts this text for both the name and favorite color:"
   ]
  },
  {
   "cell_type": "code",
   "execution_count": 4,
   "id": "51b9ce4b",
   "metadata": {},
   "outputs": [
    {
     "name": "stdout",
     "output_type": "stream",
     "text": [
      "Dionysus\n",
      "Wine\n"
     ]
    }
   ],
   "source": [
    "for string in [\"Name: \", \"Favorite Color:\"]:\n",
    "    string_start_idx = html_text.find(string)\n",
    "    text_start_idx = string_start_idx + len(string)\n",
    "\n",
    "    next_html_tag_offset = html_text[text_start_idx:].find(\"<\")\n",
    "    text_end_idx = text_start_idx + next_html_tag_offset\n",
    "\n",
    "    raw_text = html_text[text_start_idx : text_end_idx]\n",
    "    clean_text = raw_text.strip(\" \\r\\n\\t\")\n",
    "    print(clean_text)"
   ]
  },
  {
   "cell_type": "markdown",
   "id": "d5b5cc36",
   "metadata": {},
   "source": [
    "It looks like there’s a lot going on in this forloop, but it’s just a little bit of arithmetic to calculate the right indices for extracting the desired text. Let’s break it down:\n",
    "\n",
    "1. You use `html_text.find()` to find the starting index of the string, either `\"Name:\"` or `\"Favorite Color:\"`, and then assign the index to string_start_idx.\n",
    "2. Since the text to extract starts just after the colon in `\"Name:\"` or `\"Favorite Color:\"`, you get the index of the the character immediately after the colon by adding the length of the string to `start_string_idx` and assign the result to `text_start_idx`.\n",
    "3. You calculate the ending index of the text to extract by determining the index of the first angle bracket (`<`) relative to text_start_idx and assign this value to `next_html_tag_offset`. Then you add that value to `text_start_idx` and assign the result to `text_end_idx`.\n",
    "4. You extract the text by slicing html_text from `text_start_idx` to `text_end_idx` and assign this string to `raw_text`.\n",
    "5. You remove any whitespace from the beginning and end of `raw_text` using `.strip()` and assign the result to clean_text.\n",
    "\n",
    "At the end of the loop, you use print() to display the extracted text. The final output looks like this:\n",
    "\n",
    "```bash\n",
    "Dionysus\n",
    "Wine\n",
    "```\n",
    "\n",
    "This solution is one of many that solves this problem, so if you got the same output with a different solution, then you did great!"
   ]
  },
  {
   "cell_type": "markdown",
   "id": "6f717e6b",
   "metadata": {},
   "source": [
    "# Check Your Understanding 2\n",
    "\n",
    "First, import the urlopen function from the urlib.request module and the BeautifulSoup class from the bs4 package:"
   ]
  },
  {
   "cell_type": "code",
   "execution_count": 5,
   "id": "ec9fdef5",
   "metadata": {},
   "outputs": [],
   "source": [
    "from urllib.request import urlopen\n",
    "from bs4 import BeautifulSoup"
   ]
  },
  {
   "cell_type": "markdown",
   "id": "e916e75e",
   "metadata": {},
   "source": [
    "Each link URL on the /profiles page is a relative URL, so create a base_url variable with the base URL of the website:"
   ]
  },
  {
   "cell_type": "code",
   "execution_count": 6,
   "id": "b4f9b36d",
   "metadata": {},
   "outputs": [],
   "source": [
    "base_url = \"http://olympus.realpython.org\""
   ]
  },
  {
   "cell_type": "markdown",
   "id": "2f1a6ae3",
   "metadata": {},
   "source": [
    "You can build a full URL by concatenating base_url with a relative URL.\n",
    "\n",
    "Now open the `/profiles` page with `urlopen()` and use `.read()` to get the HTML source:"
   ]
  },
  {
   "cell_type": "code",
   "execution_count": 8,
   "id": "532b8182",
   "metadata": {},
   "outputs": [],
   "source": [
    "html_page = urlopen(base_url + \"/profiles\")\n",
    "html_text = html_page.read().decode(\"utf-8\")"
   ]
  },
  {
   "cell_type": "markdown",
   "id": "c2d0adb2",
   "metadata": {},
   "source": [
    "With the HTML source downloaded and decoded, you can create a new BeautifulSoup object to parse the HTML:"
   ]
  },
  {
   "cell_type": "code",
   "execution_count": 9,
   "id": "d0c9d846",
   "metadata": {},
   "outputs": [],
   "source": [
    "soup = BeautifulSoup(html_text, \"html.parser\")"
   ]
  },
  {
   "cell_type": "markdown",
   "id": "77077894",
   "metadata": {},
   "source": [
    "`soup.find_all(\"a\")` returns a list of all links in the HTML source. You can loop over this list to print out all the links on the webpage:"
   ]
  },
  {
   "cell_type": "code",
   "execution_count": 10,
   "id": "59cce0a9",
   "metadata": {},
   "outputs": [
    {
     "name": "stdout",
     "output_type": "stream",
     "text": [
      "http://olympus.realpython.org/profiles/aphrodite\n",
      "http://olympus.realpython.org/profiles/poseidon\n",
      "http://olympus.realpython.org/profiles/dionysus\n"
     ]
    }
   ],
   "source": [
    "for link in soup.find_all(\"a\"):\n",
    "    link_url = base_url + link[\"href\"]\n",
    "    print(link_url)"
   ]
  },
  {
   "cell_type": "markdown",
   "id": "a461449d",
   "metadata": {},
   "source": [
    "The relative URL for each link can be accessed through the `\"href\"` subscript. Concatenate this value with `base_url` to create the full `link_url`."
   ]
  },
  {
   "cell_type": "markdown",
   "id": "e21e407d",
   "metadata": {},
   "source": [
    "# Check Your Understanding 3\n",
    "\n",
    "First, import the mechanicalsoup package and create a Broswer object:"
   ]
  },
  {
   "cell_type": "code",
   "execution_count": 11,
   "id": "37b4daca",
   "metadata": {},
   "outputs": [],
   "source": [
    "import mechanicalsoup\n",
    "\n",
    "browser = mechanicalsoup.Browser()"
   ]
  },
  {
   "cell_type": "markdown",
   "id": "c79938aa",
   "metadata": {},
   "source": [
    "Point the browser to the login page by passing the URL to `browser.get()` and grab the HTML with the `.soup` attribute:"
   ]
  },
  {
   "cell_type": "code",
   "execution_count": 12,
   "id": "c7a964e3",
   "metadata": {},
   "outputs": [],
   "source": [
    "login_url = \"http://olympus.realpython.org/login\"\n",
    "login_page = browser.get(login_url)\n",
    "login_html = login_page.soup"
   ]
  },
  {
   "cell_type": "markdown",
   "id": "ca7af5e6",
   "metadata": {},
   "source": [
    "`login_html` is a BeautifulSoup instance. Since the page has only a single form on it, you can access the form via `login_html.form`. Using `.select()`, select the username and password inputs and fill them with the username \"zeus\" and the password \"ThunderDude\":"
   ]
  },
  {
   "cell_type": "code",
   "execution_count": 13,
   "id": "d405c96c",
   "metadata": {},
   "outputs": [],
   "source": [
    "form = login_html.form\n",
    "form.select(\"input\")[0][\"value\"] = \"zeus\"\n",
    "form.select(\"input\")[1][\"value\"] = \"ThunderDude\""
   ]
  },
  {
   "cell_type": "markdown",
   "id": "d9c3486d",
   "metadata": {},
   "source": [
    "Now that the form is filled out, you can submit it with `browser.submit()`:"
   ]
  },
  {
   "cell_type": "code",
   "execution_count": 14,
   "id": "9ede3b36",
   "metadata": {},
   "outputs": [],
   "source": [
    "profiles_page = browser.submit(form, login_page.url)"
   ]
  },
  {
   "cell_type": "markdown",
   "id": "39597cf1",
   "metadata": {},
   "source": [
    "If you filled the form with the correct username and password, then profiles_page should actually point to the `/profiles` page. You can confirm this by printing the title of the page assigned to `profiles_page`:"
   ]
  },
  {
   "cell_type": "code",
   "execution_count": 15,
   "id": "af2ccd7a",
   "metadata": {},
   "outputs": [
    {
     "name": "stdout",
     "output_type": "stream",
     "text": [
      "<title>All Profiles</title>\n"
     ]
    }
   ],
   "source": [
    "print(profiles_page.soup.title)"
   ]
  },
  {
   "cell_type": "markdown",
   "id": "ee4166c1",
   "metadata": {},
   "source": [
    "You should see the following text displayed:\n",
    "\n",
    "```bash\n",
    "<title>All Profiles</title>\n",
    "```\n",
    "\n",
    "If instead you see the text Log In or something else, then the form submission failed."
   ]
  },
  {
   "cell_type": "code",
   "execution_count": null,
   "id": "d219dad2",
   "metadata": {},
   "outputs": [],
   "source": []
  }
 ],
 "metadata": {
  "kernelspec": {
   "display_name": "Python 3 (ipykernel)",
   "language": "python",
   "name": "python3"
  },
  "language_info": {
   "codemirror_mode": {
    "name": "ipython",
    "version": 3
   },
   "file_extension": ".py",
   "mimetype": "text/x-python",
   "name": "python",
   "nbconvert_exporter": "python",
   "pygments_lexer": "ipython3",
   "version": "3.9.7"
  }
 },
 "nbformat": 4,
 "nbformat_minor": 5
}
