{
 "cells": [
  {
   "cell_type": "markdown",
   "metadata": {},
   "source": [
    "# Webscraping with BeautifulSoup\n",
    "[Source](https://www.peerlyst.com/posts/python-webscraping-anaconda-beautifulsoup-jupyter-and-the-hhs-wall-of-shame-molly-payne)\n",
    "\n",
    "Additional References\n",
    "* https://css-tricks.com/how-css-selectors-work/\n",
    "* https://scrapy.org/\n",
    "* https://www.seleniumhq.org/\n",
    "* https://automatetheboringstuff.com/chapter11/\n",
    "\n",
    "Lets Scrape the wall of shame from the U.S. Department of Health and Human Services\n",
    "Office for Civil Rights (You could just download the data file, but where is the fun in that!)"
   ]
  },
  {
   "cell_type": "markdown",
   "metadata": {},
   "source": [
    "## Step 1 - Import all of the libraries you'll need\n",
    "1. requests\n",
    "2. pandas\n",
    "3. numpy\n",
    "4. matplotlib.pyplot\n",
    "5. Beautiful Soup"
   ]
  },
  {
   "cell_type": "code",
   "execution_count": 1,
   "metadata": {},
   "outputs": [],
   "source": [
    "import requests, pandas, numpy, matplotlib.pyplot\n",
    "from bs4 import BeautifulSoup"
   ]
  },
  {
   "cell_type": "markdown",
   "metadata": {},
   "source": [
    "## Step 2 - Download the data\n",
    "\n",
    "### 2.a Use the requests library to grab the content of this page \n",
    "\n",
    "<https://ocrportal.hhs.gov/ocr/breach/breach_report.jsf>"
   ]
  },
  {
   "cell_type": "code",
   "execution_count": 2,
   "metadata": {},
   "outputs": [],
   "source": [
    "page = requests.get(\"https://ocrportal.hhs.gov/ocr/breach/breach_report.jsf\")"
   ]
  },
  {
   "cell_type": "code",
   "execution_count": 3,
   "metadata": {},
   "outputs": [
    {
     "data": {
      "text/plain": [
       "'<!DOCTYPE html>\\n<html xmlns=\"http://www.w3.org/1999/xhtml\" xml:lang=\"en\" lang=\"en\" dir=\"ltr\"><head id=\"j_idt2\">\\n\\t\\t\\t<meta http-equiv=\"X-UA-Compatible\" content=\"IE=9\" /><link type=\"text/css\" rel=\"stylesheet\" href=\"/ocr/javax.faces.resource/theme.css.jsf?ln=primefaces-aristo\" /><link type=\"text/css\" rel=\"stylesheet\" href=\"/ocr/javax.faces.resource/components.css.jsf;jsessionid=EA495EBBA68EF5DB762BB7F9A1D88BEE?ln=primefaces&amp;v=6.1\" /><script type=\"text/javascript\" src=\"/ocr/javax.faces.resource/jquery/jquery.js.jsf;jsessionid=EA495EBBA68EF5DB762BB7F9A1D88BEE?ln=primefaces&amp;v=6.1\"></script><script type=\"text/javascript\" src=\"/ocr/javax.faces.resource/jquery/jquery-plugins.js.jsf;jsessionid=EA495EBBA68EF5DB762BB7F9A1D88BEE?ln=primefaces&amp;v=6.1\"></script><script type=\"text/javascript\" src=\"/ocr/javax.faces.resource/core.js.jsf;jsessionid=EA495EBBA68EF5DB762BB7F9A1D88BEE?ln=primefaces&amp;v=6.1\"></script><script type=\"text/javascript\" src=\"/ocr/javax.faces.resource/components.js.jsf;j'"
      ]
     },
     "execution_count": 3,
     "metadata": {},
     "output_type": "execute_result"
    }
   ],
   "source": [
    "page.content.decode('utf-8')[:1000]"
   ]
  },
  {
   "cell_type": "markdown",
   "metadata": {},
   "source": [
    "### 2.b Check thte status code of the page and print it to the screen"
   ]
  },
  {
   "cell_type": "code",
   "execution_count": 4,
   "metadata": {},
   "outputs": [
    {
     "data": {
      "text/plain": [
       "200"
      ]
     },
     "execution_count": 4,
     "metadata": {},
     "output_type": "execute_result"
    }
   ],
   "source": [
    "page.status_code"
   ]
  },
  {
   "cell_type": "markdown",
   "metadata": {},
   "source": [
    "# Step 3 - BeautifulSoup"
   ]
  },
  {
   "cell_type": "markdown",
   "metadata": {},
   "source": [
    "### 3.a Load the page content into a BeautifulSoup object named soup"
   ]
  },
  {
   "cell_type": "code",
   "execution_count": 5,
   "metadata": {},
   "outputs": [],
   "source": [
    "soup = BeautifulSoup(page.content, 'html.parser')"
   ]
  },
  {
   "cell_type": "markdown",
   "metadata": {},
   "source": [
    "### 3.b Display the soup object to visually interrogate"
   ]
  },
  {
   "cell_type": "code",
   "execution_count": 6,
   "metadata": {},
   "outputs": [
    {
     "name": "stdout",
     "output_type": "stream",
     "text": [
      "<class 'bs4.BeautifulSoup'> \n",
      " <!DOCTYPE html>\n",
      "\n",
      "<html dir=\"ltr\" lang=\"en\" xml:lang=\"en\" xmlns=\"http://www.w3.org/1999/xhtml\"><head id=\"j_idt2\">\n",
      "<meta content=\"IE=9\" http-equiv=\"X-UA-Compatible\"/><link href=\"/ocr/javax.faces.resource/theme.css.jsf?ln=primefaces-aristo\" rel=\"stylesheet\" type=\"text/css\"/><link href=\"/ocr/javax.faces.resource/components.css.jsf;jsessionid=EA495EBBA68EF5DB762BB7F9A1D88BEE?ln=primefaces&amp;v=6.1\" rel=\"stylesheet\" type=\"text/css\"/><script src=\"/ocr/javax.faces.resource/jquery/jquery.js.jsf;jsessionid=EA495EBBA68EF5DB762BB7F9A1D88BEE?ln=primefaces&amp;v=6.1\" type=\"text/javascript\"></script><script src=\"/ocr/javax.faces.resource/jquery/jquery-plugins.js.jsf;jsessionid=EA495EBBA68EF5DB762BB7F9A1D88BEE?ln=primefaces&amp;v=6.1\" type=\"text/javascript\"></script><script src=\"/ocr/javax.faces.resource/core.js.jsf;jsessionid=EA495EBBA68EF5DB762BB7F9A1D88BEE?ln=primefaces&amp;v=6.1\" type=\"text/javascript\"></script><script src=\"/ocr/javax.faces.resource/components.js.jsf;jsessionid=EA495EBBA68EF5DB762BB7F9A1D88BEE?ln=primefaces&amp;v=6.1\" type=\"text/javascript\"></script><script type=\"text/javascript\">if(window.PrimeFaces){PrimeFaces.settings.locale='en';}</script>\n",
      "<meta content=\"text/html; charset=utf-8\" http-equiv=\"Content-Type\"/>\n",
      "<title>U.S. Department of Health &amp; Human Services - Office for Civil Rights</title>\n",
      "<link href=\"/ocr/images/favicon.ico\" rel=\"Shortcut Icon\" type=\"image/x-icon\"/>\n",
      "<link href=\"/ocr/css/ocr-portal.css\" rel=\"stylesheet\" type=\"text/css\"/>\n",
      "<link href=\"/ocr/css/navigation_ocr.css\" rel=\"stylesheet\" type=\"text/css\"/>\n",
      "<link href=\"/ocr/css/primary.css\" rel=\"stylesheet\" type=\"text/css\"/>\n",
      "<link href=\"/ocr/css/skip.css\" rel=\"stylesheet\" type=\"text/css\"/>\n",
      "<link href=\"/ocr/css/headerNavigation.css\" rel=\"stylesheet\" type=\"text/css\"/>\n",
      "<link href=\"/ocr/css/content.css\" rel=\"stylesheet\" type=\"text/css\"/>\n",
      "<link href=\"/ocr/css/breach.css\" rel=\"stylesheet\" type=\"text/css\"/>\n",
      "<script src=\"/ocr/js/util.js\" type=\"text/javascript\"></script>\n",
      "<script src=\"/ocr/js/locale.js\" type=\"text/javascript\"></script>\n",
      "<script src=\"/ocr/js/ocr-portal.js\" type=\"text/javascript\"></script></head><body>\n",
      "<div id=\"top\"></div>\n",
      "<div id=\"container\">\n",
      "<form action=\"/ocr/breach/breach_report.jsf;jsessionid=EA495EBBA68EF5DB762BB7F9A1D88BEE\" enctype=\"application/x-www-form-urlencoded\" id=\"headerNavigation\" method=\"post\" name=\"headerNavigation\">\n",
      "<input name=\"headerNavigation\" type=\"hidden\" value=\"headerNavigation\"/>\n",
      "<div class=\"\" id=\"skip\">\n",
      "<ul id=\"skiplinks\">\n",
      "<li><a href=\"#bodyContent\" tabindex=\"0\" title=\"Skip\">Skip to content</a></li>\n",
      "</ul>\n",
      "</div>\n",
      "<div id=\"level1\">\n",
      "<div class=\"header\">\n",
      "<div id=\"navigationNew\">\n",
      "<div class=\"site-controls-greybar\"><img alt=\"\" height=\"28\" src=\"/ocr/images/cap_left_dkgrey_systemutil.gif;jsessionid=EA495EBBA68EF5DB762BB7F9A1D88BEE\" style=\"border: 0; vertical-align: middle\" width=\"19\"/><script src=\"/ocr/javax.faces.resource/jsf.js.jsf;jsessionid=EA495EBBA68EF5DB762BB7F9A1D88BEE?ln=javax.faces\" type=\"text/javascript\"></script><a class=\"headerLink\" href=\"#\" onclick=\"mojarra.jsfcljs(document.getElementById('headerNavigation'),{'headerNavigation:j_idt9':'headerNavigation:j_idt9'},'');return false\">File a Breach</a>  |\n",
      "\t\t\t\t\t<a class=\"headerLink\" href=\"http://www.hhs.gov\">HHS</a>  |\n",
      "\t\t\t\t\t<a class=\"headerLink\" href=\"http://www.hhs.gov/ocr/office/index.html\">Office for Civil Rights</a>  |\n",
      "\t\t\t\t\t<a class=\"headerLink\" href=\"https://www.hhs.gov/ocr/about-us/contact-us/index.html\">Contact Us</a>\n",
      "</div>\n",
      "<div class=\"site-controls-greybar-lt\"><img alt=\"\" height=\"28\" src=\"/ocr/images/back_left_ltgrey_systemutil_sm.gif;jsessionid=EA495EBBA68EF5DB762BB7F9A1D88BEE\" style=\"border: 0; vertical-align: middle\" width=\"25\"/>\n",
      "<div class=\"site-controls-greybar-lt-bkgrnd\"><img alt=\"\" height=\"28\" src=\"/ocr/images/clear.gif;jsessionid=EA495EBBA68EF5DB762BB7F9A1D88BEE\" style=\"border: 0; vertical-align: middle\" width=\"1\"/>\n",
      "<img align=\"absmiddle\" alt=\"user icon\" border=\"0\" class=\"sc-icon\" height=\"16\" src=\"/ocr/images/icons/icon_user.gif\" title=\"Welcome\" width=\"16\"/>\n",
      "\t\t\t\t\t\tWelcome\n",
      "\t\t\t\t\t</div>\n",
      "</div>\n",
      "</div>\n",
      "<h1 class=\"h1\" id=\"header-logo\">\n",
      "<div id=\"titleContent\">\n",
      "\t\t\t\t\tU.S. Department of Health and Human Services<br/>\n",
      "\t\t\t\t\tOffice for Civil Rights<br/>\n",
      "<div class=\"titleDivider\"></div>\n",
      "\t\t\t\t\tBreach Portal: Notice to the Secretary of HHS Breach of Unsecured Protected Health Information\n",
      "\t\t\t\t</div>\n",
      "</h1>\n",
      "</div>\n",
      "</div>\n",
      "<div id=\"bannerSection\">\n",
      "<div id=\"bannerImageWrapper\">\n",
      "<img alt=\"Person sitting at a laptop\" class=\"bannerImage\" height=\"100\" src=\"/ocr/images/1680x100sittingAtComputer2.jpg\" width=\"1680\"/>\n",
      "</div>\n",
      "</div><input autocomplete=\"off\" id=\"j_id1:javax.faces.ViewState:0\" name=\"javax.faces.ViewState\" type=\"hidden\" value=\"6192807208299320650:-8086792994311128238\"/>\n",
      "</form>\n",
      "<div class=\"divider\"></div>\n",
      "<div id=\"mainContent\">\n",
      "<div class=\"pageInstructions\">\n",
      "<a name=\"bodyContent\"></a><div aria-live=\"polite\" class=\"ui-messages ui-widget\" id=\"ocrMessage\"></div>\n",
      "<div class=\"content\">\n",
      "<form action=\"/ocr/breach/breach_report.jsf;jsessionid=EA495EBBA68EF5DB762BB7F9A1D88BEE\" enctype=\"multipart/form-data\" id=\"ocrForm\" method=\"post\" name=\"ocrForm\">\n",
      "<input name=\"ocrForm\" type=\"hidden\" value=\"ocrForm\"/>\n",
      "<script>\n",
      "\t\t\t\tfunction doArchiveButtonClicked()\n",
      "\t\t\t\t{\n",
      "\t\t\t\t\tsetTimeout( \"PF('archiveRptButton').disable()\", 100 );\n",
      "\t\t\t\t\tPF('waitDlgVar').show();\n",
      "\t\t\t\t\treturn true;\n",
      "\t\t\t\t}\n",
      "\n",
      "\t\t\t\tfunction doUnderInvButtonClicked()\n",
      "\t\t\t\t{\n",
      "\t\t\t\t\tsetTimeout( \"PF('underInvRptButton').disable()\", 100 );\n",
      "\t\t\t\t\tPF('waitDlgVar').show();\n",
      "\t\t\t\t\treturn true;\n",
      "\t\t\t\t}\n",
      "\t\t\t</script><div class=\"ui-panel ui-widget ui-widget-content ui-corner-all banner\" data-widget=\"widget_ocrForm_j_idt22\" id=\"ocrForm:j_idt22\"><div class=\"ui-panel-content ui-widget-content\" id=\"ocrForm:j_idt22_content\"><button class=\"ui-button ui-widget ui-state-default ui-corner-all ui-button-text-only\" id=\"ocrForm:j_idt23\" name=\"ocrForm:j_idt23\" onclick=\"PrimeFaces.bcn(this,event,[function(event){return doUnderInvButtonClicked();},function(event){PrimeFaces.onPost();}]);\" type=\"submit\"><span class=\"ui-button-text ui-c\">Under Investigation</span></button><script id=\"ocrForm:j_idt23_s\" type=\"text/javascript\">PrimeFaces.cw(\"CommandButton\",\"underInvRptButton\",{id:\"ocrForm:j_idt23\"});</script><button class=\"ui-button ui-widget ui-state-default ui-corner-all ui-button-text-only\" id=\"ocrForm:j_idt24\" name=\"ocrForm:j_idt24\" onclick=\"PrimeFaces.bcn(this,event,[function(event){return doArchiveButtonClicked();},function(event){PrimeFaces.onPost();}]);\" type=\"submit\"><span class=\"ui-button-text ui-c\">Archive</span></button><script id=\"ocrForm:j_idt24_s\" type=\"text/javascript\">PrimeFaces.cw(\"CommandButton\",\"archiveRptButton\",{id:\"ocrForm:j_idt24\"});</script><button class=\"ui-button ui-widget ui-state-default ui-corner-all ui-button-text-only\" id=\"ocrForm:j_idt25\" name=\"ocrForm:j_idt25\" onclick='PrimeFaces.ab({s:\"ocrForm:j_idt25\",u:\"ocrForm:breachReports ocrForm:results\"});return false;' type=\"submit\"><span class=\"ui-button-text ui-c\">Help for Consumers</span></button><script id=\"ocrForm:j_idt25_s\" type=\"text/javascript\">PrimeFaces.cw(\"CommandButton\",\"widget_ocrForm_j_idt25\",{id:\"ocrForm:j_idt25\"});</script></div></div><script id=\"ocrForm:j_idt22_s\" type=\"text/javascript\">PrimeFaces.cw(\"Panel\",\"widget_ocrForm_j_idt22\",{id:\"ocrForm:j_idt22\"});</script><br/><br/><span id=\"ocrForm:breachReports\"><span id=\"ocrForm:underInvestigationFilterPanel\" style=\"margin-bottom:10px;\">\n",
      "<style>\n",
      "\t\t\t/* Calendar widget's size is too big. Limit it. */\n",
      "\t\tdiv.ui-datepicker{\n",
      "\t\t\tfont-size:0.9em;\n",
      "\t\t}\n",
      "\t</style>\n",
      "<script>\n",
      "\t\tfunction applyFilterButtonClicked()\n",
      "\t\t{\n",
      "\t\t\tsetTimeout( \"PF('applyFilterButton').disable()\", 100 );\n",
      "\t\t\tPF('waitDlgVar').show();\n",
      "\t\t\treturn true;\n",
      "\t\t}\n",
      "\t</script><table class=\"ui-panelgrid ui-widget noBorders\" id=\"ocrForm:j_idt29\" role=\"grid\"><tbody><tr class=\"ui-widget-content ui-panelgrid-even\" role=\"row\"><td class=\"ui-panelgrid-cell\" colspan=\"4\" role=\"gridcell\">As required by section 13402(e)(4) of the HITECH Act, the Secretary must post a list of breaches of unsecured protected health information affecting 500 or more individuals. The following breaches have been reported to the Secretary:\n",
      "\t\t\t\t<br/><br/><span style=\"font-size: 1.5em; font-weight: bold\">Cases Currently Under Investigation</span></td></tr><tr class=\"ui-widget-content ui-panelgrid-odd\" role=\"row\"><td class=\"ui-panelgrid-cell\" colspan=\"4\" role=\"gridcell\">This page lists all breaches reported within the last 24 months that are currently under investigation by the Office for Civil Rights.</td></tr><tr class=\"ui-widget-content ui-panelgrid-even\" role=\"row\"><td class=\"ui-panelgrid-cell\" colspan=\"4\" role=\"gridcell\"> \n",
      "\t\t\t\t<a class=\"ui-commandlink ui-widget\" href=\"#\" id=\"ocrForm:j_idt41\" onclick='PrimeFaces.ab({s:\"ocrForm:j_idt41\",p:\"ocrForm:j_idt41\",u:\"ocrForm:underInvestigationAdvancedOptionsTable ocrForm:j_idt41\",ps:true});return false;'>Show Advanced Options</a></td></tr></tbody></table><span id=\"ocrForm:underInvestigationAdvancedOptionsTable\"></span><div class=\"ui-dialog ui-widget ui-widget-content ui-corner-all ui-shadow ui-hidden-container\" id=\"ocrForm:waitDlgIN\"><div class=\"ui-dialog-content ui-widget-content\"><span id=\"ocrForm:waitDlgIN_title\"></span>We are generating the report for you. Please wait......</div></div><script id=\"ocrForm:waitDlgIN_s\" type=\"text/javascript\">$(function(){PrimeFaces.cw(\"Dialog\",\"waitDlgINI\",{id:\"ocrForm:waitDlgIN\",resizable:false,modal:true});});</script></span></span><span id=\"ocrForm:results\">\n",
      "<br/><span id=\"ocrForm:resultsPanel\" style=\"margin-bottom:10px;\">\n",
      "<style>\n",
      "\t\t.column1{width: 20%}\n",
      "\t\t.column2{width: 80%}\n",
      "\t</style><span style=\"float: right\"><a href=\"#\" onclick=\"mojarra.jsfcljs(document.getElementById('ocrForm'),{'ocrForm:j_idt360':'ocrForm:j_idt360'},'');return false\"><img alt=\"Excel\" id=\"ocrForm:j_idt361\" src=\"/ocr/images/icons/excel.png;jsessionid=EA495EBBA68EF5DB762BB7F9A1D88BEE?pfdrid_c=true\" style=\"border-style: none\" title=\"Export as Excel\" width=\"24\"/></a><a href=\"#\" onclick=\"mojarra.jsfcljs(document.getElementById('ocrForm'),{'ocrForm:j_idt362':'ocrForm:j_idt362'},'');return false\"><img alt=\"PDF\" id=\"ocrForm:j_idt363\" src=\"/ocr/images/icons/pdf.png;jsessionid=EA495EBBA68EF5DB762BB7F9A1D88BEE?pfdrid_c=true\" style=\"border-style: none\" title=\"Export as PDF\" width=\"24\"/></a><a href=\"#\" onclick=\"mojarra.jsfcljs(document.getElementById('ocrForm'),{'ocrForm:j_idt364':'ocrForm:j_idt364'},'');return false\"><img alt=\"CSV\" id=\"ocrForm:j_idt365\" src=\"/ocr/images/icons/csv.png;jsessionid=EA495EBBA68EF5DB762BB7F9A1D88BEE?pfdrid_c=true\" style=\"border-style: none\" title=\"Export as CSV\" width=\"24\"/></a><a href=\"#\" onclick=\"mojarra.jsfcljs(document.getElementById('ocrForm'),{'ocrForm:j_idt366':'ocrForm:j_idt366'},'');return false\"><img alt=\"XML\" id=\"ocrForm:j_idt367\" src=\"/ocr/images/icons/xml.png;jsessionid=EA495EBBA68EF5DB762BB7F9A1D88BEE?pfdrid_c=true\" style=\"border-style: none\" title=\"Export as XML\" width=\"24\"/></a></span><div class=\"ui-datatable ui-widget\" id=\"ocrForm:reportResultTable\" style=\"margin-bottom:20px\"><div class=\"ui-datatable-header ui-widget-header ui-corner-top\">\n",
      "\t\t\tBreach Report Results\n",
      "\t\t</div><div class=\"ui-datatable-tablewrapper\"><table role=\"grid\" style=\"table-layout: auto;\"><caption class=\"ui-helper-hidden-accessible\"></caption><thead id=\"ocrForm:reportResultTable_head\"><tr role=\"row\"><th class=\"ui-state-default\" id=\"ocrForm:reportResultTable:j_idt369\" role=\"columnheader\" scope=\"col\" style=\"width:50px\"><span class=\"ui-column-title\"><a class=\"ui-commandlink ui-widget\" href=\"#\" id=\"ocrForm:reportResultTable:j_idt370\" onclick='PrimeFaces.ab({s:\"ocrForm:reportResultTable:j_idt370\",u:\"ocrForm:reportResultTable:j_idt370 ocrForm:reportResultTable\"});return false;'>Expand All</a></span></th><th aria-label=\"Name of Covered Entity\" class=\"ui-state-default ui-sortable-column\" id=\"ocrForm:reportResultTable:j_idt372\" role=\"columnheader\" scope=\"col\"><span class=\"ui-column-title\"><span style=\"white-space:pre-line;\">Name of Covered Entity</span></span><span class=\"ui-sortable-column-icon ui-icon ui-icon-carat-2-n-s\"></span></th><th aria-label=\"State\" class=\"ui-state-default ui-sortable-column\" id=\"ocrForm:reportResultTable:j_idt375\" role=\"columnheader\" scope=\"col\"><span class=\"ui-column-title\"><span style=\"white-space:pre-line;\">State</span></span><span class=\"ui-sortable-column-icon ui-icon ui-icon-carat-2-n-s\"></span></th><th aria-label=\"Covered Entity Type\" class=\"ui-state-default ui-sortable-column\" id=\"ocrForm:reportResultTable:j_idt378\" role=\"columnheader\" scope=\"col\"><span class=\"ui-column-title\"><span style=\"white-space:pre-line;\">Covered Entity Type</span></span><span class=\"ui-sortable-column-icon ui-icon ui-icon-carat-2-n-s\"></span></th><th aria-label=\"Individuals Affected\" class=\"ui-state-default ui-sortable-column\" id=\"ocrForm:reportResultTable:j_idt381\" role=\"columnheader\" scope=\"col\"><span class=\"ui-column-title\"><span style=\"white-space:pre-line;\">Individuals Affected</span></span><span class=\"ui-sortable-column-icon ui-icon ui-icon-carat-2-n-s\"></span></th><th aria-label=\"Breach Submission Date\" class=\"ui-state-default ui-sortable-column\" id=\"ocrForm:reportResultTable:j_idt384\" role=\"columnheader\" scope=\"col\"><span class=\"ui-column-title\"><span style=\"white-space:pre-line;\">Breach Submission Date</span></span><span class=\"ui-sortable-column-icon ui-icon ui-icon-carat-2-n-s\"></span></th><th aria-label=\"Type of Breach\" class=\"ui-state-default\" id=\"ocrForm:reportResultTable:j_idt387\" role=\"columnheader\" scope=\"col\"><span class=\"ui-column-title\"><span style=\"white-space:pre-line;\">Type of Breach</span></span></th><th aria-label=\"Location of Breached Information\" class=\"ui-state-default\" id=\"ocrForm:reportResultTable:j_idt390\" role=\"columnheader\" scope=\"col\"><span class=\"ui-column-title\"><span style=\"white-space:pre-line;\">Location of Breached Information</span></span></th><th aria-label=\"Business Associate Present\" class=\"ui-state-default\" id=\"ocrForm:reportResultTable:j_idt396\" role=\"columnheader\" scope=\"col\" style=\"display: none\"><span class=\"ui-column-title\"><span style=\"white-space:pre-line;\">Business Associate Present</span></span></th><th aria-label=\"Web Description\" class=\"ui-state-default\" id=\"ocrForm:reportResultTable:j_idt399\" role=\"columnheader\" scope=\"col\" style=\"display: none\"><span class=\"ui-column-title\"><span style=\"white-space:pre-line;\">Web Description</span></span></th></tr></thead><tbody class=\"ui-datatable-data ui-widget-content\" id=\"ocrForm:reportResultTable_data\"><tr class=\"ui-widget-content ui-datatable-even\" data-ri=\"0\" role=\"row\"><td role=\"gridcell\" style=\"width:50px\"><div aria-expanded=\"false\" aria-label=\"Toggle Row\" class=\"ui-row-toggler ui-icon ui-icon-circle-triangle-e\" role=\"button\" tabindex=\"0\"></div></td><td role=\"gridcell\"><span style=\"white-space:pre-line;\">Boulder Neurosurgical and Spine Associates</span></td><td role=\"gridcell\">CO</td><td role=\"gridcell\"><span style=\"white-space:pre-line;\">Healthcare Provider</span></td><td role=\"gridcell\">21450</td><td role=\"gridcell\">11/29/2021</td><td role=\"gridcell\"><span style=\"white-space:pre-line;\">Hacking/IT Incident</span></td><td role=\"gridcell\"><span style=\"white-space:pre-line;\">Email</span></td><td role=\"gridcell\" style=\"display: none\"><span style=\"white-space:pre-line;\">No</span></td><td role=\"gridcell\" style=\"display: none\"><span style=\"white-space:pre-line;\"></span></td></tr><tr class=\"ui-widget-content ui-datatable-odd\" data-ri=\"1\" role=\"row\"><td role=\"gridcell\" style=\"width:50px\"><div aria-expanded=\"false\" aria-label=\"Toggle Row\" class=\"ui-row-toggler ui-icon ui-icon-circle-triangle-e\" role=\"button\" tabindex=\"0\"></div></td><td role=\"gridcell\"><span style=\"white-space:pre-line;\">Medsurant Holdings, LLC</span></td><td role=\"gridcell\">PA</td><td role=\"gridcell\"><span style=\"white-space:pre-line;\">Healthcare Provider</span></td><td role=\"gridcell\">45000</td><td role=\"gridcell\">11/29/2021</td><td role=\"gridcell\"><span style=\"white-space:pre-line;\">Hacking/IT Incident</span></td><td role=\"gridcell\"><span style=\"white-space:pre-line;\">Network Server</span></td><td role=\"gridcell\" style=\"display: none\"><span style=\"white-space:pre-line;\">No</span></td><td role=\"gridcell\" style=\"display: none\"><span style=\"white-space:pre-line;\"></span></td></tr><tr class=\"ui-widget-content ui-datatable-even\" data-ri=\"2\" role=\"row\"><td role=\"gridcell\" style=\"width:50px\"><div aria-expanded=\"false\" aria-label=\"Toggle Row\" class=\"ui-row-toggler ui-icon ui-icon-circle-triangle-e\" role=\"button\" tabindex=\"0\"></div></td><td role=\"gridcell\"><span style=\"white-space:pre-line;\">Minnesota Women's Care, P.A.</span></td><td role=\"gridcell\">MN</td><td role=\"gridcell\"><span style=\"white-space:pre-line;\">Healthcare Provider</span></td><td role=\"gridcell\">1900</td><td role=\"gridcell\">11/24/2021</td><td role=\"gridcell\"><span style=\"white-space:pre-line;\">Unauthorized Access/Disclosure</span></td><td role=\"gridcell\"><span style=\"white-space:pre-line;\">Paper/Films</span></td><td role=\"gridcell\" style=\"display: none\"><span style=\"white-space:pre-line;\">No</span></td><td role=\"gridcell\" style=\"display: none\"><span style=\"white-space:pre-line;\"></span></td></tr><tr class=\"ui-widget-content ui-datatable-odd\" data-ri=\"3\" role=\"row\"><td role=\"gridcell\" style=\"width:50px\"><div aria-expanded=\"false\" aria-label=\"Toggle Row\" class=\"ui-row-toggler ui-icon ui-icon-circle-triangle-e\" role=\"button\" tabindex=\"0\"></div></td><td role=\"gridcell\"><span style=\"white-space:pre-line;\">Quantum Imaging and Therapeutics Associates, Inc.</span></td><td role=\"gridcell\">PA</td><td role=\"gridcell\"><span style=\"white-space:pre-line;\">Healthcare Provider</span></td><td role=\"gridcell\">500</td><td role=\"gridcell\">11/24/2021</td><td role=\"gridcell\"><span style=\"white-space:pre-line;\">Hacking/IT Incident</span></td><td role=\"gridcell\"><span style=\"white-space:pre-line;\">Network Server</span></td><td role=\"gridcell\" style=\"display: none\"><span style=\"white-space:pre-line;\">No</span></td><td role=\"gridcell\" style=\"display: none\"><span style=\"white-space:pre-line;\"></span></td></tr><tr class=\"ui-widget-content ui-datatable-even\" data-ri=\"4\" role=\"row\"><td role=\"gridcell\" style=\"width:50px\"><div aria-expanded=\"false\" aria-label=\"Toggle Row\" class=\"ui-row-toggler ui-icon ui-icon-circle-triangle-e\" role=\"button\" tabindex=\"0\"></div></td><td role=\"gridcell\"><span style=\"white-space:pre-line;\">Boston Medical Center</span></td><td role=\"gridcell\">MA</td><td role=\"gridcell\"><span style=\"white-space:pre-line;\">Healthcare Provider</span></td><td role=\"gridcell\">723</td><td role=\"gridcell\">11/24/2021</td><td role=\"gridcell\"><span style=\"white-space:pre-line;\">Unauthorized Access/Disclosure</span></td><td role=\"gridcell\"><span style=\"white-space:pre-line;\">Email</span></td><td role=\"gridcell\" style=\"display: none\"><span style=\"white-space:pre-line;\">No</span></td><td role=\"gridcell\" style=\"display: none\"><span style=\"white-space:pre-line;\"></span></td></tr><tr class=\"ui-widget-content ui-datatable-odd\" data-ri=\"5\" role=\"row\"><td role=\"gridcell\" style=\"width:50px\"><div aria-expanded=\"false\" aria-label=\"Toggle Row\" class=\"ui-row-toggler ui-icon ui-icon-circle-triangle-e\" role=\"button\" tabindex=\"0\"></div></td><td role=\"gridcell\"><span style=\"white-space:pre-line;\">TriValley Primary Care</span></td><td role=\"gridcell\">PA</td><td role=\"gridcell\"><span style=\"white-space:pre-line;\">Healthcare Provider</span></td><td role=\"gridcell\">57468</td><td role=\"gridcell\">11/23/2021</td><td role=\"gridcell\"><span style=\"white-space:pre-line;\">Hacking/IT Incident</span></td><td role=\"gridcell\"><span style=\"white-space:pre-line;\">Network Server</span></td><td role=\"gridcell\" style=\"display: none\"><span style=\"white-space:pre-line;\">No</span></td><td role=\"gridcell\" style=\"display: none\"><span style=\"white-space:pre-line;\"></span></td></tr><tr class=\"ui-widget-content ui-datatable-even\" data-ri=\"6\" role=\"row\"><td role=\"gridcell\" style=\"width:50px\"><div aria-expanded=\"false\" aria-label=\"Toggle Row\" class=\"ui-row-toggler ui-icon ui-icon-circle-triangle-e\" role=\"button\" tabindex=\"0\"></div></td><td role=\"gridcell\"><span style=\"white-space:pre-line;\">Educators Mutual Insurance Association</span></td><td role=\"gridcell\">UT</td><td role=\"gridcell\"><span style=\"white-space:pre-line;\">Business Associate</span></td><td role=\"gridcell\">39317</td><td role=\"gridcell\">11/22/2021</td><td role=\"gridcell\"><span style=\"white-space:pre-line;\">Hacking/IT Incident</span></td><td role=\"gridcell\"><span style=\"white-space:pre-line;\">Network Server</span></td><td role=\"gridcell\" style=\"display: none\"><span style=\"white-space:pre-line;\">Yes</span></td><td role=\"gridcell\" style=\"display: none\"><span style=\"white-space:pre-line;\"></span></td></tr><tr class=\"ui-widget-content ui-datatable-odd\" data-ri=\"7\" role=\"row\"><td role=\"gridcell\" style=\"width:50px\"><div aria-expanded=\"false\" aria-label=\"Toggle Row\" class=\"ui-row-toggler ui-icon ui-icon-circle-triangle-e\" role=\"button\" tabindex=\"0\"></div></td><td role=\"gridcell\"><span style=\"white-space:pre-line;\">Onondaga County Chapter NYSARC, Inc. </span></td><td role=\"gridcell\">NY</td><td role=\"gridcell\"><span style=\"white-space:pre-line;\">Healthcare Provider</span></td><td role=\"gridcell\">5425</td><td role=\"gridcell\">11/19/2021</td><td role=\"gridcell\"><span style=\"white-space:pre-line;\">Hacking/IT Incident</span></td><td role=\"gridcell\"><span style=\"white-space:pre-line;\">Network Server</span></td><td role=\"gridcell\" style=\"display: none\"><span style=\"white-space:pre-line;\">No</span></td><td role=\"gridcell\" style=\"display: none\"><span style=\"white-space:pre-line;\"></span></td></tr><tr class=\"ui-widget-content ui-datatable-even\" data-ri=\"8\" role=\"row\"><td role=\"gridcell\" style=\"width:50px\"><div aria-expanded=\"false\" aria-label=\"Toggle Row\" class=\"ui-row-toggler ui-icon ui-icon-circle-triangle-e\" role=\"button\" tabindex=\"0\"></div></td><td role=\"gridcell\"><span style=\"white-space:pre-line;\">Colorado Allergy and Asthma Centers, PC</span></td><td role=\"gridcell\">CO</td><td role=\"gridcell\"><span style=\"white-space:pre-line;\">Healthcare Provider</span></td><td role=\"gridcell\">791</td><td role=\"gridcell\">11/19/2021</td><td role=\"gridcell\"><span style=\"white-space:pre-line;\">Hacking/IT Incident</span></td><td role=\"gridcell\"><span style=\"white-space:pre-line;\">Email</span></td><td role=\"gridcell\" style=\"display: none\"><span style=\"white-space:pre-line;\">No</span></td><td role=\"gridcell\" style=\"display: none\"><span style=\"white-space:pre-line;\"></span></td></tr><tr class=\"ui-widget-content ui-datatable-odd\" data-ri=\"9\" role=\"row\"><td role=\"gridcell\" style=\"width:50px\"><div aria-expanded=\"false\" aria-label=\"Toggle Row\" class=\"ui-row-toggler ui-icon ui-icon-circle-triangle-e\" role=\"button\" tabindex=\"0\"></div></td><td role=\"gridcell\"><span style=\"white-space:pre-line;\">True Health New Mexico</span></td><td role=\"gridcell\">NM</td><td role=\"gridcell\"><span style=\"white-space:pre-line;\">Health Plan</span></td><td role=\"gridcell\">62983</td><td role=\"gridcell\">11/17/2021</td><td role=\"gridcell\"><span style=\"white-space:pre-line;\">Hacking/IT Incident</span></td><td role=\"gridcell\"><span style=\"white-space:pre-line;\">Network Server</span></td><td role=\"gridcell\" style=\"display: none\"><span style=\"white-space:pre-line;\">No</span></td><td role=\"gridcell\" style=\"display: none\"><span style=\"white-space:pre-line;\"></span></td></tr><tr class=\"ui-widget-content ui-datatable-even\" data-ri=\"10\" role=\"row\"><td role=\"gridcell\" style=\"width:50px\"><div aria-expanded=\"false\" aria-label=\"Toggle Row\" class=\"ui-row-toggler ui-icon ui-icon-circle-triangle-e\" role=\"button\" tabindex=\"0\"></div></td><td role=\"gridcell\"><span style=\"white-space:pre-line;\">Austin Perio Health </span></td><td role=\"gridcell\">TX</td><td role=\"gridcell\"><span style=\"white-space:pre-line;\">Healthcare Provider</span></td><td role=\"gridcell\">4339</td><td role=\"gridcell\">11/17/2021</td><td role=\"gridcell\"><span style=\"white-space:pre-line;\">Hacking/IT Incident</span></td><td role=\"gridcell\"><span style=\"white-space:pre-line;\">Email</span></td><td role=\"gridcell\" style=\"display: none\"><span style=\"white-space:pre-line;\">No</span></td><td role=\"gridcell\" style=\"display: none\"><span style=\"white-space:pre-line;\"></span></td></tr><tr class=\"ui-widget-content ui-datatable-odd\" data-ri=\"11\" role=\"row\"><td role=\"gridcell\" style=\"width:50px\"><div aria-expanded=\"false\" aria-label=\"Toggle Row\" class=\"ui-row-toggler ui-icon ui-icon-circle-triangle-e\" role=\"button\" tabindex=\"0\"></div></td><td role=\"gridcell\"><span style=\"white-space:pre-line;\">Citizens Financial Corporation</span></td><td role=\"gridcell\">KY</td><td role=\"gridcell\"><span style=\"white-space:pre-line;\">Business Associate</span></td><td role=\"gridcell\">688</td><td role=\"gridcell\">11/15/2021</td><td role=\"gridcell\"><span style=\"white-space:pre-line;\">Unauthorized Access/Disclosure</span></td><td role=\"gridcell\"><span style=\"white-space:pre-line;\">Other</span></td><td role=\"gridcell\" style=\"display: none\"><span style=\"white-space:pre-line;\">Yes</span></td><td role=\"gridcell\" style=\"display: none\"><span style=\"white-space:pre-line;\"></span></td></tr><tr class=\"ui-widget-content ui-datatable-even\" data-ri=\"12\" role=\"row\"><td role=\"gridcell\" style=\"width:50px\"><div aria-expanded=\"false\" aria-label=\"Toggle Row\" class=\"ui-row-toggler ui-icon ui-icon-circle-triangle-e\" role=\"button\" tabindex=\"0\"></div></td><td role=\"gridcell\"><span style=\"white-space:pre-line;\">Weill Cornell Medicine</span></td><td role=\"gridcell\">NY</td><td role=\"gridcell\"><span style=\"white-space:pre-line;\">Healthcare Provider</span></td><td role=\"gridcell\">6283</td><td role=\"gridcell\">11/12/2021</td><td role=\"gridcell\"><span style=\"white-space:pre-line;\">Hacking/IT Incident</span></td><td role=\"gridcell\"><span style=\"white-space:pre-line;\">Email</span></td><td role=\"gridcell\" style=\"display: none\"><span style=\"white-space:pre-line;\">No</span></td><td role=\"gridcell\" style=\"display: none\"><span style=\"white-space:pre-line;\"></span></td></tr><tr class=\"ui-widget-content ui-datatable-odd\" data-ri=\"13\" role=\"row\"><td role=\"gridcell\" style=\"width:50px\"><div aria-expanded=\"false\" aria-label=\"Toggle Row\" class=\"ui-row-toggler ui-icon ui-icon-circle-triangle-e\" role=\"button\" tabindex=\"0\"></div></td><td role=\"gridcell\"><span style=\"white-space:pre-line;\">University of Houston for UH College of Optometry</span></td><td role=\"gridcell\">TX</td><td role=\"gridcell\"><span style=\"white-space:pre-line;\">Healthcare Provider</span></td><td role=\"gridcell\">18500</td><td role=\"gridcell\">11/12/2021</td><td role=\"gridcell\"><span style=\"white-space:pre-line;\">Hacking/IT Incident</span></td><td role=\"gridcell\"><span style=\"white-space:pre-line;\">Network Server</span></td><td role=\"gridcell\" style=\"display: none\"><span style=\"white-space:pre-line;\">No</span></td><td role=\"gridcell\" style=\"display: none\"><span style=\"white-space:pre-line;\"></span></td></tr><tr class=\"ui-widget-content ui-datatable-even\" data-ri=\"14\" role=\"row\"><td role=\"gridcell\" style=\"width:50px\"><div aria-expanded=\"false\" aria-label=\"Toggle Row\" class=\"ui-row-toggler ui-icon ui-icon-circle-triangle-e\" role=\"button\" tabindex=\"0\"></div></td><td role=\"gridcell\"><span style=\"white-space:pre-line;\">The Kroger Co., for itself and its affiliates and subsidiaries</span></td><td role=\"gridcell\">OH</td><td role=\"gridcell\"><span style=\"white-space:pre-line;\">Healthcare Provider</span></td><td role=\"gridcell\">2686</td><td role=\"gridcell\">11/12/2021</td><td role=\"gridcell\"><span style=\"white-space:pre-line;\">Theft</span></td><td role=\"gridcell\"><span style=\"white-space:pre-line;\">Laptop, Paper/Films</span></td><td role=\"gridcell\" style=\"display: none\"><span style=\"white-space:pre-line;\">No</span></td><td role=\"gridcell\" style=\"display: none\"><span style=\"white-space:pre-line;\"></span></td></tr><tr class=\"ui-widget-content ui-datatable-odd\" data-ri=\"15\" role=\"row\"><td role=\"gridcell\" style=\"width:50px\"><div aria-expanded=\"false\" aria-label=\"Toggle Row\" class=\"ui-row-toggler ui-icon ui-icon-circle-triangle-e\" role=\"button\" tabindex=\"0\"></div></td><td role=\"gridcell\"><span style=\"white-space:pre-line;\">The Centers for Advanced Orthopaedics, LLC</span></td><td role=\"gridcell\">MD</td><td role=\"gridcell\"><span style=\"white-space:pre-line;\">Healthcare Provider</span></td><td role=\"gridcell\">500</td><td role=\"gridcell\">11/11/2021</td><td role=\"gridcell\"><span style=\"white-space:pre-line;\">Hacking/IT Incident</span></td><td role=\"gridcell\"><span style=\"white-space:pre-line;\">Network Server</span></td><td role=\"gridcell\" style=\"display: none\"><span style=\"white-space:pre-line;\">No</span></td><td role=\"gridcell\" style=\"display: none\"><span style=\"white-space:pre-line;\"></span></td></tr><tr class=\"ui-widget-content ui-datatable-even\" data-ri=\"16\" role=\"row\"><td role=\"gridcell\" style=\"width:50px\"><div aria-expanded=\"false\" aria-label=\"Toggle Row\" class=\"ui-row-toggler ui-icon ui-icon-circle-triangle-e\" role=\"button\" tabindex=\"0\"></div></td><td role=\"gridcell\"><span style=\"white-space:pre-line;\">Ophthalmology Associates</span></td><td role=\"gridcell\">MN</td><td role=\"gridcell\"><span style=\"white-space:pre-line;\">Healthcare Provider</span></td><td role=\"gridcell\">67000</td><td role=\"gridcell\">11/11/2021</td><td role=\"gridcell\"><span style=\"white-space:pre-line;\">Hacking/IT Incident</span></td><td role=\"gridcell\"><span style=\"white-space:pre-line;\">Electronic Medical Record, Network Server</span></td><td role=\"gridcell\" style=\"display: none\"><span style=\"white-space:pre-line;\">No</span></td><td role=\"gridcell\" style=\"display: none\"><span style=\"white-space:pre-line;\"></span></td></tr><tr class=\"ui-widget-content ui-datatable-odd\" data-ri=\"17\" role=\"row\"><td role=\"gridcell\" style=\"width:50px\"><div aria-expanded=\"false\" aria-label=\"Toggle Row\" class=\"ui-row-toggler ui-icon ui-icon-circle-triangle-e\" role=\"button\" tabindex=\"0\"></div></td><td role=\"gridcell\"><span style=\"white-space:pre-line;\">St. Anne’s Family Services</span></td><td role=\"gridcell\">CA</td><td role=\"gridcell\"><span style=\"white-space:pre-line;\">Healthcare Provider</span></td><td role=\"gridcell\">661</td><td role=\"gridcell\">11/10/2021</td><td role=\"gridcell\"><span style=\"white-space:pre-line;\">Hacking/IT Incident</span></td><td role=\"gridcell\"><span style=\"white-space:pre-line;\">Network Server</span></td><td role=\"gridcell\" style=\"display: none\"><span style=\"white-space:pre-line;\">No</span></td><td role=\"gridcell\" style=\"display: none\"><span style=\"white-space:pre-line;\"></span></td></tr><tr class=\"ui-widget-content ui-datatable-even\" data-ri=\"18\" role=\"row\"><td role=\"gridcell\" style=\"width:50px\"><div aria-expanded=\"false\" aria-label=\"Toggle Row\" class=\"ui-row-toggler ui-icon ui-icon-circle-triangle-e\" role=\"button\" tabindex=\"0\"></div></td><td role=\"gridcell\"><span style=\"white-space:pre-line;\">Humana Inc</span></td><td role=\"gridcell\">KY</td><td role=\"gridcell\"><span style=\"white-space:pre-line;\">Health Plan</span></td><td role=\"gridcell\">5077</td><td role=\"gridcell\">11/09/2021</td><td role=\"gridcell\"><span style=\"white-space:pre-line;\">Hacking/IT Incident</span></td><td role=\"gridcell\"><span style=\"white-space:pre-line;\">Network Server</span></td><td role=\"gridcell\" style=\"display: none\"><span style=\"white-space:pre-line;\">Yes</span></td><td role=\"gridcell\" style=\"display: none\"><span style=\"white-space:pre-line;\"></span></td></tr><tr class=\"ui-widget-content ui-datatable-odd\" data-ri=\"19\" role=\"row\"><td role=\"gridcell\" style=\"width:50px\"><div aria-expanded=\"false\" aria-label=\"Toggle Row\" class=\"ui-row-toggler ui-icon ui-icon-circle-triangle-e\" role=\"button\" tabindex=\"0\"></div></td><td role=\"gridcell\"><span style=\"white-space:pre-line;\">North Spring Behavioral Healthcare, Inc.</span></td><td role=\"gridcell\">VA</td><td role=\"gridcell\"><span style=\"white-space:pre-line;\">Healthcare Provider</span></td><td role=\"gridcell\">3245</td><td role=\"gridcell\">11/09/2021</td><td role=\"gridcell\"><span style=\"white-space:pre-line;\">Hacking/IT Incident</span></td><td role=\"gridcell\"><span style=\"white-space:pre-line;\">Electronic Medical Record</span></td><td role=\"gridcell\" style=\"display: none\"><span style=\"white-space:pre-line;\">Yes</span></td><td role=\"gridcell\" style=\"display: none\"><span style=\"white-space:pre-line;\"></span></td></tr><tr class=\"ui-widget-content ui-datatable-even\" data-ri=\"20\" role=\"row\"><td role=\"gridcell\" style=\"width:50px\"><div aria-expanded=\"false\" aria-label=\"Toggle Row\" class=\"ui-row-toggler ui-icon ui-icon-circle-triangle-e\" role=\"button\" tabindex=\"0\"></div></td><td role=\"gridcell\"><span style=\"white-space:pre-line;\">Vitreo-Retinal Medical Group, Inc. d/b/a Retinal Consultants Medical Group</span></td><td role=\"gridcell\">CA</td><td role=\"gridcell\"><span style=\"white-space:pre-line;\">Healthcare Provider</span></td><td role=\"gridcell\">11603</td><td role=\"gridcell\">11/09/2021</td><td role=\"gridcell\"><span style=\"white-space:pre-line;\">Hacking/IT Incident</span></td><td role=\"gridcell\"><span style=\"white-space:pre-line;\">Network Server</span></td><td role=\"gridcell\" style=\"display: none\"><span style=\"white-space:pre-line;\">No</span></td><td role=\"gridcell\" style=\"display: none\"><span style=\"white-space:pre-line;\"></span></td></tr><tr class=\"ui-widget-content ui-datatable-odd\" data-ri=\"21\" role=\"row\"><td role=\"gridcell\" style=\"width:50px\"><div aria-expanded=\"false\" aria-label=\"Toggle Row\" class=\"ui-row-toggler ui-icon ui-icon-circle-triangle-e\" role=\"button\" tabindex=\"0\"></div></td><td role=\"gridcell\"><span style=\"white-space:pre-line;\">Valley Mountain Regional Center</span></td><td role=\"gridcell\">CA</td><td role=\"gridcell\"><span style=\"white-space:pre-line;\">Business Associate</span></td><td role=\"gridcell\">17197</td><td role=\"gridcell\">11/09/2021</td><td role=\"gridcell\"><span style=\"white-space:pre-line;\">Hacking/IT Incident</span></td><td role=\"gridcell\"><span style=\"white-space:pre-line;\">Email</span></td><td role=\"gridcell\" style=\"display: none\"><span style=\"white-space:pre-line;\">Yes</span></td><td role=\"gridcell\" style=\"display: none\"><span style=\"white-space:pre-line;\"></span></td></tr><tr class=\"ui-widget-content ui-datatable-even\" data-ri=\"22\" role=\"row\"><td role=\"gridcell\" style=\"width:50px\"><div aria-expanded=\"false\" aria-label=\"Toggle Row\" class=\"ui-row-toggler ui-icon ui-icon-circle-triangle-e\" role=\"button\" tabindex=\"0\"></div></td><td role=\"gridcell\"><span style=\"white-space:pre-line;\">Continental American Insurance Company</span></td><td role=\"gridcell\">SC</td><td role=\"gridcell\"><span style=\"white-space:pre-line;\">Health Plan</span></td><td role=\"gridcell\">623</td><td role=\"gridcell\">11/08/2021</td><td role=\"gridcell\"><span style=\"white-space:pre-line;\">Unauthorized Access/Disclosure</span></td><td role=\"gridcell\"><span style=\"white-space:pre-line;\">Paper/Films</span></td><td role=\"gridcell\" style=\"display: none\"><span style=\"white-space:pre-line;\">No</span></td><td role=\"gridcell\" style=\"display: none\"><span style=\"white-space:pre-line;\"></span></td></tr><tr class=\"ui-widget-content ui-datatable-odd\" data-ri=\"23\" role=\"row\"><td role=\"gridcell\" style=\"width:50px\"><div aria-expanded=\"false\" aria-label=\"Toggle Row\" class=\"ui-row-toggler ui-icon ui-icon-circle-triangle-e\" role=\"button\" tabindex=\"0\"></div></td><td role=\"gridcell\"><span style=\"white-space:pre-line;\">Seneca Family of Agencies</span></td><td role=\"gridcell\">CA</td><td role=\"gridcell\"><span style=\"white-space:pre-line;\">Business Associate</span></td><td role=\"gridcell\">19725</td><td role=\"gridcell\">11/05/2021</td><td role=\"gridcell\"><span style=\"white-space:pre-line;\">Hacking/IT Incident</span></td><td role=\"gridcell\"><span style=\"white-space:pre-line;\">Network Server</span></td><td role=\"gridcell\" style=\"display: none\"><span style=\"white-space:pre-line;\">Yes</span></td><td role=\"gridcell\" style=\"display: none\"><span style=\"white-space:pre-line;\"></span></td></tr><tr class=\"ui-widget-content ui-datatable-even\" data-ri=\"24\" role=\"row\"><td role=\"gridcell\" style=\"width:50px\"><div aria-expanded=\"false\" aria-label=\"Toggle Row\" class=\"ui-row-toggler ui-icon ui-icon-circle-triangle-e\" role=\"button\" tabindex=\"0\"></div></td><td role=\"gridcell\"><span style=\"white-space:pre-line;\">The Urology Center of Colorado</span></td><td role=\"gridcell\">CO</td><td role=\"gridcell\"><span style=\"white-space:pre-line;\">Healthcare Provider</span></td><td role=\"gridcell\">137820</td><td role=\"gridcell\">11/05/2021</td><td role=\"gridcell\"><span style=\"white-space:pre-line;\">Hacking/IT Incident</span></td><td role=\"gridcell\"><span style=\"white-space:pre-line;\">Network Server</span></td><td role=\"gridcell\" style=\"display: none\"><span style=\"white-space:pre-line;\">No</span></td><td role=\"gridcell\" style=\"display: none\"><span style=\"white-space:pre-line;\"></span></td></tr><tr class=\"ui-widget-content ui-datatable-odd\" data-ri=\"25\" role=\"row\"><td role=\"gridcell\" style=\"width:50px\"><div aria-expanded=\"false\" aria-label=\"Toggle Row\" class=\"ui-row-toggler ui-icon ui-icon-circle-triangle-e\" role=\"button\" tabindex=\"0\"></div></td><td role=\"gridcell\"><span style=\"white-space:pre-line;\">UNC Health</span></td><td role=\"gridcell\">NC</td><td role=\"gridcell\"><span style=\"white-space:pre-line;\">Healthcare Provider</span></td><td role=\"gridcell\">946</td><td role=\"gridcell\">11/05/2021</td><td role=\"gridcell\"><span style=\"white-space:pre-line;\">Unauthorized Access/Disclosure</span></td><td role=\"gridcell\"><span style=\"white-space:pre-line;\">Electronic Medical Record</span></td><td role=\"gridcell\" style=\"display: none\"><span style=\"white-space:pre-line;\">No</span></td><td role=\"gridcell\" style=\"display: none\"><span style=\"white-space:pre-line;\"></span></td></tr><tr class=\"ui-widget-content ui-datatable-even\" data-ri=\"26\" role=\"row\"><td role=\"gridcell\" style=\"width:50px\"><div aria-expanded=\"false\" aria-label=\"Toggle Row\" class=\"ui-row-toggler ui-icon ui-icon-circle-triangle-e\" role=\"button\" tabindex=\"0\"></div></td><td role=\"gridcell\"><span style=\"white-space:pre-line;\">Association to Benefit Children</span></td><td role=\"gridcell\">NY</td><td role=\"gridcell\"><span style=\"white-space:pre-line;\">Healthcare Provider</span></td><td role=\"gridcell\">9142</td><td role=\"gridcell\">11/05/2021</td><td role=\"gridcell\"><span style=\"white-space:pre-line;\">Hacking/IT Incident</span></td><td role=\"gridcell\"><span style=\"white-space:pre-line;\">Email</span></td><td role=\"gridcell\" style=\"display: none\"><span style=\"white-space:pre-line;\">No</span></td><td role=\"gridcell\" style=\"display: none\"><span style=\"white-space:pre-line;\"></span></td></tr><tr class=\"ui-widget-content ui-datatable-odd\" data-ri=\"27\" role=\"row\"><td role=\"gridcell\" style=\"width:50px\"><div aria-expanded=\"false\" aria-label=\"Toggle Row\" class=\"ui-row-toggler ui-icon ui-icon-circle-triangle-e\" role=\"button\" tabindex=\"0\"></div></td><td role=\"gridcell\"><span style=\"white-space:pre-line;\">University Hospital  </span></td><td role=\"gridcell\">NJ</td><td role=\"gridcell\"><span style=\"white-space:pre-line;\">Healthcare Provider</span></td><td role=\"gridcell\">10067</td><td role=\"gridcell\">11/05/2021</td><td role=\"gridcell\"><span style=\"white-space:pre-line;\">Unauthorized Access/Disclosure</span></td><td role=\"gridcell\"><span style=\"white-space:pre-line;\">Other</span></td><td role=\"gridcell\" style=\"display: none\"><span style=\"white-space:pre-line;\">No</span></td><td role=\"gridcell\" style=\"display: none\"><span style=\"white-space:pre-line;\"></span></td></tr><tr class=\"ui-widget-content ui-datatable-even\" data-ri=\"28\" role=\"row\"><td role=\"gridcell\" style=\"width:50px\"><div aria-expanded=\"false\" aria-label=\"Toggle Row\" class=\"ui-row-toggler ui-icon ui-icon-circle-triangle-e\" role=\"button\" tabindex=\"0\"></div></td><td role=\"gridcell\"><span style=\"white-space:pre-line;\">Three Rivers Regional Commission</span></td><td role=\"gridcell\">GA</td><td role=\"gridcell\"><span style=\"white-space:pre-line;\">Business Associate</span></td><td role=\"gridcell\">2000</td><td role=\"gridcell\">11/05/2021</td><td role=\"gridcell\"><span style=\"white-space:pre-line;\">Hacking/IT Incident</span></td><td role=\"gridcell\"><span style=\"white-space:pre-line;\">Network Server</span></td><td role=\"gridcell\" style=\"display: none\"><span style=\"white-space:pre-line;\">Yes</span></td><td role=\"gridcell\" style=\"display: none\"><span style=\"white-space:pre-line;\"></span></td></tr><tr class=\"ui-widget-content ui-datatable-odd\" data-ri=\"29\" role=\"row\"><td role=\"gridcell\" style=\"width:50px\"><div aria-expanded=\"false\" aria-label=\"Toggle Row\" class=\"ui-row-toggler ui-icon ui-icon-circle-triangle-e\" role=\"button\" tabindex=\"0\"></div></td><td role=\"gridcell\"><span style=\"white-space:pre-line;\">Hermitage Eye Care, PLLC dba Dover Eye Care</span></td><td role=\"gridcell\">TN</td><td role=\"gridcell\"><span style=\"white-space:pre-line;\">Healthcare Provider</span></td><td role=\"gridcell\">11672</td><td role=\"gridcell\">11/05/2021</td><td role=\"gridcell\"><span style=\"white-space:pre-line;\">Hacking/IT Incident</span></td><td role=\"gridcell\"><span style=\"white-space:pre-line;\">Network Server</span></td><td role=\"gridcell\" style=\"display: none\"><span style=\"white-space:pre-line;\">Yes</span></td><td role=\"gridcell\" style=\"display: none\"><span style=\"white-space:pre-line;\"></span></td></tr><tr class=\"ui-widget-content ui-datatable-even\" data-ri=\"30\" role=\"row\"><td role=\"gridcell\" style=\"width:50px\"><div aria-expanded=\"false\" aria-label=\"Toggle Row\" class=\"ui-row-toggler ui-icon ui-icon-circle-triangle-e\" role=\"button\" tabindex=\"0\"></div></td><td role=\"gridcell\"><span style=\"white-space:pre-line;\">Envision Home Health and Hospice</span></td><td role=\"gridcell\">UT</td><td role=\"gridcell\"><span style=\"white-space:pre-line;\">Healthcare Provider</span></td><td role=\"gridcell\">5381</td><td role=\"gridcell\">11/05/2021</td><td role=\"gridcell\"><span style=\"white-space:pre-line;\">Unauthorized Access/Disclosure</span></td><td role=\"gridcell\"><span style=\"white-space:pre-line;\">Email</span></td><td role=\"gridcell\" style=\"display: none\"><span style=\"white-space:pre-line;\">No</span></td><td role=\"gridcell\" style=\"display: none\"><span style=\"white-space:pre-line;\"></span></td></tr><tr class=\"ui-widget-content ui-datatable-odd\" data-ri=\"31\" role=\"row\"><td role=\"gridcell\" style=\"width:50px\"><div aria-expanded=\"false\" aria-label=\"Toggle Row\" class=\"ui-row-toggler ui-icon ui-icon-circle-triangle-e\" role=\"button\" tabindex=\"0\"></div></td><td role=\"gridcell\"><span style=\"white-space:pre-line;\">New York Psychotherapy and Counseling Center</span></td><td role=\"gridcell\">NY</td><td role=\"gridcell\"><span style=\"white-space:pre-line;\">Healthcare Provider</span></td><td role=\"gridcell\">28000</td><td role=\"gridcell\">11/05/2021</td><td role=\"gridcell\"><span style=\"white-space:pre-line;\">Hacking/IT Incident</span></td><td role=\"gridcell\"><span style=\"white-space:pre-line;\">Network Server</span></td><td role=\"gridcell\" style=\"display: none\"><span style=\"white-space:pre-line;\">No</span></td><td role=\"gridcell\" style=\"display: none\"><span style=\"white-space:pre-line;\"></span></td></tr><tr class=\"ui-widget-content ui-datatable-even\" data-ri=\"32\" role=\"row\"><td role=\"gridcell\" style=\"width:50px\"><div aria-expanded=\"false\" aria-label=\"Toggle Row\" class=\"ui-row-toggler ui-icon ui-icon-circle-triangle-e\" role=\"button\" tabindex=\"0\"></div></td><td role=\"gridcell\"><span style=\"white-space:pre-line;\">Humana Inc</span></td><td role=\"gridcell\">KY</td><td role=\"gridcell\"><span style=\"white-space:pre-line;\">Health Plan</span></td><td role=\"gridcell\">1454</td><td role=\"gridcell\">11/04/2021</td><td role=\"gridcell\"><span style=\"white-space:pre-line;\">Hacking/IT Incident</span></td><td role=\"gridcell\"><span style=\"white-space:pre-line;\">Network Server</span></td><td role=\"gridcell\" style=\"display: none\"><span style=\"white-space:pre-line;\">Yes</span></td><td role=\"gridcell\" style=\"display: none\"><span style=\"white-space:pre-line;\"></span></td></tr><tr class=\"ui-widget-content ui-datatable-odd\" data-ri=\"33\" role=\"row\"><td role=\"gridcell\" style=\"width:50px\"><div aria-expanded=\"false\" aria-label=\"Toggle Row\" class=\"ui-row-toggler ui-icon ui-icon-circle-triangle-e\" role=\"button\" tabindex=\"0\"></div></td><td role=\"gridcell\"><span style=\"white-space:pre-line;\">Maxim Healthcare Group</span></td><td role=\"gridcell\">MD</td><td role=\"gridcell\"><span style=\"white-space:pre-line;\">Healthcare Provider</span></td><td role=\"gridcell\">65267</td><td role=\"gridcell\">11/04/2021</td><td role=\"gridcell\"><span style=\"white-space:pre-line;\">Hacking/IT Incident</span></td><td role=\"gridcell\"><span style=\"white-space:pre-line;\">Email</span></td><td role=\"gridcell\" style=\"display: none\"><span style=\"white-space:pre-line;\">No</span></td><td role=\"gridcell\" style=\"display: none\"><span style=\"white-space:pre-line;\"></span></td></tr><tr class=\"ui-widget-content ui-datatable-even\" data-ri=\"34\" role=\"row\"><td role=\"gridcell\" style=\"width:50px\"><div aria-expanded=\"false\" aria-label=\"Toggle Row\" class=\"ui-row-toggler ui-icon ui-icon-circle-triangle-e\" role=\"button\" tabindex=\"0\"></div></td><td role=\"gridcell\"><span style=\"white-space:pre-line;\">Consociate, Inc.</span></td><td role=\"gridcell\">IL</td><td role=\"gridcell\"><span style=\"white-space:pre-line;\">Business Associate</span></td><td role=\"gridcell\">17235</td><td role=\"gridcell\">11/03/2021</td><td role=\"gridcell\"><span style=\"white-space:pre-line;\">Hacking/IT Incident</span></td><td role=\"gridcell\"><span style=\"white-space:pre-line;\">Network Server</span></td><td role=\"gridcell\" style=\"display: none\"><span style=\"white-space:pre-line;\">Yes</span></td><td role=\"gridcell\" style=\"display: none\"><span style=\"white-space:pre-line;\"></span></td></tr><tr class=\"ui-widget-content ui-datatable-odd\" data-ri=\"35\" role=\"row\"><td role=\"gridcell\" style=\"width:50px\"><div aria-expanded=\"false\" aria-label=\"Toggle Row\" class=\"ui-row-toggler ui-icon ui-icon-circle-triangle-e\" role=\"button\" tabindex=\"0\"></div></td><td role=\"gridcell\"><span style=\"white-space:pre-line;\">Putnam County Memorial Hospital</span></td><td role=\"gridcell\">MO</td><td role=\"gridcell\"><span style=\"white-space:pre-line;\">Healthcare Provider</span></td><td role=\"gridcell\">6916</td><td role=\"gridcell\">11/03/2021</td><td role=\"gridcell\"><span style=\"white-space:pre-line;\">Hacking/IT Incident</span></td><td role=\"gridcell\"><span style=\"white-space:pre-line;\">Network Server</span></td><td role=\"gridcell\" style=\"display: none\"><span style=\"white-space:pre-line;\">No</span></td><td role=\"gridcell\" style=\"display: none\"><span style=\"white-space:pre-line;\"></span></td></tr><tr class=\"ui-widget-content ui-datatable-even\" data-ri=\"36\" role=\"row\"><td role=\"gridcell\" style=\"width:50px\"><div aria-expanded=\"false\" aria-label=\"Toggle Row\" class=\"ui-row-toggler ui-icon ui-icon-circle-triangle-e\" role=\"button\" tabindex=\"0\"></div></td><td role=\"gridcell\"><span style=\"white-space:pre-line;\">JEV Plastic Surgery &amp; Medical Aesthetics</span></td><td role=\"gridcell\">MD</td><td role=\"gridcell\"><span style=\"white-space:pre-line;\">Healthcare Provider</span></td><td role=\"gridcell\">1620</td><td role=\"gridcell\">11/03/2021</td><td role=\"gridcell\"><span style=\"white-space:pre-line;\">Hacking/IT Incident</span></td><td role=\"gridcell\"><span style=\"white-space:pre-line;\">Network Server</span></td><td role=\"gridcell\" style=\"display: none\"><span style=\"white-space:pre-line;\">No</span></td><td role=\"gridcell\" style=\"display: none\"><span style=\"white-space:pre-line;\"></span></td></tr><tr class=\"ui-widget-content ui-datatable-odd\" data-ri=\"37\" role=\"row\"><td role=\"gridcell\" style=\"width:50px\"><div aria-expanded=\"false\" aria-label=\"Toggle Row\" class=\"ui-row-toggler ui-icon ui-icon-circle-triangle-e\" role=\"button\" tabindex=\"0\"></div></td><td role=\"gridcell\"><span style=\"white-space:pre-line;\">Baywood Medical Associates, PLC dba Desert Pain Institute</span></td><td role=\"gridcell\">AZ</td><td role=\"gridcell\"><span style=\"white-space:pre-line;\">Healthcare Provider</span></td><td role=\"gridcell\">45262</td><td role=\"gridcell\">11/03/2021</td><td role=\"gridcell\"><span style=\"white-space:pre-line;\">Hacking/IT Incident</span></td><td role=\"gridcell\"><span style=\"white-space:pre-line;\">Network Server</span></td><td role=\"gridcell\" style=\"display: none\"><span style=\"white-space:pre-line;\">No</span></td><td role=\"gridcell\" style=\"display: none\"><span style=\"white-space:pre-line;\"></span></td></tr><tr class=\"ui-widget-content ui-datatable-even\" data-ri=\"38\" role=\"row\"><td role=\"gridcell\" style=\"width:50px\"><div aria-expanded=\"false\" aria-label=\"Toggle Row\" class=\"ui-row-toggler ui-icon ui-icon-circle-triangle-e\" role=\"button\" tabindex=\"0\"></div></td><td role=\"gridcell\"><span style=\"white-space:pre-line;\">Utah Imaging Associates, Inc.</span></td><td role=\"gridcell\">UT</td><td role=\"gridcell\"><span style=\"white-space:pre-line;\">Healthcare Provider</span></td><td role=\"gridcell\">583643</td><td role=\"gridcell\">11/03/2021</td><td role=\"gridcell\"><span style=\"white-space:pre-line;\">Hacking/IT Incident</span></td><td role=\"gridcell\"><span style=\"white-space:pre-line;\">Network Server</span></td><td role=\"gridcell\" style=\"display: none\"><span style=\"white-space:pre-line;\">No</span></td><td role=\"gridcell\" style=\"display: none\"><span style=\"white-space:pre-line;\"></span></td></tr><tr class=\"ui-widget-content ui-datatable-odd\" data-ri=\"39\" role=\"row\"><td role=\"gridcell\" style=\"width:50px\"><div aria-expanded=\"false\" aria-label=\"Toggle Row\" class=\"ui-row-toggler ui-icon ui-icon-circle-triangle-e\" role=\"button\" tabindex=\"0\"></div></td><td role=\"gridcell\"><span style=\"white-space:pre-line;\">Victory Health Partners</span></td><td role=\"gridcell\">AL</td><td role=\"gridcell\"><span style=\"white-space:pre-line;\">Healthcare Provider</span></td><td role=\"gridcell\">30000</td><td role=\"gridcell\">11/02/2021</td><td role=\"gridcell\"><span style=\"white-space:pre-line;\">Hacking/IT Incident</span></td><td role=\"gridcell\"><span style=\"white-space:pre-line;\">Network Server</span></td><td role=\"gridcell\" style=\"display: none\"><span style=\"white-space:pre-line;\">No</span></td><td role=\"gridcell\" style=\"display: none\"><span style=\"white-space:pre-line;\"></span></td></tr><tr class=\"ui-widget-content ui-datatable-even\" data-ri=\"40\" role=\"row\"><td role=\"gridcell\" style=\"width:50px\"><div aria-expanded=\"false\" aria-label=\"Toggle Row\" class=\"ui-row-toggler ui-icon ui-icon-circle-triangle-e\" role=\"button\" tabindex=\"0\"></div></td><td role=\"gridcell\"><span style=\"white-space:pre-line;\">Anne Arundel Medical Center</span></td><td role=\"gridcell\">MD</td><td role=\"gridcell\"><span style=\"white-space:pre-line;\">Healthcare Provider</span></td><td role=\"gridcell\">500</td><td role=\"gridcell\">11/02/2021</td><td role=\"gridcell\"><span style=\"white-space:pre-line;\">Hacking/IT Incident</span></td><td role=\"gridcell\"><span style=\"white-space:pre-line;\">Email</span></td><td role=\"gridcell\" style=\"display: none\"><span style=\"white-space:pre-line;\">No</span></td><td role=\"gridcell\" style=\"display: none\"><span style=\"white-space:pre-line;\"></span></td></tr><tr class=\"ui-widget-content ui-datatable-odd\" data-ri=\"41\" role=\"row\"><td role=\"gridcell\" style=\"width:50px\"><div aria-expanded=\"false\" aria-label=\"Toggle Row\" class=\"ui-row-toggler ui-icon ui-icon-circle-triangle-e\" role=\"button\" tabindex=\"0\"></div></td><td role=\"gridcell\"><span style=\"white-space:pre-line;\">Doctors Health Group, Inc.</span></td><td role=\"gridcell\">AR</td><td role=\"gridcell\"><span style=\"white-space:pre-line;\">Healthcare Provider</span></td><td role=\"gridcell\">47660</td><td role=\"gridcell\">11/02/2021</td><td role=\"gridcell\"><span style=\"white-space:pre-line;\">Hacking/IT Incident</span></td><td role=\"gridcell\"><span style=\"white-space:pre-line;\">Network Server</span></td><td role=\"gridcell\" style=\"display: none\"><span style=\"white-space:pre-line;\">Yes</span></td><td role=\"gridcell\" style=\"display: none\"><span style=\"white-space:pre-line;\"></span></td></tr><tr class=\"ui-widget-content ui-datatable-even\" data-ri=\"42\" role=\"row\"><td role=\"gridcell\" style=\"width:50px\"><div aria-expanded=\"false\" aria-label=\"Toggle Row\" class=\"ui-row-toggler ui-icon ui-icon-circle-triangle-e\" role=\"button\" tabindex=\"0\"></div></td><td role=\"gridcell\"><span style=\"white-space:pre-line;\">Washington DC VA Medical Center</span></td><td role=\"gridcell\">DC</td><td role=\"gridcell\"><span style=\"white-space:pre-line;\">Healthcare Provider</span></td><td role=\"gridcell\">1193</td><td role=\"gridcell\">11/01/2021</td><td role=\"gridcell\"><span style=\"white-space:pre-line;\">Unauthorized Access/Disclosure</span></td><td role=\"gridcell\"><span style=\"white-space:pre-line;\">Email</span></td><td role=\"gridcell\" style=\"display: none\"><span style=\"white-space:pre-line;\">No</span></td><td role=\"gridcell\" style=\"display: none\"><span style=\"white-space:pre-line;\"></span></td></tr><tr class=\"ui-widget-content ui-datatable-odd\" data-ri=\"43\" role=\"row\"><td role=\"gridcell\" style=\"width:50px\"><div aria-expanded=\"false\" aria-label=\"Toggle Row\" class=\"ui-row-toggler ui-icon ui-icon-circle-triangle-e\" role=\"button\" tabindex=\"0\"></div></td><td role=\"gridcell\"><span style=\"white-space:pre-line;\">Sea Mar Community Health Centers</span></td><td role=\"gridcell\">WA</td><td role=\"gridcell\"><span style=\"white-space:pre-line;\">Healthcare Provider</span></td><td role=\"gridcell\">688000</td><td role=\"gridcell\">10/30/2021</td><td role=\"gridcell\"><span style=\"white-space:pre-line;\">Hacking/IT Incident</span></td><td role=\"gridcell\"><span style=\"white-space:pre-line;\">Network Server</span></td><td role=\"gridcell\" style=\"display: none\"><span style=\"white-space:pre-line;\">No</span></td><td role=\"gridcell\" style=\"display: none\"><span style=\"white-space:pre-line;\"></span></td></tr><tr class=\"ui-widget-content ui-datatable-even\" data-ri=\"44\" role=\"row\"><td role=\"gridcell\" style=\"width:50px\"><div aria-expanded=\"false\" aria-label=\"Toggle Row\" class=\"ui-row-toggler ui-icon ui-icon-circle-triangle-e\" role=\"button\" tabindex=\"0\"></div></td><td role=\"gridcell\"><span style=\"white-space:pre-line;\">Pottawatomie County Health Department</span></td><td role=\"gridcell\">KS</td><td role=\"gridcell\"><span style=\"white-space:pre-line;\">Healthcare Provider</span></td><td role=\"gridcell\">6000</td><td role=\"gridcell\">10/30/2021</td><td role=\"gridcell\"><span style=\"white-space:pre-line;\">Hacking/IT Incident</span></td><td role=\"gridcell\"><span style=\"white-space:pre-line;\">Network Server</span></td><td role=\"gridcell\" style=\"display: none\"><span style=\"white-space:pre-line;\">No</span></td><td role=\"gridcell\" style=\"display: none\"><span style=\"white-space:pre-line;\"></span></td></tr><tr class=\"ui-widget-content ui-datatable-odd\" data-ri=\"45\" role=\"row\"><td role=\"gridcell\" style=\"width:50px\"><div aria-expanded=\"false\" aria-label=\"Toggle Row\" class=\"ui-row-toggler ui-icon ui-icon-circle-triangle-e\" role=\"button\" tabindex=\"0\"></div></td><td role=\"gridcell\"><span style=\"white-space:pre-line;\">Surecare Specialty Pharmacy</span></td><td role=\"gridcell\">TX</td><td role=\"gridcell\"><span style=\"white-space:pre-line;\">Healthcare Provider</span></td><td role=\"gridcell\">8412</td><td role=\"gridcell\">10/29/2021</td><td role=\"gridcell\"><span style=\"white-space:pre-line;\">Hacking/IT Incident</span></td><td role=\"gridcell\"><span style=\"white-space:pre-line;\">Network Server</span></td><td role=\"gridcell\" style=\"display: none\"><span style=\"white-space:pre-line;\">No</span></td><td role=\"gridcell\" style=\"display: none\"><span style=\"white-space:pre-line;\"></span></td></tr><tr class=\"ui-widget-content ui-datatable-even\" data-ri=\"46\" role=\"row\"><td role=\"gridcell\" style=\"width:50px\"><div aria-expanded=\"false\" aria-label=\"Toggle Row\" class=\"ui-row-toggler ui-icon ui-icon-circle-triangle-e\" role=\"button\" tabindex=\"0\"></div></td><td role=\"gridcell\"><span style=\"white-space:pre-line;\">NHS Management, LLC</span></td><td role=\"gridcell\">AL</td><td role=\"gridcell\"><span style=\"white-space:pre-line;\">Business Associate</span></td><td role=\"gridcell\">501</td><td role=\"gridcell\">10/29/2021</td><td role=\"gridcell\"><span style=\"white-space:pre-line;\">Hacking/IT Incident</span></td><td role=\"gridcell\"><span style=\"white-space:pre-line;\">Network Server</span></td><td role=\"gridcell\" style=\"display: none\"><span style=\"white-space:pre-line;\">Yes</span></td><td role=\"gridcell\" style=\"display: none\"><span style=\"white-space:pre-line;\"></span></td></tr><tr class=\"ui-widget-content ui-datatable-odd\" data-ri=\"47\" role=\"row\"><td role=\"gridcell\" style=\"width:50px\"><div aria-expanded=\"false\" aria-label=\"Toggle Row\" class=\"ui-row-toggler ui-icon ui-icon-circle-triangle-e\" role=\"button\" tabindex=\"0\"></div></td><td role=\"gridcell\"><span style=\"white-space:pre-line;\">Viverant PT, LLC</span></td><td role=\"gridcell\">MN</td><td role=\"gridcell\"><span style=\"white-space:pre-line;\">Healthcare Provider</span></td><td role=\"gridcell\">6540</td><td role=\"gridcell\">10/29/2021</td><td role=\"gridcell\"><span style=\"white-space:pre-line;\">Hacking/IT Incident</span></td><td role=\"gridcell\"><span style=\"white-space:pre-line;\">Email</span></td><td role=\"gridcell\" style=\"display: none\"><span style=\"white-space:pre-line;\">No</span></td><td role=\"gridcell\" style=\"display: none\"><span style=\"white-space:pre-line;\"></span></td></tr><tr class=\"ui-widget-content ui-datatable-even\" data-ri=\"48\" role=\"row\"><td role=\"gridcell\" style=\"width:50px\"><div aria-expanded=\"false\" aria-label=\"Toggle Row\" class=\"ui-row-toggler ui-icon ui-icon-circle-triangle-e\" role=\"button\" tabindex=\"0\"></div></td><td role=\"gridcell\"><span style=\"white-space:pre-line;\">Nationwide Laboratory Services</span></td><td role=\"gridcell\">FL</td><td role=\"gridcell\"><span style=\"white-space:pre-line;\">Healthcare Provider</span></td><td role=\"gridcell\">33437</td><td role=\"gridcell\">10/28/2021</td><td role=\"gridcell\"><span style=\"white-space:pre-line;\">Hacking/IT Incident</span></td><td role=\"gridcell\"><span style=\"white-space:pre-line;\">Network Server</span></td><td role=\"gridcell\" style=\"display: none\"><span style=\"white-space:pre-line;\">No</span></td><td role=\"gridcell\" style=\"display: none\"><span style=\"white-space:pre-line;\"></span></td></tr><tr class=\"ui-widget-content ui-datatable-odd\" data-ri=\"49\" role=\"row\"><td role=\"gridcell\" style=\"width:50px\"><div aria-expanded=\"false\" aria-label=\"Toggle Row\" class=\"ui-row-toggler ui-icon ui-icon-circle-triangle-e\" role=\"button\" tabindex=\"0\"></div></td><td role=\"gridcell\"><span style=\"white-space:pre-line;\">Professional Healthcare Management, Inc. </span></td><td role=\"gridcell\">TN</td><td role=\"gridcell\"><span style=\"white-space:pre-line;\">Healthcare Provider</span></td><td role=\"gridcell\">12306</td><td role=\"gridcell\">10/28/2021</td><td role=\"gridcell\"><span style=\"white-space:pre-line;\">Hacking/IT Incident</span></td><td role=\"gridcell\"><span style=\"white-space:pre-line;\">Network Server</span></td><td role=\"gridcell\" style=\"display: none\"><span style=\"white-space:pre-line;\">No</span></td><td role=\"gridcell\" style=\"display: none\"><span style=\"white-space:pre-line;\"></span></td></tr><tr class=\"ui-widget-content ui-datatable-even\" data-ri=\"50\" role=\"row\"><td role=\"gridcell\" style=\"width:50px\"><div aria-expanded=\"false\" aria-label=\"Toggle Row\" class=\"ui-row-toggler ui-icon ui-icon-circle-triangle-e\" role=\"button\" tabindex=\"0\"></div></td><td role=\"gridcell\"><span style=\"white-space:pre-line;\">Anthem, Inc.</span></td><td role=\"gridcell\">IN</td><td role=\"gridcell\"><span style=\"white-space:pre-line;\">Business Associate</span></td><td role=\"gridcell\">5505</td><td role=\"gridcell\">10/27/2021</td><td role=\"gridcell\"><span style=\"white-space:pre-line;\">Theft</span></td><td role=\"gridcell\"><span style=\"white-space:pre-line;\">Other Portable Electronic Device, Paper/Films</span></td><td role=\"gridcell\" style=\"display: none\"><span style=\"white-space:pre-line;\">Yes</span></td><td role=\"gridcell\" style=\"display: none\"><span style=\"white-space:pre-line;\"></span></td></tr><tr class=\"ui-widget-content ui-datatable-odd\" data-ri=\"51\" role=\"row\"><td role=\"gridcell\" style=\"width:50px\"><div aria-expanded=\"false\" aria-label=\"Toggle Row\" class=\"ui-row-toggler ui-icon ui-icon-circle-triangle-e\" role=\"button\" tabindex=\"0\"></div></td><td role=\"gridcell\"><span style=\"white-space:pre-line;\">California Physicians' Services d/b/a Blue Shield of California</span></td><td role=\"gridcell\">CA</td><td role=\"gridcell\"><span style=\"white-space:pre-line;\">Health Plan</span></td><td role=\"gridcell\">2841</td><td role=\"gridcell\">10/27/2021</td><td role=\"gridcell\"><span style=\"white-space:pre-line;\">Hacking/IT Incident</span></td><td role=\"gridcell\"><span style=\"white-space:pre-line;\">Network Server</span></td><td role=\"gridcell\" style=\"display: none\"><span style=\"white-space:pre-line;\">Yes</span></td><td role=\"gridcell\" style=\"display: none\"><span style=\"white-space:pre-line;\"></span></td></tr><tr class=\"ui-widget-content ui-datatable-even\" data-ri=\"52\" role=\"row\"><td role=\"gridcell\" style=\"width:50px\"><div aria-expanded=\"false\" aria-label=\"Toggle Row\" class=\"ui-row-toggler ui-icon ui-icon-circle-triangle-e\" role=\"button\" tabindex=\"0\"></div></td><td role=\"gridcell\"><span style=\"white-space:pre-line;\">Blue Cross of California</span></td><td role=\"gridcell\">IN</td><td role=\"gridcell\"><span style=\"white-space:pre-line;\">Health Plan</span></td><td role=\"gridcell\">672</td><td role=\"gridcell\">10/27/2021</td><td role=\"gridcell\"><span style=\"white-space:pre-line;\">Hacking/IT Incident</span></td><td role=\"gridcell\"><span style=\"white-space:pre-line;\">Network Server</span></td><td role=\"gridcell\" style=\"display: none\"><span style=\"white-space:pre-line;\">Yes</span></td><td role=\"gridcell\" style=\"display: none\"><span style=\"white-space:pre-line;\"></span></td></tr><tr class=\"ui-widget-content ui-datatable-odd\" data-ri=\"53\" role=\"row\"><td role=\"gridcell\" style=\"width:50px\"><div aria-expanded=\"false\" aria-label=\"Toggle Row\" class=\"ui-row-toggler ui-icon ui-icon-circle-triangle-e\" role=\"button\" tabindex=\"0\"></div></td><td role=\"gridcell\"><span style=\"white-space:pre-line;\">Seneca Family of Agencies</span></td><td role=\"gridcell\">CA</td><td role=\"gridcell\"><span style=\"white-space:pre-line;\">Healthcare Provider</span></td><td role=\"gridcell\">2470</td><td role=\"gridcell\">10/26/2021</td><td role=\"gridcell\"><span style=\"white-space:pre-line;\">Hacking/IT Incident</span></td><td role=\"gridcell\"><span style=\"white-space:pre-line;\">Network Server</span></td><td role=\"gridcell\" style=\"display: none\"><span style=\"white-space:pre-line;\">No</span></td><td role=\"gridcell\" style=\"display: none\"><span style=\"white-space:pre-line;\"></span></td></tr><tr class=\"ui-widget-content ui-datatable-even\" data-ri=\"54\" role=\"row\"><td role=\"gridcell\" style=\"width:50px\"><div aria-expanded=\"false\" aria-label=\"Toggle Row\" class=\"ui-row-toggler ui-icon ui-icon-circle-triangle-e\" role=\"button\" tabindex=\"0\"></div></td><td role=\"gridcell\"><span style=\"white-space:pre-line;\">Nutan K. Parikh, M.D., Ltd., A Professional Corporation dba Las Vegas Cancer Center</span></td><td role=\"gridcell\">NV</td><td role=\"gridcell\"><span style=\"white-space:pre-line;\">Healthcare Provider</span></td><td role=\"gridcell\">1300</td><td role=\"gridcell\">10/26/2021</td><td role=\"gridcell\"><span style=\"white-space:pre-line;\">Hacking/IT Incident</span></td><td role=\"gridcell\"><span style=\"white-space:pre-line;\">Network Server</span></td><td role=\"gridcell\" style=\"display: none\"><span style=\"white-space:pre-line;\">No</span></td><td role=\"gridcell\" style=\"display: none\"><span style=\"white-space:pre-line;\"></span></td></tr><tr class=\"ui-widget-content ui-datatable-odd\" data-ri=\"55\" role=\"row\"><td role=\"gridcell\" style=\"width:50px\"><div aria-expanded=\"false\" aria-label=\"Toggle Row\" class=\"ui-row-toggler ui-icon ui-icon-circle-triangle-e\" role=\"button\" tabindex=\"0\"></div></td><td role=\"gridcell\"><span style=\"white-space:pre-line;\">Community Medical Centers, Inc.</span></td><td role=\"gridcell\">CA</td><td role=\"gridcell\"><span style=\"white-space:pre-line;\">Healthcare Provider</span></td><td role=\"gridcell\">656047</td><td role=\"gridcell\">10/26/2021</td><td role=\"gridcell\"><span style=\"white-space:pre-line;\">Hacking/IT Incident</span></td><td role=\"gridcell\"><span style=\"white-space:pre-line;\">Network Server</span></td><td role=\"gridcell\" style=\"display: none\"><span style=\"white-space:pre-line;\">No</span></td><td role=\"gridcell\" style=\"display: none\"><span style=\"white-space:pre-line;\"></span></td></tr><tr class=\"ui-widget-content ui-datatable-even\" data-ri=\"56\" role=\"row\"><td role=\"gridcell\" style=\"width:50px\"><div aria-expanded=\"false\" aria-label=\"Toggle Row\" class=\"ui-row-toggler ui-icon ui-icon-circle-triangle-e\" role=\"button\" tabindex=\"0\"></div></td><td role=\"gridcell\"><span style=\"white-space:pre-line;\">Lincare Holdings Inc.</span></td><td role=\"gridcell\">FL</td><td role=\"gridcell\"><span style=\"white-space:pre-line;\">Healthcare Provider</span></td><td role=\"gridcell\">500</td><td role=\"gridcell\">10/26/2021</td><td role=\"gridcell\"><span style=\"white-space:pre-line;\">Hacking/IT Incident</span></td><td role=\"gridcell\"><span style=\"white-space:pre-line;\">Network Server</span></td><td role=\"gridcell\" style=\"display: none\"><span style=\"white-space:pre-line;\">No</span></td><td role=\"gridcell\" style=\"display: none\"><span style=\"white-space:pre-line;\"></span></td></tr><tr class=\"ui-widget-content ui-datatable-odd\" data-ri=\"57\" role=\"row\"><td role=\"gridcell\" style=\"width:50px\"><div aria-expanded=\"false\" aria-label=\"Toggle Row\" class=\"ui-row-toggler ui-icon ui-icon-circle-triangle-e\" role=\"button\" tabindex=\"0\"></div></td><td role=\"gridcell\"><span style=\"white-space:pre-line;\">ROSE H BAILEY DDS</span></td><td role=\"gridcell\">WA</td><td role=\"gridcell\"><span style=\"white-space:pre-line;\">Healthcare Provider</span></td><td role=\"gridcell\">3000</td><td role=\"gridcell\">10/26/2021</td><td role=\"gridcell\"><span style=\"white-space:pre-line;\">Hacking/IT Incident</span></td><td role=\"gridcell\"><span style=\"white-space:pre-line;\">Desktop Computer</span></td><td role=\"gridcell\" style=\"display: none\"><span style=\"white-space:pre-line;\">No</span></td><td role=\"gridcell\" style=\"display: none\"><span style=\"white-space:pre-line;\"></span></td></tr><tr class=\"ui-widget-content ui-datatable-even\" data-ri=\"58\" role=\"row\"><td role=\"gridcell\" style=\"width:50px\"><div aria-expanded=\"false\" aria-label=\"Toggle Row\" class=\"ui-row-toggler ui-icon ui-icon-circle-triangle-e\" role=\"button\" tabindex=\"0\"></div></td><td role=\"gridcell\"><span style=\"white-space:pre-line;\">Walmart, Inc.</span></td><td role=\"gridcell\">AR</td><td role=\"gridcell\"><span style=\"white-space:pre-line;\">Healthcare Provider</span></td><td role=\"gridcell\">828</td><td role=\"gridcell\">10/26/2021</td><td role=\"gridcell\"><span style=\"white-space:pre-line;\">Loss</span></td><td role=\"gridcell\"><span style=\"white-space:pre-line;\">Laptop</span></td><td role=\"gridcell\" style=\"display: none\"><span style=\"white-space:pre-line;\">No</span></td><td role=\"gridcell\" style=\"display: none\"><span style=\"white-space:pre-line;\"></span></td></tr><tr class=\"ui-widget-content ui-datatable-odd\" data-ri=\"59\" role=\"row\"><td role=\"gridcell\" style=\"width:50px\"><div aria-expanded=\"false\" aria-label=\"Toggle Row\" class=\"ui-row-toggler ui-icon ui-icon-circle-triangle-e\" role=\"button\" tabindex=\"0\"></div></td><td role=\"gridcell\"><span style=\"white-space:pre-line;\">Foundation for Medical Care of Tulare and Kings Counties</span></td><td role=\"gridcell\">CA</td><td role=\"gridcell\"><span style=\"white-space:pre-line;\">Business Associate</span></td><td role=\"gridcell\">1835</td><td role=\"gridcell\">10/26/2021</td><td role=\"gridcell\"><span style=\"white-space:pre-line;\">Theft</span></td><td role=\"gridcell\"><span style=\"white-space:pre-line;\">Other Portable Electronic Device</span></td><td role=\"gridcell\" style=\"display: none\"><span style=\"white-space:pre-line;\">Yes</span></td><td role=\"gridcell\" style=\"display: none\"><span style=\"white-space:pre-line;\"></span></td></tr><tr class=\"ui-widget-content ui-datatable-even\" data-ri=\"60\" role=\"row\"><td role=\"gridcell\" style=\"width:50px\"><div aria-expanded=\"false\" aria-label=\"Toggle Row\" class=\"ui-row-toggler ui-icon ui-icon-circle-triangle-e\" role=\"button\" tabindex=\"0\"></div></td><td role=\"gridcell\"><span style=\"white-space:pre-line;\">Painters District Council No. 30 Health and Welfare Fund</span></td><td role=\"gridcell\">IL</td><td role=\"gridcell\"><span style=\"white-space:pre-line;\">Health Plan</span></td><td role=\"gridcell\">2157</td><td role=\"gridcell\">10/25/2021</td><td role=\"gridcell\"><span style=\"white-space:pre-line;\">Hacking/IT Incident</span></td><td role=\"gridcell\"><span style=\"white-space:pre-line;\">Email</span></td><td role=\"gridcell\" style=\"display: none\"><span style=\"white-space:pre-line;\">No</span></td><td role=\"gridcell\" style=\"display: none\"><span style=\"white-space:pre-line;\"></span></td></tr><tr class=\"ui-widget-content ui-datatable-odd\" data-ri=\"61\" role=\"row\"><td role=\"gridcell\" style=\"width:50px\"><div aria-expanded=\"false\" aria-label=\"Toggle Row\" class=\"ui-row-toggler ui-icon ui-icon-circle-triangle-e\" role=\"button\" tabindex=\"0\"></div></td><td role=\"gridcell\"><span style=\"white-space:pre-line;\">Bryan Health</span></td><td role=\"gridcell\">NE</td><td role=\"gridcell\"><span style=\"white-space:pre-line;\">Healthcare Provider</span></td><td role=\"gridcell\">2753</td><td role=\"gridcell\">10/25/2021</td><td role=\"gridcell\"><span style=\"white-space:pre-line;\">Unauthorized Access/Disclosure</span></td><td role=\"gridcell\"><span style=\"white-space:pre-line;\">Electronic Medical Record</span></td><td role=\"gridcell\" style=\"display: none\"><span style=\"white-space:pre-line;\">No</span></td><td role=\"gridcell\" style=\"display: none\"><span style=\"white-space:pre-line;\"></span></td></tr><tr class=\"ui-widget-content ui-datatable-even\" data-ri=\"62\" role=\"row\"><td role=\"gridcell\" style=\"width:50px\"><div aria-expanded=\"false\" aria-label=\"Toggle Row\" class=\"ui-row-toggler ui-icon ui-icon-circle-triangle-e\" role=\"button\" tabindex=\"0\"></div></td><td role=\"gridcell\"><span style=\"white-space:pre-line;\">Throckmorton County Memorial Hospital</span></td><td role=\"gridcell\">TX</td><td role=\"gridcell\"><span style=\"white-space:pre-line;\">Healthcare Provider</span></td><td role=\"gridcell\">3136</td><td role=\"gridcell\">10/22/2021</td><td role=\"gridcell\"><span style=\"white-space:pre-line;\">Hacking/IT Incident</span></td><td role=\"gridcell\"><span style=\"white-space:pre-line;\">Network Server</span></td><td role=\"gridcell\" style=\"display: none\"><span style=\"white-space:pre-line;\">No</span></td><td role=\"gridcell\" style=\"display: none\"><span style=\"white-space:pre-line;\"></span></td></tr><tr class=\"ui-widget-content ui-datatable-odd\" data-ri=\"63\" role=\"row\"><td role=\"gridcell\" style=\"width:50px\"><div aria-expanded=\"false\" aria-label=\"Toggle Row\" class=\"ui-row-toggler ui-icon ui-icon-circle-triangle-e\" role=\"button\" tabindex=\"0\"></div></td><td role=\"gridcell\"><span style=\"white-space:pre-line;\">Star Group, L.P. Health Benefits Plan </span></td><td role=\"gridcell\">CT</td><td role=\"gridcell\"><span style=\"white-space:pre-line;\">Health Plan</span></td><td role=\"gridcell\">1338</td><td role=\"gridcell\">10/22/2021</td><td role=\"gridcell\"><span style=\"white-space:pre-line;\">Hacking/IT Incident</span></td><td role=\"gridcell\"><span style=\"white-space:pre-line;\">Network Server</span></td><td role=\"gridcell\" style=\"display: none\"><span style=\"white-space:pre-line;\">No</span></td><td role=\"gridcell\" style=\"display: none\"><span style=\"white-space:pre-line;\"></span></td></tr><tr class=\"ui-widget-content ui-datatable-even\" data-ri=\"64\" role=\"row\"><td role=\"gridcell\" style=\"width:50px\"><div aria-expanded=\"false\" aria-label=\"Toggle Row\" class=\"ui-row-toggler ui-icon ui-icon-circle-triangle-e\" role=\"button\" tabindex=\"0\"></div></td><td role=\"gridcell\"><span style=\"white-space:pre-line;\">Educators Mutual Insurance Association</span></td><td role=\"gridcell\">UT</td><td role=\"gridcell\"><span style=\"white-space:pre-line;\">Health Plan</span></td><td role=\"gridcell\">8661</td><td role=\"gridcell\">10/22/2021</td><td role=\"gridcell\"><span style=\"white-space:pre-line;\">Hacking/IT Incident</span></td><td role=\"gridcell\"><span style=\"white-space:pre-line;\">Network Server</span></td><td role=\"gridcell\" style=\"display: none\"><span style=\"white-space:pre-line;\">No</span></td><td role=\"gridcell\" style=\"display: none\"><span style=\"white-space:pre-line;\"></span></td></tr><tr class=\"ui-widget-content ui-datatable-odd\" data-ri=\"65\" role=\"row\"><td role=\"gridcell\" style=\"width:50px\"><div aria-expanded=\"false\" aria-label=\"Toggle Row\" class=\"ui-row-toggler ui-icon ui-icon-circle-triangle-e\" role=\"button\" tabindex=\"0\"></div></td><td role=\"gridcell\"><span style=\"white-space:pre-line;\">QRS, Inc.</span></td><td role=\"gridcell\">TN</td><td role=\"gridcell\"><span style=\"white-space:pre-line;\">Business Associate</span></td><td role=\"gridcell\">319778</td><td role=\"gridcell\">10/22/2021</td><td role=\"gridcell\"><span style=\"white-space:pre-line;\">Hacking/IT Incident</span></td><td role=\"gridcell\"><span style=\"white-space:pre-line;\">Network Server</span></td><td role=\"gridcell\" style=\"display: none\"><span style=\"white-space:pre-line;\">Yes</span></td><td role=\"gridcell\" style=\"display: none\"><span style=\"white-space:pre-line;\"></span></td></tr><tr class=\"ui-widget-content ui-datatable-even\" data-ri=\"66\" role=\"row\"><td role=\"gridcell\" style=\"width:50px\"><div aria-expanded=\"false\" aria-label=\"Toggle Row\" class=\"ui-row-toggler ui-icon ui-icon-circle-triangle-e\" role=\"button\" tabindex=\"0\"></div></td><td role=\"gridcell\"><span style=\"white-space:pre-line;\">Missouri Delta Medical Center </span></td><td role=\"gridcell\">IL</td><td role=\"gridcell\"><span style=\"white-space:pre-line;\">Healthcare Provider</span></td><td role=\"gridcell\">500</td><td role=\"gridcell\">10/21/2021</td><td role=\"gridcell\"><span style=\"white-space:pre-line;\">Hacking/IT Incident</span></td><td role=\"gridcell\"><span style=\"white-space:pre-line;\">Network Server</span></td><td role=\"gridcell\" style=\"display: none\"><span style=\"white-space:pre-line;\">No</span></td><td role=\"gridcell\" style=\"display: none\"><span style=\"white-space:pre-line;\"></span></td></tr><tr class=\"ui-widget-content ui-datatable-odd\" data-ri=\"67\" role=\"row\"><td role=\"gridcell\" style=\"width:50px\"><div aria-expanded=\"false\" aria-label=\"Toggle Row\" class=\"ui-row-toggler ui-icon ui-icon-circle-triangle-e\" role=\"button\" tabindex=\"0\"></div></td><td role=\"gridcell\"><span style=\"white-space:pre-line;\">Lavaca Medical Center</span></td><td role=\"gridcell\">TX</td><td role=\"gridcell\"><span style=\"white-space:pre-line;\">Healthcare Provider</span></td><td role=\"gridcell\">48705</td><td role=\"gridcell\">10/21/2021</td><td role=\"gridcell\"><span style=\"white-space:pre-line;\">Hacking/IT Incident</span></td><td role=\"gridcell\"><span style=\"white-space:pre-line;\">Network Server</span></td><td role=\"gridcell\" style=\"display: none\"><span style=\"white-space:pre-line;\">No</span></td><td role=\"gridcell\" style=\"display: none\"><span style=\"white-space:pre-line;\"></span></td></tr><tr class=\"ui-widget-content ui-datatable-even\" data-ri=\"68\" role=\"row\"><td role=\"gridcell\" style=\"width:50px\"><div aria-expanded=\"false\" aria-label=\"Toggle Row\" class=\"ui-row-toggler ui-icon ui-icon-circle-triangle-e\" role=\"button\" tabindex=\"0\"></div></td><td role=\"gridcell\"><span style=\"white-space:pre-line;\">UNC Hospitals</span></td><td role=\"gridcell\">NC</td><td role=\"gridcell\"><span style=\"white-space:pre-line;\">Healthcare Provider</span></td><td role=\"gridcell\">719</td><td role=\"gridcell\">10/19/2021</td><td role=\"gridcell\"><span style=\"white-space:pre-line;\">Unauthorized Access/Disclosure</span></td><td role=\"gridcell\"><span style=\"white-space:pre-line;\">Desktop Computer, Electronic Medical Record</span></td><td role=\"gridcell\" style=\"display: none\"><span style=\"white-space:pre-line;\">No</span></td><td role=\"gridcell\" style=\"display: none\"><span style=\"white-space:pre-line;\"></span></td></tr><tr class=\"ui-widget-content ui-datatable-odd\" data-ri=\"69\" role=\"row\"><td role=\"gridcell\" style=\"width:50px\"><div aria-expanded=\"false\" aria-label=\"Toggle Row\" class=\"ui-row-toggler ui-icon ui-icon-circle-triangle-e\" role=\"button\" tabindex=\"0\"></div></td><td role=\"gridcell\"><span style=\"white-space:pre-line;\">Redwoods Rural Health Center</span></td><td role=\"gridcell\">CA</td><td role=\"gridcell\"><span style=\"white-space:pre-line;\">Healthcare Provider</span></td><td role=\"gridcell\">2306</td><td role=\"gridcell\">10/18/2021</td><td role=\"gridcell\"><span style=\"white-space:pre-line;\">Unauthorized Access/Disclosure</span></td><td role=\"gridcell\"><span style=\"white-space:pre-line;\">Email</span></td><td role=\"gridcell\" style=\"display: none\"><span style=\"white-space:pre-line;\">No</span></td><td role=\"gridcell\" style=\"display: none\"><span style=\"white-space:pre-line;\"></span></td></tr><tr class=\"ui-widget-content ui-datatable-even\" data-ri=\"70\" role=\"row\"><td role=\"gridcell\" style=\"width:50px\"><div aria-expanded=\"false\" aria-label=\"Toggle Row\" class=\"ui-row-toggler ui-icon ui-icon-circle-triangle-e\" role=\"button\" tabindex=\"0\"></div></td><td role=\"gridcell\"><span style=\"white-space:pre-line;\">Medical Practice Solutions</span></td><td role=\"gridcell\">MS</td><td role=\"gridcell\"><span style=\"white-space:pre-line;\">Business Associate</span></td><td role=\"gridcell\">501</td><td role=\"gridcell\">10/18/2021</td><td role=\"gridcell\"><span style=\"white-space:pre-line;\">Unauthorized Access/Disclosure</span></td><td role=\"gridcell\"><span style=\"white-space:pre-line;\">Desktop Computer</span></td><td role=\"gridcell\" style=\"display: none\"><span style=\"white-space:pre-line;\">Yes</span></td><td role=\"gridcell\" style=\"display: none\"><span style=\"white-space:pre-line;\"></span></td></tr><tr class=\"ui-widget-content ui-datatable-odd\" data-ri=\"71\" role=\"row\"><td role=\"gridcell\" style=\"width:50px\"><div aria-expanded=\"false\" aria-label=\"Toggle Row\" class=\"ui-row-toggler ui-icon ui-icon-circle-triangle-e\" role=\"button\" tabindex=\"0\"></div></td><td role=\"gridcell\"><span style=\"white-space:pre-line;\">Family of Woodstock</span></td><td role=\"gridcell\">NY</td><td role=\"gridcell\"><span style=\"white-space:pre-line;\">Healthcare Provider</span></td><td role=\"gridcell\">8214</td><td role=\"gridcell\">10/17/2021</td><td role=\"gridcell\"><span style=\"white-space:pre-line;\">Hacking/IT Incident</span></td><td role=\"gridcell\"><span style=\"white-space:pre-line;\">Network Server</span></td><td role=\"gridcell\" style=\"display: none\"><span style=\"white-space:pre-line;\">No</span></td><td role=\"gridcell\" style=\"display: none\"><span style=\"white-space:pre-line;\"></span></td></tr><tr class=\"ui-widget-content ui-datatable-even\" data-ri=\"72\" role=\"row\"><td role=\"gridcell\" style=\"width:50px\"><div aria-expanded=\"false\" aria-label=\"Toggle Row\" class=\"ui-row-toggler ui-icon ui-icon-circle-triangle-e\" role=\"button\" tabindex=\"0\"></div></td><td role=\"gridcell\"><span style=\"white-space:pre-line;\">Limeade, Inc.</span></td><td role=\"gridcell\">WA</td><td role=\"gridcell\"><span style=\"white-space:pre-line;\">Business Associate</span></td><td role=\"gridcell\">2287</td><td role=\"gridcell\">10/15/2021</td><td role=\"gridcell\"><span style=\"white-space:pre-line;\">Unauthorized Access/Disclosure</span></td><td role=\"gridcell\"><span style=\"white-space:pre-line;\">Desktop Computer, Other Portable Electronic Device</span></td><td role=\"gridcell\" style=\"display: none\"><span style=\"white-space:pre-line;\">Yes</span></td><td role=\"gridcell\" style=\"display: none\"><span style=\"white-space:pre-line;\"></span></td></tr><tr class=\"ui-widget-content ui-datatable-odd\" data-ri=\"73\" role=\"row\"><td role=\"gridcell\" style=\"width:50px\"><div aria-expanded=\"false\" aria-label=\"Toggle Row\" class=\"ui-row-toggler ui-icon ui-icon-circle-triangle-e\" role=\"button\" tabindex=\"0\"></div></td><td role=\"gridcell\"><span style=\"white-space:pre-line;\">UMass Memorial Health Care, Inc.</span></td><td role=\"gridcell\">MA</td><td role=\"gridcell\"><span style=\"white-space:pre-line;\">Business Associate</span></td><td role=\"gridcell\">209048</td><td role=\"gridcell\">10/15/2021</td><td role=\"gridcell\"><span style=\"white-space:pre-line;\">Hacking/IT Incident</span></td><td role=\"gridcell\"><span style=\"white-space:pre-line;\">Email</span></td><td role=\"gridcell\" style=\"display: none\"><span style=\"white-space:pre-line;\">Yes</span></td><td role=\"gridcell\" style=\"display: none\"><span style=\"white-space:pre-line;\"></span></td></tr><tr class=\"ui-widget-content ui-datatable-even\" data-ri=\"74\" role=\"row\"><td role=\"gridcell\" style=\"width:50px\"><div aria-expanded=\"false\" aria-label=\"Toggle Row\" class=\"ui-row-toggler ui-icon ui-icon-circle-triangle-e\" role=\"button\" tabindex=\"0\"></div></td><td role=\"gridcell\"><span style=\"white-space:pre-line;\">Anthem Inc.</span></td><td role=\"gridcell\">IN</td><td role=\"gridcell\"><span style=\"white-space:pre-line;\">Health Plan</span></td><td role=\"gridcell\">2023</td><td role=\"gridcell\">10/15/2021</td><td role=\"gridcell\"><span style=\"white-space:pre-line;\">Hacking/IT Incident</span></td><td role=\"gridcell\"><span style=\"white-space:pre-line;\">Network Server</span></td><td role=\"gridcell\" style=\"display: none\"><span style=\"white-space:pre-line;\">Yes</span></td><td role=\"gridcell\" style=\"display: none\"><span style=\"white-space:pre-line;\"></span></td></tr><tr class=\"ui-widget-content ui-datatable-odd\" data-ri=\"75\" role=\"row\"><td role=\"gridcell\" style=\"width:50px\"><div aria-expanded=\"false\" aria-label=\"Toggle Row\" class=\"ui-row-toggler ui-icon ui-icon-circle-triangle-e\" role=\"button\" tabindex=\"0\"></div></td><td role=\"gridcell\"><span style=\"white-space:pre-line;\">Syracuse ASC, LLC</span></td><td role=\"gridcell\">NY</td><td role=\"gridcell\"><span style=\"white-space:pre-line;\">Healthcare Provider</span></td><td role=\"gridcell\">24891</td><td role=\"gridcell\">10/14/2021</td><td role=\"gridcell\"><span style=\"white-space:pre-line;\">Hacking/IT Incident</span></td><td role=\"gridcell\"><span style=\"white-space:pre-line;\">Network Server</span></td><td role=\"gridcell\" style=\"display: none\"><span style=\"white-space:pre-line;\">No</span></td><td role=\"gridcell\" style=\"display: none\"><span style=\"white-space:pre-line;\"></span></td></tr><tr class=\"ui-widget-content ui-datatable-even\" data-ri=\"76\" role=\"row\"><td role=\"gridcell\" style=\"width:50px\"><div aria-expanded=\"false\" aria-label=\"Toggle Row\" class=\"ui-row-toggler ui-icon ui-icon-circle-triangle-e\" role=\"button\" tabindex=\"0\"></div></td><td role=\"gridcell\"><span style=\"white-space:pre-line;\">Clinical Pathology Diagnostics, LLC</span></td><td role=\"gridcell\">CT</td><td role=\"gridcell\"><span style=\"white-space:pre-line;\">Healthcare Provider</span></td><td role=\"gridcell\">2500</td><td role=\"gridcell\">10/12/2021</td><td role=\"gridcell\"><span style=\"white-space:pre-line;\">Hacking/IT Incident</span></td><td role=\"gridcell\"><span style=\"white-space:pre-line;\">Email</span></td><td role=\"gridcell\" style=\"display: none\"><span style=\"white-space:pre-line;\">Yes</span></td><td role=\"gridcell\" style=\"display: none\"><span style=\"white-space:pre-line;\"></span></td></tr><tr class=\"ui-widget-content ui-datatable-odd\" data-ri=\"77\" role=\"row\"><td role=\"gridcell\" style=\"width:50px\"><div aria-expanded=\"false\" aria-label=\"Toggle Row\" class=\"ui-row-toggler ui-icon ui-icon-circle-triangle-e\" role=\"button\" tabindex=\"0\"></div></td><td role=\"gridcell\"><span style=\"white-space:pre-line;\">Humana Inc</span></td><td role=\"gridcell\">KY</td><td role=\"gridcell\"><span style=\"white-space:pre-line;\">Health Plan</span></td><td role=\"gridcell\">4424</td><td role=\"gridcell\">10/12/2021</td><td role=\"gridcell\"><span style=\"white-space:pre-line;\">Hacking/IT Incident</span></td><td role=\"gridcell\"><span style=\"white-space:pre-line;\">Network Server</span></td><td role=\"gridcell\" style=\"display: none\"><span style=\"white-space:pre-line;\">Yes</span></td><td role=\"gridcell\" style=\"display: none\"><span style=\"white-space:pre-line;\"></span></td></tr><tr class=\"ui-widget-content ui-datatable-even\" data-ri=\"78\" role=\"row\"><td role=\"gridcell\" style=\"width:50px\"><div aria-expanded=\"false\" aria-label=\"Toggle Row\" class=\"ui-row-toggler ui-icon ui-icon-circle-triangle-e\" role=\"button\" tabindex=\"0\"></div></td><td role=\"gridcell\"><span style=\"white-space:pre-line;\">Orange County Health Authority</span></td><td role=\"gridcell\">CA</td><td role=\"gridcell\"><span style=\"white-space:pre-line;\">Health Plan</span></td><td role=\"gridcell\">4732</td><td role=\"gridcell\">10/12/2021</td><td role=\"gridcell\"><span style=\"white-space:pre-line;\">Unauthorized Access/Disclosure</span></td><td role=\"gridcell\"><span style=\"white-space:pre-line;\">Paper/Films</span></td><td role=\"gridcell\" style=\"display: none\"><span style=\"white-space:pre-line;\">No</span></td><td role=\"gridcell\" style=\"display: none\"><span style=\"white-space:pre-line;\"></span></td></tr><tr class=\"ui-widget-content ui-datatable-odd\" data-ri=\"79\" role=\"row\"><td role=\"gridcell\" style=\"width:50px\"><div aria-expanded=\"false\" aria-label=\"Toggle Row\" class=\"ui-row-toggler ui-icon ui-icon-circle-triangle-e\" role=\"button\" tabindex=\"0\"></div></td><td role=\"gridcell\"><span style=\"white-space:pre-line;\">North East Ohio Network</span></td><td role=\"gridcell\">OH</td><td role=\"gridcell\"><span style=\"white-space:pre-line;\">Healthcare Provider</span></td><td role=\"gridcell\">3555</td><td role=\"gridcell\">10/08/2021</td><td role=\"gridcell\"><span style=\"white-space:pre-line;\">Hacking/IT Incident</span></td><td role=\"gridcell\"><span style=\"white-space:pre-line;\">Email</span></td><td role=\"gridcell\" style=\"display: none\"><span style=\"white-space:pre-line;\">No</span></td><td role=\"gridcell\" style=\"display: none\"><span style=\"white-space:pre-line;\"></span></td></tr><tr class=\"ui-widget-content ui-datatable-even\" data-ri=\"80\" role=\"row\"><td role=\"gridcell\" style=\"width:50px\"><div aria-expanded=\"false\" aria-label=\"Toggle Row\" class=\"ui-row-toggler ui-icon ui-icon-circle-triangle-e\" role=\"button\" tabindex=\"0\"></div></td><td role=\"gridcell\"><span style=\"white-space:pre-line;\">ReproSource Fertility Diagnostics, Inc.</span></td><td role=\"gridcell\">MA</td><td role=\"gridcell\"><span style=\"white-space:pre-line;\">Healthcare Provider</span></td><td role=\"gridcell\">350000</td><td role=\"gridcell\">10/08/2021</td><td role=\"gridcell\"><span style=\"white-space:pre-line;\">Hacking/IT Incident</span></td><td role=\"gridcell\"><span style=\"white-space:pre-line;\">Network Server</span></td><td role=\"gridcell\" style=\"display: none\"><span style=\"white-space:pre-line;\">No</span></td><td role=\"gridcell\" style=\"display: none\"><span style=\"white-space:pre-line;\"></span></td></tr><tr class=\"ui-widget-content ui-datatable-odd\" data-ri=\"81\" role=\"row\"><td role=\"gridcell\" style=\"width:50px\"><div aria-expanded=\"false\" aria-label=\"Toggle Row\" class=\"ui-row-toggler ui-icon ui-icon-circle-triangle-e\" role=\"button\" tabindex=\"0\"></div></td><td role=\"gridcell\"><span style=\"white-space:pre-line;\">University Hospital</span></td><td role=\"gridcell\">NJ</td><td role=\"gridcell\"><span style=\"white-space:pre-line;\">Healthcare Provider</span></td><td role=\"gridcell\">9329</td><td role=\"gridcell\">10/08/2021</td><td role=\"gridcell\"><span style=\"white-space:pre-line;\">Unauthorized Access/Disclosure</span></td><td role=\"gridcell\"><span style=\"white-space:pre-line;\">Electronic Medical Record, Other</span></td><td role=\"gridcell\" style=\"display: none\"><span style=\"white-space:pre-line;\">No</span></td><td role=\"gridcell\" style=\"display: none\"><span style=\"white-space:pre-line;\"></span></td></tr><tr class=\"ui-widget-content ui-datatable-even\" data-ri=\"82\" role=\"row\"><td role=\"gridcell\" style=\"width:50px\"><div aria-expanded=\"false\" aria-label=\"Toggle Row\" class=\"ui-row-toggler ui-icon ui-icon-circle-triangle-e\" role=\"button\" tabindex=\"0\"></div></td><td role=\"gridcell\"><span style=\"white-space:pre-line;\">Independent Health Corporation</span></td><td role=\"gridcell\">NY</td><td role=\"gridcell\"><span style=\"white-space:pre-line;\">Business Associate</span></td><td role=\"gridcell\">541</td><td role=\"gridcell\">10/08/2021</td><td role=\"gridcell\"><span style=\"white-space:pre-line;\">Unauthorized Access/Disclosure</span></td><td role=\"gridcell\"><span style=\"white-space:pre-line;\">Email</span></td><td role=\"gridcell\" style=\"display: none\"><span style=\"white-space:pre-line;\">Yes</span></td><td role=\"gridcell\" style=\"display: none\"><span style=\"white-space:pre-line;\"></span></td></tr><tr class=\"ui-widget-content ui-datatable-odd\" data-ri=\"83\" role=\"row\"><td role=\"gridcell\" style=\"width:50px\"><div aria-expanded=\"false\" aria-label=\"Toggle Row\" class=\"ui-row-toggler ui-icon ui-icon-circle-triangle-e\" role=\"button\" tabindex=\"0\"></div></td><td role=\"gridcell\"><span style=\"white-space:pre-line;\">Senior Living, LLC and Pilgrim River, LLC </span></td><td role=\"gridcell\">NJ</td><td role=\"gridcell\"><span style=\"white-space:pre-line;\">Healthcare Provider</span></td><td role=\"gridcell\">3952</td><td role=\"gridcell\">10/07/2021</td><td role=\"gridcell\"><span style=\"white-space:pre-line;\">Hacking/IT Incident</span></td><td role=\"gridcell\"><span style=\"white-space:pre-line;\">Network Server</span></td><td role=\"gridcell\" style=\"display: none\"><span style=\"white-space:pre-line;\">No</span></td><td role=\"gridcell\" style=\"display: none\"><span style=\"white-space:pre-line;\"></span></td></tr><tr class=\"ui-widget-content ui-datatable-even\" data-ri=\"84\" role=\"row\"><td role=\"gridcell\" style=\"width:50px\"><div aria-expanded=\"false\" aria-label=\"Toggle Row\" class=\"ui-row-toggler ui-icon ui-icon-circle-triangle-e\" role=\"button\" tabindex=\"0\"></div></td><td role=\"gridcell\"><span style=\"white-space:pre-line;\">JDC Healthcare Management LLC</span></td><td role=\"gridcell\">TX</td><td role=\"gridcell\"><span style=\"white-space:pre-line;\">Healthcare Provider</span></td><td role=\"gridcell\">501</td><td role=\"gridcell\">10/07/2021</td><td role=\"gridcell\"><span style=\"white-space:pre-line;\">Hacking/IT Incident</span></td><td role=\"gridcell\"><span style=\"white-space:pre-line;\">Network Server</span></td><td role=\"gridcell\" style=\"display: none\"><span style=\"white-space:pre-line;\">No</span></td><td role=\"gridcell\" style=\"display: none\"><span style=\"white-space:pre-line;\"></span></td></tr><tr class=\"ui-widget-content ui-datatable-odd\" data-ri=\"85\" role=\"row\"><td role=\"gridcell\" style=\"width:50px\"><div aria-expanded=\"false\" aria-label=\"Toggle Row\" class=\"ui-row-toggler ui-icon ui-icon-circle-triangle-e\" role=\"button\" tabindex=\"0\"></div></td><td role=\"gridcell\"><span style=\"white-space:pre-line;\">Carteret Health Care</span></td><td role=\"gridcell\">NC</td><td role=\"gridcell\"><span style=\"white-space:pre-line;\">Healthcare Provider</span></td><td role=\"gridcell\">1235</td><td role=\"gridcell\">10/06/2021</td><td role=\"gridcell\"><span style=\"white-space:pre-line;\">Theft</span></td><td role=\"gridcell\"><span style=\"white-space:pre-line;\">Paper/Films</span></td><td role=\"gridcell\" style=\"display: none\"><span style=\"white-space:pre-line;\">No</span></td><td role=\"gridcell\" style=\"display: none\"><span style=\"white-space:pre-line;\"></span></td></tr><tr class=\"ui-widget-content ui-datatable-even\" data-ri=\"86\" role=\"row\"><td role=\"gridcell\" style=\"width:50px\"><div aria-expanded=\"false\" aria-label=\"Toggle Row\" class=\"ui-row-toggler ui-icon ui-icon-circle-triangle-e\" role=\"button\" tabindex=\"0\"></div></td><td role=\"gridcell\"><span style=\"white-space:pre-line;\">Drs. Kelley &amp; McDowell PA</span></td><td role=\"gridcell\">SC</td><td role=\"gridcell\"><span style=\"white-space:pre-line;\">Healthcare Provider</span></td><td role=\"gridcell\">6170</td><td role=\"gridcell\">10/06/2021</td><td role=\"gridcell\"><span style=\"white-space:pre-line;\">Hacking/IT Incident</span></td><td role=\"gridcell\"><span style=\"white-space:pre-line;\">Network Server</span></td><td role=\"gridcell\" style=\"display: none\"><span style=\"white-space:pre-line;\">Yes</span></td><td role=\"gridcell\" style=\"display: none\"><span style=\"white-space:pre-line;\"></span></td></tr><tr class=\"ui-widget-content ui-datatable-odd\" data-ri=\"87\" role=\"row\"><td role=\"gridcell\" style=\"width:50px\"><div aria-expanded=\"false\" aria-label=\"Toggle Row\" class=\"ui-row-toggler ui-icon ui-icon-circle-triangle-e\" role=\"button\" tabindex=\"0\"></div></td><td role=\"gridcell\"><span style=\"white-space:pre-line;\">Wirt County Health Services Association d/b/a Coplin Health Systems</span></td><td role=\"gridcell\">WV</td><td role=\"gridcell\"><span style=\"white-space:pre-line;\">Healthcare Provider</span></td><td role=\"gridcell\">2643</td><td role=\"gridcell\">10/05/2021</td><td role=\"gridcell\"><span style=\"white-space:pre-line;\">Unauthorized Access/Disclosure</span></td><td role=\"gridcell\"><span style=\"white-space:pre-line;\">Paper/Films</span></td><td role=\"gridcell\" style=\"display: none\"><span style=\"white-space:pre-line;\">No</span></td><td role=\"gridcell\" style=\"display: none\"><span style=\"white-space:pre-line;\"></span></td></tr><tr class=\"ui-widget-content ui-datatable-even\" data-ri=\"88\" role=\"row\"><td role=\"gridcell\" style=\"width:50px\"><div aria-expanded=\"false\" aria-label=\"Toggle Row\" class=\"ui-row-toggler ui-icon ui-icon-circle-triangle-e\" role=\"button\" tabindex=\"0\"></div></td><td role=\"gridcell\"><span style=\"white-space:pre-line;\">Rockbridge Area Community Services Board</span></td><td role=\"gridcell\">VA</td><td role=\"gridcell\"><span style=\"white-space:pre-line;\">Healthcare Provider</span></td><td role=\"gridcell\">2000</td><td role=\"gridcell\">10/04/2021</td><td role=\"gridcell\"><span style=\"white-space:pre-line;\">Hacking/IT Incident</span></td><td role=\"gridcell\"><span style=\"white-space:pre-line;\">Network Server</span></td><td role=\"gridcell\" style=\"display: none\"><span style=\"white-space:pre-line;\">No</span></td><td role=\"gridcell\" style=\"display: none\"><span style=\"white-space:pre-line;\"></span></td></tr><tr class=\"ui-widget-content ui-datatable-odd\" data-ri=\"89\" role=\"row\"><td role=\"gridcell\" style=\"width:50px\"><div aria-expanded=\"false\" aria-label=\"Toggle Row\" class=\"ui-row-toggler ui-icon ui-icon-circle-triangle-e\" role=\"button\" tabindex=\"0\"></div></td><td role=\"gridcell\"><span style=\"white-space:pre-line;\">Professional Dental Alliance of Florida, LLC</span></td><td role=\"gridcell\">PA</td><td role=\"gridcell\"><span style=\"white-space:pre-line;\">Healthcare Provider</span></td><td role=\"gridcell\">18626</td><td role=\"gridcell\">10/01/2021</td><td role=\"gridcell\"><span style=\"white-space:pre-line;\">Unauthorized Access/Disclosure</span></td><td role=\"gridcell\"><span style=\"white-space:pre-line;\">Email</span></td><td role=\"gridcell\" style=\"display: none\"><span style=\"white-space:pre-line;\">No</span></td><td role=\"gridcell\" style=\"display: none\"><span style=\"white-space:pre-line;\"></span></td></tr><tr class=\"ui-widget-content ui-datatable-even\" data-ri=\"90\" role=\"row\"><td role=\"gridcell\" style=\"width:50px\"><div aria-expanded=\"false\" aria-label=\"Toggle Row\" class=\"ui-row-toggler ui-icon ui-icon-circle-triangle-e\" role=\"button\" tabindex=\"0\"></div></td><td role=\"gridcell\"><span style=\"white-space:pre-line;\">Professional Dental Alliance of Georgia, PLLC</span></td><td role=\"gridcell\">PA</td><td role=\"gridcell\"><span style=\"white-space:pre-line;\">Healthcare Provider</span></td><td role=\"gridcell\">23974</td><td role=\"gridcell\">10/01/2021</td><td role=\"gridcell\"><span style=\"white-space:pre-line;\">Unauthorized Access/Disclosure</span></td><td role=\"gridcell\"><span style=\"white-space:pre-line;\">Email</span></td><td role=\"gridcell\" style=\"display: none\"><span style=\"white-space:pre-line;\">No</span></td><td role=\"gridcell\" style=\"display: none\"><span style=\"white-space:pre-line;\"></span></td></tr><tr class=\"ui-widget-content ui-datatable-odd\" data-ri=\"91\" role=\"row\"><td role=\"gridcell\" style=\"width:50px\"><div aria-expanded=\"false\" aria-label=\"Toggle Row\" class=\"ui-row-toggler ui-icon ui-icon-circle-triangle-e\" role=\"button\" tabindex=\"0\"></div></td><td role=\"gridcell\"><span style=\"white-space:pre-line;\">Professional Dental Alliance of Illinois, PLLC</span></td><td role=\"gridcell\">PA</td><td role=\"gridcell\"><span style=\"white-space:pre-line;\">Healthcare Provider</span></td><td role=\"gridcell\">16673</td><td role=\"gridcell\">10/01/2021</td><td role=\"gridcell\"><span style=\"white-space:pre-line;\">Unauthorized Access/Disclosure</span></td><td role=\"gridcell\"><span style=\"white-space:pre-line;\">Email</span></td><td role=\"gridcell\" style=\"display: none\"><span style=\"white-space:pre-line;\">No</span></td><td role=\"gridcell\" style=\"display: none\"><span style=\"white-space:pre-line;\"></span></td></tr><tr class=\"ui-widget-content ui-datatable-even\" data-ri=\"92\" role=\"row\"><td role=\"gridcell\" style=\"width:50px\"><div aria-expanded=\"false\" aria-label=\"Toggle Row\" class=\"ui-row-toggler ui-icon ui-icon-circle-triangle-e\" role=\"button\" tabindex=\"0\"></div></td><td role=\"gridcell\"><span style=\"white-space:pre-line;\">Professional Dental Alliance of Massachusetts</span></td><td role=\"gridcell\">PA</td><td role=\"gridcell\"><span style=\"white-space:pre-line;\">Healthcare Provider</span></td><td role=\"gridcell\">607</td><td role=\"gridcell\">10/01/2021</td><td role=\"gridcell\"><span style=\"white-space:pre-line;\">Unauthorized Access/Disclosure</span></td><td role=\"gridcell\"><span style=\"white-space:pre-line;\">Email</span></td><td role=\"gridcell\" style=\"display: none\"><span style=\"white-space:pre-line;\">No</span></td><td role=\"gridcell\" style=\"display: none\"><span style=\"white-space:pre-line;\"></span></td></tr><tr class=\"ui-widget-content ui-datatable-odd\" data-ri=\"93\" role=\"row\"><td role=\"gridcell\" style=\"width:50px\"><div aria-expanded=\"false\" aria-label=\"Toggle Row\" class=\"ui-row-toggler ui-icon ui-icon-circle-triangle-e\" role=\"button\" tabindex=\"0\"></div></td><td role=\"gridcell\"><span style=\"white-space:pre-line;\">Professional Dental Alliance of Michigan, PLLC</span></td><td role=\"gridcell\">PA</td><td role=\"gridcell\"><span style=\"white-space:pre-line;\">Healthcare Provider</span></td><td role=\"gridcell\">26054</td><td role=\"gridcell\">10/01/2021</td><td role=\"gridcell\"><span style=\"white-space:pre-line;\">Unauthorized Access/Disclosure</span></td><td role=\"gridcell\"><span style=\"white-space:pre-line;\">Email</span></td><td role=\"gridcell\" style=\"display: none\"><span style=\"white-space:pre-line;\">No</span></td><td role=\"gridcell\" style=\"display: none\"><span style=\"white-space:pre-line;\"></span></td></tr><tr class=\"ui-widget-content ui-datatable-even\" data-ri=\"94\" role=\"row\"><td role=\"gridcell\" style=\"width:50px\"><div aria-expanded=\"false\" aria-label=\"Toggle Row\" class=\"ui-row-toggler ui-icon ui-icon-circle-triangle-e\" role=\"button\" tabindex=\"0\"></div></td><td role=\"gridcell\"><span style=\"white-space:pre-line;\">Professional Dental Alliance, LLC</span></td><td role=\"gridcell\">PA</td><td role=\"gridcell\"><span style=\"white-space:pre-line;\">Healthcare Provider</span></td><td role=\"gridcell\">47173</td><td role=\"gridcell\">10/01/2021</td><td role=\"gridcell\"><span style=\"white-space:pre-line;\">Unauthorized Access/Disclosure</span></td><td role=\"gridcell\"><span style=\"white-space:pre-line;\">Email</span></td><td role=\"gridcell\" style=\"display: none\"><span style=\"white-space:pre-line;\">No</span></td><td role=\"gridcell\" style=\"display: none\"><span style=\"white-space:pre-line;\"></span></td></tr><tr class=\"ui-widget-content ui-datatable-odd\" data-ri=\"95\" role=\"row\"><td role=\"gridcell\" style=\"width:50px\"><div aria-expanded=\"false\" aria-label=\"Toggle Row\" class=\"ui-row-toggler ui-icon ui-icon-circle-triangle-e\" role=\"button\" tabindex=\"0\"></div></td><td role=\"gridcell\"><span style=\"white-space:pre-line;\">NADG Hopewell, Inc.</span></td><td role=\"gridcell\">PA</td><td role=\"gridcell\"><span style=\"white-space:pre-line;\">Healthcare Provider</span></td><td role=\"gridcell\">1143</td><td role=\"gridcell\">10/01/2021</td><td role=\"gridcell\"><span style=\"white-space:pre-line;\">Unauthorized Access/Disclosure</span></td><td role=\"gridcell\"><span style=\"white-space:pre-line;\">Email</span></td><td role=\"gridcell\" style=\"display: none\"><span style=\"white-space:pre-line;\">No</span></td><td role=\"gridcell\" style=\"display: none\"><span style=\"white-space:pre-line;\"></span></td></tr><tr class=\"ui-widget-content ui-datatable-even\" data-ri=\"96\" role=\"row\"><td role=\"gridcell\" style=\"width:50px\"><div aria-expanded=\"false\" aria-label=\"Toggle Row\" class=\"ui-row-toggler ui-icon ui-icon-circle-triangle-e\" role=\"button\" tabindex=\"0\"></div></td><td role=\"gridcell\"><span style=\"white-space:pre-line;\">Professional Dental Alliance of Indiana, PLLC</span></td><td role=\"gridcell\">PA</td><td role=\"gridcell\"><span style=\"white-space:pre-line;\">Healthcare Provider</span></td><td role=\"gridcell\">7359</td><td role=\"gridcell\">10/01/2021</td><td role=\"gridcell\"><span style=\"white-space:pre-line;\">Unauthorized Access/Disclosure</span></td><td role=\"gridcell\"><span style=\"white-space:pre-line;\">Email</span></td><td role=\"gridcell\" style=\"display: none\"><span style=\"white-space:pre-line;\">No</span></td><td role=\"gridcell\" style=\"display: none\"><span style=\"white-space:pre-line;\"></span></td></tr><tr class=\"ui-widget-content ui-datatable-odd\" data-ri=\"97\" role=\"row\"><td role=\"gridcell\" style=\"width:50px\"><div aria-expanded=\"false\" aria-label=\"Toggle Row\" class=\"ui-row-toggler ui-icon ui-icon-circle-triangle-e\" role=\"button\" tabindex=\"0\"></div></td><td role=\"gridcell\"><span style=\"white-space:pre-line;\">Professional Dental Alliance of Connecticut, PLLC</span></td><td role=\"gridcell\">PA</td><td role=\"gridcell\"><span style=\"white-space:pre-line;\">Healthcare Provider</span></td><td role=\"gridcell\">6237</td><td role=\"gridcell\">10/01/2021</td><td role=\"gridcell\"><span style=\"white-space:pre-line;\">Unauthorized Access/Disclosure</span></td><td role=\"gridcell\"><span style=\"white-space:pre-line;\">Email</span></td><td role=\"gridcell\" style=\"display: none\"><span style=\"white-space:pre-line;\">No</span></td><td role=\"gridcell\" style=\"display: none\"><span style=\"white-space:pre-line;\"></span></td></tr><tr class=\"ui-widget-content ui-datatable-even\" data-ri=\"98\" role=\"row\"><td role=\"gridcell\" style=\"width:50px\"><div aria-expanded=\"false\" aria-label=\"Toggle Row\" class=\"ui-row-toggler ui-icon ui-icon-circle-triangle-e\" role=\"button\" tabindex=\"0\"></div></td><td role=\"gridcell\"><span style=\"white-space:pre-line;\">Professional Dental Alliance of Tennessee, LLC</span></td><td role=\"gridcell\">PA</td><td role=\"gridcell\"><span style=\"white-space:pre-line;\">Healthcare Provider</span></td><td role=\"gridcell\">11217</td><td role=\"gridcell\">10/01/2021</td><td role=\"gridcell\"><span style=\"white-space:pre-line;\">Unauthorized Access/Disclosure</span></td><td role=\"gridcell\"><span style=\"white-space:pre-line;\">Email</span></td><td role=\"gridcell\" style=\"display: none\"><span style=\"white-space:pre-line;\">No</span></td><td role=\"gridcell\" style=\"display: none\"><span style=\"white-space:pre-line;\"></span></td></tr><tr class=\"ui-widget-content ui-datatable-odd\" data-ri=\"99\" role=\"row\"><td role=\"gridcell\" style=\"width:50px\"><div aria-expanded=\"false\" aria-label=\"Toggle Row\" class=\"ui-row-toggler ui-icon ui-icon-circle-triangle-e\" role=\"button\" tabindex=\"0\"></div></td><td role=\"gridcell\"><span style=\"white-space:pre-line;\">OSF HealthCare System</span></td><td role=\"gridcell\">IL</td><td role=\"gridcell\"><span style=\"white-space:pre-line;\">Healthcare Provider</span></td><td role=\"gridcell\">53907</td><td role=\"gridcell\">10/01/2021</td><td role=\"gridcell\"><span style=\"white-space:pre-line;\">Hacking/IT Incident</span></td><td role=\"gridcell\"><span style=\"white-space:pre-line;\">Network Server</span></td><td role=\"gridcell\" style=\"display: none\"><span style=\"white-space:pre-line;\">No</span></td><td role=\"gridcell\" style=\"display: none\"><span style=\"white-space:pre-line;\"></span></td></tr></tbody></table></div><div aria-label=\"Pagination\" class=\"ui-paginator ui-paginator-bottom ui-widget-header ui-corner-bottom\" id=\"ocrForm:reportResultTable_paginator_bottom\" role=\"navigation\"><span class=\"ui-paginator-current\">(Displaying 1 - 100 of 847)</span> <a aria-label=\"First Page\" class=\"ui-paginator-first ui-state-default ui-corner-all ui-state-disabled\" href=\"#\" tabindex=\"-1\"><span class=\"ui-icon ui-icon-seek-first\">F</span></a><a aria-label=\"Previous Page\" class=\"ui-paginator-prev ui-state-default ui-corner-all ui-state-disabled\" href=\"#\" tabindex=\"-1\"><span class=\"ui-icon ui-icon-seek-prev\">P</span></a><span class=\"ui-paginator-pages\"><a class=\"ui-paginator-page ui-state-default ui-state-active ui-corner-all\" href=\"#\" tabindex=\"0\">1</a><a class=\"ui-paginator-page ui-state-default ui-corner-all\" href=\"#\" tabindex=\"0\">2</a><a class=\"ui-paginator-page ui-state-default ui-corner-all\" href=\"#\" tabindex=\"0\">3</a><a class=\"ui-paginator-page ui-state-default ui-corner-all\" href=\"#\" tabindex=\"0\">4</a><a class=\"ui-paginator-page ui-state-default ui-corner-all\" href=\"#\" tabindex=\"0\">5</a><a class=\"ui-paginator-page ui-state-default ui-corner-all\" href=\"#\" tabindex=\"0\">6</a><a class=\"ui-paginator-page ui-state-default ui-corner-all\" href=\"#\" tabindex=\"0\">7</a><a class=\"ui-paginator-page ui-state-default ui-corner-all\" href=\"#\" tabindex=\"0\">8</a><a class=\"ui-paginator-page ui-state-default ui-corner-all\" href=\"#\" tabindex=\"0\">9</a></span><a aria-label=\"Next Page\" class=\"ui-paginator-next ui-state-default ui-corner-all\" href=\"#\" tabindex=\"0\"><span class=\"ui-icon ui-icon-seek-next\">N</span></a><a aria-label=\"Last Page\" class=\"ui-paginator-last ui-state-default ui-corner-all\" href=\"#\" tabindex=\"0\"><span class=\"ui-icon ui-icon-seek-end\">E</span></a><label class=\"ui-paginator-rpp-label ui-helper-hidden\" for=\"ocrForm:reportResultTable:j_id2\" id=\"ocrForm:reportResultTable_rppLabel\">Rows Per Page</label><select aria-labelledby=\"ocrForm:reportResultTable_rppLabel\" autocomplete=\"off\" class=\"ui-paginator-rpp-options ui-widget ui-state-default ui-corner-left\" id=\"ocrForm:reportResultTable:j_id2\" name=\"ocrForm:reportResultTable_rppDD\" value=\"100\"><option value=\"10\">10</option><option value=\"20\">20</option><option value=\"50\">50</option><option selected=\"selected\" value=\"100\">100</option></select></div></div><script id=\"ocrForm:reportResultTable_s\" type=\"text/javascript\">$(function(){PrimeFaces.cw(\"DataTable\",\"widget_ocrForm_reportResultTable\",{id:\"ocrForm:reportResultTable\",paginator:{id:['ocrForm:reportResultTable_paginator_bottom'],rows:100,rowCount:847,page:0,currentPageTemplate:'(Displaying {startRecord} - {endRecord} of {totalRecords})'},expansion:true,rowExpandMode:\"multiple\",groupColumnIndexes:[],behaviors:{page:function(ext,event) {PrimeFaces.ab({s:\"ocrForm:reportResultTable\",e:\"page\",p:\"ocrForm:reportResultTable\"},ext);}}});});</script></span></span><div class=\"ui-dialog ui-widget ui-widget-content ui-corner-all ui-shadow ui-hidden-container\" id=\"ocrForm:waitDlg\"><div class=\"ui-dialog-content ui-widget-content\"><span id=\"ocrForm:waitDlg_title\"></span>We are generating the report for you. Please wait......</div></div><script id=\"ocrForm:waitDlg_s\" type=\"text/javascript\">$(function(){PrimeFaces.cw(\"Dialog\",\"waitDlgVar\",{id:\"ocrForm:waitDlg\",resizable:false,modal:true});});</script><input autocomplete=\"off\" id=\"j_id1:javax.faces.ViewState:1\" name=\"javax.faces.ViewState\" type=\"hidden\" value=\"6192807208299320650:-8086792994311128238\"/>\n",
      "</form>\n",
      "</div>\n",
      "</div>\n",
      "</div>\n",
      "<div>  </div>\n",
      "<div id=\"footerNew\">\n",
      "<div id=\"footerContent\">\n",
      "            U.S. Department of Health &amp; Human Services - 200 Independence Avenue, S.W. - Washington, D.C. 20201\n",
      "            <br/><span style=\"color : #4d4947\">OCR Portal CS16 Production Server (Port1). Build Date: 11/18/2021 16:34</span>\n",
      "</div>\n",
      "<div id=\"footerPadding\"></div>\n",
      "</div>\n",
      "</div></body>\n",
      "</html>\n"
     ]
    }
   ],
   "source": [
    "print(type(soup), '\\n', soup)"
   ]
  },
  {
   "cell_type": "markdown",
   "metadata": {},
   "source": [
    "# Step 4 - Parse the Breach data\n",
    "\n",
    "After inspecting the page we found that ```<td role=\"gridcell\">``` usually precedes the breach records.\n",
    "\n",
    "### 4.a find the gridcells and store in a variable named \n",
    "\n",
    "```gridCell```"
   ]
  },
  {
   "cell_type": "code",
   "execution_count": 7,
   "metadata": {},
   "outputs": [],
   "source": [
    "gridCells = soup.find_all(role=\"gridcell\")"
   ]
  },
  {
   "cell_type": "code",
   "execution_count": 8,
   "metadata": {},
   "outputs": [
    {
     "name": "stdout",
     "output_type": "stream",
     "text": [
      "[<td class=\"ui-panelgrid-cell\" colspan=\"4\" role=\"gridcell\">As required by section 13402(e)(4) of the HITECH Act, the Secretary must post a list of breaches of unsecured protected health information affecting 500 or more individuals. The following breaches have been reported to the Secretary:\n",
      "\t\t\t\t<br/><br/><span style=\"font-size: 1.5em; font-weight: bold\">Cases Currently Under Investigation</span></td>, <td class=\"ui-panelgrid-cell\" colspan=\"4\" role=\"gridcell\">This page lists all breaches reported within the last 24 months that are currently under investigation by the Office for Civil Rights.</td>]\n"
     ]
    }
   ],
   "source": [
    "print(gridCells[:2])"
   ]
  },
  {
   "cell_type": "code",
   "execution_count": 9,
   "metadata": {},
   "outputs": [],
   "source": [
    "tr = soup.find_all('tr')"
   ]
  },
  {
   "cell_type": "code",
   "execution_count": 10,
   "metadata": {},
   "outputs": [
    {
     "data": {
      "text/plain": [
       "104"
      ]
     },
     "execution_count": 10,
     "metadata": {},
     "output_type": "execute_result"
    }
   ],
   "source": [
    "len(tr)"
   ]
  },
  {
   "cell_type": "markdown",
   "metadata": {},
   "source": [
    "### 4.b display the gridCells to inspect"
   ]
  },
  {
   "cell_type": "code",
   "execution_count": 11,
   "metadata": {},
   "outputs": [
    {
     "data": {
      "text/plain": [
       "<td class=\"ui-panelgrid-cell\" colspan=\"4\" role=\"gridcell\">As required by section 13402(e)(4) of the HITECH Act, the Secretary must post a list of breaches of unsecured protected health information affecting 500 or more individuals. The following breaches have been reported to the Secretary:\n",
       "\t\t\t\t<br/><br/><span style=\"font-size: 1.5em; font-weight: bold\">Cases Currently Under Investigation</span></td>"
      ]
     },
     "execution_count": 11,
     "metadata": {},
     "output_type": "execute_result"
    }
   ],
   "source": [
    "gridCells[0]"
   ]
  },
  {
   "cell_type": "code",
   "execution_count": 12,
   "metadata": {},
   "outputs": [
    {
     "data": {
      "text/plain": [
       "<td role=\"gridcell\" style=\"display: none\"><span style=\"white-space:pre-line;\"></span></td>"
      ]
     },
     "execution_count": 12,
     "metadata": {},
     "output_type": "execute_result"
    }
   ],
   "source": [
    "gridCells[-1]"
   ]
  },
  {
   "cell_type": "markdown",
   "metadata": {},
   "source": [
    "We've decided that we want to store the contents of the breach data into lists named:\n",
    "\n",
    "```\n",
    "singleBreachList - contains the tokenized breach data from the web page\n",
    "```\n",
    "\n",
    "We'll use singleBreachList to construct the following lists\n",
    "\n",
    "```\n",
    "nameCoveredEntityList             - singleBreachList item 0\n",
    "stateList                         - singleBreachList item 1\n",
    "coveredEntityTypeList             - singleBreachList item 2\n",
    "affectIndividualsList             - singleBreachList item 3\n",
    "breachSubmittedDateList           - singleBreachList item 4\n",
    "typeOfBreachList                  - singleBreachList item 5\n",
    "locationOfBreachedInformationList - singleBreachList item 6\n",
    "\n",
    "```\n",
    "\n",
    "Also notice that not all of \"gridcell\" was breach data, we need to skip a couple lines to get to the good stuff. Use a counter to do this, specifically \n",
    "\n",
    "```\n",
    "skipTheBoringStuffCounter\n",
    "```\n",
    "\n",
    "There also appears to be a pattern in how the gridcell data is organized, there is a new event every 8 lines. Use a counter for that as well, specifically \n",
    "\n",
    "```\n",
    "theGoodStuffCounter\n",
    "```\n",
    "\n",
    "### 4.c Initialize all of the lists to empty lists and the counters to zero."
   ]
  },
  {
   "cell_type": "code",
   "execution_count": 13,
   "metadata": {},
   "outputs": [],
   "source": [
    "nameCoveredEntityList = []\n",
    "stateList = []\n",
    "coveredEntityTypeList = []\n",
    "affectIndividualsList = []\n",
    "breachSubmittedDateList = []\n",
    "typeOfBreachList = []\n",
    "locationOfBreachedInformationList = []\n",
    "singleBreachList = []\n",
    "skipTheBoringStuffCounter = 0\n",
    "theGoodStuffCounter = 0"
   ]
  },
  {
   "cell_type": "markdown",
   "metadata": {},
   "source": [
    "### 4.d Parse the Data"
   ]
  },
  {
   "cell_type": "code",
   "execution_count": 14,
   "metadata": {},
   "outputs": [],
   "source": [
    "for c in gridCells:\n",
    "    if skipTheBoringStuffCounter <= 4:\n",
    "        skipTheBoringStuffCounter = skipTheBoringStuffCounter + 1\n",
    "\n",
    "    if skipTheBoringStuffCounter > 4:\n",
    "        c = c.get_text().strip()\n",
    "        \n",
    "        if c != '':\n",
    "            singleBreachList.append(c)\n",
    "            theGoodStuffCounter = theGoodStuffCounter + 1\n",
    "\n",
    "            if theGoodStuffCounter == 8:\n",
    "                nameCoveredEntityList.append(singleBreachList[0])\n",
    "                stateList.append(singleBreachList[1])\n",
    "                coveredEntityTypeList.append(singleBreachList[2])\n",
    "                affectIndividualsList.append(singleBreachList[3])\n",
    "                breachSubmittedDateList.append(singleBreachList[4])\n",
    "                typeOfBreachList.append(singleBreachList[5])\n",
    "                locationOfBreachedInformationList.append(singleBreachList[6])\n",
    "                \n",
    "                theGoodStuffCounter = 0\n",
    "                singleBreachList = []"
   ]
  },
  {
   "cell_type": "code",
   "execution_count": 15,
   "metadata": {},
   "outputs": [
    {
     "data": {
      "text/plain": [
       "['Boulder Neurosurgical and Spine Associates',\n",
       " 'Medsurant Holdings, LLC',\n",
       " \"Minnesota Women's Care, P.A.\"]"
      ]
     },
     "execution_count": 15,
     "metadata": {},
     "output_type": "execute_result"
    }
   ],
   "source": [
    "nameCoveredEntityList[0:3]"
   ]
  },
  {
   "cell_type": "markdown",
   "metadata": {},
   "source": [
    "# Step 5 - Create a Dataframe and Visualize the Data"
   ]
  },
  {
   "cell_type": "code",
   "execution_count": 16,
   "metadata": {},
   "outputs": [],
   "source": [
    "# create a dataframe using the newly scraped data\n",
    "breachDF = pandas.DataFrame({\n",
    "\"Company Name\":nameCoveredEntityList,\n",
    "\"State\":stateList,\n",
    "\"Company Type\":coveredEntityTypeList,\n",
    "\"Affected Individuals\":affectIndividualsList,\n",
    "\"Breach Date\":breachSubmittedDateList,\n",
    "\"Breach Type\":typeOfBreachList,\n",
    "\"Data location\":locationOfBreachedInformationList\n",
    "})"
   ]
  },
  {
   "cell_type": "code",
   "execution_count": 17,
   "metadata": {},
   "outputs": [
    {
     "data": {
      "text/html": [
       "<div>\n",
       "<style scoped>\n",
       "    .dataframe tbody tr th:only-of-type {\n",
       "        vertical-align: middle;\n",
       "    }\n",
       "\n",
       "    .dataframe tbody tr th {\n",
       "        vertical-align: top;\n",
       "    }\n",
       "\n",
       "    .dataframe thead th {\n",
       "        text-align: right;\n",
       "    }\n",
       "</style>\n",
       "<table border=\"1\" class=\"dataframe\">\n",
       "  <thead>\n",
       "    <tr style=\"text-align: right;\">\n",
       "      <th></th>\n",
       "      <th>Company Name</th>\n",
       "      <th>State</th>\n",
       "      <th>Company Type</th>\n",
       "      <th>Affected Individuals</th>\n",
       "      <th>Breach Date</th>\n",
       "      <th>Breach Type</th>\n",
       "      <th>Data location</th>\n",
       "    </tr>\n",
       "  </thead>\n",
       "  <tbody>\n",
       "    <tr>\n",
       "      <th>0</th>\n",
       "      <td>Boulder Neurosurgical and Spine Associates</td>\n",
       "      <td>CO</td>\n",
       "      <td>Healthcare Provider</td>\n",
       "      <td>21450</td>\n",
       "      <td>11/29/2021</td>\n",
       "      <td>Hacking/IT Incident</td>\n",
       "      <td>Email</td>\n",
       "    </tr>\n",
       "    <tr>\n",
       "      <th>1</th>\n",
       "      <td>Medsurant Holdings, LLC</td>\n",
       "      <td>PA</td>\n",
       "      <td>Healthcare Provider</td>\n",
       "      <td>45000</td>\n",
       "      <td>11/29/2021</td>\n",
       "      <td>Hacking/IT Incident</td>\n",
       "      <td>Network Server</td>\n",
       "    </tr>\n",
       "    <tr>\n",
       "      <th>2</th>\n",
       "      <td>Minnesota Women's Care, P.A.</td>\n",
       "      <td>MN</td>\n",
       "      <td>Healthcare Provider</td>\n",
       "      <td>1900</td>\n",
       "      <td>11/24/2021</td>\n",
       "      <td>Unauthorized Access/Disclosure</td>\n",
       "      <td>Paper/Films</td>\n",
       "    </tr>\n",
       "    <tr>\n",
       "      <th>3</th>\n",
       "      <td>Quantum Imaging and Therapeutics Associates, Inc.</td>\n",
       "      <td>PA</td>\n",
       "      <td>Healthcare Provider</td>\n",
       "      <td>500</td>\n",
       "      <td>11/24/2021</td>\n",
       "      <td>Hacking/IT Incident</td>\n",
       "      <td>Network Server</td>\n",
       "    </tr>\n",
       "    <tr>\n",
       "      <th>4</th>\n",
       "      <td>Boston Medical Center</td>\n",
       "      <td>MA</td>\n",
       "      <td>Healthcare Provider</td>\n",
       "      <td>723</td>\n",
       "      <td>11/24/2021</td>\n",
       "      <td>Unauthorized Access/Disclosure</td>\n",
       "      <td>Email</td>\n",
       "    </tr>\n",
       "  </tbody>\n",
       "</table>\n",
       "</div>"
      ],
      "text/plain": [
       "                                        Company Name State  \\\n",
       "0         Boulder Neurosurgical and Spine Associates    CO   \n",
       "1                            Medsurant Holdings, LLC    PA   \n",
       "2                       Minnesota Women's Care, P.A.    MN   \n",
       "3  Quantum Imaging and Therapeutics Associates, Inc.    PA   \n",
       "4                              Boston Medical Center    MA   \n",
       "\n",
       "          Company Type Affected Individuals Breach Date  \\\n",
       "0  Healthcare Provider                21450  11/29/2021   \n",
       "1  Healthcare Provider                45000  11/29/2021   \n",
       "2  Healthcare Provider                 1900  11/24/2021   \n",
       "3  Healthcare Provider                  500  11/24/2021   \n",
       "4  Healthcare Provider                  723  11/24/2021   \n",
       "\n",
       "                      Breach Type   Data location  \n",
       "0             Hacking/IT Incident           Email  \n",
       "1             Hacking/IT Incident  Network Server  \n",
       "2  Unauthorized Access/Disclosure     Paper/Films  \n",
       "3             Hacking/IT Incident  Network Server  \n",
       "4  Unauthorized Access/Disclosure           Email  "
      ]
     },
     "execution_count": 17,
     "metadata": {},
     "output_type": "execute_result"
    }
   ],
   "source": [
    "breachDF.head()"
   ]
  },
  {
   "cell_type": "code",
   "execution_count": 18,
   "metadata": {},
   "outputs": [
    {
     "data": {
      "text/plain": [
       "Breach Type\n",
       "Hacking/IT Incident               68\n",
       "Loss                               1\n",
       "Theft                              4\n",
       "Unauthorized Access/Disclosure    27\n",
       "dtype: int64"
      ]
     },
     "execution_count": 18,
     "metadata": {},
     "output_type": "execute_result"
    }
   ],
   "source": [
    "# group by the Breach Type\n",
    "breachDF.groupby('Breach Type').size()"
   ]
  },
  {
   "cell_type": "code",
   "execution_count": 19,
   "metadata": {},
   "outputs": [],
   "source": [
    "# allow matplotlib graphs to show in the notebook\n",
    "%matplotlib inline"
   ]
  },
  {
   "cell_type": "code",
   "execution_count": 20,
   "metadata": {},
   "outputs": [],
   "source": [
    "# group by the Breach Type\n",
    "breachDist = breachDF.groupby('Breach Type').size()"
   ]
  },
  {
   "cell_type": "code",
   "execution_count": 21,
   "metadata": {},
   "outputs": [
    {
     "data": {
      "text/plain": [
       "<AxesSubplot:xlabel='Breach Type'>"
      ]
     },
     "execution_count": 21,
     "metadata": {},
     "output_type": "execute_result"
    },
    {
     "data": {
      "image/png": "[encoded data removed]",
      "text/plain": [
       "<Figure size 432x288 with 1 Axes>"
      ]
     },
     "metadata": {
      "needs_background": "light"
     },
     "output_type": "display_data"
    }
   ],
   "source": [
    "# plot the data\n",
    "breachDist.plot(kind='bar')"
   ]
  },
  {
   "cell_type": "code",
   "execution_count": null,
   "metadata": {
    "collapsed": true,
    "jupyter": {
     "outputs_hidden": true
    }
   },
   "outputs": [],
   "source": []
  }
 ],
 "metadata": {
  "kernelspec": {
   "display_name": "Python 3 (ipykernel)",
   "language": "python",
   "name": "python3"
  },
  "language_info": {
   "codemirror_mode": {
    "name": "ipython",
    "version": 3
   },
   "file_extension": ".py",
   "mimetype": "text/x-python",
   "name": "python",
   "nbconvert_exporter": "python",
   "pygments_lexer": "ipython3",
   "version": "3.9.7"
  }
 },
 "nbformat": 4,
 "nbformat_minor": 4
}
