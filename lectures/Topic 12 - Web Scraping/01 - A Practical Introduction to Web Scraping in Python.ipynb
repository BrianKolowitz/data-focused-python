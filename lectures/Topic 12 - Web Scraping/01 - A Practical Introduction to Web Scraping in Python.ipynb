{
 "cells": [
  {
   "cell_type": "markdown",
   "id": "3344c937",
   "metadata": {},
   "source": [
    "# A Practical Introduction to Web Scraping in Python\n",
    "\n",
    "[Source](https://realpython.com/python-web-scraping-practical-introduction/)"
   ]
  },
  {
   "cell_type": "markdown",
   "id": "6bf06da3",
   "metadata": {},
   "source": [
    "**Web scraping** is the process of collecting and parsing raw data from the Web, and the Python community has come up with some pretty powerful web scraping tools.\n",
    "\n",
    "The Internet hosts perhaps the greatest source of information—and misinformation—on the planet. Many disciplines, such as data science, business intelligence, and investigative reporting, can benefit enormously from collecting and analyzing data from websites.\n",
    "\n",
    "In this tutorial, you’ll learn how to:\n",
    "\n",
    "* Parse website data using string methods and regular expressions\n",
    "* Parse website data using an HTML parser\n",
    "* Interact with forms and other website components\n",
    "\n",
    "> Note: This tutorial is adapted from the chapter “Interacting With the Web” in [Python Basics: A Practical Introduction to Python 3](https://realpython.com/products/python-basics-book/).\n",
    ">\n",
    "> The book uses Python’s built-in [IDLE](https://realpython.com/python-idle/) editor to create and edit Python files and interact with the Python shell, so you will see occasional references to IDLE throughout this tutorial. However, you should have no problems running the example code from the editor and [environment](https://realpython.com/effective-python-environment/) of your choice."
   ]
  },
  {
   "cell_type": "markdown",
   "id": "745eb539",
   "metadata": {},
   "source": [
    "## Scrape and Parse Text From Websites\n",
    "\n",
    "Collecting data from websites using an automated process is known as web scraping. Some websites explicitly forbid users from scraping their data with automated tools like the ones you’ll create in this tutorial. Websites do this for two possible reasons:\n",
    "\n",
    "1. The site has a good reason to protect its data. For instance, Google Maps doesn’t let you request too many results too quickly.\n",
    "2. Making many repeated requests to a website’s server may use up bandwidth, slowing down the website for other users and potentially overloading the server such that the website stops responding entirely.\n",
    "\n",
    ">Important: Before using your Python skills for web scraping, you should always check your target website’s acceptable use policy to see if accessing the website with automated tools is a violation of its terms of use. Legally, web scraping against the wishes of a website is very much a gray area.\n",
    ">\n",
    ">Please be aware that the following techniques [may be illegal](https://en.wikipedia.org/wiki/Web_scraping#Legal_issues) when used on websites that prohibit web scraping.\n",
    "\n",
    "Let’s start by grabbing all the HTML code from a single web page. You’ll use a page on Real Python that’s been set up for use with this tutorial."
   ]
  },
  {
   "cell_type": "markdown",
   "id": "592e9538",
   "metadata": {},
   "source": [
    "### Your First Web Scraper\n",
    "\n",
    "One useful package for web scraping that you can find in Python’s standard library is urllib, which contains tools for working with URLs. In particular, the urllib.request module contains a function called urlopen() that can be used to open a URL within a program.\n",
    "\n",
    "Type the following to import urlopen():"
   ]
  },
  {
   "cell_type": "code",
   "execution_count": 1,
   "id": "d687277a",
   "metadata": {},
   "outputs": [],
   "source": [
    "from urllib.request import urlopen"
   ]
  },
  {
   "cell_type": "markdown",
   "id": "e97d09ef",
   "metadata": {},
   "source": [
    "The web page that we’ll open is at the following URL:"
   ]
  },
  {
   "cell_type": "code",
   "execution_count": 2,
   "id": "878dddbb",
   "metadata": {},
   "outputs": [],
   "source": [
    "url = \"http://olympus.realpython.org/profiles/aphrodite\""
   ]
  },
  {
   "cell_type": "markdown",
   "id": "74b26a4c",
   "metadata": {},
   "source": [
    "To open the web page, pass url to urlopen():"
   ]
  },
  {
   "cell_type": "code",
   "execution_count": 3,
   "id": "7510620b",
   "metadata": {},
   "outputs": [
    {
     "data": {
      "text/plain": [
       "<http.client.HTTPResponse at 0x7fdf31252850>"
      ]
     },
     "execution_count": 3,
     "metadata": {},
     "output_type": "execute_result"
    }
   ],
   "source": [
    "page = urlopen(url)\n",
    "page"
   ]
  },
  {
   "cell_type": "markdown",
   "id": "d3097a3d",
   "metadata": {},
   "source": [
    "To extract the HTML from the page, first use the `HTTPResponse` object’s `.read()` method, which returns a sequence of bytes. Then use `.decode()` to decode the bytes to a string using `UTF-8`:"
   ]
  },
  {
   "cell_type": "code",
   "execution_count": 4,
   "id": "b6239c9e",
   "metadata": {},
   "outputs": [],
   "source": [
    "html_bytes = page.read()\n",
    "html = html_bytes.decode(\"utf-8\")"
   ]
  },
  {
   "cell_type": "markdown",
   "id": "52f103c7",
   "metadata": {},
   "source": [
    "Now you can print the HTML to see the contents of the web page:"
   ]
  },
  {
   "cell_type": "code",
   "execution_count": 5,
   "id": "60b4a75f",
   "metadata": {},
   "outputs": [
    {
     "name": "stdout",
     "output_type": "stream",
     "text": [
      "<html>\n",
      "<head>\n",
      "<title>Profile: Aphrodite</title>\n",
      "</head>\n",
      "<body bgcolor=\"yellow\">\n",
      "<center>\n",
      "<br><br>\n",
      "<img src=\"/static/aphrodite.gif\" />\n",
      "<h2>Name: Aphrodite</h2>\n",
      "<br><br>\n",
      "Favorite animal: Dove\n",
      "<br><br>\n",
      "Favorite color: Red\n",
      "<br><br>\n",
      "Hometown: Mount Olympus\n",
      "</center>\n",
      "</body>\n",
      "</html>\n",
      "\n"
     ]
    }
   ],
   "source": [
    "print(html)"
   ]
  },
  {
   "cell_type": "markdown",
   "id": "031e9bce",
   "metadata": {},
   "source": [
    "Once you have the HTML as text, you can extract information from it in a couple of different ways."
   ]
  },
  {
   "cell_type": "markdown",
   "id": "72741295",
   "metadata": {},
   "source": [
    "### Extract Text From HTML With String Methods\n",
    "\n",
    "One way to extract information from a web page’s HTML is to use [string methods](https://realpython.com/python-strings/#built-in-string-methods). For instance, you can use `.find()` to search through the text of the HTML for the <title> tags and extract the title of the web page."
   ]
  },
  {
   "cell_type": "markdown",
   "id": "c8893ee1",
   "metadata": {},
   "source": [
    "Let’s extract the title of the web page you requested in the previous example. If you know the index of the first character of the title and the first character of the closing `</title>` tag, then you can use a [string slice](https://realpython.com/python-strings/#string-slicing) to extract the title."
   ]
  },
  {
   "cell_type": "markdown",
   "id": "228cdd7b",
   "metadata": {},
   "source": [
    "Since `.find()` returns the index of the first occurrence of a substring, you can get the index of the opening `<title>` tag by passing the string `\"<title>\"` to `.find()`:"
   ]
  },
  {
   "cell_type": "code",
   "execution_count": 6,
   "id": "bc3b5514",
   "metadata": {},
   "outputs": [
    {
     "data": {
      "text/plain": [
       "14"
      ]
     },
     "execution_count": 6,
     "metadata": {},
     "output_type": "execute_result"
    }
   ],
   "source": [
    "title_index = html.find(\"<title>\")\n",
    "title_index"
   ]
  },
  {
   "cell_type": "markdown",
   "id": "ab7e5399",
   "metadata": {},
   "source": [
    "You don’t want the index of the `<title>` tag, though. You want the index of the title itself. To get the index of the first letter in the title, you can add the length of the string \"`<title>\"` to title_index:"
   ]
  },
  {
   "cell_type": "code",
   "execution_count": 7,
   "id": "a4d722d2",
   "metadata": {},
   "outputs": [
    {
     "data": {
      "text/plain": [
       "21"
      ]
     },
     "execution_count": 7,
     "metadata": {},
     "output_type": "execute_result"
    }
   ],
   "source": [
    "start_index = title_index + len(\"<title>\")\n",
    "start_index"
   ]
  },
  {
   "cell_type": "markdown",
   "id": "492e172b",
   "metadata": {},
   "source": [
    "Now get the index of the closing `</title>` tag by passing the string `\"</title>\"` to .find():"
   ]
  },
  {
   "cell_type": "code",
   "execution_count": 8,
   "id": "a64a18a0",
   "metadata": {},
   "outputs": [
    {
     "data": {
      "text/plain": [
       "39"
      ]
     },
     "execution_count": 8,
     "metadata": {},
     "output_type": "execute_result"
    }
   ],
   "source": [
    "end_index = html.find(\"</title>\")\n",
    "end_index"
   ]
  },
  {
   "cell_type": "markdown",
   "id": "5ff156dd",
   "metadata": {},
   "source": [
    "Finally, you can extract the title by slicing the html string:"
   ]
  },
  {
   "cell_type": "code",
   "execution_count": 9,
   "id": "75c9866c",
   "metadata": {},
   "outputs": [
    {
     "data": {
      "text/plain": [
       "'Profile: Aphrodite'"
      ]
     },
     "execution_count": 9,
     "metadata": {},
     "output_type": "execute_result"
    }
   ],
   "source": [
    "title = html[start_index:end_index]\n",
    "title"
   ]
  },
  {
   "cell_type": "markdown",
   "id": "ef3410ff",
   "metadata": {},
   "source": [
    "Real-world HTML can be much more complicated and far less predictable than the HTML on the Aphrodite profile page. Here’s another profile page with some messier HTML that you can scrape:"
   ]
  },
  {
   "cell_type": "code",
   "execution_count": 10,
   "id": "c2c88917",
   "metadata": {},
   "outputs": [],
   "source": [
    "url = \"http://olympus.realpython.org/profiles/poseidon\""
   ]
  },
  {
   "cell_type": "markdown",
   "id": "91907560",
   "metadata": {},
   "source": [
    "Try extracting the title from this new URL using the same method as the previous example:"
   ]
  },
  {
   "cell_type": "code",
   "execution_count": 11,
   "id": "af50d116",
   "metadata": {},
   "outputs": [
    {
     "data": {
      "text/plain": [
       "'\\n<head>\\n<title >Profile: Poseidon'"
      ]
     },
     "execution_count": 11,
     "metadata": {},
     "output_type": "execute_result"
    }
   ],
   "source": [
    "url = \"http://olympus.realpython.org/profiles/poseidon\"\n",
    "page = urlopen(url)\n",
    "html = page.read().decode(\"utf-8\")\n",
    "start_index = html.find(\"<title>\") + len(\"<title>\")\n",
    "end_index = html.find(\"</title>\")\n",
    "title = html[start_index:end_index]\n",
    "title"
   ]
  },
  {
   "cell_type": "markdown",
   "id": "4da00b35",
   "metadata": {},
   "source": [
    "Whoops! There’s a bit of HTML mixed in with the title. Why’s that?\n",
    "\n",
    "The HTML for the `/profiles/poseidon` page looks similar to the `/profiles/aphrodite` page, but there’s a small difference. The opening `<title>` tag has an extra space before the closing angle bracket (`>`), rendering it as <title >."
   ]
  },
  {
   "cell_type": "markdown",
   "id": "f6ff7d99",
   "metadata": {},
   "source": [
    "`html.find(\"<title>\")` returns -1 because the exact substring `\"<title>\"` doesn’t exist. When -1 is added to `len(\"<title>\")`, which is 7, the start_index variable is assigned the value 6.\n",
    "\n",
    "The character at index 6 of the string html is a newline character (`\\n`) right before the opening angle bracket (`<`) of the `<head>` tag. This means that `html[start_index:end_index]` returns all the HTML starting with that newline and ending just before the `</title>` tag.\n",
    "\n",
    "These sorts of problems can occur in countless unpredictable ways. You need a more reliable way to extract text from HTML."
   ]
  },
  {
   "cell_type": "markdown",
   "id": "71c9897b",
   "metadata": {},
   "source": [
    "### A Primer on Regular Expressions\n",
    "\n",
    "**Regular expressions** or **regexes** for short—are patterns that can be used to search for text within a string. Python supports regular expressions through the standard library’s re module.\n",
    "\n",
    ">Note: Regular expressions aren’t particular to Python. They’re a general programming concept and can be used with any programming language."
   ]
  },
  {
   "cell_type": "markdown",
   "id": "ef4176fa",
   "metadata": {},
   "source": [
    "To work with regular expressions, the first thing you need to do is import the re module:"
   ]
  },
  {
   "cell_type": "code",
   "execution_count": 12,
   "id": "377ffc5c",
   "metadata": {},
   "outputs": [],
   "source": [
    "import re"
   ]
  },
  {
   "cell_type": "markdown",
   "id": "3896097e",
   "metadata": {},
   "source": [
    "Regular expressions use special characters called **metacharacters** to denote different patterns. For instance, the asterisk character (`*`) stands for zero or more of whatever comes just before the asterisk.\n",
    "\n",
    "In the following example, you use `findall()` to find any text within a string that matches a given regular expression:"
   ]
  },
  {
   "cell_type": "code",
   "execution_count": 13,
   "id": "fd142fc3",
   "metadata": {},
   "outputs": [
    {
     "data": {
      "text/plain": [
       "['ac']"
      ]
     },
     "execution_count": 13,
     "metadata": {},
     "output_type": "execute_result"
    }
   ],
   "source": [
    "re.findall(\"ab*c\", \"ac\")"
   ]
  },
  {
   "cell_type": "markdown",
   "id": "87ffd81e",
   "metadata": {},
   "source": [
    "The first argument of `re.findall()` is the regular expression that you want to match, and the second argument is the string to test. In the above example, you search for the pattern `\"ab*c\"` in the string `\"ac\"`."
   ]
  },
  {
   "cell_type": "markdown",
   "id": "cc16486e",
   "metadata": {},
   "source": [
    "The regular expression `\"ab*c\"` matches any part of the string that begins with an `\"a\"`, ends with a `\"c\"`, and has zero or more instances of `\"b\"` between the two. `re.findall()` returns a list of all matches. The string `\"ac\"` matches this pattern, so it’s returned in the list.\n",
    "\n",
    "Here’s the same pattern applied to different strings:"
   ]
  },
  {
   "cell_type": "code",
   "execution_count": 14,
   "id": "e8783801",
   "metadata": {},
   "outputs": [
    {
     "data": {
      "text/plain": [
       "['abc']"
      ]
     },
     "execution_count": 14,
     "metadata": {},
     "output_type": "execute_result"
    }
   ],
   "source": [
    "re.findall(\"ab*c\", \"abcd\")"
   ]
  },
  {
   "cell_type": "code",
   "execution_count": 15,
   "id": "12a4f209",
   "metadata": {},
   "outputs": [
    {
     "data": {
      "text/plain": [
       "['ac']"
      ]
     },
     "execution_count": 15,
     "metadata": {},
     "output_type": "execute_result"
    }
   ],
   "source": [
    "re.findall(\"ab*c\", \"acc\")"
   ]
  },
  {
   "cell_type": "code",
   "execution_count": 16,
   "id": "0a1239ae",
   "metadata": {},
   "outputs": [
    {
     "data": {
      "text/plain": [
       "['abc', 'ac']"
      ]
     },
     "execution_count": 16,
     "metadata": {},
     "output_type": "execute_result"
    }
   ],
   "source": [
    "re.findall(\"ab*c\", \"abcac\")"
   ]
  },
  {
   "cell_type": "code",
   "execution_count": 17,
   "id": "cc3e290d",
   "metadata": {},
   "outputs": [
    {
     "data": {
      "text/plain": [
       "[]"
      ]
     },
     "execution_count": 17,
     "metadata": {},
     "output_type": "execute_result"
    }
   ],
   "source": [
    "re.findall(\"ab*c\", \"abdc\")"
   ]
  },
  {
   "cell_type": "markdown",
   "id": "40bfe45e",
   "metadata": {},
   "source": [
    "Notice that if no match is found, then `findall()` returns an empty list."
   ]
  },
  {
   "cell_type": "markdown",
   "id": "6e2ed14b",
   "metadata": {},
   "source": [
    "Pattern matching is case sensitive. If you want to match this pattern regardless of the case, then you can pass a third argument with the value `re.IGNORECASE`:"
   ]
  },
  {
   "cell_type": "code",
   "execution_count": 18,
   "id": "b9bdd01b",
   "metadata": {},
   "outputs": [
    {
     "data": {
      "text/plain": [
       "[]"
      ]
     },
     "execution_count": 18,
     "metadata": {},
     "output_type": "execute_result"
    }
   ],
   "source": [
    "re.findall(\"ab*c\", \"ABC\")"
   ]
  },
  {
   "cell_type": "code",
   "execution_count": 19,
   "id": "4730897a",
   "metadata": {},
   "outputs": [
    {
     "data": {
      "text/plain": [
       "['ABC']"
      ]
     },
     "execution_count": 19,
     "metadata": {},
     "output_type": "execute_result"
    }
   ],
   "source": [
    "re.findall(\"ab*c\", \"ABC\", re.IGNORECASE)"
   ]
  },
  {
   "cell_type": "markdown",
   "id": "f27031ea",
   "metadata": {},
   "source": [
    "You can use a period (`.`) to stand for any single character in a regular expression. For instance, you could find all the strings that contain the letters \"a\" and \"c\" separated by a single character as follows:"
   ]
  },
  {
   "cell_type": "code",
   "execution_count": 20,
   "id": "e2780142",
   "metadata": {},
   "outputs": [
    {
     "data": {
      "text/plain": [
       "['abc']"
      ]
     },
     "execution_count": 20,
     "metadata": {},
     "output_type": "execute_result"
    }
   ],
   "source": [
    "re.findall(\"a.c\", \"abc\")"
   ]
  },
  {
   "cell_type": "code",
   "execution_count": 21,
   "id": "01008d45",
   "metadata": {},
   "outputs": [
    {
     "data": {
      "text/plain": [
       "[]"
      ]
     },
     "execution_count": 21,
     "metadata": {},
     "output_type": "execute_result"
    }
   ],
   "source": [
    "re.findall(\"a.c\", \"abbc\")"
   ]
  },
  {
   "cell_type": "code",
   "execution_count": 22,
   "id": "a2bd26c7",
   "metadata": {},
   "outputs": [
    {
     "data": {
      "text/plain": [
       "[]"
      ]
     },
     "execution_count": 22,
     "metadata": {},
     "output_type": "execute_result"
    }
   ],
   "source": [
    "re.findall(\"a.c\", \"ac\")"
   ]
  },
  {
   "cell_type": "code",
   "execution_count": 23,
   "id": "50ef0f30",
   "metadata": {},
   "outputs": [
    {
     "data": {
      "text/plain": [
       "['acc']"
      ]
     },
     "execution_count": 23,
     "metadata": {},
     "output_type": "execute_result"
    }
   ],
   "source": [
    "re.findall(\"a.c\", \"acc\")"
   ]
  },
  {
   "cell_type": "markdown",
   "id": "2ef0ef60",
   "metadata": {},
   "source": [
    "The pattern `.*` inside a regular expression stands for any character repeated any number of times. For instance, `\"a.*c\"` can be used to find every substring that starts with `\"a\"` and ends with `\"c\"`, regardless of which letter—or letters—are in between:"
   ]
  },
  {
   "cell_type": "code",
   "execution_count": 24,
   "id": "0bda7a45",
   "metadata": {},
   "outputs": [
    {
     "data": {
      "text/plain": [
       "['abc']"
      ]
     },
     "execution_count": 24,
     "metadata": {},
     "output_type": "execute_result"
    }
   ],
   "source": [
    "re.findall(\"a.*c\", \"abc\")"
   ]
  },
  {
   "cell_type": "code",
   "execution_count": 25,
   "id": "c2bbe94f",
   "metadata": {},
   "outputs": [
    {
     "data": {
      "text/plain": [
       "['abbc']"
      ]
     },
     "execution_count": 25,
     "metadata": {},
     "output_type": "execute_result"
    }
   ],
   "source": [
    "re.findall(\"a.*c\", \"abbc\")"
   ]
  },
  {
   "cell_type": "code",
   "execution_count": 26,
   "id": "aa900597",
   "metadata": {},
   "outputs": [
    {
     "data": {
      "text/plain": [
       "['ac']"
      ]
     },
     "execution_count": 26,
     "metadata": {},
     "output_type": "execute_result"
    }
   ],
   "source": [
    "re.findall(\"a.*c\", \"ac\")"
   ]
  },
  {
   "cell_type": "code",
   "execution_count": 27,
   "id": "3cca4a42",
   "metadata": {},
   "outputs": [
    {
     "data": {
      "text/plain": [
       "['acc']"
      ]
     },
     "execution_count": 27,
     "metadata": {},
     "output_type": "execute_result"
    }
   ],
   "source": [
    "re.findall(\"a.*c\", \"acc\")"
   ]
  },
  {
   "cell_type": "markdown",
   "id": "8a8bd1b4",
   "metadata": {},
   "source": [
    "Often, you use `re.search()` to search for a particular pattern inside a string. This function is somewhat more complicated than `re.findall()` because it returns an object called a `MatchObject` that stores different groups of data. This is because there might be matches inside other matches, and `re.search()` returns every possible result."
   ]
  },
  {
   "cell_type": "markdown",
   "id": "9f77471d",
   "metadata": {},
   "source": [
    "The details of the `MatchObject` are irrelevant here. For now, just know that calling `.group()` on a `MatchObject` will return the first and most inclusive result, which in most cases is just what you want:"
   ]
  },
  {
   "cell_type": "code",
   "execution_count": 28,
   "id": "eb73e9bf",
   "metadata": {},
   "outputs": [
    {
     "data": {
      "text/plain": [
       "'ABC'"
      ]
     },
     "execution_count": 28,
     "metadata": {},
     "output_type": "execute_result"
    }
   ],
   "source": [
    "match_results = re.search(\"ab*c\", \"ABC\", re.IGNORECASE)\n",
    "match_results.group()"
   ]
  },
  {
   "cell_type": "markdown",
   "id": "2513495f",
   "metadata": {},
   "source": [
    "There’s one more function in the re module that’s useful for parsing out text. `re.sub()`, which is short for substitute, allows you to replace text in a string that matches a regular expression with new text. It behaves sort of like the `.replace()` string method."
   ]
  },
  {
   "cell_type": "markdown",
   "id": "388d766c",
   "metadata": {},
   "source": [
    "The arguments passed to `re.sub()` are the regular expression, followed by the replacement text, followed by the string. Here’s an example:"
   ]
  },
  {
   "cell_type": "code",
   "execution_count": 29,
   "id": "ae6a7213",
   "metadata": {},
   "outputs": [
    {
     "data": {
      "text/plain": [
       "'Everything is ELEPHANTS.'"
      ]
     },
     "execution_count": 29,
     "metadata": {},
     "output_type": "execute_result"
    }
   ],
   "source": [
    "string = \"Everything is <replaced> if it's in <tags>.\"\n",
    "string = re.sub(\"<.*>\", \"ELEPHANTS\", string)\n",
    "string"
   ]
  },
  {
   "cell_type": "markdown",
   "id": "93c464f9",
   "metadata": {},
   "source": [
    "Perhaps that wasn’t quite what you expected to happen."
   ]
  },
  {
   "cell_type": "markdown",
   "id": "e9e09ae1",
   "metadata": {},
   "source": [
    "`re.sub()` uses the regular expression `\"<.*>\"` to find and replace everything between the first `<` and last `>`, which spans from the beginning of `<replaced>` to the end of `<tags>`. This is because Python’s regular expressions are greedy, meaning they try to find the longest possible match when characters like `*` are used.\n",
    "\n",
    "Alternatively, you can use the non-greedy matching pattern `*?`, which works the same way as `*` except that it matches the shortest possible string of text:"
   ]
  },
  {
   "cell_type": "code",
   "execution_count": 30,
   "id": "fd2db68d",
   "metadata": {},
   "outputs": [
    {
     "data": {
      "text/plain": [
       "\"Everything is ELEPHANTS if it's in ELEPHANTS.\""
      ]
     },
     "execution_count": 30,
     "metadata": {},
     "output_type": "execute_result"
    }
   ],
   "source": [
    "string = \"Everything is <replaced> if it's in <tags>.\"\n",
    "string = re.sub(\"<.*?>\", \"ELEPHANTS\", string)\n",
    "string"
   ]
  },
  {
   "cell_type": "markdown",
   "id": "70e83b32",
   "metadata": {},
   "source": [
    "This time, `re.sub()` finds two matches, `<replaced>` and `<tags>`, and substitutes the string `\"ELEPHANTS\"` for both matches."
   ]
  },
  {
   "cell_type": "markdown",
   "id": "11069e15",
   "metadata": {},
   "source": [
    "### Extract Text From HTML With Regular Expressions\n",
    "\n",
    "Armed with all this knowledge, let’s now try to parse out the title from a [new profile page](http://olympus.realpython.org/profiles/dionysus), which includes this rather carelessly written line of HTML:\n",
    "\n",
    "```html\n",
    "<TITLE >Profile: Dionysus</title  / >\n",
    "```"
   ]
  },
  {
   "cell_type": "markdown",
   "id": "d54c7c74",
   "metadata": {},
   "source": [
    "The `.find()` method would have a difficult time dealing with the inconsistencies here, but with the clever use of regular expressions, you can handle this code quickly and efficiently:"
   ]
  },
  {
   "cell_type": "code",
   "execution_count": 31,
   "id": "11831b88",
   "metadata": {},
   "outputs": [
    {
     "name": "stdout",
     "output_type": "stream",
     "text": [
      "Profile: Dionysus\n"
     ]
    }
   ],
   "source": [
    "import re\n",
    "from urllib.request import urlopen\n",
    "\n",
    "url = \"http://olympus.realpython.org/profiles/dionysus\"\n",
    "page = urlopen(url)\n",
    "html = page.read().decode(\"utf-8\")\n",
    "\n",
    "pattern = \"<title.*?>.*?</title.*?>\"\n",
    "match_results = re.search(pattern, html, re.IGNORECASE)\n",
    "title = match_results.group()\n",
    "title = re.sub(\"<.*?>\", \"\", title) # Remove HTML tags\n",
    "\n",
    "print(title)"
   ]
  },
  {
   "cell_type": "markdown",
   "id": "ea8bf2ac",
   "metadata": {},
   "source": [
    "Let’s take a closer look at the first regular expression in the pattern string by breaking it down into three parts:\n",
    "\n",
    "1. **`<title.*?>`** matches the opening `<TITLE >` tag in html. The `<title` part of the pattern matches with `<TITLE` because `re.search()` is called with `re.IGNORECASE`, and `.*?>` matches any text after `<TITLE` up to the first instance of `>`.\n",
    "2. **`.*?`** non-greedily matches all text after the opening `<TITLE >`, stopping at the first match for `</title.*?>`.\n",
    "3. **`</title.*?>`** differs from the first pattern only in its use of the `/` character, so it matches the closing `</title / >` tag in html.\n",
    "\n",
    "The second regular expression, the string `\"<.*?>\"`, also uses the non-greedy `.*?` to match all the HTML tags in the title string. By replacing any matches with `\"\"`, `re.sub()` removes all the tags and returns only the text.\n",
    "\n",
    ">Note: Web scraping in Python or any other language can be tedious. No two websites are organized the same way, and HTML is often messy. Moreover, websites change over time. Web scrapers that work today are not guaranteed to work next year—or next week, for that matter!"
   ]
  },
  {
   "cell_type": "markdown",
   "id": "23aa078d",
   "metadata": {},
   "source": [
    "Regular expressions are a powerful tool when used correctly. This introduction barely scratches the surface. For more about regular expressions and how to use them, check out the two-part series [Regular Expressions: Regexes in Python](https://realpython.com/regex-python/)."
   ]
  },
  {
   "cell_type": "markdown",
   "id": "99996747",
   "metadata": {},
   "source": [
    "### Check Your Understanding 1\n",
    "\n",
    "Write a program that grabs the full HTML from the following URL:\n",
    "\n",
    "```python\n",
    "url = \"http://olympus.realpython.org/profiles/dionysus\"\n",
    "```\n",
    "\n",
    "Then use `.find()` to display the text following `“Name:”` and `“Favorite Color:”` (not including any leading spaces or trailing HTML tags that might appear on the same line)."
   ]
  },
  {
   "cell_type": "markdown",
   "id": "ce26fdd6",
   "metadata": {},
   "source": [
    "## Use an HTML Parser for Web Scraping in Python\n",
    "\n",
    "Although regular expressions are great for pattern matching in general, sometimes it’s easier to use an HTML parser that’s explicitly designed for parsing out HTML pages. There are many Python tools written for this purpose, but the Beautiful Soup library is a good one to start with.\n",
    "\n",
    "### Install Beautiful Soup\n",
    "\n",
    "To install Beautiful Soup, you can run the following in your terminal:\n",
    "\n",
    "```bash\n",
    "$ python3 -m pip install beautifulsoup4\n",
    "```\n",
    "\n",
    "Run pip show to see the details of the package you just installed:\n",
    "\n",
    "```bash\n",
    "$ python3 -m pip show beautifulsoup4\n",
    "Name: beautifulsoup4\n",
    "Version: 4.9.1\n",
    "Summary: Screen-scraping library\n",
    "Home-page: http://www.crummy.com/software/BeautifulSoup/bs4/\n",
    "Author: Leonard Richardson\n",
    "Author-email: leonardr@segfault.org\n",
    "License: MIT\n",
    "Location: c:\\realpython\\venv\\lib\\site-packages\n",
    "Requires:\n",
    "Required-by:\n",
    "```"
   ]
  },
  {
   "cell_type": "markdown",
   "id": "1555fc01",
   "metadata": {},
   "source": [
    "### Create a BeautifulSoup Object\n",
    "\n",
    "Type the following program into a new editor window:"
   ]
  },
  {
   "cell_type": "code",
   "execution_count": 32,
   "id": "d8eebe27",
   "metadata": {},
   "outputs": [],
   "source": [
    "from bs4 import BeautifulSoup\n",
    "from urllib.request import urlopen\n",
    "\n",
    "url = \"http://olympus.realpython.org/profiles/dionysus\"\n",
    "page = urlopen(url)\n",
    "html = page.read().decode(\"utf-8\")\n",
    "soup = BeautifulSoup(html, \"html.parser\")"
   ]
  },
  {
   "cell_type": "markdown",
   "id": "b4e8109a",
   "metadata": {},
   "source": [
    "This program does three things:\n",
    "\n",
    "1. Opens the URL http://olympus.realpython.org/profiles/dionysus using `urlopen()` from the `urllib.request` module\n",
    "2. Reads the HTML from the page as a string and assigns it to the html variable\n",
    "3. Creates a `BeautifulSoup` object and assigns it to the soup variable\n",
    "\n",
    "The `BeautifulSoup` object assigned to soup is created with two arguments. The first argument is the HTML to be parsed, and the second argument, the string `\"html.parser\"`, tells the object which parser to use behind the scenes. `\"html.parser\"` represents Python’s built-in HTML parser."
   ]
  },
  {
   "cell_type": "markdown",
   "id": "7d2e33be",
   "metadata": {},
   "source": [
    "### Use a BeautifulSoup Object\n",
    "\n",
    "Save and run the above program. When it’s finished running, you can use the soup variable in the interactive window to parse the content of html in various ways."
   ]
  },
  {
   "cell_type": "markdown",
   "id": "1fd4dc11",
   "metadata": {},
   "source": [
    "For example, `BeautifulSoup` objects have a `.get_text()` method that can be used to extract all the text from the document and automatically remove any HTML tags.\n",
    "\n",
    "Type the following code:"
   ]
  },
  {
   "cell_type": "code",
   "execution_count": 33,
   "id": "a99340aa",
   "metadata": {},
   "outputs": [
    {
     "name": "stdout",
     "output_type": "stream",
     "text": [
      "\n",
      "\n",
      "Profile: Dionysus\n",
      "\n",
      "\n",
      "\n",
      "\n",
      "\n",
      "Name: Dionysus\n",
      "\n",
      "Hometown: Mount Olympus\n",
      "\n",
      "Favorite animal: Leopard \n",
      "\n",
      "Favorite Color: Wine\n",
      "\n",
      "\n",
      "\n",
      "\n"
     ]
    }
   ],
   "source": [
    "print(soup.get_text())"
   ]
  },
  {
   "cell_type": "markdown",
   "id": "e7a7a450",
   "metadata": {},
   "source": [
    "There are a lot of blank lines in this output. These are the result of newline characters in the HTML document’s text. You can remove them with the string `.replace()` method if you need to."
   ]
  },
  {
   "cell_type": "markdown",
   "id": "fd43b23c",
   "metadata": {},
   "source": [
    "Often, you need to get only specific text from an HTML document. Using Beautiful Soup first to extract the text and then using the `.find()` string method is sometimes easier than working with regular expressions."
   ]
  },
  {
   "cell_type": "markdown",
   "id": "351ad13b",
   "metadata": {},
   "source": [
    "However, sometimes the HTML tags themselves are the elements that point out the data you want to retrieve. For instance, perhaps you want to retrieve the URLs for all the images on the page. These links are contained in the src attribute of `<img>` HTML tags.\n",
    "\n",
    "In this case, you can use `find_all()` to return a list of all instances of that particular tag:"
   ]
  },
  {
   "cell_type": "code",
   "execution_count": 34,
   "id": "c73b3d3a",
   "metadata": {},
   "outputs": [
    {
     "data": {
      "text/plain": [
       "[<img src=\"/static/dionysus.jpg\"/>, <img src=\"/static/grapes.png\"/>]"
      ]
     },
     "execution_count": 34,
     "metadata": {},
     "output_type": "execute_result"
    }
   ],
   "source": [
    "soup.find_all(\"img\")"
   ]
  },
  {
   "cell_type": "markdown",
   "id": "82fb56c7",
   "metadata": {},
   "source": [
    "This returns a list of all `<img>` tags in the HTML document. The objects in the list look like they might be strings representing the tags, but they’re actually instances of the Tag object provided by Beautiful Soup. Tag objects provide a simple interface for working with the information they contain.\n",
    "\n",
    "Let’s explore this a little by first unpacking the Tag objects from the list:"
   ]
  },
  {
   "cell_type": "code",
   "execution_count": 35,
   "id": "4bbc31af",
   "metadata": {},
   "outputs": [],
   "source": [
    "image1, image2 = soup.find_all(\"img\")"
   ]
  },
  {
   "cell_type": "markdown",
   "id": "c766c5f2",
   "metadata": {},
   "source": [
    "Each Tag object has a `.name` property that returns a string containing the HTML tag type:"
   ]
  },
  {
   "cell_type": "code",
   "execution_count": 36,
   "id": "a27167c0",
   "metadata": {},
   "outputs": [
    {
     "data": {
      "text/plain": [
       "'img'"
      ]
     },
     "execution_count": 36,
     "metadata": {},
     "output_type": "execute_result"
    }
   ],
   "source": [
    "image1.name"
   ]
  },
  {
   "cell_type": "markdown",
   "id": "bffa262d",
   "metadata": {},
   "source": [
    "You can access the HTML attributes of the Tag object by putting their name between square brackets, just as if the attributes were keys in a dictionary.\n",
    "\n",
    "For example, the `<img src=\"/static/dionysus.jpg\"/>` tag has a single attribute, src, with the value `\"/static/dionysus.jpg\"`. Likewise, an HTML tag such as the link `<a href=\"https://realpython.com\" target=\"_blank\">` has two attributes, `href` and `target`.\n",
    "\n",
    "To get the source of the images in the Dionysus profile page, you access the `src` attribute using the dictionary notation mentioned above:"
   ]
  },
  {
   "cell_type": "code",
   "execution_count": 37,
   "id": "2d916ec9",
   "metadata": {},
   "outputs": [
    {
     "data": {
      "text/plain": [
       "'/static/dionysus.jpg'"
      ]
     },
     "execution_count": 37,
     "metadata": {},
     "output_type": "execute_result"
    }
   ],
   "source": [
    "image1[\"src\"]"
   ]
  },
  {
   "cell_type": "code",
   "execution_count": 38,
   "id": "b21b239f",
   "metadata": {},
   "outputs": [
    {
     "data": {
      "text/plain": [
       "'/static/grapes.png'"
      ]
     },
     "execution_count": 38,
     "metadata": {},
     "output_type": "execute_result"
    }
   ],
   "source": [
    "image2[\"src\"]"
   ]
  },
  {
   "cell_type": "markdown",
   "id": "404883d2",
   "metadata": {},
   "source": [
    "Certain tags in HTML documents can be accessed by properties of the Tag object. For example, to get the <title> tag in a document, you can use the .title property:"
   ]
  },
  {
   "cell_type": "code",
   "execution_count": 39,
   "id": "263e6e82",
   "metadata": {},
   "outputs": [
    {
     "data": {
      "text/plain": [
       "<title>Profile: Dionysus</title>"
      ]
     },
     "execution_count": 39,
     "metadata": {},
     "output_type": "execute_result"
    }
   ],
   "source": [
    "soup.title"
   ]
  },
  {
   "cell_type": "markdown",
   "id": "8de1006a",
   "metadata": {},
   "source": [
    "If you look at the source of the Dionysus profile by navigating to the profile page, right-clicking on the page, and selecting View page source, then you’ll notice that the `<title>` tag as written in the document looks like this:\n",
    "\n",
    "```html\n",
    "<title >Profile: Dionysus</title/>\n",
    "```\n",
    "\n",
    "Beautiful Soup automatically cleans up the tags for you by removing the extra space in the opening tag and the extraneous forward slash (`/`) in the closing tag."
   ]
  },
  {
   "cell_type": "markdown",
   "id": "783166cf",
   "metadata": {},
   "source": [
    "You can also retrieve just the string between the title tags with the `.string` property of the Tag object:"
   ]
  },
  {
   "cell_type": "code",
   "execution_count": 40,
   "id": "7b36fc7a",
   "metadata": {},
   "outputs": [
    {
     "data": {
      "text/plain": [
       "'Profile: Dionysus'"
      ]
     },
     "execution_count": 40,
     "metadata": {},
     "output_type": "execute_result"
    }
   ],
   "source": [
    "soup.title.string"
   ]
  },
  {
   "cell_type": "markdown",
   "id": "6cece103",
   "metadata": {},
   "source": [
    "One of the more useful features of Beautiful Soup is the ability to search for specific kinds of tags whose attributes match certain values. For example, if you want to find all the `<img>` tags that have a src attribute equal to the value `/static/dionysus.jpg`, then you can provide the following additional argument to `.find_all()`:"
   ]
  },
  {
   "cell_type": "code",
   "execution_count": 41,
   "id": "c329a0f3",
   "metadata": {},
   "outputs": [
    {
     "data": {
      "text/plain": [
       "[<img src=\"/static/dionysus.jpg\"/>]"
      ]
     },
     "execution_count": 41,
     "metadata": {},
     "output_type": "execute_result"
    }
   ],
   "source": [
    "soup.find_all(\"img\", src=\"/static/dionysus.jpg\")"
   ]
  },
  {
   "cell_type": "markdown",
   "id": "c1706021",
   "metadata": {},
   "source": [
    "This example is somewhat arbitrary, and the usefulness of this technique may not be apparent from the example. If you spend some time browsing various websites and viewing their page sources, then you’ll notice that many websites have extremely complicated HTML structures."
   ]
  },
  {
   "cell_type": "markdown",
   "id": "f617e690",
   "metadata": {},
   "source": [
    "When scraping data from websites with Python, you’re often interested in particular parts of the page. By spending some time looking through the HTML document, you can identify tags with unique attributes that you can use to extract the data you need."
   ]
  },
  {
   "cell_type": "markdown",
   "id": "7e588e0a",
   "metadata": {},
   "source": [
    "Then, instead of relying on complicated regular expressions or using `.find()` to search through the document, you can directly access the particular tag you’re interested in and extract the data you need."
   ]
  },
  {
   "cell_type": "markdown",
   "id": "7ddc22b2",
   "metadata": {},
   "source": [
    "In some cases, you may find that Beautiful Soup doesn’t offer the functionality you need. The [lxml](http://lxml.de/) library is somewhat trickier to get started with but offers far more flexibility than Beautiful Soup for parsing HTML documents. You may want to check it out once you’re comfortable using Beautiful Soup.\n",
    "\n",
    "> Note: HTML parsers like Beautiful Soup can save you a lot of time and effort when it comes to locating specific data in web pages. However, sometimes HTML is so poorly written and disorganized that even a sophisticated parser like Beautiful Soup can’t interpret the HTML tags properly.\n",
    ">\n",
    "> In this case, you’re often left with using `.find()` and regular expression techniques to try to parse out the information you need.\n",
    "\n",
    "BeautifulSoup is great for scraping data from a website’s HTML, but it doesn’t provide any way to work with HTML forms. For example, if you need to search a website for some query and then scrape the results, then BeautifulSoup alone won’t get you very far."
   ]
  },
  {
   "cell_type": "markdown",
   "id": "bb6f0c1e",
   "metadata": {},
   "source": [
    "### Check Your Understanding\n",
    "\n",
    "Write a program that grabs the full HTML from the page at the URL http://olympus.realpython.org/profiles.\n",
    "\n",
    "Using Beautiful Soup, print out a list of all the links on the page by looking for HTML tags with the name a and retrieving the value taken on by the href attribute of each tag.\n",
    "\n",
    "The final output should look like this:\n",
    "\n",
    "```bash\n",
    "http://olympus.realpython.org/profiles/aphrodite\n",
    "http://olympus.realpython.org/profiles/poseidon\n",
    "http://olympus.realpython.org/profiles/dionysus\n",
    "```"
   ]
  },
  {
   "cell_type": "markdown",
   "id": "ab9e6c4e",
   "metadata": {},
   "source": [
    "## Interact With HTML Forms\n",
    "\n",
    "The `urllib` module you’ve been working with so far in this tutorial is well suited for requesting the contents of a web page. Sometimes, though, you need to interact with a web page to obtain the content you need. For example, you might need to submit a form or click a button to display hidden content."
   ]
  },
  {
   "cell_type": "markdown",
   "id": "5b96c3f4",
   "metadata": {},
   "source": [
    "The Python standard library doesn’t provide a built-in means for working with web pages interactively, but many third-party packages are available from PyPI. Among these, `MechanicalSoup` is a popular and relatively straightforward package to use."
   ]
  },
  {
   "cell_type": "markdown",
   "id": "35f7e175",
   "metadata": {},
   "source": [
    "In essence, `MechanicalSoup` installs what’s known as a headless browser, which is a web browser with no graphical user interface. This browser is controlled programmatically via a Python program.\n",
    "\n",
    "### Install MechanicalSoup\n",
    "\n",
    "You can install `MechanicalSoup` with pip in your terminal:\n",
    "\n",
    "```bash\n",
    "$ python3 -m pip install MechanicalSoup\n",
    "```\n",
    "\n",
    "You can now view some details about the package with pip show:"
   ]
  },
  {
   "cell_type": "code",
   "execution_count": 42,
   "id": "ef178fef",
   "metadata": {},
   "outputs": [
    {
     "name": "stdout",
     "output_type": "stream",
     "text": [
      "Name: MechanicalSoup\r\n",
      "Version: 1.1.0\r\n",
      "Summary: A Python library for automating interaction with websites\r\n",
      "Home-page: https://mechanicalsoup.readthedocs.io/\r\n",
      "Author: \r\n",
      "Author-email: \r\n",
      "License: MIT\r\n",
      "Location: /Users/bk/opt/miniconda3/envs/cmu39/lib/python3.9/site-packages\r\n",
      "Requires: beautifulsoup4, requests, lxml\r\n",
      "Required-by: \r\n"
     ]
    }
   ],
   "source": [
    "!pip show mechanicalsoup"
   ]
  },
  {
   "cell_type": "markdown",
   "id": "df699306",
   "metadata": {},
   "source": [
    "In particular, notice that the latest version at the time of writing was 1.1.0. You’ll need to close and restart your IDLE session for MechanicalSoup to load and be recognized after it’s been installed."
   ]
  },
  {
   "cell_type": "markdown",
   "id": "55dda8be",
   "metadata": {},
   "source": [
    "### Create a Browser Object\n",
    "\n",
    "Type the following into IDLE’s interactive window:"
   ]
  },
  {
   "cell_type": "code",
   "execution_count": 43,
   "id": "d1a006a0",
   "metadata": {},
   "outputs": [],
   "source": [
    "import mechanicalsoup\n",
    "browser = mechanicalsoup.Browser()"
   ]
  },
  {
   "cell_type": "markdown",
   "id": "f482468a",
   "metadata": {},
   "source": [
    "Browser objects represent the headless web browser. You can use them to request a page from the Internet by passing a URL to their `.get()` method:"
   ]
  },
  {
   "cell_type": "code",
   "execution_count": 44,
   "id": "c6f5c6a3",
   "metadata": {},
   "outputs": [],
   "source": [
    "url = \"http://olympus.realpython.org/login\"\n",
    "page = browser.get(url)"
   ]
  },
  {
   "cell_type": "markdown",
   "id": "31e57da4",
   "metadata": {},
   "source": [
    "`page` is a Response object that stores the response from requesting the URL from the browser:"
   ]
  },
  {
   "cell_type": "code",
   "execution_count": 45,
   "id": "22b0dfd7",
   "metadata": {},
   "outputs": [
    {
     "data": {
      "text/plain": [
       "<Response [200]>"
      ]
     },
     "execution_count": 45,
     "metadata": {},
     "output_type": "execute_result"
    }
   ],
   "source": [
    "page"
   ]
  },
  {
   "cell_type": "markdown",
   "id": "95be206d",
   "metadata": {},
   "source": [
    "The number `200` represents the status code returned by the request. A status code of `200` means that the request was successful. An unsuccessful request might show a status code of `404` if the URL doesn’t exist or `500` if there’s a server error when making the request."
   ]
  },
  {
   "cell_type": "markdown",
   "id": "0b2ccfab",
   "metadata": {},
   "source": [
    "`MechanicalSoup` uses `BeautifulSoup` to parse the HTML from the `request`. `page` has a `.soup` attribute that represents a BeautifulSoup object:"
   ]
  },
  {
   "cell_type": "code",
   "execution_count": 46,
   "id": "52f9e6d8",
   "metadata": {},
   "outputs": [
    {
     "data": {
      "text/plain": [
       "bs4.BeautifulSoup"
      ]
     },
     "execution_count": 46,
     "metadata": {},
     "output_type": "execute_result"
    }
   ],
   "source": [
    "type(page.soup)"
   ]
  },
  {
   "cell_type": "markdown",
   "id": "97ff12ad",
   "metadata": {},
   "source": [
    "You can view the HTML by inspecting the .soup attribute:"
   ]
  },
  {
   "cell_type": "code",
   "execution_count": 47,
   "id": "16228321",
   "metadata": {},
   "outputs": [
    {
     "data": {
      "text/plain": [
       "<html>\n",
       "<head>\n",
       "<title>Log In</title>\n",
       "</head>\n",
       "<body bgcolor=\"yellow\">\n",
       "<center>\n",
       "<br/><br/>\n",
       "<h2>Please log in to access Mount Olympus:</h2>\n",
       "<br/><br/>\n",
       "<form action=\"/login\" method=\"post\" name=\"login\">\n",
       "Username: <input name=\"user\" type=\"text\"/><br/>\n",
       "Password: <input name=\"pwd\" type=\"password\"/><br/><br/>\n",
       "<input type=\"submit\" value=\"Submit\"/>\n",
       "</form>\n",
       "</center>\n",
       "</body>\n",
       "</html>"
      ]
     },
     "execution_count": 47,
     "metadata": {},
     "output_type": "execute_result"
    }
   ],
   "source": [
    "page.soup"
   ]
  },
  {
   "cell_type": "markdown",
   "id": "d612e7b5",
   "metadata": {},
   "source": [
    "Notice this page has a `<form>` on it with `<input>` elements for a `username` and a `password`."
   ]
  },
  {
   "cell_type": "markdown",
   "id": "03afe9c4",
   "metadata": {},
   "source": [
    "### Submit a Form With MechanicalSoup\n",
    "\n",
    "Open the `/login` page from the previous example in a browser and look at it yourself before moving on. Try typing in a random username and password combination. If you guess incorrectly, then the message `“Wrong username or password!”` is displayed at the bottom of the page."
   ]
  },
  {
   "cell_type": "markdown",
   "id": "09c3e57b",
   "metadata": {},
   "source": [
    "However, if you provide the correct login credentials (username zeus and password ThunderDude), then you’re redirected to the `/profiles` page."
   ]
  },
  {
   "cell_type": "markdown",
   "id": "75b235c1",
   "metadata": {},
   "source": [
    "In the next example, you’ll see how to use `MechanicalSoup` to fill out and submit this form using Python!"
   ]
  },
  {
   "cell_type": "markdown",
   "id": "fb81152b",
   "metadata": {},
   "source": [
    "The important section of HTML code is the login form—that is, everything inside the `<form>` tags. The `<form>` on this page has the name attribute set to login. This form contains two `<input>` elements, one named `user` and the other named `pwd`. The third `<input>` element is the `Submit` button."
   ]
  },
  {
   "cell_type": "markdown",
   "id": "ad124a49",
   "metadata": {},
   "source": [
    "Now that you know the underlying structure of the login form, as well as the credentials needed to log in, let’s take a look at a program. that fills the form out and submits it.\n",
    "\n",
    "In a new editor window, type in the following program:"
   ]
  },
  {
   "cell_type": "code",
   "execution_count": 48,
   "id": "9d5e57cd",
   "metadata": {},
   "outputs": [],
   "source": [
    "import mechanicalsoup\n",
    "\n",
    "# 1\n",
    "browser = mechanicalsoup.Browser()\n",
    "url = \"http://olympus.realpython.org/login\"\n",
    "login_page = browser.get(url)\n",
    "login_html = login_page.soup\n",
    "\n",
    "# 2\n",
    "form = login_html.select(\"form\")[0]\n",
    "form.select(\"input\")[0][\"value\"] = \"zeus\"\n",
    "form.select(\"input\")[1][\"value\"] = \"ThunderDude\"\n",
    "\n",
    "# 3\n",
    "profiles_page = browser.submit(form, login_page.url)"
   ]
  },
  {
   "cell_type": "markdown",
   "id": "78e731e0",
   "metadata": {},
   "source": [
    "You can confirm that you successfully logged in by typing the following into the interactive window:"
   ]
  },
  {
   "cell_type": "code",
   "execution_count": 49,
   "id": "e15e147a",
   "metadata": {},
   "outputs": [
    {
     "data": {
      "text/plain": [
       "'http://olympus.realpython.org/profiles'"
      ]
     },
     "execution_count": 49,
     "metadata": {},
     "output_type": "execute_result"
    }
   ],
   "source": [
    "profiles_page.url"
   ]
  },
  {
   "cell_type": "markdown",
   "id": "f08c48a1",
   "metadata": {},
   "source": [
    "Let’s break down the above example:\n",
    "\n",
    "1. You create a Browser instance and use it to request the URL http://olympus.realpython.org/login. You assign the HTML content of the page to the `login_html` variable using the `.soup` property.\n",
    "2. `login_html.select(\"form\")` returns a list of all `<form>` elements on the page. Since the page has only one `<form>` element, you can access the form by retrieving the element at index 0 of the list. The next two lines select the username and password inputs and set their value to \"zeus\" and \"ThunderDude\", respectively.\n",
    "3. You submit the form with `browser.submit()`. Notice that you pass two arguments to this method, the form object and the URL of the `login_page`, which you access via `login_page.url`."
   ]
  },
  {
   "cell_type": "markdown",
   "id": "b3a93a5f",
   "metadata": {},
   "source": [
    "In the interactive window, you confirm that the submission successfully redirected to the `/profiles` page. If something had gone wrong, then the value of `profiles_page.url` would still be \"http://olympus.realpython.org/login\".\n",
    "\n",
    "> Note: Hackers can use automated programs like the one above to brute force logins by rapidly trying many different usernames and passwords until they find a working combination.\n",
    ">\n",
    "> Besides this being highly illegal, almost all websites these days lock you out and report your IP address if they see you making too many failed requests, so don’t try it!"
   ]
  },
  {
   "cell_type": "markdown",
   "id": "2c51d55b",
   "metadata": {},
   "source": [
    "Now that we have the `profiles_page` variable set, let’s see how to programmatically obtain the URL for each link on the `/profiles` page."
   ]
  },
  {
   "cell_type": "markdown",
   "id": "b7713b00",
   "metadata": {},
   "source": [
    "To do this, you use `.select()` again, this time passing the string `\"a\"` to select all the `<a>` anchor elements on the page:"
   ]
  },
  {
   "cell_type": "code",
   "execution_count": 50,
   "id": "821170be",
   "metadata": {},
   "outputs": [],
   "source": [
    "links = profiles_page.soup.select(\"a\")"
   ]
  },
  {
   "cell_type": "markdown",
   "id": "0cf61198",
   "metadata": {},
   "source": [
    "Now you can iterate over each link and print the `href` attribute:"
   ]
  },
  {
   "cell_type": "code",
   "execution_count": 51,
   "id": "ef5b3965",
   "metadata": {},
   "outputs": [
    {
     "name": "stdout",
     "output_type": "stream",
     "text": [
      "Aphrodite: /profiles/aphrodite\n",
      "Poseidon: /profiles/poseidon\n",
      "Dionysus: /profiles/dionysus\n"
     ]
    }
   ],
   "source": [
    "for link in links:\n",
    "    address = link[\"href\"]\n",
    "    text = link.text\n",
    "    print(f\"{text}: {address}\")"
   ]
  },
  {
   "cell_type": "markdown",
   "id": "f1615547",
   "metadata": {},
   "source": [
    "The URLs contained in each href attribute are relative URLs, which aren’t very helpful if you want to navigate to them later using MechanicalSoup. If you happen to know the full URL, then you can assign the portion needed to construct a full URL."
   ]
  },
  {
   "cell_type": "markdown",
   "id": "6ac7213b",
   "metadata": {},
   "source": [
    "In this case, the base URL is just http://olympus.realpython.org. Then you can concatenate the base URL with the relative URLs found in the `src` attribute:"
   ]
  },
  {
   "cell_type": "code",
   "execution_count": 52,
   "id": "8e85d655",
   "metadata": {},
   "outputs": [
    {
     "name": "stdout",
     "output_type": "stream",
     "text": [
      "Aphrodite: http://olympus.realpython.org/profiles/aphrodite\n",
      "Poseidon: http://olympus.realpython.org/profiles/poseidon\n",
      "Dionysus: http://olympus.realpython.org/profiles/dionysus\n"
     ]
    }
   ],
   "source": [
    "base_url = \"http://olympus.realpython.org\"\n",
    "for link in links:\n",
    "    address = base_url + link[\"href\"]\n",
    "    text = link.text\n",
    "    print(f\"{text}: {address}\")"
   ]
  },
  {
   "cell_type": "markdown",
   "id": "5652b508",
   "metadata": {},
   "source": [
    "You can do a lot with just `.get()`, `.select()`, and `.submit()`. That said, MechanicalSoup is capable of much more. To learn more about MechanicalSoup, check out the [official docs](https://mechanicalsoup.readthedocs.io/en/stable/)."
   ]
  },
  {
   "cell_type": "markdown",
   "id": "455f1041",
   "metadata": {},
   "source": [
    "### Check Your Understanding 3\n",
    "\n",
    "Use MechanicalSoup to provide the correct username (zeus) and password (ThunderDude) to the login form located at the URL http://olympus.realpython.org/login.\n",
    "\n",
    "Once the form is submitted, display the title of the current page to determine that you’ve been redirected to the /profiles page.\n",
    "\n",
    "Your program should print the text `<title>All Profiles</title>`."
   ]
  },
  {
   "cell_type": "markdown",
   "id": "adc58687",
   "metadata": {},
   "source": [
    "## Interact With Websites in Real Time\n",
    "\n",
    "Sometimes you want to be able to fetch real-time data from a website that offers continually updated information."
   ]
  },
  {
   "cell_type": "markdown",
   "id": "7b5cfd64",
   "metadata": {},
   "source": [
    "In the dark days before you learned Python programming, you had to sit in front of a browser, clicking the Refresh button to reload the page each time you wanted to check if updated content was available. But now you can automate this process using the `.get()` method of the MechanicalSoup Browser object."
   ]
  },
  {
   "cell_type": "markdown",
   "id": "5a56f03e",
   "metadata": {},
   "source": [
    "Open your browser of choice and navigate to the URL http://olympus.realpython.org/dice. This `/dice` page simulates a roll of a six-sided die, updating the result each time you refresh the browser. Below, you’ll write a program that repeatedly scrapes the page for a new result."
   ]
  },
  {
   "cell_type": "markdown",
   "id": "356f39f9",
   "metadata": {},
   "source": [
    "The first thing you need to do is determine which element on the page contains the result of the die roll. Do this now by right-clicking anywhere on the page and selecting View page source. A little more than halfway down the HTML code is an `<h2>` tag that looks like this:\n",
    "\n",
    "```html\n",
    "<h2 id=\"result\">4</h2>\n",
    "```\n",
    "    \n",
    "The text of the `<h2>` tag might be different for you, but this is the page element you need for scraping the result.\n",
    "\n",
    "> Note: For this example, you can easily check that there’s only one element on the page with `id=\"result\"`. Although the `id` attribute is supposed to be unique, in practice you should always check that the element you’re interested in is uniquely identified.\n",
    "Let’s start by writing a simple program that opens the /dice page, scrapes the result, and prints it to the console:"
   ]
  },
  {
   "cell_type": "code",
   "execution_count": 53,
   "id": "f7d34ad8",
   "metadata": {},
   "outputs": [
    {
     "name": "stdout",
     "output_type": "stream",
     "text": [
      "The result of your dice roll is: 1\n"
     ]
    }
   ],
   "source": [
    "import mechanicalsoup\n",
    "\n",
    "browser = mechanicalsoup.Browser()\n",
    "page = browser.get(\"http://olympus.realpython.org/dice\")\n",
    "tag = page.soup.select(\"#result\")[0]\n",
    "result = tag.text\n",
    "\n",
    "print(f\"The result of your dice roll is: {result}\")"
   ]
  },
  {
   "cell_type": "markdown",
   "id": "af003ede",
   "metadata": {},
   "source": [
    "This example uses the BeautifulSoup object’s `.select()` method to find the element with `id=result`. The string `\"#result\"` that you pass to `.select()` uses the [CSS ID selector](https://developer.mozilla.org/en-US/docs/Web/CSS/ID_selectors) `#` to indicate that result is an id value."
   ]
  },
  {
   "cell_type": "markdown",
   "id": "900a7573",
   "metadata": {},
   "source": [
    "To periodically get a new result, you’ll need to create a loop that loads the page at each step. So everything below the line `browser = mechanicalsoup.Browser()` in the above code needs to go in the body of the loop."
   ]
  },
  {
   "cell_type": "markdown",
   "id": "438419a7",
   "metadata": {},
   "source": [
    "For this example, let’s get four rolls of the dice at ten-second intervals. To do that, the last line of your code needs to tell Python to pause running for ten seconds. You can do this with [sleep()](https://realpython.com/python-sleep/) from Python’s [time module](https://realpython.com/python-time-module/). sleep() takes a single argument that represents the amount of time to sleep in seconds.\n",
    "\n",
    "Here’s an example that illustrates how sleep() works:"
   ]
  },
  {
   "cell_type": "code",
   "execution_count": 54,
   "id": "e8bd5385",
   "metadata": {},
   "outputs": [
    {
     "name": "stdout",
     "output_type": "stream",
     "text": [
      "I'm about to wait for five seconds...\n",
      "Done waiting!\n"
     ]
    }
   ],
   "source": [
    "import time\n",
    "\n",
    "print(\"I'm about to wait for five seconds...\")\n",
    "time.sleep(5)\n",
    "print(\"Done waiting!\")"
   ]
  },
  {
   "cell_type": "markdown",
   "id": "cc2c9352",
   "metadata": {},
   "source": [
    "When you run this code, you’ll see that the \"Done waiting!\" message isn’t displayed until 5 seconds have passed from when the first `print()` function was executed."
   ]
  },
  {
   "cell_type": "markdown",
   "id": "1bf31629",
   "metadata": {},
   "source": [
    "For the die roll example, you’ll need to pass the number 10 to `sleep()`. Here’s the updated program:"
   ]
  },
  {
   "cell_type": "code",
   "execution_count": null,
   "id": "2c445989",
   "metadata": {},
   "outputs": [
    {
     "name": "stdout",
     "output_type": "stream",
     "text": [
      "The result of your dice roll is: 1\n",
      "The result of your dice roll is: 3\n",
      "The result of your dice roll is: 4\n"
     ]
    }
   ],
   "source": [
    "import time\n",
    "import mechanicalsoup\n",
    "\n",
    "browser = mechanicalsoup.Browser()\n",
    "\n",
    "for i in range(4):\n",
    "    page = browser.get(\"http://olympus.realpython.org/dice\")\n",
    "    tag = page.soup.select(\"#result\")[0]\n",
    "    result = tag.text\n",
    "    print(f\"The result of your dice roll is: {result}\")\n",
    "    time.sleep(10)\n",
    "    "
   ]
  },
  {
   "cell_type": "markdown",
   "id": "152488c4",
   "metadata": {},
   "source": [
    "When you run the program, you’ll immediately see the first result printed to the console. After ten seconds, the second result is displayed, then the third, and finally the fourth. What happens after the fourth result is printed?"
   ]
  },
  {
   "cell_type": "markdown",
   "id": "3b921fef",
   "metadata": {},
   "source": [
    "The program continues running for another ten seconds before it finally stops!"
   ]
  },
  {
   "cell_type": "markdown",
   "id": "07af94fe",
   "metadata": {},
   "source": [
    "Well, of course it does—that’s what you told it to do! But it’s kind of a waste of time. You can stop it from doing this by using an if statement to run `time.sleep()` for only the first three requests:"
   ]
  },
  {
   "cell_type": "code",
   "execution_count": null,
   "id": "ae8d32b8",
   "metadata": {},
   "outputs": [],
   "source": [
    "import time\n",
    "import mechanicalsoup\n",
    "\n",
    "browser = mechanicalsoup.Browser()\n",
    "\n",
    "for i in range(4):\n",
    "    page = browser.get(\"http://olympus.realpython.org/dice\")\n",
    "    tag = page.soup.select(\"#result\")[0]\n",
    "    result = tag.text\n",
    "    print(f\"The result of your dice roll is: {result}\")\n",
    "\n",
    "    # Wait 10 seconds if this isn't the last request\n",
    "    if i < 3:\n",
    "        time.sleep(10)"
   ]
  },
  {
   "cell_type": "markdown",
   "id": "7c0f3e81",
   "metadata": {},
   "source": [
    "With techniques like this, you can scrape data from websites that periodically update their data. However, you should be aware that requesting a page multiple times in rapid succession can be seen as suspicious, or even malicious, use of a website.\n",
    "\n",
    "> Important: Most websites publish a Terms of Use document. You can often find a link to it in the website’s footer.\n",
    ">\n",
    "> Always read this document before attempting to scrape data from a website. If you can’t find the Terms of Use, try to contact the website owner and ask them if they have any policies regarding request volume.\n",
    ">\n",
    "> Failure to comply with the Terms of Use could result in your IP being blocked, so be careful and be respectful!\n",
    "It’s even possible to crash a server with an excessive number of requests, so you can imagine that many websites are concerned about the volume of requests to their server! Always check the Terms of Use and be respectful when sending multiple requests to a website."
   ]
  },
  {
   "cell_type": "markdown",
   "id": "402290c9",
   "metadata": {},
   "source": [
    "## Conclusion\n",
    "\n",
    "Although it’s possible to parse data from the Web using tools in Python’s standard library, there are many tools on PyPI that can help simplify the process.\n",
    "\n",
    "In this tutorial, you learned how to:\n",
    "\n",
    "* Request a web page using Python’s built-in urllib module\n",
    "* Parse HTML using Beautiful Soup\n",
    "* Interact with web forms using MechanicalSoup\n",
    "* Repeatedly request data from a website to check for updates\n",
    "\n",
    "Writing automated web scraping programs is fun, and the Internet has no shortage of content that can lead to all sorts of exciting projects.\n",
    "\n",
    "Just remember, not everyone wants you pulling data from their web servers. Always check a website’s Terms of Use before you start scraping, and be respectful about how you time your web requests so that you don’t flood a server with traffic."
   ]
  },
  {
   "cell_type": "markdown",
   "id": "846902c2",
   "metadata": {},
   "source": [
    "## Additional Resources\n",
    "\n",
    "For more information on web scraping with Python, check out the following resources:\n",
    "\n",
    "* [Beautiful Soup: Build a Web Scraper With Python](https://realpython.com/beautiful-soup-web-scraper-python/)\n",
    "* [API Integration in Python](https://realpython.com/api-integration-in-python/)\n",
    "* [Python & APIs: A Winning Combo for Reading Public Data](https://realpython.com/python-api/)\n",
    "\n",
    "> Note: If you enjoyed what you learned in this sample from [Python Basics: A Practical Introduction to Python 3](https://realpython.com/products/python-basics-book/), then be sure to check out [the rest of the book](https://realpython.com/products/python-basics-book/)."
   ]
  },
  {
   "cell_type": "code",
   "execution_count": null,
   "id": "721be9a5",
   "metadata": {},
   "outputs": [],
   "source": []
  }
 ],
 "metadata": {
  "kernelspec": {
   "display_name": "Python 3 (ipykernel)",
   "language": "python",
   "name": "python3"
  },
  "language_info": {
   "codemirror_mode": {
    "name": "ipython",
    "version": 3
   },
   "file_extension": ".py",
   "mimetype": "text/x-python",
   "name": "python",
   "nbconvert_exporter": "python",
   "pygments_lexer": "ipython3",
   "version": "3.9.7"
  }
 },
 "nbformat": 4,
 "nbformat_minor": 5
}
