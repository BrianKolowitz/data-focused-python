{
 "cells": [
  {
   "cell_type": "markdown",
   "id": "294c4828-8665-4bfb-86f5-afd90dd8cfa5",
   "metadata": {},
   "source": [
    "# A Guide to Excel Spreadsheets in Python With openpyxl\n",
    "[Source](https://realpython.com/openpyxl-excel-spreadsheets-python/)\n",
    "\n",
    "Excel spreadsheets are one of those things you might have to deal with at some point. Either it’s because your boss loves them or because marketing needs them, you might have to learn how to work with spreadsheets, and that’s when knowing openpyxl comes in handy!\n",
    "\n",
    "Spreadsheets are a very intuitive and user-friendly way to manipulate large datasets without any prior technical background. That’s why they’re still so commonly used today.\n",
    "\n",
    "In this article, you’ll learn how to use openpyxl to:\n",
    "\n",
    "* Manipulate Excel spreadsheets with confidence\n",
    "* Extract information from spreadsheets\n",
    "* Create simple or more complex spreadsheets, including adding styles, charts, and so on"
   ]
  },
  {
   "cell_type": "markdown",
   "id": "46fd391c-d16f-4bbc-ab92-0485f673e9b9",
   "metadata": {},
   "source": [
    "## Practical Use Cases\n",
    "\n",
    "First things first, when would you need to use a package like openpyxl in a real-world scenario? You’ll see a few examples below, but really, there are hundreds of possible scenarios where this knowledge could come in handy.\n",
    "\n",
    "### Importing New Products Into a Database\n",
    "\n",
    "You are responsible for tech in an online store company, and your boss doesn’t want to pay for a cool and expensive CMS system.\n",
    "\n",
    "Every time they want to add new products to the online store, they come to you with an Excel spreadsheet with a few hundred rows and, for each of them, you have the product name, description, price, and so forth.\n",
    "\n",
    "Now, to import the data, you’ll have to iterate over each spreadsheet row and add each product to the online store.\n",
    "\n",
    "### Exporting Database Data Into a Spreadsheet\n",
    "\n",
    "Say you have a Database table where you record all your users’ information, including name, phone number, email address, and so forth.\n",
    "\n",
    "Now, the Marketing team wants to contact all users to give them some discounted offer or promotion. However, they don’t have access to the Database, or they don’t know how to use SQL to extract that information easily.\n",
    "\n",
    "What can you do to help? Well, you can make a quick script using openpyxl that iterates over every single User record and puts all the essential information into an Excel spreadsheet.\n",
    "\n",
    "That’s gonna earn you an extra slice of cake at your company’s next birthday party!\n",
    "\n",
    "### Appending Information to an Existing Spreadsheet\n",
    "\n",
    "You may also have to open a spreadsheet, read the information in it and, according to some business logic, append more data to it.\n",
    "\n",
    "For example, using the online store scenario again, say you get an Excel spreadsheet with a list of users and you need to append to each row the total amount they’ve spent in your store.\n",
    "\n",
    "This data is in the Database and, in order to do this, you have to read the spreadsheet, iterate through each row, fetch the total amount spent from the Database and then write back to the spreadsheet.\n",
    "\n",
    "Not a problem for openpyxl!"
   ]
  },
  {
   "cell_type": "markdown",
   "id": "8b8aa169-07f8-449f-87a4-647793215af3",
   "metadata": {},
   "source": [
    "## Learning Some Basic Excel Terminology\n",
    "Here’s a quick list of basic terms you’ll see when you’re working with Excel spreadsheets:\n",
    "\n",
    "| Term | Explanation |\n",
    "| --- | --- |\n",
    "| Spreadsheet or Workbook | A Spreadsheet is the main file you are creating or working with. |\n",
    "| Worksheet or Sheet | A Sheet is used to split different kinds of content within the same spreadsheet. A Spreadsheet can have one or more Sheets. |\n",
    "| Column | A Column is a vertical line, and it’s represented by an uppercase letter: A. |\n",
    "| Row | A Row is a horizontal line, and it’s represented by a number: 1. |\n",
    "| Cell | A Cell is a combination of Column and Row, represented by both an uppercase letter and a number: A1. |"
   ]
  },
  {
   "cell_type": "markdown",
   "id": "a65a7499-dcd5-4fb8-8b53-e84872775ffa",
   "metadata": {},
   "source": [
    "## Getting Started With openpyxl\n",
    "\n",
    "Now that you’re aware of the benefits of a tool like openpyxl, let’s get down to it and start by installing the package. For this tutorial, you should use Python 3.7 and openpyxl 2.6.2. To install the package, you can do the following:\n",
    "\n",
    "```python\n",
    "pip install openpyxl\n",
    "```"
   ]
  },
  {
   "cell_type": "markdown",
   "id": "3cf981bc-a802-42ba-b9d9-832142a02a20",
   "metadata": {},
   "source": [
    "After you install the package, you should be able to create a super simple spreadsheet with the following code:"
   ]
  },
  {
   "cell_type": "code",
   "execution_count": 81,
   "id": "21c87cfe-8133-4d86-a325-99dab0943318",
   "metadata": {},
   "outputs": [],
   "source": [
    "from openpyxl import Workbook\n",
    "\n",
    "workbook = Workbook()\n",
    "sheet = workbook.active\n",
    "\n",
    "sheet[\"A1\"] = \"hello\"\n",
    "sheet[\"B1\"] = \"world!\"\n",
    "\n",
    "workbook.save(filename=\"hello_world.xlsx\")"
   ]
  },
  {
   "cell_type": "markdown",
   "id": "9f68a1de-3a14-4d9c-900c-6f682e6af430",
   "metadata": {},
   "source": [
    "## A Simple Approach to Reading an Excel Spreadsheet\n",
    "\n",
    "Finally, let’s start reading some spreadsheets! To begin with, open our sample spreadsheet:"
   ]
  },
  {
   "cell_type": "code",
   "execution_count": 85,
   "id": "173b4555-9a8b-4672-8289-29810f5cc3d3",
   "metadata": {},
   "outputs": [
    {
     "data": {
      "text/plain": [
       "['Sheet1']"
      ]
     },
     "execution_count": 85,
     "metadata": {},
     "output_type": "execute_result"
    }
   ],
   "source": [
    "from openpyxl import load_workbook\n",
    "workbook = load_workbook(filename=\"sample.xlsx\")\n",
    "workbook.sheetnames"
   ]
  },
  {
   "cell_type": "code",
   "execution_count": 86,
   "id": "331ec219-ce90-4bd4-abef-4198bd8f6ba5",
   "metadata": {},
   "outputs": [
    {
     "data": {
      "text/plain": [
       "<Worksheet \"Sheet1\">"
      ]
     },
     "execution_count": 86,
     "metadata": {},
     "output_type": "execute_result"
    }
   ],
   "source": [
    "sheet = workbook.active\n",
    "sheet"
   ]
  },
  {
   "cell_type": "code",
   "execution_count": 87,
   "id": "27f18299-44a7-42f8-9115-9d5be2120ad1",
   "metadata": {},
   "outputs": [
    {
     "data": {
      "text/plain": [
       "'Sheet1'"
      ]
     },
     "execution_count": 87,
     "metadata": {},
     "output_type": "execute_result"
    }
   ],
   "source": [
    "sheet.title"
   ]
  },
  {
   "cell_type": "markdown",
   "id": "3806cafe-f4af-4f9b-b5da-d696c55da434",
   "metadata": {},
   "source": [
    "In the code above, you first open the spreadsheet sample.xlsx using load_workbook(), and then you can use workbook.sheetnames to see all the sheets you have available to work with. After that, workbook.active selects the first available sheet and, in this case, you can see that it selects Sheet 1 automatically. Using these methods is the default way of opening a spreadsheet, and you’ll see it many times during this tutorial."
   ]
  },
  {
   "cell_type": "markdown",
   "id": "43d1c885-a784-4c92-82fd-79ddc6dd8b03",
   "metadata": {},
   "source": [
    "Now, after opening a spreadsheet, you can easily retrieve data from it like this:"
   ]
  },
  {
   "cell_type": "code",
   "execution_count": 88,
   "id": "4bc660fd-b7fa-4072-81cb-a6697498a085",
   "metadata": {},
   "outputs": [
    {
     "data": {
      "text/plain": [
       "<Cell 'Sheet1'.A1>"
      ]
     },
     "execution_count": 88,
     "metadata": {},
     "output_type": "execute_result"
    }
   ],
   "source": [
    "sheet[\"A1\"]"
   ]
  },
  {
   "cell_type": "code",
   "execution_count": 89,
   "id": "b278a545-678b-4d90-9954-bde8da96db2a",
   "metadata": {},
   "outputs": [
    {
     "data": {
      "text/plain": [
       "'marketplace'"
      ]
     },
     "execution_count": 89,
     "metadata": {},
     "output_type": "execute_result"
    }
   ],
   "source": [
    "sheet[\"A1\"].value"
   ]
  },
  {
   "cell_type": "code",
   "execution_count": 90,
   "id": "55175ccf-324e-4413-91d2-2a5ca8372b18",
   "metadata": {},
   "outputs": [
    {
     "data": {
      "text/plain": [
       "\"G-Shock Men's Grey Sport Watch\""
      ]
     },
     "execution_count": 90,
     "metadata": {},
     "output_type": "execute_result"
    }
   ],
   "source": [
    "sheet[\"F10\"].value"
   ]
  },
  {
   "cell_type": "markdown",
   "id": "83b139d8-eff8-46f2-b387-de44ed600819",
   "metadata": {},
   "source": [
    "To return the actual value of a cell, you need to do .value. Otherwise, you’ll get the main Cell object. You can also use the method .cell() to retrieve a cell using index notation. Remember to add .value to get the actual value and not a Cell object:"
   ]
  },
  {
   "cell_type": "code",
   "execution_count": 91,
   "id": "9e25c502-0bdd-4fe8-83d0-77eb85869d36",
   "metadata": {},
   "outputs": [
    {
     "data": {
      "text/plain": [
       "<Cell 'Sheet1'.F10>"
      ]
     },
     "execution_count": 91,
     "metadata": {},
     "output_type": "execute_result"
    }
   ],
   "source": [
    "sheet.cell(row=10, column=6)"
   ]
  },
  {
   "cell_type": "code",
   "execution_count": 92,
   "id": "e85a9349-515b-4175-8653-068875ed3e5c",
   "metadata": {},
   "outputs": [
    {
     "data": {
      "text/plain": [
       "\"G-Shock Men's Grey Sport Watch\""
      ]
     },
     "execution_count": 92,
     "metadata": {},
     "output_type": "execute_result"
    }
   ],
   "source": [
    "sheet.cell(row=10, column=6).value"
   ]
  },
  {
   "cell_type": "markdown",
   "id": "54c21974-259c-4bb1-9ddd-24b0e540515c",
   "metadata": {},
   "source": [
    "You can see that the results returned are the same, no matter which way you decide to go with. However, in this tutorial, you’ll be mostly using the first approach: [\"A1\"].\n",
    "\n",
    "> Note: Even though in Python you’re used to a zero-indexed notation, with spreadsheets you’ll always use a one-indexed notation where the first row or column always has index 1.\n",
    "\n",
    "The above shows you the quickest way to open a spreadsheet. However, you can pass additional parameters to change the way a spreadsheet is loaded.**"
   ]
  },
  {
   "cell_type": "markdown",
   "id": "a5203ff6-1e97-4543-8587-07edde827f41",
   "metadata": {},
   "source": [
    "### Additional Reading Options\n",
    "\n",
    "There are a few arguments you can pass to load_workbook() that change the way a spreadsheet is loaded. The most important ones are the following two Booleans:\n",
    "\n",
    "1. `read_only` loads a spreadsheet in read-only mode allowing you to open very large Excel files.\n",
    "2. `data_only` ignores loading formulas and instead loads only the resulting values."
   ]
  },
  {
   "cell_type": "markdown",
   "id": "c277fa86-8fa4-4aa2-bf6b-353b98bd069a",
   "metadata": {},
   "source": [
    "## Importing Data From a Spreadsheet\n",
    "\n",
    "Now that you’ve learned the basics about loading a spreadsheet, it’s about time you get to the fun part: the iteration and actual usage of the values within the spreadsheet.\n",
    "\n",
    "This section is where you’ll learn all the different ways you can iterate through the data, but also how to convert that data into something usable and, more importantly, how to do it in a Pythonic way."
   ]
  },
  {
   "cell_type": "markdown",
   "id": "d7a949cb-b4db-4e19-afcf-74cf24ad5a0e",
   "metadata": {},
   "source": [
    "### Iterating Through the Data\n",
    "\n",
    "There are a few different ways you can iterate through the data depending on your needs.\n",
    "\n",
    "You can slice the data with a combination of columns and rows:"
   ]
  },
  {
   "cell_type": "code",
   "execution_count": 93,
   "id": "3790d00d-2262-4868-be5f-a8f49b499444",
   "metadata": {},
   "outputs": [
    {
     "data": {
      "text/plain": [
       "((<Cell 'Sheet1'.A1>, <Cell 'Sheet1'.B1>, <Cell 'Sheet1'.C1>),\n",
       " (<Cell 'Sheet1'.A2>, <Cell 'Sheet1'.B2>, <Cell 'Sheet1'.C2>))"
      ]
     },
     "execution_count": 93,
     "metadata": {},
     "output_type": "execute_result"
    }
   ],
   "source": [
    "sheet[\"A1:C2\"]"
   ]
  },
  {
   "cell_type": "code",
   "execution_count": 94,
   "id": "25d4c34f-0caa-43f7-bc6f-edb1e6321624",
   "metadata": {},
   "outputs": [
    {
     "name": "stdout",
     "output_type": "stream",
     "text": [
      "(<Cell 'Sheet1'.A1>, <Cell 'Sheet1'.A2>, <Cell 'Sheet1'.A3>, <Cell 'Sheet1'.A4>, <Cell 'Sheet1'.A5>, <Cell 'Sheet1'.A6>, <Cell 'Sheet1'.A7>, <Cell 'Sheet1'.A8>, <Cell 'Sheet1'.A9>, <Cell 'Sheet1'.A10>)\n"
     ]
    }
   ],
   "source": [
    "# Get all cells from column A\n",
    "cells = sheet[\"A\"]\n",
    "print(cells[:10])"
   ]
  },
  {
   "cell_type": "code",
   "execution_count": 95,
   "id": "30e48737-b849-4f0b-a1c7-c6054e8f930f",
   "metadata": {},
   "outputs": [],
   "source": [
    "# Get all cells for a range of columns\n",
    "cells = sheet[\"A:B\"]"
   ]
  },
  {
   "cell_type": "code",
   "execution_count": 96,
   "id": "3450fbf0-82cf-475f-9033-8ca428b5d44e",
   "metadata": {},
   "outputs": [
    {
     "data": {
      "text/plain": [
       "(<Cell 'Sheet1'.A5>,\n",
       " <Cell 'Sheet1'.B5>,\n",
       " <Cell 'Sheet1'.C5>,\n",
       " <Cell 'Sheet1'.D5>,\n",
       " <Cell 'Sheet1'.E5>,\n",
       " <Cell 'Sheet1'.F5>,\n",
       " <Cell 'Sheet1'.G5>,\n",
       " <Cell 'Sheet1'.H5>,\n",
       " <Cell 'Sheet1'.I5>,\n",
       " <Cell 'Sheet1'.J5>,\n",
       " <Cell 'Sheet1'.K5>,\n",
       " <Cell 'Sheet1'.L5>,\n",
       " <Cell 'Sheet1'.M5>,\n",
       " <Cell 'Sheet1'.N5>,\n",
       " <Cell 'Sheet1'.O5>)"
      ]
     },
     "execution_count": 96,
     "metadata": {},
     "output_type": "execute_result"
    }
   ],
   "source": [
    "# Get all cells from row 5\n",
    "sheet[5]"
   ]
  },
  {
   "cell_type": "code",
   "execution_count": 97,
   "id": "20756db4-02ab-4001-8ea5-4a7544e266db",
   "metadata": {},
   "outputs": [
    {
     "data": {
      "text/plain": [
       "((<Cell 'Sheet1'.A5>,\n",
       "  <Cell 'Sheet1'.B5>,\n",
       "  <Cell 'Sheet1'.C5>,\n",
       "  <Cell 'Sheet1'.D5>,\n",
       "  <Cell 'Sheet1'.E5>,\n",
       "  <Cell 'Sheet1'.F5>,\n",
       "  <Cell 'Sheet1'.G5>,\n",
       "  <Cell 'Sheet1'.H5>,\n",
       "  <Cell 'Sheet1'.I5>,\n",
       "  <Cell 'Sheet1'.J5>,\n",
       "  <Cell 'Sheet1'.K5>,\n",
       "  <Cell 'Sheet1'.L5>,\n",
       "  <Cell 'Sheet1'.M5>,\n",
       "  <Cell 'Sheet1'.N5>,\n",
       "  <Cell 'Sheet1'.O5>),\n",
       " (<Cell 'Sheet1'.A6>,\n",
       "  <Cell 'Sheet1'.B6>,\n",
       "  <Cell 'Sheet1'.C6>,\n",
       "  <Cell 'Sheet1'.D6>,\n",
       "  <Cell 'Sheet1'.E6>,\n",
       "  <Cell 'Sheet1'.F6>,\n",
       "  <Cell 'Sheet1'.G6>,\n",
       "  <Cell 'Sheet1'.H6>,\n",
       "  <Cell 'Sheet1'.I6>,\n",
       "  <Cell 'Sheet1'.J6>,\n",
       "  <Cell 'Sheet1'.K6>,\n",
       "  <Cell 'Sheet1'.L6>,\n",
       "  <Cell 'Sheet1'.M6>,\n",
       "  <Cell 'Sheet1'.N6>,\n",
       "  <Cell 'Sheet1'.O6>))"
      ]
     },
     "execution_count": 97,
     "metadata": {},
     "output_type": "execute_result"
    }
   ],
   "source": [
    "# Get all cells for a range of rows\n",
    "sheet[5:6]"
   ]
  },
  {
   "cell_type": "markdown",
   "id": "03ec697a-4818-4ca8-93b0-7c8ba5bbaa54",
   "metadata": {},
   "source": [
    "You’ll notice that all of the above examples return a tuple. If you want to refresh your memory on how to handle tuples in Python, check out the article on Lists and Tuples in Python.\n",
    "\n",
    "There are also multiple ways of using normal Python generators to go through the data. The main methods you can use to achieve this are:\n",
    "\n",
    "* `.iter_rows()`\n",
    "* `.iter_cols()`\n",
    "\n",
    "Both methods can receive the following arguments:\n",
    "\n",
    "* `min_row`\n",
    "* `max_row`\n",
    "* `min_col`\n",
    "* `max_col`"
   ]
  },
  {
   "cell_type": "markdown",
   "id": "dc1ffda6-22c3-4db7-9250-c1f3a49027de",
   "metadata": {},
   "source": [
    "These arguments are used to set boundaries for the iteration:"
   ]
  },
  {
   "cell_type": "code",
   "execution_count": 98,
   "id": "2967a687-0658-4a94-ac72-deee35418795",
   "metadata": {},
   "outputs": [
    {
     "name": "stdout",
     "output_type": "stream",
     "text": [
      "(<Cell 'Sheet1'.A1>, <Cell 'Sheet1'.B1>, <Cell 'Sheet1'.C1>)\n",
      "(<Cell 'Sheet1'.A2>, <Cell 'Sheet1'.B2>, <Cell 'Sheet1'.C2>)\n"
     ]
    }
   ],
   "source": [
    "for row in sheet.iter_rows(min_row=1,\n",
    "                           max_row=2,\n",
    "                           min_col=1,\n",
    "                           max_col=3):\n",
    "    print(row)"
   ]
  },
  {
   "cell_type": "code",
   "execution_count": 99,
   "id": "10856f56-81f0-46bb-94b2-5c89f6c9453e",
   "metadata": {},
   "outputs": [
    {
     "name": "stdout",
     "output_type": "stream",
     "text": [
      "(<Cell 'Sheet1'.A1>, <Cell 'Sheet1'.A2>)\n",
      "(<Cell 'Sheet1'.B1>, <Cell 'Sheet1'.B2>)\n",
      "(<Cell 'Sheet1'.C1>, <Cell 'Sheet1'.C2>)\n"
     ]
    }
   ],
   "source": [
    "for column in sheet.iter_cols(min_row=1,\n",
    "                              max_row=2,\n",
    "                              min_col=1,\n",
    "                              max_col=3):\n",
    "    print(column)"
   ]
  },
  {
   "cell_type": "markdown",
   "id": "9abe3357-b5c7-4d63-9358-5aeab6e44233",
   "metadata": {},
   "source": [
    "You’ll notice that in the first example, when iterating through the rows using .iter_rows(), you get one tuple element per row selected. While when using .iter_cols() and iterating through columns, you’ll get one tuple per column instead.\n",
    "\n",
    "One additional argument you can pass to both methods is the Boolean values_only. When it’s set to True, the values of the cell are returned, instead of the Cell object:"
   ]
  },
  {
   "cell_type": "code",
   "execution_count": 100,
   "id": "10388468-1db4-499d-ab9c-913891ca9a53",
   "metadata": {},
   "outputs": [
    {
     "name": "stdout",
     "output_type": "stream",
     "text": [
      "('marketplace', 'customer_id', 'review_id')\n",
      "('US', 3653882, 'R3O9SGZBVQBV76')\n"
     ]
    }
   ],
   "source": [
    "for value in sheet.iter_rows(min_row=1,\n",
    "                             max_row=2,\n",
    "                             min_col=1,\n",
    "                             max_col=3,\n",
    "                             values_only=True):\n",
    "    print(value)"
   ]
  },
  {
   "cell_type": "markdown",
   "id": "b75b7878-b771-4c02-b557-83b2dc7eef46",
   "metadata": {},
   "source": [
    "If you want to iterate through the whole dataset, then you can also use the attributes .rows or .columns directly, which are shortcuts to using .iter_rows() and .iter_cols() without any arguments:"
   ]
  },
  {
   "cell_type": "code",
   "execution_count": 101,
   "id": "a62d3e63-b664-43ae-a3c3-844e312df2a7",
   "metadata": {},
   "outputs": [
    {
     "name": "stdout",
     "output_type": "stream",
     "text": [
      "(<Cell 'Sheet1'.A1>, <Cell 'Sheet1'.B1>, <Cell 'Sheet1'.C1>, <Cell 'Sheet1'.D1>, <Cell 'Sheet1'.E1>, <Cell 'Sheet1'.F1>, <Cell 'Sheet1'.G1>, <Cell 'Sheet1'.H1>, <Cell 'Sheet1'.I1>, <Cell 'Sheet1'.J1>, <Cell 'Sheet1'.K1>, <Cell 'Sheet1'.L1>, <Cell 'Sheet1'.M1>, <Cell 'Sheet1'.N1>, <Cell 'Sheet1'.O1>)\n"
     ]
    }
   ],
   "source": [
    "for row in sheet.rows:\n",
    "    print(row)\n",
    "    break"
   ]
  },
  {
   "cell_type": "markdown",
   "id": "e7e5d8ce-9fd8-4c0a-8bca-fd4215627a68",
   "metadata": {},
   "source": [
    "## Manipulate Data Using Python’s Default Data Structures\n",
    "\n",
    "Now that you know the basics of iterating through the data in a workbook, let’s look at smart ways of converting that data into Python structures."
   ]
  },
  {
   "cell_type": "markdown",
   "id": "0f06dcff-f38b-4a3c-bbf4-51502fb73002",
   "metadata": {},
   "source": [
    "As you saw earlier, the result from all iterations comes in the form of tuples. However, since a tuple is nothing more than an immutable list, you can easily access its data and transform it into other structures."
   ]
  },
  {
   "cell_type": "markdown",
   "id": "4bae76d9-c8e3-48ae-8e05-146065ab7120",
   "metadata": {},
   "source": [
    "For example, say you want to extract product information from the sample.xlsx spreadsheet and into a dictionary where each key is a product ID."
   ]
  },
  {
   "cell_type": "markdown",
   "id": "e7b7fff8-c28d-4908-88c8-ed17bf49e025",
   "metadata": {},
   "source": [
    "A straightforward way to do this is to iterate over all the rows, pick the columns you know are related to product information, and then store that in a dictionary. Let’s code this out!"
   ]
  },
  {
   "cell_type": "markdown",
   "id": "bbb9d2b4-f20f-4bfe-bf53-e20111250375",
   "metadata": {},
   "source": [
    "First of all, have a look at the headers and see what information you care most about:"
   ]
  },
  {
   "cell_type": "code",
   "execution_count": 102,
   "id": "baed4d31-9b5b-49a5-afac-204455ddb7bf",
   "metadata": {},
   "outputs": [
    {
     "name": "stdout",
     "output_type": "stream",
     "text": [
      "('marketplace', 'customer_id', 'review_id', 'product_id', 'product_parent', 'product_title', 'product_category', 'star_rating', 'helpful_votes', 'total_votes', 'vine', 'verified_purchase', 'review_headline', 'review_body', 'review_date')\n"
     ]
    }
   ],
   "source": [
    "for value in sheet.iter_rows(min_row=1,\n",
    "                             max_row=1,\n",
    "                             values_only=True):\n",
    "    print(value)"
   ]
  },
  {
   "cell_type": "markdown",
   "id": "197475fe-c97a-46c3-a0bd-f300df429b93",
   "metadata": {},
   "source": [
    "This code returns a list of all the column names you have in the spreadsheet. To start, grab the columns with names:\n",
    "\n",
    "* product_id\n",
    "* product_parent\n",
    "* product_title\n",
    "* product_category"
   ]
  },
  {
   "cell_type": "markdown",
   "id": "8df8fab5-f802-41cb-b4f9-d52f3d290f1d",
   "metadata": {},
   "source": [
    "If the columns are next to each other so you can use the min_column and max_column to easily get the data you want:"
   ]
  },
  {
   "cell_type": "code",
   "execution_count": 103,
   "id": "3add52e7-4878-4aff-a79a-e523c193c9f0",
   "metadata": {},
   "outputs": [
    {
     "name": "stdout",
     "output_type": "stream",
     "text": [
      "('B00FALQ1ZC', 937001370, 'Invicta Women\\'s 15150 \"Angel\" 18k Yellow Gold Ion-Plated Stainless Steel and Brown Leather Watch', 'Watches')\n",
      "('B00D3RGO20', 484010722, \"Kenneth Cole New York Women's KC4944 Automatic Silver Automatic Mesh Bracelet Analog Watch\", 'Watches')\n",
      "('B00DKYC7TK', 361166390, 'Ritche 22mm Black Stainless Steel Bracelet Watch Band Strap Pebble Time/Pebble Classic', 'Watches')\n",
      "('B000EQS1JW', 958035625, \"Citizen Men's BM8180-03E Eco-Drive Stainless Steel Watch with Green Canvas Band\", 'Watches')\n",
      "('B00A6GFD7S', 765328221, \"Orient ER27009B Men's Symphony Automatic Stainless Steel Black Dial Mechanical Watch\", 'Watches')\n",
      "('B00EYSOSE8', 230493695, \"Casio Men's GW-9400BJ-1JF G-Shock Master of G Rangeman Digital Solar Black Carbon Fiber Insert Watch\", 'Watches')\n",
      "('B00WM0QA3M', 549298279, \"Fossil Women's ES3851 Urban Traveler Multifunction Stainless Steel Watch - Rose\", 'Watches')\n",
      "('B00A4EYBR0', 844009113, 'INFANTRY Mens Night Vision Analog Quartz Wrist Watch with Nato Nylon Watchband-Red.', 'Watches')\n",
      "('B00MAMPGGE', 263720892, \"G-Shock Men's Grey Sport Watch\", 'Watches')\n"
     ]
    }
   ],
   "source": [
    "for value in sheet.iter_rows(min_row=2,\n",
    "                             max_row=10,\n",
    "                             min_col=4,\n",
    "                             max_col=7,\n",
    "                             values_only=True):\n",
    "    print(value)"
   ]
  },
  {
   "cell_type": "code",
   "execution_count": 104,
   "id": "73efca0e-d548-432b-970b-29d1f8230f60",
   "metadata": {},
   "outputs": [],
   "source": [
    "import json\n",
    "from openpyxl import load_workbook\n",
    "\n",
    "workbook = load_workbook(filename=\"sample.xlsx\")\n",
    "sheet = workbook.active\n",
    "\n",
    "products = {}\n",
    "\n",
    "# Using the values_only because you want to return the cells' values\n",
    "for row in sheet.iter_rows(min_row=2,\n",
    "                           min_col=4,\n",
    "                           max_col=7,\n",
    "                           values_only=True):\n",
    "    product_id = row[0]\n",
    "    product = {\n",
    "        \"parent\": row[1],\n",
    "        \"title\": row[2],\n",
    "        \"category\": row[3]\n",
    "    }\n",
    "    products[product_id] = product"
   ]
  },
  {
   "cell_type": "code",
   "execution_count": 107,
   "id": "a831f8d0-017d-4908-aaad-41b9647ca2d0",
   "metadata": {},
   "outputs": [
    {
     "name": "stdout",
     "output_type": "stream",
     "text": [
      "{\"parent\": 937001370, \"title\": \"Invicta Women's 15150 \\\"Angel\\\" 18k Yellow Gold Ion-Plated Stainless Steel and Brown Leather Watch\", \"category\": \"Watches\"}\n"
     ]
    }
   ],
   "source": [
    "print(json.dumps(products[list(products.keys())[0]]))"
   ]
  },
  {
   "cell_type": "markdown",
   "id": "43be0fb7-0c95-4334-9769-99e222f4c285",
   "metadata": {},
   "source": [
    "## Convert Data Into Python Classes\n",
    "\n",
    "To finalize the reading section of this tutorial, let’s dive into Python classes and see how you could improve on the example above and better structure the data.\n",
    "\n",
    "For this, you’ll be using the new Python [Data Classes](https://realpython.com/python-data-classes/) that are available from Python 3.7. If you’re using an older version of Python, then you can use the default [Classes](https://realpython.com/python3-object-oriented-programming/#classes-in-python) instead.\n",
    "\n",
    "So, first things first, let’s look at the data you have and decide what you want to store and how you want to store it.\n",
    "\n",
    "As you saw right at the start, this data comes from Amazon, and it’s a list of product reviews. You can check the [list of all the columns and their meaning](https://s3.amazonaws.com/amazon-reviews-pds/tsv/index.txt) on Amazon."
   ]
  },
  {
   "cell_type": "markdown",
   "id": "81e94d88-7358-4081-82af-155431c0a85b",
   "metadata": {},
   "source": [
    "There are two significant elements you can extract from the data available:\n",
    "\n",
    "1. Products\n",
    "2. Reviews\n",
    "\n",
    "A **Product** has:\n",
    "\n",
    "* ID\n",
    "* Title\n",
    "* Parent\n",
    "* Category\n",
    "\n",
    "The **Review** has a few more fields:\n",
    "\n",
    "* ID\n",
    "* Customer ID\n",
    "* Stars\n",
    "* Headline\n",
    "* Body\n",
    "*  Date\n",
    "\n",
    "You can ignore a few of the review fields to make things a bit simpler."
   ]
  },
  {
   "cell_type": "markdown",
   "id": "8341c07c-d810-44dd-b1c5-f6f87a606f90",
   "metadata": {},
   "source": [
    "So, a straightforward implementation of these two classes could be written in a separate file classes.py:"
   ]
  },
  {
   "cell_type": "code",
   "execution_count": 108,
   "id": "1db843c5-f0ea-41ec-af26-88038411b3b3",
   "metadata": {},
   "outputs": [],
   "source": [
    "import datetime\n",
    "from dataclasses import dataclass\n",
    "\n",
    "@dataclass\n",
    "class Product:\n",
    "    id: str\n",
    "    parent: str\n",
    "    title: str\n",
    "    category: str\n",
    "\n",
    "@dataclass\n",
    "class Review:\n",
    "    id: str\n",
    "    customer_id: str\n",
    "    stars: int\n",
    "    headline: str\n",
    "    body: str\n",
    "    date: datetime.datetime"
   ]
  },
  {
   "cell_type": "markdown",
   "id": "96f7a207-5b9a-437e-b90b-0c1e683868ed",
   "metadata": {},
   "source": [
    "After defining your data classes, you need to convert the data from the spreadsheet into these new structures."
   ]
  },
  {
   "cell_type": "markdown",
   "id": "db812e8b-e64a-4f98-961f-2ad59bf12051",
   "metadata": {},
   "source": [
    "Before doing the conversion, it’s worth looking at our header again and creating a mapping between columns and the fields you need:"
   ]
  },
  {
   "cell_type": "code",
   "execution_count": 110,
   "id": "5424288e-a577-4b4a-9d69-0519a876337c",
   "metadata": {},
   "outputs": [
    {
     "name": "stdout",
     "output_type": "stream",
     "text": [
      "('marketplace', 'customer_id', 'review_id', 'product_id', 'product_parent', 'product_title', 'product_category', 'star_rating', 'helpful_votes', 'total_votes', 'vine', 'verified_purchase', 'review_headline', 'review_body', 'review_date')\n"
     ]
    }
   ],
   "source": [
    "for value in sheet.iter_rows(min_row=1,\n",
    "                             max_row=1,\n",
    "                             values_only=True):\n",
    "    print(value)"
   ]
  },
  {
   "cell_type": "code",
   "execution_count": 111,
   "id": "20c376f6-aef0-4783-a12a-6359a088c43a",
   "metadata": {},
   "outputs": [
    {
     "name": "stdout",
     "output_type": "stream",
     "text": [
      "marketplace\n",
      "customer_id\n",
      "review_id\n",
      "product_id\n",
      "product_parent\n",
      "product_title\n",
      "product_category\n",
      "star_rating\n",
      "helpful_votes\n",
      "total_votes\n",
      "vine\n",
      "verified_purchase\n",
      "review_headline\n",
      "review_body\n",
      "review_date\n"
     ]
    }
   ],
   "source": [
    "for cell in sheet[1]:\n",
    "    print(cell.value)"
   ]
  },
  {
   "cell_type": "markdown",
   "id": "ba45de9c-fefe-4b9d-a99b-0077cc0cd1b6",
   "metadata": {},
   "source": [
    "Let’s create a file mapping.py where you have a list of all the field names and their column location (zero-indexed) on the spreadsheet:"
   ]
  },
  {
   "cell_type": "code",
   "execution_count": 113,
   "id": "4f52abd8-28ea-4df0-a0f7-3aebd9d8e412",
   "metadata": {},
   "outputs": [],
   "source": [
    "# Product fields\n",
    "PRODUCT_ID = 3\n",
    "PRODUCT_PARENT = 4\n",
    "PRODUCT_TITLE = 5\n",
    "PRODUCT_CATEGORY = 6\n",
    "\n",
    "# Review fields\n",
    "REVIEW_ID = 2\n",
    "REVIEW_CUSTOMER = 1\n",
    "REVIEW_STARS = 7\n",
    "REVIEW_HEADLINE = 12\n",
    "REVIEW_BODY = 13\n",
    "REVIEW_DATE = 14"
   ]
  },
  {
   "cell_type": "markdown",
   "id": "8ba8843b-1dde-4fb2-914e-e8ef9f2b15f7",
   "metadata": {},
   "source": [
    "You don’t necessarily have to do the mapping above. It’s more for readability when parsing the row data, so you don’t end up with a lot of magic numbers lying around.\n",
    "\n",
    "Finally, let’s look at the code needed to parse the spreadsheet data into a list of product and review objects:"
   ]
  },
  {
   "cell_type": "code",
   "execution_count": 115,
   "id": "8884426f-e5a3-4202-859c-eaa626b0dfe3",
   "metadata": {},
   "outputs": [
    {
     "name": "stdout",
     "output_type": "stream",
     "text": [
      "Product(id='B00FALQ1ZC', parent=937001370, title='Invicta Women\\'s 15150 \"Angel\" 18k Yellow Gold Ion-Plated Stainless Steel and Brown Leather Watch', category='Watches')\n",
      "Review(id='R3O9SGZBVQBV76', customer_id=3653882, stars=5, headline='Five Stars', body='Absolutely love this watch! Get compliments almost every time I wear it. Dainty.', date=datetime.datetime(2015, 8, 31, 0, 0))\n"
     ]
    }
   ],
   "source": [
    "from datetime import datetime\n",
    "from openpyxl import load_workbook\n",
    "from classes import Product, Review\n",
    "from mapping import PRODUCT_ID, PRODUCT_PARENT, PRODUCT_TITLE, \\\n",
    "    PRODUCT_CATEGORY, REVIEW_DATE, REVIEW_ID, REVIEW_CUSTOMER, \\\n",
    "    REVIEW_STARS, REVIEW_HEADLINE, REVIEW_BODY\n",
    "\n",
    "# Using the read_only method since you're not gonna be editing the spreadsheet\n",
    "workbook = load_workbook(filename=\"sample.xlsx\", read_only=True)\n",
    "sheet = workbook.active\n",
    "\n",
    "products = []\n",
    "reviews = []\n",
    "\n",
    "# Using the values_only because you just want to return the cell value\n",
    "for row in sheet.iter_rows(min_row=2, values_only=True):\n",
    "    product = Product(id=row[PRODUCT_ID],\n",
    "                      parent=row[PRODUCT_PARENT],\n",
    "                      title=row[PRODUCT_TITLE],\n",
    "                      category=row[PRODUCT_CATEGORY])\n",
    "    products.append(product)\n",
    "\n",
    "    # You need to parse the date from the spreadsheet into a datetime format\n",
    "    spread_date = row[REVIEW_DATE]\n",
    "    parsed_date = datetime.strptime(spread_date, \"%Y-%m-%d\")\n",
    "\n",
    "    review = Review(id=row[REVIEW_ID],\n",
    "                    customer_id=row[REVIEW_CUSTOMER],\n",
    "                    stars=row[REVIEW_STARS],\n",
    "                    headline=row[REVIEW_HEADLINE],\n",
    "                    body=row[REVIEW_BODY],\n",
    "                    date=parsed_date)\n",
    "    reviews.append(review)\n",
    "\n",
    "print(products[0])\n",
    "print(reviews[0])"
   ]
  },
  {
   "cell_type": "markdown",
   "id": "79cc61ea-7614-4e9c-bc44-85c4db53766f",
   "metadata": {},
   "source": [
    "That’s it! Now you should have the data in a very simple and digestible class format, and you can start thinking of storing this in a Database or any other type of data storage you like.\n",
    "\n",
    "Using this kind of OOP strategy to parse spreadsheets makes handling the data much simpler later on."
   ]
  },
  {
   "cell_type": "markdown",
   "id": "099b2a43-89ee-4703-8b17-9ae853974afa",
   "metadata": {},
   "source": [
    "## Appending New Data\n",
    "\n",
    "Before you start creating very complex spreadsheets, have a quick look at an example of how to append data to an existing spreadsheet.\n",
    "\n",
    "Go back to the first example spreadsheet you created (hello_world.xlsx) and try opening it and appending some data to it, like this:"
   ]
  },
  {
   "cell_type": "code",
   "execution_count": 116,
   "id": "0e3dc16c-291d-4052-89a4-333cbdb37f6c",
   "metadata": {},
   "outputs": [],
   "source": [
    "from openpyxl import load_workbook\n",
    "\n",
    "# Start by opening the spreadsheet and selecting the main sheet\n",
    "workbook = load_workbook(filename=\"hello_world.xlsx\")\n",
    "sheet = workbook.active\n",
    "\n",
    "# Write what you want into a specific cell\n",
    "sheet[\"C1\"] = \"writing ;)\"\n",
    "\n",
    "# Save the spreadsheet\n",
    "workbook.save(filename=\"hello_world_append.xlsx\")"
   ]
  },
  {
   "cell_type": "markdown",
   "id": "9b54d922-dd7e-4e09-a8a8-14bb49d4395b",
   "metadata": {},
   "source": [
    "## Writing Excel Spreadsheets With openpyxl\n",
    "\n",
    "There are a lot of different things you can write to a spreadsheet, from simple text or number values to complex formulas, charts, or even images.\n",
    "\n",
    "Let’s start creating some spreadsheets!"
   ]
  },
  {
   "cell_type": "markdown",
   "id": "f9c13daf-1240-4494-9c46-cacf04ddba59",
   "metadata": {},
   "source": [
    "### Creating a Simple Spreadsheet\n",
    "\n",
    "Previously, you saw a very quick example of how to write “Hello world!” into a spreadsheet, so you can start with that:"
   ]
  },
  {
   "cell_type": "code",
   "execution_count": 117,
   "id": "6b47cdbd-b4df-4356-92cf-1b7fc9988eb1",
   "metadata": {},
   "outputs": [],
   "source": [
    "from openpyxl import Workbook\n",
    "\n",
    "filename = \"hello_world.xlsx\"\n",
    "\n",
    "workbook = Workbook()\n",
    "sheet = workbook.active\n",
    "\n",
    "sheet[\"A1\"] = \"hello\"\n",
    "sheet[\"B1\"] = \"world!\"\n",
    "\n",
    "workbook.save(filename=filename)"
   ]
  },
  {
   "cell_type": "markdown",
   "id": "2b1c707a-ebc5-4c8e-a841-4395d2a85fcd",
   "metadata": {},
   "source": [
    "The highlighted lines in the code above are the most important ones for writing. In the code, you can see that:\n",
    "\n",
    "* Line 5 shows you how to create a new empty workbook.\n",
    "* Lines 8 and 9 show you how to add data to specific cells.\n",
    "* Line 11 shows you how to save the spreadsheet when you’re done.\n",
    "\n",
    "Even though these lines above can be straightforward, it’s still good to know them well for when things get a bit more complicated.\n",
    "\n",
    "> Note: You’ll be using the hello_world.xlsx spreadsheet for some of the upcoming examples, so keep it handy."
   ]
  },
  {
   "cell_type": "markdown",
   "id": "7ac328dd-f5d4-45b8-8314-78b980af9431",
   "metadata": {},
   "source": [
    "## Conclusion\n",
    "\n",
    "There's so much more the openpyxl library can do. To learn more visit the developer [documentation](https://openpyxl.readthedocs.io/en/stable/) or continue the learning [here](https://realpython.com/openpyxl-excel-spreadsheets-python/#reading-excel-spreadsheets-with-openpyxl)"
   ]
  },
  {
   "cell_type": "code",
   "execution_count": null,
   "id": "70928abd-e7fd-473c-97f0-b0a0e1ca5ae5",
   "metadata": {},
   "outputs": [],
   "source": []
  }
 ],
 "metadata": {
  "kernelspec": {
   "display_name": "Python 3 (ipykernel)",
   "language": "python",
   "name": "python3"
  },
  "language_info": {
   "codemirror_mode": {
    "name": "ipython",
    "version": 3
   },
   "file_extension": ".py",
   "mimetype": "text/x-python",
   "name": "python",
   "nbconvert_exporter": "python",
   "pygments_lexer": "ipython3",
   "version": "3.9.7"
  }
 },
 "nbformat": 4,
 "nbformat_minor": 5
}
