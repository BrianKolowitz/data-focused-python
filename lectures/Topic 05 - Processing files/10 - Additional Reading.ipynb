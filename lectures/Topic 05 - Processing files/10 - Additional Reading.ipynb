{
 "cells": [
  {
   "cell_type": "markdown",
   "id": "37f280b6-2458-44ac-b287-b83ef11fc2c6",
   "metadata": {},
   "source": [
    "# Additional Reading\n",
    "\n",
    "* [Working with CSV Files and JSON Data](https://automatetheboringstuff.com/2e/chapter16/)\n",
    "* [Organizing Files](https://automatetheboringstuff.com/2e/chapter10/)\n",
    "* [Working with Excel Spreadsheets](https://automatetheboringstuff.com/2e/chapter13/)\n",
    "* [Working with PDF and Word Documents](https://automatetheboringstuff.com/2e/chapter15/)\n",
    "* [Reading and Editing PDF’s and Word Documents From Python](https://www.datacamp.com/community/tutorials/reading-and-editing-pdfs-and-word-documents-from-python)"
   ]
  },
  {
   "cell_type": "code",
   "execution_count": null,
   "id": "61d821e8-3dea-45b5-8af8-b630998ff867",
   "metadata": {},
   "outputs": [],
   "source": []
  }
 ],
 "metadata": {
  "kernelspec": {
   "display_name": "Python 3 (ipykernel)",
   "language": "python",
   "name": "python3"
  },
  "language_info": {
   "codemirror_mode": {
    "name": "ipython",
    "version": 3
   },
   "file_extension": ".py",
   "mimetype": "text/x-python",
   "name": "python",
   "nbconvert_exporter": "python",
   "pygments_lexer": "ipython3",
   "version": "3.9.7"
  }
 },
 "nbformat": 4,
 "nbformat_minor": 5
}
