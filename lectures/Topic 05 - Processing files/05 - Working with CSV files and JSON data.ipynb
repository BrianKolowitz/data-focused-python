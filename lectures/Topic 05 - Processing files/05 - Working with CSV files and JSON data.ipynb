{
 "cells": [
  {
   "cell_type": "markdown",
   "id": "f31b8a8f-de78-47be-b19c-2d10e4dbcba7",
   "metadata": {},
   "source": [
    "# Working with CSV files and JSON data\n",
    "[Source](https://automatetheboringstuff.com/2e/chapter16/)"
   ]
  },
  {
   "cell_type": "markdown",
   "id": "496e0255-eeb5-43fb-91bf-f8fa5bb09f3b",
   "metadata": {},
   "source": [
    "## The CSV Module"
   ]
  },
  {
   "cell_type": "code",
   "execution_count": 55,
   "id": "201b2152-d73b-449f-9846-cdb4f0274d07",
   "metadata": {},
   "outputs": [],
   "source": [
    "import csv"
   ]
  },
  {
   "cell_type": "code",
   "execution_count": 63,
   "id": "ed26f758-a3dd-425e-a5f9-d1596a097a9f",
   "metadata": {},
   "outputs": [],
   "source": [
    "exampleFile = open('../automate_online-materials/example.csv')"
   ]
  },
  {
   "cell_type": "markdown",
   "id": "74350018-295d-4f13-a9f0-1e8644c7bded",
   "metadata": {},
   "source": [
    "## reader Objects"
   ]
  },
  {
   "cell_type": "code",
   "execution_count": 64,
   "id": "71d37ec3-a9a3-42ad-b078-5a113f2a39b0",
   "metadata": {},
   "outputs": [],
   "source": [
    "exampleReader = csv.reader(exampleFile)"
   ]
  },
  {
   "cell_type": "code",
   "execution_count": 65,
   "id": "b4f6a63d-86dd-468f-ba0d-78546d7c1d46",
   "metadata": {},
   "outputs": [],
   "source": [
    "exampleData = list(exampleReader)"
   ]
  },
  {
   "cell_type": "code",
   "execution_count": 67,
   "id": "b35fb7fd-b2b9-4fe9-8014-911319b18a28",
   "metadata": {},
   "outputs": [
    {
     "data": {
      "text/plain": [
       "[['4/5/2014 13:34', 'Apples', '73'],\n",
       " ['4/5/2014 3:41', 'Cherries', '85'],\n",
       " ['4/6/2014 12:46', 'Pears', '14'],\n",
       " ['4/8/2014 8:59', 'Oranges', '52'],\n",
       " ['4/10/2014 2:07', 'Apples', '152'],\n",
       " ['4/10/2014 18:10', 'Bananas', '23'],\n",
       " ['4/10/2014 2:40', 'Strawberries', '98']]"
      ]
     },
     "execution_count": 67,
     "metadata": {},
     "output_type": "execute_result"
    }
   ],
   "source": [
    "exampleData"
   ]
  },
  {
   "cell_type": "code",
   "execution_count": 72,
   "id": "308bd326-3a88-4805-9d04-732a3219d547",
   "metadata": {},
   "outputs": [
    {
     "data": {
      "text/plain": [
       "'Pears'"
      ]
     },
     "execution_count": 72,
     "metadata": {},
     "output_type": "execute_result"
    }
   ],
   "source": [
    "exampleData[2][1]"
   ]
  },
  {
   "cell_type": "code",
   "execution_count": 79,
   "id": "19d2d217-0bfa-4de6-871a-aefd45d97466",
   "metadata": {},
   "outputs": [
    {
     "name": "stdout",
     "output_type": "stream",
     "text": [
      "[['4/5/2014 13:34', 'Apples', '73\\n'], ['4/5/2014 3:41', 'Cherries', '85\\n'], ['4/6/2014 12:46', 'Pears', '14\\n'], ['4/8/2014 8:59', 'Oranges', '52\\n'], ['4/10/2014 2:07', 'Apples', '152\\n'], ['4/10/2014 18:10', 'Bananas', '23\\n'], ['4/10/2014 2:40', 'Strawberries', '98\\n']]\n"
     ]
    }
   ],
   "source": [
    "with open('../automate_online-materials/example.csv', 'r') as f:\n",
    "    lines = []\n",
    "    for row in f:\n",
    "        cols = row.split(',')\n",
    "        lines.append(cols)\n",
    "print(lines)"
   ]
  },
  {
   "cell_type": "code",
   "execution_count": 12,
   "id": "1dfdd857-e2ee-4dfb-b5c3-14920ab75ed0",
   "metadata": {},
   "outputs": [
    {
     "data": {
      "text/plain": [
       "'Apples'"
      ]
     },
     "execution_count": 12,
     "metadata": {},
     "output_type": "execute_result"
    }
   ],
   "source": [
    "exampleData[0][1]"
   ]
  },
  {
   "cell_type": "markdown",
   "id": "717c8e5c-c035-4f21-a440-dc5eff7f0286",
   "metadata": {},
   "source": [
    "### Reading data from reader Objects in a for Loop"
   ]
  },
  {
   "cell_type": "code",
   "execution_count": 80,
   "id": "6125a5bd-3c3a-45ef-8b23-81da5a633be5",
   "metadata": {},
   "outputs": [],
   "source": [
    "exampleReader = csv.reader(exampleFile)"
   ]
  },
  {
   "cell_type": "code",
   "execution_count": 81,
   "id": "34ee1999-6aff-47c8-8d80-3c51c9d684ef",
   "metadata": {},
   "outputs": [],
   "source": [
    "for row in exampleReader:\n",
    "    print(f\"Row #{exampleReader.line_num} {row}\")"
   ]
  },
  {
   "cell_type": "markdown",
   "id": "8334e472-2288-48ae-9f93-c9c06572cd17",
   "metadata": {},
   "source": [
    "## writer Objects"
   ]
  },
  {
   "cell_type": "code",
   "execution_count": 94,
   "id": "d6284079-e3a9-4abf-a9b1-e78158c49c66",
   "metadata": {},
   "outputs": [],
   "source": [
    "outputFile = open('output.csv', 'w', newline='')"
   ]
  },
  {
   "cell_type": "code",
   "execution_count": 95,
   "id": "67eb2aa3-e8a8-44f2-bef3-dec1354498ed",
   "metadata": {},
   "outputs": [],
   "source": [
    "outputWriter = csv.writer(outputFile)"
   ]
  },
  {
   "cell_type": "code",
   "execution_count": 99,
   "id": "daaec883-927d-434b-be4f-c8817918e95d",
   "metadata": {},
   "outputs": [
    {
     "data": {
      "text/plain": [
       "\u001b[0;31mSignature:\u001b[0m \u001b[0moutputFile\u001b[0m\u001b[0;34m.\u001b[0m\u001b[0mwrite\u001b[0m\u001b[0;34m(\u001b[0m\u001b[0mtext\u001b[0m\u001b[0;34m,\u001b[0m \u001b[0;34m/\u001b[0m\u001b[0;34m)\u001b[0m\u001b[0;34m\u001b[0m\u001b[0;34m\u001b[0m\u001b[0m\n",
       "\u001b[0;31mDocstring:\u001b[0m\n",
       "Write string to stream.\n",
       "Returns the number of characters written (which is always equal to\n",
       "the length of the string).\n",
       "\u001b[0;31mType:\u001b[0m      builtin_function_or_method\n"
      ]
     },
     "metadata": {},
     "output_type": "display_data"
    }
   ],
   "source": [
    "outputFile.write?"
   ]
  },
  {
   "cell_type": "code",
   "execution_count": 100,
   "id": "f7a318db-d919-432a-b324-2fb58fc8fab7",
   "metadata": {},
   "outputs": [
    {
     "data": {
      "text/plain": [
       "9"
      ]
     },
     "execution_count": 100,
     "metadata": {},
     "output_type": "execute_result"
    }
   ],
   "source": [
    "outputWriter.writerow('spam')"
   ]
  },
  {
   "cell_type": "code",
   "execution_count": 101,
   "id": "e999fda3-bbc4-431d-93d1-c4a62a3c97d1",
   "metadata": {},
   "outputs": [
    {
     "data": {
      "text/plain": [
       "21"
      ]
     },
     "execution_count": 101,
     "metadata": {},
     "output_type": "execute_result"
    }
   ],
   "source": [
    "outputWriter.writerow(['spam', 'eggs', 'bacon', 'ham'])"
   ]
  },
  {
   "cell_type": "code",
   "execution_count": 102,
   "id": "d092e514-8667-41fe-8798-aa90ffdf6ef1",
   "metadata": {},
   "outputs": [
    {
     "data": {
      "text/plain": [
       "32"
      ]
     },
     "execution_count": 102,
     "metadata": {},
     "output_type": "execute_result"
    }
   ],
   "source": [
    "outputWriter.writerow(['Hello, world!', 'eggs', 'bacon', 'ham'])"
   ]
  },
  {
   "cell_type": "code",
   "execution_count": 103,
   "id": "1eedd8be-54f8-48ec-a810-3c96cf2e1872",
   "metadata": {},
   "outputs": [],
   "source": [
    "outputFile.close()"
   ]
  },
  {
   "cell_type": "code",
   "execution_count": 104,
   "id": "3c56dc1e-dbfe-456d-9eef-ebbdec921fff",
   "metadata": {},
   "outputs": [
    {
     "name": "stdout",
     "output_type": "stream",
     "text": [
      "s,p,a,m\n",
      "s,p,a,m\n",
      "spam,eggs,bacon,ham\n",
      "\"Hello, world!\",eggs,bacon,ham\n"
     ]
    }
   ],
   "source": [
    "!cat output.csv"
   ]
  },
  {
   "cell_type": "markdown",
   "id": "5f0216d2-cd6b-47a8-af6c-0f9aff17e813",
   "metadata": {},
   "source": [
    "### The delimiter and lineterminator Keyword Arguments"
   ]
  },
  {
   "cell_type": "code",
   "execution_count": 105,
   "id": "d299b622-a593-48a4-acea-5a4b84c13b96",
   "metadata": {},
   "outputs": [],
   "source": [
    "csvFile = open('example.tsv', 'w', newline='')"
   ]
  },
  {
   "cell_type": "code",
   "execution_count": 106,
   "id": "dc9bf2c8-1496-4720-9069-f373d134d774",
   "metadata": {},
   "outputs": [],
   "source": [
    "csvWriter = csv.writer(csvFile, delimiter='\\t', lineterminator='\\n\\n')"
   ]
  },
  {
   "cell_type": "code",
   "execution_count": 107,
   "id": "1a526769-9adc-4fd4-8d4c-f35dbd01009a",
   "metadata": {},
   "outputs": [
    {
     "data": {
      "text/plain": [
       "23"
      ]
     },
     "execution_count": 107,
     "metadata": {},
     "output_type": "execute_result"
    }
   ],
   "source": [
    "csvWriter.writerow(['apples', 'oranges', 'grapes'])"
   ]
  },
  {
   "cell_type": "code",
   "execution_count": 108,
   "id": "b2c0314f-e20c-43d5-a667-5a283a6a1def",
   "metadata": {},
   "outputs": [
    {
     "data": {
      "text/plain": [
       "16"
      ]
     },
     "execution_count": 108,
     "metadata": {},
     "output_type": "execute_result"
    }
   ],
   "source": [
    "csvWriter.writerow(['eggs', 'bacon', 'ham'])"
   ]
  },
  {
   "cell_type": "code",
   "execution_count": 109,
   "id": "4ad31fb5-efc7-43f5-8805-4503f3bde1a5",
   "metadata": {},
   "outputs": [],
   "source": [
    "outputFile.close()"
   ]
  },
  {
   "cell_type": "code",
   "execution_count": 110,
   "id": "dfde26f3-1a99-42c2-b3ef-8451bf6b086f",
   "metadata": {},
   "outputs": [
    {
     "name": "stdout",
     "output_type": "stream",
     "text": [
      "apples\toranges\tgrapes\n",
      "\n",
      "eggs\tbacon\tham\n",
      "\n"
     ]
    }
   ],
   "source": [
    "!cat example.tsv"
   ]
  },
  {
   "cell_type": "markdown",
   "id": "1aa66606-dabb-4109-aa8c-2a651d7a33ac",
   "metadata": {},
   "source": [
    "## DictReader and DictWriter CSV Objects\n"
   ]
  },
  {
   "cell_type": "code",
   "execution_count": 125,
   "id": "ee5ccc44-ef93-47b5-be87-6708d2c456e4",
   "metadata": {},
   "outputs": [],
   "source": [
    "exampleFile = open('../automate_online-materials/exampleWithHeader.csv')"
   ]
  },
  {
   "cell_type": "code",
   "execution_count": 126,
   "id": "ef3f9c80-c3b6-40e1-b07c-56cf5ec28c4f",
   "metadata": {},
   "outputs": [],
   "source": [
    "exampleDictReader = csv.DictReader(exampleFile)"
   ]
  },
  {
   "cell_type": "code",
   "execution_count": 127,
   "id": "e680786a-c59a-41b5-9ac7-f54e11eb495a",
   "metadata": {},
   "outputs": [
    {
     "name": "stdout",
     "output_type": "stream",
     "text": [
      "4/5/2014 13:34 Apples 73\n",
      "4/5/2014 3:41 Cherries 85\n",
      "4/6/2014 12:46 Pears 14\n",
      "4/8/2014 8:59 Oranges 52\n",
      "4/10/2014 2:07 Apples 152\n",
      "4/10/2014 18:10 Bananas 23\n",
      "4/10/2014 2:40 Strawberries 98\n"
     ]
    }
   ],
   "source": [
    "for row in exampleDictReader:\n",
    "    print(row['Timestamp'], row['Fruit'], row['Quantity'])"
   ]
  },
  {
   "cell_type": "markdown",
   "id": "62703040-6c14-4335-9047-66b6dbb53284",
   "metadata": {},
   "source": [
    "If you tried to use DictReader objects with example.csv, which doesn’t have column headers in the first row, the DictReader object would use '4/5/2015 13:34', 'Apples', and '73' as the dictionary keys. To avoid this, you can supply the DictReader() function with a second argument containing made-up header names:"
   ]
  },
  {
   "cell_type": "code",
   "execution_count": 135,
   "id": "a3ada9cd-4cab-4fc3-9ef8-2e9711b72c31",
   "metadata": {},
   "outputs": [
    {
     "name": "stdout",
     "output_type": "stream",
     "text": [
      "Apples\n",
      "Cherries\n",
      "Pears\n",
      "Oranges\n",
      "Apples\n",
      "Bananas\n",
      "Strawberries\n"
     ]
    }
   ],
   "source": [
    "exampleFile = open('../automate_online-materials/example.csv')\n",
    "exampleDictReader = csv.DictReader(exampleFile, ['time', 'name', 'amount'])\n",
    "for row in exampleDictReader:\n",
    "    # print(row['time'], row['name'], row['amount'])\n",
    "    print(row['name'])"
   ]
  },
  {
   "cell_type": "markdown",
   "id": "e26d563d-1778-49dd-b49a-840aff733f42",
   "metadata": {},
   "source": [
    "DictWriter objects use dictionaries to create CSV files."
   ]
  },
  {
   "cell_type": "code",
   "execution_count": 129,
   "id": "ac3853cd-2b87-4ffc-9a74-bcaed47ca7cf",
   "metadata": {},
   "outputs": [],
   "source": [
    "outputFile = open('output.csv', 'w', newline='')\n",
    "outputDictWriter = csv.DictWriter(outputFile, ['Name', 'Pet', 'Phone'])"
   ]
  },
  {
   "cell_type": "code",
   "execution_count": 130,
   "id": "34da937e-5c62-4fb8-8da2-b038977327e3",
   "metadata": {},
   "outputs": [
    {
     "data": {
      "text/plain": [
       "16"
      ]
     },
     "execution_count": 130,
     "metadata": {},
     "output_type": "execute_result"
    }
   ],
   "source": [
    "outputDictWriter.writeheader()"
   ]
  },
  {
   "cell_type": "code",
   "execution_count": 131,
   "id": "c6e7c05d-658a-46ff-97e8-3081c129cf8b",
   "metadata": {},
   "outputs": [
    {
     "data": {
      "text/plain": [
       "20"
      ]
     },
     "execution_count": 131,
     "metadata": {},
     "output_type": "execute_result"
    }
   ],
   "source": [
    "outputDictWriter.writerow({'Name': 'Alice', 'Pet': 'cat', 'Phone': '555-1234'})\n",
    "outputDictWriter.writerow({'Name': 'Bob', 'Phone': '555-9999'})\n",
    "outputDictWriter.writerow({'Phone': '555-5555', 'Name': 'Carol', 'Pet': 'dog'})"
   ]
  },
  {
   "cell_type": "code",
   "execution_count": 132,
   "id": "43e697fe-8b82-4ca8-b92e-bccfdfa1c6cf",
   "metadata": {},
   "outputs": [],
   "source": [
    "outputFile.close()"
   ]
  },
  {
   "cell_type": "code",
   "execution_count": 47,
   "id": "542eb329-febc-4498-acac-d59da0f03c37",
   "metadata": {},
   "outputs": [
    {
     "name": "stdout",
     "output_type": "stream",
     "text": [
      "Name,Pet,Phone\n",
      "Alice,cat,555-1234\n",
      "Bob,,555-9999\n",
      "Carol,dog,555-5555\n"
     ]
    }
   ],
   "source": [
    "!cat output.csv"
   ]
  },
  {
   "cell_type": "markdown",
   "id": "02192983-ea7b-4960-ac29-fffb961d84cb",
   "metadata": {},
   "source": [
    "## The JSON Module"
   ]
  },
  {
   "cell_type": "markdown",
   "id": "44e7e60f-8e2d-4c44-a094-b91af295f7e4",
   "metadata": {},
   "source": [
    "### Reading JSON with the loads() Function\n",
    "\n",
    "To translate a string containing JSON data into a Python value, pass it to the json.loads() function. (The name means “load string,” not “loads.”) Enter the following into the interactive shell:"
   ]
  },
  {
   "cell_type": "code",
   "execution_count": 136,
   "id": "c4071d1b-6b05-4ae7-a89c-b139ff249ac6",
   "metadata": {},
   "outputs": [],
   "source": [
    "import json"
   ]
  },
  {
   "cell_type": "code",
   "execution_count": 137,
   "id": "0a94a1bc-b307-4c22-8e69-6f4cf9eb867c",
   "metadata": {},
   "outputs": [],
   "source": [
    "stringOfJsonData = '{\"name\": \"Zophie\", \"isCat\": true, \"miceCaught\": 0, \"felineIQ\": null}'"
   ]
  },
  {
   "cell_type": "code",
   "execution_count": 145,
   "id": "7da80831-626c-4464-9906-eb17150c6841",
   "metadata": {},
   "outputs": [
    {
     "data": {
      "text/plain": [
       "{'isCat': True, 'miceCaught': 0, 'name': 'Zophie', 'felineIQ': None}"
      ]
     },
     "execution_count": 145,
     "metadata": {},
     "output_type": "execute_result"
    }
   ],
   "source": [
    "jsonDataAsPythonValue = json.loads(stringOfJsonData)\n",
    "jsonDataAsPythonValue"
   ]
  },
  {
   "cell_type": "markdown",
   "id": "aaa269a3-fd66-4f00-9d6a-9d012d4c11fa",
   "metadata": {},
   "source": [
    "### Writing JSON with the dumps() Function\n",
    "The json.dumps() function (which means “dump string,” not “dumps”) will translate a Python value into a string of JSON-formatted data. Enter the following into the interactive shell:"
   ]
  },
  {
   "cell_type": "code",
   "execution_count": 141,
   "id": "73ec3e6a-ccb1-4c95-9b51-5b8d5ce39ea4",
   "metadata": {},
   "outputs": [],
   "source": [
    "pythonValue = {'isCat': True, 'miceCaught': 0, 'name': 'Zophie', 'felineIQ': None}"
   ]
  },
  {
   "cell_type": "code",
   "execution_count": 144,
   "id": "5a878dfb-efc1-4597-8604-bb6efb22069d",
   "metadata": {},
   "outputs": [
    {
     "data": {
      "text/plain": [
       "'{\"isCat\": true, \"miceCaught\": 0, \"name\": \"Zophie\", \"felineIQ\": null}'"
      ]
     },
     "execution_count": 144,
     "metadata": {},
     "output_type": "execute_result"
    }
   ],
   "source": [
    "stringOfJsonData = json.dumps(pythonValue)\n",
    "stringOfJsonData"
   ]
  },
  {
   "cell_type": "code",
   "execution_count": null,
   "id": "69637a99-a61a-4882-b3cd-68c0e88f30e3",
   "metadata": {},
   "outputs": [],
   "source": []
  }
 ],
 "metadata": {
  "kernelspec": {
   "display_name": "Python 3 (ipykernel)",
   "language": "python",
   "name": "python3"
  },
  "language_info": {
   "codemirror_mode": {
    "name": "ipython",
    "version": 3
   },
   "file_extension": ".py",
   "mimetype": "text/x-python",
   "name": "python",
   "nbconvert_exporter": "python",
   "pygments_lexer": "ipython3",
   "version": "3.9.7"
  }
 },
 "nbformat": 4,
 "nbformat_minor": 5
}
