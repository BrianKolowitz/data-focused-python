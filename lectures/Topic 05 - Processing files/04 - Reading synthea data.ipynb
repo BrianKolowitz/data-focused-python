{
 "cells": [
  {
   "cell_type": "markdown",
   "metadata": {},
   "source": [
    "## Reading Synthea Data\n",
    "\n",
    "Here we'll walk through the different data files from the [synthea](https://github.com/synthetichealth/synthea) data generator. Synthea can generate data in a number of formats including:\n",
    "* CCDA\n",
    "* CSV\n",
    "* FHIR\n",
    "* Text"
   ]
  },
  {
   "cell_type": "markdown",
   "metadata": {},
   "source": [
    "## Reading Text Data"
   ]
  },
  {
   "cell_type": "code",
   "execution_count": 1,
   "metadata": {},
   "outputs": [
    {
     "name": "stdout",
     "output_type": "stream",
     "text": [
      "0: Abe604 Veum823\n",
      "\n",
      "1: ==============\n",
      "\n",
      "2: Race:                Asian\n",
      "\n",
      "3: Ethnicity:           Non-Hispanic\n",
      "\n",
      "4: Gender:              M\n",
      "\n",
      "5: Age:                 69\n",
      "\n"
     ]
    }
   ],
   "source": [
    "with open('../data/text/Abe604_Veum823_e841a5e8-9ace-437b-be32-b37d006aef87.txt') as f:\n",
    "    for idx, line in enumerate(f.readlines()):\n",
    "        print(f'{idx}: {line}')\n",
    "        if idx >= 5:\n",
    "            break"
   ]
  },
  {
   "cell_type": "code",
   "execution_count": 2,
   "metadata": {},
   "outputs": [],
   "source": [
    "# find all lines "
   ]
  },
  {
   "cell_type": "markdown",
   "metadata": {},
   "source": [
    "## Reading CSV Data"
   ]
  },
  {
   "cell_type": "code",
   "execution_count": 3,
   "metadata": {},
   "outputs": [
    {
     "name": "stdout",
     "output_type": "stream",
     "text": [
      "Id,ORGANIZATION,NAME,GENDER,SPECIALITY,ADDRESS,CITY,STATE,ZIP,UTILIZATION\n",
      "\n",
      "4f073dcc-c92a-455b-8b0c-be967da311b8,ef58ea08-d883-3957-8300-150554edc8fb,Noe500 Dibbert990,M,GENERAL PRACTICE,60 HOSPITAL ROAD,LEOMINSTER,MA,01453,362\n",
      "\n",
      "7066c8e7-c63a-4de5-a6ed-2fe78ba2d484,69176529-fd1f-3b3f-abce-a0a3626769eb,Mariam937 Gleason633,F,GENERAL PRACTICE,330 MOUNT AUBURN STREET,CAMBRIDGE,MA,02138,334\n",
      "\n",
      "2d6d2a74-e052-4546-8173-ac72a39b7365,5e765f2b-e908-3888-9fc7-df2cb87beb58,Dagny669 Schoen8,F,GENERAL PRACTICE,211 PARK STREET,ATTLEBORO,MA,02703,77\n",
      "\n",
      "66ab043d-06d1-4f21-b837-2d74448feea7,f1fbcbfb-fcfa-3bd2-b7f4-df20f1b3c3a4,Tyron580 Torphy630,M,GENERAL PRACTICE,ONE GENERAL STREET,LAWRENCE,MA,01842,359\n",
      "\n",
      "4e37e414-41b9-467f-be47-4293b6dea918,e002090d-4e92-300e-b41e-7d1f21dee4c6,Loren192 Fay398,M,GENERAL PRACTICE,1493 CAMBRIDGE STREET,CAMBRIDGE,MA,02138,7\n",
      "\n"
     ]
    }
   ],
   "source": [
    "with open('../data/csv/providers.csv') as f:\n",
    "    for idx, line in enumerate(f.readlines()):\n",
    "        print(line)\n",
    "        if idx >= 5:\n",
    "            break\n",
    "        "
   ]
  },
  {
   "cell_type": "markdown",
   "metadata": {},
   "source": [
    "## Reading XML Data"
   ]
  },
  {
   "cell_type": "code",
   "execution_count": 4,
   "metadata": {},
   "outputs": [
    {
     "name": "stdout",
     "output_type": "stream",
     "text": [
      "0: <?xml version=\"1.0\" encoding=\"UTF-8\"?>\n",
      "\n",
      "1: <ClinicalDocument xmlns=\"urn:hl7-org:v3\" xmlns:sdtc=\"urn:hl7-org:sdtc\" xmlns:xsi=\"http://www.w3.org/2001/XMLSchema-instance\" xsi:schemaLocation=\"urn:hl7-org:v3 http://xreg2.nist.gov:8080/hitspValidation/schema/cdar2c32/infrastructure/cda/C32_CDA.xsd\">\n",
      "\n",
      "2:   <realmCode code=\"US\"/>\n",
      "\n",
      "3:   <typeId root=\"2.16.840.1.113883.1.3\" extension=\"POCD_HD000040\"/>\n",
      "\n",
      "4:   <templateId root=\"2.16.840.1.113883.10.20.22.1.1\" extension=\"2015-08-01\"/>\n",
      "\n",
      "5:   <templateId root=\"2.16.840.1.113883.10.20.22.1.2\" extension=\"2015-08-01\"/>\n",
      "\n"
     ]
    }
   ],
   "source": [
    "with open('../data/ccda/Abe604_Veum823_e841a5e8-9ace-437b-be32-b37d006aef87.xml') as f:\n",
    "    for idx, line in enumerate(f.readlines()):\n",
    "        print(f'{idx}: {line}')\n",
    "        if idx >= 5:\n",
    "            break"
   ]
  },
  {
   "cell_type": "markdown",
   "metadata": {},
   "source": [
    "## Reading JSON Data"
   ]
  },
  {
   "cell_type": "code",
   "execution_count": 5,
   "metadata": {},
   "outputs": [
    {
     "name": "stdout",
     "output_type": "stream",
     "text": [
      "0: {\n",
      "\n",
      "1:   \"resourceType\": \"Bundle\",\n",
      "\n",
      "2:   \"type\": \"transaction\",\n",
      "\n",
      "3:   \"entry\": [\n",
      "\n",
      "4:     {\n",
      "\n",
      "5:       \"fullUrl\": \"urn:uuid:df5f01e0-810b-4379-be90-bf53a6b3563d\",\n",
      "\n"
     ]
    }
   ],
   "source": [
    "with open('../data/fhir/Abe604_Veum823_e841a5e8-9ace-437b-be32-b37d006aef87.json') as f:\n",
    "    for idx, line in enumerate(f.readlines()):\n",
    "        print(f'{idx}: {line}')\n",
    "        if idx >= 5:\n",
    "            break"
   ]
  },
  {
   "cell_type": "code",
   "execution_count": null,
   "metadata": {},
   "outputs": [],
   "source": []
  }
 ],
 "metadata": {
  "kernelspec": {
   "display_name": "Python 3 (ipykernel)",
   "language": "python",
   "name": "python3"
  },
  "language_info": {
   "codemirror_mode": {
    "name": "ipython",
    "version": 3
   },
   "file_extension": ".py",
   "mimetype": "text/x-python",
   "name": "python",
   "nbconvert_exporter": "python",
   "pygments_lexer": "ipython3",
   "version": "3.9.7"
  }
 },
 "nbformat": 4,
 "nbformat_minor": 4
}
