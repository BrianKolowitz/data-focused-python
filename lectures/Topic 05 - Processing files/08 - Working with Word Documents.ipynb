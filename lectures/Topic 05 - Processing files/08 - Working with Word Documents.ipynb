{
 "cells": [
  {
   "cell_type": "markdown",
   "id": "b5b3b42a-d3b6-4714-ae17-322b580575a1",
   "metadata": {},
   "source": [
    "# Working with Word Documents\n",
    "[Source](https://www.datacamp.com/community/tutorials/reading-and-editing-pdfs-and-word-documents-from-python)"
   ]
  },
  {
   "cell_type": "markdown",
   "id": "a681c59e-cfac-422f-98ae-c618dbc4fa59",
   "metadata": {},
   "source": [
    "The Word documents consist of the \".docx\" extension at the end of the filename. These documents don't only contain text as in plain text files, but it includes a rich-text document. The rich-text document contains the different structures for the document, which have size, align, color, pictures, font, etc. associated with them.\n",
    "\n",
    "It would be best if you had an application for working with the Word Documents. The popular application for Windows and Mac Operating systems is Microsoft Word, but it is a paid subscription platform. However, there is a free alternative option like \"LibreOffice\", which is an application in Linux which comes pre-installed. The applications can be downloaded for Windows and Mac Operating systems."
   ]
  },
  {
   "cell_type": "markdown",
   "id": "e9e21130-49c4-45be-a3aa-b9b6d5a1b9c2",
   "metadata": {},
   "source": [
    "## Steps to Install-Package:\n",
    "\n",
    "You need to install a package named `python-docx` which can handle the word documents of the '.docx' extension. \n",
    "\n",
    "```python\n",
    "pip install python-docx\n",
    "```"
   ]
  },
  {
   "cell_type": "markdown",
   "id": "e463e39b-5e36-47be-9f2a-f2ae31e282d1",
   "metadata": {},
   "source": [
    "## Writing a Word Documents"
   ]
  },
  {
   "cell_type": "code",
   "execution_count": 11,
   "id": "28dd41b5-75b7-4442-838c-e579556becb5",
   "metadata": {},
   "outputs": [],
   "source": [
    "from docx import Document\n",
    "document = Document()\n",
    "document.save('first.docx')"
   ]
  },
  {
   "cell_type": "markdown",
   "id": "75c5b0d5-a54d-4200-bbe1-9465fe2ba99e",
   "metadata": {},
   "source": [
    "### Add a heading"
   ]
  },
  {
   "cell_type": "code",
   "execution_count": 13,
   "id": "6e548078-8041-4457-9027-acaaec6804d4",
   "metadata": {},
   "outputs": [],
   "source": [
    "from docx import Document\n",
    "document = Document()\n",
    "document.add_heading('This is the largest heading', level=0)\n",
    "document.add_heading('This is header 1 as a main heading', level=1)\n",
    "document.add_heading('This is header 2', level=2)\n",
    "document.add_heading('This is header 3', level=3)\n",
    "document.add_heading('This is header 4', level=4)\n",
    "document.save('heading-example.docx')"
   ]
  },
  {
   "cell_type": "markdown",
   "id": "2df4298a-18b6-437d-a0ce-30e8d14f60b0",
   "metadata": {},
   "source": [
    "### Add a Paragraph"
   ]
  },
  {
   "cell_type": "code",
   "execution_count": 14,
   "id": "ef671140-fba8-4543-b598-e8a4913b4cc8",
   "metadata": {},
   "outputs": [],
   "source": [
    "from docx import Document\n",
    "document = Document()\n",
    "document.add_paragraph('This is a simple paragraph')\n",
    "\n",
    "document.add_heading('Things to Do', level=2)\n",
    "document.add_paragraph('eat', style='List Number')\n",
    "document.add_paragraph('sleep', style='List Number')\n",
    "document.add_paragraph('repeat', style='List Number')\n",
    "\n",
    "document.add_heading('Things Not to Do', level=2)\n",
    "document.add_paragraph('forget to study', style='List Bullet')\n",
    "document.add_paragraph('forget to do assignments', style='List Bullet')\n",
    "\n",
    "document.save('paragraph-example.docx')"
   ]
  },
  {
   "cell_type": "markdown",
   "id": "74e04d09-7419-4452-a11b-186a6927670e",
   "metadata": {},
   "source": [
    "### Add a Picture"
   ]
  },
  {
   "cell_type": "code",
   "execution_count": 15,
   "id": "87bc9c03-4396-4b7a-96ed-60e588f8d07c",
   "metadata": {},
   "outputs": [],
   "source": [
    "from docx import Document\n",
    "from docx.shared import Inches\n",
    "document = Document()\n",
    "document.add_picture('python.png', width=Inches(2.5), height=(2.5))\n",
    "document.save('picture.example.docx')"
   ]
  },
  {
   "cell_type": "markdown",
   "id": "1c2fcf07-55e9-468b-83e4-1dbe08b14065",
   "metadata": {},
   "source": [
    "## Reading a Word Documents\n",
    "\n",
    "You'll now read a sample word document from Python, and it can be found [here](https://docs.google.com/document/d/13oX775JlQRweV02ZpY0_N35eC0CcWkE0fHK4CHaBLLc/edit?usp=sharing)"
   ]
  },
  {
   "cell_type": "code",
   "execution_count": 8,
   "id": "a65ade10-bfb1-425a-bd37-a607ce540583",
   "metadata": {},
   "outputs": [],
   "source": [
    "from docx import Document"
   ]
  },
  {
   "cell_type": "code",
   "execution_count": 9,
   "id": "26f7501a-048f-4d17-b39f-72dd2134159a",
   "metadata": {},
   "outputs": [],
   "source": [
    "def obtainText(docFileName):\n",
    "    document = Document(docFileName)\n",
    "    finalText = []\n",
    "    for line in document.paragraphs:\n",
    "        finalText.append(line.text)\n",
    "    return '\\n'.join(finalText)"
   ]
  },
  {
   "cell_type": "code",
   "execution_count": 10,
   "id": "ef102cf6-296d-4525-b229-545a4cb01c68",
   "metadata": {},
   "outputs": [
    {
     "name": "stdout",
     "output_type": "stream",
     "text": [
      "This is Heading1 Text\n",
      "This is a regular paragraph with the default style of Normal. This is a regular paragraph with the default style of Normal. This is a regular paragraph with the default style of Normal. This is a regular paragraph with the default style of Normal. This is a regular paragraph with the default style of Normal.\n",
      "This is a Defined Block Style Called BlockStyleTest\n",
      "This is more Normal text.\n",
      "This is Heading 2 text\n",
      "This is more Normal text. This is bold, this is italic, and this is bold italic. This is normal. This is in a defined inline style called InlineStyle. This is normal. This is red text. This is normal.\n",
      "This block is centered.\n",
      "This is left-aligned.\n",
      " \n",
      "First item of bulleted list.\n",
      "Second item of bulleted list.\n",
      "Second paragraph of second item of bulleted list.\n",
      "Third item of bulleted list.\n",
      "First item of third item’s nested list\n",
      "Second item of third item’s nested list\n",
      "Fourth and final item of main bulleted list.\n",
      " \n",
      "\n"
     ]
    }
   ],
   "source": [
    "print(obtainText('fullText.docx'))"
   ]
  },
  {
   "cell_type": "code",
   "execution_count": null,
   "id": "4b558ef5-47d2-44a4-af09-5431a55ba835",
   "metadata": {},
   "outputs": [],
   "source": []
  }
 ],
 "metadata": {
  "kernelspec": {
   "display_name": "Python 3 (ipykernel)",
   "language": "python",
   "name": "python3"
  },
  "language_info": {
   "codemirror_mode": {
    "name": "ipython",
    "version": 3
   },
   "file_extension": ".py",
   "mimetype": "text/x-python",
   "name": "python",
   "nbconvert_exporter": "python",
   "pygments_lexer": "ipython3",
   "version": "3.9.7"
  }
 },
 "nbformat": 4,
 "nbformat_minor": 5
}
