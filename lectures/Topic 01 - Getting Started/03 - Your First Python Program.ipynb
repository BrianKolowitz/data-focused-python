{
 "cells": [
  {
   "cell_type": "markdown",
   "id": "f2b07d82-3d98-46d6-9542-afb640a27638",
   "metadata": {},
   "source": [
    "# Your first Python Program\n",
    "\n",
    "Now that you have everything setup, you'll want to dive in and create your first program. Jetbrains has a great tutorial that describes how to [Create and Running Your First Python Project](https://www.jetbrains.com/help/pycharm/creating-and-running-your-first-python-project.html#Creating_and_Running_Your_First_language_Project.xml)."
   ]
  },
  {
   "cell_type": "markdown",
   "id": "33361db5-1f72-4d9d-a81a-c439840987eb",
   "metadata": {},
   "source": [
    "Once you're comfortable creating programs you might want to learn how to [Debug Your First Python Application](https://www.jetbrains.com/help/pycharm/debugging-your-first-python-application.html#Debugging_Your_First_Python_Application.xml), [Test Your First Python Application](https://www.jetbrains.com/help/pycharm/testing-your-first-python-application.html#Testing_Your_First__language__Application.xml), or even [Creating and Running Your First Django Project](https://www.jetbrains.com/help/pycharm/creating-and-running-your-first-django-project.html)."
   ]
  },
  {
   "cell_type": "markdown",
   "id": "8ae73e2a-eb42-4bd9-bf66-472413fdb3b3",
   "metadata": {},
   "source": [
    "[Django](https://www.djangoproject.com) is a great way to build web applications in python, but debugging, testing, and creating web applications are not required components of this course. However, these are useful skills to pick up as you become more familiar with building solutions in python."
   ]
  },
  {
   "cell_type": "code",
   "execution_count": null,
   "id": "f002a7b2-1414-4e89-8ad2-9abb55f67ee3",
   "metadata": {},
   "outputs": [],
   "source": []
  }
 ],
 "metadata": {
  "kernelspec": {
   "display_name": "Python 3 (ipykernel)",
   "language": "python",
   "name": "python3"
  },
  "language_info": {
   "codemirror_mode": {
    "name": "ipython",
    "version": 3
   },
   "file_extension": ".py",
   "mimetype": "text/x-python",
   "name": "python",
   "nbconvert_exporter": "python",
   "pygments_lexer": "ipython3",
   "version": "3.9.7"
  }
 },
 "nbformat": 4,
 "nbformat_minor": 5
}
