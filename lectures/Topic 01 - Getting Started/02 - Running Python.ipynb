{
 "cells": [
  {
   "cell_type": "markdown",
   "id": "fcf9cbc8-e741-4059-ab88-d2d3a5ae65d4",
   "metadata": {},
   "source": [
    "# Running Python"
   ]
  },
  {
   "cell_type": "markdown",
   "id": "b3311af6-4944-4db0-ad37-d85e4cd37690",
   "metadata": {},
   "source": [
    "## Running the course Notebooks\n",
    "\n",
    "Once the course git repository has been cloned locally you can run the course notebooks and follow along in class or try them at home. \n",
    "\n",
    "First, change the directory to the data-focused-python directory of your clonned repository,.\n",
    "\n",
    "```bash\n",
    "cd data-focused-python\n",
    "```\n",
    "\n",
    "Then start Jupyter from your terminal\n",
    "\n",
    "```bash\n",
    "jupyter-lab\n",
    "```\n",
    "\n",
    "### What is Jupyter?\n",
    "\n",
    "The [Jupyter Notebook](https://jupyter.org/) is an open-source web application that allows you to create and share documents that contain live code, equations, visualizations and narrative text. If you've installed [Anaconda](https://www.anaconda.com/distribution/), [Jupyter](https://jupyter.org/index.html) is packaged as part of the distribution.\n",
    "\n",
    "I encourage you to review the more detailed [How To Use Jupyter Notebook – An Ultimate Guide](https://www.geeksforgeeks.org/how-to-use-jupyter-notebook-an-ultimate-guide/)."
   ]
  },
  {
   "cell_type": "markdown",
   "id": "94d90d87-f1dc-49d8-8896-9bf89e849bf6",
   "metadata": {},
   "source": [
    "## Running the Python Interpreter\n",
    "\n",
    "Python itself is an [interpreted programming language](https://en.wikipedia.org/wiki/Interpreted_language) which means the source code you type gets executed by the interpreter at runtime. You can start the python interpreter from any command line by executing the following in your terminal:\n",
    "\n",
    "```bash\n",
    "python\n",
    "```\n",
    "\n",
    "I encourage you to try it out. You can follow along the official python docs [here](https://docs.python.org/3.7/tutorial/interpreter.html)"
   ]
  },
  {
   "cell_type": "markdown",
   "id": "2f9a60d5-87b4-47c6-942b-533bacadd635",
   "metadata": {},
   "source": [
    "## Running the IPython Interpreter\n",
    "\n",
    "[IPython](https://ipython.org/) builds on the Python interpreter adding advanced read-eval-print-loop (REPL) functionality [among other features](https://plot.ly/python/ipython-vs-python/#targetText=IPython%20is%20an%20interactive%20command%2Dline%20terminal%20for%20Python.&targetText=IPython%20offers%20an%20enhanced%20read,certainly%20not%20the%20only%20one).\n",
    "\n",
    "You can start the ipython interpreter by executing the following command in your terminal:\n",
    "\n",
    "```bash\n",
    "ipython\n",
    "```"
   ]
  },
  {
   "cell_type": "code",
   "execution_count": 1,
   "id": "77323b0c-164d-471a-a441-8d7e30152d6d",
   "metadata": {},
   "outputs": [
    {
     "name": "stdout",
     "output_type": "stream",
     "text": [
      "/Users/bk/opt/miniconda3/envs/cmu39/bin/python\n"
     ]
    }
   ],
   "source": [
    "# in anaconda\n",
    "## find the location of your virtual environment\n",
    "!which python"
   ]
  },
  {
   "cell_type": "code",
   "execution_count": 2,
   "id": "2f670ecd-0e4d-4458-9ea0-8c9247fc5aee",
   "metadata": {},
   "outputs": [],
   "source": [
    "## run IDLE out of that location\n",
    "!/Users/bk/opt/miniconda3/envs/cmu39/bin/idle3.9 &"
   ]
  },
  {
   "cell_type": "markdown",
   "id": "6c9c92d7-74dc-43f3-b58c-3df6a231b8c9",
   "metadata": {},
   "source": [
    "## Executing Python Files\n",
    "\n",
    "Using the Python interpreter is great for small problems, testing libraries, etc. but all of your code lives in memory inside the python interpreter. When the interpreter stops your code is gone forever. In order to get around this limitation you can create python script files and execute the files using the interpreter.\n",
    "\n",
    "Create a file on your harddrive called ```hello.py```. Copy and paste this code into the file and save it.\n",
    "\n",
    "```python\n",
    "print('Hello class')\n",
    "print('Welcome to 95-888')\n",
    "```\n",
    "\n",
    "You can then execute the file by typing this command into your terminal.\n",
    "\n",
    "```bash\n",
    "python hello.py\n",
    "```"
   ]
  },
  {
   "cell_type": "code",
   "execution_count": null,
   "id": "753ce8b8-0f29-4f46-9f70-be4ba417d9e4",
   "metadata": {},
   "outputs": [],
   "source": [
    "!python hello.py"
   ]
  },
  {
   "cell_type": "code",
   "execution_count": null,
   "id": "4815ce78-36c9-44f1-8fa1-40b40793ffbf",
   "metadata": {},
   "outputs": [],
   "source": []
  }
 ],
 "metadata": {
  "kernelspec": {
   "display_name": "Python 3 (ipykernel)",
   "language": "python",
   "name": "python3"
  },
  "language_info": {
   "codemirror_mode": {
    "name": "ipython",
    "version": 3
   },
   "file_extension": ".py",
   "mimetype": "text/x-python",
   "name": "python",
   "nbconvert_exporter": "python",
   "pygments_lexer": "ipython3",
   "version": "3.9.7"
  }
 },
 "nbformat": 4,
 "nbformat_minor": 5
}
