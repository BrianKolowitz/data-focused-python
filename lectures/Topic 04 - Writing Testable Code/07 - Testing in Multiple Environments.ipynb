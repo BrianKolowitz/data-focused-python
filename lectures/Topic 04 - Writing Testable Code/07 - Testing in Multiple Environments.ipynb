{
 "cells": [
  {
   "cell_type": "markdown",
   "id": "22861c95-61d4-4a0e-87c3-b23f582ec6d9",
   "metadata": {},
   "source": [
    "# Writing Integration Tests\n",
    "[Source](https://realpython.com/python-testing/)\n",
    "\n",
    "So far, you’ve been testing against a single version of Python using a virtual environment with a specific set of dependencies. You might want to check that your application works on multiple versions of Python, or multiple versions of a package. Tox is an application that automates testing in multiple environments."
   ]
  },
  {
   "cell_type": "markdown",
   "id": "d5f581ff-e10a-46ab-a2f3-af12da1ee4a3",
   "metadata": {},
   "source": [
    "## Installing Tox\n",
    "Tox is available on PyPI as a package to install via pip:\n",
    "\n",
    "```bash\n",
    "pip install tox\n",
    "```\n",
    "\n",
    "Now that you have Tox installed, it needs to be configured."
   ]
  },
  {
   "cell_type": "markdown",
   "id": "b5653c09-2516-48a7-91c7-c2b3bf2100e2",
   "metadata": {},
   "source": [
    "## Configuring Tox for Your Dependencies\n",
    "\n",
    "Tox is configured via a configuration file in your project directory. The Tox configuration file contains the following:\n",
    "\n",
    "* The command to run in order to execute tests\n",
    "* Any additional packages required before executing\n",
    "* The target Python versions to test against"
   ]
  },
  {
   "cell_type": "markdown",
   "id": "0d65e463-8533-4fa8-936b-1180496fe1ee",
   "metadata": {},
   "source": [
    "Instead of having to learn the Tox configuration syntax, you can get a head start by running the quickstart application:\n",
    "\n",
    "```bash\n",
    "tox-quickstart\n",
    "```"
   ]
  },
  {
   "cell_type": "markdown",
   "id": "540a565b-2d78-45fd-99ca-0bf79bc7472c",
   "metadata": {},
   "source": [
    "The Tox configuration tool will ask you those questions and create a file similar to the following in `tox.ini`:\n",
    "\n",
    "```ini\n",
    "[tox]\n",
    "envlist = py27, py36\n",
    "\n",
    "[testenv]\n",
    "deps =\n",
    "\n",
    "commands =\n",
    "    python -m unittest discover\n",
    "```"
   ]
  },
  {
   "cell_type": "markdown",
   "id": "ad1e3b6b-7ab3-4c82-849b-d03231edd600",
   "metadata": {},
   "source": [
    "Before you can run Tox, it requires that you have a setup.py file in your application folder containing the steps to install your package. If you don’t have one, you can follow this [guide](https://packaging.python.org/tutorials/packaging-projects/#setup-py) on how to create a `setup.py` before you continue."
   ]
  },
  {
   "cell_type": "markdown",
   "id": "0da8118f-ddf2-47a6-bc1e-871132e22fa5",
   "metadata": {},
   "source": [
    "Alternatively, if your project is not for distribution on PyPI, you can skip this requirement by adding the following line in the `tox.ini` file under the [tox] heading:\n",
    "\n",
    "```ini\n",
    "[tox]\n",
    "envlist = py27, py36\n",
    "skipsdist=True\n",
    "```"
   ]
  },
  {
   "cell_type": "markdown",
   "id": "efff1bfe-5714-47c6-99e4-b784f2462e26",
   "metadata": {},
   "source": [
    "If you don’t create a setup.py, and your application has some dependencies from PyPI, you’ll need to specify those on a number of lines under the `[testenv]` section. For example, Django would require the following:\n",
    "\n",
    "```ini`\n",
    "[testenv]\n",
    "deps = django\n",
    "```"
   ]
  },
  {
   "cell_type": "markdown",
   "id": "a2ef2176-8fd1-4d2f-837d-35819d7cd671",
   "metadata": {},
   "source": [
    "Once you have completed that stage, you’re ready to run the tests.\n",
    "\n",
    "You can now execute Tox, and it will create two virtual environments: one for Python 2.7 and one for Python 3.6. The Tox directory is called `.tox/`. Within the `.tox/` directory, Tox will execute `python -m unittest discover` against each virtual environment."
   ]
  },
  {
   "cell_type": "markdown",
   "id": "bc464f52-b83a-414d-b725-9badd90de69d",
   "metadata": {},
   "source": [
    "You can run this process by calling Tox at the command line:\n",
    "\n",
    "```bash\n",
    "tox\n",
    "```\n",
    "\n",
    "Tox will output the results of your tests against each environment. The first time it runs, Tox takes a little bit of time to create the virtual environments, but once it has, the second execution will be a lot faster."
   ]
  },
  {
   "cell_type": "markdown",
   "id": "11e4b439-fbd0-4b2b-a345-68a56c0123b5",
   "metadata": {},
   "source": [
    "## Executing Tox\n",
    "\n",
    "The output of Tox is quite straightforward. It creates an environment for each version, installs your dependencies, and then runs the test commands.\n",
    "\n",
    "There are some additional command line options that are great to remember."
   ]
  },
  {
   "cell_type": "markdown",
   "id": "2182cac8-e6ef-43c4-b025-eabe631f6291",
   "metadata": {},
   "source": [
    "Run only a single environment, such as Python 3.6:\n",
    "\n",
    "```bash\n",
    "tox -e py36\n",
    "```"
   ]
  },
  {
   "cell_type": "markdown",
   "id": "368b4fef-625f-475c-a3b8-51df0af9c57b",
   "metadata": {},
   "source": [
    "Recreate the virtual environments, in case your dependencies have changed or site-packages is corrupt:\n",
    "\n",
    "```bash\n",
    "tox -r\n",
    "```"
   ]
  },
  {
   "cell_type": "markdown",
   "id": "f2e04cd9-b53a-405e-8f59-2735326ea635",
   "metadata": {},
   "source": [
    "Run Tox with less verbose output:\n",
    "\n",
    "```bash\n",
    "tox -q\n",
    "```"
   ]
  },
  {
   "cell_type": "markdown",
   "id": "b0da3edb-ee86-4d67-b65e-952d832c62db",
   "metadata": {},
   "source": [
    "Running Tox with more verbose output:\n",
    "\n",
    "```bash\n",
    "tox -v\n",
    "```\n",
    "\n",
    "More information on Tox can be found at the [Tox Documentation Website](https://tox.readthedocs.io/en/latest/)."
   ]
  },
  {
   "cell_type": "markdown",
   "id": "5d47f24e-1ed2-4859-a9d3-a9ff506cbbec",
   "metadata": {},
   "source": [
    "See the `tox_example` folder for a complete example."
   ]
  },
  {
   "cell_type": "code",
   "execution_count": null,
   "id": "a445f4f1-9706-4597-9109-ca05dbf89afa",
   "metadata": {},
   "outputs": [],
   "source": []
  }
 ],
 "metadata": {
  "kernelspec": {
   "display_name": "Python 3 (ipykernel)",
   "language": "python",
   "name": "python3"
  },
  "language_info": {
   "codemirror_mode": {
    "name": "ipython",
    "version": 3
   },
   "file_extension": ".py",
   "mimetype": "text/x-python",
   "name": "python",
   "nbconvert_exporter": "python",
   "pygments_lexer": "ipython3",
   "version": "3.9.7"
  }
 },
 "nbformat": 4,
 "nbformat_minor": 5
}
