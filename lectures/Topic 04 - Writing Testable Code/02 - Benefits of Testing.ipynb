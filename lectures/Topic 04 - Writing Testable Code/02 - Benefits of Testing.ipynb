{
 "cells": [
  {
   "cell_type": "markdown",
   "metadata": {},
   "source": [
    "# 8 Benefis of Unit Testing\n",
    "[8 benefits of unit testing](https://dzone.com/articles/top-8-benefits-of-unit-testing)\n",
    "\n",
    "The goal of unit testing is to segregate each part of the program and test that the individual parts are working correctly. \n",
    "1. It isolates the smallest piece of testable software from the remainder of the code and determines whether it behaves exactly as you expect. \n",
    "1. Unit testing has proven its value in that a large percentage of defects are identified during its use. \n",
    "1. It allows automation of the testing process, reduces difficulties of discovering errors contained in more complex pieces of the application, and enhances test coverage because attention is given to each unit.\n",
    "\n",
    "## 1. Makes the Process Agile\n",
    "One of the main benefits of unit testing is that it makes the coding process more Agile. When you add more and more features to a software, you sometimes need to change old design and code. However, changing already-tested code is both risky and costly. If we have unit tests in place, then we can proceed for refactoring confidently.\n",
    "\n",
    "Unit testing really goes hand-in-hand with agile programming of all flavors because it builds in tests that allow you to make changes more easily. In other words, unit tests facilitate safe refactoring. \n",
    "\n",
    "## 2. Quality of Code\n",
    "Unit testing improves the quality of the code. It identifies every defect that may have come up before code is sent further for integration testing. Writing tests before actual coding makes you think harder about the problem. It exposes the edge cases and makes you write better code. \n",
    "\n",
    "## 3. Finds Software Bugs Early\n",
    "Issues are found at an early stage. Since unit testing is carried out by developers who test individual code before integration, issues can be found very early and can be resolved then and there without impacting the other pieces of the code. This includes both bugs in the programmer’s implementation and flaws or missing parts of the specification for the unit.\n",
    "\n",
    "## 4. Facilitates Changes and Simplifies Integration\n",
    "Unit testing allows the programmer to refactor code or upgrade system libraries at a later date and make sure the module still works correctly. Unit tests detect changes that may break a design contract. They help with maintaining and changing the code.\n",
    "\n",
    "Unit testing reduces defects in the newly developed features or reduces bugs when changing the existing functionality. \n",
    "\n",
    "Unit testing verifies the accuracy of the each unit. Afterward, the units are integrated into an application by testing parts of the application via unit testing. Later testing of the application during the integration process is easier due to the verification of the individual units.\n",
    "\n",
    "## 5. Provides Documentation\n",
    "Unit testing provides documentation of the system. Developers looking to learn what functionality is provided by a unit and how to use it can look at the unit tests to gain a basic understanding of the unit’s interface (API).\n",
    "\n",
    "## 6. Debugging Process\n",
    "Unit testing helps simplify the debugging process. If a test fails, then only the latest changes made in the code need to be debugged.\n",
    "\n",
    "## 7. Design\n",
    "Writing the test first forces you to think through your design and what it must accomplish before you write the code. This not only keeps you focused; it makes you create better designs. Testing a piece of code forces you to define what that code is responsible for. If you can do this easily, that means the code’s responsibility is well-defined and therefore that it has high cohesion.\n",
    "\n",
    "## 8. Reduce Costs\n",
    "Since the bugs are found early, unit testing helps reduce the cost of bug fixes. Just imagine the cost of a bug found during the later stages of development, like during system testing or during acceptance testing. Of course, bugs detected earlier are easier to fix because bugs detected later are usually the result of many changes, and you don’t really know which one caused the bug. "
   ]
  }
 ],
 "metadata": {
  "kernelspec": {
   "display_name": "Python 3 (ipykernel)",
   "language": "python",
   "name": "python3"
  },
  "language_info": {
   "codemirror_mode": {
    "name": "ipython",
    "version": 3
   },
   "file_extension": ".py",
   "mimetype": "text/x-python",
   "name": "python",
   "nbconvert_exporter": "python",
   "pygments_lexer": "ipython3",
   "version": "3.9.7"
  }
 },
 "nbformat": 4,
 "nbformat_minor": 4
}
