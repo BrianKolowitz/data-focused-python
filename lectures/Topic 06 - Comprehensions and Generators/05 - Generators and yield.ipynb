{
 "cells": [
  {
   "cell_type": "markdown",
   "id": "3863fc4e-41bd-47b8-9024-a58781d0bdd4",
   "metadata": {},
   "source": [
    "# How to Use Generators and yield in Python\n",
    "[Source](https://realpython.com/introduction-to-python-generators/)"
   ]
  },
  {
   "cell_type": "markdown",
   "id": "29ae89b8-dc4d-4ee3-90d8-0c5bf46d2c61",
   "metadata": {},
   "source": [
    "Have you ever had to work with a dataset so large that it overwhelmed your machine’s memory? Or maybe you have a complex function that needs to maintain an internal state every time it’s called, but the function is too small to justify creating its own class. In these cases and more, generators and the Python yield statement are here to help."
   ]
  },
  {
   "cell_type": "markdown",
   "id": "4465b137-0edd-4374-977e-cd8f5d7622b4",
   "metadata": {},
   "source": [
    "By the end of this article, you’ll know:\n",
    "\n",
    "* What generators are and how to use them\n",
    "* How to create generator functions and expressions\n",
    "* How the Python yield statement works\n",
    "* How to use multiple Python yield statements in a generator function\n",
    "* How to use advanced generator methods\n",
    "* How to build data pipelines with multiple generators"
   ]
  },
  {
   "cell_type": "markdown",
   "id": "02d30360-2776-4f29-97e0-ba80d784c62c",
   "metadata": {},
   "source": [
    "If you’re a beginner or intermediate Pythonista and you’re interested in learning how to work with large datasets in a more Pythonic fashion, then this is the tutorial for you.\n",
    "\n",
    "You can get a copy of the dataset used in this tutorial by clicking the link below:\n",
    "\n",
    "[Download Dataset: Click here to download the dataset you’ll use in this tutorial to learn about generators and yield in Python.](https://realpython.com/bonus/generators-yield/)"
   ]
  },
  {
   "cell_type": "markdown",
   "id": "cf2dffec-7943-4689-9d9c-9ba2214d4a01",
   "metadata": {},
   "source": [
    "## Using Generators\n",
    "\n",
    "Introduced with PEP 255, generator functions are a special kind of function that return a lazy iterator. These are objects that you can loop over like a list. However, unlike lists, lazy iterators do not store their contents in memory. For an overview of iterators in Python, take a look at Python “for” Loops (Definite Iteration).\n",
    "\n",
    "Now that you have a rough idea of what a generator does, you might wonder what they look like in action. Let’s take a look at two examples. In the first, you’ll see how generators work from a bird’s eye view. Then, you’ll zoom in and examine each example more thoroughly."
   ]
  },
  {
   "cell_type": "markdown",
   "id": "4270d806-d416-4611-8df4-fbc89fe0d56d",
   "metadata": {},
   "source": [
    "### Example 1: Reading Large Files\n",
    "\n",
    "A common use case of generators is to [work with data streams or large files](https://realpython.com/working-with-files-in-python/), like [CSV files](https://realpython.com/courses/reading-and-writing-csv-files/). These text files separate data into columns by using commas. This format is a common way to share data. Now, what if you want to count the number of rows in a CSV file? The code block below shows one way of counting those rows:"
   ]
  },
  {
   "cell_type": "code",
   "execution_count": 39,
   "id": "005c963c-3938-412d-a6cd-2936e7e5e9d2",
   "metadata": {},
   "outputs": [],
   "source": [
    "def csv_reader(file_name):\n",
    "    file = open(file_name)\n",
    "    result = file.read().split(\"\\n\")\n",
    "    return result"
   ]
  },
  {
   "cell_type": "code",
   "execution_count": 40,
   "id": "321ff996-2af7-4584-8e4e-2665629c0db3",
   "metadata": {},
   "outputs": [
    {
     "name": "stdout",
     "output_type": "stream",
     "text": [
      "Row count is 1461\n"
     ]
    }
   ],
   "source": [
    "csv_gen = csv_reader(\"some_csv.txt\")\n",
    "row_count = 0\n",
    "\n",
    "for row in csv_gen:\n",
    "    row_count += 1\n",
    "\n",
    "print(f\"Row count is {row_count}\")"
   ]
  },
  {
   "cell_type": "markdown",
   "id": "3d3a3499-ed4f-45de-90a7-342c8f68dea1",
   "metadata": {},
   "source": [
    "Looking at this example, you might expect csv_gen to be a list. To populate this list, `csv_reader()` opens a file and loads its contents into `csv_gen`. Then, the program iterates over the list and increments row_count for each row."
   ]
  },
  {
   "cell_type": "markdown",
   "id": "667e5d56-d36a-44d0-adcc-1fe5dea57873",
   "metadata": {},
   "source": [
    "This is a reasonable explanation, but would this design still work if the file is very large? What if the file is larger than the memory you have available? To answer this question, let’s assume that `csv_reader()` just opens the file and reads it into an array:"
   ]
  },
  {
   "cell_type": "markdown",
   "id": "6054997d-d687-44ee-8e0a-c0a342c6cd2e",
   "metadata": {},
   "source": [
    "The `csv_reader` function opens a given file and uses `file.read()` along with `.split()` to add each line as a separate element to a list. If you were to use this version of `csv_reader()` in the row counting code block you saw further up, then you’d get the following output:\n",
    "\n",
    "```python\n",
    "Traceback (most recent call last):\n",
    "  File \"ex1_naive.py\", line 22, in <module>\n",
    "    main()\n",
    "  File \"ex1_naive.py\", line 13, in main\n",
    "    csv_gen = csv_reader(\"file.txt\")\n",
    "  File \"ex1_naive.py\", line 6, in csv_reader\n",
    "    result = file.read().split(\"\\n\")\n",
    "MemoryError\n",
    "```"
   ]
  },
  {
   "cell_type": "markdown",
   "id": "1147d0e7-ae03-425b-a4de-70a645c4973b",
   "metadata": {},
   "source": [
    "In this case, `open()` returns a generator object that you can lazily iterate through line by line. However, `file.read().split()` loads everything into memory at once, causing the MemoryError."
   ]
  },
  {
   "cell_type": "markdown",
   "id": "d61c1660-54d1-46f7-9260-866690719d8f",
   "metadata": {},
   "source": [
    "Before that happens, you’ll probably notice your computer slow to a crawl. You might even need to kill the program with a KeyboardInterrupt. So, how can you handle these huge data files? Take a look at a new definition of `csv_reader()`:"
   ]
  },
  {
   "cell_type": "code",
   "execution_count": 41,
   "id": "7ff85fc3-a337-4b27-a18c-cd01817c8ac2",
   "metadata": {},
   "outputs": [],
   "source": [
    "def csv_reader(file_name):\n",
    "    for row in open(file_name, \"r\"):\n",
    "        yield row"
   ]
  },
  {
   "cell_type": "code",
   "execution_count": 42,
   "id": "3d2c3ac5-c485-4bc1-af9e-e6a7bf1bb3db",
   "metadata": {},
   "outputs": [
    {
     "name": "stdout",
     "output_type": "stream",
     "text": [
      "Row count is 1461\n"
     ]
    }
   ],
   "source": [
    "csv_gen = csv_reader(\"some_csv.txt\")\n",
    "row_count = 0\n",
    "\n",
    "for row in csv_gen:\n",
    "    row_count += 1\n",
    "\n",
    "print(f\"Row count is {row_count}\")"
   ]
  },
  {
   "cell_type": "markdown",
   "id": "6dcad9bf-7fe7-493c-b399-cded36178308",
   "metadata": {},
   "source": [
    "What’s happening here? Well, you’ve essentially turned `csv_reader()` into a generator function. This version opens a file, loops through each line, and yields each row, instead of returning it."
   ]
  },
  {
   "cell_type": "markdown",
   "id": "c08a4900-8e85-4895-be19-ac89c86ff1a5",
   "metadata": {},
   "source": [
    "You can also define a generator expression (also called a generator comprehension), which has a very similar syntax to list comprehensions. In this way, you can use the generator without calling a function:"
   ]
  },
  {
   "cell_type": "code",
   "execution_count": 43,
   "id": "9f2357e5-6220-4b83-b1eb-31cdb7d2a956",
   "metadata": {},
   "outputs": [],
   "source": [
    "file_name = 'some_csv.txt'\n",
    "csv_gen = (row for row in open(file_name))"
   ]
  },
  {
   "cell_type": "markdown",
   "id": "64601487-a024-4e01-b192-8613db70ee8f",
   "metadata": {},
   "source": [
    "This is a more succinct way to create the list csv_gen. You’ll learn more about the Python yield statement soon. For now, just remember this key difference:\n",
    "\n",
    "* Using yield will result in a generator object.\n",
    "* Using return will result in the first line of the file only."
   ]
  },
  {
   "cell_type": "markdown",
   "id": "dc1d6caa-6cb8-4110-985f-2e18cec78d13",
   "metadata": {},
   "source": [
    "## Example 2: Generating an Infinite Sequence\n",
    "\n",
    "Let’s switch gears and look at infinite sequence generation. In Python, to get a finite sequence, you call `range()` and evaluate it in a list context:"
   ]
  },
  {
   "cell_type": "code",
   "execution_count": 44,
   "id": "bfcbd4bf-cadf-42ee-9d39-9b3bf04f6fcb",
   "metadata": {},
   "outputs": [],
   "source": [
    "def infinite_sequence():\n",
    "    num = 0\n",
    "    while True:\n",
    "        yield num\n",
    "        num += 1"
   ]
  },
  {
   "cell_type": "markdown",
   "id": "b5097420-a7e1-47a3-9080-849a48773730",
   "metadata": {},
   "source": [
    "This code block is short and sweet. First, you initialize the variable num and start an infinite loop. Then, you immediately yield num so that you can capture the initial state. This mimics the action of `range()`."
   ]
  },
  {
   "cell_type": "markdown",
   "id": "8510710b-4550-46ec-bce6-d8e717644a25",
   "metadata": {},
   "source": [
    "After yield, you increment num by 1. If you try this with a for loop, then you’ll see that it really does seem infinite:"
   ]
  },
  {
   "cell_type": "code",
   "execution_count": 45,
   "id": "d2d8b699-f74b-4271-a155-bac3539270d1",
   "metadata": {},
   "outputs": [
    {
     "name": "stdout",
     "output_type": "stream",
     "text": [
      "0 1 2 3 4 5 6 7 8 9 10 11 12 13 14 15 16 17 18 19 20 21 22 23 24 25 26 27 28 29 30 31 32 33 34 35 36 37 38 39 40 41 42 43 44 45 46 47 48 49 50 51 52 53 54 55 56 57 58 59 60 61 62 63 64 65 66 67 68 69 70 71 72 73 74 75 76 77 78 79 80 81 82 83 84 85 86 87 88 89 90 91 92 93 94 95 96 97 98 99 100 101 "
     ]
    }
   ],
   "source": [
    "for i in infinite_sequence():\n",
    "    print(i, end=\" \")\n",
    "    if i > 100:\n",
    "        break"
   ]
  },
  {
   "cell_type": "markdown",
   "id": "53284a11-2dba-4f49-8f5d-d9db9d006f05",
   "metadata": {},
   "source": [
    "The program will continue to execute until you stop it manually.\n",
    "\n",
    "Instead of using a for loop, you can also call `next()` on the generator object directly. This is especially useful for testing a generator in the console:"
   ]
  },
  {
   "cell_type": "code",
   "execution_count": 46,
   "id": "1523ff0a-0ed1-43f2-8a68-4132a9ed0478",
   "metadata": {},
   "outputs": [],
   "source": [
    "gen = infinite_sequence()"
   ]
  },
  {
   "cell_type": "code",
   "execution_count": 47,
   "id": "c9f988b8-5923-499c-968e-dedc45df0b0e",
   "metadata": {},
   "outputs": [
    {
     "data": {
      "text/plain": [
       "0"
      ]
     },
     "execution_count": 47,
     "metadata": {},
     "output_type": "execute_result"
    }
   ],
   "source": [
    "next(gen)"
   ]
  },
  {
   "cell_type": "code",
   "execution_count": 48,
   "id": "d3fd6e41-5bd4-4469-9f52-67ce0c881fc5",
   "metadata": {},
   "outputs": [
    {
     "data": {
      "text/plain": [
       "1"
      ]
     },
     "execution_count": 48,
     "metadata": {},
     "output_type": "execute_result"
    }
   ],
   "source": [
    "next(gen)"
   ]
  },
  {
   "cell_type": "code",
   "execution_count": 49,
   "id": "829fbc47-4b96-4861-b3cc-512131cf178f",
   "metadata": {},
   "outputs": [
    {
     "data": {
      "text/plain": [
       "2"
      ]
     },
     "execution_count": 49,
     "metadata": {},
     "output_type": "execute_result"
    }
   ],
   "source": [
    "next(gen)"
   ]
  },
  {
   "cell_type": "markdown",
   "id": "a13c8c46-535b-4be3-9ce9-4261abed2053",
   "metadata": {},
   "source": [
    "Here, you have a generator called gen, which you manually iterate over by repeatedly calling `next()`. This works as a great sanity check to make sure your generators are producing the output you expect.\n",
    "\n",
    ">Note: When you use `next()`, Python calls `.__next__()` on the function you pass in as a parameter. There are some special effects that this parameterization allows, but it goes beyond the scope of this article. Experiment with changing the parameter you pass to `next()` and see what happens!"
   ]
  },
  {
   "cell_type": "markdown",
   "id": "f82b12f4-0e78-41b1-af8b-19d17560687a",
   "metadata": {},
   "source": [
    "### Example 3: Detecting Palindromes\n",
    "\n",
    "You can use infinite sequences in many ways, but one practical use for them is in building palindrome detectors. A palindrome detector will locate all sequences of letters or numbers that are palindromes. These are words or numbers that are read the same forward and backward, like 121. First, define your numeric palindrome detector:"
   ]
  },
  {
   "cell_type": "code",
   "execution_count": 50,
   "id": "d0983162-7428-4dde-ada3-286be62adb70",
   "metadata": {},
   "outputs": [],
   "source": [
    "def is_palindrome(num):\n",
    "    # Skip single-digit inputs\n",
    "    if num // 10 == 0:\n",
    "        return False\n",
    "    temp = num\n",
    "    reversed_num = 0\n",
    "\n",
    "    while temp != 0:\n",
    "        reversed_num = (reversed_num * 10) + (temp % 10)\n",
    "        temp = temp // 10\n",
    "\n",
    "    if num == reversed_num:\n",
    "        return num\n",
    "    else:\n",
    "        return False"
   ]
  },
  {
   "cell_type": "markdown",
   "id": "6a9acd5d-88c2-4f9c-b584-be086bbcaffc",
   "metadata": {},
   "source": [
    "Don’t worry too much about understanding the underlying math in this code. Just note that the function takes an input number, reverses it, and checks to see if the reversed number is the same as the original. Now you can use your infinite sequence generator to get a running list of all numeric palindromes:"
   ]
  },
  {
   "cell_type": "code",
   "execution_count": 51,
   "id": "8dec239d-1033-491b-b521-8b0e44c8c49c",
   "metadata": {},
   "outputs": [
    {
     "name": "stdout",
     "output_type": "stream",
     "text": [
      "11\n",
      "22\n",
      "33\n",
      "44\n",
      "55\n",
      "66\n",
      "77\n",
      "88\n",
      "99\n",
      "101\n",
      "111\n",
      "121\n",
      "131\n",
      "141\n",
      "151\n"
     ]
    }
   ],
   "source": [
    "for i in infinite_sequence():\n",
    "    pal = is_palindrome(i)\n",
    "    if pal:\n",
    "        print(i)\n",
    "    if i > 150:\n",
    "        break"
   ]
  },
  {
   "cell_type": "markdown",
   "id": "3f714a81-c952-46b2-9818-626a0a225afa",
   "metadata": {},
   "source": [
    "## Understanding Generators\n",
    "\n",
    "So far, you’ve learned about the two primary ways of creating generators: by using generator functions and generator expressions. You might even have an intuitive understanding of how generators work. Let’s take a moment to make that knowledge a little more explicit."
   ]
  },
  {
   "cell_type": "markdown",
   "id": "7985e4f7-ef48-49ac-83a4-0dd2fc53efd9",
   "metadata": {},
   "source": [
    "Generator functions look and act just like regular functions, but with one defining characteristic. Generator functions use the Python yield keyword instead of return. Recall the generator function you wrote earlier:"
   ]
  },
  {
   "cell_type": "code",
   "execution_count": 52,
   "id": "8522b0e4-e740-499a-a034-e6a2c29b913e",
   "metadata": {},
   "outputs": [],
   "source": [
    "def infinite_sequence():\n",
    "    num = 0\n",
    "    while True:\n",
    "        yield num\n",
    "        num += 1"
   ]
  },
  {
   "cell_type": "markdown",
   "id": "4203a4f9-0957-4e16-9895-9a0288178ce6",
   "metadata": {},
   "source": [
    "This looks like a typical [function definition](https://realpython.com/defining-your-own-python-function/), except for the Python yield statement and the code that follows it. yield indicates where a value is sent back to the caller, but unlike return, you don’t exit the function afterward.\n",
    "\n",
    "Instead, the **state** of the function is remembered. That way, when `next()` is called on a generator object (either explicitly or implicitly within a for loop), the previously yielded variable num is incremented, and then yielded again. Since generator functions look like other functions and act very similarly to them, you can assume that generator expressions are very similar to other comprehensions available in Python.\n",
    "\n",
    ">Note: Are you rusty on Python’s list, set, and dictionary comprehensions? You can check out Using [List Comprehensions Effectively](https://realpython.com/courses/using-list-comprehensions-effectively/)."
   ]
  },
  {
   "cell_type": "markdown",
   "id": "9a092e6b-9a76-4dfd-a2ed-195eaf69c115",
   "metadata": {},
   "source": [
    "### Building Generators With Generator Expressions\n",
    "\n",
    "Like list comprehensions, generator expressions allow you to quickly create a generator object in just a few lines of code. They’re also useful in the same cases where list comprehensions are used, with an added benefit: you can create them without building and holding the entire object in memory before iteration. In other words, you’ll have no memory penalty when you use generator expressions. Take this example of squaring some numbers:"
   ]
  },
  {
   "cell_type": "code",
   "execution_count": 53,
   "id": "d629838c-ba93-4266-99a9-6bf2ce8869ba",
   "metadata": {},
   "outputs": [],
   "source": [
    "nums_squared_lc = [num**2 for num in range(5)]"
   ]
  },
  {
   "cell_type": "code",
   "execution_count": 54,
   "id": "754ed69f-1793-453a-93bf-bda331b2005e",
   "metadata": {},
   "outputs": [],
   "source": [
    "nums_squared_gc = (num**2 for num in range(5))"
   ]
  },
  {
   "cell_type": "markdown",
   "id": "b26a5e04-ba35-437a-9ab8-9a84a0c0a771",
   "metadata": {},
   "source": [
    "Both nums_squared_lc and nums_squared_gc look basically the same, but there’s one key difference. Can you spot it? Take a look at what happens when you inspect each of these objects:"
   ]
  },
  {
   "cell_type": "code",
   "execution_count": 55,
   "id": "c2e2d26b-a113-48bd-b3eb-473204dc90ad",
   "metadata": {},
   "outputs": [
    {
     "data": {
      "text/plain": [
       "[0, 1, 4, 9, 16]"
      ]
     },
     "execution_count": 55,
     "metadata": {},
     "output_type": "execute_result"
    }
   ],
   "source": [
    "nums_squared_lc"
   ]
  },
  {
   "cell_type": "code",
   "execution_count": 56,
   "id": "1dcce5e1-b18c-4e05-83fc-95afc72f1cc2",
   "metadata": {},
   "outputs": [
    {
     "data": {
      "text/plain": [
       "<generator object <genexpr> at 0x7fcee989a0b0>"
      ]
     },
     "execution_count": 56,
     "metadata": {},
     "output_type": "execute_result"
    }
   ],
   "source": [
    "nums_squared_gc"
   ]
  },
  {
   "cell_type": "markdown",
   "id": "0ef5c852-ae9c-4e74-bd72-6d7221c23449",
   "metadata": {},
   "source": [
    "The first object used brackets to build a list, while the second created a generator expression by using parentheses. The output confirms that you’ve created a generator object and that it is distinct from a list."
   ]
  },
  {
   "cell_type": "markdown",
   "id": "0cd9bd24-d205-4de9-93c2-ca2f9dfeed40",
   "metadata": {},
   "source": [
    "### Profiling Generator Performance\n",
    "\n",
    "You learned earlier that generators are a great way to optimize memory. While an infinite sequence generator is an extreme example of this optimization, let’s amp up the number squaring examples you just saw and inspect the size of the resulting objects. You can do this with a call to `sys.getsizeof()`:"
   ]
  },
  {
   "cell_type": "code",
   "execution_count": 57,
   "id": "b46b2a9c-a6be-4834-8f93-ade2904e3560",
   "metadata": {},
   "outputs": [],
   "source": [
    "import sys"
   ]
  },
  {
   "cell_type": "code",
   "execution_count": 58,
   "id": "1fe4f6ad-3947-475a-96f7-806af2ea6c03",
   "metadata": {},
   "outputs": [
    {
     "data": {
      "text/plain": [
       "85176"
      ]
     },
     "execution_count": 58,
     "metadata": {},
     "output_type": "execute_result"
    }
   ],
   "source": [
    "nums_squared_lc = [i * 2 for i in range(10000)]\n",
    "sys.getsizeof(nums_squared_lc)"
   ]
  },
  {
   "cell_type": "code",
   "execution_count": 59,
   "id": "eef36790-f1b8-47e9-be16-9087c74baee9",
   "metadata": {},
   "outputs": [
    {
     "data": {
      "text/plain": [
       "112"
      ]
     },
     "execution_count": 59,
     "metadata": {},
     "output_type": "execute_result"
    }
   ],
   "source": [
    "nums_squared_gc = (i ** 2 for i in range(10000))\n",
    "sys.getsizeof(nums_squared_gc)"
   ]
  },
  {
   "cell_type": "markdown",
   "id": "289482d7-593e-43ed-9342-b78fd03eeb2d",
   "metadata": {},
   "source": [
    "In this case, the list you get from the list comprehension is 85,176 bytes, while the generator object is only 112. This means that the list is over 700 times larger than the generator object!"
   ]
  },
  {
   "cell_type": "markdown",
   "id": "63d50d00-7153-4620-aaf9-eb7588b81221",
   "metadata": {},
   "source": [
    "There is one thing to keep in mind, though. If the list is smaller than the running machine’s available memory, then list comprehensions can be [faster to evaluate](https://stackoverflow.com/questions/11964130/list-comprehension-vs-generator-expressions-weird-timeit-results/11964478#11964478) than the equivalent generator expression. To explore this, let’s sum across the results from the two comprehensions above. You can generate a readout with `cProfile.run()`:"
   ]
  },
  {
   "cell_type": "code",
   "execution_count": 60,
   "id": "c04a9f81-7ce6-42b8-9d99-83d9b56b33aa",
   "metadata": {},
   "outputs": [],
   "source": [
    "import cProfile"
   ]
  },
  {
   "cell_type": "code",
   "execution_count": 61,
   "id": "7a1ae2f1-8853-40bc-860c-387ccbb973c0",
   "metadata": {},
   "outputs": [
    {
     "name": "stdout",
     "output_type": "stream",
     "text": [
      "         5 function calls in 0.004 seconds\n",
      "\n",
      "   Ordered by: standard name\n",
      "\n",
      "   ncalls  tottime  percall  cumtime  percall filename:lineno(function)\n",
      "        1    0.004    0.004    0.004    0.004 <string>:1(<listcomp>)\n",
      "        1    0.000    0.000    0.004    0.004 <string>:1(<module>)\n",
      "        1    0.000    0.000    0.004    0.004 {built-in method builtins.exec}\n",
      "        1    0.000    0.000    0.000    0.000 {built-in method builtins.sum}\n",
      "        1    0.000    0.000    0.000    0.000 {method 'disable' of '_lsprof.Profiler' objects}\n",
      "\n",
      "\n"
     ]
    }
   ],
   "source": [
    "cProfile.run('sum([i * 2 for i in range(10000)])')"
   ]
  },
  {
   "cell_type": "code",
   "execution_count": 62,
   "id": "2e4ed7f1-410b-43cf-9315-81715294445b",
   "metadata": {},
   "outputs": [
    {
     "name": "stdout",
     "output_type": "stream",
     "text": [
      "         10005 function calls in 0.007 seconds\n",
      "\n",
      "   Ordered by: standard name\n",
      "\n",
      "   ncalls  tottime  percall  cumtime  percall filename:lineno(function)\n",
      "    10001    0.005    0.000    0.005    0.000 <string>:1(<genexpr>)\n",
      "        1    0.000    0.000    0.007    0.007 <string>:1(<module>)\n",
      "        1    0.000    0.000    0.007    0.007 {built-in method builtins.exec}\n",
      "        1    0.003    0.003    0.007    0.007 {built-in method builtins.sum}\n",
      "        1    0.000    0.000    0.000    0.000 {method 'disable' of '_lsprof.Profiler' objects}\n",
      "\n",
      "\n"
     ]
    }
   ],
   "source": [
    "cProfile.run('sum((i * 2 for i in range(10000)))')"
   ]
  },
  {
   "cell_type": "markdown",
   "id": "cb486862-c093-4191-8fac-55a0b456e5e0",
   "metadata": {},
   "source": [
    "Here, you can see that summing across all values in the list comprehension took about a third of the time as summing across the generator. If speed is an issue and memory isn’t, then a list comprehension is likely a better tool for the job.\n",
    "\n",
    ">Note: These measurements aren’t only valid for objects made with generator expressions. They’re also the same for objects made from the analogous generator function since the resulting generators are equivalent."
   ]
  },
  {
   "cell_type": "markdown",
   "id": "5e94ae12-d43c-4b8b-97ac-54662f4b5e0c",
   "metadata": {},
   "source": [
    "Remember, list comprehensions return full lists, while generator expressions return generators. Generators work the same whether they’re built from a function or an expression. Using an expression just allows you to define simple generators in a single line, with an assumed yield at the end of each inner iteration."
   ]
  },
  {
   "cell_type": "markdown",
   "id": "d45097bb-c307-4037-9f79-82e035823cd0",
   "metadata": {},
   "source": [
    "The Python yield statement is certainly the linchpin on which all of the functionality of generators rests, so let’s dive into how yield works in Python."
   ]
  },
  {
   "cell_type": "markdown",
   "id": "08548f1d-264a-45a7-9f38-1283138c9df9",
   "metadata": {},
   "source": [
    "### Understanding the Python Yield Statement\n",
    "\n",
    "On the whole, yield is a fairly simple statement. Its primary job is to control the flow of a generator function in a way that’s similar to return statements. As briefly mentioned above, though, the Python yield statement has a few tricks up its sleeve."
   ]
  },
  {
   "cell_type": "markdown",
   "id": "f797d968-45ff-4b6f-b9cd-ec16e4e410d1",
   "metadata": {},
   "source": [
    "When you call a generator function or use a generator expression, you return a special iterator called a generator. You can assign this generator to a variable in order to use it. When you call special methods on the generator, such as `next()`, the code within the function is executed up to `yield`."
   ]
  },
  {
   "cell_type": "markdown",
   "id": "9fc98d56-98d2-4623-a889-58a9bd6167d7",
   "metadata": {},
   "source": [
    "When the Python `yield` statement is hit, the program suspends function execution and returns the yielded value to the caller. (In contrast, return stops function execution completely.) When a function is suspended, the state of that function is saved. This includes any variable bindings local to the generator, the instruction pointer, the internal stack, and any exception handling."
   ]
  },
  {
   "cell_type": "markdown",
   "id": "1580de98-3a3d-4f35-81f1-84c86b59ecc1",
   "metadata": {},
   "source": [
    "This allows you to resume function execution whenever you call one of the generator’s methods. In this way, all function evaluation picks back up right after `yield`. You can see this in action by using multiple Python yield statements:"
   ]
  },
  {
   "cell_type": "code",
   "execution_count": 63,
   "id": "dd306e3c-d153-488a-b66f-5dc60a367b35",
   "metadata": {},
   "outputs": [],
   "source": [
    "def multi_yield():\n",
    "    yield_str = \"This will print the first string\"\n",
    "    yield yield_str\n",
    "    yield_str = \"This will print the second string\"\n",
    "    yield yield_str"
   ]
  },
  {
   "cell_type": "code",
   "execution_count": 64,
   "id": "deb86096-cc42-4dbb-b642-e10556be3276",
   "metadata": {},
   "outputs": [],
   "source": [
    "multi_obj = multi_yield()"
   ]
  },
  {
   "cell_type": "code",
   "execution_count": 65,
   "id": "d02e96e8-eb48-4192-abdc-5f67649fd87f",
   "metadata": {},
   "outputs": [
    {
     "data": {
      "text/plain": [
       "'This will print the first string'"
      ]
     },
     "execution_count": 65,
     "metadata": {},
     "output_type": "execute_result"
    }
   ],
   "source": [
    "next(multi_obj)"
   ]
  },
  {
   "cell_type": "code",
   "execution_count": 66,
   "id": "6182ff8d-78e9-4a53-bbb3-7a379a6cea88",
   "metadata": {},
   "outputs": [
    {
     "data": {
      "text/plain": [
       "'This will print the second string'"
      ]
     },
     "execution_count": 66,
     "metadata": {},
     "output_type": "execute_result"
    }
   ],
   "source": [
    "next(multi_obj)"
   ]
  },
  {
   "cell_type": "code",
   "execution_count": 67,
   "id": "5bd2c2a8-67cb-4051-9b5f-162a8f4fb3fd",
   "metadata": {},
   "outputs": [
    {
     "ename": "StopIteration",
     "evalue": "",
     "output_type": "error",
     "traceback": [
      "\u001b[0;31m---------------------------------------------------------------------------\u001b[0m",
      "\u001b[0;31mStopIteration\u001b[0m                             Traceback (most recent call last)",
      "\u001b[0;32m/var/folders/jd/pq0swyt521jb2424d6fvth840000gn/T/ipykernel_26925/3997673938.py\u001b[0m in \u001b[0;36m<module>\u001b[0;34m\u001b[0m\n\u001b[0;32m----> 1\u001b[0;31m \u001b[0mnext\u001b[0m\u001b[0;34m(\u001b[0m\u001b[0mmulti_obj\u001b[0m\u001b[0;34m)\u001b[0m\u001b[0;34m\u001b[0m\u001b[0;34m\u001b[0m\u001b[0m\n\u001b[0m",
      "\u001b[0;31mStopIteration\u001b[0m: "
     ]
    }
   ],
   "source": [
    "next(multi_obj)"
   ]
  },
  {
   "cell_type": "markdown",
   "id": "8a36b640-78d4-445a-993a-48ab45e849c7",
   "metadata": {},
   "source": [
    "Take a closer look at that last call to `next()`. You can see that execution has blown up with a traceback. This is because generators, like all iterators, can be exhausted. Unless your generator is infinite, you can iterate through it one time only. Once all values have been evaluated, iteration will stop and the for loop will exit. If you used `next()`, then instead you’ll get an explicit `StopIteration` exception."
   ]
  },
  {
   "cell_type": "markdown",
   "id": "70307d82-98aa-42a6-a2c3-7da690270e93",
   "metadata": {},
   "source": [
    ">Note: `StopIteration` is a natural exception that’s raised to signal the end of an iterator. for loops, for example, are built around `StopIteration`. You can even implement your own for loop by using a while loop:"
   ]
  },
  {
   "cell_type": "code",
   "execution_count": 68,
   "id": "e03c01fe-ae85-4307-9501-3dd772b7865c",
   "metadata": {},
   "outputs": [
    {
     "name": "stdout",
     "output_type": "stream",
     "text": [
      "a\n",
      "b\n",
      "c\n",
      "y\n"
     ]
    }
   ],
   "source": [
    "letters = [\"a\", \"b\", \"c\", \"y\"]\n",
    "it = iter(letters)\n",
    "while True:\n",
    "    try:\n",
    "        letter = next(it)\n",
    "    except StopIteration:\n",
    "        break\n",
    "    print(letter)"
   ]
  },
  {
   "cell_type": "markdown",
   "id": "7ffd7f26-f383-48a6-862a-61a8872282f5",
   "metadata": {},
   "source": [
    ">You can read more about `StopIteration` in the Python documentation on [exceptions](https://docs.python.org/3.6/library/exceptions.html). For more on iteration in general, check out [Python “for” Loops (Definite Iteration) and Python “while” Loops (Indefinite Iteration)](https://realpython.com/python-for-loop/).\n",
    "\n",
    "`yield` can be used in many ways to control your generator’s execution flow. The use of multiple Python yield statements can be leveraged as far as your creativity allows."
   ]
  },
  {
   "cell_type": "markdown",
   "id": "8c797624-ffbe-435b-8602-dc9f84bf3e11",
   "metadata": {},
   "source": [
    "## Using Advanced Generator Methods\n",
    "\n",
    "You’ve seen the most common uses and constructions of generators, but there are a few more tricks to cover. In addition to yield, generator objects can make use of the following methods:\n",
    "\n",
    "* .send()\n",
    "* .throw()\n",
    "* .close()"
   ]
  },
  {
   "cell_type": "markdown",
   "id": "8652cd6d-542e-4370-b6bd-8dd9832f4f63",
   "metadata": {},
   "source": [
    "### How to Use .send()\n",
    "\n",
    "For this next section, you’re going to build a program that makes use of all three methods. This program will print numeric palindromes like before, but with a few tweaks. Upon encountering a palindrome, your new program will add a digit and start a search for the next one from there. You’ll also handle exceptions with `.throw()` and stop the generator after a given amount of digits with `.close()`. First, let’s recall the code for your palindrome detector:"
   ]
  },
  {
   "cell_type": "code",
   "execution_count": 84,
   "id": "74a1c288-46c0-4e3b-b3a9-3c1ff38f97c9",
   "metadata": {},
   "outputs": [],
   "source": [
    "def is_palindrome(num):\n",
    "    # Skip single-digit inputs\n",
    "    if num // 10 == 0:\n",
    "        return False\n",
    "    temp = num\n",
    "    reversed_num = 0\n",
    "\n",
    "    while temp != 0:\n",
    "        reversed_num = (reversed_num * 10) + (temp % 10)\n",
    "        temp = temp // 10\n",
    "\n",
    "    if num == reversed_num:\n",
    "        return True\n",
    "    else:\n",
    "        return False"
   ]
  },
  {
   "cell_type": "markdown",
   "id": "db2d925d-5c94-427e-8205-4bba2f577fd4",
   "metadata": {},
   "source": [
    "This is the same code you saw earlier, except that now the program returns strictly `True` or `False`. You’ll also need to modify your original infinite sequence generator, like so:"
   ]
  },
  {
   "cell_type": "code",
   "execution_count": 85,
   "id": "af1dff1f-3209-4418-b545-d7084225022c",
   "metadata": {},
   "outputs": [],
   "source": [
    "def infinite_palindromes():\n",
    "    num = 0\n",
    "    while True:\n",
    "        if is_palindrome(num):\n",
    "            i = (yield num)\n",
    "            if i is not None:\n",
    "                num = i\n",
    "        num += 1"
   ]
  },
  {
   "cell_type": "markdown",
   "id": "e3269791-c9c6-4351-9c38-c8dd1fdeeca3",
   "metadata": {},
   "source": [
    "There are a lot of changes here! The first one you’ll see is in line 5, where `i = (yield num)`. Though you learned earlier that yield is a statement, that isn’t quite the whole story."
   ]
  },
  {
   "cell_type": "markdown",
   "id": "c0d5302d-8e93-4cce-badc-8d6871988b46",
   "metadata": {},
   "source": [
    "As of Python 2.5 (the same release that introduced the methods you are learning about now), `yield` is an expression, rather than a statement. Of course, you can still use it as a statement. But now, you can also use it as you see in the code block above, where `i` takes the value that is yielded. This allows you to manipulate the yielded value. More importantly, it allows you to `.send()` a value back to the generator. When execution picks up after yield, `i` will take the value that is sent."
   ]
  },
  {
   "cell_type": "markdown",
   "id": "38c802a4-3202-4094-85e8-5883dec8b340",
   "metadata": {},
   "source": [
    "You’ll also check if `i` is not `None`, which could happen if `next()` is called on the generator object. (This can also happen when you iterate with a for loop.) If `i` has a value, then you update `num` with the new value. But regardless of whether or not `i` holds a value, you’ll then increment `num` and start the loop again."
   ]
  },
  {
   "cell_type": "markdown",
   "id": "1f88d7f6-3ca6-417e-8752-5379cd32abf8",
   "metadata": {},
   "source": [
    "Now, take a look at the main function code, which sends the lowest number with another digit back to the generator. For example, if the palindrome is 121, then it will .send() 1000:"
   ]
  },
  {
   "cell_type": "code",
   "execution_count": null,
   "id": "4cdd34d4-85da-45d7-b22b-e994372c6c46",
   "metadata": {},
   "outputs": [],
   "source": [
    "pal_gen = infinite_palindromes()\n",
    "for i in pal_gen:\n",
    "    digits = len(str(i))\n",
    "    pal_gen.send(10 ** (digits))"
   ]
  },
  {
   "cell_type": "markdown",
   "id": "d71ed592-26d9-4a9b-9ea0-faa5a7a3e642",
   "metadata": {},
   "source": [
    "With this code, you create the generator object and iterate through it. The program only yields a value once a palindrome is found. It uses `len()` to determine the number of digits in that palindrome. Then, it sends `10 ** digits` to the generator. This brings execution back into the generator logic and assigns `10 ** digits` to `i`. Since `i` now has a value, the program updates `num`, increments, and checks for palindromes again."
   ]
  },
  {
   "cell_type": "markdown",
   "id": "383f0a36-d5ab-4df3-8a49-6a350e80bdc0",
   "metadata": {},
   "source": [
    "Once your code finds and yields another palindrome, you’ll iterate via the for loop. This is the same as iterating with next(). The generator also picks up at line 5 with `i = (yield num)`. However, now `i` is `None`, because you didn’t explicitly send a value."
   ]
  },
  {
   "cell_type": "markdown",
   "id": "bec058ef-61b9-4059-9387-4cca2e0935cb",
   "metadata": {},
   "source": [
    "What you’ve created here is a coroutine, or a generator function into which you can pass data. These are useful for constructing data pipelines, but as you’ll see soon, they aren’t necessary for building them. (If you’re looking to dive deeper, [then this course on coroutines and concurrency](http://www.dabeaz.com/coroutines/) is one of the most comprehensive treatments available.)\n",
    "\n",
    "Now that you’ve learned about .send(), let’s take a look at .throw()."
   ]
  },
  {
   "cell_type": "markdown",
   "id": "4db8f7d9-bbf1-46df-a8e2-01585af14eb6",
   "metadata": {},
   "source": [
    "## How to Use .throw()\n",
    "\n",
    "`.throw()` allows you to throw exceptions with the generator. In the below example, you raise the exception in line 6. This code will throw a ValueError once digits reaches 5:"
   ]
  },
  {
   "cell_type": "code",
   "execution_count": 82,
   "id": "97bd7af4-bdc2-466f-9678-ae6c15fd92b6",
   "metadata": {},
   "outputs": [
    {
     "name": "stdout",
     "output_type": "stream",
     "text": [
      "11\n",
      "111\n",
      "1111\n",
      "10101\n"
     ]
    },
    {
     "ename": "ValueError",
     "evalue": "We don't like large palindromes",
     "output_type": "error",
     "traceback": [
      "\u001b[0;31m---------------------------------------------------------------------------\u001b[0m",
      "\u001b[0;31mValueError\u001b[0m                                Traceback (most recent call last)",
      "\u001b[0;32m/var/folders/jd/pq0swyt521jb2424d6fvth840000gn/T/ipykernel_26925/3237025235.py\u001b[0m in \u001b[0;36m<module>\u001b[0;34m\u001b[0m\n\u001b[1;32m      4\u001b[0m     \u001b[0mdigits\u001b[0m \u001b[0;34m=\u001b[0m \u001b[0mlen\u001b[0m\u001b[0;34m(\u001b[0m\u001b[0mstr\u001b[0m\u001b[0;34m(\u001b[0m\u001b[0mi\u001b[0m\u001b[0;34m)\u001b[0m\u001b[0;34m)\u001b[0m\u001b[0;34m\u001b[0m\u001b[0;34m\u001b[0m\u001b[0m\n\u001b[1;32m      5\u001b[0m     \u001b[0;32mif\u001b[0m \u001b[0mdigits\u001b[0m \u001b[0;34m==\u001b[0m \u001b[0;36m5\u001b[0m\u001b[0;34m:\u001b[0m\u001b[0;34m\u001b[0m\u001b[0;34m\u001b[0m\u001b[0m\n\u001b[0;32m----> 6\u001b[0;31m         \u001b[0mpal_gen\u001b[0m\u001b[0;34m.\u001b[0m\u001b[0mthrow\u001b[0m\u001b[0;34m(\u001b[0m\u001b[0mValueError\u001b[0m\u001b[0;34m(\u001b[0m\u001b[0;34m\"We don't like large palindromes\"\u001b[0m\u001b[0;34m)\u001b[0m\u001b[0;34m)\u001b[0m\u001b[0;34m\u001b[0m\u001b[0;34m\u001b[0m\u001b[0m\n\u001b[0m\u001b[1;32m      7\u001b[0m     \u001b[0mpal_gen\u001b[0m\u001b[0;34m.\u001b[0m\u001b[0msend\u001b[0m\u001b[0;34m(\u001b[0m\u001b[0;36m10\u001b[0m \u001b[0;34m**\u001b[0m \u001b[0;34m(\u001b[0m\u001b[0mdigits\u001b[0m\u001b[0;34m)\u001b[0m\u001b[0;34m)\u001b[0m\u001b[0;34m\u001b[0m\u001b[0;34m\u001b[0m\u001b[0m\n",
      "\u001b[0;32m/var/folders/jd/pq0swyt521jb2424d6fvth840000gn/T/ipykernel_26925/763430176.py\u001b[0m in \u001b[0;36minfinite_palindromes\u001b[0;34m()\u001b[0m\n\u001b[1;32m      3\u001b[0m     \u001b[0;32mwhile\u001b[0m \u001b[0;32mTrue\u001b[0m\u001b[0;34m:\u001b[0m\u001b[0;34m\u001b[0m\u001b[0;34m\u001b[0m\u001b[0m\n\u001b[1;32m      4\u001b[0m         \u001b[0;32mif\u001b[0m \u001b[0mis_palindrome\u001b[0m\u001b[0;34m(\u001b[0m\u001b[0mnum\u001b[0m\u001b[0;34m)\u001b[0m\u001b[0;34m:\u001b[0m\u001b[0;34m\u001b[0m\u001b[0;34m\u001b[0m\u001b[0m\n\u001b[0;32m----> 5\u001b[0;31m             \u001b[0mi\u001b[0m \u001b[0;34m=\u001b[0m \u001b[0;34m(\u001b[0m\u001b[0;32myield\u001b[0m \u001b[0mnum\u001b[0m\u001b[0;34m)\u001b[0m\u001b[0;34m\u001b[0m\u001b[0;34m\u001b[0m\u001b[0m\n\u001b[0m\u001b[1;32m      6\u001b[0m             \u001b[0;32mif\u001b[0m \u001b[0mi\u001b[0m \u001b[0;32mis\u001b[0m \u001b[0;32mnot\u001b[0m \u001b[0;32mNone\u001b[0m\u001b[0;34m:\u001b[0m\u001b[0;34m\u001b[0m\u001b[0;34m\u001b[0m\u001b[0m\n\u001b[1;32m      7\u001b[0m                 \u001b[0mnum\u001b[0m \u001b[0;34m=\u001b[0m \u001b[0mi\u001b[0m\u001b[0;34m\u001b[0m\u001b[0;34m\u001b[0m\u001b[0m\n",
      "\u001b[0;31mValueError\u001b[0m: We don't like large palindromes"
     ]
    }
   ],
   "source": [
    "pal_gen = infinite_palindromes()\n",
    "for i in pal_gen:\n",
    "    print(i)\n",
    "    digits = len(str(i))\n",
    "    if digits == 5:\n",
    "        pal_gen.throw(ValueError(\"We don't like large palindromes\"))\n",
    "    pal_gen.send(10 ** (digits))"
   ]
  },
  {
   "cell_type": "markdown",
   "id": "452c2d40-5b0f-4d04-962c-7799a1a1bb24",
   "metadata": {},
   "source": [
    "This is the same as the previous code, but now you’ll check if digits is equal to 5. If so, then you’ll .throw() a ValueError. To confirm that this works as expected, take a look at the code’s output:\n",
    "\n",
    "```python\n",
    "11\n",
    "111\n",
    "1111\n",
    "10101\n",
    "Traceback (most recent call last):\n",
    "  File \"advanced_gen.py\", line 47, in <module>\n",
    "    main()\n",
    "  File \"advanced_gen.py\", line 41, in main\n",
    "    pal_gen.throw(ValueError(\"We don't like large palindromes\"))\n",
    "  File \"advanced_gen.py\", line 26, in infinite_palindromes\n",
    "    i = (yield num)\n",
    "ValueError: We don't like large palindromes\n",
    "```\n",
    "\n",
    "`.throw()` is useful in any areas where you might need to catch an exception. In this example, you used `.throw()` to control when you stopped iterating through the generator. You can do this more elegantly with `.close()`."
   ]
  },
  {
   "cell_type": "markdown",
   "id": "74e41471-651b-435e-bac6-96706207b7f2",
   "metadata": {},
   "source": [
    "## How to Use .close()\n",
    "\n",
    "As its name implies, `.close()` allows you to stop a generator. This can be especially handy when controlling an infinite sequence generator. Let’s update the code above by changing `.throw()` to `.close()` to stop the iteration:"
   ]
  },
  {
   "cell_type": "code",
   "execution_count": 83,
   "id": "4ec99b67-a558-46b0-a2fd-ca9689481ae1",
   "metadata": {},
   "outputs": [
    {
     "name": "stdout",
     "output_type": "stream",
     "text": [
      "11\n",
      "111\n",
      "1111\n",
      "10101\n"
     ]
    },
    {
     "ename": "StopIteration",
     "evalue": "",
     "output_type": "error",
     "traceback": [
      "\u001b[0;31m---------------------------------------------------------------------------\u001b[0m",
      "\u001b[0;31mStopIteration\u001b[0m                             Traceback (most recent call last)",
      "\u001b[0;32m/var/folders/jd/pq0swyt521jb2424d6fvth840000gn/T/ipykernel_26925/1016371208.py\u001b[0m in \u001b[0;36m<module>\u001b[0;34m\u001b[0m\n\u001b[1;32m      5\u001b[0m     \u001b[0;32mif\u001b[0m \u001b[0mdigits\u001b[0m \u001b[0;34m==\u001b[0m \u001b[0;36m5\u001b[0m\u001b[0;34m:\u001b[0m\u001b[0;34m\u001b[0m\u001b[0;34m\u001b[0m\u001b[0m\n\u001b[1;32m      6\u001b[0m         \u001b[0mpal_gen\u001b[0m\u001b[0;34m.\u001b[0m\u001b[0mclose\u001b[0m\u001b[0;34m(\u001b[0m\u001b[0;34m)\u001b[0m\u001b[0;34m\u001b[0m\u001b[0;34m\u001b[0m\u001b[0m\n\u001b[0;32m----> 7\u001b[0;31m     \u001b[0mpal_gen\u001b[0m\u001b[0;34m.\u001b[0m\u001b[0msend\u001b[0m\u001b[0;34m(\u001b[0m\u001b[0;36m10\u001b[0m \u001b[0;34m**\u001b[0m \u001b[0;34m(\u001b[0m\u001b[0mdigits\u001b[0m\u001b[0;34m)\u001b[0m\u001b[0;34m)\u001b[0m\u001b[0;34m\u001b[0m\u001b[0;34m\u001b[0m\u001b[0m\n\u001b[0m",
      "\u001b[0;31mStopIteration\u001b[0m: "
     ]
    }
   ],
   "source": [
    "pal_gen = infinite_palindromes()\n",
    "for i in pal_gen:\n",
    "    print(i)\n",
    "    digits = len(str(i))\n",
    "    if digits == 5:\n",
    "        pal_gen.close()\n",
    "    pal_gen.send(10 ** (digits))"
   ]
  },
  {
   "cell_type": "markdown",
   "id": "a1467930-f4bf-43c7-8df3-3cf3344d38c0",
   "metadata": {},
   "source": [
    "Instead of calling `.throw()`, you use `.close()` in line 6. The advantage of using `.close()` is that it raises `StopIteration`, an exception used to signal the end of a finite iterator:\n",
    "\n",
    "```python\n",
    "11\n",
    "111\n",
    "1111\n",
    "10101\n",
    "Traceback (most recent call last):\n",
    "  File \"advanced_gen.py\", line 46, in <module>\n",
    "    main()\n",
    "  File \"advanced_gen.py\", line 42, in main\n",
    "    pal_gen.send(10 ** (digits))\n",
    "StopIteration\n",
    "```\n",
    "\n",
    "Now that you’ve learned more about the special methods that come with generators, let’s talk about using generators to build data pipelines."
   ]
  },
  {
   "cell_type": "markdown",
   "id": "7309cf68-cc4f-4b04-8274-78562641695c",
   "metadata": {},
   "source": [
    "## Creating Data Pipelines With Generators\n",
    "\n",
    "Data pipelines allow you to string together code to process large datasets or streams of data without maxing out your machine’s memory. Imagine that you have a large CSV file:\n",
    "\n",
    "```csv\n",
    "permalink,company,numEmps,category,city,state,fundedDate,raisedAmt,raisedCurrency,round\n",
    "digg,Digg,60,web,San Francisco,CA,1-Dec-06,8500000,USD,b\n",
    "digg,Digg,60,web,San Francisco,CA,1-Oct-05,2800000,USD,a\n",
    "facebook,Facebook,450,web,Palo Alto,CA,1-Sep-04,500000,USD,angel\n",
    "facebook,Facebook,450,web,Palo Alto,CA,1-May-05,12700000,USD,a\n",
    "photobucket,Photobucket,60,web,Palo Alto,CA,1-Mar-05,3000000,USD,a\n",
    "```"
   ]
  },
  {
   "cell_type": "markdown",
   "id": "5ee8968f-ff08-4b5b-b6aa-75caf8ad9bf6",
   "metadata": {},
   "source": [
    "This example is pulled from the TechCrunch Continental USA set, which describes funding rounds and dollar amounts for various startups based in the USA. "
   ]
  },
  {
   "cell_type": "markdown",
   "id": "bd1d6e01-7aa0-4db2-9ab5-9af6b25adc8a",
   "metadata": {},
   "source": [
    "It’s time to do some processing in Python! To demonstrate how to build pipelines with generators, you’re going to analyze this file to get the total and average of all series A rounds in the dataset.\n",
    "\n",
    "Let’s think of a strategy:\n",
    "\n",
    "1. Read every line of the file.\n",
    "2. Split each line into a list of values.\n",
    "3. Extract the column names.\n",
    "4. Use the column names and lists to create a dictionary.\n",
    "5. Filter out the rounds you aren’t interested in.\n",
    "6. Calculate the total and average values for the rounds you are interested in."
   ]
  },
  {
   "cell_type": "markdown",
   "id": "621984d8-aad4-4cc2-b795-f76836d31a92",
   "metadata": {},
   "source": [
    "Normally, you can do this with a package like [pandas](https://realpython.com/pandas-python-explore-dataset/), but you can also achieve this functionality with just a few generators. You’ll start by reading each line from the file with a generator expression:"
   ]
  },
  {
   "cell_type": "code",
   "execution_count": 72,
   "id": "610ab61c-94e1-4411-b6c9-42fe03c161f0",
   "metadata": {},
   "outputs": [],
   "source": [
    "file_name = \"techcrunch.csv\"\n",
    "lines = (line for line in open(file_name))"
   ]
  },
  {
   "cell_type": "markdown",
   "id": "2581a5f9-8ae2-49fa-b77c-468ab1a693f2",
   "metadata": {},
   "source": [
    "Then, you’ll use another generator expression in concert with the previous one to split each line into a list:"
   ]
  },
  {
   "cell_type": "code",
   "execution_count": 73,
   "id": "ec999222-902d-436d-b012-5c1849f5f5fa",
   "metadata": {},
   "outputs": [],
   "source": [
    "list_line = (s.rstrip().split(\",\") for s in lines)"
   ]
  },
  {
   "cell_type": "markdown",
   "id": "17fb7ed2-7aeb-43a5-a4ad-e1b1844c889c",
   "metadata": {},
   "source": [
    "Here, you created the generator `list_line`, which iterates through the first generator lines. This is a common pattern to use when designing generator pipelines. Next, you’ll pull the column names out of techcrunch.csv. Since the column names tend to make up the first line in a CSV file, you can grab that with a short `next()` call:"
   ]
  },
  {
   "cell_type": "code",
   "execution_count": 74,
   "id": "8810e4b9-15bd-406e-9b93-41947bde7fa4",
   "metadata": {},
   "outputs": [],
   "source": [
    "cols = next(list_line)"
   ]
  },
  {
   "cell_type": "markdown",
   "id": "6c271afe-b364-42ee-93ba-d6193499ac95",
   "metadata": {},
   "source": [
    "This call to `next()` advances the iterator over the list_line generator one time. Put it all together, and your code should look something like this:"
   ]
  },
  {
   "cell_type": "code",
   "execution_count": 75,
   "id": "a3d67c49-fcc0-4282-bb20-a780c58c1dba",
   "metadata": {},
   "outputs": [],
   "source": [
    "file_name = \"techcrunch.csv\"\n",
    "lines = (line for line in open(file_name))\n",
    "list_line = (s.rstrip().split(\",\") for s in lines)\n",
    "cols = next(list_line)"
   ]
  },
  {
   "cell_type": "markdown",
   "id": "679a41e7-41dd-4023-8aff-517daf6061b1",
   "metadata": {},
   "source": [
    "To sum this up, you first create a generator expression lines to yield each line in a file. Next, you iterate through that generator within the definition of another generator expression called list_line, which turns each line into a list of values. Then, you advance the iteration of list_line just once with `next()` to get a list of the column names from your CSV file.\n",
    "\n",
    ">Note: Watch out for trailing newlines! This code takes advantage of `.rstrip()` in the list_line generator expression to make sure there are no trailing newline characters, which can be present in CSV files."
   ]
  },
  {
   "cell_type": "markdown",
   "id": "37439bdb-5b73-44f1-aaa5-e0d5d39efdb9",
   "metadata": {},
   "source": [
    "To help you filter and perform operations on the data, you’ll create dictionaries where the keys are the column names from the CSV:"
   ]
  },
  {
   "cell_type": "code",
   "execution_count": 76,
   "id": "28cd26bc-a87a-4e62-9db5-3cdfa67ab1a3",
   "metadata": {},
   "outputs": [],
   "source": [
    "company_dicts = (dict(zip(cols, data)) for data in list_line)"
   ]
  },
  {
   "cell_type": "markdown",
   "id": "7a4b97c1-3c27-4dca-94f8-a104fc57f83e",
   "metadata": {},
   "source": [
    "This generator expression iterates through the lists produced by list_line. Then, it uses `zip()` and `dict()` to create the dictionary as specified above. Now, you’ll use a fourth generator to filter the funding round you want and pull raisedAmt as well:"
   ]
  },
  {
   "cell_type": "code",
   "execution_count": 78,
   "id": "657814b2-f873-40f1-93b4-c97d71e3bff6",
   "metadata": {},
   "outputs": [],
   "source": [
    "funding = (\n",
    "    int(company_dict[\"raisedAmt\"])\n",
    "    for company_dict in company_dicts\n",
    "    if company_dict[\"round\"] == \"a\"\n",
    ")"
   ]
  },
  {
   "cell_type": "markdown",
   "id": "3fc9b9d7-cc28-4533-a758-c7f3ef96950d",
   "metadata": {},
   "source": [
    "In this code snippet, your generator expression iterates through the results of company_dicts and takes the raisedAmt for any company_dict where the round key is \"a\"."
   ]
  },
  {
   "cell_type": "markdown",
   "id": "088bdbdb-e8c2-4eae-9fd3-c162f5b8886c",
   "metadata": {},
   "source": [
    "Remember, you aren’t iterating through all these at once in the generator expression. In fact, you aren’t iterating through anything until you actually use a for loop or a function that works on iterables, like `sum()`. In fact, call `sum()` now to iterate through the generators:"
   ]
  },
  {
   "cell_type": "code",
   "execution_count": 79,
   "id": "ac36ae2d-e4a7-4c55-ae2a-db6c165c6689",
   "metadata": {},
   "outputs": [],
   "source": [
    "total_series_a = sum(funding)"
   ]
  },
  {
   "cell_type": "markdown",
   "id": "77c5fa77-5321-4887-895d-1852bf1739b9",
   "metadata": {},
   "source": [
    "Putting this all together, you’ll produce the following script:"
   ]
  },
  {
   "cell_type": "code",
   "execution_count": 81,
   "id": "9cb1e1be-3c7f-431c-b71d-a3b99f583975",
   "metadata": {},
   "outputs": [
    {
     "name": "stdout",
     "output_type": "stream",
     "text": [
      "Total series A fundraising: $4376015000\n"
     ]
    }
   ],
   "source": [
    "file_name = \"techcrunch.csv\"\n",
    "lines = (line for line in open(file_name))\n",
    "list_line = (s.rstrip().split(\",\") for s in lines)\n",
    "cols = next(list_line)\n",
    "company_dicts = (dict(zip(cols, data)) for data in list_line)\n",
    "funding = (\n",
    "    int(company_dict[\"raisedAmt\"])\n",
    "    for company_dict in company_dicts\n",
    "    if company_dict[\"round\"] == \"a\"\n",
    ")\n",
    "total_series_a = sum(funding)\n",
    "print(f\"Total series A fundraising: ${total_series_a}\")"
   ]
  },
  {
   "cell_type": "markdown",
   "id": "5f29373d-1f3d-442b-a2df-7d3db251ebd7",
   "metadata": {},
   "source": [
    "This script pulls together every generator you’ve built, and they all function as one big data pipeline. Here’s a line by line breakdown:\n",
    "\n",
    "* **Line 2** reads in each line of the file.\n",
    "* **Line 3** splits each line into values and puts the values into a list.\n",
    "* **Line 4** uses `next()` to store the column names in a list.\n",
    "* **Line 5** creates dictionaries and unites them with a `zip()` call:\n",
    "    * **The keys** are the column names cols from line 4.\n",
    "    * **The values** are the rows in list form, created in line 3.\n",
    "* **Line 6** gets each company’s series A funding amounts. It also filters out any other raised amount.\n",
    "* **Line 11** begins the iteration process by calling `sum()` to get the total amount of series A funding found in the CSV."
   ]
  },
  {
   "cell_type": "markdown",
   "id": "1c4bef76-37ad-4ebd-9734-b6d7de73aca7",
   "metadata": {},
   "source": [
    "When you run this code on techcrunch.csv, you should find a total of $4,376,015,000 raised in series A funding rounds.\n",
    "\n",
    ">Note: The methods for handling CSV files developed in this tutorial are important for understanding how to use generators and the Python yield statement. However, when you work with CSV files in Python, you should instead use the csv module included in Python’s standard library. This module has optimized methods for handling CSV files efficiently."
   ]
  },
  {
   "cell_type": "markdown",
   "id": "e537a787-466d-40d9-aba8-4e6335bf9b48",
   "metadata": {},
   "source": [
    "To dig even deeper, try figuring out the average amount raised per company in a series A round. This is a bit trickier, so here are some hints:\n",
    "\n",
    "* Generators exhaust themselves after being iterated over fully.\n",
    "* You will still need the sum() function."
   ]
  },
  {
   "cell_type": "markdown",
   "id": "d3375960-c72f-4f02-b568-7101cf4e488b",
   "metadata": {},
   "source": [
    "## Conclusion\n",
    "\n",
    "In this tutorial, you’ve learned about generator functions and generator expressions.\n",
    "\n",
    "You now know:\n",
    "\n",
    "* How to use and write generator functions and generator expressions\n",
    "* How the all-important Python yield statement enables generators\n",
    "* How to use multiple Python yield statements in a generator function\n",
    "* How to use .send() to send data to a generator\n",
    "* How to use .throw() to raise generator exceptions\n",
    "* How to use .close() to stop a generator’s iteration\n",
    "* How to build a generator pipeline to efficiently process large CSV files\n",
    "\n",
    "How have generators helped you in your work or projects? If you’re just learning about them, then how do you plan to use them in the future? Did you find a good solution to the data pipeline problem? Let us know in the comments below!"
   ]
  },
  {
   "cell_type": "code",
   "execution_count": null,
   "id": "a144175f-3413-4bea-b836-fd20dc25d0ec",
   "metadata": {},
   "outputs": [],
   "source": []
  }
 ],
 "metadata": {
  "kernelspec": {
   "display_name": "Python 3 (ipykernel)",
   "language": "python",
   "name": "python3"
  },
  "language_info": {
   "codemirror_mode": {
    "name": "ipython",
    "version": 3
   },
   "file_extension": ".py",
   "mimetype": "text/x-python",
   "name": "python",
   "nbconvert_exporter": "python",
   "pygments_lexer": "ipython3",
   "version": "3.9.7"
  }
 },
 "nbformat": 4,
 "nbformat_minor": 5
}
