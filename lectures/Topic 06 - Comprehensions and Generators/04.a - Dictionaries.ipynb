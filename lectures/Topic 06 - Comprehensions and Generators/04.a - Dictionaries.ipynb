{
 "cells": [
  {
   "cell_type": "markdown",
   "metadata": {},
   "source": [
    "# Python Dictionaries\n",
    "[Python Dictionary Tutorial](https://www.datacamp.com/community/tutorials/python-dictionary-tutorial)\n",
    "\n",
    "A dictionary in Python is a collection of items accessed by a specific key rather than by index. What does this mean?\n",
    "\n",
    "Imagine a dictionary in the real world... when you need to look up the meaning of a word, you try to find the meaning using the word itself and not the possible index of the word. Python dictionaries work with the same concept, the word whose meaning you are looking for is the key and the meaning of the word is the value, you do not need to know the index of the word in a dictionary to find its meaning.\n",
    "\n",
    "Note: The keys in a dictionary have to be hashable.\n",
    "\n",
    "Hashing is the process of running an item through a specific kind of function. This function is called a \"hash function\". This hash function returns a unique output for a unique input value. Integers, floating point numbers, strings, tuples, and frozensets are hashable. While lists, dictionaries, and sets other than frozensets are not. Hashing is a somewhat complex topic and this is only the basic concept behind hashing.\n",
    "\n",
    "You can initialize a dictionary in Python a [variety of ways](https://thispointer.com/python-6-different-ways-to-create-dictionaries/):"
   ]
  },
  {
   "cell_type": "code",
   "execution_count": 1,
   "metadata": {},
   "outputs": [
    {
     "name": "stdout",
     "output_type": "stream",
     "text": [
      "{}\n"
     ]
    }
   ],
   "source": [
    "# Creating an empty dict using empty brackets\n",
    "word_frequency = {}\n",
    " \n",
    "# Creating an empty dict using dict()\n",
    "word_frequency = dict()\n",
    "\n",
    "print(word_frequency)"
   ]
  },
  {
   "cell_type": "code",
   "execution_count": 2,
   "metadata": {},
   "outputs": [
    {
     "name": "stdout",
     "output_type": "stream",
     "text": [
      "{'Hello': 7, 'hi': 10, 'there': 45, 'at': 23, 'this': 77}\n"
     ]
    }
   ],
   "source": [
    "# Creating Dictionaries with literals\n",
    "word_frequency = {\n",
    "\"Hello\" : 7,\n",
    "\"hi\" : 10,\n",
    "\"there\" : 45,\n",
    "\"at\" : 23,\n",
    "\"this\" : 77\n",
    "}\n",
    "print(word_frequency)"
   ]
  },
  {
   "cell_type": "code",
   "execution_count": 3,
   "metadata": {},
   "outputs": [
    {
     "name": "stdout",
     "output_type": "stream",
     "text": [
      "{'Hello': 7, 'hi': 10, 'there': 45, 'at': 23, 'this': 77}\n"
     ]
    }
   ],
   "source": [
    "# Creating Dictionaries by passing parametrs in dict constructor\n",
    "word_frequency = dict(Hello =  7, \n",
    "                     hi    = 10,\n",
    "                     there  = 45,\n",
    "                     at    = 23,\n",
    "                     this  = 77)\n",
    "print(word_frequency)"
   ]
  },
  {
   "cell_type": "code",
   "execution_count": 4,
   "metadata": {},
   "outputs": [
    {
     "name": "stdout",
     "output_type": "stream",
     "text": [
      "{'Hello': 7, 'hi': 10, 'there': 45, 'at': 23, 'this': 77}\n"
     ]
    }
   ],
   "source": [
    "# Creating dictionaries with a List of tuples    \n",
    "list_of_tuples = [(\"Hello\" , 7), (\"hi\" , 10), (\"there\" , 45),(\"at\" , 23),(\"this\" , 77)]\n",
    "word_frequency = dict(list_of_tuples)\n",
    "print(word_frequency)"
   ]
  },
  {
   "cell_type": "code",
   "execution_count": 5,
   "metadata": {},
   "outputs": [
    {
     "name": "stdout",
     "output_type": "stream",
     "text": [
      "{'Hello': 0, 'hi': 0, 'there': 0, 'at': 0, 'this': 0}\n"
     ]
    }
   ],
   "source": [
    "# create and Initialize a dictionary by this list elements as keys and with same value 0\n",
    "list_of_strings = [\"Hello\", \"hi\", \"there\", \"at\", \"this\"]\n",
    "word_frequency = dict.fromkeys(list_of_strings,0 )\n",
    "print(word_frequency)"
   ]
  },
  {
   "cell_type": "code",
   "execution_count": 6,
   "metadata": {},
   "outputs": [
    {
     "name": "stdout",
     "output_type": "stream",
     "text": [
      "{'Hello': 7, 'hi': 10, 'there': 45, 'at': 23, 'this': 77}\n"
     ]
    }
   ],
   "source": [
    "# Creating a Dictionary by a two lists\n",
    "list_of_strings = [\"Hello\", \"hi\", \"there\", \"at\", \"this\"]\n",
    "list_of_ints = [7, 10, 45, 23, 77, 99, 100, 101]\n",
    "# Merge the two lists to create a dictionary\n",
    "word_frequency = dict(zip(list_of_strings, list_of_ints))\n",
    "print(word_frequency)"
   ]
  },
  {
   "cell_type": "markdown",
   "metadata": {},
   "source": [
    "You can then access the values by specifying the dictionary key"
   ]
  },
  {
   "cell_type": "code",
   "execution_count": 7,
   "metadata": {},
   "outputs": [
    {
     "name": "stdout",
     "output_type": "stream",
     "text": [
      "fruit\n"
     ]
    }
   ],
   "source": [
    "# or this way\n",
    "a = {'apple': 'fruit', 'beetroot': 'vegetable', 'cake': 'dessert'}\n",
    "print(a['apple'])"
   ]
  },
  {
   "cell_type": "markdown",
   "metadata": {},
   "source": [
    "The items in a dictionary can have any data type. Check out some more examples of a dictionary to get a hang of it:"
   ]
  },
  {
   "cell_type": "code",
   "execution_count": 8,
   "metadata": {},
   "outputs": [
    {
     "name": "stdout",
     "output_type": "stream",
     "text": [
      "{'one': 1, 'two': 'to', 'three': 3.0, 'four': [4, 4.0]}\n"
     ]
    }
   ],
   "source": [
    "a = {'one': 1, 'two': 'to', 'three': 3.0, 'four': [4,4.0]}\n",
    "print(a)"
   ]
  },
  {
   "cell_type": "code",
   "execution_count": 9,
   "metadata": {},
   "outputs": [
    {
     "name": "stdout",
     "output_type": "stream",
     "text": [
      "{'one': 1.0, 'two': 'to', 'three': 3.0, 'four': [4, 4.0]}\n"
     ]
    }
   ],
   "source": [
    "# Update a dictionary\n",
    "a['one'] = 1.0 \n",
    "print(a)"
   ]
  },
  {
   "cell_type": "code",
   "execution_count": 10,
   "metadata": {},
   "outputs": [
    {
     "name": "stdout",
     "output_type": "stream",
     "text": [
      "{'two': 'to', 'three': 3.0, 'four': [4, 4.0]}\n"
     ]
    }
   ],
   "source": [
    "# Delete a single element\n",
    "del a['one'] \n",
    "print(a)"
   ]
  },
  {
   "cell_type": "code",
   "execution_count": 11,
   "metadata": {},
   "outputs": [
    {
     "name": "stdout",
     "output_type": "stream",
     "text": [
      "{}\n"
     ]
    }
   ],
   "source": [
    "# Delete all elements in the dictionary\n",
    "a.clear()\n",
    "print(a)"
   ]
  },
  {
   "cell_type": "code",
   "execution_count": 12,
   "metadata": {},
   "outputs": [
    {
     "ename": "NameError",
     "evalue": "name 'a' is not defined",
     "output_type": "error",
     "traceback": [
      "\u001b[0;31m---------------------------------------------------------------------------\u001b[0m",
      "\u001b[0;31mNameError\u001b[0m                                 Traceback (most recent call last)",
      "\u001b[0;32m/var/folders/jd/pq0swyt521jb2424d6fvth840000gn/T/ipykernel_93358/2899747350.py\u001b[0m in \u001b[0;36m<module>\u001b[0;34m\u001b[0m\n\u001b[1;32m      1\u001b[0m \u001b[0;31m# Delete the dictionary\u001b[0m\u001b[0;34m\u001b[0m\u001b[0;34m\u001b[0m\u001b[0m\n\u001b[1;32m      2\u001b[0m \u001b[0;32mdel\u001b[0m \u001b[0ma\u001b[0m\u001b[0;34m\u001b[0m\u001b[0;34m\u001b[0m\u001b[0m\n\u001b[0;32m----> 3\u001b[0;31m \u001b[0mprint\u001b[0m\u001b[0;34m(\u001b[0m\u001b[0ma\u001b[0m\u001b[0;34m)\u001b[0m\u001b[0;34m\u001b[0m\u001b[0;34m\u001b[0m\u001b[0m\n\u001b[0m",
      "\u001b[0;31mNameError\u001b[0m: name 'a' is not defined"
     ]
    }
   ],
   "source": [
    "# Delete the dictionary\n",
    "del a \n",
    "print(a)"
   ]
  },
  {
   "cell_type": "markdown",
   "metadata": {},
   "source": [
    "It is important to remember is that a key has to be unique in a dictionary, no duplicates are allowed. However, in case of duplicate keys rather than giving an error, Python will take the last instance of the key to be valid and simply ignore the first key-value pair."
   ]
  },
  {
   "cell_type": "code",
   "execution_count": 13,
   "metadata": {},
   "outputs": [
    {
     "name": "stdout",
     "output_type": "stream",
     "text": [
      "{'a1': 'icecream', 'a2': 'cookie'}\n",
      "icecream\n"
     ]
    }
   ],
   "source": [
    "sweet_dict = {'a1': 'cake', 'a2':'cookie', 'a1': 'icecream'}\n",
    "print(sweet_dict)\n",
    "print(sweet_dict['a1'])"
   ]
  },
  {
   "cell_type": "code",
   "execution_count": null,
   "metadata": {
    "collapsed": true,
    "jupyter": {
     "outputs_hidden": true
    }
   },
   "outputs": [],
   "source": []
  }
 ],
 "metadata": {
  "kernelspec": {
   "display_name": "Python 3 (ipykernel)",
   "language": "python",
   "name": "python3"
  },
  "language_info": {
   "codemirror_mode": {
    "name": "ipython",
    "version": 3
   },
   "file_extension": ".py",
   "mimetype": "text/x-python",
   "name": "python",
   "nbconvert_exporter": "python",
   "pygments_lexer": "ipython3",
   "version": "3.9.7"
  }
 },
 "nbformat": 4,
 "nbformat_minor": 4
}
