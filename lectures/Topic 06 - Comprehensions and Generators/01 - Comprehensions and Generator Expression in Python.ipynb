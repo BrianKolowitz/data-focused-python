{
 "cells": [
  {
   "cell_type": "markdown",
   "id": "3880149c-c025-4511-84ef-cd9a47990341",
   "metadata": {},
   "source": [
    "# Comprehensions and Generator Expressions\n",
    "[Source](https://towardsdatascience.com/comprehensions-and-generator-expression-in-python-2ae01c48fc50)"
   ]
  },
  {
   "cell_type": "markdown",
   "id": "c3902f91-2625-4368-b7eb-390723efb4fc",
   "metadata": {},
   "source": [
    "To understand Python’s Comprehension capabilities, it’s important to understand the concept of comprehension at first. Comprehension in programming is nothing but writing the (existing) code in a short and concise manner, mostly one single line. It is constructing a new sequence by shortening the existing one. Being good at code comprehension is fairly an important skill. You need to understand the implementation to apply the comprehension capabilities of programming. Python-3 supports comprehensions for:\n",
    "\n",
    "* List\n",
    "* Dictionary\n",
    "* Set\n",
    "* Generator"
   ]
  },
  {
   "cell_type": "markdown",
   "id": "87e2b59f-14e7-4c44-b7e7-00909a220789",
   "metadata": {},
   "source": [
    "## Different ways to define a List in Python\n",
    "\n",
    "## Directly listing out elements,\n",
    "\n",
    "A list can be defined directly by enumerating/listing out all of its elements between square brackets separated by a comma."
   ]
  },
  {
   "cell_type": "code",
   "execution_count": 38,
   "id": "0a1cf26c-213d-4599-afc5-f51b362684d8",
   "metadata": {},
   "outputs": [
    {
     "name": "stdout",
     "output_type": "stream",
     "text": [
      "num_cube[] = [8, 64, 216, 512, 1000]\n"
     ]
    }
   ],
   "source": [
    "num_cube=[8,64,216,512,1000]               \n",
    "print(f\"num_cube[] = {num_cube}\")"
   ]
  },
  {
   "cell_type": "markdown",
   "id": "cb14ef14-aac7-40fe-937a-5cba1a1fdb1e",
   "metadata": {},
   "source": [
    "## Using for loop,\n",
    "\n",
    "Define an empty list and add elements using built-in method `append()` in a for loop. Here we are creating a List of cubes of even numbers ranging between `1` to `10`. We have defined an empty List num_cube_floop and a for loop iterating over `range(1,11)`. Condition `n % 2 == 0` will makes sure only even numbers are evaluated for the output expression `n**3`."
   ]
  },
  {
   "cell_type": "code",
   "execution_count": 39,
   "id": "907d11db-8048-4732-90a6-cd23ed80cd15",
   "metadata": {},
   "outputs": [
    {
     "name": "stdout",
     "output_type": "stream",
     "text": [
      "num_cube_floop[] = [8, 64, 216, 512, 1000]\n"
     ]
    }
   ],
   "source": [
    "num_cube_floop=[]\n",
    "\n",
    "for n in range(1,11):\n",
    "    if n%2 == 0:               \n",
    "        num_cube_floop.append(n**3)\n",
    "        \n",
    "print(f\"num_cube_floop[] = {num_cube_floop}\")"
   ]
  },
  {
   "cell_type": "markdown",
   "id": "a23081ac-5647-4884-b50b-1bccf3d2c07d",
   "metadata": {},
   "source": [
    "## Using `+=` operator,\n",
    "\n",
    "Similar to the above example we have defined an empty List num_cube_op and for loop is iterating over the input file `list_input.txt`. We are separating the input data using `split( )` before adding it to the List using the operator `+=`."
   ]
  },
  {
   "cell_type": "code",
   "execution_count": 40,
   "id": "b0e9e341-a4a4-4f12-81e7-b704b80c9773",
   "metadata": {},
   "outputs": [
    {
     "name": "stdout",
     "output_type": "stream",
     "text": [
      "num_cube_op[] = ['8', '64', '216', '512', '1000']\n"
     ]
    }
   ],
   "source": [
    "num_cube_op = []\n",
    "\n",
    "with open(\"list_input.txt\",\"r\") as input_data:\n",
    "    for i in input_data:\n",
    "        num_cube_op += i.split()\n",
    "        \n",
    "print(f\"num_cube_op[] = {num_cube_op}\")"
   ]
  },
  {
   "cell_type": "markdown",
   "id": "ed4ab8da-ec99-4e13-92f5-cc128f11d25c",
   "metadata": {},
   "source": [
    "## Using map(),\n",
    "\n",
    "Here, we are using `map()` to create a List from the existing List. For anyone new to `map()` and `lambda` expression,\n",
    "\n",
    "* `map(function_to_apply, iterable)` — it applies ‘function’ to all the elements of an ‘iterable’.\n",
    "* `lambda parameters:output expression` — anonymous function, it is defined without a name and does not follow normal python function conventions.\n",
    "\n",
    "In the below code, `map( )` applies `lambda` expression(calculates a cube of the number) to existing List numbers and cast the output using `list( )` before the result is assigned to new List `num_cube_maps`."
   ]
  },
  {
   "cell_type": "code",
   "execution_count": 41,
   "id": "32207091-9911-4264-b6fa-73e658501e68",
   "metadata": {},
   "outputs": [
    {
     "name": "stdout",
     "output_type": "stream",
     "text": [
      "num_cube_map[] = [8, 64, 216, 512, 1000]\n"
     ]
    }
   ],
   "source": [
    "numbers=[2,4,6,8,10]\n",
    "num_cube_map=list(map(lambda n:n**3,numbers))\n",
    "\n",
    "print(f\"num_cube_map[] = {num_cube_map}\") "
   ]
  },
  {
   "cell_type": "markdown",
   "id": "950f7cb8-932a-45b2-bd15-4bdfb4b41dd7",
   "metadata": {},
   "source": [
    "There is yet another way of creating a List using Python’s Comprehension capabilities. It lets us create a List in a single line of code. It may seem a little difficult to understand at first as the syntax can be intimidating but here we are going to break it down for a simpler understanding."
   ]
  },
  {
   "cell_type": "markdown",
   "id": "da17c18a-d7b4-4b8b-a29d-540924ec9545",
   "metadata": {},
   "source": [
    "## List Comprehension\n",
    "\n",
    "List Comprehension’s general syntax is similar to [set-builder notation](https://en.wikipedia.org/wiki/Set-builder_notation). In set-theory, *“Set-builder notation is a mathematical notation of defining a set by either listing out all the elements of the set or by describing the properties that all set elements must satisfy.”*"
   ]
  },
  {
   "cell_type": "markdown",
   "id": "82c77137-7830-45e3-ac16-5ac7897559e2",
   "metadata": {},
   "source": [
    "![img1](https://miro.medium.com/max/754/1*utQceHZEfQNPUGwneddDKQ.png)"
   ]
  },
  {
   "cell_type": "markdown",
   "id": "0b7ee816-d207-48f2-9261-632886da7faa",
   "metadata": {},
   "source": [
    "The left side of ‘|’ is an output expression and the right side is a rule which must be satisfied by all the elements of a set."
   ]
  },
  {
   "cell_type": "markdown",
   "id": "1523b9bd-9049-493a-9604-4e873b588b96",
   "metadata": {},
   "source": [
    "![img2](https://miro.medium.com/max/918/1*ZsTnY48v6js9hFXp8OV9wQ.png)"
   ]
  },
  {
   "cell_type": "markdown",
   "id": "27783a7c-9125-4438-8a99-f6bb0eef4a87",
   "metadata": {},
   "source": [
    "Here, output expression (n3) defines the elements of the set and rule is consists of input set (n ϵ N) and filter conditions (n<=10 and n!=0). "
   ]
  },
  {
   "cell_type": "markdown",
   "id": "52647c36-365b-4e71-94c3-1135d80ddc21",
   "metadata": {},
   "source": [
    "The above set definition basically maps all the natural numbers in set N (0,1,2,….) and limits the input with n<=10 and n!=0. "
   ]
  },
  {
   "cell_type": "markdown",
   "id": "3f72fbd5-d230-4736-b11e-de13767ec7f1",
   "metadata": {},
   "source": [
    "The resulting set is,\n",
    "\n",
    "S1 = {8, 64, 216, 512, 1000}\n",
    "\n",
    "S1 = {n3 ∣ n ϵ N, n<=10 and n !=0}"
   ]
  },
  {
   "cell_type": "markdown",
   "id": "0570f30c-1935-47b2-9565-be1bf8422aa6",
   "metadata": {},
   "source": [
    "Similarly, the most basic syntax of List Comprehension is,\n",
    "![img3](https://miro.medium.com/max/1032/1*7MZ15wfRvCVmO3EYiky8Tg.png)"
   ]
  },
  {
   "cell_type": "markdown",
   "id": "d4167c25-bd00-4675-ad68-ace302d42210",
   "metadata": {},
   "source": [
    "## Examples\n",
    "\n",
    "### With `for` loop"
   ]
  },
  {
   "cell_type": "code",
   "execution_count": 10,
   "id": "a7f1e51f-b55a-48b4-809f-1ae381f84491",
   "metadata": {},
   "outputs": [
    {
     "name": "stdout",
     "output_type": "stream",
     "text": [
      "name_ltr[] = ['P', 'y', 't', 'h', 'o', 'n', ' ', 'P', 'r', 'o', 'g', 'r', 'a', 'm', 'm', 'i', 'n', 'g']\n"
     ]
    }
   ],
   "source": [
    "# print the characters of a string as List\n",
    "name=\"Python Programming\"\n",
    "name_ltr=[]\n",
    "\n",
    "for letter in name:\n",
    "    name_ltr.append(letter)\n",
    "    \n",
    "print(f\"name_ltr[] = {name_ltr}\")"
   ]
  },
  {
   "cell_type": "code",
   "execution_count": 9,
   "id": "3f3e5e95-3981-4f71-be13-066229a271dc",
   "metadata": {},
   "outputs": [
    {
     "name": "stdout",
     "output_type": "stream",
     "text": [
      "With List-Comprehension = ['P', 'y', 't', 'h', 'o', 'n', ' ', 'P', 'r', 'o', 'g', 'r', 'a', 'm', 'm', 'i', 'n', 'g']\n"
     ]
    }
   ],
   "source": [
    "# with List Comprehension\n",
    "name_ltr_lc=[letter for letter in name]\n",
    "print(f\"With List-Comprehension = {name_ltr_lc}\")"
   ]
  },
  {
   "cell_type": "markdown",
   "id": "5ea958a2-7cec-4781-9227-dad89f870d21",
   "metadata": {},
   "source": [
    "In the above example, we need to create a List of all the characters of the string literal. The usual way of achieving this is by defining an empty List and using `append( )` method inside a for loop to add the elements to our List. Here for loop is iterating over the string literal name and `append( )` adds all single characters of the string literal to List `name_ltr`. The same result can be obtained using List Comprehension without even worrying about defining a List or using `append( )`."
   ]
  },
  {
   "cell_type": "markdown",
   "id": "6cea07e6-548c-4b8a-9408-96ea0ac83193",
   "metadata": {},
   "source": [
    "![img4](https://miro.medium.com/max/1400/1*HZwXpipEKu4jLIXO4x7n5A.png)"
   ]
  },
  {
   "cell_type": "markdown",
   "id": "b81d3cda-4c19-4fe1-b629-bbc57adedb24",
   "metadata": {},
   "source": [
    "If we examine the syntax, List Comprehension is nothing but the rearrangement of the for loop and the output expression. We put the output expression at the beginning of the comprehension syntax followed by the loop. It’s pretty straightforward."
   ]
  },
  {
   "attachments": {
    "08f7ec17-d2d5-4796-ad89-a87baa688330.png": {
     "image/png": "[encoded data removed]"
    }
   },
   "cell_type": "markdown",
   "id": "016d133d-f605-4f7f-9661-13298882e7ac",
   "metadata": {},
   "source": [
    "![img5](attachment:08f7ec17-d2d5-4796-ad89-a87baa688330.png)"
   ]
  },
  {
   "cell_type": "markdown",
   "id": "009c0285-ea15-4906-be9d-633b2a03a59e",
   "metadata": {},
   "source": [
    "### With if statement\n",
    "\n",
    "Let’s take this a little further by adding a conditional statement to it. At the beginning of the article, we saw four different ways of creating a List of the cube of even numbers, one was using for loop"
   ]
  },
  {
   "cell_type": "code",
   "execution_count": 15,
   "id": "89b0d5cf-58f7-4385-b5de-a751678d90dc",
   "metadata": {},
   "outputs": [
    {
     "name": "stdout",
     "output_type": "stream",
     "text": [
      "num_cube_floop[] = [8, 64, 216, 512, 1000]\n"
     ]
    }
   ],
   "source": [
    "# creating a List of even numbers' cube\n",
    "num_cube_floop=[]\n",
    "\n",
    "for n in range(1,11):\n",
    "    if n % 2 == 0:                               \n",
    "        num_cube_floop.append(n**3)\n",
    "        \n",
    "print(f\"num_cube_floop[] = {num_cube_floop}\")"
   ]
  },
  {
   "cell_type": "code",
   "execution_count": 16,
   "id": "e58e6321-b86c-483d-86e9-cb8fb23b2150",
   "metadata": {},
   "outputs": [
    {
     "name": "stdout",
     "output_type": "stream",
     "text": [
      "With List-Comprehension = [8, 64, 216, 512, 1000]\n"
     ]
    }
   ],
   "source": [
    "# with List Comprehension\n",
    "num_cube_lc=[n**3 for n in range(1,11) if n % 2 == 0]\n",
    "print(f\"With List-Comprehension = {num_cube_lc}\")"
   ]
  },
  {
   "cell_type": "markdown",
   "id": "3c9088d0-429f-4f8a-bd39-ab526ba11701",
   "metadata": {},
   "source": [
    "As we can see in the code block, four lines of code are reduced to a single line when using List Comprehension.\n",
    "\n",
    "![img6](https://miro.medium.com/max/1400/1*E-Kj66cJddWqRu16SkQcmQ.png)"
   ]
  },
  {
   "cell_type": "markdown",
   "id": "c4f113a8-406f-4cfd-91d4-cb89e9de908e",
   "metadata": {},
   "source": [
    "Let’s take another example, create a List of words starting from a specific letter of a given string literal."
   ]
  },
  {
   "cell_type": "code",
   "execution_count": 18,
   "id": "ac423f6d-bf1e-4a97-9ae2-e59ed68dd1ef",
   "metadata": {},
   "outputs": [
    {
     "name": "stdout",
     "output_type": "stream",
     "text": [
      "words[] = ['Python', 'Programming']\n"
     ]
    }
   ],
   "source": [
    "# list out words starting from letter 'P'\n",
    "statement=\"List Comprehension is one of the famous features of Python Programming\"\n",
    "words=[]\n",
    "\n",
    "for w in statement.split():\n",
    "    if w.startswith('P'):\n",
    "        words.append(w)\n",
    "\n",
    "print(f\"words[] = {words}\")"
   ]
  },
  {
   "cell_type": "code",
   "execution_count": 19,
   "id": "69dda6d4-9055-47e9-b435-b4c5d084f381",
   "metadata": {},
   "outputs": [
    {
     "name": "stdout",
     "output_type": "stream",
     "text": [
      "With List-Comprehension = ['Python', 'Programming']\n"
     ]
    }
   ],
   "source": [
    "# with List Comprehension\n",
    "\n",
    "words_lc=[w for w in statement.split() if w.startswith('P')]\n",
    "print(f\"With List-Comprehension = {words_lc}\")"
   ]
  },
  {
   "cell_type": "markdown",
   "id": "81653e3c-d8d6-43aa-8923-f966fcf7c1d8",
   "metadata": {},
   "source": [
    "Here, `statement.split( )` separates(default separator is white space)all the words within the string literal and for loop will be iterated through it to filter all the words starting from letter `P` and result will be added to the List using `words.append(w)`. While using List Comprehension, output expression(which is always placed at the beginning) `w` is placed first, for loop is iterating over the string literal followed by if-condition."
   ]
  },
  {
   "cell_type": "markdown",
   "id": "49d10349-3f4e-4335-ade3-9c66f1a43cca",
   "metadata": {},
   "source": [
    "![img7](https://miro.medium.com/max/501/1*pM6S2suisZx65uhp0Z3UZA.png)"
   ]
  },
  {
   "cell_type": "markdown",
   "id": "9e07422f-7764-4252-9b9d-0c0c66153942",
   "metadata": {},
   "source": [
    "### With if-else statement\n",
    "\n",
    "The placement of if-else statement is different than the previously discussed scenarios in List Comprehension. When if-else conditional block is used, it is placed right after the output expression as shown in the below image."
   ]
  },
  {
   "cell_type": "markdown",
   "id": "2a8ada93-494c-4a11-90ed-f6e927c19294",
   "metadata": {},
   "source": [
    "![img8](https://miro.medium.com/max/700/1*Ut6aXMocCWy08c-bdK-maQ.png)"
   ]
  },
  {
   "cell_type": "markdown",
   "id": "3cbf1e91-ee0d-490a-8116-14e12e75c757",
   "metadata": {},
   "source": [
    "Let’s create a List of numbers<10 where we have to calculate square for even numbers and cube for the odd."
   ]
  },
  {
   "cell_type": "code",
   "execution_count": 21,
   "id": "48dd3b5d-c57a-4f50-ae58-c34e1edd431c",
   "metadata": {},
   "outputs": [
    {
     "name": "stdout",
     "output_type": "stream",
     "text": [
      "square_cube[] = [0, 1, 4, 27, 16, 125, 36, 343, 64, 729]\n",
      "With List-Conprehension = [0, 1, 4, 27, 16, 125, 36, 343, 64, 729]\n"
     ]
    }
   ],
   "source": [
    "square_cube=[]  #creating a List of numbers - even number->square and odd number->cube\n",
    "\n",
    "for num in range(10):\n",
    "    if num%2==0:\n",
    "        square_cube.append(num**2)\n",
    "    else:\n",
    "        square_cube.append(num**3)\n",
    " \n",
    "print(f\"square_cube[] = {square_cube}\")"
   ]
  },
  {
   "cell_type": "code",
   "execution_count": 22,
   "id": "de759c92-b848-456d-a8ce-a01d23079754",
   "metadata": {},
   "outputs": [
    {
     "name": "stdout",
     "output_type": "stream",
     "text": [
      "With List-Conprehension = [0, 1, 4, 27, 16, 125, 36, 343, 64, 729]\n"
     ]
    }
   ],
   "source": [
    "#with List Comprehension\n",
    "square_cube_lc=[n**2 if n%2==0 else n**3 for n in range(10)]\n",
    "print(f\"With List-Conprehension = {square_cube_lc}\")"
   ]
  },
  {
   "cell_type": "markdown",
   "id": "4480490e-a0fc-468e-9c71-a68c7cc8aa05",
   "metadata": {},
   "source": [
    "The above code block filters the numbers based on condition `num % 2 == 0` and accordingly execute either `square_cube.append(num ** 2)` or `square_cube.append(num ** 3)`. While using List Comprehension output expression associated with if-statement is placed first and the other condition is followed by the else keyword.\n",
    "\n",
    "![img9](https://miro.medium.com/max/682/1*Gi8JeAsHOh_BgVwkaDkHmg.png)"
   ]
  },
  {
   "cell_type": "markdown",
   "id": "7eeec1d1-efe4-4417-bdea-eaea02b6db85",
   "metadata": {},
   "source": [
    "It’s really up to us how to convert the usual for loops into List comprehension, in yet another odd/even numbers example, I have created two Lists within a List numbers and the code block is self-explanatory."
   ]
  },
  {
   "cell_type": "code",
   "execution_count": 23,
   "id": "4a60739a-18f0-495d-bff1-a700476a61fd",
   "metadata": {},
   "outputs": [
    {
     "name": "stdout",
     "output_type": "stream",
     "text": [
      "numbers[] = [([0, 4, 16, 36, 64], [1, 27, 125, 343, 729])]\n"
     ]
    }
   ],
   "source": [
    "#Creating a List of two Lists - one for even numbers another for odd numbers.(Lists within a List)\n",
    "numbers=[]\n",
    "even=[]\n",
    "odd=[]\n",
    "\n",
    "for num in range(10):\n",
    "    if num%2==0:\n",
    "        even.append(num**2)\n",
    "    else:\n",
    "        odd.append(num**3)\n",
    "\n",
    "numbers.append((even,odd))\n",
    "print(f\"numbers[] = {numbers}\")"
   ]
  },
  {
   "cell_type": "code",
   "execution_count": 24,
   "id": "3e6b87ef-679d-4e1a-b8bd-1f44260bdc62",
   "metadata": {},
   "outputs": [
    {
     "name": "stdout",
     "output_type": "stream",
     "text": [
      "With List-Conprehension = [[0, 4, 16, 36, 64], [1, 27, 125, 343, 729]]\n"
     ]
    }
   ],
   "source": [
    "#with list comprehension\n",
    "numbers_lc=[[n**2 for n in range(10) if n%2==0],[n**3 for n in range(10)  if n%2!=0]]\n",
    "print(f\"With List-Conprehension = {numbers_lc}\")"
   ]
  },
  {
   "cell_type": "markdown",
   "id": "fde37bbc-956e-4061-a900-5ee16f821eb6",
   "metadata": {},
   "source": [
    "The difference is how the List is constructed using comprehension, two separate expressions are defined in order to create two Lists within a List.\n",
    "\n",
    "![img10](https://miro.medium.com/max/700/1*ehNIETFNQF5cYK9UvYx9Og.png)"
   ]
  },
  {
   "cell_type": "markdown",
   "id": "62d8f17d-7104-44e4-8bb4-1e01a1a8be14",
   "metadata": {},
   "source": [
    "### With nested-for loops\n",
    "\n",
    "Let’s take another example before wrapping up the List Comprehension. It is pretty inclusive and most of the time it can be used neatly for nested loops. We need to create a List of the [cartesian product](https://en.wikipedia.org/wiki/Cartesian_product) of two existing Lists char_list and int_list. One for loop is iterating over `char_list` and another over `int_list`. Elements from both the Lists are added to the resulting List cartesian as a tuple using `cartesian.append((x,y))`."
   ]
  },
  {
   "cell_type": "code",
   "execution_count": 25,
   "id": "a6ffac1e-ee10-4d82-b51f-eafe8a9d1e08",
   "metadata": {},
   "outputs": [
    {
     "name": "stdout",
     "output_type": "stream",
     "text": [
      "cartesian[] = \n",
      " [('a', 0), ('a', 1), ('a', 2), ('a', 3), ('b', 0), ('b', 1), ('b', 2), ('b', 3), ('c', 0), ('c', 1), ('c', 2), ('c', 3)]\n"
     ]
    }
   ],
   "source": [
    "#cartesian product of two Lists\n",
    "char_list=['a','b','c']\n",
    "int_list=[0,1,2,3]\n",
    "cartesian=[]\n",
    "\n",
    "for x in char_list:\n",
    "    for y in int_list:\n",
    "        cartesian.append((x,y))\n",
    "        \n",
    "print(f\"cartesian[] = \\n {cartesian}\")        "
   ]
  },
  {
   "cell_type": "code",
   "execution_count": 26,
   "id": "4e6b3946-e174-4639-bb62-131f63937da6",
   "metadata": {},
   "outputs": [
    {
     "name": "stdout",
     "output_type": "stream",
     "text": [
      "With List-Conprehension = \n",
      " [('a', 0), ('a', 1), ('a', 2), ('a', 3), ('b', 0), ('b', 1), ('b', 2), ('b', 3), ('c', 0), ('c', 1), ('c', 2), ('c', 3)]\n"
     ]
    }
   ],
   "source": [
    "#with List Comprehension\n",
    "print(f\"With List-Conprehension = \\n {[(p,q) for p in char_list for q in int_list]}\")"
   ]
  },
  {
   "cell_type": "markdown",
   "id": "ef629adf-70e8-45ef-990b-37a2eecff694",
   "metadata": {},
   "source": [
    "Output expression is a tuple and hence it is parenthesized. In List Comprehension nested for loops are placed in the order they are expected to be executed.\n",
    "\n",
    "![img11](https://miro.medium.com/max/544/1*mktIdr_N7xFXQg3i_dLrEw.png)"
   ]
  },
  {
   "cell_type": "markdown",
   "id": "0bce461d-e948-4798-997c-72e9ecb1695c",
   "metadata": {},
   "source": [
    "In the below code block, person is a List consisting of two dictionaries. Each of them has two keys, name and language. Now we have to create a List of values associated with a key, language. First for loop is iterating through the length of a List person and second, for loop is set up to get values of the key, language at the given index."
   ]
  },
  {
   "cell_type": "code",
   "execution_count": 27,
   "id": "a656cddc-2198-41c8-bfff-07cf092fe090",
   "metadata": {},
   "outputs": [
    {
     "name": "stdout",
     "output_type": "stream",
     "text": [
      "person[] = ['Python', 'Java', 'C++', 'C#']\n"
     ]
    }
   ],
   "source": [
    "#dictionary inside a list\n",
    "person = [ {'name': \"Emma\", 'language': [\"Python\", \"Java\"]},\n",
    "           {'name': \"Harry\", 'language': [\"C++\", \"C#\"]} \n",
    "         ]\n",
    "language=[]\n",
    "\n",
    "for p in range(len(person)):\n",
    "    for l in person[p]['language']:\n",
    "        language.append(l)\n",
    "        \n",
    "print(f\"person[] = {language}\")"
   ]
  },
  {
   "cell_type": "code",
   "execution_count": 28,
   "id": "7633c2cd-dd27-4d9a-9bfb-03c3bf90a78e",
   "metadata": {},
   "outputs": [
    {
     "name": "stdout",
     "output_type": "stream",
     "text": [
      "With List-Conprehension = ['Python', 'Java', 'C++', 'C#']\n"
     ]
    }
   ],
   "source": [
    "#with List Comprehension\n",
    "person_lc=[l for p in range(len(person)) for l in person[p]['language']]  \n",
    "print(f\"With List-Conprehension = {person_lc}\",)"
   ]
  },
  {
   "cell_type": "markdown",
   "id": "2a118656-e498-48bc-b47b-c6110e3fdc8b",
   "metadata": {},
   "source": [
    "The same result is achieved using List Comprehension by rearranging for loops in a single line.\n",
    "\n",
    "![img12](https://miro.medium.com/max/684/1*QTks_MSobwZFvs66QwIZnw.png)"
   ]
  },
  {
   "cell_type": "markdown",
   "id": "2ecc94d7-97de-49df-9aff-a200534f6d24",
   "metadata": {},
   "source": [
    "## Set Comprehension\n",
    "\n",
    "Set Comprehension functions the same way as List Comprehension except for the fact that it returns a Set and curly braces `{` `}` are used instead of square brackets `[` `]`. As it returns a Set, it will be of unique elements (Set property).\n",
    "\n",
    "Consider the same example we have discussed earlier, a List person consisting of three dictionary entries. If we compare the syntax of List and Set Comprehension in the code block, the difference is just square brackets and curly braces. Though output is different, unlike List Comprehension, Set Comprehension returns unique values."
   ]
  },
  {
   "cell_type": "code",
   "execution_count": 30,
   "id": "d1f64e97-68c2-4d71-84f1-8a4a64908e12",
   "metadata": {},
   "outputs": [],
   "source": [
    "#dictionary inside a list\n",
    "person = [ {'name': \"Emma\", 'language': [\"Python\", \"Java\"]},\n",
    "           {'name': \"Harry\", 'language': [\"C++\", \"Python\"]},\n",
    "           {'name': \"Lily\", 'language': [\"Python\"]} \n",
    "         ]"
   ]
  },
  {
   "cell_type": "code",
   "execution_count": 31,
   "id": "563ff44e-c532-4036-91a4-86e37ef71f0c",
   "metadata": {},
   "outputs": [
    {
     "name": "stdout",
     "output_type": "stream",
     "text": [
      "With List-Conprehension = ['Python', 'Java', 'C++', 'Python', 'Python']\n"
     ]
    }
   ],
   "source": [
    "#with List Comprehension\n",
    "person_lc=[l for p in range(len(person)) for l in person[p]['language']]  \n",
    "print(f\"With List-Conprehension = {person_lc}\")"
   ]
  },
  {
   "cell_type": "code",
   "execution_count": 32,
   "id": "c80bfb26-7f52-484a-b560-3a44c65c5630",
   "metadata": {},
   "outputs": [
    {
     "name": "stdout",
     "output_type": "stream",
     "text": [
      "With Set-Conprehension = {'Java', 'C++', 'Python'}\n"
     ]
    }
   ],
   "source": [
    "#with Set Comprehension\n",
    "person_sc={l for p in range(len(person)) for l in person[p]['language']}  \n",
    "print(f\"With Set-Conprehension = {person_sc}\")"
   ]
  },
  {
   "cell_type": "markdown",
   "id": "7c81f8c6-8e40-4ad2-8a2e-a29a50f2a7f3",
   "metadata": {},
   "source": [
    "## Dictionary Comprehension\n",
    "\n",
    "Unlike both List and Set Comprehension, Dictionary Comprehension is used when data is expected to be in a key-value pairing format. Let’s continue to the legacy of our number cube examples."
   ]
  },
  {
   "cell_type": "code",
   "execution_count": 33,
   "id": "4f3a1efe-cdde-497b-8b35-6fc0fabf3ac9",
   "metadata": {},
   "outputs": [
    {
     "name": "stdout",
     "output_type": "stream",
     "text": [
      "cubes = {1: 1, 2: 8, 3: 27, 4: 64, 5: 125, 6: 216, 7: 343, 8: 512, 9: 729, 10: 1000}\n"
     ]
    }
   ],
   "source": [
    "numbers=[num for num in range(1,11)]    #creating a List of numbers from 1 to 10\n",
    "num_cube=[n**3 for n in numbers]        #creating a List of cubes of numbers from 1 to 10     \n",
    "cubes={}\n",
    "\n",
    "for (key,value) in zip(numbers,num_cube):\n",
    "    cubes[key]=value\n",
    "    \n",
    "print(f\"cubes = {cubes}\")  "
   ]
  },
  {
   "cell_type": "code",
   "execution_count": 34,
   "id": "b4ccbe12-b42d-4b1a-b5e3-a47993483949",
   "metadata": {},
   "outputs": [
    {
     "name": "stdout",
     "output_type": "stream",
     "text": [
      "With Dictionary-Comprehension = {1: 1, 2: 8, 3: 27, 4: 64, 5: 125, 6: 216, 7: 343, 8: 512, 9: 729, 10: 1000}\n"
     ]
    }
   ],
   "source": [
    "#with Dictionary Comprehension\n",
    "cubes_dc={key:value for (key,value) in zip(numbers,num_cube)}\n",
    "print(f\"With Dictionary-Comprehension = {cubes_dc}\")"
   ]
  },
  {
   "cell_type": "markdown",
   "id": "97ca8cf6-4000-4cc2-931b-220c224e7db9",
   "metadata": {},
   "source": [
    "Two Lists are created using List Comprehension we have discussed earlier."
   ]
  },
  {
   "cell_type": "code",
   "execution_count": 35,
   "id": "36af61fd-9fed-4f57-87bc-20732795dec5",
   "metadata": {},
   "outputs": [],
   "source": [
    "numbers=[num for num in range(1,11)]  \n",
    "#numbers=[1,2,3,4,5,6,7,8,9,10]  \n",
    "\n",
    "num_cube=[n**3 for n in numbers]\n",
    "#num_cube=[1,8,27,64,125,216,343,512,729,1000]"
   ]
  },
  {
   "cell_type": "markdown",
   "id": "2378b9ec-a616-4c58-833b-0ae20168ac0e",
   "metadata": {},
   "source": [
    "We need to create a Dictionary where the value of a key is the number from List numbers and value comes from the second List `num_cubes`. for loop is iterating over `zip(numbers, num_cube)` for getting keys and values as tuple (key,value)."
   ]
  },
  {
   "cell_type": "markdown",
   "id": "bac2a221-3c7d-4c60-b1e6-0e1df516b1a5",
   "metadata": {},
   "source": [
    "`zip(iterables)` — maps the similar indexes of multiple containers and returns an iterator which is a series of tuples containing elements from each iterable passed in argument."
   ]
  },
  {
   "cell_type": "code",
   "execution_count": 36,
   "id": "0cafb692-e8ac-4a9a-b6ff-fc255195c2db",
   "metadata": {},
   "outputs": [
    {
     "name": "stdout",
     "output_type": "stream",
     "text": [
      "[(1, 1), (2, 8), (3, 27), (4, 64), (5, 125), (6, 216), (7, 343), (8, 512), (9, 729), (10, 1000)]\n"
     ]
    }
   ],
   "source": [
    "print(list(zip(numbers,num_cube)))"
   ]
  },
  {
   "cell_type": "markdown",
   "id": "e72526dc-036e-4732-9e60-a3cb34555d5b",
   "metadata": {},
   "source": [
    "The output expression key:value, maps the values returned from zip(numbers,num_cube) as shown in the below image.\n",
    "![img.png](https://miro.medium.com/max/650/1*yaesbTnpD0JgAW5IyluUeQ.png)"
   ]
  },
  {
   "cell_type": "markdown",
   "id": "b600ccaa-2d41-44dd-840f-516644dd7a89",
   "metadata": {},
   "source": [
    "## Generator Expression\n",
    "The syntax of Generator Expression is similar to List Comprehension except it uses parentheses `(` `)` instead of square brackets `[` `]`. Generators are special iterators in Python which returns the generator object. The point of using it, is to generate a sequence of items without having to store them in memory and this is why you can use Generator only once.\n",
    "\n",
    "Here, we have created a List num_cube_lc using List Comprehension and Generator Expression is defined as num_cube_generator."
   ]
  },
  {
   "cell_type": "code",
   "execution_count": 37,
   "id": "ac2a5bed-6d2d-4181-b20c-fc71ffbb1b87",
   "metadata": {},
   "outputs": [
    {
     "name": "stdout",
     "output_type": "stream",
     "text": [
      "List Comprehension = [8, 64, 216, 512, 1000]\n",
      "Generator Expression = <generator object <genexpr> at 0x7f9f187723c0>\n",
      "Sum = 1800\n"
     ]
    }
   ],
   "source": [
    "num_cube_lc=[n**3 for n in range(1,11) if n%2==0]    #List Comprehension\n",
    "num_cube_generator=(num**3 for num in range(1,11) if num%2==0)  #Generator Expression\n",
    "\n",
    "print(f\"List Comprehension = {num_cube_lc}\")\n",
    "print(f\"Generator Expression = {num_cube_generator}\")\n",
    "\n",
    "#sum(num_cube_generator)\n",
    "print(f\"Sum = {sum(num_cube_generator)}\")"
   ]
  },
  {
   "cell_type": "markdown",
   "id": "0737b0fd-e8b3-4ef6-929a-b672e74141e7",
   "metadata": {},
   "source": [
    "The output of Generator Expression is not like the one of List Comprehension; However, when used with sum( ) it does pass values generated from the expression."
   ]
  },
  {
   "cell_type": "markdown",
   "id": "75ec1d74-f15a-4461-9b68-04e07e4b70e3",
   "metadata": {},
   "source": [
    "## Conclusion\n",
    "Comprehensions are surely an effective way to reduce the line of code in general. Code is easier to read and understand most of the time; however, if you have multiple nested loops in your program logic, using Comprehension does make you sacrifice readability. Though Comprehensions are considered a more pythonic way of coding by some, it’s really up to you to determine the best situation to use or avoid it. Some of the useful resources for the topic are,\n",
    "\n",
    "* [Set-builder notation in set theory](https://en.wikipedia.org/wiki/Set-builder_notation#cite_note-2)\n",
    "* [5.1.3 List Comprehension](https://docs.python.org/3/tutorial/datastructures.html)\n",
    "* [Generator Expression and Comprehension](https://docs.python.org/3/howto/functional.html?highlight=generator%20compression)\n",
    "\n",
    "The code used for this article can be accessed from the author's [GitHub Repository](https://github.com/PhoenixIM/Pure_Python/blob/master/comprehensions.ipynb)"
   ]
  }
 ],
 "metadata": {
  "kernelspec": {
   "display_name": "Python 3 (ipykernel)",
   "language": "python",
   "name": "python3"
  },
  "language_info": {
   "codemirror_mode": {
    "name": "ipython",
    "version": 3
   },
   "file_extension": ".py",
   "mimetype": "text/x-python",
   "name": "python",
   "nbconvert_exporter": "python",
   "pygments_lexer": "ipython3",
   "version": "3.9.7"
  }
 },
 "nbformat": 4,
 "nbformat_minor": 5
}
