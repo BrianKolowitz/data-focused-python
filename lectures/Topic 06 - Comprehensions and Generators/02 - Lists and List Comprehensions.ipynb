{
 "cells": [
  {
   "cell_type": "markdown",
   "metadata": {},
   "source": [
    "# Python List Comprehensions\n",
    "[Python List Comprehension Tutorial](https://www.datacamp.com/community/tutorials/python-list-comprehension)\n",
    "\n",
    "When doing data science, you might find yourself wanting to read lists of lists, filtering column names, removing vowels from a list or flattening a matrix. You can easily use a lambda function or a for loop; As you well know, there are multiple ways to go about this. One other way to do this is by using list comprehensions.\n",
    "\n",
    "## Python List Comprehension\n",
    "\n",
    "List comprehensions are used to create lists programatically. List comprehensions in Python are constructed as follows:\n",
    "\n",
    "```python\n",
    "list_variable = [x for x in iterable]\n",
    "```\n",
    "\n",
    "### List Comprehension in Python: The Mathematics\n",
    "\n",
    "Remember in maths, the common ways to describe lists (or sets, or tuples, or vectors) are:\n",
    "\n",
    "```latex\n",
    "S = {x² : x in {0 ... 9}}\n",
    "V = (1, 2, 4, 8, ..., 2¹²)\n",
    "M = {x | x in S and x even}\n",
    "```\n",
    "\n",
    "In other words, you'll find that the above definitions actually tell you the following:\n",
    "\n",
    "* The sequence S is actually a sequence that contains values between 0 and 9 included that are raised to the power of two.\n",
    "* The sequence V, on the other hand, contains the value 2 that is raised to a certain power. For the first element in the sequence, this is 0, for the second this is 1, and so on, until you reach 12.\n",
    "* Lastly, the sequence M contains elements from the sequence S, but only the even ones.\n",
    "\n",
    "If the above definitions give you a headache, take a look at the actual lists that these definitions would produce:\n",
    "\n",
    "```latex\n",
    "S = {0, 1, 4, 9, 16, 25, 36, 49, 64, 81}\n",
    "V = {1, 2, 4, 8, 16, 32, 64, 128, 256, 512, 1024, 2048, 4096}\n",
    "M = {0, 4, 16, 36, 64}\n",
    "```"
   ]
  },
  {
   "cell_type": "code",
   "execution_count": 2,
   "metadata": {},
   "outputs": [
    {
     "name": "stdout",
     "output_type": "stream",
     "text": [
      "[0, 1, 4, 9, 16, 25, 36, 49, 64, 81]\n"
     ]
    }
   ],
   "source": [
    "# S = {x² : x in {0 ... 9}}\n",
    "S = []\n",
    "for x in range(10):\n",
    "    S.append(x**2)\n",
    "print(S)"
   ]
  },
  {
   "cell_type": "code",
   "execution_count": 3,
   "metadata": {},
   "outputs": [
    {
     "name": "stdout",
     "output_type": "stream",
     "text": [
      "[0, 1, 4, 9, 16, 25, 36, 49, 64, 81]\n"
     ]
    }
   ],
   "source": [
    "# S = {x² : x in {0 ... 9}}\n",
    "S = [x**2 for x in range(10)]\n",
    "print(S)"
   ]
  },
  {
   "cell_type": "markdown",
   "metadata": {},
   "source": [
    "*The list S is built up with the square brackets that you read above in the first section. In those brackets, you see that there is an element x, which is raised to the power of 10. Now, you just need to know for how many values (and which values!) you need to raise to the power of 2. This is determined in range(10). Considering all of this, you can derive that you'll raise all numbers, going from 0 to 9, to the power of 2.*"
   ]
  },
  {
   "cell_type": "code",
   "execution_count": 4,
   "metadata": {},
   "outputs": [
    {
     "name": "stdout",
     "output_type": "stream",
     "text": [
      "[1, 2, 4, 8, 16, 32, 64, 128, 256, 512, 1024, 2048, 4096]\n"
     ]
    }
   ],
   "source": [
    "# V = (1, 2, 4, 8, ..., 2¹²)\n",
    "V = []\n",
    "for i in range(13):\n",
    "    V.append(2**i)\n",
    "print(V)"
   ]
  },
  {
   "cell_type": "code",
   "execution_count": 5,
   "metadata": {},
   "outputs": [
    {
     "name": "stdout",
     "output_type": "stream",
     "text": [
      "[1, 2, 4, 8, 16, 32, 64, 128, 256, 512, 1024, 2048, 4096]\n"
     ]
    }
   ],
   "source": [
    "# V = (1, 2, 4, 8, ..., 2¹²)\n",
    "V = [2**i for i in range(13)]\n",
    "print(V)"
   ]
  },
  {
   "cell_type": "markdown",
   "metadata": {},
   "source": [
    "*The list V contains the base value 2, which is raised to a certain power. Just like before, now you need to know which power or i is exactly going to be used to do this. You see that i in this case is part of range(13), which means that you start from 0 and go until 12. All of this means that your list is going to have 13 values - those values will be 2 raised to the power 0, 1, 2, ... all the way up to 12.*"
   ]
  },
  {
   "cell_type": "code",
   "execution_count": 6,
   "metadata": {},
   "outputs": [
    {
     "name": "stdout",
     "output_type": "stream",
     "text": [
      "[0, 4, 16, 36, 64]\n"
     ]
    }
   ],
   "source": [
    "# M = {x | x in S and x even}\n",
    "M = []\n",
    "for x in S:\n",
    "    if x % 2 == 0:\n",
    "        M.append(x)\n",
    "print(M)"
   ]
  },
  {
   "cell_type": "code",
   "execution_count": 7,
   "metadata": {},
   "outputs": [
    {
     "name": "stdout",
     "output_type": "stream",
     "text": [
      "[0, 4, 16, 36, 64]\n"
     ]
    }
   ],
   "source": [
    "# M = {x | x in S and x even}\n",
    "M = [x for x in S if x % 2 == 0]\n",
    "print(M)"
   ]
  },
  {
   "cell_type": "markdown",
   "metadata": {},
   "source": [
    "*Lastly, the list M contains elements that are part of S if -and only if- they can be divided by 2 without having any leftovers. The modulo needs to be 0. In other words, the list M is built up with the equal values that are stored in list S.*"
   ]
  },
  {
   "cell_type": "markdown",
   "metadata": {},
   "source": [
    "## List Comprehension as an Alternative to...\n",
    "\n",
    "List comprehension is a complete substitute to for loops, lambda function as well as the functions ```map()```, ```filter()``` and ```reduce()```.\n",
    "\n",
    "### For Loops\n",
    "\n",
    "List comprehensions are actually good alternatives to for loops, as they are more compact. \n",
    "\n",
    "#### For Loop Example"
   ]
  },
  {
   "cell_type": "code",
   "execution_count": 8,
   "metadata": {},
   "outputs": [
    {
     "name": "stdout",
     "output_type": "stream",
     "text": [
      "[0, 4, 16, 36, 64]\n"
     ]
    }
   ],
   "source": [
    "numbers = range(0, 10)\n",
    "\n",
    "# Initialize `new_list`\n",
    "new_list = []\n",
    "\n",
    "# Add values to `new_list`\n",
    "for n in numbers:\n",
    "    if n % 2 == 0:\n",
    "        new_list.append(n**2)\n",
    "\n",
    "# Print `new_list`\n",
    "print(new_list)"
   ]
  },
  {
   "cell_type": "markdown",
   "metadata": {},
   "source": [
    "#### List Comprehension Alternative to For Loop"
   ]
  },
  {
   "cell_type": "code",
   "execution_count": 9,
   "metadata": {},
   "outputs": [
    {
     "name": "stdout",
     "output_type": "stream",
     "text": [
      "[0, 4, 16, 36, 64]\n"
     ]
    }
   ],
   "source": [
    "numbers = range(0, 10)\n",
    "\n",
    "# Create `new_list` \n",
    "new_list = [n**2 for n in numbers if n%2==0]\n",
    "\n",
    "# Print `new_list`\n",
    "print(new_list)"
   ]
  },
  {
   "cell_type": "markdown",
   "metadata": {},
   "source": [
    "#### Which is faster?\n",
    "\n",
    "Let's study the difference in performance between the list comprehension and the for loop with a small test: you can set this up very quickly with the timeit library, which you can use to time small bits of Python code in a simple way. In this case, the small pieces of code that you will test are the for loop, which you will put in a function called power_two() for your convenience, and the exact list comprehension which you have formulated above."
   ]
  },
  {
   "cell_type": "code",
   "execution_count": 10,
   "metadata": {},
   "outputs": [],
   "source": [
    "# Import `timeit`\n",
    "import timeit"
   ]
  },
  {
   "cell_type": "code",
   "execution_count": 11,
   "metadata": {},
   "outputs": [
    {
     "name": "stdout",
     "output_type": "stream",
     "text": [
      "0.040025875001447275\n"
     ]
    }
   ],
   "source": [
    "# Print the execution time\n",
    "print(timeit.timeit('[n**2 for n in range(10) if n%2==0]', number=10000))"
   ]
  },
  {
   "cell_type": "code",
   "execution_count": 12,
   "metadata": {},
   "outputs": [],
   "source": [
    "# Define `power_two()` \n",
    "def power_two(numbers):\n",
    "    for n in numbers:\n",
    "        if n%2==0:\n",
    "            new_list.append(n**2)\n",
    "    return new_list"
   ]
  },
  {
   "cell_type": "code",
   "execution_count": 13,
   "metadata": {},
   "outputs": [
    {
     "name": "stdout",
     "output_type": "stream",
     "text": [
      "0.0407682080003724\n"
     ]
    }
   ],
   "source": [
    "print(timeit.timeit('power_two(numbers)', globals=globals(), number=10000))"
   ]
  },
  {
   "cell_type": "markdown",
   "metadata": {},
   "source": [
    "### Lambda Functions with map(), filter() and reduce()\n",
    "\n",
    "Lambda functions are also called \"anonymous functions\" or \"functions without name\". That means that you only use this type of functions when they are created. Lambda functions borrow their name from the lambda keyword in Python, which is used to declare these functions instead of the standard def keyword.\n",
    "\n",
    "You usually use these functions together with the ```map()```, ```filter()```, and ```reduce()``` functions.\n",
    "\n",
    "### Replace map() and Lambda Functions with List Comprehensions\n",
    "\n",
    "#### Map Example"
   ]
  },
  {
   "cell_type": "code",
   "execution_count": 14,
   "metadata": {},
   "outputs": [
    {
     "name": "stdout",
     "output_type": "stream",
     "text": [
      "<class 'map'> [128608.92408000001, 119750.65635, 122375.32826999998, 124015.74822]\n"
     ]
    }
   ],
   "source": [
    "# Initialize the `kilometer` list \n",
    "kilometer = [39.2, 36.5, 37.3, 37.8]\n",
    "\n",
    "# Construct `feet` with `map()`\n",
    "feet = map(lambda x: 3280.8399*x, kilometer)\n",
    "\n",
    "# Print `feet` as a list \n",
    "print(type(feet), list(feet))"
   ]
  },
  {
   "cell_type": "markdown",
   "metadata": {},
   "source": [
    "#### List Comprehension Alternative to Map"
   ]
  },
  {
   "cell_type": "code",
   "execution_count": 15,
   "metadata": {},
   "outputs": [
    {
     "name": "stdout",
     "output_type": "stream",
     "text": [
      "[128608.92408000001, 119750.65635, 122375.32826999998, 124015.74822]\n"
     ]
    }
   ],
   "source": [
    "# Convert `kilometer` to `feet` \n",
    "feet = []\n",
    "for x in kilometer:\n",
    "    feet.append(3280.8399*x)\n",
    "print(feet)"
   ]
  },
  {
   "cell_type": "code",
   "execution_count": 17,
   "metadata": {},
   "outputs": [
    {
     "name": "stdout",
     "output_type": "stream",
     "text": [
      "[128608, 119750, 122375, 124015]\n"
     ]
    }
   ],
   "source": [
    "# Convert `kilometer` to `feet` \n",
    "feet = [int(3280.8399*x) for x in kilometer]\n",
    "\n",
    "# Print `feet`\n",
    "print(feet)"
   ]
  },
  {
   "cell_type": "markdown",
   "metadata": {},
   "source": [
    "### Replace filter() and Lambda Functions with List Comprehensions\n",
    "\n",
    "#### Filter Example"
   ]
  },
  {
   "cell_type": "code",
   "execution_count": 19,
   "metadata": {},
   "outputs": [
    {
     "name": "stdout",
     "output_type": "stream",
     "text": [
      "[122375, 124015]\n"
     ]
    }
   ],
   "source": [
    "# Filter `feet` to only include odd distances \n",
    "uneven = filter(lambda x: x % 2, feet)\n",
    "\n",
    "# Check the type of `uneven`\n",
    "type(uneven)\n",
    "\n",
    "# Print `uneven` as a list\n",
    "print(list(uneven))"
   ]
  },
  {
   "cell_type": "markdown",
   "metadata": {},
   "source": [
    "#### List Comprehension Alternative to Filter"
   ]
  },
  {
   "cell_type": "code",
   "execution_count": 21,
   "metadata": {},
   "outputs": [
    {
     "name": "stdout",
     "output_type": "stream",
     "text": [
      "[128608, 119750, 122375, 124015]\n",
      "[False, False, True, True]\n"
     ]
    }
   ],
   "source": [
    "# Constructing `feet` \n",
    "feet = [int(x) for x in feet]\n",
    "\n",
    "# Print `feet`\n",
    "print(feet)\n",
    "\n",
    "# Get all odd distances\n",
    "uneven = [True if x%2 else False for x in feet]\n",
    "\n",
    "# Print `uneven`\n",
    "print(uneven)"
   ]
  },
  {
   "cell_type": "markdown",
   "metadata": {},
   "source": [
    "### Replace reduce() and Lambda Functions with List Comprehensions\n",
    "\n",
    "#### Reduce Example"
   ]
  },
  {
   "cell_type": "code",
   "execution_count": 22,
   "metadata": {},
   "outputs": [
    {
     "name": "stdout",
     "output_type": "stream",
     "text": [
      "494748\n"
     ]
    }
   ],
   "source": [
    "# Import `reduce` from `functools` \n",
    "from functools import reduce\n",
    "\n",
    "# Reduce `feet` to `reduced_feet`\n",
    "reduced_feet = reduce(lambda x,y: x+y, feet)\n",
    "\n",
    "# Print `reduced_feet`\n",
    "print(reduced_feet)"
   ]
  },
  {
   "cell_type": "markdown",
   "metadata": {},
   "source": [
    "#### List Comprehension Alternative to Reduce"
   ]
  },
  {
   "cell_type": "code",
   "execution_count": 23,
   "metadata": {},
   "outputs": [
    {
     "name": "stdout",
     "output_type": "stream",
     "text": [
      "494750.65692000004\n"
     ]
    }
   ],
   "source": [
    "# Construct `reduced_feet`\n",
    "reduced_feet = sum([float(3280.8399)*x for x in kilometer])\n",
    "\n",
    "# Print `reduced_feet`\n",
    "print(reduced_feet)"
   ]
  },
  {
   "cell_type": "markdown",
   "metadata": {},
   "source": [
    "## List Comprehensions with Conditionals"
   ]
  },
  {
   "cell_type": "code",
   "execution_count": 24,
   "metadata": {},
   "outputs": [
    {
     "name": "stdout",
     "output_type": "stream",
     "text": [
      "[122375, 124015]\n"
     ]
    }
   ],
   "source": [
    "# Define `uneven`\n",
    "uneven = [int(x) for x in feet if x%2]\n",
    "\n",
    "# Print `uneven` \n",
    "print(uneven)"
   ]
  },
  {
   "cell_type": "markdown",
   "metadata": {},
   "source": [
    "## Multiple If Conditions\n",
    "\n",
    "### Example"
   ]
  },
  {
   "cell_type": "code",
   "execution_count": 25,
   "metadata": {},
   "outputs": [
    {
     "name": "stdout",
     "output_type": "stream",
     "text": [
      "[0, 6, 12, 18, 24, 30, 36, 42, 48, 54, 60, 66, 72, 78, 84, 90, 96]\n"
     ]
    }
   ],
   "source": [
    "divided = []\n",
    "\n",
    "for x in range(100):\n",
    "    if x%2 == 0 :\n",
    "        if x%6 == 0:\n",
    "            divided.append(x)\n",
    "\n",
    "print(divided)"
   ]
  },
  {
   "cell_type": "markdown",
   "metadata": {},
   "source": [
    "### List Comprehension Alternative"
   ]
  },
  {
   "cell_type": "code",
   "execution_count": 26,
   "metadata": {},
   "outputs": [
    {
     "name": "stdout",
     "output_type": "stream",
     "text": [
      "[0, 6, 12, 18, 24, 30, 36, 42, 48, 54, 60, 66, 72, 78, 84, 90, 96]\n"
     ]
    }
   ],
   "source": [
    "divided = [x for x in range(100) if x % 2 == 0 if x % 6 == 0]\n",
    "\n",
    "print(divided)"
   ]
  },
  {
   "cell_type": "markdown",
   "metadata": {},
   "source": [
    "## if...else Conditions\n",
    "\n",
    "### Example"
   ]
  },
  {
   "cell_type": "code",
   "execution_count": 27,
   "metadata": {},
   "outputs": [
    {
     "name": "stdout",
     "output_type": "stream",
     "text": [
      "[128608, 119750, 122375, 124015]\n"
     ]
    }
   ],
   "source": [
    "values = []\n",
    "for x in feet:  \n",
    "    if x >= 120000:\n",
    "        x + 1\n",
    "    else: \n",
    "        x + 5\n",
    "    values.append(x)\n",
    "\n",
    "print(values)"
   ]
  },
  {
   "cell_type": "markdown",
   "metadata": {},
   "source": [
    "### List Comprehension Alternative"
   ]
  },
  {
   "cell_type": "code",
   "execution_count": 28,
   "metadata": {},
   "outputs": [
    {
     "name": "stdout",
     "output_type": "stream",
     "text": [
      "[128609, 119755, 122376, 124016]\n"
     ]
    }
   ],
   "source": [
    "values = [x+1 if x >= 120000 else x+5 for x in feet]\n",
    "print(values)"
   ]
  },
  {
   "cell_type": "markdown",
   "metadata": {},
   "source": [
    "## Nested List Comprehensions\n",
    "\n",
    "Apart from conditionals, you can also adjust your list comprehensions by nesting them within other list comprehensions. This is handy when you want to work with lists of lists: generating lists of lists, transposing lists of lists or flattening lists of lists to regular lists, for example, becomes extremely easy with nested list comprehensions.\n",
    "\n",
    "You see that most of the keywords and elements that are used in the example of the nested list comprehension are similar to the ones that you used in the simple list comprehension examples:\n",
    "\n",
    "* Square brackets\n",
    "* Two for keywords, followed by a variable that symbolizes an item of the list of lists (x) and a list item of a nested list (y); And\n",
    "* Two in keywords, followed by a list of lists (list_of_list) and a list item (x)."
   ]
  },
  {
   "cell_type": "code",
   "execution_count": 29,
   "metadata": {},
   "outputs": [
    {
     "name": "stdout",
     "output_type": "stream",
     "text": [
      "[[1, 2, 3], [4, 5, 6], [7, 8]]\n",
      "[1, 2, 3]\n",
      "[4, 5, 6]\n",
      "5\n",
      "[7, 8]\n"
     ]
    }
   ],
   "source": [
    "list_of_list = [[1,2,3],[4,5,6],[7,8]]\n",
    "print(list_of_list)\n",
    "print(list_of_list[0])\n",
    "print(list_of_list[1])\n",
    "print(list_of_list[1][1])\n",
    "print(list_of_list[2])"
   ]
  },
  {
   "cell_type": "code",
   "execution_count": 30,
   "metadata": {},
   "outputs": [
    {
     "name": "stdout",
     "output_type": "stream",
     "text": [
      "[1, 2, 3, 4, 5, 6, 7, 8]\n"
     ]
    }
   ],
   "source": [
    "# Flatten `list_of_list`\n",
    "flat = []\n",
    "for x in list_of_list:\n",
    "    for y in x:\n",
    "        flat.append(y)\n",
    "print(flat)"
   ]
  },
  {
   "cell_type": "code",
   "execution_count": 31,
   "metadata": {},
   "outputs": [
    {
     "name": "stdout",
     "output_type": "stream",
     "text": [
      "[1, 2, 3, 4, 5, 6, 7, 8]\n"
     ]
    }
   ],
   "source": [
    "# Flatten `list_of_list`\n",
    "flat = [y for x in list_of_list for y in x]\n",
    "print(flat)"
   ]
  },
  {
   "cell_type": "markdown",
   "metadata": {},
   "source": [
    "Let's now consider another example, where you see that you can also use two pairs of square brackets to change the logic of your nested list comprehension:"
   ]
  },
  {
   "cell_type": "code",
   "execution_count": 32,
   "metadata": {},
   "outputs": [
    {
     "data": {
      "text/plain": [
       "[[1, 4, 7], [2, 5, 8], [3, 6, 9]]"
      ]
     },
     "execution_count": 32,
     "metadata": {},
     "output_type": "execute_result"
    }
   ],
   "source": [
    "matrix = [[1,2,3], [4,5,6],[7,8,9]]\n",
    "\n",
    "[[row[i] for row in matrix] for i in range(len(matrix))]"
   ]
  },
  {
   "cell_type": "markdown",
   "metadata": {},
   "source": [
    "Now practice: rewrite the code chunk above to a nested for loop. If you need some pointers on how to tackle this exercise, go to one of the previous sections of this tutorial."
   ]
  },
  {
   "cell_type": "code",
   "execution_count": 33,
   "metadata": {},
   "outputs": [
    {
     "name": "stdout",
     "output_type": "stream",
     "text": [
      "[[1, 4, 7], [2, 5, 8], [3, 6, 9]]\n"
     ]
    }
   ],
   "source": [
    "transposed = []\n",
    "for i in range(len(matrix)):\n",
    "     transposed_row = []\n",
    "     for row in matrix:\n",
    "            transposed_row.append(row[i])\n",
    "     transposed.append(transposed_row)\n",
    "print(transposed)"
   ]
  },
  {
   "cell_type": "markdown",
   "metadata": {},
   "source": [
    "You can also use nested list comprehensions when you need to create a list of lists that is actually a matrix. Check out the following example:"
   ]
  },
  {
   "cell_type": "code",
   "execution_count": 34,
   "metadata": {},
   "outputs": [
    {
     "name": "stdout",
     "output_type": "stream",
     "text": [
      "[[0, 0, 0, 0], [0, 0, 0, 0], [0, 0, 0, 0]]\n"
     ]
    }
   ],
   "source": [
    "matrix = []\n",
    "for x in range(3):\n",
    "    nested = []\n",
    "    matrix.append(nested)\n",
    "    for row in range(4):\n",
    "        nested.append(0)\n",
    "print(matrix)"
   ]
  },
  {
   "cell_type": "code",
   "execution_count": 35,
   "metadata": {},
   "outputs": [
    {
     "data": {
      "text/plain": [
       "[[0, 0, 0, 0], [0, 0, 0, 0], [0, 0, 0, 0]]"
      ]
     },
     "execution_count": 35,
     "metadata": {},
     "output_type": "execute_result"
    }
   ],
   "source": [
    "# rewritten as a list comprehension\n",
    "matrix = [[0 for col in range(4)] for row in range(3)]\n",
    "matrix"
   ]
  },
  {
   "cell_type": "code",
   "execution_count": null,
   "metadata": {
    "collapsed": true,
    "jupyter": {
     "outputs_hidden": true
    }
   },
   "outputs": [],
   "source": []
  }
 ],
 "metadata": {
  "kernelspec": {
   "display_name": "Python 3 (ipykernel)",
   "language": "python",
   "name": "python3"
  },
  "language_info": {
   "codemirror_mode": {
    "name": "ipython",
    "version": 3
   },
   "file_extension": ".py",
   "mimetype": "text/x-python",
   "name": "python",
   "nbconvert_exporter": "python",
   "pygments_lexer": "ipython3",
   "version": "3.9.7"
  }
 },
 "nbformat": 4,
 "nbformat_minor": 4
}
