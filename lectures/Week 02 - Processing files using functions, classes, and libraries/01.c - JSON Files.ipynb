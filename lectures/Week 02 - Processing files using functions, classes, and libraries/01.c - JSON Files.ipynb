{
 "cells": [
  {
   "cell_type": "markdown",
   "metadata": {},
   "source": [
    "# JSON Files\n",
    "[Working With JSON Data in Python](https://realpython.com/python-json/)"
   ]
  },
  {
   "cell_type": "code",
   "execution_count": 1,
   "metadata": {},
   "outputs": [
    {
     "name": "stdout",
     "output_type": "stream",
     "text": [
      "{'games': [{'away_score': 10,\n",
      "            'away_team': 'Cubs',\n",
      "            'date': '2019-05-01',\n",
      "            'home_score': 0,\n",
      "            'home_team': 'Pirates'},\n",
      "           {'away_score': 0,\n",
      "            'away_team': 'Pirates',\n",
      "            'date': '2019-05-15',\n",
      "            'home_score': 7,\n",
      "            'home_team': 'Reds'},\n",
      "           {'away_score': 0,\n",
      "            'away_team': 'Pirates',\n",
      "            'date': '2019-05-17',\n",
      "            'home_score': 12,\n",
      "            'home_team': 'Reds'},\n",
      "           {'away_score': 0,\n",
      "            'away_team': 'Pirates',\n",
      "            'date': '2019-05-18',\n",
      "            'home_score': 8,\n",
      "            'home_team': 'Reds'},\n",
      "           {'away_score': 11,\n",
      "            'away_team': 'Brewers',\n",
      "            'date': '2019-05-21',\n",
      "            'home_score': 1,\n",
      "            'home_team': 'Pirates'}]}\n"
     ]
    }
   ],
   "source": [
    "from pprint import pprint\n",
    "# scores dictionary\n",
    "games = {\n",
    "    'games':[\n",
    "        {\n",
    "            'date': '2019-05-01', \n",
    "            'home_team': 'Pirates', \n",
    "            'home_score': 0, \n",
    "            'away_team': 'Cubs', \n",
    "            'away_score': 10\n",
    "        },\n",
    "        {\n",
    "            'date': '2019-05-15', \n",
    "            'home_team': 'Reds', \n",
    "            'home_score': 7, \n",
    "            'away_team': 'Pirates', \n",
    "            'away_score': 0\n",
    "        },\n",
    "        {\n",
    "            'date': '2019-05-17', \n",
    "            'home_team': 'Reds', \n",
    "            'home_score': 12, \n",
    "            'away_team': 'Pirates', \n",
    "            'away_score': 0\n",
    "        },\n",
    "        {\n",
    "            'date': '2019-05-18', \n",
    "            'home_team': 'Reds', \n",
    "            'home_score': 8, \n",
    "            'away_team': 'Pirates', \n",
    "            'away_score': 0\n",
    "        },\n",
    "        {\n",
    "            'date': '2019-05-21', \n",
    "            'home_team': 'Pirates', \n",
    "            'home_score': 1, \n",
    "            'away_team': 'Brewers', \n",
    "            'away_score': 11\n",
    "        }\n",
    "    ]\n",
    "}\n",
    "pprint(games)"
   ]
  },
  {
   "cell_type": "markdown",
   "metadata": {},
   "source": [
    "## Python Serialization\n",
    "\n",
    "In this instance, serialization is the process of converting the python objects to JSON. Python object types get serialized to the following JSON types.\n",
    "\n",
    "Python | JSON\n",
    "--- | ---\n",
    "dict | object\n",
    "list, tuple | array\n",
    "str\t| string\n",
    "int, long, float | number\n",
    "True | true\n",
    "False | false\n",
    "None | null"
   ]
  },
  {
   "cell_type": "code",
   "execution_count": 2,
   "metadata": {},
   "outputs": [
    {
     "name": "stdout",
     "output_type": "stream",
     "text": [
      "{'games': [{'away_score': 10,\n",
      "            'away_team': 'Cubs',\n",
      "            'date': '2019-05-01',\n",
      "            'home_score': 0,\n",
      "            'home_team': 'Pirates'},\n",
      "           {'away_score': 0,\n",
      "            'away_team': 'Pirates',\n",
      "            'date': '2019-05-15',\n",
      "            'home_score': 7,\n",
      "            'home_team': 'Reds'},\n",
      "           {'away_score': 0,\n",
      "            'away_team': 'Pirates',\n",
      "            'date': '2019-05-17',\n",
      "            'home_score': 12,\n",
      "            'home_team': 'Reds'},\n",
      "           {'away_score': 0,\n",
      "            'away_team': 'Pirates',\n",
      "            'date': '2019-05-18',\n",
      "            'home_score': 8,\n",
      "            'home_team': 'Reds'},\n",
      "           {'away_score': 11,\n",
      "            'away_team': 'Brewers',\n",
      "            'date': '2019-05-21',\n",
      "            'home_score': 1,\n",
      "            'home_team': 'Pirates'}]}\n",
      "\n",
      "('{\"games\": [{\"date\": \"2019-05-01\", \"home_team\": \"Pirates\", \"home_score\": 0, '\n",
      " '\"away_team\": \"Cubs\", \"away_score\": 10}, {\"date\": \"2019-05-15\", \"home_team\": '\n",
      " '\"Reds\", \"home_score\": 7, \"away_team\": \"Pirates\", \"away_score\": 0}, {\"date\": '\n",
      " '\"2019-05-17\", \"home_team\": \"Reds\", \"home_score\": 12, \"away_team\": \"Pirates\", '\n",
      " '\"away_score\": 0}, {\"date\": \"2019-05-18\", \"home_team\": \"Reds\", \"home_score\": '\n",
      " '8, \"away_team\": \"Pirates\", \"away_score\": 0}, {\"date\": \"2019-05-21\", '\n",
      " '\"home_team\": \"Pirates\", \"home_score\": 1, \"away_team\": \"Brewers\", '\n",
      " '\"away_score\": 11}]}')\n"
     ]
    }
   ],
   "source": [
    "import json\n",
    "pprint(games)\n",
    "print()\n",
    "\n",
    "games_json = json.dumps(games)\n",
    "pprint(games_json)"
   ]
  },
  {
   "cell_type": "code",
   "execution_count": 3,
   "metadata": {},
   "outputs": [
    {
     "name": "stdout",
     "output_type": "stream",
     "text": [
      "{\n",
      "    \"games\": [\n",
      "        {\n",
      "            \"date\": \"2019-05-01\",\n",
      "            \"home_team\": \"Pirates\",\n",
      "            \"home_score\": 0,\n",
      "            \"away_team\": \"Cubs\",\n",
      "            \"away_score\": 10\n",
      "        },\n",
      "        {\n",
      "            \"date\": \"2019-05-15\",\n",
      "            \"home_team\": \"Reds\",\n",
      "            \"home_score\": 7,\n",
      "            \"away_team\": \"Pirates\",\n",
      "            \"away_score\": 0\n",
      "        },\n",
      "        {\n",
      "            \"date\": \"2019-05-17\",\n",
      "            \"home_team\": \"Reds\",\n",
      "            \"home_score\": 12,\n",
      "            \"away_team\": \"Pirates\",\n",
      "            \"away_score\": 0\n",
      "        },\n",
      "        {\n",
      "            \"date\": \"2019-05-18\",\n",
      "            \"home_team\": \"Reds\",\n",
      "            \"home_score\": 8,\n",
      "            \"away_team\": \"Pirates\",\n",
      "            \"away_score\": 0\n",
      "        },\n",
      "        {\n",
      "            \"date\": \"2019-05-21\",\n",
      "            \"home_team\": \"Pirates\",\n",
      "            \"home_score\": 1,\n",
      "            \"away_team\": \"Brewers\",\n",
      "            \"away_score\": 11\n",
      "        }\n",
      "    ]\n",
      "}\n"
     ]
    }
   ],
   "source": [
    "# changing whitespace\n",
    "games_json = json.dumps(games, indent=4)\n",
    "print(games_json)"
   ]
  },
  {
   "cell_type": "code",
   "execution_count": 4,
   "metadata": {},
   "outputs": [
    {
     "name": "stdout",
     "output_type": "stream",
     "text": [
      "{\"games\":[{\"date\":\"2019-05-01\", \"home_team\":\"Pirates\", \"home_score\":0, \"away_team\":\"Cubs\", \"away_score\":10}, {\"date\":\"2019-05-15\", \"home_team\":\"Reds\", \"home_score\":7, \"away_team\":\"Pirates\", \"away_score\":0}, {\"date\":\"2019-05-17\", \"home_team\":\"Reds\", \"home_score\":12, \"away_team\":\"Pirates\", \"away_score\":0}, {\"date\":\"2019-05-18\", \"home_team\":\"Reds\", \"home_score\":8, \"away_team\":\"Pirates\", \"away_score\":0}, {\"date\":\"2019-05-21\", \"home_team\":\"Pirates\", \"home_score\":1, \"away_team\":\"Brewers\", \"away_score\":11}]}\n"
     ]
    }
   ],
   "source": [
    "# compacting\n",
    "games_json = json.dumps(games, separators=(', ', ':'))\n",
    "print(games_json)"
   ]
  },
  {
   "cell_type": "markdown",
   "metadata": {},
   "source": [
    "## Writing JSON files"
   ]
  },
  {
   "cell_type": "code",
   "execution_count": 5,
   "metadata": {},
   "outputs": [],
   "source": [
    "with open(\"games.json\", \"w\") as f:\n",
    "    json.dump(games, f)"
   ]
  },
  {
   "cell_type": "markdown",
   "metadata": {
    "collapsed": true
   },
   "source": [
    "## Reading JSON files"
   ]
  },
  {
   "cell_type": "code",
   "execution_count": 6,
   "metadata": {},
   "outputs": [
    {
     "name": "stdout",
     "output_type": "stream",
     "text": [
      "{'games': [{'date': '2019-05-01', 'home_team': 'Pirates', 'home_score': 0, 'away_team': 'Cubs', 'away_score': 10}, {'date': '2019-05-15', 'home_team': 'Reds', 'home_score': 7, 'away_team': 'Pirates', 'away_score': 0}, {'date': '2019-05-17', 'home_team': 'Reds', 'home_score': 12, 'away_team': 'Pirates', 'away_score': 0}, {'date': '2019-05-18', 'home_team': 'Reds', 'home_score': 8, 'away_team': 'Pirates', 'away_score': 0}, {'date': '2019-05-21', 'home_team': 'Pirates', 'home_score': 1, 'away_team': 'Brewers', 'away_score': 11}]}\n"
     ]
    }
   ],
   "source": [
    "# open and print line by line\n",
    "with open('games.json', \"r\") as f:\n",
    "    games = json.load(f)\n",
    "    print(games)"
   ]
  },
  {
   "cell_type": "markdown",
   "metadata": {
    "collapsed": true
   },
   "source": [
    "# Using JSONPath\n",
    "\n",
    "[Source](https://restfulapi.net/json-jsonpath/)\n",
    "\n",
    "One of the biggest strengths of XML is XPath, the query-oriented language to query subsections of an XML document. In the same line, JSONPath is a query language with features similar to XPath that lets you extract just the bits of a JSON document your application needs.\n",
    "\n",
    "\n",
    "## JSONPath Syntax\n",
    "\n",
    "As XPath, JSONPath also has syntax to follow:\n",
    "* ```$``` – symbol refers to the root object or element.\n",
    "* ```@``` – symbol refers to the current object or element.\n",
    "* ```.``` – operator is the dot-child operator, which you use to denote a child element of the current element.\n",
    "* ```[ ]``` – is the subscript operator, which you use to denote a child element of the current element (by name or index).\n",
    "* ```*``` – operator is a wildcard, returning all objects or elements regardless of their names.\n",
    "* ```,``` – operator is the union operator, which returns the union of the children or indexes indicated.\n",
    "* ```:``` – operator is the array slice operator, so you can slice collections using the syntax [start:end:step] to return a subcollection of a collection.\n",
    "* ```( )``` – operator lets you pass a script expression in the underlying implementation’s script language. It’s not supported by every implementation of JSONPath, however.\n",
    "* ```?``` ( ) – to query all items that meet a certain criteria.\n",
    "\n",
    "There are many online jsonpath validators out there, and I encourage you to try a few."
   ]
  },
  {
   "cell_type": "markdown",
   "metadata": {
    "collapsed": true
   },
   "source": [
    "## Using JSONPath in Python\n",
    "\n",
    "To use JSONPath, you will need to include its dependency and then use it.\n",
    "\n",
    "The library we'll use is [jsonpath-rw-ext](https://pypi.org/project/jsonpath-rw-ext/)\n",
    "\n",
    "```python\n",
    "pip install jsonpath-rw-ext\n",
    "```\n",
    "\n",
    "Once installed we're ready to use it."
   ]
  },
  {
   "cell_type": "markdown",
   "metadata": {},
   "source": [
    "## Finding Patient Name\n",
    "\n",
    "Lets try to parse a JSON file a few different ways. First, we need to load the data as a JSON object into memory."
   ]
  },
  {
   "cell_type": "code",
   "execution_count": 7,
   "metadata": {},
   "outputs": [
    {
     "name": "stdout",
     "output_type": "stream",
     "text": [
      "{'games': [{'date': '2019-05-01', 'home_team': 'Pirates', 'home_score': 0, 'away_team': 'Cubs', 'away_score': 10}, {'date': '2019-05-15', 'home_team': 'Reds', 'home_score': 7, 'away_team': 'Pirates', 'away_score': 0}, {'date': '2019-05-17', 'home_team': 'Reds', 'home_score': 12, 'away_team': 'Pirates', 'away_score': 0}, {'date': '2019-05-18', 'home_team': 'Reds', 'home_score': 8, 'away_team': 'Pirates', 'away_score': 0}, {'date': '2019-05-21', 'home_team': 'Pirates', 'home_score': 1, 'away_team': 'Brewers', 'away_score': 11}]}\n"
     ]
    }
   ],
   "source": [
    "with open('games.json', \"r\") as f:\n",
    "    games = json.load(f)\n",
    "    print(games)"
   ]
  },
  {
   "cell_type": "markdown",
   "metadata": {},
   "source": [
    "Now that the data is loaded, we can try to answer a few questions.\n",
    "\n",
    "### What dates were the games played on?"
   ]
  },
  {
   "cell_type": "code",
   "execution_count": 8,
   "metadata": {},
   "outputs": [
    {
     "name": "stdout",
     "output_type": "stream",
     "text": [
      "['2019-05-01', '2019-05-15', '2019-05-17', '2019-05-18', '2019-05-21']\n"
     ]
    }
   ],
   "source": [
    "# json parsing\n",
    "game_dates = []\n",
    "for game in games['games']:\n",
    "    game_date = game['date']\n",
    "    game_dates.append(game_date)\n",
    "print(game_dates)"
   ]
  },
  {
   "cell_type": "code",
   "execution_count": 9,
   "metadata": {},
   "outputs": [],
   "source": [
    "# jsonpath parsing\n",
    "# import the library\n",
    "import jsonpath_rw_ext as jp"
   ]
  },
  {
   "cell_type": "code",
   "execution_count": 10,
   "metadata": {},
   "outputs": [
    {
     "name": "stdout",
     "output_type": "stream",
     "text": [
      "['2019-05-01', '2019-05-15', '2019-05-17', '2019-05-18', '2019-05-21']\n"
     ]
    }
   ],
   "source": [
    "# create a jsonpath expression and match\n",
    "game_dates = jp.match(\"$.games[*].date\", games)\n",
    "print(game_dates)"
   ]
  },
  {
   "cell_type": "code",
   "execution_count": 11,
   "metadata": {},
   "outputs": [
    {
     "name": "stdout",
     "output_type": "stream",
     "text": [
      "['2019-05-01', '2019-05-15', '2019-05-17', '2019-05-18', '2019-05-21']\n"
     ]
    }
   ],
   "source": [
    "# this also works\n",
    "game_dates = jp.match(\"$.games..date\", games)\n",
    "print(game_dates)"
   ]
  },
  {
   "cell_type": "markdown",
   "metadata": {},
   "source": [
    "### What were the scores for the Pirates home games?"
   ]
  },
  {
   "cell_type": "code",
   "execution_count": 13,
   "metadata": {},
   "outputs": [
    {
     "name": "stdout",
     "output_type": "stream",
     "text": [
      "[{'date': '2019-05-01', 'home_team': 'Pirates', 'home_score': 0, 'away_team': 'Cubs', 'away_score': 10}, {'date': '2019-05-21', 'home_team': 'Pirates', 'home_score': 1, 'away_team': 'Brewers', 'away_score': 11}]\n"
     ]
    }
   ],
   "source": [
    "# json parsing\n",
    "home_scores = []\n",
    "for game in games['games']:\n",
    "    if game['home_team'] == 'Pirates':\n",
    "        home_scores.append(game)\n",
    "        \n",
    "print(home_scores)"
   ]
  },
  {
   "cell_type": "code",
   "execution_count": 14,
   "metadata": {},
   "outputs": [
    {
     "name": "stdout",
     "output_type": "stream",
     "text": [
      "[{'date': '2019-05-01', 'home_team': 'Pirates', 'home_score': 0, 'away_team': 'Cubs', 'away_score': 10}, {'date': '2019-05-21', 'home_team': 'Pirates', 'home_score': 1, 'away_team': 'Brewers', 'away_score': 11}]\n"
     ]
    }
   ],
   "source": [
    "# jsonpath parsing\n",
    "home_scores = jp.match(\"$.games[?(@.home_team=='Pirates')]\", games)\n",
    "print(home_scores)"
   ]
  },
  {
   "cell_type": "markdown",
   "metadata": {},
   "source": [
    "### What were the scores after May 15th"
   ]
  },
  {
   "cell_type": "code",
   "execution_count": 16,
   "metadata": {},
   "outputs": [
    {
     "name": "stdout",
     "output_type": "stream",
     "text": [
      "[{'date': '2019-05-17', 'home_team': 'Reds', 'home_score': 12, 'away_team': 'Pirates', 'away_score': 0}, {'date': '2019-05-18', 'home_team': 'Reds', 'home_score': 8, 'away_team': 'Pirates', 'away_score': 0}, {'date': '2019-05-21', 'home_team': 'Pirates', 'home_score': 1, 'away_team': 'Brewers', 'away_score': 11}]\n"
     ]
    }
   ],
   "source": [
    "# json parsing\n",
    "game_scores = []\n",
    "for game in games['games']:\n",
    "    if game['date'] > '2019-05-15':\n",
    "        game_scores.append(game)\n",
    "        \n",
    "print(game_scores)"
   ]
  },
  {
   "cell_type": "code",
   "execution_count": 17,
   "metadata": {},
   "outputs": [
    {
     "name": "stdout",
     "output_type": "stream",
     "text": [
      "[{'date': '2019-05-01', 'home_team': 'Pirates', 'home_score': 0, 'away_team': 'Cubs', 'away_score': 10}, {'date': '2019-05-21', 'home_team': 'Pirates', 'home_score': 1, 'away_team': 'Brewers', 'away_score': 11}]\n"
     ]
    }
   ],
   "source": [
    "# jsonpath parsing\n",
    "game_scores = jp.match(\"$.games[?(@.date > '2019-05-15')]\", games)\n",
    "print(home_scores)"
   ]
  },
  {
   "cell_type": "code",
   "execution_count": null,
   "metadata": {},
   "outputs": [],
   "source": []
  }
 ],
 "metadata": {
  "kernelspec": {
   "display_name": "Python 3",
   "language": "python",
   "name": "python3"
  },
  "language_info": {
   "codemirror_mode": {
    "name": "ipython",
    "version": 3
   },
   "file_extension": ".py",
   "mimetype": "text/x-python",
   "name": "python",
   "nbconvert_exporter": "python",
   "pygments_lexer": "ipython3",
   "version": "3.6.8"
  }
 },
 "nbformat": 4,
 "nbformat_minor": 2
}
