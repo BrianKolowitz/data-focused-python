{
 "cells": [
  {
   "cell_type": "markdown",
   "metadata": {},
   "source": [
    "# Python Functions\n",
    "[Python Function Tutorial](https://www.datacamp.com/community/tutorials/functions-python-tutorial)\n",
    "\n",
    "Functions are used to encapsulate a set of relatred instructions that you want to use within your program to carry out a specific task. This helps with the organization of your code as well as code reusability. Oftent times functions accept parameters and return values, but that's not always the case.\n",
    "\n",
    "There are three types of functions in Python:\n",
    "\n",
    "1. Built-in functions, such as help() to ask for help, min() to get the minimum value, print() to print an object to the terminal,… You can find an overview with more of these functions here.\n",
    "1. User-Defined Functions (UDFs), which are functions that users create to help them out; And\n",
    "1. Anonymous functions, which are also called lambda functions because they are not declared with the standard def keyword.\n",
    "\n",
    "##  Functions vs. Methods\n",
    "\n",
    "A method is a function that's part of a class which we'll discuss in another lecture. Keep in mind all methods are functions but not all functions are methods.\n",
    "\n",
    "## Parameters vs. Arguments\n",
    "\n",
    "Parameters are the names used when defining a function or a method, and into which arguments will be mapped. In other words, arguments are the things which are supplied to any function or method call, while the function or method code refers to the arguments by their parameter names.\n",
    "\n",
    "Consider the function\n",
    "\n",
    "```python\n",
    "def sum(a, b):\n",
    "    return a + b\n",
    "```\n",
    "\n",
    "```sum``` has 2 parameters *a* and *b*. If you call the ```sum``` function with values **2** and **3** then **2** and **3** are the arguments.\n",
    "\n",
    "## Defining User Functions\n",
    "\n",
    "The four steps to defining a function in Python are the following:\n",
    "\n",
    "1. Use the keyword ```def``` to declare the function and follow this up with the function name.\n",
    "1. Add parameters to the function: they should be within the parentheses of the function. End your line with a colon.\n",
    "1. Add statements that the functions should execute.\n",
    "1. End your function with a return statement if the function should output something. Without the return statement, your function will return an object None."
   ]
  },
  {
   "cell_type": "code",
   "execution_count": 1,
   "metadata": {},
   "outputs": [],
   "source": [
    "# takes no parameters, returns none\n",
    "def say_hello():\n",
    "    print('hello')"
   ]
  },
  {
   "cell_type": "code",
   "execution_count": 2,
   "metadata": {},
   "outputs": [],
   "source": [
    "x = say_hello()\n",
    "print(type(x), x)"
   ]
  },
  {
   "cell_type": "code",
   "execution_count": 3,
   "metadata": {},
   "outputs": [],
   "source": [
    "# takes parameters, returns none\n",
    "def say_something(message):\n",
    "    print(message)"
   ]
  },
  {
   "cell_type": "code",
   "execution_count": 4,
   "metadata": {},
   "outputs": [],
   "source": [
    "x = say_something('hello class')\n",
    "print(type(x), x)"
   ]
  },
  {
   "cell_type": "markdown",
   "metadata": {},
   "source": [
    "### The return Statement\n",
    "\n",
    "Sometimes it's useful to reuturn values from functions. We'll refactor our code to return values."
   ]
  },
  {
   "cell_type": "code",
   "execution_count": 5,
   "metadata": {},
   "outputs": [],
   "source": [
    "def get_message():\n",
    "    return 'hello class'\n",
    "\n",
    "def say_something():\n",
    "    message = get_message()\n",
    "    print(message)"
   ]
  },
  {
   "cell_type": "code",
   "execution_count": 6,
   "metadata": {},
   "outputs": [],
   "source": [
    "x = get_message()\n",
    "print(type(x), x)"
   ]
  },
  {
   "cell_type": "code",
   "execution_count": 7,
   "metadata": {},
   "outputs": [],
   "source": [
    "say_something()"
   ]
  },
  {
   "cell_type": "code",
   "execution_count": 8,
   "metadata": {},
   "outputs": [],
   "source": [
    "print(type(say_something()))"
   ]
  },
  {
   "cell_type": "code",
   "execution_count": 9,
   "metadata": {},
   "outputs": [],
   "source": [
    "x = say_something()\n",
    "print(type(x), x)"
   ]
  },
  {
   "cell_type": "markdown",
   "metadata": {},
   "source": [
    "#### returning multiple values\n",
    "\n",
    "In python you can return values in a variety of data types including [primitive data structures](https://www.datacamp.com/community/tutorials/data-structures-python#primitive) such as integers, floats, strings, & booleans as well as [non-primitive data structures](https://www.datacamp.com/community/tutorials/data-structures-python#nonprimitive) such as arrays, lists, tuples, dictionaries, sets, and files."
   ]
  },
  {
   "cell_type": "code",
   "execution_count": 10,
   "metadata": {},
   "outputs": [],
   "source": [
    "# returning a list\n",
    "def get_messages():\n",
    "    return ['hello class', 'python is great', 'here we\\'re retuning a list']\n",
    "\n",
    "messages = get_messages()\n",
    "print(type(messages), messages)\n",
    "\n",
    "for message in messages:\n",
    "    print(type(message), message)"
   ]
  },
  {
   "cell_type": "code",
   "execution_count": 11,
   "metadata": {},
   "outputs": [],
   "source": [
    "# returning a tuple... more on tuples later\n",
    "def get_message():\n",
    "    return ('hello class', 3)\n",
    "\n",
    "message = get_message()\n",
    "print(type(message), message)\n",
    "\n",
    "for i in range(0, message[1]):\n",
    "    print(message[0])"
   ]
  },
  {
   "cell_type": "code",
   "execution_count": 12,
   "metadata": {},
   "outputs": [],
   "source": [
    "def get_message():\n",
    "    return 'hello class', 3 # ('s are optional\n",
    "\n",
    "message = get_message()\n",
    "print(type(message), message)\n",
    "\n",
    "for i in range(0, message[1]):\n",
    "    print(message[0])"
   ]
  },
  {
   "cell_type": "code",
   "execution_count": 13,
   "metadata": {},
   "outputs": [],
   "source": [
    "message, iterations = get_message()\n",
    "print(type(message), message)\n",
    "\n",
    "for i in range(0, iterations):\n",
    "    print(message)"
   ]
  },
  {
   "cell_type": "markdown",
   "metadata": {},
   "source": [
    "## Function Arguments in Python\n",
    "\n",
    "There are four types of arguments that Python functions can take:\n",
    "\n",
    "1. Default arguments\n",
    "1. Required arguments\n",
    "1. Keyword arguments\n",
    "1. Variable number of arguments\n",
    "\n",
    "### Default Arguments\n",
    "\n",
    "Default arguments are those that take a default value if no argument value is passed during the function call. You can assign this default value by with the assignment operator =, just like in the following example:"
   ]
  },
  {
   "cell_type": "code",
   "execution_count": 14,
   "metadata": {},
   "outputs": [
    {
     "name": "stdout",
     "output_type": "stream",
     "text": [
      "w: <class 'float'> 0.6141949340866538\n",
      "x: <class 'float'> 0.7236096904538915\n",
      "y: <class 'list'> [0.21366182254549937, 0.8084507728839393, 0.5814525467640246]\n",
      "z: <class 'NoneType'> None\n"
     ]
    }
   ],
   "source": [
    "import random\n",
    "\n",
    "def get_random_numbers(n=1):\n",
    "    if n == 1:\n",
    "        return random.random()\n",
    "    elif n > 1:\n",
    "        numbers = []\n",
    "        for i in range(0, n):\n",
    "            numbers.append(random.random())\n",
    "        return numbers\n",
    "    \n",
    "w = get_random_numbers()\n",
    "print('w:', type(w), w)\n",
    "\n",
    "x = get_random_numbers(1)\n",
    "print('x:', type(x), x)\n",
    "\n",
    "y = get_random_numbers(n=3)\n",
    "print('y:', type(y), y)\n",
    "\n",
    "z = get_random_numbers(n=-1)\n",
    "print('z:', type(z), z)"
   ]
  },
  {
   "cell_type": "markdown",
   "metadata": {},
   "source": [
    "### Required Arguments\n",
    "\n",
    "Required arguments are mandatory and you will generate an error if they're not present. Required arguments must be passed in precisely the right order, just like in the following example:"
   ]
  },
  {
   "cell_type": "code",
   "execution_count": 17,
   "metadata": {},
   "outputs": [
    {
     "name": "stdout",
     "output_type": "stream",
     "text": [
      "hello\n",
      "hello\n",
      "hello\n"
     ]
    }
   ],
   "source": [
    "def say_something(message, number_of_times):\n",
    "    for i in range(0, number_of_times):\n",
    "        print(message)\n",
    "\n",
    "# arguments passed in the proper order\n",
    "say_something('hello', 3)"
   ]
  },
  {
   "cell_type": "code",
   "execution_count": 18,
   "metadata": {},
   "outputs": [
    {
     "ename": "TypeError",
     "evalue": "'str' object cannot be interpreted as an integer",
     "output_type": "error",
     "traceback": [
      "\u001b[0;31m---------------------------------------------------------------------------\u001b[0m",
      "\u001b[0;31mTypeError\u001b[0m                                 Traceback (most recent call last)",
      "\u001b[0;32m<ipython-input-18-b19729b65905>\u001b[0m in \u001b[0;36m<module>\u001b[0;34m\u001b[0m\n\u001b[1;32m      1\u001b[0m \u001b[0;31m# arguments passed incorrectly\u001b[0m\u001b[0;34m\u001b[0m\u001b[0;34m\u001b[0m\u001b[0;34m\u001b[0m\u001b[0m\n\u001b[0;32m----> 2\u001b[0;31m \u001b[0msay_something\u001b[0m\u001b[0;34m(\u001b[0m\u001b[0;36m3\u001b[0m\u001b[0;34m,\u001b[0m \u001b[0;34m'hello'\u001b[0m\u001b[0;34m)\u001b[0m\u001b[0;34m\u001b[0m\u001b[0;34m\u001b[0m\u001b[0m\n\u001b[0m",
      "\u001b[0;32m<ipython-input-17-70cae7a69ece>\u001b[0m in \u001b[0;36msay_something\u001b[0;34m(message, number_of_times)\u001b[0m\n\u001b[1;32m      1\u001b[0m \u001b[0;32mdef\u001b[0m \u001b[0msay_something\u001b[0m\u001b[0;34m(\u001b[0m\u001b[0mmessage\u001b[0m\u001b[0;34m,\u001b[0m \u001b[0mnumber_of_times\u001b[0m\u001b[0;34m)\u001b[0m\u001b[0;34m:\u001b[0m\u001b[0;34m\u001b[0m\u001b[0;34m\u001b[0m\u001b[0m\n\u001b[0;32m----> 2\u001b[0;31m     \u001b[0;32mfor\u001b[0m \u001b[0mi\u001b[0m \u001b[0;32min\u001b[0m \u001b[0mrange\u001b[0m\u001b[0;34m(\u001b[0m\u001b[0;36m0\u001b[0m\u001b[0;34m,\u001b[0m \u001b[0mnumber_of_times\u001b[0m\u001b[0;34m)\u001b[0m\u001b[0;34m:\u001b[0m\u001b[0;34m\u001b[0m\u001b[0;34m\u001b[0m\u001b[0m\n\u001b[0m\u001b[1;32m      3\u001b[0m         \u001b[0mprint\u001b[0m\u001b[0;34m(\u001b[0m\u001b[0mmessage\u001b[0m\u001b[0;34m)\u001b[0m\u001b[0;34m\u001b[0m\u001b[0;34m\u001b[0m\u001b[0m\n\u001b[1;32m      4\u001b[0m \u001b[0;34m\u001b[0m\u001b[0m\n\u001b[1;32m      5\u001b[0m \u001b[0;31m# arguments passed in the proper order\u001b[0m\u001b[0;34m\u001b[0m\u001b[0;34m\u001b[0m\u001b[0;34m\u001b[0m\u001b[0m\n",
      "\u001b[0;31mTypeError\u001b[0m: 'str' object cannot be interpreted as an integer"
     ]
    }
   ],
   "source": [
    "# arguments passed incorrectly\n",
    "say_something(3, 'hello')"
   ]
  },
  {
   "cell_type": "markdown",
   "metadata": {},
   "source": [
    "### Keyword Arguments\n",
    "\n",
    "You can use keyword arguments to make sure that you call all the parameters in the right order. You can do so by specifying their parameter name in the function call."
   ]
  },
  {
   "cell_type": "code",
   "execution_count": 19,
   "metadata": {},
   "outputs": [
    {
     "name": "stdout",
     "output_type": "stream",
     "text": [
      "hello\n",
      "hello\n",
      "hello\n",
      "hello\n",
      "hello\n",
      "hello\n"
     ]
    }
   ],
   "source": [
    "say_something(message='hello', number_of_times=3)\n",
    "say_something(number_of_times=3, message='hello')"
   ]
  },
  {
   "cell_type": "markdown",
   "metadata": {},
   "source": [
    "### Variable Number of Arguments\n",
    "\n",
    "In cases where you don’t know the exact number of arguments that you want to pass to a function, you can use the following syntax with *args:"
   ]
  },
  {
   "cell_type": "code",
   "execution_count": 20,
   "metadata": {},
   "outputs": [
    {
     "name": "stdout",
     "output_type": "stream",
     "text": [
      "<class 'tuple'> (1,)\n",
      "1\n",
      "<class 'tuple'> (1, 1)\n",
      "2\n",
      "<class 'tuple'> (1, 2, 3, 4, 5)\n",
      "15\n"
     ]
    }
   ],
   "source": [
    "def add(*x):\n",
    "    print(type(x), x)\n",
    "    total = 0\n",
    "    for x in x:\n",
    "        total += x\n",
    "    return total\n",
    "\n",
    "total = add(1)\n",
    "print(total)\n",
    "\n",
    "total = add(1, 1)\n",
    "print(total)\n",
    "\n",
    "total = add(1, 2, 3, 4, 5)\n",
    "print(total)"
   ]
  },
  {
   "cell_type": "markdown",
   "metadata": {},
   "source": [
    "The asterisk ```*``` is placed before the variable name that holds the values of all nonkeyword variable arguments. Note here that you might as well have passed ```*varint```, ```*var_int_args``` or any other name to the ```plus()``` function."
   ]
  },
  {
   "cell_type": "code",
   "execution_count": 21,
   "metadata": {},
   "outputs": [
    {
     "name": "stdout",
     "output_type": "stream",
     "text": [
      "1\n",
      "3\n",
      "13\n"
     ]
    }
   ],
   "source": [
    "# You can spedify any combination of required, keyword, and variable arguments.\n",
    "def add(a, b, *args):\n",
    "    total = a\n",
    "    for arg in args:\n",
    "        total += arg\n",
    "    return total\n",
    "\n",
    "total = add(1, 1)\n",
    "print(total)\n",
    "total = add(1, 1, 2)\n",
    "print(total)\n",
    "total = add(1, 2, 3, 4, 5)\n",
    "print(total)"
   ]
  },
  {
   "cell_type": "markdown",
   "metadata": {},
   "source": [
    "### Global vs Local Variables\n",
    "\n",
    "In general, variables that are defined inside a function body have a local scope, and those defined outside have a global scope. That means that local variables are defined within a function block and can only be accessed inside that function, while global variables can be obtained by all functions that might be in your script:"
   ]
  },
  {
   "cell_type": "code",
   "execution_count": 22,
   "metadata": {},
   "outputs": [
    {
     "name": "stdout",
     "output_type": "stream",
     "text": [
      "5\n"
     ]
    }
   ],
   "source": [
    "# global variable\n",
    "score = 0\n",
    "\n",
    "def player_hit():\n",
    "    global score\n",
    "    hit_points = -10 # local variable\n",
    "    score += hit_points\n",
    "    \n",
    "def enemy_hit():\n",
    "    global score\n",
    "    hit_points = 5 # local variable\n",
    "    score += hit_points \n",
    "\n",
    "enemy_hit()\n",
    "enemy_hit()\n",
    "enemy_hit()\n",
    "enemy_hit()\n",
    "player_hit()\n",
    "enemy_hit()\n",
    "player_hit()\n",
    "\n",
    "print(score)"
   ]
  },
  {
   "cell_type": "markdown",
   "metadata": {},
   "source": [
    "## Anonymous Functions in Python\n",
    "\n",
    "Anonymous functions are also called lambda functions in Python because instead of declaring them with the standard def keyword, you use the ```lambda``` keyword."
   ]
  },
  {
   "cell_type": "code",
   "execution_count": 23,
   "metadata": {},
   "outputs": [],
   "source": [
    "double = lambda x: x * 2"
   ]
  },
  {
   "cell_type": "code",
   "execution_count": 24,
   "metadata": {},
   "outputs": [
    {
     "name": "stdout",
     "output_type": "stream",
     "text": [
      "6\n"
     ]
    }
   ],
   "source": [
    "y = double(3)\n",
    "print(y)"
   ]
  },
  {
   "cell_type": "code",
   "execution_count": 25,
   "metadata": {},
   "outputs": [
    {
     "name": "stdout",
     "output_type": "stream",
     "text": [
      "0\n"
     ]
    }
   ],
   "source": [
    "sdlfjsdk = lambda x, n: x if n < 5 else 0\n",
    "result = sdlfjsdk(4, 6)\n",
    "print(result)"
   ]
  },
  {
   "cell_type": "code",
   "execution_count": 26,
   "metadata": {},
   "outputs": [],
   "source": [
    "add = lambda x, y: x + y"
   ]
  },
  {
   "cell_type": "code",
   "execution_count": 27,
   "metadata": {},
   "outputs": [
    {
     "name": "stdout",
     "output_type": "stream",
     "text": [
      "5\n"
     ]
    }
   ],
   "source": [
    "x = add(2, 3)\n",
    "print(x)"
   ]
  },
  {
   "cell_type": "markdown",
   "metadata": {},
   "source": [
    "You use anonymous functions when you require a nameless function for a short period of time, and that is created at runtime. Specific contexts in which this would be relevant is when you’re working with ```filter()```, ```map()``` and ```reduce()```:\n",
    "\n",
    "* ```filter()``` function filters the original input list on the basis of a criterion > 10. \n",
    "* ```map()``` applies a function to all items of the list\n",
    "* ```reduce()``` is part of the functools library. You use this function cumulatively to the items of the my_list list, from left to right and reduce the sequence to a single value."
   ]
  },
  {
   "cell_type": "code",
   "execution_count": 28,
   "metadata": {},
   "outputs": [
    {
     "name": "stdout",
     "output_type": "stream",
     "text": [
      "[6, 7, 8, 9, 10]\n",
      "[2, 4, 6, 8, 10, 12, 14, 16, 18, 20]\n",
      "55\n"
     ]
    }
   ],
   "source": [
    "from functools import reduce\n",
    "\n",
    "my_list = [1,2,3,4,5,6,7,8,9,10]\n",
    "\n",
    "# Use lambda function with `filter()`\n",
    "filtered_list = list(filter(lambda x: (x * 2 > 10), my_list))\n",
    "\n",
    "# Use lambda function with `map()`\n",
    "mapped_list = list(map(lambda x: x * 2, my_list))\n",
    "\n",
    "# Use lambda function with `reduce()`\n",
    "reduced_list = reduce(lambda x, y: x + y, my_list)\n",
    "\n",
    "print(filtered_list)\n",
    "print(mapped_list)\n",
    "print(reduced_list)"
   ]
  },
  {
   "cell_type": "markdown",
   "metadata": {},
   "source": [
    "## Using main() as a Function\n",
    "\n",
    "You can easily define a main() function and call it just like you have done with all of the other functions above:"
   ]
  },
  {
   "cell_type": "code",
   "execution_count": 29,
   "metadata": {},
   "outputs": [
    {
     "name": "stdout",
     "output_type": "stream",
     "text": [
      "This is a main function\n"
     ]
    }
   ],
   "source": [
    "# Define `main()` function\n",
    "def main():\n",
    "  print(\"This is a main function\")\n",
    "\n",
    "main()"
   ]
  },
  {
   "cell_type": "markdown",
   "metadata": {},
   "source": [
    "However, as it stands now, the code of your ```main()``` function will be called when you import it as a module. To make sure that this doesn’t happen, you call the ```main()``` function when ```__name__ == '__main__'```."
   ]
  },
  {
   "cell_type": "code",
   "execution_count": 30,
   "metadata": {},
   "outputs": [
    {
     "name": "stdout",
     "output_type": "stream",
     "text": [
      "This is a main function\n"
     ]
    }
   ],
   "source": [
    "# Define `main()` function\n",
    "def main():\n",
    "  print(\"This is a main function\")\n",
    "  \n",
    "# Execute `main()` function \n",
    "if __name__ == '__main__':\n",
    "    main()"
   ]
  },
  {
   "cell_type": "code",
   "execution_count": null,
   "metadata": {},
   "outputs": [],
   "source": []
  }
 ],
 "metadata": {
  "kernelspec": {
   "display_name": "Python 3",
   "language": "python",
   "name": "python3"
  },
  "language_info": {
   "codemirror_mode": {
    "name": "ipython",
    "version": 3
   },
   "file_extension": ".py",
   "mimetype": "text/x-python",
   "name": "python",
   "nbconvert_exporter": "python",
   "pygments_lexer": "ipython3",
   "version": "3.6.8"
  }
 },
 "nbformat": 4,
 "nbformat_minor": 2
}
