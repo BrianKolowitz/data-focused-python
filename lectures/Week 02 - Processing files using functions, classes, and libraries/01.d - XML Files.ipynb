{
 "cells": [
  {
   "cell_type": "markdown",
   "metadata": {},
   "source": [
    "# XML Files\n",
    "[Python XML with ElementTree: Beginner's Guide](https://www.datacamp.com/community/tutorials/python-xml-elementtree)"
   ]
  },
  {
   "cell_type": "code",
   "execution_count": 13,
   "metadata": {},
   "outputs": [
    {
     "name": "stdout",
     "output_type": "stream",
     "text": [
      "\n",
      "<?xml version=\"1.0\"?>\n",
      "<scores>\n",
      "    <score>\n",
      "        <date>2019-05-01</date>\n",
      "        <home-team>Pirates</home-team>\n",
      "        <home-score>0</home-score>\n",
      "        <away-team>Cubs</away-team>\n",
      "        <away-score>10</away-score>\n",
      "    </score>\n",
      "    <score>\n",
      "        <date>2019-05-15</date>\n",
      "        <home-team>Reds</home-team>\n",
      "        <home-score>7</home-score>\n",
      "        <away-team>Pirates</away-team>\n",
      "        <away-score>0</away-score>\n",
      "    </score>\n",
      "</scores>\n",
      "\n"
     ]
    }
   ],
   "source": [
    "# scores dictionary\n",
    "scores_xml = \"\"\"\n",
    "<?xml version=\"1.0\"?>\n",
    "<scores>\n",
    "    <score>\n",
    "        <date>2019-05-01</date>\n",
    "        <home-team>Pirates</home-team>\n",
    "        <home-score>0</home-score>\n",
    "        <away-team>Cubs</away-team>\n",
    "        <away-score>10</away-score>\n",
    "    </score>\n",
    "    <score>\n",
    "        <date>2019-05-15</date>\n",
    "        <home-team>Reds</home-team>\n",
    "        <home-score>7</home-score>\n",
    "        <away-team>Pirates</away-team>\n",
    "        <away-score>0</away-score>\n",
    "    </score>\n",
    "</scores>\n",
    "\"\"\"\n",
    "print(scores_xml)"
   ]
  },
  {
   "cell_type": "code",
   "execution_count": 14,
   "metadata": {},
   "outputs": [
    {
     "name": "stdout",
     "output_type": "stream",
     "text": [
      "\n",
      "<xs:schema attributeFormDefault=\"unqualified\" elementFormDefault=\"qualified\" xmlns:xs=\"http://www.w3.org/2001/XMLSchema\">\n",
      "  <xs:element name=\"scores\">\n",
      "    <xs:complexType>\n",
      "      <xs:sequence>\n",
      "        <xs:element name=\"score\" maxOccurs=\"unbounded\" minOccurs=\"0\">\n",
      "          <xs:complexType>\n",
      "            <xs:sequence>\n",
      "              <xs:element type=\"xs:date\" name=\"date\"/>\n",
      "              <xs:element type=\"xs:string\" name=\"home-team\"/>\n",
      "              <xs:element type=\"xs:int\" name=\"home-score\"/>\n",
      "              <xs:element type=\"xs:string\" name=\"away-team\"/>\n",
      "              <xs:element type=\"xs:int\" name=\"away-score\"/>\n",
      "            </xs:sequence>\n",
      "          </xs:complexType>\n",
      "        </xs:element>\n",
      "      </xs:sequence>\n",
      "    </xs:complexType>\n",
      "  </xs:element>\n",
      "</xs:schema>\n",
      "\n"
     ]
    }
   ],
   "source": [
    "scores_xsd = \"\"\"\n",
    "<xs:schema attributeFormDefault=\"unqualified\" elementFormDefault=\"qualified\" xmlns:xs=\"http://www.w3.org/2001/XMLSchema\">\n",
    "  <xs:element name=\"scores\">\n",
    "    <xs:complexType>\n",
    "      <xs:sequence>\n",
    "        <xs:element name=\"score\" maxOccurs=\"unbounded\" minOccurs=\"0\">\n",
    "          <xs:complexType>\n",
    "            <xs:sequence>\n",
    "              <xs:element type=\"xs:date\" name=\"date\"/>\n",
    "              <xs:element type=\"xs:string\" name=\"home-team\"/>\n",
    "              <xs:element type=\"xs:int\" name=\"home-score\"/>\n",
    "              <xs:element type=\"xs:string\" name=\"away-team\"/>\n",
    "              <xs:element type=\"xs:int\" name=\"away-score\"/>\n",
    "            </xs:sequence>\n",
    "          </xs:complexType>\n",
    "        </xs:element>\n",
    "      </xs:sequence>\n",
    "    </xs:complexType>\n",
    "  </xs:element>\n",
    "</xs:schema>\n",
    "\"\"\"\n",
    "print(scores_xsd)"
   ]
  },
  {
   "cell_type": "markdown",
   "metadata": {},
   "source": [
    "## Parsing using ElementTree"
   ]
  },
  {
   "cell_type": "code",
   "execution_count": 15,
   "metadata": {},
   "outputs": [],
   "source": [
    "import xml.etree.ElementTree as ET"
   ]
  },
  {
   "cell_type": "code",
   "execution_count": 16,
   "metadata": {},
   "outputs": [],
   "source": [
    "tree = ET.parse('scores.xml')\n",
    "root = tree.getroot()"
   ]
  },
  {
   "cell_type": "code",
   "execution_count": 17,
   "metadata": {},
   "outputs": [
    {
     "name": "stdout",
     "output_type": "stream",
     "text": [
      "scores\n"
     ]
    }
   ],
   "source": [
    "print(root.tag)"
   ]
  },
  {
   "cell_type": "code",
   "execution_count": 18,
   "metadata": {},
   "outputs": [
    {
     "name": "stdout",
     "output_type": "stream",
     "text": [
      "{'{http://www.w3.org/2001/XMLSchema-instance}noNamespaceSchemaLocation': 'scores.xsd'}\n"
     ]
    }
   ],
   "source": [
    "print(root.attrib)"
   ]
  },
  {
   "cell_type": "markdown",
   "metadata": {},
   "source": [
    "### for loops"
   ]
  },
  {
   "cell_type": "code",
   "execution_count": 19,
   "metadata": {},
   "outputs": [
    {
     "name": "stdout",
     "output_type": "stream",
     "text": [
      "score {}\n",
      "score {}\n"
     ]
    }
   ],
   "source": [
    "for child in root:\n",
    "    print(child.tag, child.attrib)"
   ]
  },
  {
   "cell_type": "markdown",
   "metadata": {
    "collapsed": true
   },
   "source": [
    "Typically it is helpful to know all the elements in the entire tree. A useful function for doing that is ```root.iter()```. You can put this function into a \"for\" loop and it will iterate over the entire tree."
   ]
  },
  {
   "cell_type": "code",
   "execution_count": 20,
   "metadata": {},
   "outputs": [
    {
     "name": "stdout",
     "output_type": "stream",
     "text": [
      "scores\n",
      "score\n",
      "date\n",
      "home-team\n",
      "home-score\n",
      "away-team\n",
      "away-score\n",
      "score\n",
      "date\n",
      "home-team\n",
      "home-score\n",
      "away-team\n",
      "away-score\n"
     ]
    }
   ],
   "source": [
    "for elem in root.iter():\n",
    "    print(elem.tag)"
   ]
  },
  {
   "cell_type": "markdown",
   "metadata": {},
   "source": [
    "If you need to print the entire string you can use ElementTree.tostring(). However, you must specify both the encoding and decoding of the document you are displaying as the string because ElementTree is a powerful library that can interpret more than just XML, For XMLs, use **utf8** - this is the typical document format type for an XML."
   ]
  },
  {
   "cell_type": "code",
   "execution_count": 21,
   "metadata": {},
   "outputs": [
    {
     "name": "stdout",
     "output_type": "stream",
     "text": [
      "<?xml version='1.0' encoding='utf8'?>\n",
      "<scores xmlns:xsi=\"http://www.w3.org/2001/XMLSchema-instance\" xsi:noNamespaceSchemaLocation=\"scores.xsd\">\n",
      "    <score>\n",
      "        <date>2019-05-01</date>\n",
      "        <home-team>Pirates</home-team>\n",
      "        <home-score>0</home-score>\n",
      "        <away-team>Cubs</away-team>\n",
      "        <away-score>10</away-score>\n",
      "    </score>\n",
      "    <score>\n",
      "        <date>2019-05-15</date>\n",
      "        <home-team>Reds</home-team>\n",
      "        <home-score>7</home-score>\n",
      "        <away-team>Pirates</away-team>\n",
      "        <away-score>0</away-score>\n",
      "    </score>\n",
      "</scores>\n"
     ]
    }
   ],
   "source": [
    "print(ET.tostring(root, encoding='utf8').decode('utf8'))"
   ]
  },
  {
   "cell_type": "markdown",
   "metadata": {},
   "source": [
    "### Iterating over specific elements"
   ]
  },
  {
   "cell_type": "code",
   "execution_count": 22,
   "metadata": {},
   "outputs": [
    {
     "name": "stdout",
     "output_type": "stream",
     "text": [
      "2019-05-01\n",
      "2019-05-15\n"
     ]
    }
   ],
   "source": [
    "for game_date in root.iter('date'):\n",
    "    print(game_date.text)"
   ]
  },
  {
   "cell_type": "markdown",
   "metadata": {},
   "source": [
    "### XPath Expressions"
   ]
  },
  {
   "cell_type": "code",
   "execution_count": 24,
   "metadata": {},
   "outputs": [
    {
     "name": "stdout",
     "output_type": "stream",
     "text": [
      "2019-05-01\n"
     ]
    }
   ],
   "source": [
    "for score in root.findall('./score[date=\"2019-05-01\"]/date'):\n",
    "    print(score.text)"
   ]
  },
  {
   "cell_type": "markdown",
   "metadata": {},
   "source": [
    "## Writing xml files"
   ]
  },
  {
   "cell_type": "code",
   "execution_count": 12,
   "metadata": {},
   "outputs": [],
   "source": [
    "tree.write(\"scores2.xml\")"
   ]
  },
  {
   "cell_type": "code",
   "execution_count": null,
   "metadata": {},
   "outputs": [],
   "source": []
  }
 ],
 "metadata": {
  "kernelspec": {
   "display_name": "Python 3",
   "language": "python",
   "name": "python3"
  },
  "language_info": {
   "codemirror_mode": {
    "name": "ipython",
    "version": 3
   },
   "file_extension": ".py",
   "mimetype": "text/x-python",
   "name": "python",
   "nbconvert_exporter": "python",
   "pygments_lexer": "ipython3",
   "version": "3.6.8"
  }
 },
 "nbformat": 4,
 "nbformat_minor": 2
}
