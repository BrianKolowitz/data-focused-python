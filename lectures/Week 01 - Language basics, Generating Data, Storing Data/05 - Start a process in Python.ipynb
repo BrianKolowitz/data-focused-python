{
 "cells": [
  {
   "cell_type": "markdown",
   "metadata": {},
   "source": [
    "# Start a process in Python\n",
    "[Start a process in Python](https://www.bogotobogo.com/python/python_subprocess_module.php)\n",
    "\n",
    "Sometimes you might want to spawn a process from python and interact with the data. You might use a process to generate some files that your python application will read, or read the output of the process within your application. Doing so is relatively simple in python using the subprocess library,."
   ]
  },
  {
   "cell_type": "markdown",
   "metadata": {
    "collapsed": true
   },
   "source": [
    "## subprocess.Popen\n",
    "\n",
    "You can start a process in Python using the Popen function call. Open a pipe to or from command. The return value is an open file object connected to the pipe, which can be read or written depending on whether mode is 'r' (default) or 'w'."
   ]
  },
  {
   "cell_type": "code",
   "execution_count": 2,
   "metadata": {},
   "outputs": [
    {
     "name": "stdout",
     "output_type": "stream",
     "text": [
      "date,home_team,home_score,away_team,away_score\r\n",
      "2019-05-01,Pirates,0,Cubs,10\r\n",
      "2019-05-15,Reds,7,Pirates,0\r\n",
      "\n"
     ]
    }
   ],
   "source": [
    "from subprocess import Popen, PIPE\n",
    "process = Popen(['cat', 'scores.csv'], stdout=PIPE, stderr=PIPE)\n",
    "stdout, stderr = process.communicate()\n",
    "print(stdout.decode('utf-8'))"
   ]
  },
  {
   "cell_type": "markdown",
   "metadata": {},
   "source": [
    "The ```process.communicate()``` call reads input and output from the process.  stdout is the process output. stderr will be written only if an error occurs.  If you want to wait for the program to finish you can call ```Popen.wait()```."
   ]
  },
  {
   "cell_type": "code",
   "execution_count": 3,
   "metadata": {},
   "outputs": [
    {
     "name": "stdout",
     "output_type": "stream",
     "text": [
      "date,home_team,home_score,away_team,away_score\r\n",
      "2019-05-01,Pirates,0,Cubs,10\r\n",
      "2019-05-15,Reds,7,Pirates,0\r\n",
      "\n"
     ]
    }
   ],
   "source": [
    "from subprocess import Popen, PIPE\n",
    " \n",
    "process = Popen(['cat', 'scores.csv'], stdout=PIPE, stderr=PIPE)\n",
    "stdout, stderr = process.communicate()\n",
    "status = process.wait()\n",
    "print(stdout.decode('utf-8'))"
   ]
  },
  {
   "cell_type": "markdown",
   "metadata": {},
   "source": [
    "## subprocess.call\n",
    "\n",
    "Subprocess has a method call() which can be used to start a program. This is basically just like the Popen class and takes all of the same arguments, but it simply wait until the command completes and gives us the return code."
   ]
  },
  {
   "cell_type": "code",
   "execution_count": 4,
   "metadata": {},
   "outputs": [
    {
     "data": {
      "text/plain": [
       "0"
      ]
     },
     "execution_count": 4,
     "metadata": {},
     "output_type": "execute_result"
    }
   ],
   "source": [
    "import subprocess\n",
    "subprocess.call(['ls','-l'])"
   ]
  },
  {
   "cell_type": "markdown",
   "metadata": {},
   "source": [
    "```bash\n",
    "total 181\n",
    "drwxr-xr-x    2 root root  4096 Mar  3  2012 bin\n",
    "drwxr-xr-x    4 root root  1024 Oct 26  2012 boot\n",
    "```"
   ]
  },
  {
   "cell_type": "markdown",
   "metadata": {},
   "source": [
    "The command line arguments are passed as a list of strings, which avoids the need for escaping quotes or other special characters that might be interpreted by the shell."
   ]
  },
  {
   "cell_type": "markdown",
   "metadata": {},
   "source": [
    "## subprocess.check_call()\n",
    "\n",
    "The ```check_call()``` function works like ```call()``` except that the exit code is checked, and if it indicates an error happened then a ```CalledProcessError``` exception is raised."
   ]
  },
  {
   "cell_type": "code",
   "execution_count": 5,
   "metadata": {},
   "outputs": [
    {
     "ename": "CalledProcessError",
     "evalue": "Command '['false']' returned non-zero exit status 1.",
     "output_type": "error",
     "traceback": [
      "\u001b[0;31m---------------------------------------------------------------------------\u001b[0m",
      "\u001b[0;31mCalledProcessError\u001b[0m                        Traceback (most recent call last)",
      "\u001b[0;32m<ipython-input-5-436d6a2ac26e>\u001b[0m in \u001b[0;36m<module>\u001b[0;34m()\u001b[0m\n\u001b[1;32m      1\u001b[0m \u001b[0;32mimport\u001b[0m \u001b[0msubprocess\u001b[0m\u001b[0;34m\u001b[0m\u001b[0m\n\u001b[0;32m----> 2\u001b[0;31m \u001b[0msubprocess\u001b[0m\u001b[0;34m.\u001b[0m\u001b[0mcheck_call\u001b[0m\u001b[0;34m(\u001b[0m\u001b[0;34m[\u001b[0m\u001b[0;34m'false'\u001b[0m\u001b[0;34m]\u001b[0m\u001b[0;34m)\u001b[0m\u001b[0;34m\u001b[0m\u001b[0m\n\u001b[0m",
      "\u001b[0;32m~/anaconda/lib/python3.6/subprocess.py\u001b[0m in \u001b[0;36mcheck_call\u001b[0;34m(*popenargs, **kwargs)\u001b[0m\n\u001b[1;32m    289\u001b[0m         \u001b[0;32mif\u001b[0m \u001b[0mcmd\u001b[0m \u001b[0;32mis\u001b[0m \u001b[0;32mNone\u001b[0m\u001b[0;34m:\u001b[0m\u001b[0;34m\u001b[0m\u001b[0m\n\u001b[1;32m    290\u001b[0m             \u001b[0mcmd\u001b[0m \u001b[0;34m=\u001b[0m \u001b[0mpopenargs\u001b[0m\u001b[0;34m[\u001b[0m\u001b[0;36m0\u001b[0m\u001b[0;34m]\u001b[0m\u001b[0;34m\u001b[0m\u001b[0m\n\u001b[0;32m--> 291\u001b[0;31m         \u001b[0;32mraise\u001b[0m \u001b[0mCalledProcessError\u001b[0m\u001b[0;34m(\u001b[0m\u001b[0mretcode\u001b[0m\u001b[0;34m,\u001b[0m \u001b[0mcmd\u001b[0m\u001b[0;34m)\u001b[0m\u001b[0;34m\u001b[0m\u001b[0m\n\u001b[0m\u001b[1;32m    292\u001b[0m     \u001b[0;32mreturn\u001b[0m \u001b[0;36m0\u001b[0m\u001b[0;34m\u001b[0m\u001b[0m\n\u001b[1;32m    293\u001b[0m \u001b[0;34m\u001b[0m\u001b[0m\n",
      "\u001b[0;31mCalledProcessError\u001b[0m: Command '['false']' returned non-zero exit status 1."
     ]
    }
   ],
   "source": [
    "import subprocess\n",
    "subprocess.check_call(['false'])"
   ]
  },
  {
   "cell_type": "markdown",
   "metadata": {},
   "source": [
    "## subprocess.check_output()\n",
    "\n",
    "The standard input and output channels for the process started by call() are bound to the parent's input and output. That means the calling program cannot capture the output of the command. To capture the output, we can use check_output() for later processing."
   ]
  },
  {
   "cell_type": "code",
   "execution_count": 6,
   "metadata": {},
   "outputs": [
    {
     "name": "stdout",
     "output_type": "stream",
     "text": [
      "total 488\n",
      "-rw-r--r--  1 kolobj  staff   2821 Mar 19 13:04 00 - Anaconda & PyCharm Setup.ipynb\n",
      "-rw-r--r--  1 kolobj  staff   1724 Mar 23 09:17 00 - Anaconda & PyCharm Setup.md\n",
      "-rw-r--r--  1 kolobj  staff   8084 Mar 20 19:08 01.a - Terminal Application.ipynb\n",
      "-rw-r--r--  1 kolobj  staff   4651 Mar 23 09:17 01.a - Terminal Application.md\n",
      "-rw-r--r--  1 kolobj  staff  10913 Mar 20 19:47 01.b - Argparse.ipynb\n",
      "-rw-r--r--  1 kolobj  staff   5670 Mar 23 09:17 01.b - Argparse.md\n",
      "-rw-r--r--  1 kolobj  staff  16220 Mar 20 20:04 02 - Generating Synthetic Data.ipynb\n",
      "-rw-r--r--  1 kolobj  staff  12974 Mar 23 09:17 02 - Generating Synthetic Data.md\n",
      "-rw-r--r--  1 kolobj  staff   5772 Mar 23 09:29 03 - Start a process in Python.ipynb\n",
      "-rw-r--r--  1 kolobj  staff   3324 Mar 23 09:17 03 - Start a process in Python.md\n",
      "-rw-r--r--  1 kolobj  staff  14276 Mar 21 09:27 04 - Python Testing.ipynb\n",
      "-rw-r--r--  1 kolobj  staff   9337 Mar 23 09:17 04 - Python Testing.md\n",
      "drwxr-xr-x  7 kolobj  staff    224 Mar 20 20:23 __pycache__\n",
      "-rw-r--r--  1 kolobj  staff    149 Mar 19 13:04 argparse_1.py\n",
      "-rw-r--r--  1 kolobj  staff    202 Mar 19 13:04 argparse_2.py\n",
      "-rw-r--r--  1 kolobj  staff    299 Mar 19 13:04 argparse_3.py\n",
      "-rw-r--r--  1 kolobj  staff    309 Mar 19 13:04 argparse_4.py\n",
      "-rw-r--r--  1 kolobj  staff    219 Mar 19 13:04 argparse_5.py\n",
      "-rw-r--r--  1 kolobj  staff    580 Mar 19 13:04 argparse_6.py\n",
      "-rw-r--r--  1 kolobj  staff     45 Mar 19 13:04 file.txt\n",
      "drwxr-xr-x  7 kolobj  staff    224 Mar 19 13:04 images\n",
      "-rw-r--r--  1 kolobj  staff    644 Mar 19 13:04 mock.csv\n",
      "-rw-r--r--  1 kolobj  staff  45673 Mar 19 13:04 python.png\n",
      "-rw-r--r--  1 kolobj  staff    107 Mar 19 13:04 scores.csv\n",
      "-rw-r--r--  1 kolobj  staff    219 Mar 19 13:04 scores.json\n",
      "-rw-r--r--  1 kolobj  staff    547 Mar 19 13:04 scores.xml\n",
      "-rw-r--r--  1 kolobj  staff    762 Mar 19 13:04 scores.xsd\n",
      "-rw-r--r--  1 kolobj  staff    520 Mar 19 13:04 scores2.xml\n",
      "-rw-r--r--  1 kolobj  staff    406 Mar 20 19:01 terminal_1.py\n",
      "-rw-r--r--  1 kolobj  staff    404 Mar 19 13:04 terminal_2.py\n",
      "-rw-r--r--  1 kolobj  staff      0 Mar 19 13:04 test.txt\n",
      "-rw-r--r--  1 kolobj  staff    198 Mar 19 13:04 test_class.py\n",
      "-rw-r--r--  1 kolobj  staff    100 Mar 20 20:22 test_sample.py\n",
      "-rw-r--r--  1 kolobj  staff    143 Mar 19 13:04 test_sysexit.py\n",
      "-rw-r--r--  1 kolobj  staff     87 Mar 19 13:04 test_tmpdir.py\n",
      "-rw-r--r--  1 kolobj  staff    281 Mar 19 13:04 test_tmppath.py\n",
      "\n"
     ]
    }
   ],
   "source": [
    "import subprocess\n",
    "output = subprocess.check_output(['ls','-l'])\n",
    "print(output.decode('utf-8'))"
   ]
  }
 ],
 "metadata": {
  "kernelspec": {
   "display_name": "Python 3",
   "language": "python",
   "name": "python3"
  },
  "language_info": {
   "codemirror_mode": {
    "name": "ipython",
    "version": 3
   },
   "file_extension": ".py",
   "mimetype": "text/x-python",
   "name": "python",
   "nbconvert_exporter": "python",
   "pygments_lexer": "ipython3",
   "version": "3.6.8"
  }
 },
 "nbformat": 4,
 "nbformat_minor": 2
}
