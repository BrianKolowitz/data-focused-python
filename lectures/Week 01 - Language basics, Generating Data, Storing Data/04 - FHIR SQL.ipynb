{
 "cells": [
  {
   "cell_type": "code",
   "execution_count": null,
   "metadata": {},
   "outputs": [],
   "source": [
    "import json\n",
    "from dateutil.parser import parse\n",
    "import pprint"
   ]
  },
  {
   "cell_type": "code",
   "execution_count": null,
   "metadata": {},
   "outputs": [],
   "source": [
    "f = open('fhir/Candis134_Wolff180_caac926a-429a-422d-9333-c9a3a04e68f9.json', 'r')\n",
    "text = f.read()\n",
    "f.close()\n",
    "print(type(text))"
   ]
  },
  {
   "cell_type": "code",
   "execution_count": null,
   "metadata": {},
   "outputs": [],
   "source": [
    "with open('fhir/Candis134_Wolff180_caac926a-429a-422d-9333-c9a3a04e68f9.json') as f:\n",
    "    bundle = json.load(f)\n",
    "print(type(bundle))"
   ]
  },
  {
   "cell_type": "code",
   "execution_count": null,
   "metadata": {},
   "outputs": [],
   "source": [
    "for entry in bundle['entry']:\n",
    "    resource = entry['resource']\n",
    "    resource_type = resource['resourceType']\n",
    "    if resource_type == 'Claim':\n",
    "        id = resource['id']\n",
    "        patient = resource['patient']['reference']\n",
    "        status = resource['status']\n",
    "        total = resource['total']['value']\n",
    "        currency = resource['total']['currency']\n",
    "        start = resource['billablePeriod']['start']\n",
    "        end = resource['billablePeriod']['end']\n",
    "        print(patient, status, total, currency, start, end)\n",
    "        break"
   ]
  },
  {
   "cell_type": "code",
   "execution_count": null,
   "metadata": {},
   "outputs": [],
   "source": [
    "for entry in bundle['entry']:\n",
    "    resource = entry['resource']\n",
    "    resource_type = resource['resourceType']\n",
    "    if resource_type == 'Claim':\n",
    "        id = resource['id']\n",
    "        patient = resource['patient']['reference']\n",
    "        status = resource['status']\n",
    "        total = resource['total']['value']\n",
    "        currency = resource['total']['currency']\n",
    "        start = parse(resource['billablePeriod']['start'])\n",
    "        end = parse(resource['billablePeriod']['end'])\n",
    "        print(patient, status, total, currency, start, end)\n",
    "        break"
   ]
  },
  {
   "cell_type": "code",
   "execution_count": null,
   "metadata": {},
   "outputs": [],
   "source": [
    "import sqlalchemy as db"
   ]
  },
  {
   "cell_type": "code",
   "execution_count": null,
   "metadata": {},
   "outputs": [],
   "source": [
    "engine = db.create_engine('sqlite:///fhir.sqlite')\n",
    "connection = engine.connect()\n",
    "metadata = db.MetaData()"
   ]
  },
  {
   "cell_type": "code",
   "execution_count": null,
   "metadata": {},
   "outputs": [],
   "source": [
    "claims = db.Table('claims', metadata,\n",
    "                  db.Column('id', db.Integer()),\n",
    "                  db.Column('patient', db.String(255)),\n",
    "                  db.Column('status', db.String(255)),\n",
    "                  db.Column('total', db.Float()),\n",
    "                  db.Column('currency', db.String(255)),\n",
    "                  db.Column('start', db.DateTime()),\n",
    "                  db.Column('end', db.DateTime()))\n",
    "\n",
    "metadata.create_all(engine) #Creates the table"
   ]
  },
  {
   "cell_type": "code",
   "execution_count": null,
   "metadata": {},
   "outputs": [],
   "source": [
    "print(claims.columns.keys())"
   ]
  },
  {
   "cell_type": "code",
   "execution_count": null,
   "metadata": {},
   "outputs": [],
   "source": [
    "for entry in bundle['entry']:\n",
    "    resource = entry['resource']\n",
    "    resource_type = resource['resourceType']\n",
    "    if resource_type == 'Claim':\n",
    "        id = resource['id']\n",
    "        patient = resource['patient']['reference']\n",
    "        status = resource['status']\n",
    "        total = resource['total']['value']\n",
    "        currency = resource['total']['currency']\n",
    "        start = parse(resource['billablePeriod']['start'])\n",
    "        end = parse(resource['billablePeriod']['end'])        \n",
    "        query = db.insert(claims).values(id=id, \n",
    "                                         patient=patient,\n",
    "                                         status=status,\n",
    "                                         total=total,\n",
    "                                         currency=currency,\n",
    "                                         start=start,\n",
    "                                         end=end)\n",
    "\n",
    "        result_proxy = connection.execute(query)"
   ]
  },
  {
   "cell_type": "code",
   "execution_count": null,
   "metadata": {},
   "outputs": [],
   "source": [
    "stmt = db.select([claims])\n",
    "results = connection.execute(stmt).fetchall()"
   ]
  },
  {
   "cell_type": "code",
   "execution_count": null,
   "metadata": {},
   "outputs": [],
   "source": [
    "import pandas as pd"
   ]
  },
  {
   "cell_type": "code",
   "execution_count": null,
   "metadata": {},
   "outputs": [],
   "source": [
    "df = pd.DataFrame(results)"
   ]
  },
  {
   "cell_type": "code",
   "execution_count": null,
   "metadata": {},
   "outputs": [],
   "source": [
    "df.columns = results[0].keys()"
   ]
  },
  {
   "cell_type": "code",
   "execution_count": null,
   "metadata": {},
   "outputs": [],
   "source": [
    "df.head()"
   ]
  },
  {
   "cell_type": "code",
   "execution_count": null,
   "metadata": {},
   "outputs": [],
   "source": [
    "stmt = db.select([claims])\n",
    "results = connection.execute(stmt).fetchall()\n",
    "pd.DataFrame(results).head()\n",
    "df.columns = results[0].keys()\n",
    "df.head()"
   ]
  },
  {
   "cell_type": "code",
   "execution_count": null,
   "metadata": {},
   "outputs": [],
   "source": [
    "stmt = db.select([claims]).where(claims.columns.total >= 25000.0).order_by(db.desc(claims.columns.total))\n",
    "results = connection.execute(stmt).fetchall()\n",
    "df = pd.DataFrame(results).head()\n",
    "df.columns = results[0].keys()\n",
    "df.head()"
   ]
  },
  {
   "cell_type": "code",
   "execution_count": null,
   "metadata": {},
   "outputs": [],
   "source": [
    "stmt = db.select([db.func.sum(claims.columns.total).label('total claims'),\n",
    "                  db.func.avg(claims.columns.total).label('average claim')])\n",
    "results = connection.execute(stmt).fetchall()\n",
    "df = pd.DataFrame(results).head()\n",
    "df.columns = results[0].keys()\n",
    "df.head()"
   ]
  },
  {
   "cell_type": "code",
   "execution_count": null,
   "metadata": {},
   "outputs": [],
   "source": []
  }
 ],
 "metadata": {
  "kernelspec": {
   "display_name": "Python 3",
   "language": "python",
   "name": "python3"
  },
  "language_info": {
   "codemirror_mode": {
    "name": "ipython",
    "version": 3
   },
   "file_extension": ".py",
   "mimetype": "text/x-python",
   "name": "python",
   "nbconvert_exporter": "python",
   "pygments_lexer": "ipython3",
   "version": "3.6.8"
  }
 },
 "nbformat": 4,
 "nbformat_minor": 2
}
