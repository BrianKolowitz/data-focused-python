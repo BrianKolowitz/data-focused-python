{
 "cells": [
  {
   "cell_type": "markdown",
   "metadata": {},
   "source": [
    "# Using Faker\n",
    "[Source](https://zetcode.com/python/faker/)"
   ]
  },
  {
   "cell_type": "markdown",
   "metadata": {
    "tags": []
   },
   "source": [
    "## Basic Usage"
   ]
  },
  {
   "cell_type": "code",
   "execution_count": 79,
   "metadata": {},
   "outputs": [],
   "source": [
    "# import the library\n",
    "from faker import Faker"
   ]
  },
  {
   "cell_type": "code",
   "execution_count": 80,
   "metadata": {},
   "outputs": [],
   "source": [
    "# create an instance\n",
    "faker = Faker()"
   ]
  },
  {
   "cell_type": "code",
   "execution_count": 87,
   "metadata": {},
   "outputs": [
    {
     "data": {
      "text/plain": [
       "'David Morgan'"
      ]
     },
     "execution_count": 87,
     "metadata": {},
     "output_type": "execute_result"
    }
   ],
   "source": [
    "# generate a name\n",
    "faker.name()"
   ]
  },
  {
   "cell_type": "code",
   "execution_count": 88,
   "metadata": {},
   "outputs": [
    {
     "data": {
      "text/plain": [
       "'Larry Vazquez'"
      ]
     },
     "execution_count": 88,
     "metadata": {},
     "output_type": "execute_result"
    }
   ],
   "source": [
    "# generate another name\n",
    "faker.name()"
   ]
  },
  {
   "cell_type": "code",
   "execution_count": 94,
   "metadata": {},
   "outputs": [
    {
     "name": "stdout",
     "output_type": "stream",
     "text": [
      "083 Potter Divide Apt. 274\n",
      "North Rachel, NH 28466\n"
     ]
    }
   ],
   "source": [
    "# generate an address\n",
    "print(faker.address())"
   ]
  },
  {
   "cell_type": "code",
   "execution_count": 95,
   "metadata": {},
   "outputs": [
    {
     "data": {
      "text/plain": [
       "'Unit 7082 Box 1816\\nDPO AP 95391'"
      ]
     },
     "execution_count": 95,
     "metadata": {},
     "output_type": "execute_result"
    }
   ],
   "source": [
    "# generate another address\n",
    "faker.address()"
   ]
  },
  {
   "cell_type": "code",
   "execution_count": 97,
   "metadata": {},
   "outputs": [
    {
     "data": {
      "text/plain": [
       "'If small tax forget. Concern off student only.\\nDecision art travel one piece morning.\\nHour himself free. What budget ahead. Reflect suffer under today personal reach art.'"
      ]
     },
     "execution_count": 97,
     "metadata": {},
     "output_type": "execute_result"
    }
   ],
   "source": [
    "# generate some random text\n",
    "faker.text()"
   ]
  },
  {
   "cell_type": "markdown",
   "metadata": {},
   "source": [
    "## Name Related Data"
   ]
  },
  {
   "cell_type": "code",
   "execution_count": 98,
   "metadata": {},
   "outputs": [
    {
     "data": {
      "text/plain": [
       "'Eric Robinson'"
      ]
     },
     "execution_count": 98,
     "metadata": {},
     "output_type": "execute_result"
    }
   ],
   "source": [
    "faker.name()"
   ]
  },
  {
   "cell_type": "code",
   "execution_count": 99,
   "metadata": {},
   "outputs": [
    {
     "data": {
      "text/plain": [
       "'Jerry'"
      ]
     },
     "execution_count": 99,
     "metadata": {},
     "output_type": "execute_result"
    }
   ],
   "source": [
    "faker.first_name()"
   ]
  },
  {
   "cell_type": "code",
   "execution_count": 100,
   "metadata": {},
   "outputs": [
    {
     "data": {
      "text/plain": [
       "'Smith'"
      ]
     },
     "execution_count": 100,
     "metadata": {},
     "output_type": "execute_result"
    }
   ],
   "source": [
    "faker.last_name()"
   ]
  },
  {
   "cell_type": "markdown",
   "metadata": {},
   "source": [
    "## Faking Jobs"
   ]
  },
  {
   "cell_type": "code",
   "execution_count": 103,
   "metadata": {},
   "outputs": [
    {
     "data": {
      "text/plain": [
       "'Sales promotion account executive'"
      ]
     },
     "execution_count": 103,
     "metadata": {},
     "output_type": "execute_result"
    }
   ],
   "source": [
    "faker.job()"
   ]
  },
  {
   "cell_type": "code",
   "execution_count": 104,
   "metadata": {},
   "outputs": [
    {
     "data": {
      "text/plain": [
       "'Embryologist, clinical'"
      ]
     },
     "execution_count": 104,
     "metadata": {},
     "output_type": "execute_result"
    }
   ],
   "source": [
    "faker.job()"
   ]
  },
  {
   "cell_type": "code",
   "execution_count": 111,
   "metadata": {},
   "outputs": [
    {
     "name": "stdout",
     "output_type": "stream",
     "text": [
      "Publishing copy\n",
      "Lighting technician, broadcasting/film/video\n",
      "Teacher, English as a foreign language\n",
      "Interpreter\n",
      "Counsellor\n"
     ]
    }
   ],
   "source": [
    "for _ in range(5):\n",
    "    print(faker.job())"
   ]
  },
  {
   "cell_type": "code",
   "execution_count": 112,
   "metadata": {},
   "outputs": [
    {
     "name": "stdout",
     "output_type": "stream",
     "text": [
      "1. Scientist, research (maths)\n",
      "2. Academic librarian\n",
      "3. Editor, film/video\n",
      "4. Art gallery manager\n",
      "5. Air traffic controller\n"
     ]
    }
   ],
   "source": [
    "for i in range(5):\n",
    "    print(f\"{i + 1}. {faker.job()}\")"
   ]
  },
  {
   "cell_type": "markdown",
   "metadata": {},
   "source": [
    "## Faking Locale Data"
   ]
  },
  {
   "cell_type": "code",
   "execution_count": 113,
   "metadata": {},
   "outputs": [
    {
     "name": "stdout",
     "output_type": "stream",
     "text": [
      "Zdeněk Čermák, Vlčická 3\n",
      "495 33 Blšany, 722 592 894\n",
      "Martin Mašek, Nad Vernerákem 27\n",
      "165 30 Lovosice, 721 376 849\n",
      "Štěpánka Bláhová Ph.D., Výravská 7\n",
      "261 95 Plesná, 606 921 534\n"
     ]
    }
   ],
   "source": [
    "faker = Faker('cz_CZ')\n",
    "\n",
    "for i in range(3):\n",
    "    name = faker.name()\n",
    "    address = faker.address()\n",
    "    phone = faker.phone_number()\n",
    "    \n",
    "    print(f'{name}, {address}, {phone}')"
   ]
  },
  {
   "cell_type": "code",
   "execution_count": 114,
   "metadata": {},
   "outputs": [
    {
     "data": {
      "text/plain": [
       "'Pro vzduch těsně bydlet dobře věc. Jedinec řeč dohromady domov. Kvůli liga moci.\\nPovažovat zápas komora. Uvědomovat večer prostředí doufat.'"
      ]
     },
     "execution_count": 114,
     "metadata": {},
     "output_type": "execute_result"
    }
   ],
   "source": [
    "faker.text()"
   ]
  },
  {
   "cell_type": "markdown",
   "metadata": {},
   "source": [
    "## Faking Currencies"
   ]
  },
  {
   "cell_type": "code",
   "execution_count": 115,
   "metadata": {},
   "outputs": [],
   "source": [
    "faker = Faker()"
   ]
  },
  {
   "cell_type": "code",
   "execution_count": 116,
   "metadata": {},
   "outputs": [
    {
     "data": {
      "text/plain": [
       "('ZWD', 'Zimbabwean dollar')"
      ]
     },
     "execution_count": 116,
     "metadata": {},
     "output_type": "execute_result"
    }
   ],
   "source": [
    "faker.currency()"
   ]
  },
  {
   "cell_type": "code",
   "execution_count": 117,
   "metadata": {},
   "outputs": [
    {
     "data": {
      "text/plain": [
       "'Swazi lilangeni'"
      ]
     },
     "execution_count": 117,
     "metadata": {},
     "output_type": "execute_result"
    }
   ],
   "source": [
    "faker.currency_name()"
   ]
  },
  {
   "cell_type": "code",
   "execution_count": 118,
   "metadata": {},
   "outputs": [
    {
     "data": {
      "text/plain": [
       "'XAF'"
      ]
     },
     "execution_count": 118,
     "metadata": {},
     "output_type": "execute_result"
    }
   ],
   "source": [
    "faker.currency_code()"
   ]
  },
  {
   "cell_type": "markdown",
   "metadata": {},
   "source": [
    "## Faking words"
   ]
  },
  {
   "cell_type": "code",
   "execution_count": 119,
   "metadata": {},
   "outputs": [
    {
     "data": {
      "text/plain": [
       "'trial'"
      ]
     },
     "execution_count": 119,
     "metadata": {},
     "output_type": "execute_result"
    }
   ],
   "source": [
    "faker.word()"
   ]
  },
  {
   "cell_type": "code",
   "execution_count": 120,
   "metadata": {},
   "outputs": [
    {
     "data": {
      "text/plain": [
       "['purpose',\n",
       " 'watch',\n",
       " 'left',\n",
       " 'education',\n",
       " 'physical',\n",
       " 'though',\n",
       " 'beat',\n",
       " 'hot',\n",
       " 'opportunity',\n",
       " 'center']"
      ]
     },
     "execution_count": 120,
     "metadata": {},
     "output_type": "execute_result"
    }
   ],
   "source": [
    "faker.words(10)"
   ]
  },
  {
   "cell_type": "code",
   "execution_count": 122,
   "metadata": {},
   "outputs": [
    {
     "data": {
      "text/plain": [
       "['blue', 'wood', 'forrest']"
      ]
     },
     "execution_count": 122,
     "metadata": {},
     "output_type": "execute_result"
    }
   ],
   "source": [
    "my_words = ['forrest', 'blue', 'cloud', 'sky', 'wood', 'falcon']\n",
    "faker.words(3, my_words, True)"
   ]
  },
  {
   "cell_type": "markdown",
   "metadata": {},
   "source": [
    "## Faking profiles"
   ]
  },
  {
   "cell_type": "code",
   "execution_count": 124,
   "metadata": {},
   "outputs": [
    {
     "name": "stdout",
     "output_type": "stream",
     "text": [
      "{'username': 'vwilliams', 'name': 'Tyler Berger', 'sex': 'M', 'address': '6887 Brown Underpass\\nBowmanton, MN 11805', 'mail': 'james25@hotmail.com', 'birthdate': datetime.date(1939, 9, 6)}\n"
     ]
    }
   ],
   "source": [
    "profile1 = faker.simple_profile()\n",
    "print(profile1)"
   ]
  },
  {
   "cell_type": "code",
   "execution_count": 126,
   "metadata": {},
   "outputs": [
    {
     "name": "stdout",
     "output_type": "stream",
     "text": [
      "<dict at 0x7ffcf09faf80>:\n",
      "  username: 'vwilliams'\n",
      "  name: 'Tyler Berger'\n",
      "  sex: 'M'\n",
      "  address: '6887 Brown Underpass\\nBowmanton, MN 11805'\n",
      "  mail: 'james25@hotmail.com'\n",
      "  birthdate: <str at 0x7ffcf0a034e0>: 'datetime.date(1939, 9, 6)'\n"
     ]
    }
   ],
   "source": [
    "import dumper\n",
    "dumper.dump(profile1)"
   ]
  },
  {
   "cell_type": "code",
   "execution_count": 127,
   "metadata": {},
   "outputs": [
    {
     "name": "stdout",
     "output_type": "stream",
     "text": [
      "<dict at 0x7ffcf09fff00>:\n",
      "  username: 'ehood'\n",
      "  name: 'Brittany Jones'\n",
      "  sex: 'F'\n",
      "  address: '5163 Smith Lane Suite 735\\nHeatherport, MD 13036'\n",
      "  mail: 'smithsara@yahoo.com'\n",
      "  birthdate: <str at 0x7ffcf0a03940>: 'datetime.date(1983, 6, 14)'\n"
     ]
    }
   ],
   "source": [
    "profile2 = faker.simple_profile('F')\n",
    "dumper.dump(profile2)"
   ]
  },
  {
   "cell_type": "markdown",
   "metadata": {},
   "source": [
    "## Faking Numbers"
   ]
  },
  {
   "cell_type": "code",
   "execution_count": 128,
   "metadata": {},
   "outputs": [
    {
     "data": {
      "text/plain": [
       "4729"
      ]
     },
     "execution_count": 128,
     "metadata": {},
     "output_type": "execute_result"
    }
   ],
   "source": [
    "faker.random_int()"
   ]
  },
  {
   "cell_type": "code",
   "execution_count": 131,
   "metadata": {},
   "outputs": [
    {
     "data": {
      "text/plain": [
       "30"
      ]
     },
     "execution_count": 131,
     "metadata": {},
     "output_type": "execute_result"
    }
   ],
   "source": [
    "faker.random_int(18, 64)"
   ]
  },
  {
   "cell_type": "code",
   "execution_count": 132,
   "metadata": {},
   "outputs": [
    {
     "data": {
      "text/plain": [
       "7"
      ]
     },
     "execution_count": 132,
     "metadata": {},
     "output_type": "execute_result"
    }
   ],
   "source": [
    "faker.random_digit()"
   ]
  },
  {
   "cell_type": "markdown",
   "metadata": {},
   "source": [
    "## Faking hashes and uids"
   ]
  },
  {
   "cell_type": "code",
   "execution_count": 133,
   "metadata": {},
   "outputs": [
    {
     "data": {
      "text/plain": [
       "'932840fb34c8fd3bbcea0c94c1569144'"
      ]
     },
     "execution_count": 133,
     "metadata": {},
     "output_type": "execute_result"
    }
   ],
   "source": [
    "faker.md5()"
   ]
  },
  {
   "cell_type": "code",
   "execution_count": 134,
   "metadata": {},
   "outputs": [
    {
     "data": {
      "text/plain": [
       "'fdfd557712dcb6012e5c05f3a4208176bc729fed'"
      ]
     },
     "execution_count": 134,
     "metadata": {},
     "output_type": "execute_result"
    }
   ],
   "source": [
    "faker.sha1()"
   ]
  },
  {
   "cell_type": "code",
   "execution_count": 135,
   "metadata": {},
   "outputs": [
    {
     "data": {
      "text/plain": [
       "'a8fecb6662e6cff9e440011dccb3fd983f07a3f995d9fda3eace5119bf7764b5'"
      ]
     },
     "execution_count": 135,
     "metadata": {},
     "output_type": "execute_result"
    }
   ],
   "source": [
    "faker.sha256()"
   ]
  },
  {
   "cell_type": "code",
   "execution_count": 137,
   "metadata": {},
   "outputs": [
    {
     "data": {
      "text/plain": [
       "'cfd30aed-6625-4aae-abdd-bac724d9309f'"
      ]
     },
     "execution_count": 137,
     "metadata": {},
     "output_type": "execute_result"
    }
   ],
   "source": [
    "faker.uuid4()"
   ]
  },
  {
   "cell_type": "markdown",
   "metadata": {},
   "source": [
    "## Faking internet related data"
   ]
  },
  {
   "cell_type": "code",
   "execution_count": 138,
   "metadata": {},
   "outputs": [
    {
     "data": {
      "text/plain": [
       "'phillipsmisty@example.net'"
      ]
     },
     "execution_count": 138,
     "metadata": {},
     "output_type": "execute_result"
    }
   ],
   "source": [
    "faker.email()"
   ]
  },
  {
   "cell_type": "code",
   "execution_count": 139,
   "metadata": {},
   "outputs": [
    {
     "data": {
      "text/plain": [
       "'kelseyhardin@example.net'"
      ]
     },
     "execution_count": 139,
     "metadata": {},
     "output_type": "execute_result"
    }
   ],
   "source": [
    "faker.safe_email()"
   ]
  },
  {
   "cell_type": "code",
   "execution_count": 140,
   "metadata": {},
   "outputs": [
    {
     "data": {
      "text/plain": [
       "'jacksondenise@yahoo.com'"
      ]
     },
     "execution_count": 140,
     "metadata": {},
     "output_type": "execute_result"
    }
   ],
   "source": [
    "faker.free_email()"
   ]
  },
  {
   "cell_type": "code",
   "execution_count": 141,
   "metadata": {},
   "outputs": [
    {
     "data": {
      "text/plain": [
       "'lweaver@thomas.biz'"
      ]
     },
     "execution_count": 141,
     "metadata": {},
     "output_type": "execute_result"
    }
   ],
   "source": [
    "faker.company_email()"
   ]
  },
  {
   "cell_type": "code",
   "execution_count": 142,
   "metadata": {},
   "outputs": [
    {
     "data": {
      "text/plain": [
       "'srv-84.williams-miller.com'"
      ]
     },
     "execution_count": 142,
     "metadata": {},
     "output_type": "execute_result"
    }
   ],
   "source": [
    "faker.hostname()"
   ]
  },
  {
   "cell_type": "code",
   "execution_count": 143,
   "metadata": {},
   "outputs": [
    {
     "data": {
      "text/plain": [
       "'richardson-jones.com'"
      ]
     },
     "execution_count": 143,
     "metadata": {},
     "output_type": "execute_result"
    }
   ],
   "source": [
    "faker.domain_name()"
   ]
  },
  {
   "cell_type": "code",
   "execution_count": 144,
   "metadata": {},
   "outputs": [
    {
     "data": {
      "text/plain": [
       "'parks'"
      ]
     },
     "execution_count": 144,
     "metadata": {},
     "output_type": "execute_result"
    }
   ],
   "source": [
    "faker.domain_word()"
   ]
  },
  {
   "cell_type": "code",
   "execution_count": 145,
   "metadata": {},
   "outputs": [
    {
     "data": {
      "text/plain": [
       "'com'"
      ]
     },
     "execution_count": 145,
     "metadata": {},
     "output_type": "execute_result"
    }
   ],
   "source": [
    "faker.tld()"
   ]
  },
  {
   "cell_type": "code",
   "execution_count": 146,
   "metadata": {},
   "outputs": [
    {
     "data": {
      "text/plain": [
       "'56.135.73.35'"
      ]
     },
     "execution_count": 146,
     "metadata": {},
     "output_type": "execute_result"
    }
   ],
   "source": [
    "faker.ipv4()"
   ]
  },
  {
   "cell_type": "code",
   "execution_count": 147,
   "metadata": {},
   "outputs": [
    {
     "data": {
      "text/plain": [
       "'421c:3737:f872:45f2:cb41:de7f:c16f:3edc'"
      ]
     },
     "execution_count": 147,
     "metadata": {},
     "output_type": "execute_result"
    }
   ],
   "source": [
    "faker.ipv6()"
   ]
  },
  {
   "cell_type": "code",
   "execution_count": 148,
   "metadata": {},
   "outputs": [
    {
     "data": {
      "text/plain": [
       "'as-present'"
      ]
     },
     "execution_count": 148,
     "metadata": {},
     "output_type": "execute_result"
    }
   ],
   "source": [
    "faker.slug()"
   ]
  },
  {
   "cell_type": "code",
   "execution_count": 149,
   "metadata": {},
   "outputs": [
    {
     "data": {
      "text/plain": [
       "'https://placeimg.com/864/562/any'"
      ]
     },
     "execution_count": 149,
     "metadata": {},
     "output_type": "execute_result"
    }
   ],
   "source": [
    "faker.image_url()"
   ]
  },
  {
   "cell_type": "markdown",
   "metadata": {},
   "source": [
    "## Faking date and time"
   ]
  },
  {
   "cell_type": "markdown",
   "metadata": {},
   "source": [
    "faker.date_of_birth()"
   ]
  },
  {
   "cell_type": "code",
   "execution_count": 150,
   "metadata": {},
   "outputs": [
    {
     "data": {
      "text/plain": [
       "'IV'"
      ]
     },
     "execution_count": 150,
     "metadata": {},
     "output_type": "execute_result"
    }
   ],
   "source": [
    "faker.century()"
   ]
  },
  {
   "cell_type": "code",
   "execution_count": 151,
   "metadata": {},
   "outputs": [
    {
     "data": {
      "text/plain": [
       "'1997'"
      ]
     },
     "execution_count": 151,
     "metadata": {},
     "output_type": "execute_result"
    }
   ],
   "source": [
    "faker.year()"
   ]
  },
  {
   "cell_type": "code",
   "execution_count": 152,
   "metadata": {},
   "outputs": [
    {
     "data": {
      "text/plain": [
       "'07'"
      ]
     },
     "execution_count": 152,
     "metadata": {},
     "output_type": "execute_result"
    }
   ],
   "source": [
    "faker.month()"
   ]
  },
  {
   "cell_type": "code",
   "execution_count": 153,
   "metadata": {},
   "outputs": [
    {
     "data": {
      "text/plain": [
       "'April'"
      ]
     },
     "execution_count": 153,
     "metadata": {},
     "output_type": "execute_result"
    }
   ],
   "source": [
    "faker.month_name()"
   ]
  },
  {
   "cell_type": "code",
   "execution_count": 154,
   "metadata": {},
   "outputs": [
    {
     "data": {
      "text/plain": [
       "'Wednesday'"
      ]
     },
     "execution_count": 154,
     "metadata": {},
     "output_type": "execute_result"
    }
   ],
   "source": [
    "faker.day_of_week()"
   ]
  },
  {
   "cell_type": "code",
   "execution_count": 155,
   "metadata": {},
   "outputs": [
    {
     "data": {
      "text/plain": [
       "'28'"
      ]
     },
     "execution_count": 155,
     "metadata": {},
     "output_type": "execute_result"
    }
   ],
   "source": [
    "faker.day_of_month()"
   ]
  },
  {
   "cell_type": "code",
   "execution_count": 156,
   "metadata": {},
   "outputs": [
    {
     "data": {
      "text/plain": [
       "'Europe/Sofia'"
      ]
     },
     "execution_count": 156,
     "metadata": {},
     "output_type": "execute_result"
    }
   ],
   "source": [
    "faker.timezone()"
   ]
  },
  {
   "cell_type": "code",
   "execution_count": 157,
   "metadata": {},
   "outputs": [
    {
     "data": {
      "text/plain": [
       "'AM'"
      ]
     },
     "execution_count": 157,
     "metadata": {},
     "output_type": "execute_result"
    }
   ],
   "source": [
    "faker.am_pm()"
   ]
  },
  {
   "cell_type": "markdown",
   "metadata": {},
   "source": [
    "## Specific Date Time"
   ]
  },
  {
   "cell_type": "code",
   "execution_count": 158,
   "metadata": {},
   "outputs": [
    {
     "data": {
      "text/plain": [
       "datetime.datetime(2011, 9, 28, 23, 57, 17)"
      ]
     },
     "execution_count": 158,
     "metadata": {},
     "output_type": "execute_result"
    }
   ],
   "source": [
    "faker.date_time_this_century()"
   ]
  },
  {
   "cell_type": "code",
   "execution_count": 159,
   "metadata": {},
   "outputs": [
    {
     "data": {
      "text/plain": [
       "datetime.datetime(2021, 3, 23, 14, 46, 39)"
      ]
     },
     "execution_count": 159,
     "metadata": {},
     "output_type": "execute_result"
    }
   ],
   "source": [
    "faker.date_time_this_decade()"
   ]
  },
  {
   "cell_type": "code",
   "execution_count": 160,
   "metadata": {},
   "outputs": [
    {
     "data": {
      "text/plain": [
       "datetime.datetime(2021, 10, 19, 7, 48, 6)"
      ]
     },
     "execution_count": 160,
     "metadata": {},
     "output_type": "execute_result"
    }
   ],
   "source": [
    "faker.date_time_this_year()"
   ]
  },
  {
   "cell_type": "code",
   "execution_count": 161,
   "metadata": {},
   "outputs": [
    {
     "data": {
      "text/plain": [
       "datetime.datetime(2021, 10, 28, 6, 51, 31)"
      ]
     },
     "execution_count": 161,
     "metadata": {},
     "output_type": "execute_result"
    }
   ],
   "source": [
    "faker.date_time_this_month()"
   ]
  },
  {
   "cell_type": "code",
   "execution_count": 162,
   "metadata": {},
   "outputs": [
    {
     "data": {
      "text/plain": [
       "datetime.date(2009, 8, 9)"
      ]
     },
     "execution_count": 162,
     "metadata": {},
     "output_type": "execute_result"
    }
   ],
   "source": [
    "faker.date_this_century()"
   ]
  },
  {
   "cell_type": "code",
   "execution_count": 163,
   "metadata": {},
   "outputs": [
    {
     "data": {
      "text/plain": [
       "datetime.date(2020, 4, 13)"
      ]
     },
     "execution_count": 163,
     "metadata": {},
     "output_type": "execute_result"
    }
   ],
   "source": [
    "faker.date_this_decade()"
   ]
  },
  {
   "cell_type": "code",
   "execution_count": 164,
   "metadata": {},
   "outputs": [
    {
     "data": {
      "text/plain": [
       "datetime.date(2021, 4, 20)"
      ]
     },
     "execution_count": 164,
     "metadata": {},
     "output_type": "execute_result"
    }
   ],
   "source": [
    "faker.date_this_year()"
   ]
  },
  {
   "cell_type": "code",
   "execution_count": 165,
   "metadata": {},
   "outputs": [
    {
     "data": {
      "text/plain": [
       "datetime.date(2021, 10, 22)"
      ]
     },
     "execution_count": 165,
     "metadata": {},
     "output_type": "execute_result"
    }
   ],
   "source": [
    "faker.date_this_month()"
   ]
  },
  {
   "cell_type": "code",
   "execution_count": 166,
   "metadata": {},
   "outputs": [
    {
     "name": "stdout",
     "output_type": "stream",
     "text": [
      "2021-10-16 19:20:16\n",
      "2021-10-18 19:20:16\n",
      "2021-10-20 19:20:16\n",
      "2021-10-22 19:20:16\n",
      "2021-10-24 19:20:16\n",
      "2021-10-26 19:20:16\n"
     ]
    }
   ],
   "source": [
    "TOTAL_SECONDS = 60*60*24*2 # two days\n",
    "\n",
    "series = faker.time_series(start_date='-12d', end_date='now', precision=TOTAL_SECONDS)\n",
    "\n",
    "for val in series:\n",
    "    print(val[0])"
   ]
  },
  {
   "cell_type": "markdown",
   "metadata": {},
   "source": [
    "## More Date Time"
   ]
  },
  {
   "cell_type": "code",
   "execution_count": 167,
   "metadata": {},
   "outputs": [
    {
     "data": {
      "text/plain": [
       "151348603"
      ]
     },
     "execution_count": 167,
     "metadata": {},
     "output_type": "execute_result"
    }
   ],
   "source": [
    "faker.unix_time()"
   ]
  },
  {
   "cell_type": "code",
   "execution_count": 168,
   "metadata": {},
   "outputs": [
    {
     "data": {
      "text/plain": [
       "datetime.datetime(2013, 8, 17, 14, 19, 18)"
      ]
     },
     "execution_count": 168,
     "metadata": {},
     "output_type": "execute_result"
    }
   ],
   "source": [
    "faker.date_time()"
   ]
  },
  {
   "cell_type": "code",
   "execution_count": 169,
   "metadata": {},
   "outputs": [
    {
     "data": {
      "text/plain": [
       "'2013-03-16T04:58:24'"
      ]
     },
     "execution_count": 169,
     "metadata": {},
     "output_type": "execute_result"
    }
   ],
   "source": [
    "faker.iso8601()"
   ]
  },
  {
   "cell_type": "code",
   "execution_count": 170,
   "metadata": {},
   "outputs": [
    {
     "data": {
      "text/plain": [
       "'1988-01-12'"
      ]
     },
     "execution_count": 170,
     "metadata": {},
     "output_type": "execute_result"
    }
   ],
   "source": [
    "faker.date()"
   ]
  },
  {
   "cell_type": "code",
   "execution_count": 171,
   "metadata": {},
   "outputs": [
    {
     "data": {
      "text/plain": [
       "'17:57:23'"
      ]
     },
     "execution_count": 171,
     "metadata": {},
     "output_type": "execute_result"
    }
   ],
   "source": [
    "faker.time()"
   ]
  },
  {
   "cell_type": "code",
   "execution_count": 172,
   "metadata": {},
   "outputs": [
    {
     "name": "stdout",
     "output_type": "stream",
     "text": [
      "Datetime between: 2017-04-02 08:44:03\n",
      "Date between: 1998-03-24\n"
     ]
    }
   ],
   "source": [
    "print(f\"Datetime between: {faker.date_time_between(start_date='-15y', end_date='now')}\")\n",
    "print(f\"Date between: {faker.date_between()}\")"
   ]
  },
  {
   "cell_type": "code",
   "execution_count": 173,
   "metadata": {},
   "outputs": [
    {
     "data": {
      "text/plain": [
       "datetime.datetime(2021, 11, 13, 5, 5, 44)"
      ]
     },
     "execution_count": 173,
     "metadata": {},
     "output_type": "execute_result"
    }
   ],
   "source": [
    "faker.future_datetime()"
   ]
  },
  {
   "cell_type": "code",
   "execution_count": 174,
   "metadata": {},
   "outputs": [
    {
     "data": {
      "text/plain": [
       "datetime.date(2021, 11, 20)"
      ]
     },
     "execution_count": 174,
     "metadata": {},
     "output_type": "execute_result"
    }
   ],
   "source": [
    "faker.future_date()"
   ]
  },
  {
   "cell_type": "code",
   "execution_count": 175,
   "metadata": {},
   "outputs": [
    {
     "data": {
      "text/plain": [
       "datetime.datetime(2021, 10, 12, 0, 30, 37)"
      ]
     },
     "execution_count": 175,
     "metadata": {},
     "output_type": "execute_result"
    }
   ],
   "source": [
    "faker.past_datetime()"
   ]
  },
  {
   "cell_type": "code",
   "execution_count": 176,
   "metadata": {},
   "outputs": [
    {
     "data": {
      "text/plain": [
       "datetime.date(2021, 10, 20)"
      ]
     },
     "execution_count": 176,
     "metadata": {},
     "output_type": "execute_result"
    }
   ],
   "source": [
    "faker.past_date()"
   ]
  },
  {
   "cell_type": "markdown",
   "metadata": {},
   "source": [
    "## Generating XML Data"
   ]
  },
  {
   "cell_type": "code",
   "execution_count": 177,
   "metadata": {},
   "outputs": [],
   "source": [
    "from jinja2 import Environment, FileSystemLoader"
   ]
  },
  {
   "cell_type": "code",
   "execution_count": 187,
   "metadata": {},
   "outputs": [],
   "source": [
    "class User:\n",
    "    def __init__(self, first_name, last_name, occupation):\n",
    "        self.first_name = first_name\n",
    "        self.last_name = last_name\n",
    "        self.occupation = occupation"
   ]
  },
  {
   "cell_type": "code",
   "execution_count": 186,
   "metadata": {},
   "outputs": [],
   "source": [
    "faker = Faker()"
   ]
  },
  {
   "cell_type": "code",
   "execution_count": 182,
   "metadata": {},
   "outputs": [],
   "source": [
    "users = []"
   ]
  },
  {
   "cell_type": "code",
   "execution_count": 188,
   "metadata": {},
   "outputs": [],
   "source": [
    "for _ in range(10):\n",
    "    first_name = faker.first_name()\n",
    "    last_name = faker.last_name()\n",
    "    occupation = faker.job()\n",
    "    \n",
    "    user = User(first_name, last_name, occupation)\n",
    "    \n",
    "    users.append(user)"
   ]
  },
  {
   "cell_type": "code",
   "execution_count": 190,
   "metadata": {},
   "outputs": [],
   "source": [
    "file_loader = FileSystemLoader('templates')\n",
    "env = Environment(loader=file_loader)\n",
    "\n",
    "template = env.get_template('users.xml.j2')\n",
    "output = template.render(users=users)"
   ]
  },
  {
   "cell_type": "code",
   "execution_count": 191,
   "metadata": {},
   "outputs": [
    {
     "name": "stdout",
     "output_type": "stream",
     "text": [
      "<?xml version=\"1.0\" encoding=\"UTF-8\"?>\n",
      "<users>\n",
      "    \n",
      "    <user id=\"1\">\n",
      "        <firstname>Joel</firstname>\n",
      "        <lastname>Robinson</lastname>\n",
      "        <occupation>Publishing rights manager</occupation>\n",
      "    </user>\n",
      "    \n",
      "    <user id=\"2\">\n",
      "        <firstname>Lynn</firstname>\n",
      "        <lastname>Brady</lastname>\n",
      "        <occupation>Producer, television/film/video</occupation>\n",
      "    </user>\n",
      "    \n",
      "    <user id=\"3\">\n",
      "        <firstname>Calvin</firstname>\n",
      "        <lastname>Mendoza</lastname>\n",
      "        <occupation>Public librarian</occupation>\n",
      "    </user>\n",
      "    \n",
      "    <user id=\"4\">\n",
      "        <firstname>Marcus</firstname>\n",
      "        <lastname>Herring</lastname>\n",
      "        <occupation>Theatre stage manager</occupation>\n",
      "    </user>\n",
      "    \n",
      "    <user id=\"5\">\n",
      "        <firstname>Patricia</firstname>\n",
      "        <lastname>Hamilton</lastname>\n",
      "        <occupation>Fisheries officer</occupation>\n",
      "    </user>\n",
      "    \n",
      "    <user id=\"6\">\n",
      "        <firstname>Melanie</firstname>\n",
      "        <lastname>Lyons</lastname>\n",
      "        <occupation>Scientist, research (life sciences)</occupation>\n",
      "    </user>\n",
      "    \n",
      "    <user id=\"7\">\n",
      "        <firstname>Alexander</firstname>\n",
      "        <lastname>Cruz</lastname>\n",
      "        <occupation>Production designer, theatre/television/film</occupation>\n",
      "    </user>\n",
      "    \n",
      "    <user id=\"8\">\n",
      "        <firstname>Blake</firstname>\n",
      "        <lastname>Anderson</lastname>\n",
      "        <occupation>Doctor, general practice</occupation>\n",
      "    </user>\n",
      "    \n",
      "    <user id=\"9\">\n",
      "        <firstname>Bryan</firstname>\n",
      "        <lastname>Rojas</lastname>\n",
      "        <occupation>Civil engineer, consulting</occupation>\n",
      "    </user>\n",
      "    \n",
      "    <user id=\"10\">\n",
      "        <firstname>Dennis</firstname>\n",
      "        <lastname>Scott</lastname>\n",
      "        <occupation>Research officer, political party</occupation>\n",
      "    </user>\n",
      "    \n",
      "    <user id=\"11\">\n",
      "        <firstname>Briana</firstname>\n",
      "        <lastname>Rios</lastname>\n",
      "        <occupation>Illustrator</occupation>\n",
      "    </user>\n",
      "    \n",
      "    <user id=\"12\">\n",
      "        <firstname>Carla</firstname>\n",
      "        <lastname>Gutierrez</lastname>\n",
      "        <occupation>Communications engineer</occupation>\n",
      "    </user>\n",
      "    \n",
      "    <user id=\"13\">\n",
      "        <firstname>Maureen</firstname>\n",
      "        <lastname>Lewis</lastname>\n",
      "        <occupation>Armed forces logistics/support/administrative officer</occupation>\n",
      "    </user>\n",
      "    \n",
      "    <user id=\"14\">\n",
      "        <firstname>Susan</firstname>\n",
      "        <lastname>Bennett</lastname>\n",
      "        <occupation>Lighting technician, broadcasting/film/video</occupation>\n",
      "    </user>\n",
      "    \n",
      "    <user id=\"15\">\n",
      "        <firstname>Douglas</firstname>\n",
      "        <lastname>Brown</lastname>\n",
      "        <occupation>Technical brewer</occupation>\n",
      "    </user>\n",
      "    \n",
      "    <user id=\"16\">\n",
      "        <firstname>James</firstname>\n",
      "        <lastname>Greer</lastname>\n",
      "        <occupation>Retail buyer</occupation>\n",
      "    </user>\n",
      "    \n",
      "    <user id=\"17\">\n",
      "        <firstname>Eric</firstname>\n",
      "        <lastname>Rogers</lastname>\n",
      "        <occupation>Customer service manager</occupation>\n",
      "    </user>\n",
      "    \n",
      "    <user id=\"18\">\n",
      "        <firstname>Lisa</firstname>\n",
      "        <lastname>Chambers</lastname>\n",
      "        <occupation>Broadcast engineer</occupation>\n",
      "    </user>\n",
      "    \n",
      "    <user id=\"19\">\n",
      "        <firstname>Steven</firstname>\n",
      "        <lastname>Herrera</lastname>\n",
      "        <occupation>Building services engineer</occupation>\n",
      "    </user>\n",
      "    \n",
      "    <user id=\"20\">\n",
      "        <firstname>Emma</firstname>\n",
      "        <lastname>Lopez</lastname>\n",
      "        <occupation>Gaffer</occupation>\n",
      "    </user>\n",
      "    \n",
      "</users>\n"
     ]
    }
   ],
   "source": [
    "print(output)"
   ]
  },
  {
   "cell_type": "code",
   "execution_count": 192,
   "metadata": {},
   "outputs": [],
   "source": [
    "# write output to file\n",
    "print(output, file=open('users.xml', 'w'))"
   ]
  },
  {
   "cell_type": "code",
   "execution_count": null,
   "metadata": {},
   "outputs": [],
   "source": []
  }
 ],
 "metadata": {
  "kernelspec": {
   "display_name": "Python 3 (ipykernel)",
   "language": "python",
   "name": "python3"
  },
  "language_info": {
   "codemirror_mode": {
    "name": "ipython",
    "version": 3
   },
   "file_extension": ".py",
   "mimetype": "text/x-python",
   "name": "python",
   "nbconvert_exporter": "python",
   "pygments_lexer": "ipython3",
   "version": "3.9.7"
  },
  "latex_envs": {
   "LaTeX_envs_menu_present": true,
   "autoclose": false,
   "autocomplete": true,
   "bibliofile": "biblio.bib",
   "cite_by": "apalike",
   "current_citInitial": 1,
   "eqLabelWithNumbers": true,
   "eqNumInitial": 1,
   "hotkeys": {
    "equation": "Ctrl-E",
    "itemize": "Ctrl-I"
   },
   "labels_anchors": false,
   "latex_user_defs": false,
   "report_style_numbering": false,
   "user_envs_cfg": false
  }
 },
 "nbformat": 4,
 "nbformat_minor": 4
}
