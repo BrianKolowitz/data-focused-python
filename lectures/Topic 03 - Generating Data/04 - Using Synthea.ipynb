{
 "cells": [
  {
   "cell_type": "markdown",
   "metadata": {},
   "source": [
    "1. [Synthea Home](https://github.com/synthetichealth/synthea/wiki)\n",
    "1. [Synthea Introduction](https://github.com/synthetichealth/synthea/wiki/Getting-Started)\n",
    "1. [Basic Setup and Running](https://github.com/synthetichealth/synthea/wiki/Basic-Setup-and-Running)"
   ]
  },
  {
   "cell_type": "markdown",
   "metadata": {},
   "source": [
    "In a termainal, change the directory to where synthea is installed and execute the run_synthea script\n",
    "\n",
    "## OSX\n",
    "```bash\n",
    "cd ~/Source/synthea\n",
    "./run_synthea\n",
    "```\n",
    "\n",
    "## Windows\n",
    "```bash\n",
    "cd c:\\users\\kolowitz\\synthea\n",
    "run_synthea.bat\n",
    "```\n",
    "\n",
    "*Note: if running on Windows, use ```.\\run_synthea.bat``` instead of ```./run_synthea``` -- this guide uses ```./run_synthea``` for brevity*"
   ]
  },
  {
   "cell_type": "code",
   "execution_count": 3,
   "metadata": {},
   "outputs": [],
   "source": [
    "import os\n",
    "import pathlib\n",
    "\n",
    "os.chdir(os.path.join(pathlib.Path.home(), 'Source/synthea'))"
   ]
  },
  {
   "cell_type": "code",
   "execution_count": null,
   "metadata": {},
   "outputs": [],
   "source": [
    "# generate a population of 5 patients\n",
    "!./run_synthea -p 5"
   ]
  },
  {
   "cell_type": "code",
   "execution_count": null,
   "metadata": {},
   "outputs": [],
   "source": [
    "# generate a population of 5 patients in Pittsburgh Pennsylvania\n",
    "!./run_synthea -p 5 Pennsylvania Pittsburgh"
   ]
  },
  {
   "cell_type": "code",
   "execution_count": null,
   "metadata": {},
   "outputs": [],
   "source": [
    "# generate a population of 5 patients with a seed of 12345\n",
    "!./run_synthea -p 5 -s 12345"
   ]
  },
  {
   "cell_type": "markdown",
   "metadata": {},
   "source": [
    "## Common Configuration\n",
    "[Source](https://github.com/synthetichealth/synthea/wiki/Common-Configuration)\n",
    "\n",
    "| Setting Name | Valid Values | Default\t| Description |\n",
    "| --- | --- | --- | --- |\n",
    "| exporter.ccda.export | true/false | false | Change this setting to true to enable exporting patients in CCDA format. |\n",
    "| exporter.fhir.export | true/false | true | Change this setting to false to disable exporting patients in FHIR R4 format. |\n",
    "| exporter.text.export | true/false | false | Change this setting to true to enable exporting patients in a simple text-based format. |\n",
    "| exporter.csv.export | true/false | false | Change this setting to true to enable exporting patient data in a comma-separated value format. See the [CSV File Data Dictionary](https://github.com/synthetichealth/synthea/wiki/CSV-File-Data-Dictionary). |\n",
    "| exporter.years_of_history | Whole number | 10 | The number of years of patient history to include in patient records. For example, if set to 5, then all patient history older than 5 years old (from the time you execute the program) will not be included in the exported records. Note that conditions and medications that are currently active will still be exported, regardless of this setting. Set this to 0 to keep all history in the patient record. |"
   ]
  },
  {
   "cell_type": "code",
   "execution_count": 1,
   "metadata": {},
   "outputs": [
    {
     "name": "stdout",
     "output_type": "stream",
     "text": [
      "cat: ./src/main/resources/synthea.properties: No such file or directory\n"
     ]
    }
   ],
   "source": [
    "!cat ./src/main/resources/synthea.properties"
   ]
  },
  {
   "cell_type": "code",
   "execution_count": null,
   "metadata": {},
   "outputs": [],
   "source": []
  }
 ],
 "metadata": {
  "kernelspec": {
   "display_name": "Python 3 (ipykernel)",
   "language": "python",
   "name": "python3"
  },
  "language_info": {
   "codemirror_mode": {
    "name": "ipython",
    "version": 3
   },
   "file_extension": ".py",
   "mimetype": "text/x-python",
   "name": "python",
   "nbconvert_exporter": "python",
   "pygments_lexer": "ipython3",
   "version": "3.9.7"
  }
 },
 "nbformat": 4,
 "nbformat_minor": 4
}
