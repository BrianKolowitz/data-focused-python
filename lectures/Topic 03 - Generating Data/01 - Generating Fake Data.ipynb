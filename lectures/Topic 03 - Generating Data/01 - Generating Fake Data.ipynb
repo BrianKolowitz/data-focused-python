{
 "cells": [
  {
   "cell_type": "markdown",
   "metadata": {},
   "source": [
    "# Generating Fake Data\n",
    "\n",
    "It's often useful, especially in healthcare, to generate fake data in order to test your system while protecting the privacy of your production data sets."
   ]
  },
  {
   "cell_type": "code",
   "execution_count": 1,
   "metadata": {},
   "outputs": [],
   "source": [
    "## let's generate a fake person"
   ]
  },
  {
   "cell_type": "code",
   "execution_count": 2,
   "metadata": {},
   "outputs": [],
   "source": [
    "person = {}"
   ]
  },
  {
   "cell_type": "code",
   "execution_count": 3,
   "metadata": {},
   "outputs": [
    {
     "name": "stdout",
     "output_type": "stream",
     "text": [
      "{}\n"
     ]
    }
   ],
   "source": [
    "print(person)"
   ]
  },
  {
   "cell_type": "code",
   "execution_count": 5,
   "metadata": {},
   "outputs": [],
   "source": [
    "person['age'] = 28"
   ]
  },
  {
   "cell_type": "code",
   "execution_count": 6,
   "metadata": {},
   "outputs": [
    {
     "name": "stdout",
     "output_type": "stream",
     "text": [
      "{'age': 28}\n"
     ]
    }
   ],
   "source": [
    "print(person)"
   ]
  },
  {
   "cell_type": "code",
   "execution_count": 15,
   "metadata": {},
   "outputs": [
    {
     "name": "stdout",
     "output_type": "stream",
     "text": [
      "{'age': 41, 'employeed': 'Full Time'}\n"
     ]
    }
   ],
   "source": [
    "# let's generate a random age\n",
    "import random\n",
    "person['age'] = random.randrange(100)\n",
    "print(person)"
   ]
  },
  {
   "cell_type": "code",
   "execution_count": 10,
   "metadata": {},
   "outputs": [
    {
     "name": "stdout",
     "output_type": "stream",
     "text": [
      "{'age': 80}\n"
     ]
    }
   ],
   "source": [
    "person['age'] = random.randrange(100)\n",
    "print(person)"
   ]
  },
  {
   "cell_type": "code",
   "execution_count": 16,
   "metadata": {},
   "outputs": [
    {
     "name": "stdout",
     "output_type": "stream",
     "text": [
      "{'age': 55, 'employeed': 'Full Time'}\n"
     ]
    }
   ],
   "source": [
    "# in healthcare kids and elderly have special coverage so let's exclude both groups\n",
    "person['age'] = random.randint(18, 65)\n",
    "print(person)"
   ]
  },
  {
   "cell_type": "code",
   "execution_count": 60,
   "metadata": {},
   "outputs": [
    {
     "name": "stdout",
     "output_type": "stream",
     "text": [
      "{'age': 55, 'employeed': 'Part Time', 'employment': 'Full Time'}\n"
     ]
    }
   ],
   "source": [
    "person['employment'] = 'Full Time'\n",
    "print(person)"
   ]
  },
  {
   "cell_type": "code",
   "execution_count": 61,
   "metadata": {},
   "outputs": [
    {
     "name": "stdout",
     "output_type": "stream",
     "text": [
      "{'age': 55, 'employeed': 'Part Time', 'employment': 'Contract'}\n"
     ]
    }
   ],
   "source": [
    "# let's set employment status\n",
    "employment_status = ['Full Time', 'Part Time', 'Contract', 'Seasonal', 'Unemployed', 'Retired']\n",
    "person['employment'] = random.choice(employment_status)\n",
    "print(person)"
   ]
  },
  {
   "cell_type": "code",
   "execution_count": 62,
   "metadata": {},
   "outputs": [
    {
     "name": "stdout",
     "output_type": "stream",
     "text": [
      "{'age': 55, 'employeed': 'Part Time', 'employment': 'Contract'}\n"
     ]
    }
   ],
   "source": [
    "person['employment'] = random.choice(employment_status)\n",
    "print(person)"
   ]
  },
  {
   "cell_type": "code",
   "execution_count": 63,
   "metadata": {},
   "outputs": [
    {
     "name": "stdout",
     "output_type": "stream",
     "text": [
      "{'age': 55, 'employeed': 'Part Time', 'employment': 'Retired'}\n"
     ]
    }
   ],
   "source": [
    "person['employment'] = random.choices(employment_status, [.5, .2, .1, .1, .05, .05])[0]\n",
    "print(person)"
   ]
  },
  {
   "cell_type": "code",
   "execution_count": 64,
   "metadata": {},
   "outputs": [
    {
     "name": "stdout",
     "output_type": "stream",
     "text": [
      "{'age': 55, 'employeed': 'Part Time', 'employment': 'Full Time'}\n"
     ]
    }
   ],
   "source": [
    "person['employment'] = random.choices(employment_status, [.5, .2, .1, .1, .05, .05])[0]\n",
    "print(person)"
   ]
  },
  {
   "cell_type": "code",
   "execution_count": 65,
   "metadata": {},
   "outputs": [],
   "source": [
    "def generate_employment():\n",
    "    employment_status = ['Full Time', 'Part Time', 'Contract', 'Seasonal', 'Unemployed', 'Retired']\n",
    "    employment = random.choices(employment_status, [.5, .2, .1, .1, .05, .05])[0]\n",
    "    return employment\n",
    "    "
   ]
  },
  {
   "cell_type": "code",
   "execution_count": 57,
   "metadata": {},
   "outputs": [],
   "source": [
    "# let's construct some fake addresses\n",
    "def generate_address():\n",
    "    street_number = random.randint(1, 100)\n",
    "    street_name= random.choice(['Main', 'Bluff', 'Federal'])\n",
    "    city = random.choice(['Pittsburgh', 'Cleveland' ])\n",
    "\n",
    "    city_details = { 'Pittsburgh' : { 'zip': 15106, 'state': 'PA' },\n",
    "                    'Cleveland' : { 'zip': 44101, 'state': 'OH' } }\n",
    "    state = city_details[city]['zip']\n",
    "    zip_code = city_details[city]['state']\n",
    "    \n",
    "    address = f\"{street_number} {street_name}\\n{city}, {state} {zip_code}\"\n",
    "    return address"
   ]
  },
  {
   "cell_type": "code",
   "execution_count": 56,
   "metadata": {},
   "outputs": [
    {
     "name": "stdout",
     "output_type": "stream",
     "text": [
      "Pittsburgh\n",
      "14 Federal\n",
      "Pittsburgh, 15106 PA\n"
     ]
    }
   ],
   "source": [
    "address = generate_address()\n",
    "print(address)"
   ]
  },
  {
   "cell_type": "code",
   "execution_count": 58,
   "metadata": {},
   "outputs": [],
   "source": [
    "def generate_name():\n",
    "    first = ['Ben', 'Jen', 'Joan', 'John']\n",
    "    last = ['Jones', 'Smith', 'Doe']\n",
    "    return f\"{random.choice(first)} {random.choice(last)}\""
   ]
  },
  {
   "cell_type": "code",
   "execution_count": 59,
   "metadata": {},
   "outputs": [
    {
     "name": "stdout",
     "output_type": "stream",
     "text": [
      "Jen Doe\n"
     ]
    }
   ],
   "source": [
    "name = generate_name()\n",
    "print(name)"
   ]
  },
  {
   "cell_type": "code",
   "execution_count": 70,
   "metadata": {},
   "outputs": [],
   "source": [
    "def generate_person():\n",
    "    person = {}\n",
    "    person['name'] = generate_name()\n",
    "    person['address'] = generate_address()\n",
    "    person['employment'] = generate_employment()\n",
    "    return person"
   ]
  },
  {
   "cell_type": "code",
   "execution_count": 71,
   "metadata": {},
   "outputs": [
    {
     "name": "stdout",
     "output_type": "stream",
     "text": [
      "{'name': 'Ben Smith', 'address': '91 Bluff\\nPittsburgh, 15106 PA', 'employment': 'Full Time'}\n"
     ]
    }
   ],
   "source": [
    "person = generate_person()\n",
    "print(person)"
   ]
  },
  {
   "cell_type": "code",
   "execution_count": 72,
   "metadata": {},
   "outputs": [
    {
     "name": "stdout",
     "output_type": "stream",
     "text": [
      "{'name': 'John Jones', 'address': '35 Federal\\nCleveland, 44101 OH', 'employment': 'Retired'}\n"
     ]
    }
   ],
   "source": [
    "person = generate_person()\n",
    "print(person)"
   ]
  },
  {
   "cell_type": "code",
   "execution_count": 73,
   "metadata": {},
   "outputs": [
    {
     "name": "stdout",
     "output_type": "stream",
     "text": [
      "{'name': 'John Doe', 'address': '86 Main\\nCleveland, 44101 OH', 'employment': 'Contract'}\n"
     ]
    }
   ],
   "source": [
    "person = generate_person()\n",
    "print(person)"
   ]
  },
  {
   "cell_type": "code",
   "execution_count": null,
   "metadata": {},
   "outputs": [],
   "source": []
  }
 ],
 "metadata": {
  "kernelspec": {
   "display_name": "Python 3 (ipykernel)",
   "language": "python",
   "name": "python3"
  },
  "language_info": {
   "codemirror_mode": {
    "name": "ipython",
    "version": 3
   },
   "file_extension": ".py",
   "mimetype": "text/x-python",
   "name": "python",
   "nbconvert_exporter": "python",
   "pygments_lexer": "ipython3",
   "version": "3.9.7"
  },
  "latex_envs": {
   "LaTeX_envs_menu_present": true,
   "autoclose": false,
   "autocomplete": true,
   "bibliofile": "biblio.bib",
   "cite_by": "apalike",
   "current_citInitial": 1,
   "eqLabelWithNumbers": true,
   "eqNumInitial": 1,
   "hotkeys": {
    "equation": "Ctrl-E",
    "itemize": "Ctrl-I"
   },
   "labels_anchors": false,
   "latex_user_defs": false,
   "report_style_numbering": false,
   "user_envs_cfg": false
  }
 },
 "nbformat": 4,
 "nbformat_minor": 4
}
