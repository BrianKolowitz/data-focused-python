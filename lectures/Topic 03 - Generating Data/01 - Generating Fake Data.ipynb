{
 "cells": [
  {
   "cell_type": "markdown",
   "metadata": {},
   "source": [
    "# Generating Fake Data\n",
    "\n",
    "It's often useful, especially in healthcare, to generate fake data in order to test your system while protecting the privacy of your production data sets."
   ]
  },
  {
   "cell_type": "code",
   "execution_count": 23,
   "metadata": {},
   "outputs": [],
   "source": [
    "## let's generate a fake person"
   ]
  },
  {
   "cell_type": "code",
   "execution_count": 24,
   "metadata": {},
   "outputs": [],
   "source": [
    "person = {}"
   ]
  },
  {
   "cell_type": "code",
   "execution_count": 25,
   "metadata": {},
   "outputs": [
    {
     "data": {
      "text/plain": [
       "dict"
      ]
     },
     "execution_count": 25,
     "metadata": {},
     "output_type": "execute_result"
    }
   ],
   "source": [
    "type(person)"
   ]
  },
  {
   "cell_type": "code",
   "execution_count": 26,
   "metadata": {},
   "outputs": [
    {
     "name": "stdout",
     "output_type": "stream",
     "text": [
      "{}\n"
     ]
    }
   ],
   "source": [
    "print(person)"
   ]
  },
  {
   "cell_type": "code",
   "execution_count": 27,
   "metadata": {},
   "outputs": [],
   "source": [
    "person['age'] = 28"
   ]
  },
  {
   "cell_type": "code",
   "execution_count": 28,
   "metadata": {},
   "outputs": [
    {
     "data": {
      "text/plain": [
       "int"
      ]
     },
     "execution_count": 28,
     "metadata": {},
     "output_type": "execute_result"
    }
   ],
   "source": [
    "type(person['age'])"
   ]
  },
  {
   "cell_type": "code",
   "execution_count": 29,
   "metadata": {},
   "outputs": [
    {
     "name": "stdout",
     "output_type": "stream",
     "text": [
      "{'age': 28}\n"
     ]
    }
   ],
   "source": [
    "print(person)"
   ]
  },
  {
   "cell_type": "code",
   "execution_count": 34,
   "metadata": {},
   "outputs": [
    {
     "name": "stdout",
     "output_type": "stream",
     "text": [
      "{'age': 24}\n"
     ]
    }
   ],
   "source": [
    "# let's generate a random age\n",
    "import random\n",
    "person['age'] = random.randrange(100)\n",
    "print(person)"
   ]
  },
  {
   "cell_type": "code",
   "execution_count": 35,
   "metadata": {},
   "outputs": [
    {
     "data": {
      "text/plain": [
       "\u001b[0;31mSignature:\u001b[0m \u001b[0mrandom\u001b[0m\u001b[0;34m.\u001b[0m\u001b[0mrandrange\u001b[0m\u001b[0;34m(\u001b[0m\u001b[0mstart\u001b[0m\u001b[0;34m,\u001b[0m \u001b[0mstop\u001b[0m\u001b[0;34m=\u001b[0m\u001b[0;32mNone\u001b[0m\u001b[0;34m,\u001b[0m \u001b[0mstep\u001b[0m\u001b[0;34m=\u001b[0m\u001b[0;36m1\u001b[0m\u001b[0;34m)\u001b[0m\u001b[0;34m\u001b[0m\u001b[0;34m\u001b[0m\u001b[0m\n",
       "\u001b[0;31mDocstring:\u001b[0m\n",
       "Choose a random item from range(start, stop[, step]).\n",
       "\n",
       "This fixes the problem with randint() which includes the\n",
       "endpoint; in Python this is usually not what you want.\n",
       "\u001b[0;31mFile:\u001b[0m      ~/opt/miniconda3/envs/cmu39/lib/python3.9/random.py\n",
       "\u001b[0;31mType:\u001b[0m      method\n"
      ]
     },
     "metadata": {},
     "output_type": "display_data"
    }
   ],
   "source": [
    "random.randrange?"
   ]
  },
  {
   "cell_type": "code",
   "execution_count": 49,
   "metadata": {},
   "outputs": [
    {
     "name": "stdout",
     "output_type": "stream",
     "text": [
      "{'age': 5, 'employment': 40}\n"
     ]
    }
   ],
   "source": [
    "person['age'] = random.randrange(100)\n",
    "print(person)"
   ]
  },
  {
   "cell_type": "code",
   "execution_count": 38,
   "metadata": {},
   "outputs": [
    {
     "name": "stdout",
     "output_type": "stream",
     "text": [
      "{'age': 31}\n"
     ]
    }
   ],
   "source": [
    "# in healthcare kids and elderly have special coverage so let's exclude both groups\n",
    "person['age'] = random.randint(18, 65)\n",
    "print(person)"
   ]
  },
  {
   "cell_type": "code",
   "execution_count": 50,
   "metadata": {},
   "outputs": [
    {
     "name": "stdout",
     "output_type": "stream",
     "text": [
      "<class 'str'>\n",
      "{'age': 5, 'employment': 'Full Time'}\n"
     ]
    }
   ],
   "source": [
    "person['employment'] = 'Full Time'\n",
    "print(type(person['employment']))\n",
    "print(person)"
   ]
  },
  {
   "cell_type": "code",
   "execution_count": 56,
   "metadata": {},
   "outputs": [
    {
     "name": "stdout",
     "output_type": "stream",
     "text": [
      "{'age': 5, 'employment': 'Seasonal'}\n"
     ]
    }
   ],
   "source": [
    "# let's set employment status\n",
    "employment_status = ['Full Time', 'Part Time', 'Contract', 'Seasonal', 'Unemployed', 'Retired']\n",
    "person['employment'] = random.choice(employment_status)\n",
    "print(person)"
   ]
  },
  {
   "cell_type": "code",
   "execution_count": 57,
   "metadata": {},
   "outputs": [
    {
     "name": "stdout",
     "output_type": "stream",
     "text": [
      "{'age': 5, 'employment': 'Full Time'}\n"
     ]
    }
   ],
   "source": [
    "person['employment'] = random.choice(employment_status)\n",
    "print(person)"
   ]
  },
  {
   "cell_type": "code",
   "execution_count": 72,
   "metadata": {},
   "outputs": [
    {
     "name": "stdout",
     "output_type": "stream",
     "text": [
      "Choice has type <class 'list'> and len 1\n",
      "['Full Time']\n",
      "{'age': 5, 'employment': 'Full Time'}\n"
     ]
    }
   ],
   "source": [
    "choice = random.choices(employment_status, [.5, .2, .1, .1, .05, .05])\n",
    "print(f\"Choice has type {type(choice)} and len {len(choice)}\")\n",
    "print(choice)\n",
    "\n",
    "person['employment'] = choice[0]\n",
    "print(person)"
   ]
  },
  {
   "cell_type": "code",
   "execution_count": 76,
   "metadata": {},
   "outputs": [
    {
     "name": "stdout",
     "output_type": "stream",
     "text": [
      "{'age': 5, 'employment': 'Part Time'}\n"
     ]
    }
   ],
   "source": [
    "person['employment'] = random.choices(employment_status, [.5, .2, .1, .1, .05, .05],k=1)[0]\n",
    "print(person)"
   ]
  },
  {
   "cell_type": "code",
   "execution_count": 78,
   "metadata": {},
   "outputs": [],
   "source": [
    "def generate_employment():\n",
    "    employment_status = ['Full Time', 'Part Time', 'Contract', 'Seasonal', 'Unemployed', 'Retired']\n",
    "    employment = random.choices(employment_status, [.5, .2, .1, .1, .05, .05])[0]\n",
    "    return employment"
   ]
  },
  {
   "cell_type": "code",
   "execution_count": 79,
   "metadata": {},
   "outputs": [
    {
     "name": "stdout",
     "output_type": "stream",
     "text": [
      "Contract\n",
      "Seasonal\n",
      "Seasonal\n"
     ]
    }
   ],
   "source": [
    "print(generate_employment())\n",
    "print(generate_employment())\n",
    "print(generate_employment())"
   ]
  },
  {
   "cell_type": "code",
   "execution_count": 90,
   "metadata": {},
   "outputs": [],
   "source": [
    "# let's construct some fake addresses\n",
    "def generate_address():\n",
    "    street_number = random.randint(1, 1000)\n",
    "    street_name = random.choice(['Main', 'Bluff', 'Federal'])\n",
    "#     city = random.choice(['Pittsburgh', 'Cleveland' ])\n",
    "#     city_details = { 'Pittsburgh' : { 'zip': 15106, 'state': 'PA' },\n",
    "#                     'Cleveland' : { 'zip': 44101, 'state': 'OH' } }\n",
    "#     state = city_details[city]['state']\n",
    "#     zip_code = city_details[city]['zip']\n",
    "\n",
    "    city_details = random.choice([\n",
    "        { 'city': 'Pittsburgh', 'zip': 15106, 'state': 'PA' }, \n",
    "        { 'city': 'Cleveland', 'zip': 44101, 'state': 'OH' } ])\n",
    "    \n",
    "    city = city_details['city']\n",
    "    state = city_details['state']\n",
    "    zip_code = city_details['zip']\n",
    "    \n",
    "    address = f\"{street_number} {street_name}\\n{city}, {state} {zip_code}\"\n",
    "    return address"
   ]
  },
  {
   "cell_type": "code",
   "execution_count": 92,
   "metadata": {},
   "outputs": [
    {
     "name": "stdout",
     "output_type": "stream",
     "text": [
      "257 Federal\n",
      "Pittsburgh, PA 15106\n"
     ]
    }
   ],
   "source": [
    "address = generate_address()\n",
    "print(address)"
   ]
  },
  {
   "cell_type": "code",
   "execution_count": 97,
   "metadata": {},
   "outputs": [],
   "source": [
    "def generate_name():\n",
    "    first = ['Ben', 'Jen', 'Joan', 'John']\n",
    "    last = ['Jones', 'Smith', 'Doe']\n",
    "    return f\"{random.choice(first)} {random.choice(last)}\""
   ]
  },
  {
   "cell_type": "code",
   "execution_count": 101,
   "metadata": {},
   "outputs": [
    {
     "name": "stdout",
     "output_type": "stream",
     "text": [
      "Jen Doe\n"
     ]
    }
   ],
   "source": [
    "name = generate_name()\n",
    "print(name)"
   ]
  },
  {
   "cell_type": "code",
   "execution_count": 102,
   "metadata": {},
   "outputs": [],
   "source": [
    "def generate_person():\n",
    "    person = {}\n",
    "    person['name'] = generate_name()\n",
    "    person['address'] = generate_address()\n",
    "    person['employment'] = generate_employment()\n",
    "    return person"
   ]
  },
  {
   "cell_type": "code",
   "execution_count": 105,
   "metadata": {},
   "outputs": [
    {
     "name": "stdout",
     "output_type": "stream",
     "text": [
      "<class 'dict'>\n",
      "{'name': 'Ben Doe', 'address': '905 Main\\nCleveland, OH 44101', 'employment': 'Contract'}\n"
     ]
    }
   ],
   "source": [
    "person = generate_person()\n",
    "print(type(person))\n",
    "print(person)"
   ]
  },
  {
   "cell_type": "code",
   "execution_count": 106,
   "metadata": {},
   "outputs": [
    {
     "name": "stdout",
     "output_type": "stream",
     "text": [
      "{'name': 'Joan Smith', 'address': '617 Bluff\\nPittsburgh, PA 15106', 'employment': 'Seasonal'}\n"
     ]
    }
   ],
   "source": [
    "person = generate_person()\n",
    "print(person)"
   ]
  },
  {
   "cell_type": "code",
   "execution_count": 107,
   "metadata": {},
   "outputs": [
    {
     "name": "stdout",
     "output_type": "stream",
     "text": [
      "{'name': 'Jen Doe', 'address': '83 Main\\nCleveland, OH 44101', 'employment': 'Retired'}\n"
     ]
    }
   ],
   "source": [
    "person = generate_person()\n",
    "print(person)"
   ]
  },
  {
   "cell_type": "code",
   "execution_count": null,
   "metadata": {},
   "outputs": [],
   "source": []
  }
 ],
 "metadata": {
  "kernelspec": {
   "display_name": "Python 3 (ipykernel)",
   "language": "python",
   "name": "python3"
  },
  "language_info": {
   "codemirror_mode": {
    "name": "ipython",
    "version": 3
   },
   "file_extension": ".py",
   "mimetype": "text/x-python",
   "name": "python",
   "nbconvert_exporter": "python",
   "pygments_lexer": "ipython3",
   "version": "3.9.7"
  },
  "latex_envs": {
   "LaTeX_envs_menu_present": true,
   "autoclose": false,
   "autocomplete": true,
   "bibliofile": "biblio.bib",
   "cite_by": "apalike",
   "current_citInitial": 1,
   "eqLabelWithNumbers": true,
   "eqNumInitial": 1,
   "hotkeys": {
    "equation": "Ctrl-E",
    "itemize": "Ctrl-I"
   },
   "labels_anchors": false,
   "latex_user_defs": false,
   "report_style_numbering": false,
   "user_envs_cfg": false
  }
 },
 "nbformat": 4,
 "nbformat_minor": 4
}
