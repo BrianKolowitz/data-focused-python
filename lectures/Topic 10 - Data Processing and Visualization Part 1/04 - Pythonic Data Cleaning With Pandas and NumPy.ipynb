{
 "cells": [
  {
   "cell_type": "markdown",
   "id": "b4d269f0-c7bd-4a3a-96cc-6840ae75a235",
   "metadata": {},
   "source": [
    "# Pythonic Data Cleaning With Pandas and NumPy\n",
    "\n",
    "[Source](https://realpython.com/python-data-cleaning-numpy-pandas/)"
   ]
  },
  {
   "cell_type": "markdown",
   "id": "c713ce3d-d5d5-4f92-8183-e9acd8a7090e",
   "metadata": {},
   "source": [
    "Data scientists spend a large amount of their time cleaning datasets and getting them down to a form with which they can work. In fact, a lot of data scientists argue that the initial steps of obtaining and cleaning data constitute 80% of the job."
   ]
  },
  {
   "cell_type": "markdown",
   "id": "ce03cc4d-1ce6-4c56-b665-7fb06ed52970",
   "metadata": {},
   "source": [
    "Therefore, if you are just stepping into this field or planning to step into this field, it is important to be able to deal with messy data, whether that means missing values, inconsistent formatting, malformed records, or nonsensical outliers."
   ]
  },
  {
   "cell_type": "markdown",
   "id": "40c48d03-b3ea-4fb4-b865-ad50fd0216cb",
   "metadata": {},
   "source": [
    "In this tutorial, we’ll leverage Python’s Pandas and NumPy libraries to clean data.\n",
    "\n",
    "We’ll cover the following:\n",
    "\n",
    "* Dropping unnecessary columns in a DataFrame\n",
    "* Changing the index of a DataFrame\n",
    "* Using .str() methods to clean columns\n",
    "* Using the DataFrame.applymap() function to clean the entire dataset, element-wise\n",
    "* Renaming columns to a more recognizable set of labels\n",
    "* Skipping unnecessary rows in a CSV file"
   ]
  },
  {
   "cell_type": "markdown",
   "id": "8733f5da-ac17-4625-9341-efaa45ab9613",
   "metadata": {},
   "source": [
    "Here are the datasets that we will be using:\n",
    "\n",
    "* [BL-Flickr-Images-Book.csv](https://github.com/realpython/python-data-cleaning/blob/master/Datasets/BL-Flickr-Images-Book.csv) – A CSV file containing information about books from the British Library\n",
    "* [university_towns.txt](https://github.com/realpython/python-data-cleaning/blob/master/Datasets/university_towns.txt) – A text file containing names of college towns in every US state\n",
    "* [olympics.csv – A CSV file summarizing the participation of all countries in the Summer and Winter Olympics\n",
    "\n",
    "You can download the datasets from Real Python’s [GitHub repository](https://github.com/realpython/python-data-cleaning) in order to follow the examples here.\n",
    "\n",
    ">Note: I recommend using Jupyter Notebooks to follow along.\n",
    "\n",
    "This tutorial assumes a basic understanding of the Pandas and NumPy libraries, including Panda’s workhorse Series and DataFrame objects, common methods that can be applied to these objects, and familiarity with NumPy’s NaN values.\n",
    "\n",
    "Let’s import the required modules and get started!"
   ]
  },
  {
   "cell_type": "code",
   "execution_count": 1,
   "id": "e4b828ee-7038-46f2-b2e0-85abda068b3c",
   "metadata": {},
   "outputs": [],
   "source": [
    "import pandas as pd\n",
    "import numpy as np"
   ]
  },
  {
   "cell_type": "markdown",
   "id": "6dac58a6-a6e9-4398-9a0a-31a5b1f8323c",
   "metadata": {},
   "source": [
    "## Dropping Columns in a DataFrame\n",
    "\n",
    "Often, you’ll find that not all the categories of data in a dataset are useful to you. For example, you might have a dataset containing student information (name, grade, standard, parents’ names, and address) but want to focus on analyzing student grades."
   ]
  },
  {
   "cell_type": "markdown",
   "id": "afae595f-3a45-4138-b20b-ca785180e249",
   "metadata": {},
   "source": [
    "In this case, the address or parents’ names categories are not important to you. Retaining these unneeded categories will take up unnecessary space and potentially also bog down runtime."
   ]
  },
  {
   "cell_type": "markdown",
   "id": "408d085c-7b15-4f58-a503-d6dcf4c6e0e4",
   "metadata": {},
   "source": [
    "Pandas provides a handy way of removing unwanted columns or rows from a DataFrame with the `drop()` function. Let’s look at a simple example where we drop a number of columns from a DataFrame."
   ]
  },
  {
   "cell_type": "markdown",
   "id": "9d41c20a-2dc5-40be-9f75-fe8f3cc8c7f2",
   "metadata": {},
   "source": [
    "First, let’s create a `DataFrame` out of the CSV file ‘BL-Flickr-Images-Book.csv’. In the examples below, we pass a relative path to pd.read_csv, meaning that all of the datasets are in a folder named Datasets in our current working directory:"
   ]
  },
  {
   "cell_type": "code",
   "execution_count": 9,
   "id": "0aa5607c-d658-4d84-840f-d811fa951c21",
   "metadata": {},
   "outputs": [
    {
     "data": {
      "text/html": [
       "<div>\n",
       "<style scoped>\n",
       "    .dataframe tbody tr th:only-of-type {\n",
       "        vertical-align: middle;\n",
       "    }\n",
       "\n",
       "    .dataframe tbody tr th {\n",
       "        vertical-align: top;\n",
       "    }\n",
       "\n",
       "    .dataframe thead th {\n",
       "        text-align: right;\n",
       "    }\n",
       "</style>\n",
       "<table border=\"1\" class=\"dataframe\">\n",
       "  <thead>\n",
       "    <tr style=\"text-align: right;\">\n",
       "      <th></th>\n",
       "      <th>Identifier</th>\n",
       "      <th>Edition Statement</th>\n",
       "      <th>Place of Publication</th>\n",
       "      <th>Date of Publication</th>\n",
       "      <th>Publisher</th>\n",
       "      <th>Title</th>\n",
       "      <th>Author</th>\n",
       "      <th>Contributors</th>\n",
       "      <th>Corporate Author</th>\n",
       "      <th>Corporate Contributors</th>\n",
       "      <th>Former owner</th>\n",
       "      <th>Engraver</th>\n",
       "      <th>Issuance type</th>\n",
       "      <th>Flickr URL</th>\n",
       "      <th>Shelfmarks</th>\n",
       "    </tr>\n",
       "  </thead>\n",
       "  <tbody>\n",
       "    <tr>\n",
       "      <th>0</th>\n",
       "      <td>206</td>\n",
       "      <td>NaN</td>\n",
       "      <td>London</td>\n",
       "      <td>1879 [1878]</td>\n",
       "      <td>S. Tinsley &amp; Co.</td>\n",
       "      <td>Walter Forbes. [A novel.] By A. A</td>\n",
       "      <td>A. A.</td>\n",
       "      <td>FORBES, Walter.</td>\n",
       "      <td>NaN</td>\n",
       "      <td>NaN</td>\n",
       "      <td>NaN</td>\n",
       "      <td>NaN</td>\n",
       "      <td>monographic</td>\n",
       "      <td>http://www.flickr.com/photos/britishlibrary/ta...</td>\n",
       "      <td>British Library HMNTS 12641.b.30.</td>\n",
       "    </tr>\n",
       "    <tr>\n",
       "      <th>1</th>\n",
       "      <td>216</td>\n",
       "      <td>NaN</td>\n",
       "      <td>London; Virtue &amp; Yorston</td>\n",
       "      <td>1868</td>\n",
       "      <td>Virtue &amp; Co.</td>\n",
       "      <td>All for Greed. [A novel. The dedication signed...</td>\n",
       "      <td>A., A. A.</td>\n",
       "      <td>BLAZE DE BURY, Marie Pauline Rose - Baroness</td>\n",
       "      <td>NaN</td>\n",
       "      <td>NaN</td>\n",
       "      <td>NaN</td>\n",
       "      <td>NaN</td>\n",
       "      <td>monographic</td>\n",
       "      <td>http://www.flickr.com/photos/britishlibrary/ta...</td>\n",
       "      <td>British Library HMNTS 12626.cc.2.</td>\n",
       "    </tr>\n",
       "    <tr>\n",
       "      <th>2</th>\n",
       "      <td>218</td>\n",
       "      <td>NaN</td>\n",
       "      <td>London</td>\n",
       "      <td>1869</td>\n",
       "      <td>Bradbury, Evans &amp; Co.</td>\n",
       "      <td>Love the Avenger. By the author of “All for Gr...</td>\n",
       "      <td>A., A. A.</td>\n",
       "      <td>BLAZE DE BURY, Marie Pauline Rose - Baroness</td>\n",
       "      <td>NaN</td>\n",
       "      <td>NaN</td>\n",
       "      <td>NaN</td>\n",
       "      <td>NaN</td>\n",
       "      <td>monographic</td>\n",
       "      <td>http://www.flickr.com/photos/britishlibrary/ta...</td>\n",
       "      <td>British Library HMNTS 12625.dd.1.</td>\n",
       "    </tr>\n",
       "    <tr>\n",
       "      <th>3</th>\n",
       "      <td>472</td>\n",
       "      <td>NaN</td>\n",
       "      <td>London</td>\n",
       "      <td>1851</td>\n",
       "      <td>James Darling</td>\n",
       "      <td>Welsh Sketches, chiefly ecclesiastical, to the...</td>\n",
       "      <td>A., E. S.</td>\n",
       "      <td>Appleyard, Ernest Silvanus.</td>\n",
       "      <td>NaN</td>\n",
       "      <td>NaN</td>\n",
       "      <td>NaN</td>\n",
       "      <td>NaN</td>\n",
       "      <td>monographic</td>\n",
       "      <td>http://www.flickr.com/photos/britishlibrary/ta...</td>\n",
       "      <td>British Library HMNTS 10369.bbb.15.</td>\n",
       "    </tr>\n",
       "    <tr>\n",
       "      <th>4</th>\n",
       "      <td>480</td>\n",
       "      <td>A new edition, revised, etc.</td>\n",
       "      <td>London</td>\n",
       "      <td>1857</td>\n",
       "      <td>Wertheim &amp; Macintosh</td>\n",
       "      <td>[The World in which I live, and my place in it...</td>\n",
       "      <td>A., E. S.</td>\n",
       "      <td>BROOME, John Henry.</td>\n",
       "      <td>NaN</td>\n",
       "      <td>NaN</td>\n",
       "      <td>NaN</td>\n",
       "      <td>NaN</td>\n",
       "      <td>monographic</td>\n",
       "      <td>http://www.flickr.com/photos/britishlibrary/ta...</td>\n",
       "      <td>British Library HMNTS 9007.d.28.</td>\n",
       "    </tr>\n",
       "  </tbody>\n",
       "</table>\n",
       "</div>"
      ],
      "text/plain": [
       "   Identifier             Edition Statement      Place of Publication  \\\n",
       "0         206                           NaN                    London   \n",
       "1         216                           NaN  London; Virtue & Yorston   \n",
       "2         218                           NaN                    London   \n",
       "3         472                           NaN                    London   \n",
       "4         480  A new edition, revised, etc.                    London   \n",
       "\n",
       "  Date of Publication              Publisher  \\\n",
       "0         1879 [1878]       S. Tinsley & Co.   \n",
       "1                1868           Virtue & Co.   \n",
       "2                1869  Bradbury, Evans & Co.   \n",
       "3                1851          James Darling   \n",
       "4                1857   Wertheim & Macintosh   \n",
       "\n",
       "                                               Title     Author  \\\n",
       "0                  Walter Forbes. [A novel.] By A. A      A. A.   \n",
       "1  All for Greed. [A novel. The dedication signed...  A., A. A.   \n",
       "2  Love the Avenger. By the author of “All for Gr...  A., A. A.   \n",
       "3  Welsh Sketches, chiefly ecclesiastical, to the...  A., E. S.   \n",
       "4  [The World in which I live, and my place in it...  A., E. S.   \n",
       "\n",
       "                                   Contributors  Corporate Author  \\\n",
       "0                               FORBES, Walter.               NaN   \n",
       "1  BLAZE DE BURY, Marie Pauline Rose - Baroness               NaN   \n",
       "2  BLAZE DE BURY, Marie Pauline Rose - Baroness               NaN   \n",
       "3                   Appleyard, Ernest Silvanus.               NaN   \n",
       "4                           BROOME, John Henry.               NaN   \n",
       "\n",
       "   Corporate Contributors Former owner  Engraver Issuance type  \\\n",
       "0                     NaN          NaN       NaN   monographic   \n",
       "1                     NaN          NaN       NaN   monographic   \n",
       "2                     NaN          NaN       NaN   monographic   \n",
       "3                     NaN          NaN       NaN   monographic   \n",
       "4                     NaN          NaN       NaN   monographic   \n",
       "\n",
       "                                          Flickr URL  \\\n",
       "0  http://www.flickr.com/photos/britishlibrary/ta...   \n",
       "1  http://www.flickr.com/photos/britishlibrary/ta...   \n",
       "2  http://www.flickr.com/photos/britishlibrary/ta...   \n",
       "3  http://www.flickr.com/photos/britishlibrary/ta...   \n",
       "4  http://www.flickr.com/photos/britishlibrary/ta...   \n",
       "\n",
       "                            Shelfmarks  \n",
       "0    British Library HMNTS 12641.b.30.  \n",
       "1    British Library HMNTS 12626.cc.2.  \n",
       "2    British Library HMNTS 12625.dd.1.  \n",
       "3  British Library HMNTS 10369.bbb.15.  \n",
       "4     British Library HMNTS 9007.d.28.  "
      ]
     },
     "execution_count": 9,
     "metadata": {},
     "output_type": "execute_result"
    }
   ],
   "source": [
    "df = pd.read_csv('BL-Flickr-Images-Book.csv')\n",
    "df.head()"
   ]
  },
  {
   "cell_type": "markdown",
   "id": "ab947034-8392-4f38-95c4-dbd51c1752ab",
   "metadata": {},
   "source": [
    "When we look at the first five entries using the head() method, we can see that a handful of columns provide ancillary information that would be helpful to the library but isn’t very descriptive of the books themselves: Edition Statement, Corporate Author, Corporate Contributors, Former owner, Engraver, Issuance type and Shelfmarks."
   ]
  },
  {
   "cell_type": "markdown",
   "id": "bfdf73b9-a31a-4f35-9236-37862ef58f44",
   "metadata": {},
   "source": [
    "We can drop these columns in the following way:"
   ]
  },
  {
   "cell_type": "code",
   "execution_count": 10,
   "id": "f607b032-5abf-4922-94b5-8936d24ee023",
   "metadata": {},
   "outputs": [],
   "source": [
    "to_drop = ['Edition Statement',\n",
    "            'Corporate Author',\n",
    "            'Corporate Contributors',\n",
    "            'Former owner',\n",
    "            'Engraver',\n",
    "            'Contributors',\n",
    "            'Issuance type',\n",
    "            'Shelfmarks']\n",
    "df.drop(to_drop, inplace=True, axis=1)"
   ]
  },
  {
   "cell_type": "markdown",
   "id": "0d9f58a1-f67e-4a36-a7d7-79dd68efdb01",
   "metadata": {},
   "source": [
    "Above, we defined a list that contains the names of all the columns we want to drop. Next, we call the drop() function on our object, passing in the inplace parameter as True and the axis parameter as 1. This tells Pandas that we want the changes to be made directly in our object and that it should look for the values to be dropped in the columns of the object."
   ]
  },
  {
   "cell_type": "markdown",
   "id": "49c9cb34-6cb2-43a2-a5cb-0b5b47d235c9",
   "metadata": {},
   "source": [
    "When we inspect the DataFrame again, we’ll see that the unwanted columns have been removed:"
   ]
  },
  {
   "cell_type": "code",
   "execution_count": 11,
   "id": "730822ee-e668-49cb-a1ad-b58f75095cb3",
   "metadata": {},
   "outputs": [
    {
     "data": {
      "text/html": [
       "<div>\n",
       "<style scoped>\n",
       "    .dataframe tbody tr th:only-of-type {\n",
       "        vertical-align: middle;\n",
       "    }\n",
       "\n",
       "    .dataframe tbody tr th {\n",
       "        vertical-align: top;\n",
       "    }\n",
       "\n",
       "    .dataframe thead th {\n",
       "        text-align: right;\n",
       "    }\n",
       "</style>\n",
       "<table border=\"1\" class=\"dataframe\">\n",
       "  <thead>\n",
       "    <tr style=\"text-align: right;\">\n",
       "      <th></th>\n",
       "      <th>Identifier</th>\n",
       "      <th>Place of Publication</th>\n",
       "      <th>Date of Publication</th>\n",
       "      <th>Publisher</th>\n",
       "      <th>Title</th>\n",
       "      <th>Author</th>\n",
       "      <th>Flickr URL</th>\n",
       "    </tr>\n",
       "  </thead>\n",
       "  <tbody>\n",
       "    <tr>\n",
       "      <th>0</th>\n",
       "      <td>206</td>\n",
       "      <td>London</td>\n",
       "      <td>1879 [1878]</td>\n",
       "      <td>S. Tinsley &amp; Co.</td>\n",
       "      <td>Walter Forbes. [A novel.] By A. A</td>\n",
       "      <td>A. A.</td>\n",
       "      <td>http://www.flickr.com/photos/britishlibrary/ta...</td>\n",
       "    </tr>\n",
       "    <tr>\n",
       "      <th>1</th>\n",
       "      <td>216</td>\n",
       "      <td>London; Virtue &amp; Yorston</td>\n",
       "      <td>1868</td>\n",
       "      <td>Virtue &amp; Co.</td>\n",
       "      <td>All for Greed. [A novel. The dedication signed...</td>\n",
       "      <td>A., A. A.</td>\n",
       "      <td>http://www.flickr.com/photos/britishlibrary/ta...</td>\n",
       "    </tr>\n",
       "    <tr>\n",
       "      <th>2</th>\n",
       "      <td>218</td>\n",
       "      <td>London</td>\n",
       "      <td>1869</td>\n",
       "      <td>Bradbury, Evans &amp; Co.</td>\n",
       "      <td>Love the Avenger. By the author of “All for Gr...</td>\n",
       "      <td>A., A. A.</td>\n",
       "      <td>http://www.flickr.com/photos/britishlibrary/ta...</td>\n",
       "    </tr>\n",
       "    <tr>\n",
       "      <th>3</th>\n",
       "      <td>472</td>\n",
       "      <td>London</td>\n",
       "      <td>1851</td>\n",
       "      <td>James Darling</td>\n",
       "      <td>Welsh Sketches, chiefly ecclesiastical, to the...</td>\n",
       "      <td>A., E. S.</td>\n",
       "      <td>http://www.flickr.com/photos/britishlibrary/ta...</td>\n",
       "    </tr>\n",
       "    <tr>\n",
       "      <th>4</th>\n",
       "      <td>480</td>\n",
       "      <td>London</td>\n",
       "      <td>1857</td>\n",
       "      <td>Wertheim &amp; Macintosh</td>\n",
       "      <td>[The World in which I live, and my place in it...</td>\n",
       "      <td>A., E. S.</td>\n",
       "      <td>http://www.flickr.com/photos/britishlibrary/ta...</td>\n",
       "    </tr>\n",
       "  </tbody>\n",
       "</table>\n",
       "</div>"
      ],
      "text/plain": [
       "   Identifier      Place of Publication Date of Publication  \\\n",
       "0         206                    London         1879 [1878]   \n",
       "1         216  London; Virtue & Yorston                1868   \n",
       "2         218                    London                1869   \n",
       "3         472                    London                1851   \n",
       "4         480                    London                1857   \n",
       "\n",
       "               Publisher                                              Title  \\\n",
       "0       S. Tinsley & Co.                  Walter Forbes. [A novel.] By A. A   \n",
       "1           Virtue & Co.  All for Greed. [A novel. The dedication signed...   \n",
       "2  Bradbury, Evans & Co.  Love the Avenger. By the author of “All for Gr...   \n",
       "3          James Darling  Welsh Sketches, chiefly ecclesiastical, to the...   \n",
       "4   Wertheim & Macintosh  [The World in which I live, and my place in it...   \n",
       "\n",
       "      Author                                         Flickr URL  \n",
       "0      A. A.  http://www.flickr.com/photos/britishlibrary/ta...  \n",
       "1  A., A. A.  http://www.flickr.com/photos/britishlibrary/ta...  \n",
       "2  A., A. A.  http://www.flickr.com/photos/britishlibrary/ta...  \n",
       "3  A., E. S.  http://www.flickr.com/photos/britishlibrary/ta...  \n",
       "4  A., E. S.  http://www.flickr.com/photos/britishlibrary/ta...  "
      ]
     },
     "execution_count": 11,
     "metadata": {},
     "output_type": "execute_result"
    }
   ],
   "source": [
    "df.head()"
   ]
  },
  {
   "cell_type": "markdown",
   "id": "ec415a47-9d42-48b0-891b-e2073dcdbf37",
   "metadata": {},
   "source": [
    "Alternatively, we could also remove the columns by passing them to the columns parameter directly instead of separately specifying the labels to be removed and the axis where Pandas should look for the labels:"
   ]
  },
  {
   "cell_type": "code",
   "execution_count": 12,
   "id": "4fdb98c6-68d5-4d72-9f88-4b360fbb4725",
   "metadata": {},
   "outputs": [],
   "source": [
    "df = pd.read_csv('BL-Flickr-Images-Book.csv')\n",
    "df.drop(columns=to_drop, inplace=True)"
   ]
  },
  {
   "cell_type": "markdown",
   "id": "ac9102fd-7036-4d5b-99c1-9d5195c52c5b",
   "metadata": {},
   "source": [
    "This syntax is more intuitive and readable. What we’re trying to do here is directly apparent.\n",
    "\n",
    ">If you know in advance which columns you’d like to retain, another option is to pass them to the usecols argument of `pd.read_csv`."
   ]
  },
  {
   "cell_type": "markdown",
   "id": "49d95b19-15fd-45a0-abda-27bbb0e95b5e",
   "metadata": {},
   "source": [
    "## Changing the Index of a DataFrame\n",
    "\n",
    "A Pandas Index extends the functionality of NumPy arrays to allow for more versatile slicing and labeling. In many cases, it is helpful to use a uniquely valued identifying field of the data as its index."
   ]
  },
  {
   "cell_type": "markdown",
   "id": "65c9e475-36d1-4f50-8965-9cc01114cfc8",
   "metadata": {},
   "source": [
    "For example, in the dataset used in the previous section, it can be expected that when a librarian searches for a record, they may input the unique identifier (values in the Identifier column) for a book:"
   ]
  },
  {
   "cell_type": "code",
   "execution_count": 14,
   "id": "c77ddfb7-1b32-494c-8648-cb1fe12640df",
   "metadata": {},
   "outputs": [
    {
     "data": {
      "text/plain": [
       "True"
      ]
     },
     "execution_count": 14,
     "metadata": {},
     "output_type": "execute_result"
    }
   ],
   "source": [
    "df['Identifier'].is_unique"
   ]
  },
  {
   "cell_type": "markdown",
   "id": "f0584dfc-3526-4567-b672-c6be5f3acf5d",
   "metadata": {},
   "source": [
    "Let’s replace the existing index with this column using set_index:"
   ]
  },
  {
   "cell_type": "code",
   "execution_count": 15,
   "id": "8d53fab7-167f-4060-8d0a-ce3cd4052b9e",
   "metadata": {},
   "outputs": [
    {
     "data": {
      "text/html": [
       "<div>\n",
       "<style scoped>\n",
       "    .dataframe tbody tr th:only-of-type {\n",
       "        vertical-align: middle;\n",
       "    }\n",
       "\n",
       "    .dataframe tbody tr th {\n",
       "        vertical-align: top;\n",
       "    }\n",
       "\n",
       "    .dataframe thead th {\n",
       "        text-align: right;\n",
       "    }\n",
       "</style>\n",
       "<table border=\"1\" class=\"dataframe\">\n",
       "  <thead>\n",
       "    <tr style=\"text-align: right;\">\n",
       "      <th></th>\n",
       "      <th>Place of Publication</th>\n",
       "      <th>Date of Publication</th>\n",
       "      <th>Publisher</th>\n",
       "      <th>Title</th>\n",
       "      <th>Author</th>\n",
       "      <th>Flickr URL</th>\n",
       "    </tr>\n",
       "    <tr>\n",
       "      <th>Identifier</th>\n",
       "      <th></th>\n",
       "      <th></th>\n",
       "      <th></th>\n",
       "      <th></th>\n",
       "      <th></th>\n",
       "      <th></th>\n",
       "    </tr>\n",
       "  </thead>\n",
       "  <tbody>\n",
       "    <tr>\n",
       "      <th>206</th>\n",
       "      <td>London</td>\n",
       "      <td>1879 [1878]</td>\n",
       "      <td>S. Tinsley &amp; Co.</td>\n",
       "      <td>Walter Forbes. [A novel.] By A. A</td>\n",
       "      <td>A. A.</td>\n",
       "      <td>http://www.flickr.com/photos/britishlibrary/ta...</td>\n",
       "    </tr>\n",
       "    <tr>\n",
       "      <th>216</th>\n",
       "      <td>London; Virtue &amp; Yorston</td>\n",
       "      <td>1868</td>\n",
       "      <td>Virtue &amp; Co.</td>\n",
       "      <td>All for Greed. [A novel. The dedication signed...</td>\n",
       "      <td>A., A. A.</td>\n",
       "      <td>http://www.flickr.com/photos/britishlibrary/ta...</td>\n",
       "    </tr>\n",
       "    <tr>\n",
       "      <th>218</th>\n",
       "      <td>London</td>\n",
       "      <td>1869</td>\n",
       "      <td>Bradbury, Evans &amp; Co.</td>\n",
       "      <td>Love the Avenger. By the author of “All for Gr...</td>\n",
       "      <td>A., A. A.</td>\n",
       "      <td>http://www.flickr.com/photos/britishlibrary/ta...</td>\n",
       "    </tr>\n",
       "    <tr>\n",
       "      <th>472</th>\n",
       "      <td>London</td>\n",
       "      <td>1851</td>\n",
       "      <td>James Darling</td>\n",
       "      <td>Welsh Sketches, chiefly ecclesiastical, to the...</td>\n",
       "      <td>A., E. S.</td>\n",
       "      <td>http://www.flickr.com/photos/britishlibrary/ta...</td>\n",
       "    </tr>\n",
       "    <tr>\n",
       "      <th>480</th>\n",
       "      <td>London</td>\n",
       "      <td>1857</td>\n",
       "      <td>Wertheim &amp; Macintosh</td>\n",
       "      <td>[The World in which I live, and my place in it...</td>\n",
       "      <td>A., E. S.</td>\n",
       "      <td>http://www.flickr.com/photos/britishlibrary/ta...</td>\n",
       "    </tr>\n",
       "  </tbody>\n",
       "</table>\n",
       "</div>"
      ],
      "text/plain": [
       "                Place of Publication Date of Publication  \\\n",
       "Identifier                                                 \n",
       "206                           London         1879 [1878]   \n",
       "216         London; Virtue & Yorston                1868   \n",
       "218                           London                1869   \n",
       "472                           London                1851   \n",
       "480                           London                1857   \n",
       "\n",
       "                        Publisher  \\\n",
       "Identifier                          \n",
       "206              S. Tinsley & Co.   \n",
       "216                  Virtue & Co.   \n",
       "218         Bradbury, Evans & Co.   \n",
       "472                 James Darling   \n",
       "480          Wertheim & Macintosh   \n",
       "\n",
       "                                                        Title     Author  \\\n",
       "Identifier                                                                 \n",
       "206                         Walter Forbes. [A novel.] By A. A      A. A.   \n",
       "216         All for Greed. [A novel. The dedication signed...  A., A. A.   \n",
       "218         Love the Avenger. By the author of “All for Gr...  A., A. A.   \n",
       "472         Welsh Sketches, chiefly ecclesiastical, to the...  A., E. S.   \n",
       "480         [The World in which I live, and my place in it...  A., E. S.   \n",
       "\n",
       "                                                   Flickr URL  \n",
       "Identifier                                                     \n",
       "206         http://www.flickr.com/photos/britishlibrary/ta...  \n",
       "216         http://www.flickr.com/photos/britishlibrary/ta...  \n",
       "218         http://www.flickr.com/photos/britishlibrary/ta...  \n",
       "472         http://www.flickr.com/photos/britishlibrary/ta...  \n",
       "480         http://www.flickr.com/photos/britishlibrary/ta...  "
      ]
     },
     "execution_count": 15,
     "metadata": {},
     "output_type": "execute_result"
    }
   ],
   "source": [
    "df = df.set_index('Identifier')\n",
    "df.head()"
   ]
  },
  {
   "cell_type": "markdown",
   "id": "bc341739-ab2b-44ba-a097-5c5daac25aa0",
   "metadata": {},
   "source": [
    ">Technical Detail: Unlike primary keys in SQL, a Pandas Index doesn’t make any guarantee of being unique, although many indexing and merging operations will notice a speedup in runtime if it is."
   ]
  },
  {
   "cell_type": "markdown",
   "id": "dc9eeffc-78a9-4af1-a6f5-2e719bb7dc19",
   "metadata": {},
   "source": [
    "We can access each record in a straightforward way with `loc[]`. Although `loc[]` may not have all that intuitive of a name, it allows us to do label-based indexing, which is the labeling of a row or record without regard to its position:"
   ]
  },
  {
   "cell_type": "code",
   "execution_count": 16,
   "id": "5913449b-c028-4259-a9f3-2f64977efdd1",
   "metadata": {},
   "outputs": [
    {
     "data": {
      "text/plain": [
       "Place of Publication                                               London\n",
       "Date of Publication                                           1879 [1878]\n",
       "Publisher                                                S. Tinsley & Co.\n",
       "Title                                   Walter Forbes. [A novel.] By A. A\n",
       "Author                                                              A. A.\n",
       "Flickr URL              http://www.flickr.com/photos/britishlibrary/ta...\n",
       "Name: 206, dtype: object"
      ]
     },
     "execution_count": 16,
     "metadata": {},
     "output_type": "execute_result"
    }
   ],
   "source": [
    "df.loc[206]"
   ]
  },
  {
   "cell_type": "markdown",
   "id": "005d5135-9bce-417b-ae77-00d99720a926",
   "metadata": {},
   "source": [
    "In other words, 206 is the first label of the index. To access it by position, we could use `df.iloc[0]`, which does position-based indexing.\n",
    "\n",
    ">Technical Detail: `.loc[]` is technically a class instance and has some special [syntax](https://pandas.pydata.org/pandas-docs/stable/indexing.html#selection-by-label) that doesn’t conform exactly to most plain-vanilla Python instance methods."
   ]
  },
  {
   "cell_type": "markdown",
   "id": "1d7927ca-8a11-47d1-b1a6-b752630aa9ee",
   "metadata": {},
   "source": [
    "Previously, our index was a RangeIndex: integers starting from 0, analogous to Python’s built-in range. By passing a column name to `set_index`, we have changed the index to the values in `Identifier`."
   ]
  },
  {
   "cell_type": "markdown",
   "id": "b0273a92-d320-453e-96fc-c94ee961f0a9",
   "metadata": {},
   "source": [
    "You may have noticed that we reassigned the variable to the object returned by the method with `df = df.set_index(...)`. This is because, by default, the method returns a modified copy of our object and does not make the changes directly to the object. We can avoid this by setting the inplace parameter:"
   ]
  },
  {
   "cell_type": "code",
   "execution_count": 18,
   "id": "05b01e02-3fad-4131-8a03-2982c6f75a3b",
   "metadata": {},
   "outputs": [
    {
     "data": {
      "text/html": [
       "<div>\n",
       "<style scoped>\n",
       "    .dataframe tbody tr th:only-of-type {\n",
       "        vertical-align: middle;\n",
       "    }\n",
       "\n",
       "    .dataframe tbody tr th {\n",
       "        vertical-align: top;\n",
       "    }\n",
       "\n",
       "    .dataframe thead th {\n",
       "        text-align: right;\n",
       "    }\n",
       "</style>\n",
       "<table border=\"1\" class=\"dataframe\">\n",
       "  <thead>\n",
       "    <tr style=\"text-align: right;\">\n",
       "      <th></th>\n",
       "      <th>Edition Statement</th>\n",
       "      <th>Place of Publication</th>\n",
       "      <th>Date of Publication</th>\n",
       "      <th>Publisher</th>\n",
       "      <th>Title</th>\n",
       "      <th>Author</th>\n",
       "      <th>Contributors</th>\n",
       "      <th>Corporate Author</th>\n",
       "      <th>Corporate Contributors</th>\n",
       "      <th>Former owner</th>\n",
       "      <th>Engraver</th>\n",
       "      <th>Issuance type</th>\n",
       "      <th>Flickr URL</th>\n",
       "      <th>Shelfmarks</th>\n",
       "    </tr>\n",
       "    <tr>\n",
       "      <th>Identifier</th>\n",
       "      <th></th>\n",
       "      <th></th>\n",
       "      <th></th>\n",
       "      <th></th>\n",
       "      <th></th>\n",
       "      <th></th>\n",
       "      <th></th>\n",
       "      <th></th>\n",
       "      <th></th>\n",
       "      <th></th>\n",
       "      <th></th>\n",
       "      <th></th>\n",
       "      <th></th>\n",
       "      <th></th>\n",
       "    </tr>\n",
       "  </thead>\n",
       "  <tbody>\n",
       "    <tr>\n",
       "      <th>206</th>\n",
       "      <td>NaN</td>\n",
       "      <td>London</td>\n",
       "      <td>1879 [1878]</td>\n",
       "      <td>S. Tinsley &amp; Co.</td>\n",
       "      <td>Walter Forbes. [A novel.] By A. A</td>\n",
       "      <td>A. A.</td>\n",
       "      <td>FORBES, Walter.</td>\n",
       "      <td>NaN</td>\n",
       "      <td>NaN</td>\n",
       "      <td>NaN</td>\n",
       "      <td>NaN</td>\n",
       "      <td>monographic</td>\n",
       "      <td>http://www.flickr.com/photos/britishlibrary/ta...</td>\n",
       "      <td>British Library HMNTS 12641.b.30.</td>\n",
       "    </tr>\n",
       "    <tr>\n",
       "      <th>216</th>\n",
       "      <td>NaN</td>\n",
       "      <td>London; Virtue &amp; Yorston</td>\n",
       "      <td>1868</td>\n",
       "      <td>Virtue &amp; Co.</td>\n",
       "      <td>All for Greed. [A novel. The dedication signed...</td>\n",
       "      <td>A., A. A.</td>\n",
       "      <td>BLAZE DE BURY, Marie Pauline Rose - Baroness</td>\n",
       "      <td>NaN</td>\n",
       "      <td>NaN</td>\n",
       "      <td>NaN</td>\n",
       "      <td>NaN</td>\n",
       "      <td>monographic</td>\n",
       "      <td>http://www.flickr.com/photos/britishlibrary/ta...</td>\n",
       "      <td>British Library HMNTS 12626.cc.2.</td>\n",
       "    </tr>\n",
       "    <tr>\n",
       "      <th>218</th>\n",
       "      <td>NaN</td>\n",
       "      <td>London</td>\n",
       "      <td>1869</td>\n",
       "      <td>Bradbury, Evans &amp; Co.</td>\n",
       "      <td>Love the Avenger. By the author of “All for Gr...</td>\n",
       "      <td>A., A. A.</td>\n",
       "      <td>BLAZE DE BURY, Marie Pauline Rose - Baroness</td>\n",
       "      <td>NaN</td>\n",
       "      <td>NaN</td>\n",
       "      <td>NaN</td>\n",
       "      <td>NaN</td>\n",
       "      <td>monographic</td>\n",
       "      <td>http://www.flickr.com/photos/britishlibrary/ta...</td>\n",
       "      <td>British Library HMNTS 12625.dd.1.</td>\n",
       "    </tr>\n",
       "    <tr>\n",
       "      <th>472</th>\n",
       "      <td>NaN</td>\n",
       "      <td>London</td>\n",
       "      <td>1851</td>\n",
       "      <td>James Darling</td>\n",
       "      <td>Welsh Sketches, chiefly ecclesiastical, to the...</td>\n",
       "      <td>A., E. S.</td>\n",
       "      <td>Appleyard, Ernest Silvanus.</td>\n",
       "      <td>NaN</td>\n",
       "      <td>NaN</td>\n",
       "      <td>NaN</td>\n",
       "      <td>NaN</td>\n",
       "      <td>monographic</td>\n",
       "      <td>http://www.flickr.com/photos/britishlibrary/ta...</td>\n",
       "      <td>British Library HMNTS 10369.bbb.15.</td>\n",
       "    </tr>\n",
       "    <tr>\n",
       "      <th>480</th>\n",
       "      <td>A new edition, revised, etc.</td>\n",
       "      <td>London</td>\n",
       "      <td>1857</td>\n",
       "      <td>Wertheim &amp; Macintosh</td>\n",
       "      <td>[The World in which I live, and my place in it...</td>\n",
       "      <td>A., E. S.</td>\n",
       "      <td>BROOME, John Henry.</td>\n",
       "      <td>NaN</td>\n",
       "      <td>NaN</td>\n",
       "      <td>NaN</td>\n",
       "      <td>NaN</td>\n",
       "      <td>monographic</td>\n",
       "      <td>http://www.flickr.com/photos/britishlibrary/ta...</td>\n",
       "      <td>British Library HMNTS 9007.d.28.</td>\n",
       "    </tr>\n",
       "  </tbody>\n",
       "</table>\n",
       "</div>"
      ],
      "text/plain": [
       "                       Edition Statement      Place of Publication  \\\n",
       "Identifier                                                           \n",
       "206                                  NaN                    London   \n",
       "216                                  NaN  London; Virtue & Yorston   \n",
       "218                                  NaN                    London   \n",
       "472                                  NaN                    London   \n",
       "480         A new edition, revised, etc.                    London   \n",
       "\n",
       "           Date of Publication              Publisher  \\\n",
       "Identifier                                              \n",
       "206                1879 [1878]       S. Tinsley & Co.   \n",
       "216                       1868           Virtue & Co.   \n",
       "218                       1869  Bradbury, Evans & Co.   \n",
       "472                       1851          James Darling   \n",
       "480                       1857   Wertheim & Macintosh   \n",
       "\n",
       "                                                        Title     Author  \\\n",
       "Identifier                                                                 \n",
       "206                         Walter Forbes. [A novel.] By A. A      A. A.   \n",
       "216         All for Greed. [A novel. The dedication signed...  A., A. A.   \n",
       "218         Love the Avenger. By the author of “All for Gr...  A., A. A.   \n",
       "472         Welsh Sketches, chiefly ecclesiastical, to the...  A., E. S.   \n",
       "480         [The World in which I live, and my place in it...  A., E. S.   \n",
       "\n",
       "                                            Contributors  Corporate Author  \\\n",
       "Identifier                                                                   \n",
       "206                                      FORBES, Walter.               NaN   \n",
       "216         BLAZE DE BURY, Marie Pauline Rose - Baroness               NaN   \n",
       "218         BLAZE DE BURY, Marie Pauline Rose - Baroness               NaN   \n",
       "472                          Appleyard, Ernest Silvanus.               NaN   \n",
       "480                                  BROOME, John Henry.               NaN   \n",
       "\n",
       "            Corporate Contributors Former owner  Engraver Issuance type  \\\n",
       "Identifier                                                                \n",
       "206                            NaN          NaN       NaN   monographic   \n",
       "216                            NaN          NaN       NaN   monographic   \n",
       "218                            NaN          NaN       NaN   monographic   \n",
       "472                            NaN          NaN       NaN   monographic   \n",
       "480                            NaN          NaN       NaN   monographic   \n",
       "\n",
       "                                                   Flickr URL  \\\n",
       "Identifier                                                      \n",
       "206         http://www.flickr.com/photos/britishlibrary/ta...   \n",
       "216         http://www.flickr.com/photos/britishlibrary/ta...   \n",
       "218         http://www.flickr.com/photos/britishlibrary/ta...   \n",
       "472         http://www.flickr.com/photos/britishlibrary/ta...   \n",
       "480         http://www.flickr.com/photos/britishlibrary/ta...   \n",
       "\n",
       "                                     Shelfmarks  \n",
       "Identifier                                       \n",
       "206           British Library HMNTS 12641.b.30.  \n",
       "216           British Library HMNTS 12626.cc.2.  \n",
       "218           British Library HMNTS 12625.dd.1.  \n",
       "472         British Library HMNTS 10369.bbb.15.  \n",
       "480            British Library HMNTS 9007.d.28.  "
      ]
     },
     "execution_count": 18,
     "metadata": {},
     "output_type": "execute_result"
    }
   ],
   "source": [
    "df = pd.read_csv('BL-Flickr-Images-Book.csv')\n",
    "df.set_index('Identifier', inplace=True)\n",
    "df.head()"
   ]
  },
  {
   "cell_type": "markdown",
   "id": "a4c4289a-ad7a-4ad2-9716-0922e1ad5182",
   "metadata": {},
   "source": [
    "## Tidying up Fields in the Data\n",
    "\n",
    "So far, we have removed unnecessary columns and changed the index of our DataFrame to something more sensible. In this section, we will clean specific columns and get them to a uniform format to get a better understanding of the dataset and enforce consistency. In particular, we will be cleaning Date of Publication and Place of Publication."
   ]
  },
  {
   "cell_type": "markdown",
   "id": "b133efa0-2ba1-4f8d-b4b4-ed3466616fad",
   "metadata": {},
   "source": [
    "Upon inspection, all of the data types are currently the object dtype, which is roughly analogous to str in native Python."
   ]
  },
  {
   "cell_type": "markdown",
   "id": "27b6e870-6df4-4f6e-b6ab-f17383c772d1",
   "metadata": {},
   "source": [
    "It encapsulates any field that can’t be neatly fit as numerical or categorical data. This makes sense since we’re working with data that is initially a bunch of messy strings:"
   ]
  },
  {
   "cell_type": "code",
   "execution_count": 20,
   "id": "f5129541-8f34-416c-a272-cce30d4d0d35",
   "metadata": {},
   "outputs": [
    {
     "data": {
      "text/plain": [
       "object     11\n",
       "float64     3\n",
       "dtype: int64"
      ]
     },
     "execution_count": 20,
     "metadata": {},
     "output_type": "execute_result"
    }
   ],
   "source": [
    "df.dtypes.value_counts()"
   ]
  },
  {
   "cell_type": "markdown",
   "id": "69e13b87-281a-4870-a33e-41fc3ff53e66",
   "metadata": {},
   "source": [
    "One field where it makes sense to enforce a numeric value is the date of publication so that we can do calculations down the road:"
   ]
  },
  {
   "cell_type": "code",
   "execution_count": 21,
   "id": "94726ea5-ee03-4fec-a5c9-000bf6857dc9",
   "metadata": {},
   "outputs": [
    {
     "data": {
      "text/plain": [
       "Identifier\n",
       "1905           1888\n",
       "1929    1839, 38-54\n",
       "2836           1897\n",
       "2854           1865\n",
       "2956        1860-63\n",
       "2957           1873\n",
       "3017           1866\n",
       "3131           1899\n",
       "4598           1814\n",
       "4884           1820\n",
       "Name: Date of Publication, dtype: object"
      ]
     },
     "execution_count": 21,
     "metadata": {},
     "output_type": "execute_result"
    }
   ],
   "source": [
    "df.loc[1905:, 'Date of Publication'].head(10)"
   ]
  },
  {
   "cell_type": "markdown",
   "id": "b17b1f0c-7b8d-4e64-9968-972cecc6e0e3",
   "metadata": {},
   "source": [
    "A particular book can have only one date of publication. Therefore, we need to do the following:\n",
    "\n",
    "* Remove the extra dates in square brackets, wherever present: 1879 [1878]\n",
    "* Convert date ranges to their “start date”, wherever present: 1860-63; 1839, 38-54\n",
    "* Completely remove the dates we are not certain about and replace them with NumPy’s NaN: [1897?]\n",
    "* Convert the string nan to NumPy’s NaN value"
   ]
  },
  {
   "cell_type": "markdown",
   "id": "4096e07a-6ba9-45e1-ba5d-488a64fd4445",
   "metadata": {},
   "source": [
    "Synthesizing these patterns, we can actually take advantage of a single regular expression to extract the publication year:"
   ]
  },
  {
   "cell_type": "code",
   "execution_count": 23,
   "id": "7419f6ae-24f3-46dd-a255-09d681a62c35",
   "metadata": {},
   "outputs": [],
   "source": [
    "regex = r'^(\\d{4})'"
   ]
  },
  {
   "cell_type": "markdown",
   "id": "e51359e3-c045-4e10-8df6-d9cba9f2dcd9",
   "metadata": {},
   "source": [
    "The regular expression above is meant to find any four digits at the beginning of a string, which suffices for our case. The above is a raw string (meaning that a backslash is no longer an escape character), which is standard practice with regular expressions."
   ]
  },
  {
   "cell_type": "markdown",
   "id": "c593af58-38c3-48d0-b5f9-fc93baf6a9f1",
   "metadata": {},
   "source": [
    "The \\d represents any digit, and {4} repeats this rule four times. The ^ character matches the start of a string, and the parentheses denote a capturing group, which signals to Pandas that we want to extract that part of the regex. (We want ^ to avoid cases where [ starts off the string.)"
   ]
  },
  {
   "cell_type": "markdown",
   "id": "a3da4f98-fc9a-4fd0-b66f-7a4eccf10a09",
   "metadata": {},
   "source": [
    "Let’s see what happens when we run this regex across our dataset:"
   ]
  },
  {
   "cell_type": "code",
   "execution_count": 27,
   "id": "a28f3b91-625e-4700-b588-c77f3e368f9a",
   "metadata": {},
   "outputs": [
    {
     "name": "stdout",
     "output_type": "stream",
     "text": [
      "<class 'pandas.core.series.Series'>\n"
     ]
    },
    {
     "data": {
      "text/plain": [
       "Identifier\n",
       "206    1879\n",
       "216    1868\n",
       "218    1869\n",
       "472    1851\n",
       "480    1857\n",
       "Name: Date of Publication, dtype: object"
      ]
     },
     "execution_count": 27,
     "metadata": {},
     "output_type": "execute_result"
    }
   ],
   "source": [
    "extr = df['Date of Publication'].str.extract(r'^(\\d{4})', expand=False)\n",
    "print(type(extr))\n",
    "extr.head()"
   ]
  },
  {
   "cell_type": "markdown",
   "id": "28ba9a27-e2a2-4d33-a32d-c5663b09938b",
   "metadata": {},
   "source": [
    "> Further Reading: Not familiar with regex? You can [inspect the expression above](https://regex101.com/r/3AJ1Pv/1) at regex101.com and learn all about regular expressions with Regular Expressions: [Regexes in Python](https://realpython.com/regex-python/)."
   ]
  },
  {
   "cell_type": "markdown",
   "id": "5cd2d93f-057b-423a-a558-3e6b396dc874",
   "metadata": {},
   "source": [
    "Technically, this column still has object dtype, but we can easily get its numerical version with `pd.to_numeric`:"
   ]
  },
  {
   "cell_type": "code",
   "execution_count": 28,
   "id": "5e6bd60f-30c2-4b62-89c8-3494088c4118",
   "metadata": {},
   "outputs": [
    {
     "data": {
      "text/plain": [
       "dtype('float64')"
      ]
     },
     "execution_count": 28,
     "metadata": {},
     "output_type": "execute_result"
    }
   ],
   "source": [
    "df['Date of Publication'] = pd.to_numeric(extr)\n",
    "df['Date of Publication'].dtype"
   ]
  },
  {
   "cell_type": "markdown",
   "id": "461801cf-5d9c-4c37-abb1-a440ff326787",
   "metadata": {},
   "source": [
    "This results in about one in every ten values being missing, which is a small price to pay for now being able to do computations on the remaining valid values:"
   ]
  },
  {
   "cell_type": "code",
   "execution_count": 29,
   "id": "3b77541d-bdd6-4fe0-a621-3f43cf716c2f",
   "metadata": {},
   "outputs": [
    {
     "data": {
      "text/plain": [
       "0.11717147339205986"
      ]
     },
     "execution_count": 29,
     "metadata": {},
     "output_type": "execute_result"
    }
   ],
   "source": [
    "df['Date of Publication'].isnull().sum() / len(df)"
   ]
  },
  {
   "cell_type": "markdown",
   "id": "dae16972-5686-4d5d-8cb2-7a79a548cd09",
   "metadata": {},
   "source": [
    "## Combining str Methods with NumPy to Clean Columns\n",
    "\n",
    "Above, you may have noticed the use of `df['Date of Publication'].str`. This attribute is a way to access speedy string operations in Pandas that largely mimic operations on native Python strings or compiled regular expressions, such as `.split()`, `.replace()`, and `.capitalize()`."
   ]
  },
  {
   "cell_type": "markdown",
   "id": "8294b02d-8062-4f33-b09a-d98d01e38e42",
   "metadata": {},
   "source": [
    "To clean the Place of Publication field, we can combine Pandas str methods with NumPy’s np.where function, which is basically a vectorized form of Excel’s IF() macro. It has the following syntax:\n",
    "\n",
    "```python\n",
    "np.where(condition, then, else)\n",
    "```"
   ]
  },
  {
   "cell_type": "markdown",
   "id": "cfe85647-e40b-451b-ad6b-43d0d85811de",
   "metadata": {},
   "source": [
    "Here, condition is either an array-like object or a Boolean mask. then is the value to be used if condition evaluates to True, and else is the value to be used otherwise."
   ]
  },
  {
   "cell_type": "markdown",
   "id": "e72e7d2e-29ce-4201-81ab-989d2d95fc53",
   "metadata": {},
   "source": [
    "Essentially, `.where()` takes each element in the object used for condition, checks whether that particular element evaluates to True in the context of the condition, and returns an ndarray containing then or else, depending on which applies."
   ]
  },
  {
   "cell_type": "markdown",
   "id": "ab109e17-86a1-4dc2-9de8-910ab30d1f1e",
   "metadata": {},
   "source": [
    "It can be nested into a compound if-then statement, allowing us to compute values based on multiple conditions:\n",
    "\n",
    "```python\n",
    "np.where(condition1, x1, \n",
    "    np.where(condition2, x2, \n",
    "        np.where(condition3, x3, ...)))\n",
    "```"
   ]
  },
  {
   "cell_type": "markdown",
   "id": "681cea43-9ba2-4b11-9703-741781edc358",
   "metadata": {},
   "source": [
    "We’ll be making use of these two functions to clean Place of Publication since this column has string objects. Here are the contents of the column:"
   ]
  },
  {
   "cell_type": "code",
   "execution_count": 30,
   "id": "e6a96b68-861e-4cd6-8961-b8923ea6e6d6",
   "metadata": {},
   "outputs": [
    {
     "data": {
      "text/plain": [
       "Identifier\n",
       "206                                  London\n",
       "216                London; Virtue & Yorston\n",
       "218                                  London\n",
       "472                                  London\n",
       "480                                  London\n",
       "481                                  London\n",
       "519                                  London\n",
       "667     pp. 40. G. Bryan & Co: Oxford, 1898\n",
       "874                                 London]\n",
       "1143                                 London\n",
       "Name: Place of Publication, dtype: object"
      ]
     },
     "execution_count": 30,
     "metadata": {},
     "output_type": "execute_result"
    }
   ],
   "source": [
    "df['Place of Publication'].head(10)"
   ]
  },
  {
   "cell_type": "markdown",
   "id": "c1af2d34-7c94-4ac7-a486-076ccfbf7a84",
   "metadata": {},
   "source": [
    "We see that for some rows, the place of publication is surrounded by other unnecessary information. If we were to look at more values, we would see that this is the case for only some rows that have their place of publication as ‘London’ or ‘Oxford’."
   ]
  },
  {
   "cell_type": "markdown",
   "id": "1d0c6531-5c2a-4885-96f4-fbac9e1ac36e",
   "metadata": {},
   "source": [
    "Let’s take a look at two specific entries:"
   ]
  },
  {
   "cell_type": "code",
   "execution_count": 33,
   "id": "9588ff9d-1c08-48e3-b634-0964590a6964",
   "metadata": {},
   "outputs": [
    {
     "data": {
      "text/plain": [
       "Edition Statement                                                       NaN\n",
       "Place of Publication                                    Newcastle-upon-Tyne\n",
       "Date of Publication                                                  1867.0\n",
       "Publisher                                                        T. Fordyce\n",
       "Title                     Local Records; or, Historical Register of rema...\n",
       "Author                        FORDYCE, T. - Printer, of Newcastle-upon-Tyne\n",
       "Contributors               SYKES, John - Bookseller, of Newcastle-upon-Tyne\n",
       "Corporate Author                                                        NaN\n",
       "Corporate Contributors                                                  NaN\n",
       "Former owner                                                            NaN\n",
       "Engraver                                                                NaN\n",
       "Issuance type                                                   monographic\n",
       "Flickr URL                http://www.flickr.com/photos/britishlibrary/ta...\n",
       "Shelfmarks                British Library HMNTS|British Library HMNTS 01...\n",
       "Name: 4157862, dtype: object"
      ]
     },
     "execution_count": 33,
     "metadata": {},
     "output_type": "execute_result"
    }
   ],
   "source": [
    "df.loc[4157862]"
   ]
  },
  {
   "cell_type": "code",
   "execution_count": 34,
   "id": "e7ff5d22-0b41-479a-8db9-7943b121c5ef",
   "metadata": {},
   "outputs": [
    {
     "data": {
      "text/plain": [
       "Edition Statement                                                       NaN\n",
       "Place of Publication                                    Newcastle upon Tyne\n",
       "Date of Publication                                                  1834.0\n",
       "Publisher                                                  Mackenzie & Dent\n",
       "Title                     An historical, topographical and descriptive v...\n",
       "Author                                                Mackenzie, E. (Eneas)\n",
       "Contributors                                           ROSS, M. - of Durham\n",
       "Corporate Author                                                        NaN\n",
       "Corporate Contributors                                                  NaN\n",
       "Former owner                                                            NaN\n",
       "Engraver                                                                NaN\n",
       "Issuance type                                                   monographic\n",
       "Flickr URL                http://www.flickr.com/photos/britishlibrary/ta...\n",
       "Shelfmarks                British Library HMNTS|British Library HMNTS 10...\n",
       "Name: 4159587, dtype: object"
      ]
     },
     "execution_count": 34,
     "metadata": {},
     "output_type": "execute_result"
    }
   ],
   "source": [
    "df.loc[4159587]"
   ]
  },
  {
   "cell_type": "markdown",
   "id": "1671cdf3-bd7d-4fae-bec2-e21d45ed71d2",
   "metadata": {},
   "source": [
    "To clean this column in one sweep, we can use `str.contains()` to get a Boolean mask.\n",
    "\n",
    "We clean the column as follows:"
   ]
  },
  {
   "cell_type": "code",
   "execution_count": 39,
   "id": "8771379a",
   "metadata": {},
   "outputs": [
    {
     "data": {
      "text/plain": [
       "Identifier\n",
       "206    True\n",
       "216    True\n",
       "218    True\n",
       "472    True\n",
       "480    True\n",
       "Name: Place of Publication, dtype: bool"
      ]
     },
     "execution_count": 39,
     "metadata": {},
     "output_type": "execute_result"
    }
   ],
   "source": [
    "pub = df['Place of Publication']\n",
    "london = pub.str.contains('London')\n",
    "london.head()"
   ]
  },
  {
   "cell_type": "code",
   "execution_count": 38,
   "id": "78c1eedd-25c3-4391-9413-ab9c6e77c366",
   "metadata": {},
   "outputs": [
    {
     "data": {
      "text/plain": [
       "Identifier\n",
       "206        False\n",
       "216        False\n",
       "218        False\n",
       "472        False\n",
       "480        False\n",
       "           ...  \n",
       "4158088    False\n",
       "4158128    False\n",
       "4159563    False\n",
       "4159587    False\n",
       "4160339    False\n",
       "Name: Place of Publication, Length: 8287, dtype: bool"
      ]
     },
     "execution_count": 38,
     "metadata": {},
     "output_type": "execute_result"
    }
   ],
   "source": [
    "oxford = pub.str.contains('Oxford')\n",
    "oxford"
   ]
  },
  {
   "cell_type": "markdown",
   "id": "aa4e9c61-f9c1-4694-9dad-4de24405a9d4",
   "metadata": {},
   "source": [
    "We combine them with `np.where`:"
   ]
  },
  {
   "cell_type": "code",
   "execution_count": 40,
   "id": "9fe2d9ec-0c4f-4183-9e6a-bf23e9118077",
   "metadata": {},
   "outputs": [],
   "source": [
    "df['Place of Publication'] = np.where(london, 'London',\n",
    "                                      np.where(oxford, 'Oxford',\n",
    "                                               pub.str.replace('-', ' ')))"
   ]
  },
  {
   "cell_type": "code",
   "execution_count": 43,
   "id": "3da7658e-5fea-418b-b9ba-7edf82809da3",
   "metadata": {},
   "outputs": [
    {
     "data": {
      "text/plain": [
       "Identifier\n",
       "206    London\n",
       "216    London\n",
       "218    London\n",
       "472    London\n",
       "480    London\n",
       "Name: Place of Publication, dtype: object"
      ]
     },
     "execution_count": 43,
     "metadata": {},
     "output_type": "execute_result"
    }
   ],
   "source": [
    "df['Place of Publication'].head()"
   ]
  },
  {
   "cell_type": "markdown",
   "id": "484b3611-a5f1-47c5-9a7a-80b281b65e06",
   "metadata": {},
   "source": [
    "Here, the `np.where` function is called in a nested structure, with condition being a Series of Booleans obtained with `str.contains()`. The `contains()` method works similarly to the built-in in keyword used to find the occurrence of an entity in an iterable (or substring in a string)."
   ]
  },
  {
   "cell_type": "markdown",
   "id": "5a835794-bcab-456c-9a5f-16ebdc30d4fb",
   "metadata": {},
   "source": [
    "The replacement to be used is a string representing our desired place of publication. We also replace hyphens with a space with str.replace() and reassign to the column in our DataFrame."
   ]
  },
  {
   "cell_type": "markdown",
   "id": "0e063337-fd8d-45b1-851c-5571916a6230",
   "metadata": {},
   "source": [
    "Although there is more dirty data in this dataset, we will discuss only these two columns for now."
   ]
  },
  {
   "cell_type": "markdown",
   "id": "17d79249-a3d2-4e10-bf93-ff2204e9a255",
   "metadata": {},
   "source": [
    "Let’s have a look at the first five entries, which look a lot crisper than when we started out:"
   ]
  },
  {
   "cell_type": "code",
   "execution_count": 44,
   "id": "f7d6cb16-df81-46b6-b480-d9c9c1b4f1b6",
   "metadata": {},
   "outputs": [
    {
     "data": {
      "text/html": [
       "<div>\n",
       "<style scoped>\n",
       "    .dataframe tbody tr th:only-of-type {\n",
       "        vertical-align: middle;\n",
       "    }\n",
       "\n",
       "    .dataframe tbody tr th {\n",
       "        vertical-align: top;\n",
       "    }\n",
       "\n",
       "    .dataframe thead th {\n",
       "        text-align: right;\n",
       "    }\n",
       "</style>\n",
       "<table border=\"1\" class=\"dataframe\">\n",
       "  <thead>\n",
       "    <tr style=\"text-align: right;\">\n",
       "      <th></th>\n",
       "      <th>Edition Statement</th>\n",
       "      <th>Place of Publication</th>\n",
       "      <th>Date of Publication</th>\n",
       "      <th>Publisher</th>\n",
       "      <th>Title</th>\n",
       "      <th>Author</th>\n",
       "      <th>Contributors</th>\n",
       "      <th>Corporate Author</th>\n",
       "      <th>Corporate Contributors</th>\n",
       "      <th>Former owner</th>\n",
       "      <th>Engraver</th>\n",
       "      <th>Issuance type</th>\n",
       "      <th>Flickr URL</th>\n",
       "      <th>Shelfmarks</th>\n",
       "    </tr>\n",
       "    <tr>\n",
       "      <th>Identifier</th>\n",
       "      <th></th>\n",
       "      <th></th>\n",
       "      <th></th>\n",
       "      <th></th>\n",
       "      <th></th>\n",
       "      <th></th>\n",
       "      <th></th>\n",
       "      <th></th>\n",
       "      <th></th>\n",
       "      <th></th>\n",
       "      <th></th>\n",
       "      <th></th>\n",
       "      <th></th>\n",
       "      <th></th>\n",
       "    </tr>\n",
       "  </thead>\n",
       "  <tbody>\n",
       "    <tr>\n",
       "      <th>206</th>\n",
       "      <td>NaN</td>\n",
       "      <td>London</td>\n",
       "      <td>1879.0</td>\n",
       "      <td>S. Tinsley &amp; Co.</td>\n",
       "      <td>Walter Forbes. [A novel.] By A. A</td>\n",
       "      <td>A. A.</td>\n",
       "      <td>FORBES, Walter.</td>\n",
       "      <td>NaN</td>\n",
       "      <td>NaN</td>\n",
       "      <td>NaN</td>\n",
       "      <td>NaN</td>\n",
       "      <td>monographic</td>\n",
       "      <td>http://www.flickr.com/photos/britishlibrary/ta...</td>\n",
       "      <td>British Library HMNTS 12641.b.30.</td>\n",
       "    </tr>\n",
       "    <tr>\n",
       "      <th>216</th>\n",
       "      <td>NaN</td>\n",
       "      <td>London</td>\n",
       "      <td>1868.0</td>\n",
       "      <td>Virtue &amp; Co.</td>\n",
       "      <td>All for Greed. [A novel. The dedication signed...</td>\n",
       "      <td>A., A. A.</td>\n",
       "      <td>BLAZE DE BURY, Marie Pauline Rose - Baroness</td>\n",
       "      <td>NaN</td>\n",
       "      <td>NaN</td>\n",
       "      <td>NaN</td>\n",
       "      <td>NaN</td>\n",
       "      <td>monographic</td>\n",
       "      <td>http://www.flickr.com/photos/britishlibrary/ta...</td>\n",
       "      <td>British Library HMNTS 12626.cc.2.</td>\n",
       "    </tr>\n",
       "    <tr>\n",
       "      <th>218</th>\n",
       "      <td>NaN</td>\n",
       "      <td>London</td>\n",
       "      <td>1869.0</td>\n",
       "      <td>Bradbury, Evans &amp; Co.</td>\n",
       "      <td>Love the Avenger. By the author of “All for Gr...</td>\n",
       "      <td>A., A. A.</td>\n",
       "      <td>BLAZE DE BURY, Marie Pauline Rose - Baroness</td>\n",
       "      <td>NaN</td>\n",
       "      <td>NaN</td>\n",
       "      <td>NaN</td>\n",
       "      <td>NaN</td>\n",
       "      <td>monographic</td>\n",
       "      <td>http://www.flickr.com/photos/britishlibrary/ta...</td>\n",
       "      <td>British Library HMNTS 12625.dd.1.</td>\n",
       "    </tr>\n",
       "    <tr>\n",
       "      <th>472</th>\n",
       "      <td>NaN</td>\n",
       "      <td>London</td>\n",
       "      <td>1851.0</td>\n",
       "      <td>James Darling</td>\n",
       "      <td>Welsh Sketches, chiefly ecclesiastical, to the...</td>\n",
       "      <td>A., E. S.</td>\n",
       "      <td>Appleyard, Ernest Silvanus.</td>\n",
       "      <td>NaN</td>\n",
       "      <td>NaN</td>\n",
       "      <td>NaN</td>\n",
       "      <td>NaN</td>\n",
       "      <td>monographic</td>\n",
       "      <td>http://www.flickr.com/photos/britishlibrary/ta...</td>\n",
       "      <td>British Library HMNTS 10369.bbb.15.</td>\n",
       "    </tr>\n",
       "    <tr>\n",
       "      <th>480</th>\n",
       "      <td>A new edition, revised, etc.</td>\n",
       "      <td>London</td>\n",
       "      <td>1857.0</td>\n",
       "      <td>Wertheim &amp; Macintosh</td>\n",
       "      <td>[The World in which I live, and my place in it...</td>\n",
       "      <td>A., E. S.</td>\n",
       "      <td>BROOME, John Henry.</td>\n",
       "      <td>NaN</td>\n",
       "      <td>NaN</td>\n",
       "      <td>NaN</td>\n",
       "      <td>NaN</td>\n",
       "      <td>monographic</td>\n",
       "      <td>http://www.flickr.com/photos/britishlibrary/ta...</td>\n",
       "      <td>British Library HMNTS 9007.d.28.</td>\n",
       "    </tr>\n",
       "  </tbody>\n",
       "</table>\n",
       "</div>"
      ],
      "text/plain": [
       "                       Edition Statement Place of Publication  \\\n",
       "Identifier                                                      \n",
       "206                                  NaN               London   \n",
       "216                                  NaN               London   \n",
       "218                                  NaN               London   \n",
       "472                                  NaN               London   \n",
       "480         A new edition, revised, etc.               London   \n",
       "\n",
       "            Date of Publication              Publisher  \\\n",
       "Identifier                                               \n",
       "206                      1879.0       S. Tinsley & Co.   \n",
       "216                      1868.0           Virtue & Co.   \n",
       "218                      1869.0  Bradbury, Evans & Co.   \n",
       "472                      1851.0          James Darling   \n",
       "480                      1857.0   Wertheim & Macintosh   \n",
       "\n",
       "                                                        Title     Author  \\\n",
       "Identifier                                                                 \n",
       "206                         Walter Forbes. [A novel.] By A. A      A. A.   \n",
       "216         All for Greed. [A novel. The dedication signed...  A., A. A.   \n",
       "218         Love the Avenger. By the author of “All for Gr...  A., A. A.   \n",
       "472         Welsh Sketches, chiefly ecclesiastical, to the...  A., E. S.   \n",
       "480         [The World in which I live, and my place in it...  A., E. S.   \n",
       "\n",
       "                                            Contributors  Corporate Author  \\\n",
       "Identifier                                                                   \n",
       "206                                      FORBES, Walter.               NaN   \n",
       "216         BLAZE DE BURY, Marie Pauline Rose - Baroness               NaN   \n",
       "218         BLAZE DE BURY, Marie Pauline Rose - Baroness               NaN   \n",
       "472                          Appleyard, Ernest Silvanus.               NaN   \n",
       "480                                  BROOME, John Henry.               NaN   \n",
       "\n",
       "            Corporate Contributors Former owner  Engraver Issuance type  \\\n",
       "Identifier                                                                \n",
       "206                            NaN          NaN       NaN   monographic   \n",
       "216                            NaN          NaN       NaN   monographic   \n",
       "218                            NaN          NaN       NaN   monographic   \n",
       "472                            NaN          NaN       NaN   monographic   \n",
       "480                            NaN          NaN       NaN   monographic   \n",
       "\n",
       "                                                   Flickr URL  \\\n",
       "Identifier                                                      \n",
       "206         http://www.flickr.com/photos/britishlibrary/ta...   \n",
       "216         http://www.flickr.com/photos/britishlibrary/ta...   \n",
       "218         http://www.flickr.com/photos/britishlibrary/ta...   \n",
       "472         http://www.flickr.com/photos/britishlibrary/ta...   \n",
       "480         http://www.flickr.com/photos/britishlibrary/ta...   \n",
       "\n",
       "                                     Shelfmarks  \n",
       "Identifier                                       \n",
       "206           British Library HMNTS 12641.b.30.  \n",
       "216           British Library HMNTS 12626.cc.2.  \n",
       "218           British Library HMNTS 12625.dd.1.  \n",
       "472         British Library HMNTS 10369.bbb.15.  \n",
       "480            British Library HMNTS 9007.d.28.  "
      ]
     },
     "execution_count": 44,
     "metadata": {},
     "output_type": "execute_result"
    }
   ],
   "source": [
    "df.head()"
   ]
  },
  {
   "cell_type": "markdown",
   "id": "966736e6-269a-4f27-bf80-85f672c9422a",
   "metadata": {},
   "source": [
    "> Note: At this point, Place of Publication would be a good candidate for conversion to a [Categorical dtype](https://pandas.pydata.org/pandas-docs/stable/categorical.html), because we can encode the fairly small unique set of cities with integers. (The memory usage of a Categorical is proportional to the number of categories plus the length of the data; an object dtype is a constant times the length of the data.)"
   ]
  },
  {
   "cell_type": "markdown",
   "id": "6145f1e9-361c-4510-a3ad-fd8658d32440",
   "metadata": {},
   "source": [
    "## Cleaning the Entire Dataset Using the applymap Function\n",
    "\n",
    "In certain situations, you will see that the “dirt” is not localized to one column but is more spread out."
   ]
  },
  {
   "cell_type": "markdown",
   "id": "4790a87a-bd78-493e-9175-b53eedcd1e63",
   "metadata": {},
   "source": [
    "There are some instances where it would be helpful to apply a customized function to each cell or element of a DataFrame. Pandas `.applymap()` method is similar to the in-built `map()` function and simply applies a function to all the elements in a DataFrame."
   ]
  },
  {
   "cell_type": "markdown",
   "id": "b42e5428-1b1c-4010-ab84-0de94139eddf",
   "metadata": {},
   "source": [
    "Let’s look at an example. We will create a DataFrame out of the “university_towns.txt” file:"
   ]
  },
  {
   "cell_type": "code",
   "execution_count": 45,
   "id": "da155cba-d067-472c-a668-b76c0d291bc9",
   "metadata": {},
   "outputs": [
    {
     "name": "stdout",
     "output_type": "stream",
     "text": [
      "Alabama[edit]\r\n",
      "Auburn (Auburn University)[1]\r\n",
      "Florence (University of North Alabama)\r\n",
      "Jacksonville (Jacksonville State University)[2]\r\n",
      "Livingston (University of West Alabama)[2]\r\n",
      "Montevallo (University of Montevallo)[2]\r\n",
      "Troy (Troy University)[2]\r\n",
      "Tuscaloosa (University of Alabama, Stillman College, Shelton State)[3][4]\r\n",
      "Tuskegee (Tuskegee University)[5]\r\n",
      "Alaska[edit]\r\n"
     ]
    }
   ],
   "source": [
    "!head university_towns.txt"
   ]
  },
  {
   "cell_type": "markdown",
   "id": "3faac793-2aae-4e86-b996-11b73b7b8dab",
   "metadata": {},
   "source": [
    "We see that we have periodic state names followed by the university towns in that state: StateA TownA1 TownA2 StateB TownB1 TownB2.... If we look at the way state names are written in the file, we’ll see that all of them have the “[edit]” substring in them."
   ]
  },
  {
   "cell_type": "markdown",
   "id": "6aba2bc9-9f42-47ec-9bf0-80ec70b283c5",
   "metadata": {},
   "source": [
    "We can take advantage of this pattern by creating a list of (state, city) tuples and wrapping that list in a DataFrame:"
   ]
  },
  {
   "cell_type": "code",
   "execution_count": 37,
   "id": "1930b182-724e-4b86-823f-533b42d3ee9f",
   "metadata": {},
   "outputs": [
    {
     "data": {
      "text/plain": [
       "[('Alabama[edit]\\n', 'Auburn (Auburn University)[1]\\n'),\n",
       " ('Alabama[edit]\\n', 'Florence (University of North Alabama)\\n'),\n",
       " ('Alabama[edit]\\n', 'Jacksonville (Jacksonville State University)[2]\\n'),\n",
       " ('Alabama[edit]\\n', 'Livingston (University of West Alabama)[2]\\n'),\n",
       " ('Alabama[edit]\\n', 'Montevallo (University of Montevallo)[2]\\n')]"
      ]
     },
     "execution_count": 37,
     "metadata": {},
     "output_type": "execute_result"
    }
   ],
   "source": [
    "university_towns = []\n",
    "with open('university_towns.txt') as file:\n",
    "    for line in file:\n",
    "        if '[edit]' in line:\n",
    "            # Remember this `state` until the next is found\n",
    "            state = line\n",
    "        else:\n",
    "            # Otherwise, we have a city; keep `state` as last-seen\n",
    "            university_towns.append((state, line))\n",
    "\n",
    "university_towns[:5]"
   ]
  },
  {
   "cell_type": "markdown",
   "id": "adc13043-6584-4d05-bc34-6e53f67453b4",
   "metadata": {},
   "source": [
    "We can wrap this list in a DataFrame and set the columns as “State” and “RegionName”. Pandas will take each element in the list and set State to the left value and RegionName to the right value."
   ]
  },
  {
   "cell_type": "markdown",
   "id": "89bb0c9e-1421-46b4-ab8c-0e519e8ad89e",
   "metadata": {},
   "source": [
    "The resulting DataFrame looks like this:"
   ]
  },
  {
   "cell_type": "code",
   "execution_count": 38,
   "id": "b1a0f6e8-6bbc-4635-b577-312f7aae6c90",
   "metadata": {},
   "outputs": [
    {
     "data": {
      "text/html": [
       "<div>\n",
       "<style scoped>\n",
       "    .dataframe tbody tr th:only-of-type {\n",
       "        vertical-align: middle;\n",
       "    }\n",
       "\n",
       "    .dataframe tbody tr th {\n",
       "        vertical-align: top;\n",
       "    }\n",
       "\n",
       "    .dataframe thead th {\n",
       "        text-align: right;\n",
       "    }\n",
       "</style>\n",
       "<table border=\"1\" class=\"dataframe\">\n",
       "  <thead>\n",
       "    <tr style=\"text-align: right;\">\n",
       "      <th></th>\n",
       "      <th>State</th>\n",
       "      <th>RegionName</th>\n",
       "    </tr>\n",
       "  </thead>\n",
       "  <tbody>\n",
       "    <tr>\n",
       "      <th>0</th>\n",
       "      <td>Alabama[edit]\\n</td>\n",
       "      <td>Auburn (Auburn University)[1]\\n</td>\n",
       "    </tr>\n",
       "    <tr>\n",
       "      <th>1</th>\n",
       "      <td>Alabama[edit]\\n</td>\n",
       "      <td>Florence (University of North Alabama)\\n</td>\n",
       "    </tr>\n",
       "    <tr>\n",
       "      <th>2</th>\n",
       "      <td>Alabama[edit]\\n</td>\n",
       "      <td>Jacksonville (Jacksonville State University)[2]\\n</td>\n",
       "    </tr>\n",
       "    <tr>\n",
       "      <th>3</th>\n",
       "      <td>Alabama[edit]\\n</td>\n",
       "      <td>Livingston (University of West Alabama)[2]\\n</td>\n",
       "    </tr>\n",
       "    <tr>\n",
       "      <th>4</th>\n",
       "      <td>Alabama[edit]\\n</td>\n",
       "      <td>Montevallo (University of Montevallo)[2]\\n</td>\n",
       "    </tr>\n",
       "  </tbody>\n",
       "</table>\n",
       "</div>"
      ],
      "text/plain": [
       "             State                                         RegionName\n",
       "0  Alabama[edit]\\n                    Auburn (Auburn University)[1]\\n\n",
       "1  Alabama[edit]\\n           Florence (University of North Alabama)\\n\n",
       "2  Alabama[edit]\\n  Jacksonville (Jacksonville State University)[2]\\n\n",
       "3  Alabama[edit]\\n       Livingston (University of West Alabama)[2]\\n\n",
       "4  Alabama[edit]\\n         Montevallo (University of Montevallo)[2]\\n"
      ]
     },
     "execution_count": 38,
     "metadata": {},
     "output_type": "execute_result"
    }
   ],
   "source": [
    "towns_df = pd.DataFrame(university_towns,\n",
    "                        columns=['State', 'RegionName'])\n",
    "\n",
    "towns_df.head()"
   ]
  },
  {
   "cell_type": "markdown",
   "id": "00544b75-6267-4dd4-ba29-979116247357",
   "metadata": {},
   "source": [
    "While we could have cleaned these strings in the for loop above, Pandas makes it easy. We only need the state name and the town name and can remove everything else. While we could use Pandas’ `.str()` methods again here, we could also use `applymap()` to map a Python callable to each element of the DataFrame."
   ]
  },
  {
   "cell_type": "markdown",
   "id": "1dc9b259-c1c1-431c-90dd-051eaced5ec9",
   "metadata": {},
   "source": [
    "We have been using the term element, but what exactly do we mean by it? Consider the following “toy” DataFrame:\n",
    "\n",
    "```python\n",
    "        0           1\n",
    "0    Mock     Dataset\n",
    "1  Python     Pandas\n",
    "2    Real     Python\n",
    "3   NumPy     Clean\n",
    "```"
   ]
  },
  {
   "cell_type": "markdown",
   "id": "eb74d0fd-2d3a-4d53-8c87-198dbe737b7b",
   "metadata": {},
   "source": [
    "In this example, each cell (‘Mock’, ‘Dataset’, ‘Python’, ‘Pandas’, etc.) is an element. Therefore, `applymap()` will apply a function to each of these independently. Let’s define that function:"
   ]
  },
  {
   "cell_type": "code",
   "execution_count": 39,
   "id": "db8ae646-96fe-4ea1-bdff-fe7f6acf7755",
   "metadata": {},
   "outputs": [],
   "source": [
    "def get_citystate(item):\n",
    "     if ' (' in item:\n",
    "         return item[:item.find(' (')]\n",
    "     elif '[' in item:\n",
    "         return item[:item.find('[')]\n",
    "     else:\n",
    "         return item"
   ]
  },
  {
   "cell_type": "markdown",
   "id": "64b09571-d8ea-4978-b4f0-9545b3defc37",
   "metadata": {},
   "source": [
    "Pandas’ `.applymap()` only takes one parameter, which is the function (callable) that should be applied to each element:"
   ]
  },
  {
   "cell_type": "code",
   "execution_count": 40,
   "id": "e2f3f1de-5baf-482d-acd6-ca9699450d23",
   "metadata": {},
   "outputs": [],
   "source": [
    "towns_df =  towns_df.applymap(get_citystate)"
   ]
  },
  {
   "cell_type": "markdown",
   "id": "e039113e-5b45-45e7-a1d7-2bfcdebaa806",
   "metadata": {},
   "source": [
    "First, we define a Python function that takes an element from the DataFrame as its parameter. Inside the function, checks are performed to determine whether there’s a `(` or `[` in the element or not."
   ]
  },
  {
   "cell_type": "markdown",
   "id": "ff6d3c02-b425-488c-9f04-3950b774bafb",
   "metadata": {},
   "source": [
    "Depending on the check, values are returned accordingly by the function. Finally, the `applymap()` function is called on our object. Now the DataFrame is much neater:"
   ]
  },
  {
   "cell_type": "code",
   "execution_count": 41,
   "id": "530eeb79-6900-4648-a4cc-a15d5ba6af80",
   "metadata": {},
   "outputs": [
    {
     "data": {
      "text/html": [
       "<div>\n",
       "<style scoped>\n",
       "    .dataframe tbody tr th:only-of-type {\n",
       "        vertical-align: middle;\n",
       "    }\n",
       "\n",
       "    .dataframe tbody tr th {\n",
       "        vertical-align: top;\n",
       "    }\n",
       "\n",
       "    .dataframe thead th {\n",
       "        text-align: right;\n",
       "    }\n",
       "</style>\n",
       "<table border=\"1\" class=\"dataframe\">\n",
       "  <thead>\n",
       "    <tr style=\"text-align: right;\">\n",
       "      <th></th>\n",
       "      <th>State</th>\n",
       "      <th>RegionName</th>\n",
       "    </tr>\n",
       "  </thead>\n",
       "  <tbody>\n",
       "    <tr>\n",
       "      <th>0</th>\n",
       "      <td>Alabama</td>\n",
       "      <td>Auburn</td>\n",
       "    </tr>\n",
       "    <tr>\n",
       "      <th>1</th>\n",
       "      <td>Alabama</td>\n",
       "      <td>Florence</td>\n",
       "    </tr>\n",
       "    <tr>\n",
       "      <th>2</th>\n",
       "      <td>Alabama</td>\n",
       "      <td>Jacksonville</td>\n",
       "    </tr>\n",
       "    <tr>\n",
       "      <th>3</th>\n",
       "      <td>Alabama</td>\n",
       "      <td>Livingston</td>\n",
       "    </tr>\n",
       "    <tr>\n",
       "      <th>4</th>\n",
       "      <td>Alabama</td>\n",
       "      <td>Montevallo</td>\n",
       "    </tr>\n",
       "  </tbody>\n",
       "</table>\n",
       "</div>"
      ],
      "text/plain": [
       "     State    RegionName\n",
       "0  Alabama        Auburn\n",
       "1  Alabama      Florence\n",
       "2  Alabama  Jacksonville\n",
       "3  Alabama    Livingston\n",
       "4  Alabama    Montevallo"
      ]
     },
     "execution_count": 41,
     "metadata": {},
     "output_type": "execute_result"
    }
   ],
   "source": [
    "towns_df.head()"
   ]
  },
  {
   "cell_type": "markdown",
   "id": "4c3fff08-af2e-4a80-9e59-9adc4b2213ca",
   "metadata": {},
   "source": [
    "The `applymap()` method took each element from the DataFrame, passed it to the function, and the original value was replaced by the returned value. It’s that simple!\n",
    "\n",
    ">Technical Detail: While it is a convenient and versatile method, `.applymap` can have significant runtime for larger datasets, because it maps a Python callable to each individual element. In some cases, it can be more efficient to do vectorized operations that utilize Cython or NumPY (which, in turn, makes calls in C) under the hood."
   ]
  },
  {
   "cell_type": "markdown",
   "id": "aec5bd24-76c8-425b-9110-63cf996f2e45",
   "metadata": {},
   "source": [
    "## Renaming Columns and Skipping Rows\n",
    "\n",
    "Often, the datasets you’ll work with will have either column names that are not easy to understand, or unimportant information in the first few and/or last rows, such as definitions of the terms in the dataset, or footnotes."
   ]
  },
  {
   "cell_type": "markdown",
   "id": "0e011b4e-5381-4a6d-835d-b4a0fe1ada0c",
   "metadata": {},
   "source": [
    "In that case, we’d want to rename columns and skip certain rows so that we can drill down to necessary information with correct and sensible labels."
   ]
  },
  {
   "cell_type": "markdown",
   "id": "1a8384c2-cb57-4ae6-a5ee-6afc0e01262b",
   "metadata": {},
   "source": [
    "To demonstrate how we can go about doing this, let’s first take a glance at the initial five rows of the “olympics.csv” dataset:"
   ]
  },
  {
   "cell_type": "code",
   "execution_count": 42,
   "id": "957674e6-1a01-4ce3-a970-704711e9c614",
   "metadata": {},
   "outputs": [
    {
     "name": "stdout",
     "output_type": "stream",
     "text": [
      "0,1,2,3,4,5,6,7,8,9,10,11,12,13,14,15\n",
      ",? Summer,01 !,02 !,03 !,Total,? Winter,01 !,02 !,03 !,Total,? Games,01 !,02 !,03 !,Combined total\n",
      "Afghanistan (AFG),13,0,0,2,2,0,0,0,0,0,13,0,0,2,2\n",
      "Algeria (ALG),12,5,2,8,15,3,0,0,0,0,15,5,2,8,15\n",
      "Argentina (ARG),23,18,24,28,70,18,0,0,0,0,41,18,24,28,70\n"
     ]
    }
   ],
   "source": [
    "!head -n 5 olympics.csv"
   ]
  },
  {
   "cell_type": "markdown",
   "id": "c3a16186-7154-4034-9b14-3c96ad4060ed",
   "metadata": {},
   "source": [
    "Now, we’ll read it into a Pandas DataFrame:"
   ]
  },
  {
   "cell_type": "code",
   "execution_count": 43,
   "id": "ecb3c133-af04-4437-8094-535a7d552bbb",
   "metadata": {},
   "outputs": [
    {
     "data": {
      "text/html": [
       "<div>\n",
       "<style scoped>\n",
       "    .dataframe tbody tr th:only-of-type {\n",
       "        vertical-align: middle;\n",
       "    }\n",
       "\n",
       "    .dataframe tbody tr th {\n",
       "        vertical-align: top;\n",
       "    }\n",
       "\n",
       "    .dataframe thead th {\n",
       "        text-align: right;\n",
       "    }\n",
       "</style>\n",
       "<table border=\"1\" class=\"dataframe\">\n",
       "  <thead>\n",
       "    <tr style=\"text-align: right;\">\n",
       "      <th></th>\n",
       "      <th>0</th>\n",
       "      <th>1</th>\n",
       "      <th>2</th>\n",
       "      <th>3</th>\n",
       "      <th>4</th>\n",
       "      <th>5</th>\n",
       "      <th>6</th>\n",
       "      <th>7</th>\n",
       "      <th>8</th>\n",
       "      <th>9</th>\n",
       "      <th>10</th>\n",
       "      <th>11</th>\n",
       "      <th>12</th>\n",
       "      <th>13</th>\n",
       "      <th>14</th>\n",
       "      <th>15</th>\n",
       "    </tr>\n",
       "  </thead>\n",
       "  <tbody>\n",
       "    <tr>\n",
       "      <th>0</th>\n",
       "      <td>NaN</td>\n",
       "      <td>? Summer</td>\n",
       "      <td>01 !</td>\n",
       "      <td>02 !</td>\n",
       "      <td>03 !</td>\n",
       "      <td>Total</td>\n",
       "      <td>? Winter</td>\n",
       "      <td>01 !</td>\n",
       "      <td>02 !</td>\n",
       "      <td>03 !</td>\n",
       "      <td>Total</td>\n",
       "      <td>? Games</td>\n",
       "      <td>01 !</td>\n",
       "      <td>02 !</td>\n",
       "      <td>03 !</td>\n",
       "      <td>Combined total</td>\n",
       "    </tr>\n",
       "    <tr>\n",
       "      <th>1</th>\n",
       "      <td>Afghanistan (AFG)</td>\n",
       "      <td>13</td>\n",
       "      <td>0</td>\n",
       "      <td>0</td>\n",
       "      <td>2</td>\n",
       "      <td>2</td>\n",
       "      <td>0</td>\n",
       "      <td>0</td>\n",
       "      <td>0</td>\n",
       "      <td>0</td>\n",
       "      <td>0</td>\n",
       "      <td>13</td>\n",
       "      <td>0</td>\n",
       "      <td>0</td>\n",
       "      <td>2</td>\n",
       "      <td>2</td>\n",
       "    </tr>\n",
       "    <tr>\n",
       "      <th>2</th>\n",
       "      <td>Algeria (ALG)</td>\n",
       "      <td>12</td>\n",
       "      <td>5</td>\n",
       "      <td>2</td>\n",
       "      <td>8</td>\n",
       "      <td>15</td>\n",
       "      <td>3</td>\n",
       "      <td>0</td>\n",
       "      <td>0</td>\n",
       "      <td>0</td>\n",
       "      <td>0</td>\n",
       "      <td>15</td>\n",
       "      <td>5</td>\n",
       "      <td>2</td>\n",
       "      <td>8</td>\n",
       "      <td>15</td>\n",
       "    </tr>\n",
       "    <tr>\n",
       "      <th>3</th>\n",
       "      <td>Argentina (ARG)</td>\n",
       "      <td>23</td>\n",
       "      <td>18</td>\n",
       "      <td>24</td>\n",
       "      <td>28</td>\n",
       "      <td>70</td>\n",
       "      <td>18</td>\n",
       "      <td>0</td>\n",
       "      <td>0</td>\n",
       "      <td>0</td>\n",
       "      <td>0</td>\n",
       "      <td>41</td>\n",
       "      <td>18</td>\n",
       "      <td>24</td>\n",
       "      <td>28</td>\n",
       "      <td>70</td>\n",
       "    </tr>\n",
       "    <tr>\n",
       "      <th>4</th>\n",
       "      <td>Armenia (ARM)</td>\n",
       "      <td>5</td>\n",
       "      <td>1</td>\n",
       "      <td>2</td>\n",
       "      <td>9</td>\n",
       "      <td>12</td>\n",
       "      <td>6</td>\n",
       "      <td>0</td>\n",
       "      <td>0</td>\n",
       "      <td>0</td>\n",
       "      <td>0</td>\n",
       "      <td>11</td>\n",
       "      <td>1</td>\n",
       "      <td>2</td>\n",
       "      <td>9</td>\n",
       "      <td>12</td>\n",
       "    </tr>\n",
       "  </tbody>\n",
       "</table>\n",
       "</div>"
      ],
      "text/plain": [
       "                   0         1     2     3     4      5         6     7     8  \\\n",
       "0                NaN  ? Summer  01 !  02 !  03 !  Total  ? Winter  01 !  02 !   \n",
       "1  Afghanistan (AFG)        13     0     0     2      2         0     0     0   \n",
       "2      Algeria (ALG)        12     5     2     8     15         3     0     0   \n",
       "3    Argentina (ARG)        23    18    24    28     70        18     0     0   \n",
       "4      Armenia (ARM)         5     1     2     9     12         6     0     0   \n",
       "\n",
       "      9     10       11    12    13    14              15  \n",
       "0  03 !  Total  ? Games  01 !  02 !  03 !  Combined total  \n",
       "1     0      0       13     0     0     2               2  \n",
       "2     0      0       15     5     2     8              15  \n",
       "3     0      0       41    18    24    28              70  \n",
       "4     0      0       11     1     2     9              12  "
      ]
     },
     "execution_count": 43,
     "metadata": {},
     "output_type": "execute_result"
    }
   ],
   "source": [
    "olympics_df = pd.read_csv('olympics.csv')\n",
    "olympics_df.head()"
   ]
  },
  {
   "cell_type": "markdown",
   "id": "46bb6add-8101-433e-bfec-f1f07e081bd2",
   "metadata": {},
   "source": [
    "This is messy indeed! The columns are the string form of integers indexed at 0. The row which should have been our header (i.e. the one to be used to set the column names) is at olympics_df.iloc[0]. This happened because our CSV file starts with 0, 1, 2, …, 15."
   ]
  },
  {
   "cell_type": "markdown",
   "id": "77728e42-c687-44df-b9bd-688fab2b287a",
   "metadata": {},
   "source": [
    "Also, if we were to go to the source of this dataset, we’d see that NaN above should really be something like “Country”, ? Summer is supposed to represent “Summer Games”, 01 ! should be “Gold”, and so on."
   ]
  },
  {
   "cell_type": "markdown",
   "id": "ac54c3a8-97e6-4d0f-ae3c-84827c3d904c",
   "metadata": {},
   "source": [
    "Therefore, we need to do two things:\n",
    "\n",
    "* Skip one row and set the header as the first (0-indexed) row\n",
    "* Rename the columns"
   ]
  },
  {
   "cell_type": "markdown",
   "id": "01c539b6-f4b9-4a8b-a12b-2754865bee25",
   "metadata": {},
   "source": [
    "We can skip rows and set the header while reading the CSV file by passing some parameters to the `read_csv()` function.\n",
    "\n",
    "This function takes a lot of optional parameters, but in this case we only need one (header) to remove the 0th row:"
   ]
  },
  {
   "cell_type": "code",
   "execution_count": 44,
   "id": "97edd984-d985-4437-bd69-f5bafa17f687",
   "metadata": {},
   "outputs": [
    {
     "data": {
      "text/html": [
       "<div>\n",
       "<style scoped>\n",
       "    .dataframe tbody tr th:only-of-type {\n",
       "        vertical-align: middle;\n",
       "    }\n",
       "\n",
       "    .dataframe tbody tr th {\n",
       "        vertical-align: top;\n",
       "    }\n",
       "\n",
       "    .dataframe thead th {\n",
       "        text-align: right;\n",
       "    }\n",
       "</style>\n",
       "<table border=\"1\" class=\"dataframe\">\n",
       "  <thead>\n",
       "    <tr style=\"text-align: right;\">\n",
       "      <th></th>\n",
       "      <th>Unnamed: 0</th>\n",
       "      <th>? Summer</th>\n",
       "      <th>01 !</th>\n",
       "      <th>02 !</th>\n",
       "      <th>03 !</th>\n",
       "      <th>Total</th>\n",
       "      <th>? Winter</th>\n",
       "      <th>01 !.1</th>\n",
       "      <th>02 !.1</th>\n",
       "      <th>03 !.1</th>\n",
       "      <th>Total.1</th>\n",
       "      <th>? Games</th>\n",
       "      <th>01 !.2</th>\n",
       "      <th>02 !.2</th>\n",
       "      <th>03 !.2</th>\n",
       "      <th>Combined total</th>\n",
       "    </tr>\n",
       "  </thead>\n",
       "  <tbody>\n",
       "    <tr>\n",
       "      <th>0</th>\n",
       "      <td>Afghanistan (AFG)</td>\n",
       "      <td>13</td>\n",
       "      <td>0</td>\n",
       "      <td>0</td>\n",
       "      <td>2</td>\n",
       "      <td>2</td>\n",
       "      <td>0</td>\n",
       "      <td>0</td>\n",
       "      <td>0</td>\n",
       "      <td>0</td>\n",
       "      <td>0</td>\n",
       "      <td>13</td>\n",
       "      <td>0</td>\n",
       "      <td>0</td>\n",
       "      <td>2</td>\n",
       "      <td>2</td>\n",
       "    </tr>\n",
       "    <tr>\n",
       "      <th>1</th>\n",
       "      <td>Algeria (ALG)</td>\n",
       "      <td>12</td>\n",
       "      <td>5</td>\n",
       "      <td>2</td>\n",
       "      <td>8</td>\n",
       "      <td>15</td>\n",
       "      <td>3</td>\n",
       "      <td>0</td>\n",
       "      <td>0</td>\n",
       "      <td>0</td>\n",
       "      <td>0</td>\n",
       "      <td>15</td>\n",
       "      <td>5</td>\n",
       "      <td>2</td>\n",
       "      <td>8</td>\n",
       "      <td>15</td>\n",
       "    </tr>\n",
       "    <tr>\n",
       "      <th>2</th>\n",
       "      <td>Argentina (ARG)</td>\n",
       "      <td>23</td>\n",
       "      <td>18</td>\n",
       "      <td>24</td>\n",
       "      <td>28</td>\n",
       "      <td>70</td>\n",
       "      <td>18</td>\n",
       "      <td>0</td>\n",
       "      <td>0</td>\n",
       "      <td>0</td>\n",
       "      <td>0</td>\n",
       "      <td>41</td>\n",
       "      <td>18</td>\n",
       "      <td>24</td>\n",
       "      <td>28</td>\n",
       "      <td>70</td>\n",
       "    </tr>\n",
       "    <tr>\n",
       "      <th>3</th>\n",
       "      <td>Armenia (ARM)</td>\n",
       "      <td>5</td>\n",
       "      <td>1</td>\n",
       "      <td>2</td>\n",
       "      <td>9</td>\n",
       "      <td>12</td>\n",
       "      <td>6</td>\n",
       "      <td>0</td>\n",
       "      <td>0</td>\n",
       "      <td>0</td>\n",
       "      <td>0</td>\n",
       "      <td>11</td>\n",
       "      <td>1</td>\n",
       "      <td>2</td>\n",
       "      <td>9</td>\n",
       "      <td>12</td>\n",
       "    </tr>\n",
       "    <tr>\n",
       "      <th>4</th>\n",
       "      <td>Australasia (ANZ) [ANZ]</td>\n",
       "      <td>2</td>\n",
       "      <td>3</td>\n",
       "      <td>4</td>\n",
       "      <td>5</td>\n",
       "      <td>12</td>\n",
       "      <td>0</td>\n",
       "      <td>0</td>\n",
       "      <td>0</td>\n",
       "      <td>0</td>\n",
       "      <td>0</td>\n",
       "      <td>2</td>\n",
       "      <td>3</td>\n",
       "      <td>4</td>\n",
       "      <td>5</td>\n",
       "      <td>12</td>\n",
       "    </tr>\n",
       "  </tbody>\n",
       "</table>\n",
       "</div>"
      ],
      "text/plain": [
       "                Unnamed: 0  ? Summer  01 !  02 !  03 !  Total  ? Winter  \\\n",
       "0        Afghanistan (AFG)        13     0     0     2      2         0   \n",
       "1            Algeria (ALG)        12     5     2     8     15         3   \n",
       "2          Argentina (ARG)        23    18    24    28     70        18   \n",
       "3            Armenia (ARM)         5     1     2     9     12         6   \n",
       "4  Australasia (ANZ) [ANZ]         2     3     4     5     12         0   \n",
       "\n",
       "   01 !.1  02 !.1  03 !.1  Total.1  ? Games  01 !.2  02 !.2  03 !.2  \\\n",
       "0       0       0       0        0       13       0       0       2   \n",
       "1       0       0       0        0       15       5       2       8   \n",
       "2       0       0       0        0       41      18      24      28   \n",
       "3       0       0       0        0       11       1       2       9   \n",
       "4       0       0       0        0        2       3       4       5   \n",
       "\n",
       "   Combined total  \n",
       "0               2  \n",
       "1              15  \n",
       "2              70  \n",
       "3              12  \n",
       "4              12  "
      ]
     },
     "execution_count": 44,
     "metadata": {},
     "output_type": "execute_result"
    }
   ],
   "source": [
    "olympics_df = pd.read_csv('olympics.csv', header=1)\n",
    "olympics_df.head()"
   ]
  },
  {
   "cell_type": "markdown",
   "id": "dde053a4-1b42-460c-9429-80e307d137be",
   "metadata": {},
   "source": [
    "We now have the correct row set as the header and all unnecessary rows removed. Take note of how Pandas has changed the name of the column containing the name of the countries from NaN to Unnamed: 0."
   ]
  },
  {
   "cell_type": "markdown",
   "id": "7dd6271b-5c4d-4093-8743-053204b81b6c",
   "metadata": {},
   "source": [
    "To rename the columns, we will make use of a DataFrame’s `rename()` method, which allows you to relabel an axis based on a mapping (in this case, a dict)."
   ]
  },
  {
   "cell_type": "markdown",
   "id": "97e117c5-664e-4a06-b431-b4878619a87a",
   "metadata": {},
   "source": [
    "Let’s start by defining a dictionary that maps current column names (as keys) to more usable ones (the dictionary’s values):"
   ]
  },
  {
   "cell_type": "code",
   "execution_count": 48,
   "id": "01b4b2de-020c-4be0-a606-6782092370d3",
   "metadata": {},
   "outputs": [],
   "source": [
    "new_names =  {'Unnamed: 0': 'Country',\n",
    "               '? Summer': 'Summer Olympics',\n",
    "               '01 !': 'Gold',\n",
    "               '02 !': 'Silver',\n",
    "               '03 !': 'Bronze',\n",
    "               '? Winter': 'Winter Olympics',\n",
    "               '01 !.1': 'Gold.1',\n",
    "               '02 !.1': 'Silver.1',\n",
    "               '03 !.1': 'Bronze.1',\n",
    "               '? Games': '# Games',\n",
    "               '01 !.2': 'Gold.2',\n",
    "               '02 !.2': 'Silver.2',\n",
    "               '03 !.2': 'Bronze.2'}"
   ]
  },
  {
   "cell_type": "markdown",
   "id": "687f24fe-c28c-4692-acbe-9b7eb132394b",
   "metadata": {},
   "source": [
    "We call the `rename()` function on our object:"
   ]
  },
  {
   "cell_type": "code",
   "execution_count": 49,
   "id": "99383862-a0ad-479d-a63d-e2698ffbe11d",
   "metadata": {},
   "outputs": [],
   "source": [
    "olympics_df.rename(columns=new_names, inplace=True)"
   ]
  },
  {
   "cell_type": "markdown",
   "id": "2d525271-5016-4b13-aeb0-74a03395c564",
   "metadata": {},
   "source": [
    "Setting inplace to True specifies that our changes be made directly to the object. Let’s see if this checks out:"
   ]
  },
  {
   "cell_type": "code",
   "execution_count": 50,
   "id": "8faec593-fbd1-43a9-9569-bcffc0d2f88c",
   "metadata": {},
   "outputs": [
    {
     "data": {
      "text/html": [
       "<div>\n",
       "<style scoped>\n",
       "    .dataframe tbody tr th:only-of-type {\n",
       "        vertical-align: middle;\n",
       "    }\n",
       "\n",
       "    .dataframe tbody tr th {\n",
       "        vertical-align: top;\n",
       "    }\n",
       "\n",
       "    .dataframe thead th {\n",
       "        text-align: right;\n",
       "    }\n",
       "</style>\n",
       "<table border=\"1\" class=\"dataframe\">\n",
       "  <thead>\n",
       "    <tr style=\"text-align: right;\">\n",
       "      <th></th>\n",
       "      <th>Country</th>\n",
       "      <th>Summer Olympics</th>\n",
       "      <th>Gold</th>\n",
       "      <th>Silver</th>\n",
       "      <th>Bronze</th>\n",
       "      <th>Total</th>\n",
       "      <th>Winter Olympics</th>\n",
       "      <th>Gold.1</th>\n",
       "      <th>Silver.1</th>\n",
       "      <th>Bronze.1</th>\n",
       "      <th>Total.1</th>\n",
       "      <th># Games</th>\n",
       "      <th>Gold.2</th>\n",
       "      <th>Silver.2</th>\n",
       "      <th>Bronze.2</th>\n",
       "      <th>Combined total</th>\n",
       "    </tr>\n",
       "  </thead>\n",
       "  <tbody>\n",
       "    <tr>\n",
       "      <th>0</th>\n",
       "      <td>Afghanistan (AFG)</td>\n",
       "      <td>13</td>\n",
       "      <td>0</td>\n",
       "      <td>0</td>\n",
       "      <td>2</td>\n",
       "      <td>2</td>\n",
       "      <td>0</td>\n",
       "      <td>0</td>\n",
       "      <td>0</td>\n",
       "      <td>0</td>\n",
       "      <td>0</td>\n",
       "      <td>13</td>\n",
       "      <td>0</td>\n",
       "      <td>0</td>\n",
       "      <td>2</td>\n",
       "      <td>2</td>\n",
       "    </tr>\n",
       "    <tr>\n",
       "      <th>1</th>\n",
       "      <td>Algeria (ALG)</td>\n",
       "      <td>12</td>\n",
       "      <td>5</td>\n",
       "      <td>2</td>\n",
       "      <td>8</td>\n",
       "      <td>15</td>\n",
       "      <td>3</td>\n",
       "      <td>0</td>\n",
       "      <td>0</td>\n",
       "      <td>0</td>\n",
       "      <td>0</td>\n",
       "      <td>15</td>\n",
       "      <td>5</td>\n",
       "      <td>2</td>\n",
       "      <td>8</td>\n",
       "      <td>15</td>\n",
       "    </tr>\n",
       "    <tr>\n",
       "      <th>2</th>\n",
       "      <td>Argentina (ARG)</td>\n",
       "      <td>23</td>\n",
       "      <td>18</td>\n",
       "      <td>24</td>\n",
       "      <td>28</td>\n",
       "      <td>70</td>\n",
       "      <td>18</td>\n",
       "      <td>0</td>\n",
       "      <td>0</td>\n",
       "      <td>0</td>\n",
       "      <td>0</td>\n",
       "      <td>41</td>\n",
       "      <td>18</td>\n",
       "      <td>24</td>\n",
       "      <td>28</td>\n",
       "      <td>70</td>\n",
       "    </tr>\n",
       "    <tr>\n",
       "      <th>3</th>\n",
       "      <td>Armenia (ARM)</td>\n",
       "      <td>5</td>\n",
       "      <td>1</td>\n",
       "      <td>2</td>\n",
       "      <td>9</td>\n",
       "      <td>12</td>\n",
       "      <td>6</td>\n",
       "      <td>0</td>\n",
       "      <td>0</td>\n",
       "      <td>0</td>\n",
       "      <td>0</td>\n",
       "      <td>11</td>\n",
       "      <td>1</td>\n",
       "      <td>2</td>\n",
       "      <td>9</td>\n",
       "      <td>12</td>\n",
       "    </tr>\n",
       "    <tr>\n",
       "      <th>4</th>\n",
       "      <td>Australasia (ANZ) [ANZ]</td>\n",
       "      <td>2</td>\n",
       "      <td>3</td>\n",
       "      <td>4</td>\n",
       "      <td>5</td>\n",
       "      <td>12</td>\n",
       "      <td>0</td>\n",
       "      <td>0</td>\n",
       "      <td>0</td>\n",
       "      <td>0</td>\n",
       "      <td>0</td>\n",
       "      <td>2</td>\n",
       "      <td>3</td>\n",
       "      <td>4</td>\n",
       "      <td>5</td>\n",
       "      <td>12</td>\n",
       "    </tr>\n",
       "  </tbody>\n",
       "</table>\n",
       "</div>"
      ],
      "text/plain": [
       "                   Country  Summer Olympics  Gold  Silver  Bronze  Total  \\\n",
       "0        Afghanistan (AFG)               13     0       0       2      2   \n",
       "1            Algeria (ALG)               12     5       2       8     15   \n",
       "2          Argentina (ARG)               23    18      24      28     70   \n",
       "3            Armenia (ARM)                5     1       2       9     12   \n",
       "4  Australasia (ANZ) [ANZ]                2     3       4       5     12   \n",
       "\n",
       "   Winter Olympics  Gold.1  Silver.1  Bronze.1  Total.1  # Games  Gold.2  \\\n",
       "0                0       0         0         0        0       13       0   \n",
       "1                3       0         0         0        0       15       5   \n",
       "2               18       0         0         0        0       41      18   \n",
       "3                6       0         0         0        0       11       1   \n",
       "4                0       0         0         0        0        2       3   \n",
       "\n",
       "   Silver.2  Bronze.2  Combined total  \n",
       "0         0         2               2  \n",
       "1         2         8              15  \n",
       "2        24        28              70  \n",
       "3         2         9              12  \n",
       "4         4         5              12  "
      ]
     },
     "execution_count": 50,
     "metadata": {},
     "output_type": "execute_result"
    }
   ],
   "source": [
    "olympics_df.head()"
   ]
  },
  {
   "cell_type": "markdown",
   "id": "88281a91-bb22-49cb-9907-b8b360e4387d",
   "metadata": {},
   "source": [
    "## Python Data Cleaning: Recap and Resources\n",
    "\n",
    "In this tutorial, you learned how you can drop unnecessary information from a dataset using the `drop()` function, as well as how to set an index for your dataset so that items in it can be referenced easily.\n",
    "\n",
    "Moreover, you learned how to clean object fields with the `.str()` accessor and how to clean the entire dataset using the `applymap()` method. Lastly, we explored how to skip rows in a CSV file and rename columns using the `rename()` method.\n",
    "\n",
    "Knowing about data cleaning is very important, because it is a big part of data science. You now have a basic understanding of how Pandas and NumPy can be leveraged to clean datasets!\n",
    "\n",
    "Check out the links below to find additional resources that will help you on your Python data science journey:\n",
    "\n",
    "* The Pandas [documentation](https://pandas.pydata.org/pandas-docs/stable/index.html)\n",
    "* The NumPy [documentation](https://docs.scipy.org/doc/numpy/reference/)\n",
    "* [Python for Data Analysis](https://realpython.com/asins/1491957662/) by Wes McKinney, the creator of Pandas\n",
    "* [Pandas Cookbook](https://realpython.com/asins/B06W2LXLQK/) by Ted Petrou, a data science trainer and consultant"
   ]
  },
  {
   "cell_type": "code",
   "execution_count": null,
   "id": "2da594c2-c915-43b7-a936-08cda5752e07",
   "metadata": {},
   "outputs": [],
   "source": []
  }
 ],
 "metadata": {
  "kernelspec": {
   "display_name": "Python 3 (ipykernel)",
   "language": "python",
   "name": "python3"
  },
  "language_info": {
   "codemirror_mode": {
    "name": "ipython",
    "version": 3
   },
   "file_extension": ".py",
   "mimetype": "text/x-python",
   "name": "python",
   "nbconvert_exporter": "python",
   "pygments_lexer": "ipython3",
   "version": "3.9.7"
  }
 },
 "nbformat": 4,
 "nbformat_minor": 5
}
