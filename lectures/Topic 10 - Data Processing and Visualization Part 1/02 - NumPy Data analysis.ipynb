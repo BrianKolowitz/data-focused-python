{
 "cells": [
  {
   "cell_type": "markdown",
   "metadata": {},
   "source": [
    "# NumPy Tutorial: Data analysis with Python\n",
    "[Source](https://www.dataquest.io/blog/numpy-tutorial-python/)\n",
    "\n",
    "NumPy is a commonly used Python data analysis package. By using NumPy, you can speed up your workflow, and interface with other packages in the Python ecosystem, like scikit-learn, that use NumPy under the hood. NumPy was originally developed in the mid 2000s, and arose from an even older package called Numeric. This longevity means that almost every data analysis or machine learning package for Python leverages NumPy in some way.\n",
    "\n",
    "In this tutorial, we'll walk through using NumPy to analyze data on wine quality. The data contains information on various attributes of wines, such as pH and fixed acidity, along with a quality score between 0 and 10 for each wine. The quality score is the average of at least 3 human taste testers. As we learn how to work with NumPy, we'll try to figure out more about the perceived quality of wine.\n",
    "\n",
    "The wines we'll be analyzing are from the Minho region of Portugal."
   ]
  },
  {
   "cell_type": "markdown",
   "metadata": {},
   "source": [
    "The data was downloaded from the UCI Machine Learning Repository, and is available [here](https://archive.ics.uci.edu/ml/datasets/Wine+Quality). Here are the first few rows of the winequality-red.csv file, which we'll be using throughout this tutorial:\n",
    "\n",
    "``` text\n",
    "\"fixed acidity\";\"volatile acidity\";\"citric acid\";\"residual sugar\";\"chlorides\";\"free sulfur dioxide\";\"total sulfur dioxide\";\"density\";\"pH\";\"sulphates\";\"alcohol\";\"quality\"\n",
    "7.4;0.7;0;1.9;0.076;11;34;0.9978;3.51;0.56;9.4;5\n",
    "7.8;0.88;0;2.6;0.098;25;67;0.9968;3.2;0.68;9.8;5\n",
    "```\n",
    "\n",
    "The data is in what I'm going to call ssv (semicolon separated values) format -- each record is separated by a semicolon (;), and rows are separated by a new line. There are 1600 rows in the file, including a header row, and 12 columns.\n",
    "\n",
    "Before we get started, a quick version note -- we'll be using Python 3.5. Our code examples will be done using Jupyter notebook.\n",
    "\n",
    "If you want to jump right into a specific area, here are the topics:\n",
    "* Creating an Array\n",
    "* Reading Text Files\n",
    "* Array Indexing\n",
    "* N-Dimensional Arrays\n",
    "* Data Types\n",
    "* Array Math\n",
    "* Array Methods\n",
    "* Array Comparison and Filtering\n",
    "* Reshaping and Combining Arrays"
   ]
  },
  {
   "cell_type": "markdown",
   "metadata": {},
   "source": [
    "Lists Of Lists for CSV Data\n",
    "Before using NumPy, we'll first try to work with the data using Python and the csv package. We can read in the file using the csv.reader object, which will allow us to read in and split up all the content from the ssv file.\n",
    "\n",
    "In the below code, we:\n",
    "\n",
    "* Import the csv library.\n",
    "* Open the winequality-red.csv file.\n",
    "    * With the file open, create a new csv.reader object.\n",
    "        * Pass in the keyword argument delimiter=\";\" to make sure that the records are split up on the semicolon character instead of the default comma character.\n",
    "    * Call the list type to get all the rows from the file.\n",
    "    * Assign the result to wines."
   ]
  },
  {
   "cell_type": "code",
   "execution_count": 1,
   "metadata": {},
   "outputs": [],
   "source": [
    "import csv\n",
    "\n",
    "with open(\"winequality-red.csv\", 'r') as f:\n",
    "    wines = list(csv.reader(f, delimiter=\";\"))\n",
    "#     print(wines[:3])\n",
    "    \n",
    "headers = wines[0]\n",
    "wines_only = wines[1:]"
   ]
  },
  {
   "cell_type": "code",
   "execution_count": 2,
   "metadata": {},
   "outputs": [
    {
     "name": "stdout",
     "output_type": "stream",
     "text": [
      "['fixed acidity', 'volatile acidity', 'citric acid', 'residual sugar', 'chlorides', 'free sulfur dioxide', 'total sulfur dioxide', 'density', 'pH', 'sulphates', 'alcohol', 'quality']\n"
     ]
    }
   ],
   "source": [
    "# print the headers\n",
    "print(headers)"
   ]
  },
  {
   "cell_type": "code",
   "execution_count": 3,
   "metadata": {},
   "outputs": [
    {
     "name": "stdout",
     "output_type": "stream",
     "text": [
      "['7.4', '0.7', '0', '1.9', '0.076', '11', '34', '0.9978', '3.51', '0.56', '9.4', '5']\n"
     ]
    }
   ],
   "source": [
    "# print the 1st row of data\n",
    "print(wines_only[0])"
   ]
  },
  {
   "cell_type": "code",
   "execution_count": 4,
   "metadata": {},
   "outputs": [
    {
     "name": "stdout",
     "output_type": "stream",
     "text": [
      "[['7.4', '0.7', '0', '1.9', '0.076', '11', '34', '0.9978', '3.51', '0.56', '9.4', '5'], ['7.8', '0.88', '0', '2.6', '0.098', '25', '67', '0.9968', '3.2', '0.68', '9.8', '5'], ['11.2', '0.28', '0.56', '1.9', '0.075', '17', '60', '0.998', '3.16', '0.58', '9.8', '6']]\n"
     ]
    }
   ],
   "source": [
    "# print the 1st three rows of data\n",
    "print(wines_only[:3])"
   ]
  },
  {
   "cell_type": "markdown",
   "metadata": {},
   "source": [
    "The data has been read into a list of lists. Each inner list is a row from the ssv file. As you may have noticed, each item in the entire list of lists is represented as a string, which will make it harder to do computations.\n",
    "\n",
    "As you can see from the table above, we've read in three rows, the first of which contains column headers. Each row after the header row represents a wine. The first element of each row is the fixed acidity, the second is the volatile acidity, and so on. \n",
    "\n",
    "## Calculate Average Wine Quality\n",
    "\n",
    "We can find the average quality of the wines. The below code will:\n",
    "\n",
    "* Extract the last element from each row after the header row.\n",
    "* Convert each extracted element to a float.\n",
    "* Assign all the extracted elements to the list qualities.\n",
    "* Divide the sum of all the elements in qualities by the total number of elements in qualities to the get the mean."
   ]
  },
  {
   "cell_type": "code",
   "execution_count": 5,
   "metadata": {},
   "outputs": [
    {
     "data": {
      "text/plain": [
       "5.636420525657071"
      ]
     },
     "execution_count": 5,
     "metadata": {},
     "output_type": "execute_result"
    }
   ],
   "source": [
    "# calculate average wine quality with a loop\n",
    "qualities = []\n",
    "for row in wines[1:]:\n",
    "    qualities.append(float(row[-1]))\n",
    "\n",
    "sum(qualities) / len(wines[1:])"
   ]
  },
  {
   "cell_type": "code",
   "execution_count": 6,
   "metadata": {},
   "outputs": [
    {
     "data": {
      "text/plain": [
       "5.636420525657071"
      ]
     },
     "execution_count": 6,
     "metadata": {},
     "output_type": "execute_result"
    }
   ],
   "source": [
    "# calculate average wine quality with a list comprehension\n",
    "qualities = [float(row[-1]) for row in wines[1:]]\n",
    "\n",
    "sum(qualities) / len(wines[1:])"
   ]
  },
  {
   "cell_type": "markdown",
   "metadata": {},
   "source": [
    "Although we were able to do the calculation we wanted, the code is fairly complex, and it won't be fun to have to do something similar every time we want to compute a quantity. Luckily, we can use NumPy to make it easier to work with our data."
   ]
  },
  {
   "cell_type": "markdown",
   "metadata": {},
   "source": [
    "# Numpy 2-Dimensional Arrays\n",
    "\n",
    "With NumPy, we work with multidimensional arrays. We'll dive into all of the possible types of multidimensional arrays later on, but for now, we'll focus on 2-dimensional arrays. A 2-dimensional array is also known as a matrix, and is something you should be familiar with. In fact, it's just a different way of thinking about a list of lists. A matrix has rows and columns. By specifying a row number and a column number, we're able to extract an element from a matrix.\n",
    "\n",
    "If we picked the element at the first row and the second column, we'd get volatile acidity. If we picked the element in the third row and the second column, we'd get 0.88.\n",
    "\n",
    "In a NumPy array, the number of dimensions is called the **rank**, and each dimension is called an **axis**. So \n",
    "* the rows are the first axis\n",
    "* the columns are the second axis\n",
    "\n",
    "Now that you understand the basics of matrices, let's see how we can get from our list of lists to a NumPy array."
   ]
  },
  {
   "cell_type": "markdown",
   "metadata": {},
   "source": [
    "## Creating A NumPy Array\n",
    "\n",
    "We can create a NumPy array using the numpy.array function. If we pass in a list of lists, it will automatically create a NumPy array with the same number of rows and columns. Because we want all of the elements in the array to be float elements for easy computation, we'll leave off the header row, which contains strings. One of the limitations of NumPy is that all the elements in an array have to be of the same type, so if we include the header row, all the elements in the array will be read in as strings. Because we want to be able to do computations like find the average quality of the wines, we need the elements to all be floats.\n",
    "\n",
    "In the below code, we:\n",
    "\n",
    "* Import the ```numpy``` package.\n",
    "* Pass the ```list``` of lists wines into the array function, which converts it into a NumPy array.\n",
    "    * Exclude the header row with list slicing.\n",
    "    * Specify the keyword argument ```dtype``` to make sure each element is converted to a ```float```. We'll dive more into what the ```dtype``` is later on."
   ]
  },
  {
   "cell_type": "code",
   "execution_count": 7,
   "metadata": {},
   "outputs": [
    {
     "name": "stderr",
     "output_type": "stream",
     "text": [
      "/var/folders/jd/pq0swyt521jb2424d6fvth840000gn/T/ipykernel_13638/4037387242.py:5: DeprecationWarning: `np.float` is a deprecated alias for the builtin `float`. To silence this warning, use `float` by itself. Doing this will not modify any behavior and is safe. If you specifically wanted the numpy scalar type, use `np.float64` here.\n",
      "Deprecated in NumPy 1.20; for more details and guidance: https://numpy.org/devdocs/release/1.20.0-notes.html#deprecations\n",
      "  wines = np.array(wines[1:], dtype=np.float)\n"
     ]
    }
   ],
   "source": [
    "import numpy as np\n",
    "np.set_printoptions(precision=2) # set the output print precision for readability\n",
    "\n",
    "# create the numpy array skipping the headers\n",
    "wines = np.array(wines[1:], dtype=np.float)"
   ]
  },
  {
   "cell_type": "code",
   "execution_count": 8,
   "metadata": {},
   "outputs": [
    {
     "name": "stdout",
     "output_type": "stream",
     "text": [
      "<class 'numpy.ndarray'> [[ 7.4   0.7   0.   ...  0.56  9.4   5.  ]\n",
      " [ 7.8   0.88  0.   ...  0.68  9.8   5.  ]\n",
      " [11.2   0.28  0.56 ...  0.58  9.8   6.  ]\n",
      " ...\n",
      " [ 6.3   0.51  0.13 ...  0.75 11.    6.  ]\n",
      " [ 5.9   0.65  0.12 ...  0.71 10.2   5.  ]\n",
      " [ 6.    0.31  0.47 ...  0.66 11.    6.  ]]\n"
     ]
    }
   ],
   "source": [
    "# If we display wines, we'll now get a NumPy array:\n",
    "print(type(wines), wines)"
   ]
  },
  {
   "cell_type": "code",
   "execution_count": 9,
   "metadata": {},
   "outputs": [
    {
     "data": {
      "text/plain": [
       "(1598, 12)"
      ]
     },
     "execution_count": 9,
     "metadata": {},
     "output_type": "execute_result"
    }
   ],
   "source": [
    "# We can check the number of rows and columns in our data using the shape property of NumPy arrays:\n",
    "wines.shape"
   ]
  },
  {
   "cell_type": "markdown",
   "metadata": {},
   "source": [
    "## Alternative NumPy Array Creation Methods\n",
    "\n",
    "There are a variety of methods that you can use to create NumPy arrays. It's useful to create an array with all zero elements in cases when you need an array of fixed size, but don't have any values for it yet. To start with, you can create an array where every element is zero. The below code will create an array with 3 rows and 4 columns, where every element is 0, using ```numpy.zeros```:"
   ]
  },
  {
   "cell_type": "code",
   "execution_count": 10,
   "metadata": {},
   "outputs": [
    {
     "data": {
      "text/plain": [
       "array([[0., 0., 0., 0.],\n",
       "       [0., 0., 0., 0.],\n",
       "       [0., 0., 0., 0.]])"
      ]
     },
     "execution_count": 10,
     "metadata": {},
     "output_type": "execute_result"
    }
   ],
   "source": [
    "empty_array = np.zeros((3, 4))\n",
    "empty_array"
   ]
  },
  {
   "cell_type": "markdown",
   "metadata": {},
   "source": [
    "Creating arrays full of random numbers can be useful when you want to quickly test your code with sample arrays. You can also create an array where each element is a random number using ```numpy.random.rand```."
   ]
  },
  {
   "cell_type": "code",
   "execution_count": 11,
   "metadata": {},
   "outputs": [
    {
     "data": {
      "text/plain": [
       "array([[0.63, 0.05, 0.44],\n",
       "       [0.67, 0.3 , 0.26]])"
      ]
     },
     "execution_count": 11,
     "metadata": {},
     "output_type": "execute_result"
    }
   ],
   "source": [
    "np.random.rand(2, 3)"
   ]
  },
  {
   "cell_type": "markdown",
   "metadata": {},
   "source": [
    "### Using NumPy To Read In Files\n",
    "It's possible to use NumPy to directly read ```csv``` or other files into arrays. We can do this using the ```numpy.genfromtxt``` function. We can use it to read in our initial data on red wines.\n",
    "\n",
    "In the below code, we:\n",
    "\n",
    "* Use the ``` genfromtxt ``` function to read in the ``` winequality-red.csv ``` file.\n",
    "* Specify the keyword argument ``` delimiter=\";\" ``` so that the fields are parsed properly.\n",
    "* Specify the keyword argument ``` skip_header=1 ``` so that the header row is skipped."
   ]
  },
  {
   "cell_type": "code",
   "execution_count": 12,
   "metadata": {},
   "outputs": [
    {
     "data": {
      "text/plain": [
       "array([[ 7.4 ,  0.7 ,  0.  , ...,  0.56,  9.4 ,  5.  ],\n",
       "       [ 7.8 ,  0.88,  0.  , ...,  0.68,  9.8 ,  5.  ],\n",
       "       [11.2 ,  0.28,  0.56, ...,  0.58,  9.8 ,  6.  ],\n",
       "       ...,\n",
       "       [ 6.3 ,  0.51,  0.13, ...,  0.75, 11.  ,  6.  ],\n",
       "       [ 5.9 ,  0.65,  0.12, ...,  0.71, 10.2 ,  5.  ],\n",
       "       [ 6.  ,  0.31,  0.47, ...,  0.66, 11.  ,  6.  ]])"
      ]
     },
     "execution_count": 12,
     "metadata": {},
     "output_type": "execute_result"
    }
   ],
   "source": [
    "wines = np.genfromtxt(\"winequality-red.csv\", delimiter=\";\", skip_header=1)\n",
    "wines"
   ]
  },
  {
   "cell_type": "markdown",
   "metadata": {},
   "source": [
    "Wines will end up looking the same as if we read it into a list then converted it to an array of ```floats```. NumPy will automatically pick a data type for the elements in an array based on their format."
   ]
  },
  {
   "cell_type": "markdown",
   "metadata": {},
   "source": [
    "## Indexing NumPy Arrays\n",
    "\n",
    "We now know how to create arrays, but unless we can retrieve results from them, there isn't a lot we can do with NumPy. We can use array indexing to select individual elements, groups of elements, or entire rows and columns. \n",
    "\n",
    "One important thing to keep in mind is that just like Python lists, NumPy is **zero-indexed**, meaning that:\n",
    "\n",
    "* The index of the first row is 0\n",
    "* The index of the first column is 0 \n",
    "* If we want to work with the fourth row, we'd use index 3\n",
    "* If we want to work with the second row, we'd use index 1, and so on. \n",
    "\n",
    "We'll again work with the wines array:\n",
    "\n",
    "|||||||||||||\n",
    "|-:|-:|-:|-:|-:|-:|-:|-:|-:|-:|-:|-:|\n",
    "|7.4 |0.70\t|0.00\t|1.9\t|0.076\t|11\t|34\t|0.9978\t|3.51\t|0.56\t|9.4\t|5|\n",
    "|7.8 |0.88\t|0.00\t|2.6\t|0.098\t|25\t|67\t|0.9968\t|3.20\t|0.68\t|9.8\t|5|\n",
    "|7.8 |0.76\t|0.04\t|2.3\t|0.092\t|15\t|54\t|0.9970\t|3.26\t|0.65\t|9.8\t|5|\n",
    "|11.2|0.28\t|0.56\t|1.9\t|0.075\t|17\t|60\t|0.9980\t|3.16\t|0.58\t|9.8\t|6|\n",
    "|7.4 |0.70\t|0.00\t|1.9\t|0.076\t|11\t|34\t|0.9978\t|3.51\t|0.56\t|9.4\t|5|"
   ]
  },
  {
   "cell_type": "markdown",
   "metadata": {},
   "source": [
    "Let's select the element at **row 3** and **column 4**.\n",
    "\n",
    "We pass:\n",
    "* 2 as the row index\n",
    "* 3 as the column index. \n",
    "\n",
    "This retrieves the value from the **third row** and **fourth column**"
   ]
  },
  {
   "cell_type": "code",
   "execution_count": 13,
   "metadata": {},
   "outputs": [
    {
     "data": {
      "text/plain": [
       "1.9"
      ]
     },
     "execution_count": 13,
     "metadata": {},
     "output_type": "execute_result"
    }
   ],
   "source": [
    "wines[2, 3]"
   ]
  },
  {
   "cell_type": "code",
   "execution_count": 14,
   "metadata": {},
   "outputs": [
    {
     "data": {
      "text/plain": [
       "1.9"
      ]
     },
     "execution_count": 14,
     "metadata": {},
     "output_type": "execute_result"
    }
   ],
   "source": [
    "wines[2][3]"
   ]
  },
  {
   "cell_type": "markdown",
   "metadata": {},
   "source": [
    "Since we're working with a 2-dimensional array in NumPy we specify 2 indexes to retrieve an element. \n",
    "\n",
    "* The first index is the row, or **axis 1**, index\n",
    "* The second index is the column, or **axis 2**, index \n",
    "\n",
    "Any element in wines can be retrieved using 2 indexes."
   ]
  },
  {
   "cell_type": "code",
   "execution_count": 15,
   "metadata": {},
   "outputs": [
    {
     "data": {
      "text/plain": [
       "array([1.9, 2.6, 1.9])"
      ]
     },
     "execution_count": 15,
     "metadata": {},
     "output_type": "execute_result"
    }
   ],
   "source": [
    "# rows 1, 2, 3 and column 4\n",
    "wines[0:3, 3]"
   ]
  },
  {
   "cell_type": "code",
   "execution_count": 16,
   "metadata": {},
   "outputs": [
    {
     "data": {
      "text/plain": [
       "array([0.  , 0.  , 0.56, ..., 0.13, 0.12, 0.47])"
      ]
     },
     "execution_count": 16,
     "metadata": {},
     "output_type": "execute_result"
    }
   ],
   "source": [
    "# all rows and column 3\n",
    "wines[:, 2]"
   ]
  },
  {
   "cell_type": "markdown",
   "metadata": {},
   "source": [
    "Just like with ```list``` slicing, it's possible to omit the 0 to just retrieve all the elements from the beginning up to element 3:"
   ]
  },
  {
   "cell_type": "code",
   "execution_count": 17,
   "metadata": {},
   "outputs": [
    {
     "data": {
      "text/plain": [
       "array([1.9, 2.6, 1.9])"
      ]
     },
     "execution_count": 17,
     "metadata": {},
     "output_type": "execute_result"
    }
   ],
   "source": [
    "# rows 1, 2, 3 and column 4\n",
    "wines[:3, 3]"
   ]
  },
  {
   "cell_type": "markdown",
   "metadata": {},
   "source": [
    "We can select an entire column by specifying that we want all the elements, from the first to the last. We specify this by just using the colon ```:```, with no starting or ending indices. The below code will select the entire fourth column:"
   ]
  },
  {
   "cell_type": "code",
   "execution_count": 18,
   "metadata": {},
   "outputs": [
    {
     "data": {
      "text/plain": [
       "array([1.9, 2.6, 1.9, ..., 2.3, 2. , 3.6])"
      ]
     },
     "execution_count": 18,
     "metadata": {},
     "output_type": "execute_result"
    }
   ],
   "source": [
    "# all rows and column 4\n",
    "wines[:, 3]"
   ]
  },
  {
   "cell_type": "markdown",
   "metadata": {},
   "source": [
    "We selected an entire column above, but we can also extract an entire row:"
   ]
  },
  {
   "cell_type": "code",
   "execution_count": 19,
   "metadata": {},
   "outputs": [
    {
     "data": {
      "text/plain": [
       "array([ 7.4 ,  0.7 ,  0.  ,  1.9 ,  0.08, 11.  , 34.  ,  1.  ,  3.51,\n",
       "        0.56,  9.4 ,  5.  ])"
      ]
     },
     "execution_count": 19,
     "metadata": {},
     "output_type": "execute_result"
    }
   ],
   "source": [
    "# row 4 and all columns\n",
    "wines[3, :]"
   ]
  },
  {
   "cell_type": "markdown",
   "metadata": {},
   "source": [
    "If we take our indexing to the extreme, we can select the entire array using two colons to select all the rows and columns in wines. This is a great party trick, but doesn't have a lot of good applications:"
   ]
  },
  {
   "cell_type": "code",
   "execution_count": 20,
   "metadata": {},
   "outputs": [
    {
     "data": {
      "text/plain": [
       "array([[ 7.4 ,  0.7 ,  0.  , ...,  0.56,  9.4 ,  5.  ],\n",
       "       [ 7.8 ,  0.88,  0.  , ...,  0.68,  9.8 ,  5.  ],\n",
       "       [11.2 ,  0.28,  0.56, ...,  0.58,  9.8 ,  6.  ],\n",
       "       ...,\n",
       "       [ 6.3 ,  0.51,  0.13, ...,  0.75, 11.  ,  6.  ],\n",
       "       [ 5.9 ,  0.65,  0.12, ...,  0.71, 10.2 ,  5.  ],\n",
       "       [ 6.  ,  0.31,  0.47, ...,  0.66, 11.  ,  6.  ]])"
      ]
     },
     "execution_count": 20,
     "metadata": {},
     "output_type": "execute_result"
    }
   ],
   "source": [
    "wines[:, :]"
   ]
  },
  {
   "cell_type": "markdown",
   "metadata": {},
   "source": [
    "## Assigning Values To NumPy Arrays\n",
    "We can also use indexing to assign values to certain elements in arrays. We can do this by assigning directly to the indexed value:"
   ]
  },
  {
   "cell_type": "code",
   "execution_count": 21,
   "metadata": {},
   "outputs": [
    {
     "name": "stdout",
     "output_type": "stream",
     "text": [
      "Before [ 0.1 25.  67. ]\n",
      "After [ 0.1 10.  67. ]\n"
     ]
    }
   ],
   "source": [
    "# assign the value of 10 to the 2nd row and 6th column\n",
    "print('Before', wines[1, 4:7])\n",
    "wines[1, 5] = 10\n",
    "print('After', wines[1, 4:7])"
   ]
  },
  {
   "cell_type": "markdown",
   "metadata": {},
   "source": [
    "We can do the same for slices. To overwrite an entire column, we can do this:"
   ]
  },
  {
   "cell_type": "code",
   "execution_count": 22,
   "metadata": {},
   "outputs": [
    {
     "name": "stdout",
     "output_type": "stream",
     "text": [
      "Before [[ 0.56  9.4   5.  ]\n",
      " [ 0.68  9.8   5.  ]\n",
      " [ 0.58  9.8   6.  ]\n",
      " ...\n",
      " [ 0.75 11.    6.  ]\n",
      " [ 0.71 10.2   5.  ]\n",
      " [ 0.66 11.    6.  ]]\n",
      "After [[ 0.56 50.    5.  ]\n",
      " [ 0.68 50.    5.  ]\n",
      " [ 0.58 50.    6.  ]\n",
      " ...\n",
      " [ 0.75 50.    6.  ]\n",
      " [ 0.71 50.    5.  ]\n",
      " [ 0.66 50.    6.  ]]\n"
     ]
    }
   ],
   "source": [
    "# Overwrites all the values in the eleventh column with 50.\n",
    "print('Before', wines[:, 9:12])\n",
    "wines[:, 10] = 50\n",
    "print('After', wines[:, 9:12])"
   ]
  },
  {
   "cell_type": "markdown",
   "metadata": {},
   "source": [
    "## 1-Dimensional NumPy Arrays\n",
    "\n",
    "So far, we've worked with 2-dimensional arrays, such as wines. However, NumPy is a package for working with multidimensional arrays. \n",
    "\n",
    "One of the most common types of multidimensional arrays is the **1-dimensional array**, or **vector**. As you may have noticed above, when we sliced wines, we retrieved a 1-dimensional array. \n",
    "\n",
    "* A 1-dimensional array only needs a single index to retrieve an element. \n",
    "* Each row and column in a 2-dimensional array is a 1-dimensional array. \n",
    "\n",
    "Just like a list of lists is analogous to a 2-dimensional array, a single list is analogous to a 1-dimensional array. \n",
    "\n",
    "If we slice wines and only retrieve the third row, we get a 1-dimensional array:"
   ]
  },
  {
   "cell_type": "code",
   "execution_count": 23,
   "metadata": {},
   "outputs": [
    {
     "data": {
      "text/plain": [
       "array([ 7.4 ,  0.7 ,  0.  ,  1.9 ,  0.08, 11.  , 34.  ,  1.  ,  3.51,\n",
       "        0.56, 50.  ,  5.  ])"
      ]
     },
     "execution_count": 23,
     "metadata": {},
     "output_type": "execute_result"
    }
   ],
   "source": [
    "third_wine = wines[3,:]\n",
    "third_wine"
   ]
  },
  {
   "cell_type": "markdown",
   "metadata": {},
   "source": [
    "We can retrieve individual elements from ```third_wine``` using a single index. "
   ]
  },
  {
   "cell_type": "code",
   "execution_count": 24,
   "metadata": {},
   "outputs": [
    {
     "data": {
      "text/plain": [
       "0.7"
      ]
     },
     "execution_count": 24,
     "metadata": {},
     "output_type": "execute_result"
    }
   ],
   "source": [
    "# display the second item in third_wine\n",
    "third_wine[1]"
   ]
  },
  {
   "cell_type": "markdown",
   "metadata": {},
   "source": [
    "Most NumPy functions that we've worked with, such as ```numpy.random.rand```, can be used with multidimensional arrays. Here's how we'd use ```numpy.random.rand``` to generate a random vector:"
   ]
  },
  {
   "cell_type": "code",
   "execution_count": 25,
   "metadata": {},
   "outputs": [
    {
     "data": {
      "text/plain": [
       "array([0.04, 0.38, 0.08])"
      ]
     },
     "execution_count": 25,
     "metadata": {},
     "output_type": "execute_result"
    }
   ],
   "source": [
    "np.random.rand(3)"
   ]
  },
  {
   "cell_type": "markdown",
   "metadata": {},
   "source": [
    "Previously, when we called ```np.random.rand```, we passed in a shape for a 2-dimensional array, so the result was a 2-dimensional array. This time, we passed in a shape for a single dimensional array. The shape specifies the number of dimensions, and the size of the array in each dimension. \n",
    "\n",
    "A shape of ```(10,10)``` will be a 2-dimensional array with **10 rows** and **10 columns**. A shape of ```(10,)``` will be a **1-dimensional** array with **10 elements**.\n",
    "\n",
    "Where NumPy gets more complex is when we start to deal with arrays that have more than 2 dimensions."
   ]
  },
  {
   "cell_type": "markdown",
   "metadata": {},
   "source": [
    "## N-Dimensional NumPy Arrays\n",
    "\n",
    "This doesn't happen extremely often, but there are cases when you'll want to deal with arrays that have greater than 3 dimensions. One way to think of this is as a list of lists of lists. Let's say we want to store the monthly earnings of a store, but we want to be able to quickly lookup the results for a quarter, and for a year. The earnings for one year might look like this:\n",
    "\n",
    "``` python\n",
    "[500, 505, 490, 810, 450, 678, 234, 897, 430, 560, 1023, 640]\n",
    "```\n",
    "\n",
    "The store earned \\$500 in January, \\$505 in February, and so on. We can split up these earnings by quarter into a list of lists:"
   ]
  },
  {
   "cell_type": "code",
   "execution_count": 26,
   "metadata": {},
   "outputs": [],
   "source": [
    "year_one = [\n",
    "    [500,505,490], # 1st quarter\n",
    "    [810,450,678], # 2nd quarter\n",
    "    [234,897,430], # 3rd quarter\n",
    "    [560,1023,640] # 4th quarter\n",
    "]"
   ]
  },
  {
   "cell_type": "markdown",
   "metadata": {},
   "source": [
    "We can retrieve the earnings from January by calling ``` year_one[0][0] ```. If we want the results for a whole quarter, we can call ``` year_one[0] ``` or ``` year_one[1] ```. \n",
    "\n",
    "We now have a 2-dimensional array, or matrix. But what if we now want to add the results from another year? We have to add a third dimension:"
   ]
  },
  {
   "cell_type": "code",
   "execution_count": 27,
   "metadata": {},
   "outputs": [],
   "source": [
    "earnings = [\n",
    "            [ # year 1\n",
    "                [500,505,490], # year 1, 1st quarter\n",
    "                [810,450,678], # year 1, 2nd quarter\n",
    "                [234,897,430], # year 1, 3rd quarter\n",
    "                [560,1023,640] # year 1, 4th quarter\n",
    "            ],\n",
    "            [ # year =2\n",
    "                [600,605,490], # year 2, 1st quarter\n",
    "                [345,900,1000],# year 2, 2nd quarter\n",
    "                [780,730,710], # year 2, 3rd quarter\n",
    "                [670,540,324]  # year 2, 4th quarter\n",
    "            ]\n",
    "          ]"
   ]
  },
  {
   "cell_type": "markdown",
   "metadata": {},
   "source": [
    "We can retrieve the earnings from January of the first year by calling ``` earnings[0][0][0] ```. \n",
    "\n",
    "We now need three indexes to retrieve a single element. A three-dimensional array in NumPy is much the same. In fact, we can convert earnings to an array and then get the earnings for January of the first year:"
   ]
  },
  {
   "cell_type": "code",
   "execution_count": 28,
   "metadata": {},
   "outputs": [],
   "source": [
    "earnings = np.array(earnings)"
   ]
  },
  {
   "cell_type": "code",
   "execution_count": 29,
   "metadata": {},
   "outputs": [
    {
     "data": {
      "text/plain": [
       "500"
      ]
     },
     "execution_count": 29,
     "metadata": {},
     "output_type": "execute_result"
    }
   ],
   "source": [
    "# year 1, 1st quarter, 1st month (January)\n",
    "earnings[0,0,0] "
   ]
  },
  {
   "cell_type": "code",
   "execution_count": 30,
   "metadata": {},
   "outputs": [
    {
     "data": {
      "text/plain": [
       "780"
      ]
     },
     "execution_count": 30,
     "metadata": {},
     "output_type": "execute_result"
    }
   ],
   "source": [
    "# year 2, 3rd quarter, 1st month (July)\n",
    "earnings[1,2,0] "
   ]
  },
  {
   "cell_type": "code",
   "execution_count": 31,
   "metadata": {},
   "outputs": [
    {
     "data": {
      "text/plain": [
       "(2, 4, 3)"
      ]
     },
     "execution_count": 31,
     "metadata": {},
     "output_type": "execute_result"
    }
   ],
   "source": [
    "# we can also find the shape of the array\n",
    "earnings.shape"
   ]
  },
  {
   "cell_type": "markdown",
   "metadata": {},
   "source": [
    "Indexing and slicing work the exact same way with a 3-dimensional array, but now we have an extra axis to pass in. If we wanted to get the earnings for **January of all years**, we could do this:"
   ]
  },
  {
   "cell_type": "code",
   "execution_count": 32,
   "metadata": {},
   "outputs": [
    {
     "data": {
      "text/plain": [
       "array([500, 600])"
      ]
     },
     "execution_count": 32,
     "metadata": {},
     "output_type": "execute_result"
    }
   ],
   "source": [
    "# all years, 1st quarter, 1st month (January)\n",
    "earnings[:,0,0]"
   ]
  },
  {
   "cell_type": "markdown",
   "metadata": {},
   "source": [
    "If we wanted to get first quarter earnings from both years, we could do this:"
   ]
  },
  {
   "cell_type": "code",
   "execution_count": 33,
   "metadata": {},
   "outputs": [
    {
     "data": {
      "text/plain": [
       "array([[500, 505, 490],\n",
       "       [600, 605, 490]])"
      ]
     },
     "execution_count": 33,
     "metadata": {},
     "output_type": "execute_result"
    }
   ],
   "source": [
    "# all years, 1st quarter, all months (January, February, March)\n",
    "earnings[:,0,:]"
   ]
  },
  {
   "cell_type": "markdown",
   "metadata": {},
   "source": [
    "Adding more dimensions can make it much easier to query your data if it's organized in a certain way. As we go from 3-dimensional arrays to 4-dimensional and larger arrays, the same properties apply, and they can be indexed and sliced in the same ways."
   ]
  },
  {
   "cell_type": "markdown",
   "metadata": {},
   "source": [
    "## NumPy Data Types\n",
    "\n",
    "As we mentioned earlier, each NumPy array can store elements of a single data type. For example, wines contains only float values. \n",
    "\n",
    "NumPy stores values using its own data types, **which are distinct from Python types** like ```float``` and ```str```. \n",
    "\n",
    "This is because the core of NumPy is written in a programming language called ```C```, **which stores data differently than the Python data types**. NumPy data types map between Python and C, allowing us to use NumPy arrays without any conversion hitches.\n",
    "\n",
    "You can find the data type of a NumPy array by accessing the dtype property:"
   ]
  },
  {
   "cell_type": "code",
   "execution_count": 34,
   "metadata": {},
   "outputs": [
    {
     "data": {
      "text/plain": [
       "dtype('float64')"
      ]
     },
     "execution_count": 34,
     "metadata": {},
     "output_type": "execute_result"
    }
   ],
   "source": [
    "wines.dtype"
   ]
  },
  {
   "cell_type": "markdown",
   "metadata": {},
   "source": [
    "NumPy has several different data types, which mostly map to Python data types, like ```float```, and ```str```. You can find a full listing of NumPy data types [here](https://www.dataquest.io/blog/numpy-tutorial-python/), but here are a few important ones:\n",
    "\n",
    "* ```float``` -- numeric floating point data.\n",
    "* ```int``` -- integer data.\n",
    "* ```string``` -- character data.\n",
    "* ```object``` -- Python objects.\n",
    "\n",
    "Data types additionally end with a suffix that indicates how many bits of memory they take up. So ```int32``` is a **32 bit integer data type**, and ```float64``` is a **64 bit float data type**."
   ]
  },
  {
   "cell_type": "markdown",
   "metadata": {},
   "source": [
    "### Converting Data Types\n",
    "\n",
    "You can use the numpy.ndarray.astype method to convert an array to a different type. The method will actually **copy the array**, and **return a new array with the specified data type**. \n",
    "\n",
    "For instance, we can convert wines to the ```int``` data type:"
   ]
  },
  {
   "cell_type": "code",
   "execution_count": 35,
   "metadata": {},
   "outputs": [
    {
     "data": {
      "text/plain": [
       "array([[ 7,  0,  0, ...,  0, 50,  5],\n",
       "       [ 7,  0,  0, ...,  0, 50,  5],\n",
       "       [11,  0,  0, ...,  0, 50,  6],\n",
       "       ...,\n",
       "       [ 6,  0,  0, ...,  0, 50,  6],\n",
       "       [ 5,  0,  0, ...,  0, 50,  5],\n",
       "       [ 6,  0,  0, ...,  0, 50,  6]])"
      ]
     },
     "execution_count": 35,
     "metadata": {},
     "output_type": "execute_result"
    }
   ],
   "source": [
    "# convert wines to the int data type\n",
    "wines.astype(int)"
   ]
  },
  {
   "cell_type": "markdown",
   "metadata": {},
   "source": [
    "As you can see above, all of the items in the resulting array are integers. Note that we used the Python ```int``` type instead of a NumPy data type when converting wines. This is because several Python data types, including ```float```, ```int```, and ```string```, can be used with NumPy, and are automatically converted to NumPy data types.\n",
    "\n",
    "We can check the name property of the ```dtype``` of the resulting array to see what data type NumPy mapped the resulting array to:"
   ]
  },
  {
   "cell_type": "code",
   "execution_count": 36,
   "metadata": {},
   "outputs": [
    {
     "data": {
      "text/plain": [
       "'int64'"
      ]
     },
     "execution_count": 36,
     "metadata": {},
     "output_type": "execute_result"
    }
   ],
   "source": [
    "# convert to int\n",
    "int_wines = wines.astype(int)\n",
    "\n",
    "# check the data type\n",
    "int_wines.dtype.name"
   ]
  },
  {
   "cell_type": "markdown",
   "metadata": {},
   "source": [
    "The array has been converted to a **64-bit integer** data type. This allows for very long integer values, **but takes up more space in memory** than storing the values as 32-bit integers.\n",
    "\n",
    "If you want more control over how the array is stored in memory, you can directly create NumPy dtype objects like ```numpy.int32```"
   ]
  },
  {
   "cell_type": "code",
   "execution_count": 37,
   "metadata": {},
   "outputs": [
    {
     "data": {
      "text/plain": [
       "numpy.int32"
      ]
     },
     "execution_count": 37,
     "metadata": {},
     "output_type": "execute_result"
    }
   ],
   "source": [
    "np.int32"
   ]
  },
  {
   "cell_type": "markdown",
   "metadata": {},
   "source": [
    "You can use these directly to convert between types:"
   ]
  },
  {
   "cell_type": "code",
   "execution_count": 38,
   "metadata": {},
   "outputs": [
    {
     "data": {
      "text/plain": [
       "array([[ 7,  0,  0, ...,  0, 50,  5],\n",
       "       [ 7,  0,  0, ...,  0, 50,  5],\n",
       "       [11,  0,  0, ...,  0, 50,  6],\n",
       "       ...,\n",
       "       [ 6,  0,  0, ...,  0, 50,  6],\n",
       "       [ 5,  0,  0, ...,  0, 50,  5],\n",
       "       [ 6,  0,  0, ...,  0, 50,  6]])"
      ]
     },
     "execution_count": 38,
     "metadata": {},
     "output_type": "execute_result"
    }
   ],
   "source": [
    "# convert to a 64-bit integer\n",
    "wines.astype(np.int64)"
   ]
  },
  {
   "cell_type": "code",
   "execution_count": 39,
   "metadata": {},
   "outputs": [
    {
     "data": {
      "text/plain": [
       "array([[ 7,  0,  0, ...,  0, 50,  5],\n",
       "       [ 7,  0,  0, ...,  0, 50,  5],\n",
       "       [11,  0,  0, ...,  0, 50,  6],\n",
       "       ...,\n",
       "       [ 6,  0,  0, ...,  0, 50,  6],\n",
       "       [ 5,  0,  0, ...,  0, 50,  5],\n",
       "       [ 6,  0,  0, ...,  0, 50,  6]], dtype=int32)"
      ]
     },
     "execution_count": 39,
     "metadata": {},
     "output_type": "execute_result"
    }
   ],
   "source": [
    "# convert to a 32-bit integer\n",
    "wines.astype(np.int32)"
   ]
  },
  {
   "cell_type": "code",
   "execution_count": 40,
   "metadata": {},
   "outputs": [
    {
     "data": {
      "text/plain": [
       "array([[ 7,  0,  0, ...,  0, 50,  5],\n",
       "       [ 7,  0,  0, ...,  0, 50,  5],\n",
       "       [11,  0,  0, ...,  0, 50,  6],\n",
       "       ...,\n",
       "       [ 6,  0,  0, ...,  0, 50,  6],\n",
       "       [ 5,  0,  0, ...,  0, 50,  5],\n",
       "       [ 6,  0,  0, ...,  0, 50,  6]], dtype=int16)"
      ]
     },
     "execution_count": 40,
     "metadata": {},
     "output_type": "execute_result"
    }
   ],
   "source": [
    "# convert to a 16-bit integer\n",
    "wines.astype(np.int16)"
   ]
  },
  {
   "cell_type": "code",
   "execution_count": 41,
   "metadata": {},
   "outputs": [
    {
     "data": {
      "text/plain": [
       "array([[ 7,  0,  0, ...,  0, 50,  5],\n",
       "       [ 7,  0,  0, ...,  0, 50,  5],\n",
       "       [11,  0,  0, ...,  0, 50,  6],\n",
       "       ...,\n",
       "       [ 6,  0,  0, ...,  0, 50,  6],\n",
       "       [ 5,  0,  0, ...,  0, 50,  5],\n",
       "       [ 6,  0,  0, ...,  0, 50,  6]], dtype=int8)"
      ]
     },
     "execution_count": 41,
     "metadata": {},
     "output_type": "execute_result"
    }
   ],
   "source": [
    "# convert to a 8-bit integer\n",
    "wines.astype(np.int8)"
   ]
  },
  {
   "cell_type": "markdown",
   "metadata": {},
   "source": [
    "## NumPy Array Operations\n",
    "\n",
    "NumPy makes it simple to perform mathematical operations on arrays. This is one of the primary advantages of NumPy, and makes it quite easy to do computations.\n",
    "\n",
    "### Single Array Math\n",
    "If you do any of the basic mathematical operations ```/```, ```*```, ```-```, ```+```, ```^``` with an array and a value, it will apply the operation to each of the elements in the array.\n",
    "\n",
    "Let's say we want to add 10 points to each quality score because we're feeling generous. Here's how we'd do that:"
   ]
  },
  {
   "cell_type": "code",
   "execution_count": 42,
   "metadata": {},
   "outputs": [
    {
     "data": {
      "text/plain": [
       "array([15., 15., 16., ..., 16., 15., 16.])"
      ]
     },
     "execution_count": 42,
     "metadata": {},
     "output_type": "execute_result"
    }
   ],
   "source": [
    "# add 10 points to the quality score\n",
    "wines[:,-1] + 10"
   ]
  },
  {
   "cell_type": "markdown",
   "metadata": {},
   "source": [
    "*Note: that the above operation won't change the wines array -- it will return a new 1-dimensional array where 10 has been added to each element in the quality column of wines.*\n",
    "\n",
    "If we instead did ```+=```, we'd modify the array in place:"
   ]
  },
  {
   "cell_type": "code",
   "execution_count": 43,
   "metadata": {},
   "outputs": [
    {
     "name": "stdout",
     "output_type": "stream",
     "text": [
      "Before [5. 5. 6. ... 6. 5. 6.]\n",
      "After [15. 15. 16. ... 16. 15. 16.]\n"
     ]
    }
   ],
   "source": [
    "print('Before', wines[:,11])\n",
    "\n",
    "# modify the data in place\n",
    "wines[:,11] += 10\n",
    "\n",
    "print('After', wines[:,11])"
   ]
  },
  {
   "cell_type": "markdown",
   "metadata": {},
   "source": [
    "All the other operations work the same way. For example, if we want to multiply each of the quality score by 2, we could do it like this:"
   ]
  },
  {
   "cell_type": "code",
   "execution_count": 44,
   "metadata": {},
   "outputs": [
    {
     "data": {
      "text/plain": [
       "array([30., 30., 32., ..., 32., 30., 32.])"
      ]
     },
     "execution_count": 44,
     "metadata": {},
     "output_type": "execute_result"
    }
   ],
   "source": [
    "# multiply the quality score by 2\n",
    "wines[:,11] * 2"
   ]
  },
  {
   "cell_type": "markdown",
   "metadata": {},
   "source": [
    "### Multiple Array Math\n",
    "\n",
    "It's also possible to do mathematical operations between arrays. This will apply the operation to pairs of elements. For example, if we add the quality column to itself, here's what we get:"
   ]
  },
  {
   "cell_type": "code",
   "execution_count": 45,
   "metadata": {},
   "outputs": [
    {
     "data": {
      "text/plain": [
       "array([30., 30., 32., ..., 32., 30., 32.])"
      ]
     },
     "execution_count": 45,
     "metadata": {},
     "output_type": "execute_result"
    }
   ],
   "source": [
    "# add the quality column to itself\n",
    "wines[:,11] + wines[:,11]"
   ]
  },
  {
   "cell_type": "markdown",
   "metadata": {},
   "source": [
    "Note that this is equivalent to ```wines[:,11] * 2``` -- this is because NumPy adds each pair of elements. The first element in the first array is added to the first element in the second array, the second to the second, and so on."
   ]
  },
  {
   "cell_type": "code",
   "execution_count": 46,
   "metadata": {},
   "outputs": [
    {
     "data": {
      "text/plain": [
       "array([30., 30., 32., ..., 32., 30., 32.])"
      ]
     },
     "execution_count": 46,
     "metadata": {},
     "output_type": "execute_result"
    }
   ],
   "source": [
    "# add the quality column to itself\n",
    "wines[:,11] * 2"
   ]
  },
  {
   "cell_type": "markdown",
   "metadata": {},
   "source": [
    "We can also use this to multiply arrays. Let's say we want to pick a wine that maximizes alcohol content and quality. We'd multiply alcohol by quality, and select the wine with the highest score:"
   ]
  },
  {
   "cell_type": "code",
   "execution_count": 47,
   "metadata": {},
   "outputs": [
    {
     "name": "stdout",
     "output_type": "stream",
     "text": [
      "[750. 750. 800. ... 800. 750. 800.]\n"
     ]
    }
   ],
   "source": [
    "# multiply alcohol content by quality\n",
    "alcohol_by_quality = wines[:,10] * wines[:,11]\n",
    "print(alcohol_by_quality)"
   ]
  },
  {
   "cell_type": "code",
   "execution_count": 48,
   "metadata": {},
   "outputs": [
    {
     "name": "stdout",
     "output_type": "stream",
     "text": [
      "[650. 650. 650. ... 900. 900. 900.] 900.0\n"
     ]
    }
   ],
   "source": [
    "alcohol_by_quality.sort()\n",
    "print(alcohol_by_quality, alcohol_by_quality[-1])"
   ]
  },
  {
   "cell_type": "markdown",
   "metadata": {},
   "source": [
    "All of the common operations ```/```, ```*```, ```-```, ```+```, ```^``` will work between arrays."
   ]
  },
  {
   "cell_type": "markdown",
   "metadata": {},
   "source": [
    "## NumPy Array Methods\n",
    "\n",
    "In addition to the common mathematical operations, NumPy also has several methods that you can use for more complex calculations on arrays. An example of this is the ```numpy.ndarray.sum``` method. This finds the sum of all the elements in an array by default:"
   ]
  },
  {
   "cell_type": "code",
   "execution_count": 49,
   "metadata": {},
   "outputs": [
    {
     "name": "stdout",
     "output_type": "stream",
     "text": [
      "24987.0\n"
     ]
    }
   ],
   "source": [
    "# find the sum of all rows and the quality column\n",
    "total = 0\n",
    "for row in wines:\n",
    "    total += row[11]\n",
    "print(total)"
   ]
  },
  {
   "cell_type": "code",
   "execution_count": 50,
   "metadata": {},
   "outputs": [
    {
     "data": {
      "text/plain": [
       "24987.0"
      ]
     },
     "execution_count": 50,
     "metadata": {},
     "output_type": "execute_result"
    }
   ],
   "source": [
    "# find the sum of all rows and the quality column\n",
    "wines[:,11].sum(axis=0)"
   ]
  },
  {
   "cell_type": "code",
   "execution_count": 51,
   "metadata": {},
   "outputs": [
    {
     "name": "stdout",
     "output_type": "stream",
     "text": [
      "[125.1438, 158.2548, 161.753]\n"
     ]
    }
   ],
   "source": [
    "# find the sum of the rows 1, 2, and 3 across all columns\n",
    "totals = []\n",
    "for i in range(3):\n",
    "    total = 0\n",
    "    for col in wines[i,:]:\n",
    "        total += col\n",
    "    totals.append(total)\n",
    "print(totals)"
   ]
  },
  {
   "cell_type": "code",
   "execution_count": 52,
   "metadata": {},
   "outputs": [
    {
     "data": {
      "text/plain": [
       "array([125.14, 158.25, 161.75])"
      ]
     },
     "execution_count": 52,
     "metadata": {},
     "output_type": "execute_result"
    }
   ],
   "source": [
    "# find the sum of the rows 1, 2, and 3 across all columns\n",
    "wines[0:3,:].sum(axis=1)"
   ]
  },
  {
   "cell_type": "markdown",
   "metadata": {},
   "source": [
    "We can pass the ```axis``` keyword argument into the sum method to find sums over an axis. \n",
    "\n",
    "If we call sum across the wines matrix, and pass in ```axis=0```, we'll find the sums over the first axis of the array. This will give us the **sum of all the values in every column**. \n",
    "\n",
    "This may seem backwards that the sums over the first axis would give us the sum of each column, but one way to think about this is that **the specified axis is the one \"going away\"**. \n",
    "\n",
    "So if we specify ```axis=0```, we want the **rows to go away**, and we want to find **the sums for each of the remaining axes across each row**:"
   ]
  },
  {
   "cell_type": "code",
   "execution_count": 53,
   "metadata": {},
   "outputs": [
    {
     "name": "stdout",
     "output_type": "stream",
     "text": [
      "[13295.300000000045, 843.2250000000005, 433.2499999999982, 4057.2500000000027, 139.76699999999963, 25354.0, 74248.0, 1592.8009399999985, 5291.210000000001, 1051.7300000000007, 79900.0, 24987.0]\n"
     ]
    }
   ],
   "source": [
    "# sum each column for all rows\n",
    "totals = [0] * len(wines[0])\n",
    "for i, total in enumerate(totals):\n",
    "    for row_val in wines[:,i]:\n",
    "        total += row_val\n",
    "    totals[i] = total\n",
    "print(totals)"
   ]
  },
  {
   "cell_type": "code",
   "execution_count": 54,
   "metadata": {},
   "outputs": [
    {
     "data": {
      "text/plain": [
       "array([13295.3 ,   843.23,   433.25,  4057.25,   139.77, 25354.  ,\n",
       "       74248.  ,  1592.8 ,  5291.21,  1051.73, 79900.  , 24987.  ])"
      ]
     },
     "execution_count": 54,
     "metadata": {},
     "output_type": "execute_result"
    }
   ],
   "source": [
    "# sum each column for all rows\n",
    "wines.sum(axis=0)"
   ]
  },
  {
   "cell_type": "markdown",
   "metadata": {},
   "source": [
    "We can verify that we did the sum correctly by checking the shape. The shape should be 12, corresponding to the number of columns:"
   ]
  },
  {
   "cell_type": "code",
   "execution_count": 55,
   "metadata": {},
   "outputs": [
    {
     "data": {
      "text/plain": [
       "(12,)"
      ]
     },
     "execution_count": 55,
     "metadata": {},
     "output_type": "execute_result"
    }
   ],
   "source": [
    "wines.sum(axis=0).shape"
   ]
  },
  {
   "cell_type": "markdown",
   "metadata": {},
   "source": [
    "If we pass in axis=1, we'll find the sums over the second axis of the array. This will give us the sum of each row:"
   ]
  },
  {
   "cell_type": "code",
   "execution_count": 56,
   "metadata": {},
   "outputs": [
    {
     "name": "stdout",
     "output_type": "stream",
     "text": [
      "[125.1438, 158.2548, 161.753] ... [149.48174, 155.01547, 141.49249]\n"
     ]
    }
   ],
   "source": [
    "# sum each row for all columns\n",
    "totals = [0] * len(wines)\n",
    "for i, total in enumerate(totals):\n",
    "    for col_val in wines[i,:]:\n",
    "        total += col_val\n",
    "    totals[i] = total\n",
    "print(totals[0:3], '...', totals[-3:])"
   ]
  },
  {
   "cell_type": "code",
   "execution_count": 57,
   "metadata": {},
   "outputs": [
    {
     "data": {
      "text/plain": [
       "array([125.14, 158.25, 161.75, ..., 149.48, 155.02, 141.49])"
      ]
     },
     "execution_count": 57,
     "metadata": {},
     "output_type": "execute_result"
    }
   ],
   "source": [
    "# sum each row for all columns\n",
    "wines.sum(axis=1)"
   ]
  },
  {
   "cell_type": "code",
   "execution_count": 58,
   "metadata": {},
   "outputs": [
    {
     "data": {
      "text/plain": [
       "(1598,)"
      ]
     },
     "execution_count": 58,
     "metadata": {},
     "output_type": "execute_result"
    }
   ],
   "source": [
    "wines.sum(axis=1).shape"
   ]
  },
  {
   "cell_type": "markdown",
   "metadata": {},
   "source": [
    "There are several other methods that behave like the sum method, including:\n",
    "\n",
    "* ```numpy.ndarray.mean``` — finds the mean of an array.\n",
    "* ```numpy.ndarray.std``` — finds the standard deviation of an array.\n",
    "* ```numpy.ndarray.min``` — finds the minimum value in an array.\n",
    "* ```numpy.ndarray.max``` — finds the maximum value in an array.\n",
    "\n",
    "You can find a full list of array methods [here](http://docs.scipy.org/doc/numpy/reference/arrays.ndarray.html)."
   ]
  },
  {
   "cell_type": "markdown",
   "metadata": {},
   "source": [
    "## NumPy Array Comparisons\n",
    "\n",
    "NumPy makes it possible to test to see if rows match certain values using mathematical comparison operations like ```<```, ```>```, ```>=```, ```<=```, and ```==```. For example, if we want to see which wines have a quality rating higher than 5, we can do this:"
   ]
  },
  {
   "cell_type": "code",
   "execution_count": 59,
   "metadata": {},
   "outputs": [
    {
     "data": {
      "text/plain": [
       "array([ True,  True,  True, ...,  True,  True,  True])"
      ]
     },
     "execution_count": 59,
     "metadata": {},
     "output_type": "execute_result"
    }
   ],
   "source": [
    "# return True for all rows in the Quality column that are greater than 5\n",
    "wines[:,11] > 5"
   ]
  },
  {
   "cell_type": "markdown",
   "metadata": {},
   "source": [
    "We get a Boolean array that tells us which of the wines have a quality rating greater than 5. We can do something similar with the other operators. For instance, we can see if any wines have a quality rating equal to 10:"
   ]
  },
  {
   "cell_type": "code",
   "execution_count": 60,
   "metadata": {},
   "outputs": [
    {
     "data": {
      "text/plain": [
       "array([False, False, False, ..., False, False, False])"
      ]
     },
     "execution_count": 60,
     "metadata": {},
     "output_type": "execute_result"
    }
   ],
   "source": [
    "# return True for all rows that have a Quality rating of 10\n",
    "wines[:,11] == 10"
   ]
  },
  {
   "cell_type": "markdown",
   "metadata": {},
   "source": [
    "### Subsetting\n",
    "\n",
    "One of the powerful things we can do with a Boolean array and a NumPy array is select only certain rows or columns in the NumPy array. For example, the below code will only select rows in wines where the quality is over 7:"
   ]
  },
  {
   "cell_type": "code",
   "execution_count": 61,
   "metadata": {},
   "outputs": [
    {
     "name": "stdout",
     "output_type": "stream",
     "text": [
      "1598 [False False  True ...  True False  True]\n"
     ]
    }
   ],
   "source": [
    "# create a boolean array for wines with quality greater than 15\n",
    "high_quality = wines[:,11] > 15\n",
    "print(len(high_quality), high_quality)"
   ]
  },
  {
   "cell_type": "code",
   "execution_count": 62,
   "metadata": {},
   "outputs": [
    {
     "name": "stdout",
     "output_type": "stream",
     "text": [
      "855 [[1.12e+01 2.80e-01 5.60e-01 ... 5.80e-01 5.00e+01 1.60e+01]\n",
      " [7.30e+00 6.50e-01 0.00e+00 ... 4.70e-01 5.00e+01 1.70e+01]\n",
      " [7.80e+00 5.80e-01 2.00e-02 ... 5.70e-01 5.00e+01 1.70e+01]\n",
      " ...\n",
      " [5.90e+00 5.50e-01 1.00e-01 ... 7.60e-01 5.00e+01 1.60e+01]\n",
      " [6.30e+00 5.10e-01 1.30e-01 ... 7.50e-01 5.00e+01 1.60e+01]\n",
      " [6.00e+00 3.10e-01 4.70e-01 ... 6.60e-01 5.00e+01 1.60e+01]]\n"
     ]
    }
   ],
   "source": [
    "# use boolean indexing to find high quality wines\n",
    "high_quality_wines = wines[high_quality,:]\n",
    "print(len(high_quality_wines), high_quality_wines)"
   ]
  },
  {
   "cell_type": "markdown",
   "metadata": {},
   "source": [
    "We select only the rows where ```high_quality``` contains a ```True``` value, and all of the columns. This subsetting makes it simple to filter arrays for certain criteria. \n",
    "\n",
    "For example, we can look for wines with a lot of alcohol and high quality. In order to specify multiple conditions, we have to place each condition in **parentheses** ```(...)```, and separate conditions with an **ampersand** ```&```:"
   ]
  },
  {
   "cell_type": "code",
   "execution_count": 63,
   "metadata": {},
   "outputs": [
    {
     "name": "stdout",
     "output_type": "stream",
     "text": [
      "[ True  True  True ...  True  True  True]\n"
     ]
    },
    {
     "data": {
      "text/plain": [
       "array([[ 7.4 ,  0.7 ,  0.  , ...,  0.56, 50.  , 15.  ],\n",
       "       [ 7.8 ,  0.88,  0.  , ...,  0.68, 50.  , 15.  ],\n",
       "       [11.2 ,  0.28,  0.56, ...,  0.58, 50.  , 16.  ],\n",
       "       ...,\n",
       "       [ 6.3 ,  0.51,  0.13, ...,  0.75, 50.  , 16.  ],\n",
       "       [ 5.9 ,  0.65,  0.12, ...,  0.71, 50.  , 15.  ],\n",
       "       [ 6.  ,  0.31,  0.47, ...,  0.66, 50.  , 16.  ]])"
      ]
     },
     "execution_count": 63,
     "metadata": {},
     "output_type": "execute_result"
    }
   ],
   "source": [
    "# create a boolean array for high alcohol content and high quality\n",
    "high_alcohol_and_quality = (wines[:,11] > 7) & (wines[:,10] > 10)\n",
    "print(high_alcohol_and_quality)\n",
    "\n",
    "# use boolean indexing to select out the wines\n",
    "wines[high_alcohol_and_quality,:]"
   ]
  },
  {
   "cell_type": "markdown",
   "metadata": {},
   "source": [
    "We can combine subsetting and assignment to overwrite certain values in an array:"
   ]
  },
  {
   "cell_type": "code",
   "execution_count": 64,
   "metadata": {},
   "outputs": [],
   "source": [
    "high_alcohol_and_quality = (wines[:,10] > 10) & (wines[:,11] > 7)\n",
    "wines[high_alcohol_and_quality,10:] = 20"
   ]
  },
  {
   "cell_type": "markdown",
   "metadata": {},
   "source": [
    "## Reshaping NumPy Arrays\n",
    "\n",
    "We can change the shape of arrays while still preserving all of their elements. This often can make it easier to access array elements. The simplest reshaping is to flip the axes, so rows become columns, and vice versa. We can accomplish this with the ```numpy.transpose``` function:"
   ]
  },
  {
   "cell_type": "code",
   "execution_count": 65,
   "metadata": {},
   "outputs": [
    {
     "data": {
      "text/plain": [
       "(12, 1598)"
      ]
     },
     "execution_count": 65,
     "metadata": {},
     "output_type": "execute_result"
    }
   ],
   "source": [
    "np.transpose(wines).shape"
   ]
  },
  {
   "cell_type": "markdown",
   "metadata": {},
   "source": [
    "We can use the ```numpy.ravel``` function to turn an array into a one-dimensional representation. It will essentially flatten an array into a long sequence of values:"
   ]
  },
  {
   "cell_type": "code",
   "execution_count": 66,
   "metadata": {},
   "outputs": [
    {
     "data": {
      "text/plain": [
       "array([ 7.4 ,  0.7 ,  0.  , ...,  0.66, 20.  , 20.  ])"
      ]
     },
     "execution_count": 66,
     "metadata": {},
     "output_type": "execute_result"
    }
   ],
   "source": [
    "wines.ravel()"
   ]
  },
  {
   "cell_type": "markdown",
   "metadata": {},
   "source": [
    "Here's an example where we can see the ordering of ```numpy.ravel```:"
   ]
  },
  {
   "cell_type": "code",
   "execution_count": 67,
   "metadata": {},
   "outputs": [
    {
     "data": {
      "text/plain": [
       "array([1, 2, 3, 4, 5, 6, 7, 8])"
      ]
     },
     "execution_count": 67,
     "metadata": {},
     "output_type": "execute_result"
    }
   ],
   "source": [
    "array_one = np.array(\n",
    "    [\n",
    "        [1, 2, 3, 4], \n",
    "        [5, 6, 7, 8]\n",
    "    ]\n",
    ")\n",
    "\n",
    "array_one.ravel()"
   ]
  },
  {
   "cell_type": "markdown",
   "metadata": {},
   "source": [
    "Finally, we can use the numpy.reshape function to reshape an array to a certain shape we specify. The below code will turn the second row of wines into a 2-dimensional array with 2 rows and 6 columns:"
   ]
  },
  {
   "cell_type": "code",
   "execution_count": 68,
   "metadata": {},
   "outputs": [
    {
     "data": {
      "text/plain": [
       "(12,)"
      ]
     },
     "execution_count": 68,
     "metadata": {},
     "output_type": "execute_result"
    }
   ],
   "source": [
    "# print the current shape of the 2nd row and all columns\n",
    "wines[1,:].shape"
   ]
  },
  {
   "cell_type": "code",
   "execution_count": 69,
   "metadata": {},
   "outputs": [
    {
     "data": {
      "text/plain": [
       "array([[ 7.8 ,  0.88,  0.  ,  2.6 ,  0.1 , 10.  ],\n",
       "       [67.  ,  1.  ,  3.2 ,  0.68, 20.  , 20.  ]])"
      ]
     },
     "execution_count": 69,
     "metadata": {},
     "output_type": "execute_result"
    }
   ],
   "source": [
    "# reshape the 2nd row to a 2 by 6 matrix\n",
    "wines[1,:].reshape((2,6))"
   ]
  },
  {
   "cell_type": "markdown",
   "metadata": {},
   "source": [
    "## Combining NumPy Arrays\n",
    "\n",
    "With NumPy, it's very common to combine multiple arrays into a single unified array. We can use ```numpy.vstack``` to vertically stack multiple arrays. \n",
    "\n",
    "Think of it like the second arrays's items being added as new rows to the first array. We can read in the ```winequality-white.csv``` dataset that contains information on the quality of white wines, then combine it with our existing dataset, wines, which contains information on red wines.\n",
    "\n",
    "In the below code, we:\n",
    "\n",
    "* Read in ```winequality-white.csv```.\n",
    "* Display the shape of white_wines."
   ]
  },
  {
   "cell_type": "code",
   "execution_count": 70,
   "metadata": {},
   "outputs": [
    {
     "data": {
      "text/plain": [
       "(4898, 12)"
      ]
     },
     "execution_count": 70,
     "metadata": {},
     "output_type": "execute_result"
    }
   ],
   "source": [
    "white_wines = np.genfromtxt(\"winequality-white.csv\", delimiter=\";\", skip_header=1)\n",
    "white_wines.shape"
   ]
  },
  {
   "cell_type": "markdown",
   "metadata": {},
   "source": [
    "As you can see, we have attributes for 4898 wines. Now that we have the white wines data, we can combine all the wine data.\n",
    "\n",
    "In the below code, we:\n",
    "\n",
    "* Use the ```vstack``` function to combine wines and white_wines.\n",
    "* Display the shape of the result."
   ]
  },
  {
   "cell_type": "code",
   "execution_count": 71,
   "metadata": {},
   "outputs": [
    {
     "data": {
      "text/plain": [
       "(6496, 12)"
      ]
     },
     "execution_count": 71,
     "metadata": {},
     "output_type": "execute_result"
    }
   ],
   "source": [
    "all_wines = np.vstack((wines, white_wines))\n",
    "all_wines.shape"
   ]
  },
  {
   "cell_type": "markdown",
   "metadata": {},
   "source": [
    "As you can see, the result has 6497 rows, which is the sum of the number of rows in wines and the number of rows in red_wines.\n",
    "\n",
    "If we want to combine arrays horizontally, where the number of rows stay constant, but the columns are joined, then we can use the ```numpy.hstack``` function. The arrays we combine need to have the same number of rows for this to work.\n",
    "\n",
    "Finally, we can use ```numpy.concatenate``` as a general purpose version of ```hstack``` and ```vstack```. If we want to concatenate two arrays, we pass them into concatenate, then specify the axis keyword argument that we want to concatenate along. \n",
    "\n",
    "* Concatenating along the first axis is similar to ```vstack```\n",
    "* Concatenating along the second axis is similar to ```hstack```:"
   ]
  },
  {
   "cell_type": "code",
   "execution_count": 72,
   "metadata": {},
   "outputs": [
    {
     "name": "stdout",
     "output_type": "stream",
     "text": [
      "(6496, 12) [[ 7.4   0.7   0.   ...  0.56 20.   20.  ]\n",
      " [ 7.8   0.88  0.   ...  0.68 20.   20.  ]\n",
      " [11.2   0.28  0.56 ...  0.58 20.   20.  ]\n",
      " ...\n",
      " [ 6.5   0.24  0.19 ...  0.46  9.4   6.  ]\n",
      " [ 5.5   0.29  0.3  ...  0.38 12.8   7.  ]\n",
      " [ 6.    0.21  0.38 ...  0.32 11.8   6.  ]]\n"
     ]
    }
   ],
   "source": [
    "x = np.concatenate((wines, white_wines), axis=0)\n",
    "print(x.shape, x)"
   ]
  },
  {
   "cell_type": "markdown",
   "metadata": {},
   "source": [
    "## Broadcasting\n",
    "\n",
    "Unless the arrays that you're operating on are the exact same size, it's not possible to do elementwise operations. In cases like this, NumPy performs broadcasting to try to match up elements. Essentially, broadcasting involves a few steps:\n",
    "\n",
    "* The last dimension of each array is compared.\n",
    "    * If the dimension lengths are equal, or one of the dimensions is of length 1, then we keep going.\n",
    "    * If the dimension lengths aren't equal, and none of the dimensions have length 1, then there's an error.\n",
    "* Continue checking dimensions until the shortest array is out of dimensions.\n",
    "\n",
    "For example, the following two shapes are compatible:\n",
    "\n",
    "``` python\n",
    "A: (50,3)\n",
    "B  (3,)\n",
    "```\n",
    "\n",
    "This is because the length of the trailing dimension of array A is 3, and the length of the trailing dimension of array B is 3. They're equal, so that dimension is okay. Array B is then out of elements, so we're okay, and the arrays are compatible for mathematical operations.\n",
    "\n",
    "The following two shapes are also compatible:\n",
    "\n",
    "``` python\n",
    "A: (1,2)\n",
    "B  (50,2)\n",
    "```\n",
    "\n",
    "The last dimension matches, and A is of length 1 in the first dimension.\n",
    "\n",
    "These two arrays don't match:\n",
    "\n",
    "``` python\n",
    "A: (50,50)\n",
    "B: (49,49)\n",
    "```\n",
    "\n",
    "The lengths of the dimensions aren't equal, and neither array has either dimension length equal to 1.\n",
    "\n",
    "There's a detailed explanation of broadcasting [here](http://docs.scipy.org/doc/numpy/user/basics.broadcasting.html), but we'll go through a few examples to illustrate the principle:\n"
   ]
  },
  {
   "cell_type": "code",
   "execution_count": 73,
   "metadata": {},
   "outputs": [
    {
     "ename": "ValueError",
     "evalue": "operands could not be broadcast together with shapes (1598,12) (2,) ",
     "output_type": "error",
     "traceback": [
      "\u001b[0;31m---------------------------------------------------------------------------\u001b[0m",
      "\u001b[0;31mValueError\u001b[0m                                Traceback (most recent call last)",
      "\u001b[0;32m/var/folders/jd/pq0swyt521jb2424d6fvth840000gn/T/ipykernel_13638/2228080465.py\u001b[0m in \u001b[0;36m<module>\u001b[0;34m\u001b[0m\n\u001b[0;32m----> 1\u001b[0;31m \u001b[0mwines\u001b[0m \u001b[0;34m*\u001b[0m \u001b[0mnp\u001b[0m\u001b[0;34m.\u001b[0m\u001b[0marray\u001b[0m\u001b[0;34m(\u001b[0m\u001b[0;34m[\u001b[0m\u001b[0;36m1\u001b[0m\u001b[0;34m,\u001b[0m\u001b[0;36m2\u001b[0m\u001b[0;34m]\u001b[0m\u001b[0;34m)\u001b[0m\u001b[0;34m\u001b[0m\u001b[0;34m\u001b[0m\u001b[0m\n\u001b[0m",
      "\u001b[0;31mValueError\u001b[0m: operands could not be broadcast together with shapes (1598,12) (2,) "
     ]
    }
   ],
   "source": [
    "wines * np.array([1,2])"
   ]
  },
  {
   "cell_type": "markdown",
   "metadata": {},
   "source": [
    "The above example didn't work because the two arrays don't have a matching trailing dimension. Here's an example where the last dimension does match:"
   ]
  },
  {
   "cell_type": "code",
   "execution_count": 74,
   "metadata": {},
   "outputs": [
    {
     "data": {
      "text/plain": [
       "array([[5, 7],\n",
       "       [7, 9]])"
      ]
     },
     "execution_count": 74,
     "metadata": {},
     "output_type": "execute_result"
    }
   ],
   "source": [
    "array_one = np.array(\n",
    "    [\n",
    "        [1,2],\n",
    "        [3,4]\n",
    "    ]\n",
    ")\n",
    "array_two = np.array([4,5])\n",
    "\n",
    "array_one + array_two"
   ]
  },
  {
   "cell_type": "markdown",
   "metadata": {},
   "source": [
    "As you can see, array_two has been broadcasted across each row of array_one. Here's an example with our wines data:"
   ]
  },
  {
   "cell_type": "code",
   "execution_count": 75,
   "metadata": {},
   "outputs": [
    {
     "data": {
      "text/plain": [
       "array([[ 7.57,  1.1 ,  0.66, ...,  0.59, 20.33, 20.78],\n",
       "       [ 7.97,  1.28,  0.66, ...,  0.71, 20.33, 20.78],\n",
       "       [11.37,  0.68,  1.22, ...,  0.61, 20.33, 20.78],\n",
       "       ...,\n",
       "       [ 6.47,  0.91,  0.79, ...,  0.78, 20.33, 20.78],\n",
       "       [ 6.07,  1.04,  0.78, ...,  0.74, 20.33, 20.78],\n",
       "       [ 6.17,  0.71,  1.13, ...,  0.69, 20.33, 20.78]])"
      ]
     },
     "execution_count": 75,
     "metadata": {},
     "output_type": "execute_result"
    }
   ],
   "source": [
    "rand_array = np.random.rand(12)\n",
    "wines + rand_array"
   ]
  },
  {
   "cell_type": "code",
   "execution_count": null,
   "metadata": {
    "collapsed": true,
    "jupyter": {
     "outputs_hidden": true
    }
   },
   "outputs": [],
   "source": []
  }
 ],
 "metadata": {
  "kernelspec": {
   "display_name": "Python 3 (ipykernel)",
   "language": "python",
   "name": "python3"
  },
  "language_info": {
   "codemirror_mode": {
    "name": "ipython",
    "version": 3
   },
   "file_extension": ".py",
   "mimetype": "text/x-python",
   "name": "python",
   "nbconvert_exporter": "python",
   "pygments_lexer": "ipython3",
   "version": "3.9.7"
  }
 },
 "nbformat": 4,
 "nbformat_minor": 4
}
