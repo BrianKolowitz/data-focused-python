{
 "cells": [
  {
   "cell_type": "markdown",
   "id": "64284755-95f7-461c-864f-d0610c88a9bb",
   "metadata": {},
   "source": [
    "```python\n",
    "if condition:\n",
    "    # statement\n",
    "    # statement\n",
    "```"
   ]
  },
  {
   "cell_type": "markdown",
   "id": "43a4e210-36f9-41b9-83a4-2a02beb2dc9d",
   "metadata": {},
   "source": [
    "# if statement\n",
    "if 2 > 1:\n",
    "    print(\"2 is greater than 1\")"
   ]
  },
  {
   "cell_type": "code",
   "execution_count": 3,
   "id": "533411b1-ece9-4716-a881-1a92e114713d",
   "metadata": {},
   "outputs": [
    {
     "data": {
      "text/plain": [
       "False"
      ]
     },
     "execution_count": 3,
     "metadata": {},
     "output_type": "execute_result"
    }
   ],
   "source": [
    "# boolean expressions\n",
    "1 > 2"
   ]
  },
  {
   "cell_type": "code",
   "execution_count": 4,
   "id": "4b6a1f1b-befc-437c-a01e-c3a1de32ca26",
   "metadata": {},
   "outputs": [
    {
     "data": {
      "text/plain": [
       "False"
      ]
     },
     "execution_count": 4,
     "metadata": {},
     "output_type": "execute_result"
    }
   ],
   "source": [
    "'a' > 'b'"
   ]
  },
  {
   "cell_type": "code",
   "execution_count": 6,
   "id": "39cb8b32-d157-4982-9de6-124d0a08dd7b",
   "metadata": {},
   "outputs": [
    {
     "data": {
      "text/plain": [
       "True"
      ]
     },
     "execution_count": 6,
     "metadata": {},
     "output_type": "execute_result"
    }
   ],
   "source": [
    "'a' > 'A'"
   ]
  },
  {
   "cell_type": "code",
   "execution_count": 13,
   "id": "f726eed2-cadd-42e7-90a3-3b3d51213c3d",
   "metadata": {},
   "outputs": [
    {
     "data": {
      "text/plain": [
       "'A'"
      ]
     },
     "execution_count": 13,
     "metadata": {},
     "output_type": "execute_result"
    }
   ],
   "source": [
    "chr(65)"
   ]
  },
  {
   "cell_type": "code",
   "execution_count": 14,
   "id": "b2717037-1e03-4f27-846f-16879b759b28",
   "metadata": {},
   "outputs": [
    {
     "data": {
      "text/plain": [
       "65"
      ]
     },
     "execution_count": 14,
     "metadata": {},
     "output_type": "execute_result"
    }
   ],
   "source": [
    "ord('A')"
   ]
  },
  {
   "cell_type": "code",
   "execution_count": 15,
   "id": "ec5e026c-c9f4-4a01-b966-941c5a863008",
   "metadata": {},
   "outputs": [
    {
     "data": {
      "text/plain": [
       "97"
      ]
     },
     "execution_count": 15,
     "metadata": {},
     "output_type": "execute_result"
    }
   ],
   "source": [
    "ord('a')"
   ]
  },
  {
   "cell_type": "code",
   "execution_count": 16,
   "id": "742c28c1-4935-4574-906d-ed8009b96d7e",
   "metadata": {},
   "outputs": [],
   "source": [
    "balance = 119\n",
    "payment = 20"
   ]
  },
  {
   "cell_type": "code",
   "execution_count": 17,
   "id": "486c86de-2cd1-40c9-a421-b0967547d783",
   "metadata": {},
   "outputs": [
    {
     "data": {
      "text/plain": [
       "False"
      ]
     },
     "execution_count": 17,
     "metadata": {},
     "output_type": "execute_result"
    }
   ],
   "source": [
    "balance == 0"
   ]
  },
  {
   "cell_type": "code",
   "execution_count": 18,
   "id": "007e54da-0a72-489b-bd4b-cb5d0b82f208",
   "metadata": {},
   "outputs": [
    {
     "data": {
      "text/plain": [
       "True"
      ]
     },
     "execution_count": 18,
     "metadata": {},
     "output_type": "execute_result"
    }
   ],
   "source": [
    "payment != balance"
   ]
  },
  {
   "cell_type": "code",
   "execution_count": 20,
   "id": "374ed268-2973-46f0-bddf-6130f91c9c28",
   "metadata": {},
   "outputs": [
    {
     "name": "stdout",
     "output_type": "stream",
     "text": [
      "you owe 99\n"
     ]
    }
   ],
   "source": [
    "if payment == balance:\n",
    "    print('paid in full')\n",
    "else:\n",
    "    print('you owe ' + str(balance - payment))"
   ]
  },
  {
   "cell_type": "code",
   "execution_count": null,
   "id": "424eb89e-c71e-4713-9848-b7d89d9b31c9",
   "metadata": {},
   "outputs": [],
   "source": []
  }
 ],
 "metadata": {
  "kernelspec": {
   "display_name": "Python 3 (ipykernel)",
   "language": "python",
   "name": "python3"
  },
  "language_info": {
   "codemirror_mode": {
    "name": "ipython",
    "version": 3
   },
   "file_extension": ".py",
   "mimetype": "text/x-python",
   "name": "python",
   "nbconvert_exporter": "python",
   "pygments_lexer": "ipython3",
   "version": "3.9.7"
  }
 },
 "nbformat": 4,
 "nbformat_minor": 5
}
