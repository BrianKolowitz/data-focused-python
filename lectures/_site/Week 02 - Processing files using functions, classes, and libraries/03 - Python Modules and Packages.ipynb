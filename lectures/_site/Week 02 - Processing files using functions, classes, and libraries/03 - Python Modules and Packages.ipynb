{
 "cells": [
  {
   "cell_type": "markdown",
   "metadata": {},
   "source": [
    "## Python Modules\n",
    "[Python Modules](https://www.tutorialspoint.com/python/python_modules.htm)\n",
    "\n",
    "A module allows you to logically organize your Python code. Grouping related code into a module makes the code easier to understand and use. A module is a Python object with arbitrarily named attributes that you can bind and reference.\n",
    "\n",
    "Simply, a module is a file consisting of Python code. A module can define functions, classes and variables. A module can also include runnable code.\n",
    "\n",
    "### The import Statement\n",
    "\n",
    "You can use any Python source file as a module by executing an import statement in some other Python source file. The import has the following syntax\n",
    "\n",
    "```python\n",
    "import module1[, module2[,... moduleN]\n",
    "```\n",
    "\n",
    "When the interpreter encounters an import statement, it imports the module if the module is present in the search path. A search path is a list of directories that the interpreter searches before importing a module. For example, to import the module support.py, you need to put the following command at the top of the script"
   ]
  },
  {
   "cell_type": "code",
   "execution_count": 1,
   "metadata": {},
   "outputs": [
    {
     "name": "stdout",
     "output_type": "stream",
     "text": [
      "Hello : drk\n"
     ]
    }
   ],
   "source": [
    "# Import module support\n",
    "import support\n",
    "\n",
    "# Now you can call defined function that module as follows\n",
    "support.print_func(\"drk\")"
   ]
  },
  {
   "cell_type": "markdown",
   "metadata": {},
   "source": [
    "A module is loaded only once, regardless of the number of times it is imported. This prevents the module execution from happening over and over again if multiple imports occur."
   ]
  },
  {
   "cell_type": "markdown",
   "metadata": {},
   "source": [
    "### The from...import Statement\n",
    "\n",
    "Python's from statement lets you import specific attributes from a module into the current namespace. The from...import has the following syntax\n",
    "\n",
    "```python\n",
    "from modname import name1[, name2[, ... nameN]]\n",
    "```\n",
    "\n",
    "For example, to import the function fibonacci from the module fib, use the following statement −\n",
    "\n",
    "```python\n",
    "from fib import fibonacci\n",
    "```\n",
    "\n",
    "This statement does not import the entire module fib into the current namespace; it just introduces the item fibonacci from the module fib into the global symbol table of the importing module."
   ]
  },
  {
   "cell_type": "markdown",
   "metadata": {},
   "source": [
    "### The from...import * Statement\n",
    "\n",
    "It is also possible to import all names from a module into the current namespace by using the following import statement\n",
    "\n",
    "```python\n",
    "from modname import *\n",
    "```\n",
    "\n",
    "This provides an easy way to import all the items from a module into the current namespace; however, this statement should be used sparingly."
   ]
  },
  {
   "cell_type": "markdown",
   "metadata": {},
   "source": [
    "### Locating Modules\n",
    "\n",
    "When you import a module, the Python interpreter searches for the module in the following sequences −\n",
    "\n",
    "* The current directory.\n",
    "* If the module isn't found, Python then searches each directory in the shell variable PYTHONPATH.\n",
    "* If all else fails, Python checks the default path. On UNIX, this default path is normally /usr/local/lib/python/.\n",
    "\n",
    "The module search path is stored in the system module sys as the sys.path variable. The sys.path variable contains the current directory, PYTHONPATH, and the installation-dependent default."
   ]
  },
  {
   "cell_type": "markdown",
   "metadata": {},
   "source": [
    "## Python Packages\n",
    "\n",
    "A package is a hierarchical file directory structure that defines a single Python application environment that consists of modules and subpackages and sub-subpackages, and so on.\n",
    "\n",
    "Consider a file Pots.py available in Phone directory. This file has following line of source code −\n",
    "\n",
    "```python\n",
    "def Pots():\n",
    "   print \"I'm Pots Phone\"\n",
    "```\n",
    "\n",
    "Similar way, we have another two files having different functions with the same name as above −\n",
    "\n",
    "* Phone/Isdn.py file having function Isdn()\n",
    "* Phone/G3.py file having function G3()\n",
    "* Now, create one more file __init__.py in Phone directory\n",
    "\n",
    "To make all of your functions available when you've imported Phone, you need to put explicit import statements in __init__.py as follows\n",
    "\n",
    "```python\n",
    "from Pots import Pots\n",
    "from Isdn import Isdn\n",
    "from G3 import G3\n",
    "```\n",
    "\n",
    "After you add these lines to __init__.py, you have all of these classes available when you import the Phone package."
   ]
  },
  {
   "cell_type": "code",
   "execution_count": 3,
   "metadata": {
    "collapsed": true
   },
   "outputs": [],
   "source": [
    "# Now import your Phone Package.\n",
    "import Phone"
   ]
  },
  {
   "cell_type": "code",
   "execution_count": 4,
   "metadata": {},
   "outputs": [
    {
     "name": "stdout",
     "output_type": "stream",
     "text": [
      "I'm a Pots Phone.\n"
     ]
    }
   ],
   "source": [
    "Phone.Pots()"
   ]
  },
  {
   "cell_type": "code",
   "execution_count": 5,
   "metadata": {},
   "outputs": [
    {
     "name": "stdout",
     "output_type": "stream",
     "text": [
      "I'm an Isdn phone.\n"
     ]
    }
   ],
   "source": [
    "Phone.Isdn()"
   ]
  },
  {
   "cell_type": "code",
   "execution_count": 6,
   "metadata": {},
   "outputs": [
    {
     "name": "stdout",
     "output_type": "stream",
     "text": [
      "I'm a G3 phone.\n"
     ]
    }
   ],
   "source": [
    "Phone.G3()"
   ]
  }
 ],
 "metadata": {
  "kernelspec": {
   "display_name": "Python 3",
   "language": "python",
   "name": "python3"
  },
  "language_info": {
   "codemirror_mode": {
    "name": "ipython",
    "version": 3
   },
   "file_extension": ".py",
   "mimetype": "text/x-python",
   "name": "python",
   "nbconvert_exporter": "python",
   "pygments_lexer": "ipython3",
   "version": "3.6.8"
  }
 },
 "nbformat": 4,
 "nbformat_minor": 2
}
