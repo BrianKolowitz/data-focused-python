{
 "cells": [
  {
   "cell_type": "markdown",
   "metadata": {},
   "source": [
    "## Loading Synthea Data\n",
    "\n",
    "Here we'll walk through the different data files from the [synthea](https://github.com/synthetichealth/synthea) data generator. Synthea can generate data in a number of formats including:\n",
    "* CCDA\n",
    "* CSV\n",
    "* FHIR\n",
    "* Text"
   ]
  },
  {
   "cell_type": "code",
   "execution_count": 2,
   "metadata": {},
   "outputs": [
    {
     "name": "stdout",
     "output_type": "stream",
     "text": [
      "Id,ORGANIZATION,NAME,GENDER,SPECIALITY,ADDRESS,CITY,STATE,ZIP,UTILIZATION\n",
      "\n",
      "30ee89ff-1932-4e7d-8358-7f84527f622e,8074c9c5-982f-3d30-8a5f-95f6ba9fde06,Del587 Williamson769,M,GENERAL PRACTICE,1400 LOCUST STREET,PITTSBURGH,PA,15219,2501,\n",
      "\n",
      "2570b996-8b89-417a-a661-a66c22e84b07,797d87ed-77fa-3b01-b971-0399bb10dc09,Bethany501 Windler79,F,GENERAL PRACTICE,3459 5TH AVENUE,PITTSBURGH,PA,15213,8,\n",
      "\n"
     ]
    }
   ],
   "source": [
    "with open('../data/csv/providers.csv') as f:\n",
    "    for line in f.readlines():\n",
    "        print(line)"
   ]
  },
  {
   "cell_type": "code",
   "execution_count": 3,
   "metadata": {},
   "outputs": [
    {
     "name": "stdout",
     "output_type": "stream",
     "text": [
      "0: {\n",
      "\n",
      "1:   \"resourceType\": \"Bundle\",\n",
      "\n",
      "2:   \"type\": \"transaction\",\n",
      "\n",
      "3:   \"entry\": [\n",
      "\n",
      "4:     {\n",
      "\n",
      "5:       \"fullUrl\": \"urn:uuid:4aaeea96-ef44-4d86-a313-ed9658b91618\",\n",
      "\n"
     ]
    }
   ],
   "source": [
    "with open('../data/FHIR/Augustine565_Conroy74_8d1c4f3b-3d44-4daf-8962-cc260bad8c87.json') as f:\n",
    "    for idx, line in enumerate(f.readlines()):\n",
    "        print(f'{idx}: {line}')\n",
    "        if idx >= 5:\n",
    "            break"
   ]
  },
  {
   "cell_type": "code",
   "execution_count": 4,
   "metadata": {},
   "outputs": [
    {
     "name": "stdout",
     "output_type": "stream",
     "text": [
      "0: <?xml version=\"1.0\" encoding=\"UTF-8\"?>\n",
      "\n",
      "1: <ClinicalDocument xmlns=\"urn:hl7-org:v3\" xmlns:sdtc=\"urn:hl7-org:sdtc\" xmlns:xsi=\"http://www.w3.org/2001/XMLSchema-instance\" xsi:schemaLocation=\"urn:hl7-org:v3 http://xreg2.nist.gov:8080/hitspValidation/schema/cdar2c32/infrastructure/cda/C32_CDA.xsd\">\n",
      "\n",
      "2:   <realmCode code=\"US\"/>\n",
      "\n",
      "3:   <typeId root=\"2.16.840.1.113883.1.3\" extension=\"POCD_HD000040\"/>\n",
      "\n",
      "4:   <templateId root=\"2.16.840.1.113883.10.20.22.1.1\" extension=\"2015-08-01\"/>\n",
      "\n",
      "5:   <templateId root=\"2.16.840.1.113883.10.20.22.1.2\" extension=\"2015-08-01\"/>\n",
      "\n"
     ]
    }
   ],
   "source": [
    "with open('../data/ccda/Augustine565_Conroy74_8d1c4f3b-3d44-4daf-8962-cc260bad8c87.xml') as f:\n",
    "    for idx, line in enumerate(f.readlines()):\n",
    "        print(f'{idx}: {line}')\n",
    "        if idx >= 5:\n",
    "            break"
   ]
  },
  {
   "cell_type": "code",
   "execution_count": 5,
   "metadata": {},
   "outputs": [
    {
     "name": "stdout",
     "output_type": "stream",
     "text": [
      "0: Augustine565 Conroy74\n",
      "\n",
      "1: =====================\n",
      "\n",
      "2: Race:                Asian\n",
      "\n",
      "3: Ethnicity:           Non-Hispanic\n",
      "\n",
      "4: Gender:              F\n",
      "\n",
      "5: Age:                 49\n",
      "\n"
     ]
    }
   ],
   "source": [
    "with open('../data/text/Augustine565_Conroy74_8d1c4f3b-3d44-4daf-8962-cc260bad8c87.txt') as f:\n",
    "    for idx, line in enumerate(f.readlines()):\n",
    "        print(f'{idx}: {line}')\n",
    "        if idx >= 5:\n",
    "            break"
   ]
  },
  {
   "cell_type": "code",
   "execution_count": null,
   "metadata": {
    "collapsed": true
   },
   "outputs": [],
   "source": []
  }
 ],
 "metadata": {
  "kernelspec": {
   "display_name": "Python 3",
   "language": "python",
   "name": "python3"
  },
  "language_info": {
   "codemirror_mode": {
    "name": "ipython",
    "version": 3
   },
   "file_extension": ".py",
   "mimetype": "text/x-python",
   "name": "python",
   "nbconvert_exporter": "python",
   "pygments_lexer": "ipython3",
   "version": "3.6.8"
  }
 },
 "nbformat": 4,
 "nbformat_minor": 2
}
