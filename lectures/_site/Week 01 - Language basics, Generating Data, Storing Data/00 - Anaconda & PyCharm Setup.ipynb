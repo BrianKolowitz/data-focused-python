{
 "cells": [
  {
   "cell_type": "markdown",
   "metadata": {},
   "source": [
    "# Quick Links\n",
    "\n",
    "* [Python](https://www.python.org/)\n",
    "* [PyCharm](http://www.jetbrains.com/pycharm/)\n",
    "* [Anaconda](https://www.anaconda.com/distribution/#download-section)\n",
    "\n",
    "# Getting Started\n",
    "\n",
    "Here is a simple approach to fast Python development. We are using PyCharm + Anaconda in this course. PyCharm is a cross-platform IDE for Python which has most popular programming features. Anaconda is a rich set of most useful Python packages (contains Python compiler already). Both of them are free and easy to install. You can choose the OS you are familiar with. Here we provide brief instruction on Windows, Mac or Linux.\n",
    "\n",
    "* Install PyCharm. \n",
    "* Install Anaconda.\n",
    "\n",
    "## Configuring environment\n",
    "After installation of PyCharm and Anaconda, the next step is to configure the environment and link between the IDE and Python. The user interface for PyCharm is similar under three different OS and we illustrate the Windows version.\n",
    "\n",
    "1. Open PyCharm.\n",
    "1. Import educational licence.\n",
    "1. Menu->File->New Project:\n",
    "1. Press the button below:\n",
    "    ![new-project](images/00_newproj.jpg)\n",
    "1. Press the green add button and select $\\anaconda\\python.exe and then OK. The IDE will configure automatically.\n",
    "    ![new-project-2](images/00_newproj2.jpg)\n",
    "1. Create new Python script file:\n",
    "    ![ui](images/00_ui.jpg)\n",
    "1. Right click on the .py file to run:\n",
    "    ![run](images/00_run.jpg)\n",
    "\n",
    "## Hello World Python\n",
    "\n",
    "1. Create helloworld.py\n",
    "1. Type the following code: ```print('Hello World!')```\n",
    "1. To run: Right click on .py and select 'Run'.\n",
    "1. To debug: insert breakpoint similar with Eclipse or Visual Studio. Right click on .py and select 'Debug'\n",
    "![result](images/00_result.jpg)"
   ]
  },
  {
   "cell_type": "code",
   "execution_count": null,
   "metadata": {
    "collapsed": true
   },
   "outputs": [],
   "source": []
  }
 ],
 "metadata": {
  "kernelspec": {
   "display_name": "Python 3",
   "language": "python",
   "name": "python3"
  },
  "language_info": {
   "codemirror_mode": {
    "name": "ipython",
    "version": 3
   },
   "file_extension": ".py",
   "mimetype": "text/x-python",
   "name": "python",
   "nbconvert_exporter": "python",
   "pygments_lexer": "ipython3",
   "version": "3.6.8"
  }
 },
 "nbformat": 4,
 "nbformat_minor": 2
}
