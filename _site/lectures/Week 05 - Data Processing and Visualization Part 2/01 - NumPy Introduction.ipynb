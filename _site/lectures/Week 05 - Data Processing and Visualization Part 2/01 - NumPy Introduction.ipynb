{
 "cells": [
  {
   "cell_type": "markdown",
   "metadata": {},
   "source": [
    "# Python Numpy Tutorial\n",
    "[Source](https://www.datacamp.com/community/tutorials/python-numpy-tutorial)\n",
    "\n",
    "A NumPy tutorial for beginners in which you'll learn how to create a NumPy array, use broadcasting, access values, manipulate arrays, and much more.\n",
    "\n",
    "NumPy is, just like SciPy, Scikit-Learn, Pandas, etc. one of the packages that you just can’t miss when you’re learning data science, mainly because this library provides you with an array data structure that holds some benefits over Python lists, such as: being more compact, faster access in reading and writing items, being more convenient and more efficient.\n",
    "\n",
    "Today we'll focus precisely on this. This NumPy tutorial will not only show you what NumPy arrays actually are and how you can install Python, but you’ll also learn how to make arrays (even when your data comes from files!), how broadcasting works, how you can ask for help, how to manipulate your arrays and how to visualize them.\n",
    "\n",
    "## Content\n",
    "* What Is A Python Numpy Array?\n",
    "* How To Make NumPy Arrays\n",
    "* How NumPy Broadcasting Works\n",
    "* How Do Array Mathematics Work?\n",
    "* How To Subset, Slice, And Index Arrays\n",
    "* How To Manipulate Arrays\n",
    "* How To Visualize NumPy Arrays\n",
    "* Beyond Data Analysis with NumPy"
   ]
  },
  {
   "cell_type": "markdown",
   "metadata": {
    "collapsed": true
   },
   "source": [
    "## What Is A Python Numpy Array?\n",
    "\n",
    "You already read in the introduction that NumPy arrays are a bit like Python lists, but still very much different at the same time. For those of you who are new to the topic, let’s clarify what it exactly is and what it’s good for.\n",
    "\n",
    "As the name gives away, a NumPy array is a central data structure of the ```numpy``` library. The library’s name is short for “Numeric Python” or “Numerical Python”.\n",
    "\n",
    "This already gives an idea of what you’re dealing with, right?\n",
    "\n",
    "In other words, NumPy is a Python library that is the core library for scientific computing in Python. It contains a collection of tools and techniques that can be used to solve on a computer mathematical models of problems in Science and Engineering. One of these tools is a high-performance multidimensional array object that is a powerful data structure for efficient computation of arrays and matrices. To work with these arrays, there’s a vast amount of high-level mathematical functions operate on these matrices and arrays.\n",
    "\n",
    "Then, what is an array?\n",
    "\n",
    "When you look at the print of a couple of arrays, you could see it as a grid that contains values of the same type:"
   ]
  },
  {
   "cell_type": "code",
   "execution_count": 1,
   "metadata": {
    "collapsed": true
   },
   "outputs": [],
   "source": [
    "# import the library\n",
    "import numpy as np"
   ]
  },
  {
   "cell_type": "code",
   "execution_count": 3,
   "metadata": {},
   "outputs": [
    {
     "name": "stdout",
     "output_type": "stream",
     "text": [
      "[ 1  2  3  4  5  6  7  8  9 10 11 12]\n"
     ]
    }
   ],
   "source": [
    "# create a 1-dimensional array\n",
    "my_array = np.array([1, 2, 3, 4, 5, 6, 7, 8 ,9, 10, 11, 12])\n",
    "print(my_array)"
   ]
  },
  {
   "cell_type": "code",
   "execution_count": 4,
   "metadata": {},
   "outputs": [
    {
     "name": "stdout",
     "output_type": "stream",
     "text": [
      "[[ 1  2  3  4]\n",
      " [ 5  6  7  8]\n",
      " [ 9 10 11 12]]\n"
     ]
    }
   ],
   "source": [
    "# create a 2-dimensional array\n",
    "my_2d_array = np.array([[1, 2, 3, 4], [5, 6, 7, 8], [9, 10, 11, 12]])\n",
    "print(my_2d_array)"
   ]
  },
  {
   "cell_type": "code",
   "execution_count": 5,
   "metadata": {},
   "outputs": [
    {
     "name": "stdout",
     "output_type": "stream",
     "text": [
      "[[[ 1  2  3  4]\n",
      "  [ 5  6  7  8]]\n",
      "\n",
      " [[ 9 10 11 12]\n",
      "  [13 14 15 16]]]\n"
     ]
    }
   ],
   "source": [
    "# create a 3-dimensional array\n",
    "my_3d_array = np.array([[[1, 2, 3, 4], [5, 6, 7, 8]], [[9, 10, 11, 12], [13, 14, 15, 16]]])\n",
    "print(my_3d_array)"
   ]
  },
  {
   "cell_type": "markdown",
   "metadata": {},
   "source": [
    "You see that, in the example above, the data are integers. The array holds and represents any regular data in a structured way.\n",
    "\n",
    "However, you should know that, on a structural level, an array is basically nothing but pointers. It’s a combination of a memory address, a data type, a shape, and strides:\n",
    "\n",
    "* The ```data``` pointer indicates the memory address of the first byte in the array,\n",
    "* The data type or ```dtype``` pointer describes the kind of elements that are contained within the array,\n",
    "* The ```shape``` indicates the shape of the array, and\n",
    "* The ```strides``` are the number of bytes that should be skipped in memory to go to the next element. If your strides are (10,1), you need to proceed one byte to get to the next column and 10 bytes to locate the next row.\n",
    "\n",
    "Or, in other words, an array contains information about the raw data, how to locate an element and how to interpret an element.\n",
    "\n",
    "You can easily test this by exploring the numpy array attributes:"
   ]
  },
  {
   "cell_type": "code",
   "execution_count": 6,
   "metadata": {},
   "outputs": [
    {
     "name": "stdout",
     "output_type": "stream",
     "text": [
      "Memory Address <memory at 0x119c12dc8>\n",
      "Shape (3, 4)\n",
      "Data Type int64\n",
      "Strides (32, 8)\n"
     ]
    }
   ],
   "source": [
    "# Print out memory address\n",
    "print('Memory Address', my_2d_array.data)\n",
    "\n",
    "# Print out the shape of `my_array`\n",
    "print('Shape', my_2d_array.shape)\n",
    "\n",
    "# Print out the data type of `my_array`\n",
    "print('Data Type', my_2d_array.dtype)\n",
    "\n",
    "# Print out the stride of `my_array`\n",
    "print('Strides', my_2d_array.strides)"
   ]
  },
  {
   "cell_type": "markdown",
   "metadata": {},
   "source": [
    "You see that now, you get a lot more information: for example, the data type that is printed out is ‘int64’ or signed 32-bit integer type; This is a lot more detailed! That also means that the array is stored in memory as 64 bytes (as each integer takes up 8 bytes and you have an array of 8 integers). The strides of the array tell us that you have to skip 8 bytes (one value) to move to the next column, but 32 bytes (4 values) to get to the same position in the next row. As such, the strides for the array will be (32,8).\n",
    "\n",
    "Note that if you set the data type to ```int32```, the strides tuple that you get back will be ```(16, 4)```, as you will still need to move one value to the next column and 4 values to get the same position. The only thing that will have changed is the fact that each integer will take up 4 bytes instead of 8.\n",
    "\n",
    "<img src='http://community.datacamp.com.s3.amazonaws.com/community/production/ckeditor_assets/pictures/332/content_arrays-axes.png' />\n",
    "\n",
    "The array that you see above is, as its name already suggested, a 2-dimensional array: you have rows and columns. The rows are indicated as the “axis 0”, while the columns are the “axis 1”. The number of the axis goes up accordingly with the number of the dimensions: in 3-D arrays, of which you have also seen an example in the previous code chunk, you’ll have an additional “axis 2”. Note that these axes are only valid for arrays that have at least 2 dimensions, as there is no point in having this for 1-D arrays;\n",
    "\n",
    "These axes will come in handy later when you’re manipulating the shape of your NumPy arrays."
   ]
  },
  {
   "cell_type": "markdown",
   "metadata": {},
   "source": [
    "## How To Make NumPy Arrays\n",
    "\n",
    "To make a numpy array, you can just use the ```np.array()``` function. All you need to do is pass a list to it, and optionally, you can also specify the data type of the data. If you want to know more about the possible data types that you can pick, [go](https://docs.scipy.org/doc/numpy/user/basics.types.html) here or consider taking a brief look at [DataCamp’s NumPy cheat sheet](https://www.datacamp.com/community/blog/python-numpy-cheat-sheet/).\n",
    "\n",
    "There’s no need to go and memorize these NumPy data types if you’re a new user; But you do have to know and care what data you’re dealing with. The data types are there when you need more control over how your data is stored in memory and on disk. Especially in cases where you’re working with extensive data, it’s good that you know to control the storage type.\n",
    "\n",
    "Don’t forget that, in order to work with the ```np.array()``` function, you need to make sure that the ```numpy``` library is present in your environment. The NumPy library follows an import convention: when you import this library, you have to make sure that you import it as ```np```. By doing this, you’ll make sure that other Pythonistas understand your code more easily.\n",
    "\n",
    "In the following example you’ll create the my_array array that you have already played around with above:"
   ]
  },
  {
   "cell_type": "code",
   "execution_count": 12,
   "metadata": {},
   "outputs": [
    {
     "name": "stdout",
     "output_type": "stream",
     "text": [
      "[[1 2 3 4]\n",
      " [5 6 7 8]] int32\n"
     ]
    }
   ],
   "source": [
    "# Import `numpy` as `np`\n",
    "import numpy as np\n",
    "\n",
    "# Make the array `my_array`\n",
    "my_array = np.array([[1,2,3,4], [5,6,7,8]], dtype=np.int32)\n",
    "\n",
    "# Print `my_array`\n",
    "print(my_array, my_array.dtype)"
   ]
  },
  {
   "cell_type": "markdown",
   "metadata": {},
   "source": [
    "However, sometimes you don’t know what data you want to put in your array, or you want to import data into a numpy array from another source. In those cases, you’ll make use of initial placeholders or functions to load data from text into arrays, respectively.\n",
    "\n",
    "The following sections will show you how to do this."
   ]
  },
  {
   "cell_type": "markdown",
   "metadata": {},
   "source": [
    "### How To Make An “Empty” NumPy Array\n",
    "\n",
    "What people often mean when they say that they are creating “empty” arrays is that they want to make use of initial placeholders, which you can fill up afterward. You can initialize arrays with ones or zeros, but you can also create arrays that get filled up with evenly spaced values, constant or random values.\n",
    "\n",
    "However, you can still make a totally empty array, too.\n",
    "\n",
    "Luckily for us, there are quite a lot of functions to make\n",
    "\n",
    "Try it all out below!"
   ]
  },
  {
   "cell_type": "code",
   "execution_count": 13,
   "metadata": {},
   "outputs": [
    {
     "data": {
      "text/plain": [
       "array([[1., 1., 1., 1.],\n",
       "       [1., 1., 1., 1.],\n",
       "       [1., 1., 1., 1.]])"
      ]
     },
     "execution_count": 13,
     "metadata": {},
     "output_type": "execute_result"
    }
   ],
   "source": [
    "# Create an array of ones\n",
    "np.ones((3, 4))"
   ]
  },
  {
   "cell_type": "code",
   "execution_count": 14,
   "metadata": {},
   "outputs": [
    {
     "data": {
      "text/plain": [
       "array([[[0, 0, 0, 0],\n",
       "        [0, 0, 0, 0],\n",
       "        [0, 0, 0, 0]],\n",
       "\n",
       "       [[0, 0, 0, 0],\n",
       "        [0, 0, 0, 0],\n",
       "        [0, 0, 0, 0]]], dtype=int16)"
      ]
     },
     "execution_count": 14,
     "metadata": {},
     "output_type": "execute_result"
    }
   ],
   "source": [
    "# Create an array of zeros\n",
    "np.zeros((2, 3, 4), dtype=np.int16)"
   ]
  },
  {
   "cell_type": "code",
   "execution_count": 15,
   "metadata": {},
   "outputs": [
    {
     "data": {
      "text/plain": [
       "array([[0.49145717, 0.10493541],\n",
       "       [0.93962816, 0.64711331]])"
      ]
     },
     "execution_count": 15,
     "metadata": {},
     "output_type": "execute_result"
    }
   ],
   "source": [
    "# Create an array with random values\n",
    "np.random.random((2, 2))"
   ]
  },
  {
   "cell_type": "code",
   "execution_count": 16,
   "metadata": {},
   "outputs": [
    {
     "data": {
      "text/plain": [
       "array([[0., 0.],\n",
       "       [0., 0.],\n",
       "       [0., 0.]])"
      ]
     },
     "execution_count": 16,
     "metadata": {},
     "output_type": "execute_result"
    }
   ],
   "source": [
    "# Create an empty array\n",
    "np.empty((3, 2))"
   ]
  },
  {
   "cell_type": "code",
   "execution_count": 17,
   "metadata": {},
   "outputs": [
    {
     "data": {
      "text/plain": [
       "array([[7, 7],\n",
       "       [7, 7]])"
      ]
     },
     "execution_count": 17,
     "metadata": {},
     "output_type": "execute_result"
    }
   ],
   "source": [
    "# Create a full array\n",
    "np.full((2, 2), 7)"
   ]
  },
  {
   "cell_type": "code",
   "execution_count": 19,
   "metadata": {},
   "outputs": [
    {
     "name": "stdout",
     "output_type": "stream",
     "text": [
      "[10 15 20]\n"
     ]
    }
   ],
   "source": [
    "# Create an array of evenly-spaced values\n",
    "print(np.arange(10, 25, 5))"
   ]
  },
  {
   "cell_type": "code",
   "execution_count": 20,
   "metadata": {},
   "outputs": [
    {
     "data": {
      "text/plain": [
       "array([0.  , 0.25, 0.5 , 0.75, 1.  , 1.25, 1.5 , 1.75, 2.  ])"
      ]
     },
     "execution_count": 20,
     "metadata": {},
     "output_type": "execute_result"
    }
   ],
   "source": [
    "# Create an array of evenly-spaced values\n",
    "np.linspace(0, 2, 9)"
   ]
  },
  {
   "cell_type": "markdown",
   "metadata": {},
   "source": [
    "* For some, such as ```np.ones()```, ```np.random.random()```, ```np.empty()```, ```np.full()``` or ```np.zeros()``` the only thing that you need to do in order to make arrays with ones or zeros is pass the shape of the array that you want to make. As an option to ```np.ones()``` and ```np.zeros()```, you can also specify the data type. In the case of ```np.full()```, you also have to specify the constant value that you want to insert into the array.\n",
    "* With ```np.linspace()``` and ```np.arange()``` you can make arrays of evenly spaced values. The difference between these two functions is that the last value of the three that are passed in the code chunk above designates either the step value for np.linspace() or a number of samples for np.arange(). What happens in the first is that you want, for example, an array of 9 values that lie between 0 and 2. For the latter, you specify that you want an array to start at 10 and per steps of 5, generate values for the array that you’re creating.\n",
    "* Remember that NumPy also allows you to create an identity array or matrix with ```np.eye()``` and ```np.identity()```. An identity matrix is a square matrix of which all elements in the principal diagonal are ones, and all other elements are zeros. When you multiply a matrix with an identity matrix, the given matrix is left unchanged."
   ]
  },
  {
   "cell_type": "markdown",
   "metadata": {},
   "source": [
    "### How To Load NumPy Arrays From Text\n",
    "\n",
    "Creating arrays with the help of initial placeholders or with some example data is an excellent way of getting started with ```numpy```. But when you want to get started with data analysis, you’ll need to load data from text files.\n",
    "\n",
    "With that what you have seen up until now, you won’t really be able to do much. Make use of some specific functions to load data from your files, such as ```loadtxt()``` or ```genfromtxt()```.\n",
    "\n",
    "Let’s say you have the following text files with data:"
   ]
  },
  {
   "cell_type": "code",
   "execution_count": 21,
   "metadata": {},
   "outputs": [
    {
     "name": "stdout",
     "output_type": "stream",
     "text": [
      "[0.2536 0.4839 0.1292 0.1781 0.6253 0.6253]\n",
      "[0.1008 0.4536 0.6875 0.3049 0.3486 0.3486]\n",
      "[0.3857 0.3561 0.5929 0.8928 0.8791 0.8791]\n"
     ]
    }
   ],
   "source": [
    "# Import your data\n",
    "x, y, z = np.loadtxt('data.txt',\n",
    "                    skiprows=1,\n",
    "                    unpack=True)\n",
    "print(x)\n",
    "print(y)\n",
    "print(z)"
   ]
  },
  {
   "cell_type": "markdown",
   "metadata": {},
   "source": [
    "In the code above, you use ```loadtxt()``` to load the data in your environment. You see that the first argument that both functions take is the text file ```data.txt```. Next, there are some specific arguments for each: in the first statement, you skip the first row, and you return the columns as separate arrays with ```unpack=TRUE```. This means that the values in column ```Value1``` will be put in ```x```, and so on.\n",
    "\n",
    "Note that, in case you have comma-delimited data or if you want to specify the data type, there are also the arguments ```delimiter``` and ```dtype``` that you can add to the ```loadtxt()``` arguments."
   ]
  },
  {
   "cell_type": "code",
   "execution_count": 22,
   "metadata": {},
   "outputs": [
    {
     "name": "stdout",
     "output_type": "stream",
     "text": [
      "[[ 4.839e-01  4.536e-01  3.561e-01]\n",
      " [ 1.292e-01  6.875e-01 -9.990e+02]\n",
      " [ 1.781e-01  3.049e-01  8.928e-01]\n",
      " [-9.990e+02  5.801e-01  2.038e-01]\n",
      " [ 5.993e-01  4.357e-01  7.410e-01]]\n"
     ]
    }
   ],
   "source": [
    "my_array2 = np.genfromtxt('data2.txt',\n",
    "                      skip_header=1,\n",
    "                      filling_values=-999)\n",
    "print(my_array2)"
   ]
  },
  {
   "cell_type": "markdown",
   "metadata": {},
   "source": [
    "You see that here, you resort to ```genfromtxt()``` to load the data. In this case, you have to handle some missing values that are indicated by the ```'MISSING'``` strings. Since the ```genfromtxt()``` function converts character strings in numeric columns to ```nan```, you can convert these values to other ones by specifying the filling_values argument. In this case, you choose to set the value of these missing values to -999.\n",
    "\n",
    "If by any chance, you have values that don’t get converted to ```nan``` by ```genfromtxt()```, there’s always the ```missing_values``` argument that allows you to specify what the missing values of your data exactly are.\n",
    "\n",
    "But this is not all.\n",
    "\n",
    "Tip: check out [this page](https://docs.scipy.org/doc/numpy/reference/generated/numpy.genfromtxt.html#numpy.genfromtxt) to see what other arguments you can add to import your data successfully.\n",
    "\n",
    "You now might wonder what the difference between these two functions really is.\n",
    "\n",
    "The examples indicated this maybe implicitly, but, in general, ```genfromtxt()``` gives you a little bit more flexibility; It’s more robust than ```loadtxt()```.\n",
    "\n",
    "Let’s make this difference a little bit more practical: the latter, loadtxt(), only works when each row in the text file has the same number of values; So when you want to handle missing values easily, you’ll typically find it easier to use genfromtxt().\n",
    "\n",
    "But this is definitely not the only reason.\n",
    "\n",
    "A brief look on the number of arguments that ```genfromtxt()``` has to offer will teach you that there is really a lot more things that you can specify in your import, such as the maximum number of rows to read or the option to automatically strip white spaces from variables."
   ]
  },
  {
   "cell_type": "markdown",
   "metadata": {},
   "source": [
    "### How To Save NumPy Arrays\n",
    "Once you have done everything that you need to do with your arrays, you can also save them to a file. If you want to save the array to a text file, you can use the ```savetxt()``` function to do this:"
   ]
  },
  {
   "cell_type": "code",
   "execution_count": 23,
   "metadata": {},
   "outputs": [
    {
     "name": "stdout",
     "output_type": "stream",
     "text": [
      "[0. 1. 2. 3. 4.]\n"
     ]
    }
   ],
   "source": [
    "x = np.arange(0.0, 5.0, 1.0)\n",
    "print(x)\n",
    "np.savetxt('test.out', x, delimiter=',')"
   ]
  },
  {
   "cell_type": "markdown",
   "metadata": {},
   "source": [
    "Remember that ```np.arange()``` creates a NumPy array of evenly-spaced values. The third value that you pass to this function is the step value.\n",
    "\n",
    "There are, of course, other ways to save your NumPy arrays to text files. Check out the functions in the table below if you want to get your data to binary files or archives:\n",
    "\n",
    "| | |\n",
    "| --- | --- |\n",
    "| ```save()``` | Save an array to a binary file in NumPy .npy format |\n",
    "| ```savez()``` | Save several arrays into an uncompressed .npz archive |\n",
    "| ```savez_compressed()``` | Save several arrays into a compressed .npz archive |"
   ]
  },
  {
   "cell_type": "markdown",
   "metadata": {},
   "source": [
    "### How To Inspect Your NumPy Arrays\n",
    "\n",
    "Besides the array attributes that have been mentioned above, namely, data, shape, dtype and strides, there are some more that you can use to easily get to know more about your arrays. The ones that you might find interesting to use when you’re just starting out are the following:"
   ]
  },
  {
   "cell_type": "code",
   "execution_count": 24,
   "metadata": {},
   "outputs": [
    {
     "name": "stdout",
     "output_type": "stream",
     "text": [
      "2\n"
     ]
    }
   ],
   "source": [
    "# Print the number of `my_array`'s dimensions\n",
    "print(my_array.ndim)"
   ]
  },
  {
   "cell_type": "code",
   "execution_count": 25,
   "metadata": {},
   "outputs": [
    {
     "name": "stdout",
     "output_type": "stream",
     "text": [
      "8\n"
     ]
    }
   ],
   "source": [
    "# Print the number of `my_array`'s elements\n",
    "print(my_array.size)"
   ]
  },
  {
   "cell_type": "code",
   "execution_count": 26,
   "metadata": {},
   "outputs": [
    {
     "name": "stdout",
     "output_type": "stream",
     "text": [
      "  C_CONTIGUOUS : True\n",
      "  F_CONTIGUOUS : False\n",
      "  OWNDATA : True\n",
      "  WRITEABLE : True\n",
      "  ALIGNED : True\n",
      "  WRITEBACKIFCOPY : False\n",
      "  UPDATEIFCOPY : False\n"
     ]
    }
   ],
   "source": [
    "# Print information about `my_array`'s memory layout\n",
    "print(my_array.flags)"
   ]
  },
  {
   "cell_type": "code",
   "execution_count": 27,
   "metadata": {},
   "outputs": [
    {
     "name": "stdout",
     "output_type": "stream",
     "text": [
      "4\n"
     ]
    }
   ],
   "source": [
    "# Print the length of one array element in bytes\n",
    "print(my_array.itemsize)"
   ]
  },
  {
   "cell_type": "code",
   "execution_count": 28,
   "metadata": {},
   "outputs": [
    {
     "name": "stdout",
     "output_type": "stream",
     "text": [
      "32\n"
     ]
    }
   ],
   "source": [
    "# Print the total consumed bytes by `my_array`'s elements\n",
    "print(my_array.nbytes)"
   ]
  },
  {
   "cell_type": "markdown",
   "metadata": {},
   "source": [
    "Also note that, besides the attributes, you also have some other ways of gaining more information on and even tweaking your array slightly:"
   ]
  },
  {
   "cell_type": "code",
   "execution_count": 29,
   "metadata": {},
   "outputs": [
    {
     "name": "stdout",
     "output_type": "stream",
     "text": [
      "2\n"
     ]
    }
   ],
   "source": [
    "# Print the length of `my_array`\n",
    "print(len(my_array))"
   ]
  },
  {
   "cell_type": "code",
   "execution_count": 32,
   "metadata": {},
   "outputs": [
    {
     "data": {
      "text/plain": [
       "array([[1., 2., 3., 4.],\n",
       "       [5., 6., 7., 8.]])"
      ]
     },
     "execution_count": 32,
     "metadata": {},
     "output_type": "execute_result"
    }
   ],
   "source": [
    "# Change the data type of `my_array`\n",
    "my_array.astype(float)"
   ]
  },
  {
   "cell_type": "markdown",
   "metadata": {},
   "source": [
    "## How NumPy Broadcasting Works\n",
    "\n",
    "Before you go deeper into scientific computing, it might be a good idea to first go over what broadcasting exactly is: it’s a mechanism that allows NumPy to work with arrays of different shapes when you’re performing arithmetic operations.\n",
    "\n",
    "To put it in a more practical context, you often have an array that’s somewhat larger and another one that’s slightly smaller. Ideally, you want to use the smaller array multiple times to perform an operation (such as a sum, multiplication, etc.) on the larger array.\n",
    "\n",
    "To do this, you use the broadcasting mechanism.\n",
    "\n",
    "However, there are some rules if you want to use it. And, before you already sigh, you’ll see that these “rules” are very simple and kind of straightforward!\n",
    "\n",
    "* First off, to make sure that the broadcasting is successful, the dimensions of your arrays need to be compatible. Two dimensions are compatible when they are equal. Consider the following example:"
   ]
  },
  {
   "cell_type": "code",
   "execution_count": 37,
   "metadata": {},
   "outputs": [
    {
     "name": "stdout",
     "output_type": "stream",
     "text": [
      "(3, 4)\n",
      "[[1. 1. 1. 1.]\n",
      " [1. 1. 1. 1.]\n",
      " [1. 1. 1. 1.]]\n",
      "(3, 4)\n",
      "[[0.4511468  0.14481101 0.58802688 0.24370081]\n",
      " [0.68376654 0.88216529 0.3002039  0.76107183]\n",
      " [0.75735922 0.02989146 0.3326997  0.29215762]]\n"
     ]
    },
    {
     "data": {
      "text/plain": [
       "array([[1.4511468 , 1.14481101, 1.58802688, 1.24370081],\n",
       "       [1.68376654, 1.88216529, 1.3002039 , 1.76107183],\n",
       "       [1.75735922, 1.02989146, 1.3326997 , 1.29215762]])"
      ]
     },
     "execution_count": 37,
     "metadata": {},
     "output_type": "execute_result"
    }
   ],
   "source": [
    "# Initialize `x`\n",
    "x = np.ones((3, 4))\n",
    "\n",
    "# Check shape of `x`\n",
    "print(x.shape)\n",
    "print(x)\n",
    "\n",
    "# Initialize `y`\n",
    "y = np.random.random((3, 4))\n",
    "\n",
    "# Check shape of `y`\n",
    "print(y.shape)\n",
    "print(y)\n",
    "\n",
    "# Add `x` and `y`\n",
    "x + y"
   ]
  },
  {
   "cell_type": "markdown",
   "metadata": {},
   "source": [
    "* Two dimensions are also compatible when one of them is 1:"
   ]
  },
  {
   "cell_type": "code",
   "execution_count": 38,
   "metadata": {},
   "outputs": [
    {
     "name": "stdout",
     "output_type": "stream",
     "text": [
      "(3, 4)\n",
      "[[1. 1. 1. 1.]\n",
      " [1. 1. 1. 1.]\n",
      " [1. 1. 1. 1.]]\n",
      "(4,)\n",
      "[0 1 2 3]\n"
     ]
    },
    {
     "data": {
      "text/plain": [
       "array([[ 1.,  0., -1., -2.],\n",
       "       [ 1.,  0., -1., -2.],\n",
       "       [ 1.,  0., -1., -2.]])"
      ]
     },
     "execution_count": 38,
     "metadata": {},
     "output_type": "execute_result"
    }
   ],
   "source": [
    "# Initialize `x`\n",
    "x = np.ones((3, 4))\n",
    "\n",
    "# Check shape of `x`\n",
    "print(x.shape)\n",
    "print(x)\n",
    "\n",
    "# Initialize `y`\n",
    "y = np.arange(4)\n",
    "\n",
    "# Check shape of `y`\n",
    "print(y.shape)\n",
    "print(y)\n",
    "\n",
    "# Subtract `x` and `y`\n",
    "x - y "
   ]
  },
  {
   "cell_type": "markdown",
   "metadata": {},
   "source": [
    "Note that if the dimensions are not compatible, you will get a ```ValueError```.\n",
    "\n",
    "*Tip: also test what the size of the resulting array is after you have done the computations! You’ll see that the size is actually the maximum size along each dimension of the input arrays.*\n",
    "\n",
    "In other words, you see that the result of ```x-y``` gives an array with shape ```(3,4)```: ```y``` had a shape of ```(4,)``` and ```x``` had a shape of ```(3,4)```. The maximum size along each dimension of x and y is taken to make up the shape of the new, resulting array.\n",
    "\n",
    "Lastly, the arrays can only be broadcast together if they are compatible in all dimensions. Consider the following example:"
   ]
  },
  {
   "cell_type": "code",
   "execution_count": 40,
   "metadata": {},
   "outputs": [
    {
     "data": {
      "text/plain": [
       "array([[[1.52733314, 1.4260942 , 1.80696314, 1.57838685],\n",
       "        [1.52733314, 1.4260942 , 1.80696314, 1.57838685],\n",
       "        [1.52733314, 1.4260942 , 1.80696314, 1.57838685]],\n",
       "\n",
       "       [[1.18964483, 1.24887704, 1.14078041, 1.68675731],\n",
       "        [1.18964483, 1.24887704, 1.14078041, 1.68675731],\n",
       "        [1.18964483, 1.24887704, 1.14078041, 1.68675731]],\n",
       "\n",
       "       [[1.11607086, 1.3413738 , 1.99441401, 1.73364435],\n",
       "        [1.11607086, 1.3413738 , 1.99441401, 1.73364435],\n",
       "        [1.11607086, 1.3413738 , 1.99441401, 1.73364435]],\n",
       "\n",
       "       [[1.15934104, 1.67822692, 1.79716903, 1.02368484],\n",
       "        [1.15934104, 1.67822692, 1.79716903, 1.02368484],\n",
       "        [1.15934104, 1.67822692, 1.79716903, 1.02368484]],\n",
       "\n",
       "       [[1.98791283, 1.91882578, 1.30496902, 1.92508811],\n",
       "        [1.98791283, 1.91882578, 1.30496902, 1.92508811],\n",
       "        [1.98791283, 1.91882578, 1.30496902, 1.92508811]]])"
      ]
     },
     "execution_count": 40,
     "metadata": {},
     "output_type": "execute_result"
    }
   ],
   "source": [
    "# Initialize `x` and `y`\n",
    "x = np.ones((3, 4))\n",
    "y = np.random.random((5,1,4))\n",
    "\n",
    "# Add `x` and `y`\n",
    "x + y"
   ]
  },
  {
   "cell_type": "markdown",
   "metadata": {},
   "source": [
    "You see that, even though ```x``` and ```y``` seem to have somewhat different dimensions, the two can be added together.\n",
    "\n",
    "That is because they are compatible in all dimensions:\n",
    "\n",
    "* Array ```x``` has dimensions 3 X 4,\n",
    "* Array ```y``` has dimensions 5 X 1 X 4\n",
    "\n",
    "Since you have seen above that dimensions are also compatible if one of them is equal to 1, you see that these two arrays are indeed a good candidate for broadcasting!\n",
    "\n",
    "What you will notice is that in the dimension where ```y``` has size 1, and the other array has a size greater than 1 (that is, 3), the first array behaves as if it were copied along that dimension.\n",
    "\n",
    "Note that the shape of the resulting array will again be the maximum size along each dimension of ```x``` and ```y```: the dimension of the result will be ```(5,3,4)```\n",
    "\n",
    "In short, if you want to make use of broadcasting, you will rely a lot on the shape and dimensions of the arrays with which you’re working.\n",
    "\n",
    "But what if the dimensions are not compatible?\n",
    "\n",
    "What if they are not equal or if one of them is not equal to 1?\n",
    "\n",
    "You’ll have to fix this by manipulating your array! You’ll see how to do this in one of the next sections."
   ]
  },
  {
   "cell_type": "markdown",
   "metadata": {},
   "source": [
    "## How Do Array Mathematics Work?\n",
    "\n",
    "You’ve seen that broadcasting is handy when you’re doing arithmetic operations. In this section, you’ll discover some of the functions that you can use to do mathematics with arrays.\n",
    "\n",
    "As such, it probably won’t surprise you that you can just use ```+```, ```-```, ```*```, ```/``` or ```%``` to add, subtract, multiply, divide or calculate the remainder of two (or more) arrays. However, a big part of why NumPy is so handy, is because it also has functions to do this. The equivalent functions of the operations that you have seen just now are, respectively, ```np.add()```, ```np.subtract()```, ```np.multiply()```, ```np.divide()``` and ```np.remainder()```.\n",
    "\n",
    "You can also easily do exponentiation and taking the square root of your arrays with ```np.exp()``` and ```np.sqrt()```, or calculate the sines or cosines of your array with ```np.sin()``` and ```np.cos()```. Lastly, its’ also useful to mention that there’s also a way for you to calculate the natural logarithm with ```np.log()``` or calculate the dot product by applying the ```dot()``` to your array."
   ]
  },
  {
   "cell_type": "code",
   "execution_count": 41,
   "metadata": {},
   "outputs": [
    {
     "data": {
      "text/plain": [
       "array([[[1.52733314, 1.4260942 , 1.80696314, 1.57838685],\n",
       "        [1.52733314, 1.4260942 , 1.80696314, 1.57838685],\n",
       "        [1.52733314, 1.4260942 , 1.80696314, 1.57838685]],\n",
       "\n",
       "       [[1.18964483, 1.24887704, 1.14078041, 1.68675731],\n",
       "        [1.18964483, 1.24887704, 1.14078041, 1.68675731],\n",
       "        [1.18964483, 1.24887704, 1.14078041, 1.68675731]],\n",
       "\n",
       "       [[1.11607086, 1.3413738 , 1.99441401, 1.73364435],\n",
       "        [1.11607086, 1.3413738 , 1.99441401, 1.73364435],\n",
       "        [1.11607086, 1.3413738 , 1.99441401, 1.73364435]],\n",
       "\n",
       "       [[1.15934104, 1.67822692, 1.79716903, 1.02368484],\n",
       "        [1.15934104, 1.67822692, 1.79716903, 1.02368484],\n",
       "        [1.15934104, 1.67822692, 1.79716903, 1.02368484]],\n",
       "\n",
       "       [[1.98791283, 1.91882578, 1.30496902, 1.92508811],\n",
       "        [1.98791283, 1.91882578, 1.30496902, 1.92508811],\n",
       "        [1.98791283, 1.91882578, 1.30496902, 1.92508811]]])"
      ]
     },
     "execution_count": 41,
     "metadata": {},
     "output_type": "execute_result"
    }
   ],
   "source": [
    "# Add `x` and `y`\n",
    "np.add(x, y)"
   ]
  },
  {
   "cell_type": "code",
   "execution_count": 42,
   "metadata": {},
   "outputs": [
    {
     "data": {
      "text/plain": [
       "array([[[0.47266686, 0.5739058 , 0.19303686, 0.42161315],\n",
       "        [0.47266686, 0.5739058 , 0.19303686, 0.42161315],\n",
       "        [0.47266686, 0.5739058 , 0.19303686, 0.42161315]],\n",
       "\n",
       "       [[0.81035517, 0.75112296, 0.85921959, 0.31324269],\n",
       "        [0.81035517, 0.75112296, 0.85921959, 0.31324269],\n",
       "        [0.81035517, 0.75112296, 0.85921959, 0.31324269]],\n",
       "\n",
       "       [[0.88392914, 0.6586262 , 0.00558599, 0.26635565],\n",
       "        [0.88392914, 0.6586262 , 0.00558599, 0.26635565],\n",
       "        [0.88392914, 0.6586262 , 0.00558599, 0.26635565]],\n",
       "\n",
       "       [[0.84065896, 0.32177308, 0.20283097, 0.97631516],\n",
       "        [0.84065896, 0.32177308, 0.20283097, 0.97631516],\n",
       "        [0.84065896, 0.32177308, 0.20283097, 0.97631516]],\n",
       "\n",
       "       [[0.01208717, 0.08117422, 0.69503098, 0.07491189],\n",
       "        [0.01208717, 0.08117422, 0.69503098, 0.07491189],\n",
       "        [0.01208717, 0.08117422, 0.69503098, 0.07491189]]])"
      ]
     },
     "execution_count": 42,
     "metadata": {},
     "output_type": "execute_result"
    }
   ],
   "source": [
    "# Subtract `x` and `y`\n",
    "np.subtract(x, y)"
   ]
  },
  {
   "cell_type": "code",
   "execution_count": 43,
   "metadata": {},
   "outputs": [
    {
     "data": {
      "text/plain": [
       "array([[[0.52733314, 0.4260942 , 0.80696314, 0.57838685],\n",
       "        [0.52733314, 0.4260942 , 0.80696314, 0.57838685],\n",
       "        [0.52733314, 0.4260942 , 0.80696314, 0.57838685]],\n",
       "\n",
       "       [[0.18964483, 0.24887704, 0.14078041, 0.68675731],\n",
       "        [0.18964483, 0.24887704, 0.14078041, 0.68675731],\n",
       "        [0.18964483, 0.24887704, 0.14078041, 0.68675731]],\n",
       "\n",
       "       [[0.11607086, 0.3413738 , 0.99441401, 0.73364435],\n",
       "        [0.11607086, 0.3413738 , 0.99441401, 0.73364435],\n",
       "        [0.11607086, 0.3413738 , 0.99441401, 0.73364435]],\n",
       "\n",
       "       [[0.15934104, 0.67822692, 0.79716903, 0.02368484],\n",
       "        [0.15934104, 0.67822692, 0.79716903, 0.02368484],\n",
       "        [0.15934104, 0.67822692, 0.79716903, 0.02368484]],\n",
       "\n",
       "       [[0.98791283, 0.91882578, 0.30496902, 0.92508811],\n",
       "        [0.98791283, 0.91882578, 0.30496902, 0.92508811],\n",
       "        [0.98791283, 0.91882578, 0.30496902, 0.92508811]]])"
      ]
     },
     "execution_count": 43,
     "metadata": {},
     "output_type": "execute_result"
    }
   ],
   "source": [
    "# Multiply `x` and `y`\n",
    "np.multiply(x, y)"
   ]
  },
  {
   "cell_type": "code",
   "execution_count": 44,
   "metadata": {},
   "outputs": [
    {
     "data": {
      "text/plain": [
       "array([[[ 1.89633445,  2.34689889,  1.23921397,  1.72894664],\n",
       "        [ 1.89633445,  2.34689889,  1.23921397,  1.72894664],\n",
       "        [ 1.89633445,  2.34689889,  1.23921397,  1.72894664]],\n",
       "\n",
       "       [[ 5.2730149 ,  4.0180484 ,  7.10326094,  1.45611847],\n",
       "        [ 5.2730149 ,  4.0180484 ,  7.10326094,  1.45611847],\n",
       "        [ 5.2730149 ,  4.0180484 ,  7.10326094,  1.45611847]],\n",
       "\n",
       "       [[ 8.61542668,  2.92934023,  1.00561737,  1.36305826],\n",
       "        [ 8.61542668,  2.92934023,  1.00561737,  1.36305826],\n",
       "        [ 8.61542668,  2.92934023,  1.00561737,  1.36305826]],\n",
       "\n",
       "       [[ 6.27584701,  1.47443278,  1.25443909, 42.22109204],\n",
       "        [ 6.27584701,  1.47443278,  1.25443909, 42.22109204],\n",
       "        [ 6.27584701,  1.47443278,  1.25443909, 42.22109204]],\n",
       "\n",
       "       [[ 1.01223506,  1.08834561,  3.27902154,  1.08097811],\n",
       "        [ 1.01223506,  1.08834561,  3.27902154,  1.08097811],\n",
       "        [ 1.01223506,  1.08834561,  3.27902154,  1.08097811]]])"
      ]
     },
     "execution_count": 44,
     "metadata": {},
     "output_type": "execute_result"
    }
   ],
   "source": [
    "# Divide `x` and `y`\n",
    "np.divide(x, y)"
   ]
  },
  {
   "cell_type": "code",
   "execution_count": 45,
   "metadata": {},
   "outputs": [
    {
     "data": {
      "text/plain": [
       "array([[[0.47266686, 0.1478116 , 0.19303686, 0.42161315],\n",
       "        [0.47266686, 0.1478116 , 0.19303686, 0.42161315],\n",
       "        [0.47266686, 0.1478116 , 0.19303686, 0.42161315]],\n",
       "\n",
       "       [[0.05177586, 0.00449183, 0.01453712, 0.31324269],\n",
       "        [0.05177586, 0.00449183, 0.01453712, 0.31324269],\n",
       "        [0.05177586, 0.00449183, 0.01453712, 0.31324269]],\n",
       "\n",
       "       [[0.0714331 , 0.3172524 , 0.00558599, 0.26635565],\n",
       "        [0.0714331 , 0.3172524 , 0.00558599, 0.26635565],\n",
       "        [0.0714331 , 0.3172524 , 0.00558599, 0.26635565]],\n",
       "\n",
       "       [[0.04395375, 0.32177308, 0.20283097, 0.00523653],\n",
       "        [0.04395375, 0.32177308, 0.20283097, 0.00523653],\n",
       "        [0.04395375, 0.32177308, 0.20283097, 0.00523653]],\n",
       "\n",
       "       [[0.01208717, 0.08117422, 0.08509293, 0.07491189],\n",
       "        [0.01208717, 0.08117422, 0.08509293, 0.07491189],\n",
       "        [0.01208717, 0.08117422, 0.08509293, 0.07491189]]])"
      ]
     },
     "execution_count": 45,
     "metadata": {},
     "output_type": "execute_result"
    }
   ],
   "source": [
    "# Calculate the remainder of `x` and `y`\n",
    "np.remainder(x, y)"
   ]
  },
  {
   "cell_type": "markdown",
   "metadata": {},
   "source": [
    "Remember how broadcasting works? Check out the dimensions and the shapes of both x and y in your IPython shell. Are the rules of broadcasting respected?\n",
    "\n",
    "But there is more.\n",
    "\n",
    "Check out this small list of aggregate functions:\n",
    "\n",
    "| | |\n",
    "| --- | --- |\n",
    "| ```a.sum()``` |\tArray-wise sum |\n",
    "| ```a.min()``` |\tArray-wise minimum value |\n",
    "| ```b.max(axis=0)``` |\tMaximum value of an array row |\n",
    "| ```b.cumsum(axis=1)``` |\tCumulative sum of the elements |\n",
    "| ```a.mean()``` |\tMean |\n",
    "| ```b.median()``` |\tMedian |\n",
    "| ```a.corrcoef()``` |\tCorrelation coefficient |\n",
    "| ```np.std(b)``` |\tStandard deviation |"
   ]
  },
  {
   "cell_type": "markdown",
   "metadata": {},
   "source": [
    "Besides all of these functions, you might also find it useful to know that there are mechanisms that allow you to compare array elements. For example, if you want to check whether the elements of two arrays are the same, you might use the ```==``` operator. To check whether the array elements are smaller or bigger, you use the ```<``` or ```>``` operators.\n",
    "\n",
    "This all seems quite straightforward, yes?\n",
    "\n",
    "However, you can also compare entire arrays with each other! In this case, you use the ```np.array_equal()``` function. Just pass in the two arrays that you want to compare with each other, and you’re done.\n",
    "\n",
    "Note that, besides comparing, you can also perform logical operations on your arrays. You can start with ```np.logical_or()```, ```np.logical_not()``` and ```np.logical_and()```. This basically works like your typical OR, NOT and AND logical operations;\n",
    "\n",
    "In the simplest example, you use OR to see whether your elements are the same (for example, 1), or if one of the two array elements is 1. If both of them are 0, you’ll return ```FALSE```. You would use AND to see whether your second element is also 1 and NOT to see if the second element differs from 1."
   ]
  },
  {
   "cell_type": "code",
   "execution_count": 327,
   "metadata": {},
   "outputs": [
    {
     "data": {
      "text/plain": [
       "array([[[ True,  True,  True,  True],\n",
       "        [ True,  True,  True,  True],\n",
       "        [ True,  True,  True,  True]],\n",
       "\n",
       "       [[ True,  True,  True,  True],\n",
       "        [ True,  True,  True,  True],\n",
       "        [ True,  True,  True,  True]],\n",
       "\n",
       "       [[ True,  True,  True,  True],\n",
       "        [ True,  True,  True,  True],\n",
       "        [ True,  True,  True,  True]],\n",
       "\n",
       "       [[ True,  True,  True,  True],\n",
       "        [ True,  True,  True,  True],\n",
       "        [ True,  True,  True,  True]],\n",
       "\n",
       "       [[ True,  True,  True,  True],\n",
       "        [ True,  True,  True,  True],\n",
       "        [ True,  True,  True,  True]]])"
      ]
     },
     "execution_count": 327,
     "metadata": {},
     "output_type": "execute_result"
    }
   ],
   "source": [
    "# `x` AND `y` \n",
    "np.logical_and(x, y)"
   ]
  },
  {
   "cell_type": "code",
   "execution_count": 328,
   "metadata": {},
   "outputs": [
    {
     "data": {
      "text/plain": [
       "array([[[ True,  True,  True,  True],\n",
       "        [ True,  True,  True,  True],\n",
       "        [ True,  True,  True,  True]],\n",
       "\n",
       "       [[ True,  True,  True,  True],\n",
       "        [ True,  True,  True,  True],\n",
       "        [ True,  True,  True,  True]],\n",
       "\n",
       "       [[ True,  True,  True,  True],\n",
       "        [ True,  True,  True,  True],\n",
       "        [ True,  True,  True,  True]],\n",
       "\n",
       "       [[ True,  True,  True,  True],\n",
       "        [ True,  True,  True,  True],\n",
       "        [ True,  True,  True,  True]],\n",
       "\n",
       "       [[ True,  True,  True,  True],\n",
       "        [ True,  True,  True,  True],\n",
       "        [ True,  True,  True,  True]]])"
      ]
     },
     "execution_count": 328,
     "metadata": {},
     "output_type": "execute_result"
    }
   ],
   "source": [
    "# `x` OR `y` \n",
    "np.logical_or(x, y)"
   ]
  },
  {
   "cell_type": "markdown",
   "metadata": {},
   "source": [
    "## How To Subset, Slice, And Index Arrays\n",
    "\n",
    "Besides mathematical operations, you might also consider taking just a part of the original array (or the resulting array) or just some array elements to use in further analysis or other operations. In such case, you will need to subset, slice and/or index your arrays.\n",
    "\n",
    "These operations are very similar to when you perform them on Python lists. If you want to check out the similarities for yourself, or if you want a more elaborate explanation, you might consider checking out DataCamp’s Python list tutorial.\n",
    "\n",
    "If you have no clue at all on how these operations work, it suffices for now to know these two basic things:\n",
    "\n",
    "* You use square brackets ```[]``` as the index operator, and\n",
    "* Generally, you pass integers to these square brackets, but you can also put a colon ```:``` or a combination of the colon with integers in it to designate the elements/rows/columns you want to select.\n",
    "\n",
    "Besides from these two points, the easiest way to see how this all fits together is by looking at some examples of subsetting:"
   ]
  },
  {
   "cell_type": "code",
   "execution_count": 46,
   "metadata": {},
   "outputs": [
    {
     "name": "stdout",
     "output_type": "stream",
     "text": [
      "[5 6 7 8]\n"
     ]
    }
   ],
   "source": [
    "# Select the element at the 1st index\n",
    "print(my_array[1])"
   ]
  },
  {
   "cell_type": "code",
   "execution_count": 47,
   "metadata": {},
   "outputs": [
    {
     "name": "stdout",
     "output_type": "stream",
     "text": [
      "7\n"
     ]
    }
   ],
   "source": [
    "# Select the element at row 1 column 2\n",
    "print(my_2d_array[1][2])"
   ]
  },
  {
   "cell_type": "code",
   "execution_count": 331,
   "metadata": {},
   "outputs": [
    {
     "name": "stdout",
     "output_type": "stream",
     "text": [
      "7\n"
     ]
    }
   ],
   "source": [
    "# Select the element at row 1 column 2\n",
    "print(my_2d_array[1,2])"
   ]
  },
  {
   "cell_type": "code",
   "execution_count": 332,
   "metadata": {},
   "outputs": [
    {
     "name": "stdout",
     "output_type": "stream",
     "text": [
      "15\n"
     ]
    }
   ],
   "source": [
    "# Select the element at row 1, column 2 and \n",
    "print(my_3d_array[1,1,2])"
   ]
  },
  {
   "cell_type": "markdown",
   "metadata": {},
   "source": [
    "Something a little bit more advanced than subsetting, if you will, is slicing. Here, you consider not just particular values of your arrays, but you go to the level of rows and columns. You’re basically working with “regions” of data instead of pure “locations”."
   ]
  },
  {
   "cell_type": "code",
   "execution_count": 333,
   "metadata": {},
   "outputs": [
    {
     "name": "stdout",
     "output_type": "stream",
     "text": [
      "[[1 2 3 4]\n",
      " [5 6 7 8]]\n"
     ]
    }
   ],
   "source": [
    "# Select items at index 0 and 1\n",
    "print(my_array[0:2])"
   ]
  },
  {
   "cell_type": "code",
   "execution_count": 334,
   "metadata": {},
   "outputs": [
    {
     "name": "stdout",
     "output_type": "stream",
     "text": [
      "[2 6]\n"
     ]
    }
   ],
   "source": [
    "# Select items at row 0 and 1, column 1\n",
    "print(my_2d_array[0:2,1])"
   ]
  },
  {
   "cell_type": "code",
   "execution_count": 335,
   "metadata": {},
   "outputs": [
    {
     "name": "stdout",
     "output_type": "stream",
     "text": [
      "[[ 9 10 11 12]\n",
      " [13 14 15 16]]\n"
     ]
    }
   ],
   "source": [
    "# Select items at row 1\n",
    "# This is the same as saying `my_3d_array[1,:,:]\n",
    "print(my_3d_array[1,...])"
   ]
  },
  {
   "cell_type": "markdown",
   "metadata": {},
   "source": [
    "Lastly, there’s also indexing. When it comes to NumPy, there are boolean indexing and advanced or “fancy” indexing.\n",
    "\n",
    "First up is boolean indexing. Here, instead of selecting elements, rows or columns based on index number, you select those values from your array that fulfill a certain condition."
   ]
  },
  {
   "cell_type": "code",
   "execution_count": 49,
   "metadata": {},
   "outputs": [
    {
     "name": "stdout",
     "output_type": "stream",
     "text": [
      "[[ True False False False]\n",
      " [False False False False]]\n",
      "[1]\n"
     ]
    }
   ],
   "source": [
    "# Try out a simple example\n",
    "mask = my_array < 2\n",
    "print(mask)\n",
    "print(my_array[mask])"
   ]
  },
  {
   "cell_type": "code",
   "execution_count": 51,
   "metadata": {},
   "outputs": [
    {
     "name": "stdout",
     "output_type": "stream",
     "text": [
      "[[False False False  True]\n",
      " [ True  True  True  True]]\n",
      "[4 5 6 7 8]\n"
     ]
    }
   ],
   "source": [
    "# Try out a simple example\n",
    "mask = my_array > 3\n",
    "print(mask)\n",
    "print(my_array[mask])"
   ]
  },
  {
   "cell_type": "code",
   "execution_count": 337,
   "metadata": {},
   "outputs": [
    {
     "name": "stdout",
     "output_type": "stream",
     "text": [
      "[ 3  4  5  6  7  8  9 10 11 12 13 14 15 16]\n"
     ]
    }
   ],
   "source": [
    "# Specify a condition\n",
    "bigger_than_3 = (my_3d_array >= 3)\n",
    "\n",
    "# Use the condition to index our 3d array\n",
    "print(my_3d_array[bigger_than_3])"
   ]
  },
  {
   "cell_type": "code",
   "execution_count": 54,
   "metadata": {},
   "outputs": [
    {
     "name": "stdout",
     "output_type": "stream",
     "text": [
      "[3 4 5 6 7 8 9]\n"
     ]
    }
   ],
   "source": [
    "# Specify a condition\n",
    "mask = (my_3d_array >= 3) & (my_3d_array < 10)\n",
    "\n",
    "# Use the condition to index our 3d array\n",
    "print(my_3d_array[mask])"
   ]
  },
  {
   "cell_type": "markdown",
   "metadata": {},
   "source": [
    "Note that, to specify a condition, you can also make use of the logical operators ```|``` (OR) and ```&``` (AND). If you would want to rewrite the condition above in such a way (which would be inefficient, but I demonstrate it here for educational purposes :)), you would get ```bigger_than_3 = (my_3d_array > 3) | (my_3d_array == 3)```.\n",
    "\n",
    "With the arrays that have been loaded in, there aren’t too many possibilities, but with arrays that contain for example, names or capitals, the possibilities could be endless!\n",
    "\n",
    "When it comes to fancy indexing, that what you basically do with it is the following: you pass a list or an array of integers to specify the order of the subset of rows you want to select out of the original array."
   ]
  },
  {
   "cell_type": "code",
   "execution_count": 55,
   "metadata": {},
   "outputs": [
    {
     "name": "stdout",
     "output_type": "stream",
     "text": [
      "[5 2 7 1]\n"
     ]
    }
   ],
   "source": [
    "# Select elements at (1,0), (0,1), (1,2) and (0,0)\n",
    "print(my_2d_array[[1, 0, 1, 0],[0, 1, 2, 0]])"
   ]
  },
  {
   "cell_type": "code",
   "execution_count": 56,
   "metadata": {},
   "outputs": [
    {
     "name": "stdout",
     "output_type": "stream",
     "text": [
      "[[5 6 7 5]\n",
      " [1 2 3 1]\n",
      " [5 6 7 5]\n",
      " [1 2 3 1]]\n"
     ]
    }
   ],
   "source": [
    "# Select a subset of the rows and columns\n",
    "print(my_2d_array[[1, 0, 1, 0]][:,[0,1,2,0]])"
   ]
  },
  {
   "cell_type": "markdown",
   "metadata": {},
   "source": [
    "Now, the second statement might seem to make less sense to you at first sight. This is normal. It might make more sense if you break it down:\n",
    "\n",
    "* If you just execute ```my_2d_array[[1,0,1,0]]```, the result is the following:"
   ]
  },
  {
   "cell_type": "code",
   "execution_count": 57,
   "metadata": {},
   "outputs": [
    {
     "data": {
      "text/plain": [
       "array([[5, 6, 7, 8],\n",
       "       [1, 2, 3, 4],\n",
       "       [5, 6, 7, 8],\n",
       "       [1, 2, 3, 4]])"
      ]
     },
     "execution_count": 57,
     "metadata": {},
     "output_type": "execute_result"
    }
   ],
   "source": [
    "my_2d_array[[1,0,1,0]]"
   ]
  },
  {
   "cell_type": "markdown",
   "metadata": {},
   "source": [
    "* What the second part, namely, ```[:,[0,1,2,0]]```, is tell you that you want to keep all the rows of this result, but that you want to change the order of the columns around a bit. You want to display the columns 0, 1, and 2 as they are right now, but you want to repeat column 0 as the last column instead of displaying column number 3. This will give you the following result:"
   ]
  },
  {
   "cell_type": "code",
   "execution_count": 341,
   "metadata": {},
   "outputs": [
    {
     "data": {
      "text/plain": [
       "array([[ 1,  2,  3,  1],\n",
       "       [ 5,  6,  7,  5],\n",
       "       [ 9, 10, 11,  9]])"
      ]
     },
     "execution_count": 341,
     "metadata": {},
     "output_type": "execute_result"
    }
   ],
   "source": [
    "my_2d_array[:,[0,1,2,0]]"
   ]
  },
  {
   "cell_type": "markdown",
   "metadata": {},
   "source": [
    "## How To Manipulate Arrays\n",
    "\n",
    "Performing mathematical operations on your arrays is one of the things that you’ll be doing, but probably most importantly to make this and the broadcasting work is to know how to manipulate your arrays.\n",
    "\n",
    "Below are some of the most common manipulations that you’ll be doing.\n",
    "\n",
    "### How To Transpose Your Arrays\n",
    "\n",
    "What transposing your arrays actually does is permuting the dimensions of it. Or, in other words, you switch around the shape of the array. Let’s take a small example to show you the effect of transposition:"
   ]
  },
  {
   "cell_type": "code",
   "execution_count": 342,
   "metadata": {},
   "outputs": [
    {
     "name": "stdout",
     "output_type": "stream",
     "text": [
      "[[ 1  2  3  4]\n",
      " [ 5  6  7  8]\n",
      " [ 9 10 11 12]]\n"
     ]
    }
   ],
   "source": [
    "# Print `my_2d_array`\n",
    "print(my_2d_array)"
   ]
  },
  {
   "cell_type": "code",
   "execution_count": 343,
   "metadata": {},
   "outputs": [
    {
     "name": "stdout",
     "output_type": "stream",
     "text": [
      "[[ 1  5  9]\n",
      " [ 2  6 10]\n",
      " [ 3  7 11]\n",
      " [ 4  8 12]]\n"
     ]
    }
   ],
   "source": [
    "# Transpose `my_2d_array`\n",
    "print(np.transpose(my_2d_array))"
   ]
  },
  {
   "cell_type": "code",
   "execution_count": 344,
   "metadata": {},
   "outputs": [
    {
     "name": "stdout",
     "output_type": "stream",
     "text": [
      "[[ 1  5  9]\n",
      " [ 2  6 10]\n",
      " [ 3  7 11]\n",
      " [ 4  8 12]]\n"
     ]
    }
   ],
   "source": [
    "# Or use `T` to transpose `my_2d_array`\n",
    "print(my_2d_array.T)"
   ]
  },
  {
   "cell_type": "markdown",
   "metadata": {},
   "source": [
    "### Reshaping Versus Resizing Your Arrays\n",
    "\n",
    "You might have read in the broadcasting section that the dimensions of your arrays need to be compatible if you want them to be good candidates for arithmetic operations. But the question of what you should do when that is not the case, was not answered yet.\n",
    "\n",
    "Well, this is where you get the answer!\n",
    "\n",
    "What you can do if the arrays don’t have the same dimensions, is resize your array. You will then return a new array that has the shape that you passed to the ```np.resize()``` function. If you pass your original array together with the new dimensions, and if that new array is larger than the one that you originally had, the new array will be filled with copies of the original array that are repeated as many times as is needed.\n",
    "\n",
    "However, if you just apply ```np.resize()``` to the array and you pass the new shape to it, the new array will be filled with zeros."
   ]
  },
  {
   "cell_type": "code",
   "execution_count": 60,
   "metadata": {},
   "outputs": [
    {
     "name": "stdout",
     "output_type": "stream",
     "text": [
      "(3, 4)\n",
      "[[1. 1. 1. 1.]\n",
      " [1. 1. 1. 1.]\n",
      " [1. 1. 1. 1.]]\n"
     ]
    }
   ],
   "source": [
    "# Print the shape of `x`\n",
    "print(x.shape)\n",
    "print(x)"
   ]
  },
  {
   "cell_type": "code",
   "execution_count": 63,
   "metadata": {},
   "outputs": [
    {
     "data": {
      "text/plain": [
       "array([[1., 1., 1.],\n",
       "       [1., 1., 1.],\n",
       "       [1., 1., 1.],\n",
       "       [1., 1., 1.]])"
      ]
     },
     "execution_count": 63,
     "metadata": {},
     "output_type": "execute_result"
    }
   ],
   "source": [
    "# Resize `x` to ((6,4))\n",
    "np.resize(x, (4, 3))"
   ]
  },
  {
   "cell_type": "code",
   "execution_count": 68,
   "metadata": {},
   "outputs": [
    {
     "data": {
      "text/plain": [
       "array([[1., 1., 1., 1.],\n",
       "       [1., 1., 1., 1.],\n",
       "       [1., 1., 1., 1.]])"
      ]
     },
     "execution_count": 68,
     "metadata": {},
     "output_type": "execute_result"
    }
   ],
   "source": [
    "np.resize(x, (3, 4))"
   ]
  },
  {
   "cell_type": "markdown",
   "metadata": {},
   "source": [
    "Besides resizing, you can also reshape your array. This means that you give a new shape to an array without changing its data. The key to reshaping is to make sure that the total size of the new array is unchanged. If you take the example of array ```x``` that was used above, which has a size of 3 X 4 or 12, you have to make sure that the new array also has a size of 12.\n",
    "\n",
    "If you want to calculate the size of an array with code, make sure to use the size attribute: ```x.size``` or ```x.reshape((2,6)).size```:"
   ]
  },
  {
   "cell_type": "code",
   "execution_count": 69,
   "metadata": {},
   "outputs": [
    {
     "name": "stdout",
     "output_type": "stream",
     "text": [
      "12\n"
     ]
    }
   ],
   "source": [
    "# Print the size of `x` to see what's possible\n",
    "print(x.size)"
   ]
  },
  {
   "cell_type": "code",
   "execution_count": 70,
   "metadata": {},
   "outputs": [
    {
     "name": "stdout",
     "output_type": "stream",
     "text": [
      "[1. 1. 1. 1. 1. 1. 1. 1. 1. 1. 1. 1.]\n"
     ]
    }
   ],
   "source": [
    "# Flatten `x`\n",
    "z = x.ravel()\n",
    "\n",
    "# Print `z`\n",
    "print(z)"
   ]
  },
  {
   "cell_type": "markdown",
   "metadata": {},
   "source": [
    "If all else fails, you can also append an array to your original one or insert or delete array elements to make sure that your dimensions fit with the other array that you want to use for your computations.\n",
    "\n",
    "Another operation that you might keep handy when you’re changing the shape of arrays is ```ravel()```. This function allows you to flatten your arrays. This means that if you ever have 2D, 3D or n-D arrays, you can just use this function to flatten it all out to a 1-D array."
   ]
  },
  {
   "cell_type": "markdown",
   "metadata": {},
   "source": [
    "### How To Append Arrays\n",
    "When you append arrays to your original array, they are “glued” to the end of that original array. If you want to make sure that what you append does not come at the end of the array, you might consider inserting it. Go to the next section if you want to know more.\n",
    "\n",
    "Appending is a pretty easy thing to do thanks to the NumPy library; You can just make use of the ```np.append()```."
   ]
  },
  {
   "cell_type": "code",
   "execution_count": 73,
   "metadata": {},
   "outputs": [
    {
     "name": "stdout",
     "output_type": "stream",
     "text": [
      "[[1 2 3 4]\n",
      " [5 6 7 8]]\n",
      "[ 1  2  3  4  5  6  7  8  7  8  9 10 11 12]\n"
     ]
    }
   ],
   "source": [
    "# Append a 1D array to your `my_array`\n",
    "new_array = np.append(my_array, [7, 8, 9, 10, 11, 12])\n",
    "\n",
    "# Print `new_array`\n",
    "print(my_array)\n",
    "print(new_array)"
   ]
  },
  {
   "cell_type": "code",
   "execution_count": 74,
   "metadata": {},
   "outputs": [
    {
     "name": "stdout",
     "output_type": "stream",
     "text": [
      "[[ 1  2  3  4  7]\n",
      " [ 5  6  7  8  8]\n",
      " [ 9 10 11 12  9]]\n"
     ]
    }
   ],
   "source": [
    "# Append an extra column to your `my_2d_array`\n",
    "new_2d_array = np.append(my_2d_array, [[7], [8], [9]], axis=1)\n",
    "\n",
    "# Print `new_2d_array`\n",
    "print(new_2d_array)"
   ]
  },
  {
   "cell_type": "markdown",
   "metadata": {},
   "source": [
    "Note how, when you append an extra column to my_2d_array, the axis is specified. Remember that axis 1 indicates the columns, while axis 0 indicates the rows in 2-D arrays."
   ]
  },
  {
   "cell_type": "markdown",
   "metadata": {},
   "source": [
    "### How To Insert And Delete Array Elements\n",
    "\n",
    "Next to appending, you can also insert and delete array elements. As you might have guessed by now, the functions that will allow you to do these operations are ```np.insert()``` and ```np.delete()```:"
   ]
  },
  {
   "cell_type": "code",
   "execution_count": 75,
   "metadata": {},
   "outputs": [
    {
     "data": {
      "text/plain": [
       "array([1, 5, 2, 3, 4, 5, 6, 7, 8], dtype=int32)"
      ]
     },
     "execution_count": 75,
     "metadata": {},
     "output_type": "execute_result"
    }
   ],
   "source": [
    "# Insert `5` at index 1\n",
    "np.insert(my_array, 1, 5)"
   ]
  },
  {
   "cell_type": "code",
   "execution_count": 353,
   "metadata": {
    "collapsed": true
   },
   "outputs": [],
   "source": [
    "# Delete the value at index 1\n",
    "# np.delete(my_array,[1])"
   ]
  },
  {
   "cell_type": "markdown",
   "metadata": {},
   "source": [
    "### How To Join And Split Arrays\n",
    "\n",
    "You can also ‘merge’ or join your arrays. There are a bunch of functions that you can use for that purpose and most of them are listed below.\n",
    "\n",
    "Try them out, but also make sure to test out what the shape of the arrays is in the IPython shell. The arrays that have been loaded are ```x```, ```my_array```, ```my_resized_array``` and ```my_2d_array```."
   ]
  },
  {
   "cell_type": "code",
   "execution_count": 354,
   "metadata": {},
   "outputs": [
    {
     "name": "stdout",
     "output_type": "stream",
     "text": [
      "[[1. 2. 3. 4.]\n",
      " [5. 6. 7. 8.]\n",
      " [1. 1. 1. 1.]\n",
      " [1. 1. 1. 1.]\n",
      " [1. 1. 1. 1.]]\n"
     ]
    }
   ],
   "source": [
    "# Concatentate `my_array` and `x`\n",
    "print(np.concatenate((my_array, x)))"
   ]
  },
  {
   "cell_type": "code",
   "execution_count": 355,
   "metadata": {},
   "outputs": [
    {
     "name": "stdout",
     "output_type": "stream",
     "text": [
      "[[ 1  2  3  4]\n",
      " [ 5  6  7  8]\n",
      " [ 1  2  3  4]\n",
      " [ 5  6  7  8]\n",
      " [ 9 10 11 12]]\n"
     ]
    }
   ],
   "source": [
    "# Stack arrays row-wise\n",
    "print(np.vstack((my_array, my_2d_array)))"
   ]
  },
  {
   "cell_type": "code",
   "execution_count": 356,
   "metadata": {},
   "outputs": [
    {
     "name": "stdout",
     "output_type": "stream",
     "text": [
      "[[91 92 93 94]\n",
      " [91 92 93 94]\n",
      " [91 92 93 94]]\n"
     ]
    }
   ],
   "source": [
    "my_resized_array = np.array([[91, 92, 93, 94], \n",
    "                             [91, 92, 93, 94], \n",
    "                             [91, 92, 93, 94]])\n",
    "print(my_resized_array)"
   ]
  },
  {
   "cell_type": "code",
   "execution_count": 357,
   "metadata": {},
   "outputs": [
    {
     "name": "stdout",
     "output_type": "stream",
     "text": [
      "[[91 92 93 94]\n",
      " [91 92 93 94]\n",
      " [91 92 93 94]\n",
      " [ 1  2  3  4]\n",
      " [ 5  6  7  8]\n",
      " [ 9 10 11 12]]\n"
     ]
    }
   ],
   "source": [
    "# Stack arrays row-wise\n",
    "print(np.r_[my_resized_array, my_2d_array])"
   ]
  },
  {
   "cell_type": "code",
   "execution_count": 358,
   "metadata": {},
   "outputs": [
    {
     "name": "stdout",
     "output_type": "stream",
     "text": [
      "[[91 92 93 94  1  2  3  4]\n",
      " [91 92 93 94  5  6  7  8]\n",
      " [91 92 93 94  9 10 11 12]]\n"
     ]
    }
   ],
   "source": [
    "# Stack arrays horizontally\n",
    "print(np.hstack((my_resized_array, my_2d_array)))"
   ]
  },
  {
   "cell_type": "code",
   "execution_count": 359,
   "metadata": {},
   "outputs": [
    {
     "name": "stdout",
     "output_type": "stream",
     "text": [
      "[[91 92 93 94  1  2  3  4]\n",
      " [91 92 93 94  5  6  7  8]\n",
      " [91 92 93 94  9 10 11 12]]\n"
     ]
    }
   ],
   "source": [
    "# Stack arrays column-wise\n",
    "print(np.column_stack((my_resized_array, my_2d_array)))"
   ]
  },
  {
   "cell_type": "code",
   "execution_count": 360,
   "metadata": {},
   "outputs": [
    {
     "name": "stdout",
     "output_type": "stream",
     "text": [
      "[[91 92 93 94  1  2  3  4]\n",
      " [91 92 93 94  5  6  7  8]\n",
      " [91 92 93 94  9 10 11 12]]\n"
     ]
    }
   ],
   "source": [
    "# Stack arrays column-wise\n",
    "print(np.c_[my_resized_array, my_2d_array])"
   ]
  },
  {
   "cell_type": "markdown",
   "metadata": {},
   "source": [
    "You’ll note a few things as you go through the functions:\n",
    "\n",
    "* The number of dimensions needs to be the same if you want to concatenate two arrays with ```np.concatenate()```. As such, if you want to concatenate an array with ```my_array```, which is 1-D, you’ll need to make sure that the second array that you have, is also 1-D.\n",
    "* With ```np.vstack()```, you effortlessly combine ```my_array``` with ```my_2d_array```. You just have to make sure that, as you’re stacking the arrays row-wise, that the number of columns in both arrays is the same. As such, you could also add an array with shape ```(2,4)``` or ```(3,4)``` to ```my_2d_array```, as long as the number of columns matches. Stated differently, the arrays must have the same shape along all but the first axis. The same holds also for when you want to use ```np.r[]```.\n",
    "* For ```np.hstack()```, you have to make sure that the number of dimensions is the same and that the number of rows in both arrays is the same. That means that you could stack arrays such as ```(2,3)``` or ```(2,4)``` to ```my_2d_array```, which itself as a shape of (2,4). Anything is possible as long as you make sure that the number of rows matches. This function is still supported by NumPy, but you should prefer ```np.concatenate()``` or ```np.stack()```.\n",
    "* With ```np.column_stack()```, you have to make sure that the arrays that you input have the same first dimension. In this case, both shapes are the same, but if ```my_resized_array``` were to be ```(2,1)``` or ```(2,)```, the arrays still would have been stacked.\n",
    "* ```np.c_[]``` is another way to concatenate. Here also, the first dimension of both arrays needs to match.\n",
    "\n",
    "When you have joined arrays, you might also want to split them at some point. Just like you can stack them horizontally, you can also do the same but then vertically. You use ```np.hsplit()``` and ```np.vsplit()```, respectively:"
   ]
  },
  {
   "cell_type": "code",
   "execution_count": 361,
   "metadata": {
    "collapsed": true
   },
   "outputs": [],
   "source": [
    "my_stacked_array = np.r_[my_resized_array, my_2d_array]"
   ]
  },
  {
   "cell_type": "code",
   "execution_count": 362,
   "metadata": {},
   "outputs": [
    {
     "name": "stdout",
     "output_type": "stream",
     "text": [
      "[array([[91, 92],\n",
      "       [91, 92],\n",
      "       [91, 92],\n",
      "       [ 1,  2],\n",
      "       [ 5,  6],\n",
      "       [ 9, 10]]), array([[93, 94],\n",
      "       [93, 94],\n",
      "       [93, 94],\n",
      "       [ 3,  4],\n",
      "       [ 7,  8],\n",
      "       [11, 12]])]\n"
     ]
    }
   ],
   "source": [
    "# Split `my_stacked_array` horizontally at the 2nd index\n",
    "print(np.hsplit(my_stacked_array, 2))"
   ]
  },
  {
   "cell_type": "code",
   "execution_count": 363,
   "metadata": {},
   "outputs": [
    {
     "name": "stdout",
     "output_type": "stream",
     "text": [
      "[array([[91, 92, 93, 94],\n",
      "       [91, 92, 93, 94],\n",
      "       [91, 92, 93, 94]]), array([[ 1,  2,  3,  4],\n",
      "       [ 5,  6,  7,  8],\n",
      "       [ 9, 10, 11, 12]])]\n"
     ]
    }
   ],
   "source": [
    "# Split `my_stacked_array` vertically at the 2nd index\n",
    "print(np.vsplit(my_stacked_array, 2))"
   ]
  },
  {
   "cell_type": "markdown",
   "metadata": {},
   "source": [
    "What you need to keep in mind when you’re using both of these split functions is probably the shape of your array. Let’s take the above case as an example: ```my_stacked_array``` has a shape of ```(2,8)```. If you want to select the index at which you want the split to occur, you have to keep the shape in mind."
   ]
  },
  {
   "cell_type": "markdown",
   "metadata": {},
   "source": [
    "## How To Visualize NumPy Arrays\n",
    "Lastly, something that will definitely come in handy is to know how you can plot your arrays. This can especially be handy in data exploration, but also in later stages of the data science workflow, when you want to visualize your arrays.\n",
    "\n",
    "### With np.histogram()\n",
    "Contrary to what the function might suggest, the ```np.histogram()``` function doesn’t draw the histogram but it does compute the occurrences of the array that fall within each bin; This will determine the area that each bar of your histogram takes up.\n",
    "\n",
    "What you pass to the ```np.histogram()``` function then is first the input data or the array that you’re working with. The array will be flattened when the histogram is computed."
   ]
  },
  {
   "cell_type": "code",
   "execution_count": 364,
   "metadata": {
    "collapsed": true
   },
   "outputs": [],
   "source": [
    "# Initialize your array\n",
    "my_3d_array = np.array([[[1,2,3,4], [5,6,7,8]], [[1,2,3,4], [9,10,11,12]]], dtype=np.int64)"
   ]
  },
  {
   "cell_type": "code",
   "execution_count": 365,
   "metadata": {},
   "outputs": [
    {
     "name": "stdout",
     "output_type": "stream",
     "text": [
      "(array([4, 2, 2, 1, 1, 1, 1, 1, 1, 2]), array([ 1. ,  2.1,  3.2,  4.3,  5.4,  6.5,  7.6,  8.7,  9.8, 10.9, 12. ]))\n"
     ]
    }
   ],
   "source": [
    "# Pass the array to `np.histogram()`\n",
    "print(np.histogram(my_3d_array))"
   ]
  },
  {
   "cell_type": "code",
   "execution_count": 366,
   "metadata": {},
   "outputs": [
    {
     "name": "stdout",
     "output_type": "stream",
     "text": [
      "(array([0, 2, 2, 2, 2, 1, 1, 1, 1, 1, 1, 2]), array([ 0,  1,  2,  3,  4,  5,  6,  7,  8,  9, 10, 11, 12]))\n"
     ]
    }
   ],
   "source": [
    "# Specify the number of bins\n",
    "print(np.histogram(my_3d_array, bins=range(0,13)))"
   ]
  },
  {
   "cell_type": "markdown",
   "metadata": {},
   "source": [
    "You’ll see that as a result, the histogram will be computed: the first array lists the frequencies for all the elements of your array, while the second array lists the bins that would be used if you don’t specify any bins.\n",
    "\n",
    "If you do specify a number of bins, the result of the computation will be different: the floats will be gone and you’ll see all integers for the bins.\n",
    "\n",
    "There are still some other arguments that you can specify that can influence the histogram that is computed. You can find all of them [here](https://docs.scipy.org/doc/numpy/reference/generated/numpy.histogram.html).\n",
    "\n",
    "But what is the point of computing such a histogram if you can’t visualize it?\n",
    "\n",
    "Visualization is a piece of cake with the help of Matplotlib, but you don’t need ```np.histogram()``` to compute the histogram. ```plt.hist()``` does this for itself when you pass it the (flattened) data and the bins:"
   ]
  },
  {
   "cell_type": "code",
   "execution_count": 367,
   "metadata": {},
   "outputs": [
    {
     "data": {
      "image/png": "[encoded data removed]",
      "text/plain": [
       "<Figure size 432x288 with 1 Axes>"
      ]
     },
     "metadata": {},
     "output_type": "display_data"
    }
   ],
   "source": [
    "# Import numpy and matplotlib\n",
    "import numpy as np\n",
    "import matplotlib.pyplot as plt\n",
    "\n",
    "# Construct the histogram with a flattened 3d array and a range of bins\n",
    "plt.hist(my_3d_array.ravel(), bins=range(0,13))\n",
    "\n",
    "# Add a title to the plot\n",
    "plt.title('Frequency of My 3D Array Elements')\n",
    "\n",
    "# Show the plot\n",
    "plt.show()"
   ]
  },
  {
   "cell_type": "markdown",
   "metadata": {},
   "source": [
    "### Using np.meshgrid()\n",
    "\n",
    "Another way to (indirectly) visualize your array is by using ```np.meshgrid()```. The problem that you face with arrays is that you need 2-D arrays of x and y coordinate values. With the above function, you can create a rectangular grid out of an array of x values and an array of y values: the ```np.meshgrid()``` function takes two 1D arrays and produces two 2D matrices corresponding to all pairs of (x, y) in the two arrays. Then, you can use these matrices to make all sorts of plots.\n",
    "\n",
    "```np.meshgrid()``` is particularly useful if you want to evaluate functions on a grid, as the code below demonstrates:"
   ]
  },
  {
   "cell_type": "code",
   "execution_count": 368,
   "metadata": {},
   "outputs": [
    {
     "data": {
      "image/png": "[encoded data removed]",
      "text/plain": [
       "<Figure size 432x288 with 2 Axes>"
      ]
     },
     "metadata": {},
     "output_type": "display_data"
    }
   ],
   "source": [
    "# Import NumPy and Matplotlib\n",
    "import numpy as np\n",
    "import matplotlib.pyplot as plt\n",
    "\n",
    "# Create an array\n",
    "points = np.arange(-5, 5, 0.01)\n",
    "\n",
    "# Make a meshgrid\n",
    "xs, ys = np.meshgrid(points, points)\n",
    "z = np.sqrt(xs ** 2 + ys ** 2)\n",
    "\n",
    "# Display the image on the axes\n",
    "plt.imshow(z, cmap=plt.cm.gray)\n",
    "\n",
    "# Draw a color bar\n",
    "plt.colorbar()\n",
    "\n",
    "# Show the plot\n",
    "plt.show()"
   ]
  },
  {
   "cell_type": "code",
   "execution_count": null,
   "metadata": {
    "collapsed": true
   },
   "outputs": [],
   "source": []
  }
 ],
 "metadata": {
  "kernelspec": {
   "display_name": "Python 3",
   "language": "python",
   "name": "python3"
  },
  "language_info": {
   "codemirror_mode": {
    "name": "ipython",
    "version": 3
   },
   "file_extension": ".py",
   "mimetype": "text/x-python",
   "name": "python",
   "nbconvert_exporter": "python",
   "pygments_lexer": "ipython3",
   "version": "3.6.8"
  }
 },
 "nbformat": 4,
 "nbformat_minor": 2
}
