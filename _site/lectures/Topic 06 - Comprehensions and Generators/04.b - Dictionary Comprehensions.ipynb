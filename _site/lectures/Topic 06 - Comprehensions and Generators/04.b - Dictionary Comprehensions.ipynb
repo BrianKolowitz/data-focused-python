{
 "cells": [
  {
   "cell_type": "markdown",
   "metadata": {},
   "source": [
    "# Python Dictionary Comprehensions\n",
    "[Python Dictionary Comprehension Tutorial](https://www.datacamp.com/community/tutorials/python-dictionary-comprehension)\n",
    "\n",
    "You'll learn:\n",
    "\n",
    "* What it is, why it is important and how it can serve as an alternative to for loops and lambda functions.\n",
    "* How to add conditionals into dictionary comprehensions: you will work with if conditions, multiple if conditions and also if-else statements.\n",
    "* What nested dictionary comprehension is, how you can use it and how you can potentially rewrite it with for loops.\n",
    "\n",
    "Dictionary comprehension is a method for transforming one dictionary into another dictionary. During this transformation, items within the original dictionary can be conditionally included in the new dictionary and each item can be transformed as needed.\n",
    "\n",
    "A good list comprehension can make your code more expressive and thus, easier to read. The key with creating comprehensions is to not let them get so complex that your head spins when you try to decipher what they are actually doing. Keeping the idea of \"easy to read\" alive.\n",
    "\n",
    "The way to do dictionary comprehension in Python is to be able to access the key objects and the value objects of a dictionary."
   ]
  },
  {
   "cell_type": "code",
   "execution_count": 1,
   "metadata": {},
   "outputs": [],
   "source": [
    "dict1 = {'a': 1, 'b': 2, 'c': 3, 'd': 4}"
   ]
  },
  {
   "cell_type": "code",
   "execution_count": 2,
   "metadata": {},
   "outputs": [
    {
     "name": "stdout",
     "output_type": "stream",
     "text": [
      "<class 'dict_keys'> dict_keys(['a', 'b', 'c', 'd'])\n"
     ]
    }
   ],
   "source": [
    "# Put all keys of `dict1` in a list and returns the list\n",
    "keys = dict1.keys()\n",
    "print(type(keys), keys)"
   ]
  },
  {
   "cell_type": "code",
   "execution_count": 3,
   "metadata": {},
   "outputs": [
    {
     "name": "stdout",
     "output_type": "stream",
     "text": [
      "<class 'dict_values'> dict_values([1, 2, 3, 4])\n"
     ]
    }
   ],
   "source": [
    "# Put all values saved in `dict1` in a list and returns the list\n",
    "vals = dict1.values()\n",
    "print(type(vals), vals)"
   ]
  },
  {
   "cell_type": "code",
   "execution_count": 4,
   "metadata": {},
   "outputs": [
    {
     "name": "stdout",
     "output_type": "stream",
     "text": [
      "{'x': 1, 'y': None, None: 'a'}\n",
      "<class 'NoneType'>\n"
     ]
    }
   ],
   "source": [
    "z = { 'x': 1, 'y': None, None: 'a'}\n",
    "print(z)\n",
    "print(type(None))"
   ]
  },
  {
   "cell_type": "markdown",
   "metadata": {},
   "source": [
    "So, now that you know how to access all the keys and their values in a dictionary. You can also access each key-value pair within a dictionary using the items() method:"
   ]
  },
  {
   "cell_type": "code",
   "execution_count": 5,
   "metadata": {},
   "outputs": [
    {
     "name": "stdout",
     "output_type": "stream",
     "text": [
      "<class 'dict_items'> dict_items([('a', 1), ('b', 2), ('c', 3), ('d', 4)])\n"
     ]
    }
   ],
   "source": [
    "items = dict1.items()\n",
    "print(type(items), items)"
   ]
  },
  {
   "cell_type": "code",
   "execution_count": 6,
   "metadata": {},
   "outputs": [],
   "source": [
    "dict1 = {'a': 1, 'b': 2, 'c': 3, 'd': 4, 'e': 5}"
   ]
  },
  {
   "cell_type": "markdown",
   "metadata": {},
   "source": [
    "This is the general template you can follow for dictionary comprehension. This can serve as the basic and the most simple template which can get more and more complex as you add conditionalities to it.\n",
    "\n",
    "```python\n",
    "dict_variable = {key:value for (key,value) in dictonary.items()}\n",
    "```"
   ]
  },
  {
   "cell_type": "code",
   "execution_count": 7,
   "metadata": {},
   "outputs": [
    {
     "name": "stdout",
     "output_type": "stream",
     "text": [
      "{'a': 2, 'b': 4, 'c': 6, 'd': 8, 'e': 10}\n"
     ]
    }
   ],
   "source": [
    "# Double each value in the dictionary\n",
    "double_dict1 = {}\n",
    "for (k,v) in dict1.items():\n",
    "    double_dict1[k] = v*2\n",
    "print(double_dict1)"
   ]
  },
  {
   "cell_type": "code",
   "execution_count": 8,
   "metadata": {},
   "outputs": [
    {
     "name": "stdout",
     "output_type": "stream",
     "text": [
      "{'a': 2, 'b': 4, 'c': 6, 'd': 8, 'e': 10}\n"
     ]
    }
   ],
   "source": [
    "# Double each value in the dictionary\n",
    "double_dict1 = {k:v*2 for (k,v) in dict1.items()}\n",
    "print(double_dict1)"
   ]
  },
  {
   "cell_type": "code",
   "execution_count": 9,
   "metadata": {},
   "outputs": [
    {
     "name": "stdout",
     "output_type": "stream",
     "text": [
      "{'a': 2, 'b': 4, 'c': 6, 'd': 8, 'e': 10}\n"
     ]
    }
   ],
   "source": [
    "# Double each value in the dictionary\n",
    "double_dict1 = {x[0]:x[1]*2 for x in dict1.items()}\n",
    "print(double_dict1)"
   ]
  },
  {
   "cell_type": "code",
   "execution_count": 10,
   "metadata": {},
   "outputs": [
    {
     "name": "stdout",
     "output_type": "stream",
     "text": [
      "{'a': 2, 'b': 4, 'c': 6, 'd': 8, 'e': 10}\n"
     ]
    }
   ],
   "source": [
    "double_dict1 = {k:dict1[k]*2 for k in dict1.keys()}\n",
    "print(double_dict1)"
   ]
  },
  {
   "cell_type": "markdown",
   "metadata": {},
   "source": [
    "You can also make changes to the key values. For example, let's create the same dictionary as above but also change the names of the key."
   ]
  },
  {
   "cell_type": "code",
   "execution_count": 11,
   "metadata": {},
   "outputs": [
    {
     "name": "stdout",
     "output_type": "stream",
     "text": [
      "{'aaaa': 1, 'bbbb': 2, 'cccc': 3, 'dddd': 4, 'eeee': 5}\n"
     ]
    }
   ],
   "source": [
    "dict1_keys = {k*4:v for (k,v) in dict1.items()}\n",
    "print(dict1_keys)"
   ]
  },
  {
   "cell_type": "markdown",
   "metadata": {},
   "source": [
    "## Why Use Dictionary Comprehension?\n",
    "\n",
    "Dictionary comprehension is a powerful concept and can be used to substitute for loops and lambda functions. However, not all for loop can be written as a dictionary comprehension but all dictionary comprehension can be written with a for loop.\n",
    "\n",
    "Consider the following problem, where you want to create a new dictionary where the key is a number divisible by 2 in a range of 0-10 and it's value is the square of the number.\n",
    "\n",
    "### Alternative to for loops \n",
    "\n",
    "For loops are used to repeat a certain operation or a block of instructions in a program for a given number of times. However, nested for loops (for loop inside another for loop) can get confusing and complex. Dictionary comprehensions are better in such situations and can simplify the readability and your understanding of the code.\n",
    "\n",
    "Let's see how the same probem can be solved using a for loop and dictionary comprehension:"
   ]
  },
  {
   "cell_type": "code",
   "execution_count": 12,
   "metadata": {},
   "outputs": [
    {
     "name": "stdout",
     "output_type": "stream",
     "text": [
      "{0: 0, 2: 4, 4: 16, 6: 36, 8: 64}\n"
     ]
    }
   ],
   "source": [
    "numbers = range(10)\n",
    "new_dict_for = {}\n",
    "\n",
    "# Add values to `new_dict` using for loop\n",
    "for n in numbers:\n",
    "    if n % 2 == 0:\n",
    "        new_dict_for[n] = n**2\n",
    "\n",
    "print(new_dict_for)"
   ]
  },
  {
   "cell_type": "code",
   "execution_count": 13,
   "metadata": {},
   "outputs": [
    {
     "name": "stdout",
     "output_type": "stream",
     "text": [
      "{0: 0, 2: 4, 4: 16, 6: 36, 8: 64}\n"
     ]
    }
   ],
   "source": [
    "# Use dictionary comprehension\n",
    "new_dict_comp = {n:n**2 for n in numbers if n % 2 == 0}\n",
    "\n",
    "print(new_dict_comp)"
   ]
  },
  {
   "cell_type": "markdown",
   "metadata": {},
   "source": [
    "### Alternative to lambda functions\n",
    "\n",
    "Lambda functions are a way of creating small anonymous functions. They are functions without a name. These functions are throw-away functions, which are only needed where they have been created. Lambda functions are mainly used in combination with the functions ```filter()```, ```map()``` and ```reduce()```.\n",
    "\n",
    "Let's look at the lambda function along with the ```map()``` function:"
   ]
  },
  {
   "cell_type": "code",
   "execution_count": 14,
   "metadata": {},
   "outputs": [
    {
     "name": "stdout",
     "output_type": "stream",
     "text": [
      "{'t1': -34.44444444444444, 't2': -28.88888888888889, 't3': -23.333333333333336, 't4': -17.77777777777778}\n"
     ]
    }
   ],
   "source": [
    "# Initialize `fahrenheit` dictionary \n",
    "fahrenheit = {'t1':-30, 't2':-20, 't3':-10, 't4':0}\n",
    "\n",
    "#Get the corresponding `celsius` values\n",
    "celsius = map(lambda x: (float(5)/9)*(x-32), fahrenheit.values())\n",
    "celsius = list(celsius)\n",
    "\n",
    "#Create the `celsius` dictionary\n",
    "celsius_dict = dict(zip(fahrenheit.keys(), celsius))\n",
    "\n",
    "print(celsius_dict)"
   ]
  },
  {
   "cell_type": "markdown",
   "metadata": {},
   "source": [
    "Now, let's try to solve the same problem using dictionary comprehension:"
   ]
  },
  {
   "cell_type": "code",
   "execution_count": 15,
   "metadata": {},
   "outputs": [
    {
     "name": "stdout",
     "output_type": "stream",
     "text": [
      "{'t1': -34.44444444444444, 't2': -28.88888888888889, 't3': -23.333333333333336, 't4': -17.77777777777778}\n"
     ]
    }
   ],
   "source": [
    "# Initialize the `fahrenheit` dictionary \n",
    "fahrenheit = {'t1': -30,'t2': -20,'t3': -10,'t4': 0}\n",
    "\n",
    "# Get the corresponding `celsius` values and create the new dictionary\n",
    "celsius = {k:(float(5)/9)*(v-32) for (k,v) in fahrenheit.items()}\n",
    "\n",
    "print(celsius_dict)"
   ]
  },
  {
   "cell_type": "markdown",
   "metadata": {},
   "source": [
    "## Adding Conditionals to Dictionary Comprehension\n",
    "\n",
    "You often need to add conditions to a solution while tackling problems. Let's explore how you can add conditionals into dictionary comprehension to make it more powerful.\n",
    "\n",
    "### If Condition\n",
    "\n",
    "Let's suppose you need to create a new dictionary from a given dictionary but with items that are greater than 2. This means that you need to add a condition to the original template you saw above..."
   ]
  },
  {
   "cell_type": "code",
   "execution_count": 16,
   "metadata": {},
   "outputs": [
    {
     "name": "stdout",
     "output_type": "stream",
     "text": [
      "{'c': 3, 'd': 4, 'e': 5}\n"
     ]
    }
   ],
   "source": [
    "dict1 = {'a': 1, 'b': 2, 'c': 3, 'd': 4, 'e': 5}\n",
    "\n",
    "# Check for items greater than 2\n",
    "dict1_cond = {k:v for (k,v) in dict1.items() if v > 2}\n",
    "\n",
    "print(dict1_cond)"
   ]
  },
  {
   "cell_type": "markdown",
   "metadata": {},
   "source": [
    "### Multiple If Conditions\n",
    "\n",
    "In the problem above, what if you have to not only get the items greater than 2 but also need to check if they are multiples of 2 at the same time."
   ]
  },
  {
   "cell_type": "code",
   "execution_count": 17,
   "metadata": {},
   "outputs": [
    {
     "name": "stdout",
     "output_type": "stream",
     "text": [
      "{'d': 4}\n"
     ]
    }
   ],
   "source": [
    "dict1_doubleCond = {k:v for (k,v) in dict1.items() if v>2 if v%2 == 0}\n",
    "\n",
    "print(dict1_doubleCond)"
   ]
  },
  {
   "cell_type": "code",
   "execution_count": 18,
   "metadata": {},
   "outputs": [
    {
     "name": "stdout",
     "output_type": "stream",
     "text": [
      "{'d': 4}\n"
     ]
    }
   ],
   "source": [
    "dict1_doubleCond = {k:v for (k,v) in dict1.items() if v>2 and v%2 == 0}\n",
    "\n",
    "print(dict1_doubleCond)"
   ]
  },
  {
   "cell_type": "code",
   "execution_count": 19,
   "metadata": {},
   "outputs": [
    {
     "name": "stdout",
     "output_type": "stream",
     "text": [
      "{'b': 2, 'c': 3, 'd': 4, 'e': 5}\n"
     ]
    }
   ],
   "source": [
    "dict1_doubleCond = {k:v for (k,v) in dict1.items() if v>2 or v%2 == 0}\n",
    "\n",
    "print(dict1_doubleCond)"
   ]
  },
  {
   "cell_type": "markdown",
   "metadata": {},
   "source": [
    "The solution to adding multiple conditionals is as easy as simply adding the conditions one after another in your comprehension. However, you need to be careful about what you are trying to do in the problem. Remember, that the consecutive if statements work as if they had ```and``` clauses between them.\n",
    "\n",
    "Lets see one more example with three conditionals:"
   ]
  },
  {
   "cell_type": "code",
   "execution_count": 20,
   "metadata": {},
   "outputs": [
    {
     "name": "stdout",
     "output_type": "stream",
     "text": [
      "{'f': 6}\n"
     ]
    }
   ],
   "source": [
    "dict1 = {'a': 1, 'b': 2, 'c': 3, 'd': 4, 'e': 5, 'f':6}\n",
    "\n",
    "dict1_tripleCond = {k:v for (k,v) in dict1.items() if v>2 if v%2 == 0 if v%3 == 0}\n",
    "\n",
    "print(dict1_tripleCond)"
   ]
  },
  {
   "cell_type": "markdown",
   "metadata": {},
   "source": [
    "In a for loop, this will correspond to:"
   ]
  },
  {
   "cell_type": "code",
   "execution_count": 21,
   "metadata": {},
   "outputs": [
    {
     "name": "stdout",
     "output_type": "stream",
     "text": [
      "{'f': 6}\n"
     ]
    }
   ],
   "source": [
    "dict1_tripleCond = {}\n",
    "\n",
    "for (k,v) in dict1.items():\n",
    "    if (v>=2 and v%2 == 0 and v%3 == 0):\n",
    "            dict1_tripleCond[k] = v\n",
    "\n",
    "print(dict1_tripleCond)"
   ]
  },
  {
   "cell_type": "code",
   "execution_count": 22,
   "metadata": {},
   "outputs": [
    {
     "name": "stdout",
     "output_type": "stream",
     "text": [
      "{'f': 6}\n"
     ]
    }
   ],
   "source": [
    "dict1_tripleCond = {}\n",
    "\n",
    "for (k,v) in dict1.items():\n",
    "    if v>=2:\n",
    "        if v%2 == 0:\n",
    "            if v%3 == 0:\n",
    "                dict1_tripleCond[k] = v\n",
    "\n",
    "print(dict1_tripleCond)"
   ]
  },
  {
   "cell_type": "markdown",
   "metadata": {},
   "source": [
    "### If-Else Conditions\n",
    "\n",
    "Dealing with an if-else condition is also easy with dictionary comprehension. Check out the following example to see it for yourself:"
   ]
  },
  {
   "cell_type": "code",
   "execution_count": 23,
   "metadata": {},
   "outputs": [
    {
     "name": "stdout",
     "output_type": "stream",
     "text": [
      "{'a': 'odd', 'b': 'even', 'c': 'odd', 'd': 'even', 'e': 'odd', 'f': 'even'}\n"
     ]
    }
   ],
   "source": [
    "dict1 = {'a': 1, 'b': 2, 'c': 3, 'd': 4, 'e': 5, 'f':6}\n",
    "\n",
    "# Identify odd and even entries\n",
    "dict1_tripleCond = {k:('even' if v%2==0 else 'odd') for (k,v) in dict1.items()}\n",
    "\n",
    "print(dict1_tripleCond)"
   ]
  },
  {
   "cell_type": "markdown",
   "metadata": {},
   "source": [
    "## Nested Dictionary Comprehension\n",
    "\n",
    "Nesting is a programming concept where data is organized in layers, or where objects contain other similar objects. You must have often seen a nested 'if' structure, which is an if condition inside another if condition.\n",
    "\n",
    "Similarly, dictionaries can be nested and thus their comprehensions can be nested as well. Let's see what this means:"
   ]
  },
  {
   "cell_type": "code",
   "execution_count": 24,
   "metadata": {},
   "outputs": [
    {
     "name": "stdout",
     "output_type": "stream",
     "text": [
      "{'first': {'a': 1.0}, 'second': {'b': 2.0}}\n"
     ]
    }
   ],
   "source": [
    "nested_dict = {'first':{'a':1}, 'second':{'b':2}}\n",
    "float_dict = { outer_k: {inner_k:float(inner_v) for (inner_k, inner_v) in outer_v.items()} \n",
    "              for (outer_k, outer_v) in nested_dict.items() }\n",
    "\n",
    "print(float_dict)"
   ]
  },
  {
   "cell_type": "markdown",
   "metadata": {},
   "source": [
    "This is an example of a nested dictionary. The ```nested_dict``` is a dictionary with the keys: ```first``` and ```second```, which hold dictionary objects in their values. The code works with the inner dictionary values and converts them to float and then combines the outer keys with the new float inner values into a new dictionary.\n",
    "\n",
    "The code also has a nested dictionary comprehension, which is dictionary comprehension inside another one. The dictionary comprehension when nested as you can see can get pretty hard to read as well as understand, which takes away the whole point of using comprehensions in the first place. As the structure of the dictionary you are working with gets complicated, the dictionary comprehension starts to get complicated as well. For such situations, you might be better off not using complicated comprehensions in your code.\n",
    "\n",
    "Note that you can rewrite the above code chunk also with a nested for loop:"
   ]
  },
  {
   "cell_type": "code",
   "execution_count": 25,
   "metadata": {},
   "outputs": [
    {
     "name": "stdout",
     "output_type": "stream",
     "text": [
      "{'first': {'a': 1.0}, 'second': {'b': 2.0}}\n"
     ]
    }
   ],
   "source": [
    "nested_dict = {'first':{'a':1}, 'second':{'b':2}}\n",
    "\n",
    "for (outer_k, outer_v) in nested_dict.items():\n",
    "    for (inner_k, inner_v) in outer_v.items():\n",
    "        outer_v.update({inner_k: float(inner_v)})\n",
    "nested_dict.update({outer_k:outer_v})\n",
    "\n",
    "print(nested_dict)"
   ]
  },
  {
   "cell_type": "code",
   "execution_count": null,
   "metadata": {
    "collapsed": true,
    "jupyter": {
     "outputs_hidden": true
    }
   },
   "outputs": [],
   "source": []
  }
 ],
 "metadata": {
  "kernelspec": {
   "display_name": "Python 3 (ipykernel)",
   "language": "python",
   "name": "python3"
  },
  "language_info": {
   "codemirror_mode": {
    "name": "ipython",
    "version": 3
   },
   "file_extension": ".py",
   "mimetype": "text/x-python",
   "name": "python",
   "nbconvert_exporter": "python",
   "pygments_lexer": "ipython3",
   "version": "3.9.7"
  }
 },
 "nbformat": 4,
 "nbformat_minor": 4
}
