{
 "cells": [
  {
   "cell_type": "markdown",
   "metadata": {},
   "source": [
    "# Generating Fake Data\n",
    "\n",
    "It's often useful, especially in healthcare, to generate fake data in order to test your system while protecting the privacy of your production data sets."
   ]
  },
  {
   "cell_type": "code",
   "execution_count": 1,
   "metadata": {},
   "outputs": [],
   "source": [
    "## let's generate a fake person"
   ]
  },
  {
   "cell_type": "code",
   "execution_count": 2,
   "metadata": {},
   "outputs": [],
   "source": [
    "person = {}"
   ]
  },
  {
   "cell_type": "code",
   "execution_count": 3,
   "metadata": {},
   "outputs": [
    {
     "name": "stdout",
     "output_type": "stream",
     "text": [
      "{}\n"
     ]
    }
   ],
   "source": [
    "print(person)"
   ]
  },
  {
   "cell_type": "code",
   "execution_count": 4,
   "metadata": {},
   "outputs": [],
   "source": [
    "person['age'] = 28"
   ]
  },
  {
   "cell_type": "code",
   "execution_count": 5,
   "metadata": {},
   "outputs": [
    {
     "name": "stdout",
     "output_type": "stream",
     "text": [
      "{'age': 28}\n"
     ]
    }
   ],
   "source": [
    "print(person)"
   ]
  },
  {
   "cell_type": "code",
   "execution_count": 6,
   "metadata": {},
   "outputs": [
    {
     "name": "stdout",
     "output_type": "stream",
     "text": [
      "{'age': 2}\n"
     ]
    }
   ],
   "source": [
    "# let's generate a random age\n",
    "import random\n",
    "person['age'] = random.randrange(100)\n",
    "print(person)"
   ]
  },
  {
   "cell_type": "code",
   "execution_count": 7,
   "metadata": {},
   "outputs": [
    {
     "name": "stdout",
     "output_type": "stream",
     "text": [
      "{'age': 42}\n"
     ]
    }
   ],
   "source": [
    "person['age'] = random.randrange(100)\n",
    "print(person)"
   ]
  },
  {
   "cell_type": "code",
   "execution_count": 8,
   "metadata": {},
   "outputs": [
    {
     "name": "stdout",
     "output_type": "stream",
     "text": [
      "{'age': 32}\n"
     ]
    }
   ],
   "source": [
    "# in healthcare kids and elderly have special coverage so let's exclude both groups\n",
    "person['age'] = random.randint(18, 65)\n",
    "print(person)"
   ]
  },
  {
   "cell_type": "code",
   "execution_count": 9,
   "metadata": {},
   "outputs": [
    {
     "name": "stdout",
     "output_type": "stream",
     "text": [
      "{'age': 32, 'employment': 'Full Time'}\n"
     ]
    }
   ],
   "source": [
    "person['employment'] = 'Full Time'\n",
    "print(person)"
   ]
  },
  {
   "cell_type": "code",
   "execution_count": 10,
   "metadata": {},
   "outputs": [
    {
     "name": "stdout",
     "output_type": "stream",
     "text": [
      "{'age': 32, 'employment': 'Unemployed'}\n"
     ]
    }
   ],
   "source": [
    "# let's set employment status\n",
    "employment_status = ['Full Time', 'Part Time', 'Contract', 'Seasonal', 'Unemployed', 'Retired']\n",
    "person['employment'] = random.choice(employment_status)\n",
    "print(person)"
   ]
  },
  {
   "cell_type": "code",
   "execution_count": 11,
   "metadata": {},
   "outputs": [
    {
     "name": "stdout",
     "output_type": "stream",
     "text": [
      "{'age': 32, 'employment': 'Retired'}\n"
     ]
    }
   ],
   "source": [
    "person['employment'] = random.choice(employment_status)\n",
    "print(person)"
   ]
  },
  {
   "cell_type": "code",
   "execution_count": 12,
   "metadata": {},
   "outputs": [
    {
     "name": "stdout",
     "output_type": "stream",
     "text": [
      "{'age': 32, 'employment': 'Part Time'}\n"
     ]
    }
   ],
   "source": [
    "person['employment'] = random.choices(employment_status, [.5, .2, .1, .1, .05, .05])[0]\n",
    "print(person)"
   ]
  },
  {
   "cell_type": "code",
   "execution_count": 13,
   "metadata": {},
   "outputs": [
    {
     "name": "stdout",
     "output_type": "stream",
     "text": [
      "{'age': 32, 'employment': 'Part Time'}\n"
     ]
    }
   ],
   "source": [
    "person['employment'] = random.choices(employment_status, [.5, .2, .1, .1, .05, .05])[0]\n",
    "print(person)"
   ]
  },
  {
   "cell_type": "code",
   "execution_count": 14,
   "metadata": {},
   "outputs": [],
   "source": [
    "def generate_employment():\n",
    "    employment_status = ['Full Time', 'Part Time', 'Contract', 'Seasonal', 'Unemployed', 'Retired']\n",
    "    employment = random.choices(employment_status, [.5, .2, .1, .1, .05, .05])[0]\n",
    "    return employment\n",
    "    "
   ]
  },
  {
   "cell_type": "code",
   "execution_count": 15,
   "metadata": {},
   "outputs": [],
   "source": [
    "# let's construct some fake addresses\n",
    "def generate_address():\n",
    "    street_number = random.randint(1, 100)\n",
    "    street_name= random.choice(['Main', 'Bluff', 'Federal'])\n",
    "    city = random.choice(['Pittsburgh', 'Cleveland' ])\n",
    "\n",
    "    city_details = { 'Pittsburgh' : { 'zip': 15106, 'state': 'PA' },\n",
    "                    'Cleveland' : { 'zip': 44101, 'state': 'OH' } }\n",
    "    state = city_details[city]['zip']\n",
    "    zip_code = city_details[city]['state']\n",
    "    \n",
    "    address = f\"{street_number} {street_name}\\n{city}, {state} {zip_code}\"\n",
    "    return address"
   ]
  },
  {
   "cell_type": "code",
   "execution_count": 16,
   "metadata": {},
   "outputs": [
    {
     "name": "stdout",
     "output_type": "stream",
     "text": [
      "24 Federal\n",
      "Pittsburgh, 15106 PA\n"
     ]
    }
   ],
   "source": [
    "address = generate_address()\n",
    "print(address)"
   ]
  },
  {
   "cell_type": "code",
   "execution_count": 17,
   "metadata": {},
   "outputs": [],
   "source": [
    "def generate_name():\n",
    "    first = ['Ben', 'Jen', 'Joan', 'John']\n",
    "    last = ['Jones', 'Smith', 'Doe']\n",
    "    return f\"{random.choice(first)} {random.choice(last)}\""
   ]
  },
  {
   "cell_type": "code",
   "execution_count": 18,
   "metadata": {},
   "outputs": [
    {
     "name": "stdout",
     "output_type": "stream",
     "text": [
      "John Doe\n"
     ]
    }
   ],
   "source": [
    "name = generate_name()\n",
    "print(name)"
   ]
  },
  {
   "cell_type": "code",
   "execution_count": 19,
   "metadata": {},
   "outputs": [],
   "source": [
    "def generate_person():\n",
    "    person = {}\n",
    "    person['name'] = generate_name()\n",
    "    person['address'] = generate_address()\n",
    "    person['employment'] = generate_employment()\n",
    "    return person"
   ]
  },
  {
   "cell_type": "code",
   "execution_count": 20,
   "metadata": {},
   "outputs": [
    {
     "name": "stdout",
     "output_type": "stream",
     "text": [
      "{'name': 'Ben Jones', 'address': '12 Bluff\\nCleveland, 44101 OH', 'employment': 'Seasonal'}\n"
     ]
    }
   ],
   "source": [
    "person = generate_person()\n",
    "print(person)"
   ]
  },
  {
   "cell_type": "code",
   "execution_count": 21,
   "metadata": {},
   "outputs": [
    {
     "name": "stdout",
     "output_type": "stream",
     "text": [
      "{'name': 'John Jones', 'address': '64 Federal\\nCleveland, 44101 OH', 'employment': 'Full Time'}\n"
     ]
    }
   ],
   "source": [
    "person = generate_person()\n",
    "print(person)"
   ]
  },
  {
   "cell_type": "code",
   "execution_count": 22,
   "metadata": {},
   "outputs": [
    {
     "name": "stdout",
     "output_type": "stream",
     "text": [
      "{'name': 'Ben Jones', 'address': '47 Federal\\nPittsburgh, 15106 PA', 'employment': 'Part Time'}\n"
     ]
    }
   ],
   "source": [
    "person = generate_person()\n",
    "print(person)"
   ]
  },
  {
   "cell_type": "code",
   "execution_count": null,
   "metadata": {},
   "outputs": [],
   "source": []
  }
 ],
 "metadata": {
  "kernelspec": {
   "display_name": "Python 3 (ipykernel)",
   "language": "python",
   "name": "python3"
  },
  "language_info": {
   "codemirror_mode": {
    "name": "ipython",
    "version": 3
   },
   "file_extension": ".py",
   "mimetype": "text/x-python",
   "name": "python",
   "nbconvert_exporter": "python",
   "pygments_lexer": "ipython3",
   "version": "3.9.7"
  },
  "latex_envs": {
   "LaTeX_envs_menu_present": true,
   "autoclose": false,
   "autocomplete": true,
   "bibliofile": "biblio.bib",
   "cite_by": "apalike",
   "current_citInitial": 1,
   "eqLabelWithNumbers": true,
   "eqNumInitial": 1,
   "hotkeys": {
    "equation": "Ctrl-E",
    "itemize": "Ctrl-I"
   },
   "labels_anchors": false,
   "latex_user_defs": false,
   "report_style_numbering": false,
   "user_envs_cfg": false
  }
 },
 "nbformat": 4,
 "nbformat_minor": 4
}
