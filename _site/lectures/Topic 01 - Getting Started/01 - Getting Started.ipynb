{
 "cells": [
  {
   "cell_type": "markdown",
   "metadata": {},
   "source": [
    "# Getting Started\n",
    "\n",
    "Welcome to Data Focused Python. In this guide we'll walk through all the steps you need to get started with the course. Python has a robust community which is great, but it also means there's going to be many options from python distribution to IDEs to libraries. There's no right or wrong selection, only the one that works best for you.\n",
    "\n",
    "## Required Software\n",
    "\n",
    "* [Python 3.9](https://www.python.org)\n",
    "* [Git](https://git-scm.com)\n",
    "\n",
    "## Recommended\n",
    "\n",
    "* [Anaconda Python](https://www.anaconda.com/products/individual)\n",
    "* [Pycharm](https://www.jetbrains.com/pycharm/) or [VSCode](https://code.visualstudio.com)\n",
    "\n",
    "## Environment Setup\n",
    "\n",
    "Python is open source and as with many open source  solutions the ecosystem can be overwhelming. If you stick with the recommended Anaconda and Pycharm setup you'll avoid most of the complexity. However, for awareness we'll review some of the most common tooling options used.\n",
    "\n",
    "* [An Effective Python Environment: Making Yourself at Home](https://realpython.com/effective-python-environment/)"
   ]
  },
  {
   "cell_type": "markdown",
   "metadata": {},
   "source": [
    "## Cloning the Course Materials\n",
    "\n",
    "After you're comfortable working with your Python IDE to create basic python programs, you'll want to clone the course materials from [GitHub](https://github.com/BrianKolowitz/data-focused-python). Before you can clone the repository, you'll have to install [git](https://git-scm.com/) on your local machine. [Git](https://en.wikipedia.org/wiki/Git) is a distributed version control system that's great for managing projects with distributed team members. There's a lot of great resources on how to use git. Here's 2 of my favorite interactive tutorials:\n",
    "\n",
    "* [Try Git](https://try.github.io/levels/1/challenges/1)\n",
    "* [Learn Git Branching](https://learngitbranching.js.org/)\n",
    "\n",
    "We won't be doing any branching in this course, but I think it's important to know so I've included the link.\n",
    "\n",
    "Once you've installed git and are somewhat comfortable with the command line tool, you can read about how to [Clone a Repository](https://help.github.com/en/github/creating-cloning-and-archiving-repositories/cloning-a-repository) from GitHub. \n",
    "\n",
    "It's as easy as:\n",
    "\n",
    "```bash\n",
    "git clone https://github.com/BrianKolowitz/data-focused-python.git\n",
    "```\n",
    "\n",
    "However, I personally like to [Add SSH Keys to GitHub](https://help.github.com/en/github/authenticating-to-github/adding-a-new-ssh-key-to-your-github-account) and clone using this command:\n",
    "\n",
    "```bash\n",
    "git clone git@github.com:BrianKolowitz/data-focused-python.git\n",
    "```"
   ]
  },
  {
   "cell_type": "markdown",
   "metadata": {},
   "source": []
  },
  {
   "cell_type": "code",
   "execution_count": null,
   "metadata": {},
   "outputs": [],
   "source": []
  }
 ],
 "metadata": {
  "interpreter": {
   "hash": "9bc413ca0ad2f6856e9ff6473685a1805f1ab11584b4a5e0de520d3c221249fb"
  },
  "kernelspec": {
   "display_name": "Python 3 (ipykernel)",
   "language": "python",
   "name": "python3"
  },
  "language_info": {
   "codemirror_mode": {
    "name": "ipython",
    "version": 3
   },
   "file_extension": ".py",
   "mimetype": "text/x-python",
   "name": "python",
   "nbconvert_exporter": "python",
   "pygments_lexer": "ipython3",
   "version": "3.9.7"
  }
 },
 "nbformat": 4,
 "nbformat_minor": 4
}
