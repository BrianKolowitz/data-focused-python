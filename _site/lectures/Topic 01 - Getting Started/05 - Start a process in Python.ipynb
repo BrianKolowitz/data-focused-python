{
 "cells": [
  {
   "cell_type": "markdown",
   "metadata": {},
   "source": [
    "# Start a process in Python\n",
    "[Start a process in Python](https://www.bogotobogo.com/python/python_subprocess_module.php)\n",
    "\n",
    "Sometimes you might want to spawn a process from python and interact with the data. You might use a process to generate some files that your python application will read, or read the output of the process within your application. Doing so is relatively simple in python using the subprocess library,."
   ]
  },
  {
   "cell_type": "markdown",
   "metadata": {},
   "source": [
    "## subprocess.Popen\n",
    "\n",
    "You can start a process in Python using the Popen function call. Open a pipe to or from command. The return value is an open file object connected to the pipe, which can be read or written depending on whether mode is 'r' (default) or 'w'."
   ]
  },
  {
   "cell_type": "code",
   "execution_count": 1,
   "metadata": {},
   "outputs": [
    {
     "name": "stdout",
     "output_type": "stream",
     "text": [
      "\n"
     ]
    }
   ],
   "source": [
    "from subprocess import Popen, PIPE\n",
    "process = Popen(['cat', 'scores.csv'], stdout=PIPE, stderr=PIPE)\n",
    "stdout, stderr = process.communicate()\n",
    "print(stdout.decode('utf-8'))"
   ]
  },
  {
   "cell_type": "markdown",
   "metadata": {},
   "source": [
    "The ```process.communicate()``` call reads input and output from the process.  stdout is the process output. stderr will be written only if an error occurs.  If you want to wait for the program to finish you can call ```Popen.wait()```."
   ]
  },
  {
   "cell_type": "code",
   "execution_count": 2,
   "metadata": {},
   "outputs": [
    {
     "name": "stdout",
     "output_type": "stream",
     "text": [
      "\n"
     ]
    }
   ],
   "source": [
    "from subprocess import Popen, PIPE\n",
    " \n",
    "process = Popen(['cat', 'scores.csv'], stdout=PIPE, stderr=PIPE)\n",
    "stdout, stderr = process.communicate()\n",
    "status = process.wait()\n",
    "print(stdout.decode('utf-8'))"
   ]
  },
  {
   "cell_type": "markdown",
   "metadata": {},
   "source": [
    "## subprocess.call\n",
    "\n",
    "Subprocess has a method call() which can be used to start a program. This is basically just like the Popen class and takes all of the same arguments, but it simply wait until the command completes and gives us the return code."
   ]
  },
  {
   "cell_type": "code",
   "execution_count": 3,
   "metadata": {},
   "outputs": [
    {
     "name": "stdout",
     "output_type": "stream",
     "text": [
      "total 192\n",
      "-rw-r--r--  1 bk  staff   7977 Oct 21 09:46 01 - Getting Started.ipynb\n",
      "-rw-r--r--  1 bk  staff   7400 Oct 17 20:44 02 - Terminal Application.ipynb\n",
      "-rw-r--r--  1 bk  staff  10581 Oct 17 20:44 03 - Argparse.ipynb\n",
      "-rw-r--r--  1 bk  staff  14711 Oct 17 20:44 04 - Start a process in Python.ipynb\n",
      "-rw-r--r--  1 bk  staff    149 Aug 26 15:35 argparse_1.py\n",
      "-rw-r--r--  1 bk  staff    202 Aug 26 15:35 argparse_2.py\n",
      "-rw-r--r--  1 bk  staff    299 Aug 26 15:35 argparse_3.py\n",
      "-rw-r--r--  1 bk  staff    309 Aug 26 15:35 argparse_4.py\n",
      "-rw-r--r--  1 bk  staff    219 Aug 26 15:35 argparse_5.py\n",
      "-rw-r--r--  1 bk  staff    580 Aug 26 15:35 argparse_6.py\n",
      "-rw-r--r--  1 bk  staff    372 Aug 26 15:35 terminal_1.py\n",
      "-rw-r--r--  1 bk  staff    370 Aug 26 15:35 terminal_2.py\n",
      "-rw-r--r--  1 bk  staff    198 Aug 26 15:35 test_class.py\n",
      "-rw-r--r--  1 bk  staff    100 Aug 26 15:35 test_sample.py\n",
      "-rw-r--r--  1 bk  staff    143 Aug 26 15:35 test_sysexit.py\n",
      "-rw-r--r--  1 bk  staff     90 Oct 17 20:44 test_tmpdir.p"
     ]
    },
    {
     "data": {
      "text/plain": [
       "0"
      ]
     },
     "execution_count": 3,
     "metadata": {},
     "output_type": "execute_result"
    },
    {
     "name": "stdout",
     "output_type": "stream",
     "text": [
      "y\n",
      "-rw-r--r--  1 bk  staff    294 Oct 17 20:44 test_tmppath.py\n"
     ]
    }
   ],
   "source": [
    "import subprocess\n",
    "subprocess.call(['ls','-l'])"
   ]
  },
  {
   "cell_type": "markdown",
   "metadata": {},
   "source": [
    "```bash\n",
    "total 181\n",
    "drwxr-xr-x    2 root root  4096 Mar  3  2012 bin\n",
    "drwxr-xr-x    4 root root  1024 Oct 26  2012 boot\n",
    "```"
   ]
  },
  {
   "cell_type": "markdown",
   "metadata": {},
   "source": [
    "The command line arguments are passed as a list of strings, which avoids the need for escaping quotes or other special characters that might be interpreted by the shell."
   ]
  },
  {
   "cell_type": "markdown",
   "metadata": {},
   "source": [
    "## subprocess.check_call()\n",
    "\n",
    "The ```check_call()``` function works like ```call()``` except that the exit code is checked, and if it indicates an error happened then a ```CalledProcessError``` exception is raised."
   ]
  },
  {
   "cell_type": "code",
   "execution_count": 4,
   "metadata": {},
   "outputs": [
    {
     "ename": "CalledProcessError",
     "evalue": "Command '['false']' returned non-zero exit status 1.",
     "output_type": "error",
     "traceback": [
      "\u001b[0;31m---------------------------------------------------------------------------\u001b[0m",
      "\u001b[0;31mCalledProcessError\u001b[0m                        Traceback (most recent call last)",
      "\u001b[0;32m/var/folders/jd/pq0swyt521jb2424d6fvth840000gn/T/ipykernel_91211/359612823.py\u001b[0m in \u001b[0;36m<module>\u001b[0;34m\u001b[0m\n\u001b[1;32m      1\u001b[0m \u001b[0;32mimport\u001b[0m \u001b[0msubprocess\u001b[0m\u001b[0;34m\u001b[0m\u001b[0;34m\u001b[0m\u001b[0m\n\u001b[0;32m----> 2\u001b[0;31m \u001b[0msubprocess\u001b[0m\u001b[0;34m.\u001b[0m\u001b[0mcheck_call\u001b[0m\u001b[0;34m(\u001b[0m\u001b[0;34m[\u001b[0m\u001b[0;34m'false'\u001b[0m\u001b[0;34m]\u001b[0m\u001b[0;34m)\u001b[0m\u001b[0;34m\u001b[0m\u001b[0;34m\u001b[0m\u001b[0m\n\u001b[0m",
      "\u001b[0;32m~/opt/miniconda3/envs/cmu39/lib/python3.9/subprocess.py\u001b[0m in \u001b[0;36mcheck_call\u001b[0;34m(*popenargs, **kwargs)\u001b[0m\n\u001b[1;32m    371\u001b[0m         \u001b[0;32mif\u001b[0m \u001b[0mcmd\u001b[0m \u001b[0;32mis\u001b[0m \u001b[0;32mNone\u001b[0m\u001b[0;34m:\u001b[0m\u001b[0;34m\u001b[0m\u001b[0;34m\u001b[0m\u001b[0m\n\u001b[1;32m    372\u001b[0m             \u001b[0mcmd\u001b[0m \u001b[0;34m=\u001b[0m \u001b[0mpopenargs\u001b[0m\u001b[0;34m[\u001b[0m\u001b[0;36m0\u001b[0m\u001b[0;34m]\u001b[0m\u001b[0;34m\u001b[0m\u001b[0;34m\u001b[0m\u001b[0m\n\u001b[0;32m--> 373\u001b[0;31m         \u001b[0;32mraise\u001b[0m \u001b[0mCalledProcessError\u001b[0m\u001b[0;34m(\u001b[0m\u001b[0mretcode\u001b[0m\u001b[0;34m,\u001b[0m \u001b[0mcmd\u001b[0m\u001b[0;34m)\u001b[0m\u001b[0;34m\u001b[0m\u001b[0;34m\u001b[0m\u001b[0m\n\u001b[0m\u001b[1;32m    374\u001b[0m     \u001b[0;32mreturn\u001b[0m \u001b[0;36m0\u001b[0m\u001b[0;34m\u001b[0m\u001b[0;34m\u001b[0m\u001b[0m\n\u001b[1;32m    375\u001b[0m \u001b[0;34m\u001b[0m\u001b[0m\n",
      "\u001b[0;31mCalledProcessError\u001b[0m: Command '['false']' returned non-zero exit status 1."
     ]
    }
   ],
   "source": [
    "import subprocess\n",
    "subprocess.check_call(['false'])"
   ]
  },
  {
   "cell_type": "markdown",
   "metadata": {},
   "source": [
    "## subprocess.check_output()\n",
    "\n",
    "The standard input and output channels for the process started by call() are bound to the parent's input and output. That means the calling program cannot capture the output of the command. To capture the output, we can use check_output() for later processing."
   ]
  },
  {
   "cell_type": "code",
   "execution_count": 5,
   "metadata": {},
   "outputs": [
    {
     "name": "stdout",
     "output_type": "stream",
     "text": [
      "total 192\n",
      "-rw-r--r--  1 bk  staff   7977 Oct 21 09:46 01 - Getting Started.ipynb\n",
      "-rw-r--r--  1 bk  staff   7400 Oct 17 20:44 02 - Terminal Application.ipynb\n",
      "-rw-r--r--  1 bk  staff  10581 Oct 17 20:44 03 - Argparse.ipynb\n",
      "-rw-r--r--  1 bk  staff  14711 Oct 17 20:44 04 - Start a process in Python.ipynb\n",
      "-rw-r--r--  1 bk  staff    149 Aug 26 15:35 argparse_1.py\n",
      "-rw-r--r--  1 bk  staff    202 Aug 26 15:35 argparse_2.py\n",
      "-rw-r--r--  1 bk  staff    299 Aug 26 15:35 argparse_3.py\n",
      "-rw-r--r--  1 bk  staff    309 Aug 26 15:35 argparse_4.py\n",
      "-rw-r--r--  1 bk  staff    219 Aug 26 15:35 argparse_5.py\n",
      "-rw-r--r--  1 bk  staff    580 Aug 26 15:35 argparse_6.py\n",
      "-rw-r--r--  1 bk  staff    372 Aug 26 15:35 terminal_1.py\n",
      "-rw-r--r--  1 bk  staff    370 Aug 26 15:35 terminal_2.py\n",
      "-rw-r--r--  1 bk  staff    198 Aug 26 15:35 test_class.py\n",
      "-rw-r--r--  1 bk  staff    100 Aug 26 15:35 test_sample.py\n",
      "-rw-r--r--  1 bk  staff    143 Aug 26 15:35 test_sysexit.py\n",
      "-rw-r--r--  1 bk  staff     90 Oct 17 20:44 test_tmpdir.py\n",
      "-rw-r--r--  1 bk  staff    294 Oct 17 20:44 test_tmppath.py\n",
      "\n"
     ]
    }
   ],
   "source": [
    "import subprocess\n",
    "output = subprocess.check_output(['ls','-l'])\n",
    "print(output.decode('utf-8'))"
   ]
  },
  {
   "cell_type": "code",
   "execution_count": null,
   "metadata": {},
   "outputs": [],
   "source": []
  }
 ],
 "metadata": {
  "kernelspec": {
   "display_name": "Python 3 (ipykernel)",
   "language": "python",
   "name": "python3"
  },
  "language_info": {
   "codemirror_mode": {
    "name": "ipython",
    "version": 3
   },
   "file_extension": ".py",
   "mimetype": "text/x-python",
   "name": "python",
   "nbconvert_exporter": "python",
   "pygments_lexer": "ipython3",
   "version": "3.9.7"
  }
 },
 "nbformat": 4,
 "nbformat_minor": 4
}
