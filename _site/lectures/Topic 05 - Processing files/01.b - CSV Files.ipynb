{
 "cells": [
  {
   "cell_type": "markdown",
   "metadata": {},
   "source": [
    "# Reading CSV files\n",
    "## Reading with open"
   ]
  },
  {
   "cell_type": "code",
   "execution_count": 1,
   "metadata": {},
   "outputs": [
    {
     "name": "stdout",
     "output_type": "stream",
     "text": [
      "id,first_name,last_name,email,gender,ip_address\n",
      "\n",
      "1,Finn,Burchmore,fburchmore0@epa.gov,Male,74.20.172.212\n",
      "\n",
      "2,Coral,Grigorey,cgrigorey1@cdc.gov,Female,151.91.212.169\n",
      "\n",
      "3,Harold,McCormack,hmccormack2@marketwatch.com,Male,72.36.41.150\n",
      "\n",
      "4,Thacher,Woodvine,twoodvine3@marketwatch.com,Male,66.50.122.48\n",
      "\n",
      "5,Querida,Allmann,qallmann4@people.com.cn,Female,236.145.83.165\n",
      "\n",
      "6,Irving,Loughman,iloughman5@globo.com,Male,19.142.188.98\n",
      "\n",
      "7,Meghann,Vittet,mvittet6@cyberchimps.com,Female,235.59.102.124\n",
      "\n",
      "8,Wolfgang,Mishow,wmishow7@gnu.org,Male,189.36.37.25\n",
      "\n",
      "9,Babbie,Reide,breide8@jiathis.com,Female,129.226.63.38\n",
      "\n",
      "10,Carson,Vowdon,cvowdon9@slashdot.org,Male,51.228.124.19\n",
      "\n"
     ]
    }
   ],
   "source": [
    "# open and print line by line\n",
    "with open('mock.csv') as f:\n",
    "    for line in f:\n",
    "        print(line)"
   ]
  },
  {
   "cell_type": "code",
   "execution_count": 2,
   "metadata": {},
   "outputs": [
    {
     "name": "stdout",
     "output_type": "stream",
     "text": [
      "0 id,first_name,last_name,email,gender,ip_address\n",
      "\n",
      "1 1,Finn,Burchmore,fburchmore0@epa.gov,Male,74.20.172.212\n",
      "\n",
      "2 2,Coral,Grigorey,cgrigorey1@cdc.gov,Female,151.91.212.169\n",
      "\n",
      "3 3,Harold,McCormack,hmccormack2@marketwatch.com,Male,72.36.41.150\n",
      "\n",
      "4 4,Thacher,Woodvine,twoodvine3@marketwatch.com,Male,66.50.122.48\n",
      "\n",
      "5 5,Querida,Allmann,qallmann4@people.com.cn,Female,236.145.83.165\n",
      "\n",
      "6 6,Irving,Loughman,iloughman5@globo.com,Male,19.142.188.98\n",
      "\n",
      "7 7,Meghann,Vittet,mvittet6@cyberchimps.com,Female,235.59.102.124\n",
      "\n",
      "8 8,Wolfgang,Mishow,wmishow7@gnu.org,Male,189.36.37.25\n",
      "\n",
      "9 9,Babbie,Reide,breide8@jiathis.com,Female,129.226.63.38\n",
      "\n",
      "10 10,Carson,Vowdon,cvowdon9@slashdot.org,Male,51.228.124.19\n",
      "\n"
     ]
    }
   ],
   "source": [
    "with open('mock.csv') as f:\n",
    "    # use enumerate to get the index as you iterate\n",
    "    for index, line in enumerate(f):\n",
    "        print(index, line)"
   ]
  },
  {
   "cell_type": "code",
   "execution_count": 3,
   "metadata": {},
   "outputs": [
    {
     "name": "stdout",
     "output_type": "stream",
     "text": [
      "header 0 id,first_name,last_name,email,gender,ip_address\n",
      "\n",
      "row 1 1,Finn,Burchmore,fburchmore0@epa.gov,Male,74.20.172.212\n",
      "\n",
      "row 2 2,Coral,Grigorey,cgrigorey1@cdc.gov,Female,151.91.212.169\n",
      "\n",
      "row 3 3,Harold,McCormack,hmccormack2@marketwatch.com,Male,72.36.41.150\n",
      "\n",
      "row 4 4,Thacher,Woodvine,twoodvine3@marketwatch.com,Male,66.50.122.48\n",
      "\n",
      "row 5 5,Querida,Allmann,qallmann4@people.com.cn,Female,236.145.83.165\n",
      "\n",
      "row 6 6,Irving,Loughman,iloughman5@globo.com,Male,19.142.188.98\n",
      "\n",
      "row 7 7,Meghann,Vittet,mvittet6@cyberchimps.com,Female,235.59.102.124\n",
      "\n",
      "row 8 8,Wolfgang,Mishow,wmishow7@gnu.org,Male,189.36.37.25\n",
      "\n",
      "row 9 9,Babbie,Reide,breide8@jiathis.com,Female,129.226.63.38\n",
      "\n",
      "row 10 10,Carson,Vowdon,cvowdon9@slashdot.org,Male,51.228.124.19\n",
      "\n"
     ]
    }
   ],
   "source": [
    "index = 0\n",
    "processed_header = False\n",
    "with open('mock.csv') as f:\n",
    "    for line in f:\n",
    "        # handle the header differently\n",
    "        if processed_header == False:\n",
    "            print(\"header\", index, line)\n",
    "            processed_header = True\n",
    "        else:\n",
    "            print(\"row\", index, line)\n",
    "        index += 1"
   ]
  },
  {
   "cell_type": "code",
   "execution_count": 4,
   "metadata": {},
   "outputs": [
    {
     "name": "stdout",
     "output_type": "stream",
     "text": [
      "header 0 id,first_name,last_name,email,gender,ip_address\n",
      "\n",
      "row 1 1,Finn,Burchmore,fburchmore0@epa.gov,Male,74.20.172.212\n",
      "\n",
      "row 2 2,Coral,Grigorey,cgrigorey1@cdc.gov,Female,151.91.212.169\n",
      "\n",
      "row 3 3,Harold,McCormack,hmccormack2@marketwatch.com,Male,72.36.41.150\n",
      "\n",
      "row 4 4,Thacher,Woodvine,twoodvine3@marketwatch.com,Male,66.50.122.48\n",
      "\n",
      "row 5 5,Querida,Allmann,qallmann4@people.com.cn,Female,236.145.83.165\n",
      "\n",
      "row 6 6,Irving,Loughman,iloughman5@globo.com,Male,19.142.188.98\n",
      "\n",
      "row 7 7,Meghann,Vittet,mvittet6@cyberchimps.com,Female,235.59.102.124\n",
      "\n",
      "row 8 8,Wolfgang,Mishow,wmishow7@gnu.org,Male,189.36.37.25\n",
      "\n",
      "row 9 9,Babbie,Reide,breide8@jiathis.com,Female,129.226.63.38\n",
      "\n",
      "row 10 10,Carson,Vowdon,cvowdon9@slashdot.org,Male,51.228.124.19\n",
      "\n"
     ]
    }
   ],
   "source": [
    "with open('mock.csv') as f:\n",
    "    for index, line in enumerate(f):\n",
    "        # handle the header differently\n",
    "        if index == 0:\n",
    "            print(\"header\", index, line)\n",
    "        else:\n",
    "            print(\"row\", index, line)"
   ]
  },
  {
   "cell_type": "code",
   "execution_count": 5,
   "metadata": {},
   "outputs": [
    {
     "name": "stdout",
     "output_type": "stream",
     "text": [
      "header fields ['id', 'first_name', 'last_name', 'email', 'gender', 'ip_address']\n"
     ]
    }
   ],
   "source": [
    "headers = []\n",
    "with open('mock.csv') as f:\n",
    "    for index, line in enumerate(f):\n",
    "        line = line.strip()\n",
    "        if index == 0:\n",
    "            # split the headers\n",
    "            headers = line.split(',')\n",
    "        else:\n",
    "            pass\n",
    "print('header fields', headers)"
   ]
  },
  {
   "cell_type": "code",
   "execution_count": 6,
   "metadata": {},
   "outputs": [
    {
     "name": "stdout",
     "output_type": "stream",
     "text": [
      "header fields ['id', 'first_name', 'last_name', 'email', 'gender', 'ip_address']\n",
      "rows fields [['1', 'Finn', 'Burchmore', 'fburchmore0@epa.gov', 'Male', '74.20.172.212'], ['2', 'Coral', 'Grigorey', 'cgrigorey1@cdc.gov', 'Female', '151.91.212.169'], ['3', 'Harold', 'McCormack', 'hmccormack2@marketwatch.com', 'Male', '72.36.41.150'], ['4', 'Thacher', 'Woodvine', 'twoodvine3@marketwatch.com', 'Male', '66.50.122.48'], ['5', 'Querida', 'Allmann', 'qallmann4@people.com.cn', 'Female', '236.145.83.165'], ['6', 'Irving', 'Loughman', 'iloughman5@globo.com', 'Male', '19.142.188.98'], ['7', 'Meghann', 'Vittet', 'mvittet6@cyberchimps.com', 'Female', '235.59.102.124'], ['8', 'Wolfgang', 'Mishow', 'wmishow7@gnu.org', 'Male', '189.36.37.25'], ['9', 'Babbie', 'Reide', 'breide8@jiathis.com', 'Female', '129.226.63.38'], ['10', 'Carson', 'Vowdon', 'cvowdon9@slashdot.org', 'Male', '51.228.124.19']]\n"
     ]
    }
   ],
   "source": [
    "headers = []\n",
    "rows = []\n",
    "with open('mock.csv') as f:\n",
    "    for index, line in enumerate(f):\n",
    "        line = line.strip()\n",
    "        if index == 0:\n",
    "            headers = line.split(',')\n",
    "        else:\n",
    "            # append the rows\n",
    "            rows.append(line.split(','))\n",
    "print('header fields', headers)\n",
    "print('rows fields', rows)"
   ]
  },
  {
   "cell_type": "markdown",
   "metadata": {},
   "source": [
    "## Reading with csv\n",
    "[Reading and Writing CSV Files in Python](https://realpython.com/python-csv/)"
   ]
  },
  {
   "cell_type": "code",
   "execution_count": 7,
   "metadata": {},
   "outputs": [],
   "source": [
    "import csv"
   ]
  },
  {
   "cell_type": "code",
   "execution_count": 8,
   "metadata": {},
   "outputs": [
    {
     "name": "stdout",
     "output_type": "stream",
     "text": [
      "['id', 'first_name', 'last_name', 'email', 'gender', 'ip_address']\n",
      "['1', 'Finn', 'Burchmore', 'fburchmore0@epa.gov', 'Male', '74.20.172.212']\n",
      "['2', 'Coral', 'Grigorey', 'cgrigorey1@cdc.gov', 'Female', '151.91.212.169']\n",
      "['3', 'Harold', 'McCormack', 'hmccormack2@marketwatch.com', 'Male', '72.36.41.150']\n",
      "['4', 'Thacher', 'Woodvine', 'twoodvine3@marketwatch.com', 'Male', '66.50.122.48']\n",
      "['5', 'Querida', 'Allmann', 'qallmann4@people.com.cn', 'Female', '236.145.83.165']\n",
      "['6', 'Irving', 'Loughman', 'iloughman5@globo.com', 'Male', '19.142.188.98']\n",
      "['7', 'Meghann', 'Vittet', 'mvittet6@cyberchimps.com', 'Female', '235.59.102.124']\n",
      "['8', 'Wolfgang', 'Mishow', 'wmishow7@gnu.org', 'Male', '189.36.37.25']\n",
      "['9', 'Babbie', 'Reide', 'breide8@jiathis.com', 'Female', '129.226.63.38']\n",
      "['10', 'Carson', 'Vowdon', 'cvowdon9@slashdot.org', 'Male', '51.228.124.19']\n"
     ]
    }
   ],
   "source": [
    "with open('mock.csv') as f:\n",
    "    reader = csv.reader(f, delimiter=',')\n",
    "    for row in reader:\n",
    "        print(row)"
   ]
  },
  {
   "cell_type": "code",
   "execution_count": 9,
   "metadata": {},
   "outputs": [
    {
     "name": "stdout",
     "output_type": "stream",
     "text": [
      "id, first_name, last_name, email, gender, ip_address\n",
      "id: 1 first_name: Finn last_name: Burchmore email: fburchmore0@epa.gov\n",
      "id: 2 first_name: Coral last_name: Grigorey email: cgrigorey1@cdc.gov\n",
      "id: 3 first_name: Harold last_name: McCormack email: hmccormack2@marketwatch.com\n",
      "id: 4 first_name: Thacher last_name: Woodvine email: twoodvine3@marketwatch.com\n",
      "id: 5 first_name: Querida last_name: Allmann email: qallmann4@people.com.cn\n",
      "id: 6 first_name: Irving last_name: Loughman email: iloughman5@globo.com\n",
      "id: 7 first_name: Meghann last_name: Vittet email: mvittet6@cyberchimps.com\n",
      "id: 8 first_name: Wolfgang last_name: Mishow email: wmishow7@gnu.org\n",
      "id: 9 first_name: Babbie last_name: Reide email: breide8@jiathis.com\n",
      "id: 10 first_name: Carson last_name: Vowdon email: cvowdon9@slashdot.org\n"
     ]
    }
   ],
   "source": [
    "with open('mock.csv') as f:\n",
    "    reader = csv.reader(f, delimiter=',')\n",
    "    for index, row in enumerate(reader):\n",
    "        if index == 0:\n",
    "            print(f'{\", \".join(row)}')\n",
    "        else:\n",
    "            print(f'id: {row[0]} first_name: {row[1]} last_name: {row[2]} email: {row[3]}')"
   ]
  },
  {
   "cell_type": "markdown",
   "metadata": {},
   "source": [
    "## Reading CSV Files Into a Dictionary With csv"
   ]
  },
  {
   "cell_type": "code",
   "execution_count": 10,
   "metadata": {},
   "outputs": [
    {
     "name": "stdout",
     "output_type": "stream",
     "text": [
      "id: 1 first_name: Finn last_name: Burchmore email: fburchmore0@epa.gov\n",
      "id: 2 first_name: Coral last_name: Grigorey email: cgrigorey1@cdc.gov\n",
      "id: 3 first_name: Harold last_name: McCormack email: hmccormack2@marketwatch.com\n",
      "id: 4 first_name: Thacher last_name: Woodvine email: twoodvine3@marketwatch.com\n",
      "id: 5 first_name: Querida last_name: Allmann email: qallmann4@people.com.cn\n",
      "id: 6 first_name: Irving last_name: Loughman email: iloughman5@globo.com\n",
      "id: 7 first_name: Meghann last_name: Vittet email: mvittet6@cyberchimps.com\n",
      "id: 8 first_name: Wolfgang last_name: Mishow email: wmishow7@gnu.org\n",
      "id: 9 first_name: Babbie last_name: Reide email: breide8@jiathis.com\n",
      "id: 10 first_name: Carson last_name: Vowdon email: cvowdon9@slashdot.org\n"
     ]
    }
   ],
   "source": [
    "with open('mock.csv') as f:\n",
    "    reader = csv.DictReader(f)\n",
    "    for index, row in enumerate(reader):\n",
    "        print(f'id: {row[\"id\"]} first_name: {row[\"first_name\"]} last_name: {row[\"last_name\"]} email: {row[\"email\"]}')"
   ]
  },
  {
   "cell_type": "markdown",
   "metadata": {},
   "source": [
    "## Optional Python CSV reader Parameters\n",
    "\n",
    "* delimiter specifies the character used to separate each field. The default is the comma (',').\n",
    "* quotechar specifies the character used to surround fields that contain the delimiter character. The default is a double quote (' \" ').\n",
    "* escapechar specifies the character used to escape the delimiter character, in case quotes aren’t used. The default is no escape character."
   ]
  },
  {
   "cell_type": "markdown",
   "metadata": {},
   "source": [
    "## Writing CSV Files With csv"
   ]
  },
  {
   "cell_type": "code",
   "execution_count": 11,
   "metadata": {},
   "outputs": [],
   "source": [
    "with open('scores.csv', mode='w') as employee_file:\n",
    "    writer = csv.writer(employee_file, delimiter=',', quotechar='\"', quoting=csv.QUOTE_MINIMAL)\n",
    "    writer.writerow(['2019-05-01', 'Pirates', 0, 'Cubs', 10])\n",
    "    writer.writerow(['2019-05-15', 'Reds', 7, 'Pirates', 0])"
   ]
  },
  {
   "cell_type": "markdown",
   "metadata": {},
   "source": [
    "* If quoting is set to csv.QUOTE_MINIMAL, then .writerow() will quote fields only if they contain the delimiter or the quotechar. This is the default case.\n",
    "* If quoting is set to csv.QUOTE_ALL, then .writerow() will quote all fields.\n",
    "* If quoting is set to csv.QUOTE_NONNUMERIC, then .writerow() will quote all fields containing text data and convert all numeric fields to the float data type.\n",
    "* If quoting is set to csv.QUOTE_NONE, then .writerow() will escape delimiters instead of quoting them. In this case, you also must provide a value for the escapechar optional parameter."
   ]
  },
  {
   "cell_type": "markdown",
   "metadata": {},
   "source": [
    "## Writing CSV File From a Dictionary With csv"
   ]
  },
  {
   "cell_type": "code",
   "execution_count": 12,
   "metadata": {},
   "outputs": [],
   "source": [
    "with open('scores.csv', mode='w') as csv_file:\n",
    "    fieldnames = ['date', 'home_team', 'home_score', 'away_team', 'away_score']\n",
    "    writer = csv.DictWriter(csv_file, fieldnames=fieldnames)\n",
    "\n",
    "    writer.writeheader()\n",
    "    writer.writerow({'date': '2019-05-01', 'home_team': 'Pirates', 'home_score': 0, 'away_team': 'Cubs', 'away_score': 10})\n",
    "    writer.writerow({'date': '2019-05-15', 'home_team': 'Reds', 'home_score': 7, 'away_team': 'Pirates', 'away_score': 0})"
   ]
  },
  {
   "cell_type": "markdown",
   "metadata": {},
   "source": [
    "## Some Notes on typecasting"
   ]
  },
  {
   "cell_type": "code",
   "execution_count": 13,
   "metadata": {},
   "outputs": [
    {
     "name": "stdout",
     "output_type": "stream",
     "text": [
      "13\n"
     ]
    }
   ],
   "source": [
    "x = \"1\"\n",
    "print(x + str(3))"
   ]
  },
  {
   "cell_type": "code",
   "execution_count": 14,
   "metadata": {},
   "outputs": [
    {
     "name": "stdout",
     "output_type": "stream",
     "text": [
      "2.0\n",
      "3.0\n"
     ]
    }
   ],
   "source": [
    "x = \"1\"\n",
    "n = float(x)\n",
    "print(n + n)\n",
    "print(n * 3)"
   ]
  },
  {
   "cell_type": "code",
   "execution_count": 15,
   "metadata": {},
   "outputs": [
    {
     "name": "stdout",
     "output_type": "stream",
     "text": [
      "blah\n",
      "125\n"
     ]
    }
   ],
   "source": [
    "x = \"blah\"\n",
    "print(x)\n",
    "x = 125\n",
    "print(x)"
   ]
  },
  {
   "cell_type": "code",
   "execution_count": null,
   "metadata": {},
   "outputs": [],
   "source": []
  }
 ],
 "metadata": {
  "kernelspec": {
   "display_name": "Python 3 (ipykernel)",
   "language": "python",
   "name": "python3"
  },
  "language_info": {
   "codemirror_mode": {
    "name": "ipython",
    "version": 3
   },
   "file_extension": ".py",
   "mimetype": "text/x-python",
   "name": "python",
   "nbconvert_exporter": "python",
   "pygments_lexer": "ipython3",
   "version": "3.9.7"
  }
 },
 "nbformat": 4,
 "nbformat_minor": 4
}
