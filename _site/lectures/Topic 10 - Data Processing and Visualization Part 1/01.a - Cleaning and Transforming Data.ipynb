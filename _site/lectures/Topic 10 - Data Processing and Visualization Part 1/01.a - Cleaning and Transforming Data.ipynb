{
 "cells": [
  {
   "cell_type": "code",
   "execution_count": 1,
   "metadata": {},
   "outputs": [],
   "source": [
    "import csv\n",
    "import json\n",
    "from pprint import pprint"
   ]
  },
  {
   "cell_type": "code",
   "execution_count": 2,
   "metadata": {},
   "outputs": [
    {
     "name": "stdout",
     "output_type": "stream",
     "text": [
      "['Id', 'BIRTHDATE', 'DEATHDATE', 'SSN', 'DRIVERS', 'PASSPORT', 'PREFIX', 'FIRST', 'LAST', 'SUFFIX', 'MAIDEN', 'MARITAL', 'RACE', 'ETHNICITY', 'GENDER', 'BIRTHPLACE', 'ADDRESS', 'CITY', 'STATE', 'ZIP']\n",
      "['3287bb9c-e395-4146-8dd5-1fc3d887d220', '2015-07-12', '', '999-82-9751', '', '', '', 'Victor265', 'Kilback373', '', '', '', 'white', 'polish', 'M', 'Newton  Massachusetts  US', '657 Heathcote Divide', 'Fitchburg', 'Massachusetts', '01420']\n"
     ]
    }
   ],
   "source": [
    "with open('../data/csv/patients.csv') as f:\n",
    "    reader = csv.reader(f)\n",
    "    header = next(reader, None)\n",
    "    rows = [row for row in reader]\n",
    "\n",
    "print(header)\n",
    "print(rows[0])"
   ]
  },
  {
   "cell_type": "code",
   "execution_count": 3,
   "metadata": {},
   "outputs": [],
   "source": [
    "import datetime\n",
    "from datetime import date, timedelta\n",
    "from dateutil import parser\n",
    "\n",
    "def get_age(birth_date):\n",
    "    if isinstance(birth_date, str):\n",
    "        birth_date = parser.parse(birth_date).date()\n",
    "\n",
    "    age = (date.today()  - birth_date) // timedelta(days=365)\n",
    "    return age"
   ]
  },
  {
   "cell_type": "code",
   "execution_count": 4,
   "metadata": {},
   "outputs": [
    {
     "data": {
      "text/plain": [
       "datetime.date(2021, 10, 21)"
      ]
     },
     "execution_count": 4,
     "metadata": {},
     "output_type": "execute_result"
    }
   ],
   "source": [
    "date.today()"
   ]
  },
  {
   "cell_type": "code",
   "execution_count": 5,
   "metadata": {},
   "outputs": [
    {
     "data": {
      "text/plain": [
       "datetime.datetime(2021, 10, 21, 11, 4, 20, 310225)"
      ]
     },
     "execution_count": 5,
     "metadata": {},
     "output_type": "execute_result"
    }
   ],
   "source": [
    "datetime.datetime.now()"
   ]
  },
  {
   "cell_type": "code",
   "execution_count": 6,
   "metadata": {},
   "outputs": [
    {
     "name": "stdout",
     "output_type": "stream",
     "text": [
      "10\n"
     ]
    }
   ],
   "source": [
    "print(get_age('2011-09-10'))"
   ]
  },
  {
   "cell_type": "code",
   "execution_count": 7,
   "metadata": {},
   "outputs": [
    {
     "name": "stdout",
     "output_type": "stream",
     "text": [
      "7\n"
     ]
    }
   ],
   "source": [
    "print(get_age('2014-01-10'))"
   ]
  },
  {
   "cell_type": "code",
   "execution_count": 8,
   "metadata": {},
   "outputs": [
    {
     "name": "stdout",
     "output_type": "stream",
     "text": [
      "[6, 18, 13, 17, 8, 9, 55, 84, 14, 20, 53, 23, 18, 64, 11, 39, 34, 5, 82, 19, 18, 15, 26, 28, 29, 8, 71, 32, 82, 41, 51, 17, 40, 53, 60, 65, 11, 21, 32, 52, 3, 52, 82, 30, 69, 24, 99, 12, 51, 99, 27, 76, 78, 29, 16, 69, 34, 78, 58, 76, 99, 65, 70, 60, 50, 32, 4, 78, 65, 48, 3, 66, 77, 99, 25, 18, 47, 79, 99, 32, 10, 74, 61, 99, 62, 59, 67, 2, 50, 99, 3, 70, 61, 62, 43, 18, 71, 29, 99, 52, 71, 26, 28, 56, 32, 69, 23, 31, 46, 99, 106, 30, 21, 67, 67, 106, 99, 106, 99, 106, 106, 99, 106, 99, 99, 99, 99, 90, 90]\n"
     ]
    }
   ],
   "source": [
    "ages = [get_age(row[1]) for row in rows]\n",
    "print(ages)"
   ]
  },
  {
   "cell_type": "code",
   "execution_count": 9,
   "metadata": {},
   "outputs": [
    {
     "name": "stdout",
     "output_type": "stream",
     "text": [
      "[{'age': 6, 'birth_date': '2015-07-12'},\n",
      " {'age': 18, 'birth_date': '2003-04-15'},\n",
      " {'age': 13, 'birth_date': '2008-06-26'},\n",
      " {'age': 17, 'birth_date': '2004-06-22'},\n",
      " {'age': 8, 'birth_date': '2012-12-12'},\n",
      " {'age': 9, 'birth_date': '2012-10-04'},\n",
      " {'age': 55, 'birth_date': '1966-10-02'},\n",
      " {'age': 84, 'birth_date': '1937-04-18'},\n",
      " {'age': 14, 'birth_date': '2007-01-01'},\n",
      " {'age': 20, 'birth_date': '2001-09-12'},\n",
      " {'age': 53, 'birth_date': '1967-11-05'},\n",
      " {'age': 23, 'birth_date': '1998-05-27'},\n",
      " {'age': 18, 'birth_date': '2003-06-22'},\n",
      " {'age': 64, 'birth_date': '1957-02-03'},\n",
      " {'age': 11, 'birth_date': '2009-12-15'},\n",
      " {'age': 39, 'birth_date': '1981-11-24'},\n",
      " {'age': 34, 'birth_date': '1987-04-23'},\n",
      " {'age': 5, 'birth_date': '2016-02-26'},\n",
      " {'age': 82, 'birth_date': '1939-05-17'},\n",
      " {'age': 19, 'birth_date': '2002-05-04'},\n",
      " {'age': 18, 'birth_date': '2003-07-13'},\n",
      " {'age': 15, 'birth_date': '2006-09-05'},\n",
      " {'age': 26, 'birth_date': '1995-04-13'},\n",
      " {'age': 28, 'birth_date': '1993-08-19'},\n",
      " {'age': 29, 'birth_date': '1992-02-09'},\n",
      " {'age': 8, 'birth_date': '2013-09-10'},\n",
      " {'age': 71, 'birth_date': '1950-02-06'},\n",
      " {'age': 32, 'birth_date': '1989-05-19'},\n",
      " {'age': 82, 'birth_date': '1939-05-17'},\n",
      " {'age': 41, 'birth_date': '1980-08-01'},\n",
      " {'age': 51, 'birth_date': '1970-10-17'},\n",
      " {'age': 17, 'birth_date': '2004-09-02'},\n",
      " {'age': 40, 'birth_date': '1981-09-17'},\n",
      " {'age': 53, 'birth_date': '1967-11-06'},\n",
      " {'age': 60, 'birth_date': '1961-07-15'},\n",
      " {'age': 65, 'birth_date': '1956-04-05'},\n",
      " {'age': 11, 'birth_date': '2010-04-02'},\n",
      " {'age': 21, 'birth_date': '2000-09-13'},\n",
      " {'age': 32, 'birth_date': '1989-04-14'},\n",
      " {'age': 52, 'birth_date': '1969-08-30'},\n",
      " {'age': 3, 'birth_date': '2018-02-15'},\n",
      " {'age': 52, 'birth_date': '1968-11-10'},\n",
      " {'age': 82, 'birth_date': '1939-05-17'},\n",
      " {'age': 30, 'birth_date': '1991-04-14'},\n",
      " {'age': 69, 'birth_date': '1951-12-13'},\n",
      " {'age': 24, 'birth_date': '1997-09-25'},\n",
      " {'age': 99, 'birth_date': '1922-04-03'},\n",
      " {'age': 12, 'birth_date': '2009-06-25'},\n",
      " {'age': 51, 'birth_date': '1970-01-22'},\n",
      " {'age': 99, 'birth_date': '1922-04-03'},\n",
      " {'age': 27, 'birth_date': '1994-10-02'},\n",
      " {'age': 76, 'birth_date': '1945-05-24'},\n",
      " {'age': 78, 'birth_date': '1943-02-09'},\n",
      " {'age': 29, 'birth_date': '1992-01-30'},\n",
      " {'age': 16, 'birth_date': '2004-11-05'},\n",
      " {'age': 69, 'birth_date': '1951-12-13'},\n",
      " {'age': 34, 'birth_date': '1987-04-26'},\n",
      " {'age': 78, 'birth_date': '1943-02-09'},\n",
      " {'age': 58, 'birth_date': '1963-03-09'},\n",
      " {'age': 76, 'birth_date': '1945-05-24'},\n",
      " {'age': 99, 'birth_date': '1922-04-03'},\n",
      " {'age': 65, 'birth_date': '1955-11-30'},\n",
      " {'age': 70, 'birth_date': '1950-12-18'},\n",
      " {'age': 60, 'birth_date': '1961-05-19'},\n",
      " {'age': 50, 'birth_date': '1971-07-29'},\n",
      " {'age': 32, 'birth_date': '1988-11-14'},\n",
      " {'age': 4, 'birth_date': '2017-05-08'},\n",
      " {'age': 78, 'birth_date': '1943-02-09'},\n",
      " {'age': 65, 'birth_date': '1955-11-30'},\n",
      " {'age': 48, 'birth_date': '1973-09-21'},\n",
      " {'age': 3, 'birth_date': '2018-03-25'},\n",
      " {'age': 66, 'birth_date': '1955-03-13'},\n",
      " {'age': 77, 'birth_date': '1944-05-19'},\n",
      " {'age': 99, 'birth_date': '1922-04-03'},\n",
      " {'age': 25, 'birth_date': '1996-09-26'},\n",
      " {'age': 18, 'birth_date': '2002-11-08'},\n",
      " {'age': 47, 'birth_date': '1974-11-01'},\n",
      " {'age': 79, 'birth_date': '1942-06-19'},\n",
      " {'age': 99, 'birth_date': '1922-09-27'},\n",
      " {'age': 32, 'birth_date': '1989-07-17'},\n",
      " {'age': 10, 'birth_date': '2011-10-02'},\n",
      " {'age': 74, 'birth_date': '1947-05-03'},\n",
      " {'age': 61, 'birth_date': '1960-06-11'},\n",
      " {'age': 99, 'birth_date': '1922-04-03'},\n",
      " {'age': 62, 'birth_date': '1958-11-22'},\n",
      " {'age': 59, 'birth_date': '1962-06-28'},\n",
      " {'age': 67, 'birth_date': '1954-08-17'},\n",
      " {'age': 2, 'birth_date': '2019-03-24'},\n",
      " {'age': 50, 'birth_date': '1971-07-25'},\n",
      " {'age': 99, 'birth_date': '1922-09-27'},\n",
      " {'age': 3, 'birth_date': '2018-09-20'},\n",
      " {'age': 70, 'birth_date': '1951-09-17'},\n",
      " {'age': 61, 'birth_date': '1960-06-11'},\n",
      " {'age': 62, 'birth_date': '1959-03-18'},\n",
      " {'age': 43, 'birth_date': '1978-06-04'},\n",
      " {'age': 18, 'birth_date': '2003-10-09'},\n",
      " {'age': 71, 'birth_date': '1949-11-25'},\n",
      " {'age': 29, 'birth_date': '1992-08-04'},\n",
      " {'age': 99, 'birth_date': '1922-09-27'},\n",
      " {'age': 52, 'birth_date': '1968-11-11'},\n",
      " {'age': 71, 'birth_date': '1950-03-23'},\n",
      " {'age': 26, 'birth_date': '1995-01-25'},\n",
      " {'age': 28, 'birth_date': '1993-10-21'},\n",
      " {'age': 56, 'birth_date': '1965-08-30'},\n",
      " {'age': 32, 'birth_date': '1989-08-11'},\n",
      " {'age': 69, 'birth_date': '1951-12-24'},\n",
      " {'age': 23, 'birth_date': '1998-02-14'},\n",
      " {'age': 31, 'birth_date': '1990-02-24'},\n",
      " {'age': 46, 'birth_date': '1975-03-04'},\n",
      " {'age': 99, 'birth_date': '1922-09-27'},\n",
      " {'age': 106, 'birth_date': '1915-04-02'},\n",
      " {'age': 30, 'birth_date': '1991-09-07'},\n",
      " {'age': 21, 'birth_date': '2000-10-13'},\n",
      " {'age': 67, 'birth_date': '1953-12-24'},\n",
      " {'age': 67, 'birth_date': '1954-07-17'},\n",
      " {'age': 106, 'birth_date': '1915-04-02'},\n",
      " {'age': 99, 'birth_date': '1922-09-27'},\n",
      " {'age': 106, 'birth_date': '1915-04-02'},\n",
      " {'age': 99, 'birth_date': '1922-09-27'},\n",
      " {'age': 106, 'birth_date': '1915-04-02'},\n",
      " {'age': 106, 'birth_date': '1915-04-02'},\n",
      " {'age': 99, 'birth_date': '1922-09-27'},\n",
      " {'age': 106, 'birth_date': '1915-04-02'},\n",
      " {'age': 99, 'birth_date': '1922-09-27'},\n",
      " {'age': 99, 'birth_date': '1922-09-27'},\n",
      " {'age': 99, 'birth_date': '1922-09-27'},\n",
      " {'age': 99, 'birth_date': '1922-09-27'},\n",
      " {'age': 90, 'birth_date': '1931-03-16'},\n",
      " {'age': 90, 'birth_date': '1931-03-16'}]\n"
     ]
    }
   ],
   "source": [
    "patients = [ {'birth_date': row[1], 'age': get_age(row[1])} for row in rows ]\n",
    "pprint(patients)"
   ]
  },
  {
   "cell_type": "code",
   "execution_count": 10,
   "metadata": {},
   "outputs": [
    {
     "name": "stdout",
     "output_type": "stream",
     "text": [
      "[{'age': 18, 'birth_date': '2003-04-15'},\n",
      " {'age': 55, 'birth_date': '1966-10-02'},\n",
      " {'age': 20, 'birth_date': '2001-09-12'},\n",
      " {'age': 53, 'birth_date': '1967-11-05'},\n",
      " {'age': 23, 'birth_date': '1998-05-27'},\n",
      " {'age': 18, 'birth_date': '2003-06-22'},\n",
      " {'age': 64, 'birth_date': '1957-02-03'},\n",
      " {'age': 39, 'birth_date': '1981-11-24'},\n",
      " {'age': 34, 'birth_date': '1987-04-23'},\n",
      " {'age': 19, 'birth_date': '2002-05-04'},\n",
      " {'age': 18, 'birth_date': '2003-07-13'},\n",
      " {'age': 26, 'birth_date': '1995-04-13'},\n",
      " {'age': 28, 'birth_date': '1993-08-19'},\n",
      " {'age': 29, 'birth_date': '1992-02-09'},\n",
      " {'age': 71, 'birth_date': '1950-02-06'},\n",
      " {'age': 32, 'birth_date': '1989-05-19'},\n",
      " {'age': 41, 'birth_date': '1980-08-01'},\n",
      " {'age': 51, 'birth_date': '1970-10-17'},\n",
      " {'age': 40, 'birth_date': '1981-09-17'},\n",
      " {'age': 53, 'birth_date': '1967-11-06'},\n",
      " {'age': 60, 'birth_date': '1961-07-15'},\n",
      " {'age': 65, 'birth_date': '1956-04-05'},\n",
      " {'age': 21, 'birth_date': '2000-09-13'},\n",
      " {'age': 32, 'birth_date': '1989-04-14'},\n",
      " {'age': 52, 'birth_date': '1969-08-30'},\n",
      " {'age': 52, 'birth_date': '1968-11-10'},\n",
      " {'age': 30, 'birth_date': '1991-04-14'},\n",
      " {'age': 69, 'birth_date': '1951-12-13'},\n",
      " {'age': 24, 'birth_date': '1997-09-25'},\n",
      " {'age': 51, 'birth_date': '1970-01-22'},\n",
      " {'age': 27, 'birth_date': '1994-10-02'},\n",
      " {'age': 76, 'birth_date': '1945-05-24'},\n",
      " {'age': 78, 'birth_date': '1943-02-09'},\n",
      " {'age': 29, 'birth_date': '1992-01-30'},\n",
      " {'age': 69, 'birth_date': '1951-12-13'},\n",
      " {'age': 34, 'birth_date': '1987-04-26'},\n",
      " {'age': 78, 'birth_date': '1943-02-09'},\n",
      " {'age': 58, 'birth_date': '1963-03-09'},\n",
      " {'age': 76, 'birth_date': '1945-05-24'},\n",
      " {'age': 65, 'birth_date': '1955-11-30'},\n",
      " {'age': 70, 'birth_date': '1950-12-18'},\n",
      " {'age': 60, 'birth_date': '1961-05-19'},\n",
      " {'age': 50, 'birth_date': '1971-07-29'},\n",
      " {'age': 32, 'birth_date': '1988-11-14'},\n",
      " {'age': 78, 'birth_date': '1943-02-09'},\n",
      " {'age': 65, 'birth_date': '1955-11-30'},\n",
      " {'age': 48, 'birth_date': '1973-09-21'},\n",
      " {'age': 66, 'birth_date': '1955-03-13'},\n",
      " {'age': 77, 'birth_date': '1944-05-19'},\n",
      " {'age': 25, 'birth_date': '1996-09-26'},\n",
      " {'age': 18, 'birth_date': '2002-11-08'},\n",
      " {'age': 47, 'birth_date': '1974-11-01'},\n",
      " {'age': 79, 'birth_date': '1942-06-19'},\n",
      " {'age': 32, 'birth_date': '1989-07-17'},\n",
      " {'age': 74, 'birth_date': '1947-05-03'},\n",
      " {'age': 61, 'birth_date': '1960-06-11'},\n",
      " {'age': 62, 'birth_date': '1958-11-22'},\n",
      " {'age': 59, 'birth_date': '1962-06-28'},\n",
      " {'age': 67, 'birth_date': '1954-08-17'},\n",
      " {'age': 50, 'birth_date': '1971-07-25'},\n",
      " {'age': 70, 'birth_date': '1951-09-17'},\n",
      " {'age': 61, 'birth_date': '1960-06-11'},\n",
      " {'age': 62, 'birth_date': '1959-03-18'},\n",
      " {'age': 43, 'birth_date': '1978-06-04'},\n",
      " {'age': 18, 'birth_date': '2003-10-09'},\n",
      " {'age': 71, 'birth_date': '1949-11-25'},\n",
      " {'age': 29, 'birth_date': '1992-08-04'},\n",
      " {'age': 52, 'birth_date': '1968-11-11'},\n",
      " {'age': 71, 'birth_date': '1950-03-23'},\n",
      " {'age': 26, 'birth_date': '1995-01-25'},\n",
      " {'age': 28, 'birth_date': '1993-10-21'},\n",
      " {'age': 56, 'birth_date': '1965-08-30'},\n",
      " {'age': 32, 'birth_date': '1989-08-11'},\n",
      " {'age': 69, 'birth_date': '1951-12-24'},\n",
      " {'age': 23, 'birth_date': '1998-02-14'},\n",
      " {'age': 31, 'birth_date': '1990-02-24'},\n",
      " {'age': 46, 'birth_date': '1975-03-04'},\n",
      " {'age': 30, 'birth_date': '1991-09-07'},\n",
      " {'age': 21, 'birth_date': '2000-10-13'},\n",
      " {'age': 67, 'birth_date': '1953-12-24'},\n",
      " {'age': 67, 'birth_date': '1954-07-17'}]\n"
     ]
    }
   ],
   "source": [
    "# filtering based on age\n",
    "min_age = 18\n",
    "max_age = 79\n",
    "patients = [ {'birth_date': row[1], 'age': get_age(row[1])} \n",
    "            for row in rows if get_age(row[1]) >= min_age and get_age(row[1]) <= max_age ]\n",
    "pprint(patients)"
   ]
  },
  {
   "cell_type": "code",
   "execution_count": 11,
   "metadata": {},
   "outputs": [],
   "source": [
    "# another way to do it, add the age to the end\n",
    "for row in rows:\n",
    "    row.append(get_age(row[1]))"
   ]
  },
  {
   "cell_type": "code",
   "execution_count": 12,
   "metadata": {},
   "outputs": [
    {
     "name": "stdout",
     "output_type": "stream",
     "text": [
      "['3287bb9c-e395-4146-8dd5-1fc3d887d220', '2015-07-12', '', '999-82-9751', '', '', '', 'Victor265', 'Kilback373', '', '', '', 'white', 'polish', 'M', 'Newton  Massachusetts  US', '657 Heathcote Divide', 'Fitchburg', 'Massachusetts', '01420', 6]\n"
     ]
    }
   ],
   "source": [
    "print(rows[0])"
   ]
  },
  {
   "cell_type": "code",
   "execution_count": 13,
   "metadata": {},
   "outputs": [
    {
     "name": "stdout",
     "output_type": "stream",
     "text": [
      "[{'age': 18, 'birth_date': '2003-04-15'},\n",
      " {'age': 55, 'birth_date': '1966-10-02'},\n",
      " {'age': 20, 'birth_date': '2001-09-12'},\n",
      " {'age': 53, 'birth_date': '1967-11-05'},\n",
      " {'age': 23, 'birth_date': '1998-05-27'},\n",
      " {'age': 18, 'birth_date': '2003-06-22'},\n",
      " {'age': 64, 'birth_date': '1957-02-03'},\n",
      " {'age': 39, 'birth_date': '1981-11-24'},\n",
      " {'age': 34, 'birth_date': '1987-04-23'},\n",
      " {'age': 19, 'birth_date': '2002-05-04'},\n",
      " {'age': 18, 'birth_date': '2003-07-13'},\n",
      " {'age': 26, 'birth_date': '1995-04-13'},\n",
      " {'age': 28, 'birth_date': '1993-08-19'},\n",
      " {'age': 29, 'birth_date': '1992-02-09'},\n",
      " {'age': 71, 'birth_date': '1950-02-06'},\n",
      " {'age': 32, 'birth_date': '1989-05-19'},\n",
      " {'age': 41, 'birth_date': '1980-08-01'},\n",
      " {'age': 51, 'birth_date': '1970-10-17'},\n",
      " {'age': 40, 'birth_date': '1981-09-17'},\n",
      " {'age': 53, 'birth_date': '1967-11-06'},\n",
      " {'age': 60, 'birth_date': '1961-07-15'},\n",
      " {'age': 65, 'birth_date': '1956-04-05'},\n",
      " {'age': 21, 'birth_date': '2000-09-13'},\n",
      " {'age': 32, 'birth_date': '1989-04-14'},\n",
      " {'age': 52, 'birth_date': '1969-08-30'},\n",
      " {'age': 52, 'birth_date': '1968-11-10'},\n",
      " {'age': 30, 'birth_date': '1991-04-14'},\n",
      " {'age': 69, 'birth_date': '1951-12-13'},\n",
      " {'age': 24, 'birth_date': '1997-09-25'},\n",
      " {'age': 51, 'birth_date': '1970-01-22'},\n",
      " {'age': 27, 'birth_date': '1994-10-02'},\n",
      " {'age': 76, 'birth_date': '1945-05-24'},\n",
      " {'age': 78, 'birth_date': '1943-02-09'},\n",
      " {'age': 29, 'birth_date': '1992-01-30'},\n",
      " {'age': 69, 'birth_date': '1951-12-13'},\n",
      " {'age': 34, 'birth_date': '1987-04-26'},\n",
      " {'age': 78, 'birth_date': '1943-02-09'},\n",
      " {'age': 58, 'birth_date': '1963-03-09'},\n",
      " {'age': 76, 'birth_date': '1945-05-24'},\n",
      " {'age': 65, 'birth_date': '1955-11-30'},\n",
      " {'age': 70, 'birth_date': '1950-12-18'},\n",
      " {'age': 60, 'birth_date': '1961-05-19'},\n",
      " {'age': 50, 'birth_date': '1971-07-29'},\n",
      " {'age': 32, 'birth_date': '1988-11-14'},\n",
      " {'age': 78, 'birth_date': '1943-02-09'},\n",
      " {'age': 65, 'birth_date': '1955-11-30'},\n",
      " {'age': 48, 'birth_date': '1973-09-21'},\n",
      " {'age': 66, 'birth_date': '1955-03-13'},\n",
      " {'age': 77, 'birth_date': '1944-05-19'},\n",
      " {'age': 25, 'birth_date': '1996-09-26'},\n",
      " {'age': 18, 'birth_date': '2002-11-08'},\n",
      " {'age': 47, 'birth_date': '1974-11-01'},\n",
      " {'age': 79, 'birth_date': '1942-06-19'},\n",
      " {'age': 32, 'birth_date': '1989-07-17'},\n",
      " {'age': 74, 'birth_date': '1947-05-03'},\n",
      " {'age': 61, 'birth_date': '1960-06-11'},\n",
      " {'age': 62, 'birth_date': '1958-11-22'},\n",
      " {'age': 59, 'birth_date': '1962-06-28'},\n",
      " {'age': 67, 'birth_date': '1954-08-17'},\n",
      " {'age': 50, 'birth_date': '1971-07-25'},\n",
      " {'age': 70, 'birth_date': '1951-09-17'},\n",
      " {'age': 61, 'birth_date': '1960-06-11'},\n",
      " {'age': 62, 'birth_date': '1959-03-18'},\n",
      " {'age': 43, 'birth_date': '1978-06-04'},\n",
      " {'age': 18, 'birth_date': '2003-10-09'},\n",
      " {'age': 71, 'birth_date': '1949-11-25'},\n",
      " {'age': 29, 'birth_date': '1992-08-04'},\n",
      " {'age': 52, 'birth_date': '1968-11-11'},\n",
      " {'age': 71, 'birth_date': '1950-03-23'},\n",
      " {'age': 26, 'birth_date': '1995-01-25'},\n",
      " {'age': 28, 'birth_date': '1993-10-21'},\n",
      " {'age': 56, 'birth_date': '1965-08-30'},\n",
      " {'age': 32, 'birth_date': '1989-08-11'},\n",
      " {'age': 69, 'birth_date': '1951-12-24'},\n",
      " {'age': 23, 'birth_date': '1998-02-14'},\n",
      " {'age': 31, 'birth_date': '1990-02-24'},\n",
      " {'age': 46, 'birth_date': '1975-03-04'},\n",
      " {'age': 30, 'birth_date': '1991-09-07'},\n",
      " {'age': 21, 'birth_date': '2000-10-13'},\n",
      " {'age': 67, 'birth_date': '1953-12-24'},\n",
      " {'age': 67, 'birth_date': '1954-07-17'}]\n"
     ]
    }
   ],
   "source": [
    "min_age = 18\n",
    "max_age = 79\n",
    "patients = [ {'birth_date': row[1], 'age': row[-1]} \n",
    "            for row in rows if row[20] >= min_age and row[-1] <= max_age ]\n",
    "pprint(patients)"
   ]
  },
  {
   "cell_type": "code",
   "execution_count": 14,
   "metadata": {},
   "outputs": [],
   "source": [
    "# todo we might want to shift all dates (e.g. birthday, encounter date)"
   ]
  },
  {
   "cell_type": "code",
   "execution_count": 15,
   "metadata": {},
   "outputs": [
    {
     "name": "stdout",
     "output_type": "stream",
     "text": [
      "Veronique Tippetts\n",
      "Sarah Santiago\n",
      "Eustolia Bushard\n",
      "Emanuel Riker\n",
      "Maybelle Denney\n",
      "Lilia Gobel\n",
      "Clarine Vandermeer\n",
      "Felicidad Joynes\n",
      "Rod Pixley\n",
      "Rashad Fukushima\n",
      "Marci Bakley\n",
      "Melvina Cichon\n",
      "Susy Sibert\n",
      "Oma Hoskins\n",
      "Lance Curnutte\n",
      "Mei Wooldridge\n",
      "Jillian Mccroy\n",
      "Darby Castellon\n",
      "Raul Pickney\n",
      "Loni Kaur\n"
     ]
    }
   ],
   "source": [
    "fake_names = '''Veronique Tippetts\n",
    "Sarah Santiago\n",
    "Eustolia Bushard\n",
    "Emanuel Riker\n",
    "Maybelle Denney\n",
    "Lilia Gobel\n",
    "Clarine Vandermeer\n",
    "Felicidad Joynes\n",
    "Rod Pixley\n",
    "Rashad Fukushima\n",
    "Marci Bakley\n",
    "Melvina Cichon\n",
    "Susy Sibert\n",
    "Oma Hoskins\n",
    "Lance Curnutte\n",
    "Mei Wooldridge\n",
    "Jillian Mccroy\n",
    "Darby Castellon\n",
    "Raul Pickney\n",
    "Loni Kaur'''\n",
    "print(fake_names)"
   ]
  },
  {
   "cell_type": "code",
   "execution_count": 16,
   "metadata": {},
   "outputs": [
    {
     "data": {
      "text/plain": [
       "['Veronique Tippetts',\n",
       " 'Sarah Santiago',\n",
       " 'Eustolia Bushard',\n",
       " 'Emanuel Riker',\n",
       " 'Maybelle Denney',\n",
       " 'Lilia Gobel',\n",
       " 'Clarine Vandermeer',\n",
       " 'Felicidad Joynes',\n",
       " 'Rod Pixley',\n",
       " 'Rashad Fukushima',\n",
       " 'Marci Bakley',\n",
       " 'Melvina Cichon',\n",
       " 'Susy Sibert',\n",
       " 'Oma Hoskins',\n",
       " 'Lance Curnutte',\n",
       " 'Mei Wooldridge',\n",
       " 'Jillian Mccroy',\n",
       " 'Darby Castellon',\n",
       " 'Raul Pickney',\n",
       " 'Loni Kaur']"
      ]
     },
     "execution_count": 16,
     "metadata": {},
     "output_type": "execute_result"
    }
   ],
   "source": [
    "fake_names.split('\\n')"
   ]
  },
  {
   "cell_type": "code",
   "execution_count": 17,
   "metadata": {},
   "outputs": [],
   "source": [
    "# deidentify the name\n",
    "import random\n",
    "\n",
    "def fake_name_generator():\n",
    "    fake_names = \\\n",
    "\"\"\"Veronique Tippetts\n",
    "Sarah Santiago\n",
    "Eustolia Bushard\n",
    "Emanuel Riker\n",
    "Maybelle Denney\n",
    "Lilia Gobel\n",
    "Clarine Vandermeer\n",
    "Felicidad Joynes\n",
    "Rod Pixley\n",
    "Rashad Fukushima\n",
    "Marci Bakley\n",
    "Melvina Cichon\n",
    "Susy Sibert\n",
    "Oma Hoskins\n",
    "Lance Curnutte\n",
    "Mei Wooldridge\n",
    "Jillian Mccroy\n",
    "Darby Castellon\n",
    "Raul Pickney\n",
    "Loni Kaur\"\"\".split('\\n')\n",
    "    return random.choice(fake_names).strip()"
   ]
  },
  {
   "cell_type": "code",
   "execution_count": 18,
   "metadata": {},
   "outputs": [
    {
     "name": "stdout",
     "output_type": "stream",
     "text": [
      "Lance Curnutte\n",
      "Darby Castellon\n",
      "Loni Kaur\n"
     ]
    }
   ],
   "source": [
    "print(fake_name_generator())\n",
    "print(fake_name_generator())\n",
    "print(fake_name_generator())"
   ]
  },
  {
   "cell_type": "code",
   "execution_count": 19,
   "metadata": {},
   "outputs": [],
   "source": [
    "# don't reuse names\n",
    "fake_names = \\\n",
    "\"\"\"Veronique Tippetts\n",
    "Sarah Santiago\n",
    "Eustolia Bushard\n",
    "Emanuel Riker\n",
    "Maybelle Denney\n",
    "Lilia Gobel\n",
    "Clarine Vandermeer\n",
    "Felicidad Joynes\n",
    "Rod Pixley\n",
    "Rashad Fukushima\n",
    "Marci Bakley\n",
    "Melvina Cichon\n",
    "Susy Sibert\n",
    "Oma Hoskins\n",
    "Lance Curnutte\n",
    "Mei Wooldridge\n",
    "Jillian Mccroy\n",
    "Darby Castellon\n",
    "Raul Pickney\n",
    "Loni Kaur\"\"\".split('\\n')\n",
    "    \n",
    "def get_fake_name():\n",
    "    if len(fake_names) == 0:\n",
    "        return None\n",
    "    r = random.randint(0, len(fake_names) - 1)\n",
    "    n = fake_names[r].strip()\n",
    "    del fake_names[r]\n",
    "    return n"
   ]
  },
  {
   "cell_type": "code",
   "execution_count": 20,
   "metadata": {},
   "outputs": [
    {
     "name": "stdout",
     "output_type": "stream",
     "text": [
      "Rashad Fukushima\n",
      "Raul Pickney\n",
      "Marci Bakley\n",
      "Melvina Cichon\n",
      "Mei Wooldridge\n",
      "Maybelle Denney\n",
      "Emanuel Riker\n",
      "Veronique Tippetts\n",
      "Rod Pixley\n",
      "Lance Curnutte\n",
      "Susy Sibert\n",
      "Loni Kaur\n",
      "Sarah Santiago\n",
      "Clarine Vandermeer\n",
      "Jillian Mccroy\n",
      "Felicidad Joynes\n",
      "Darby Castellon\n",
      "Oma Hoskins\n",
      "Eustolia Bushard\n",
      "Lilia Gobel\n",
      "None\n"
     ]
    }
   ],
   "source": [
    "for i in range(21):\n",
    "    print(get_fake_name())"
   ]
  },
  {
   "cell_type": "code",
   "execution_count": 21,
   "metadata": {},
   "outputs": [
    {
     "name": "stdout",
     "output_type": "stream",
     "text": [
      "[{'age': 18, 'birth_date': '2003-04-15', 'name': None},\n",
      " {'age': 55, 'birth_date': '1966-10-02', 'name': None},\n",
      " {'age': 20, 'birth_date': '2001-09-12', 'name': None},\n",
      " {'age': 53, 'birth_date': '1967-11-05', 'name': None},\n",
      " {'age': 23, 'birth_date': '1998-05-27', 'name': None},\n",
      " {'age': 18, 'birth_date': '2003-06-22', 'name': None},\n",
      " {'age': 64, 'birth_date': '1957-02-03', 'name': None},\n",
      " {'age': 39, 'birth_date': '1981-11-24', 'name': None},\n",
      " {'age': 34, 'birth_date': '1987-04-23', 'name': None},\n",
      " {'age': 19, 'birth_date': '2002-05-04', 'name': None},\n",
      " {'age': 18, 'birth_date': '2003-07-13', 'name': None},\n",
      " {'age': 26, 'birth_date': '1995-04-13', 'name': None},\n",
      " {'age': 28, 'birth_date': '1993-08-19', 'name': None},\n",
      " {'age': 29, 'birth_date': '1992-02-09', 'name': None},\n",
      " {'age': 71, 'birth_date': '1950-02-06', 'name': None},\n",
      " {'age': 32, 'birth_date': '1989-05-19', 'name': None},\n",
      " {'age': 41, 'birth_date': '1980-08-01', 'name': None},\n",
      " {'age': 51, 'birth_date': '1970-10-17', 'name': None},\n",
      " {'age': 40, 'birth_date': '1981-09-17', 'name': None},\n",
      " {'age': 53, 'birth_date': '1967-11-06', 'name': None},\n",
      " {'age': 60, 'birth_date': '1961-07-15', 'name': None},\n",
      " {'age': 65, 'birth_date': '1956-04-05', 'name': None},\n",
      " {'age': 21, 'birth_date': '2000-09-13', 'name': None},\n",
      " {'age': 32, 'birth_date': '1989-04-14', 'name': None},\n",
      " {'age': 52, 'birth_date': '1969-08-30', 'name': None},\n",
      " {'age': 52, 'birth_date': '1968-11-10', 'name': None},\n",
      " {'age': 30, 'birth_date': '1991-04-14', 'name': None},\n",
      " {'age': 69, 'birth_date': '1951-12-13', 'name': None},\n",
      " {'age': 24, 'birth_date': '1997-09-25', 'name': None},\n",
      " {'age': 51, 'birth_date': '1970-01-22', 'name': None},\n",
      " {'age': 27, 'birth_date': '1994-10-02', 'name': None},\n",
      " {'age': 76, 'birth_date': '1945-05-24', 'name': None},\n",
      " {'age': 78, 'birth_date': '1943-02-09', 'name': None},\n",
      " {'age': 29, 'birth_date': '1992-01-30', 'name': None},\n",
      " {'age': 69, 'birth_date': '1951-12-13', 'name': None},\n",
      " {'age': 34, 'birth_date': '1987-04-26', 'name': None},\n",
      " {'age': 78, 'birth_date': '1943-02-09', 'name': None},\n",
      " {'age': 58, 'birth_date': '1963-03-09', 'name': None},\n",
      " {'age': 76, 'birth_date': '1945-05-24', 'name': None},\n",
      " {'age': 65, 'birth_date': '1955-11-30', 'name': None},\n",
      " {'age': 70, 'birth_date': '1950-12-18', 'name': None},\n",
      " {'age': 60, 'birth_date': '1961-05-19', 'name': None},\n",
      " {'age': 50, 'birth_date': '1971-07-29', 'name': None},\n",
      " {'age': 32, 'birth_date': '1988-11-14', 'name': None},\n",
      " {'age': 78, 'birth_date': '1943-02-09', 'name': None},\n",
      " {'age': 65, 'birth_date': '1955-11-30', 'name': None},\n",
      " {'age': 48, 'birth_date': '1973-09-21', 'name': None},\n",
      " {'age': 66, 'birth_date': '1955-03-13', 'name': None},\n",
      " {'age': 77, 'birth_date': '1944-05-19', 'name': None},\n",
      " {'age': 25, 'birth_date': '1996-09-26', 'name': None},\n",
      " {'age': 18, 'birth_date': '2002-11-08', 'name': None},\n",
      " {'age': 47, 'birth_date': '1974-11-01', 'name': None},\n",
      " {'age': 79, 'birth_date': '1942-06-19', 'name': None},\n",
      " {'age': 32, 'birth_date': '1989-07-17', 'name': None},\n",
      " {'age': 74, 'birth_date': '1947-05-03', 'name': None},\n",
      " {'age': 61, 'birth_date': '1960-06-11', 'name': None},\n",
      " {'age': 62, 'birth_date': '1958-11-22', 'name': None},\n",
      " {'age': 59, 'birth_date': '1962-06-28', 'name': None},\n",
      " {'age': 67, 'birth_date': '1954-08-17', 'name': None},\n",
      " {'age': 50, 'birth_date': '1971-07-25', 'name': None},\n",
      " {'age': 70, 'birth_date': '1951-09-17', 'name': None},\n",
      " {'age': 61, 'birth_date': '1960-06-11', 'name': None},\n",
      " {'age': 62, 'birth_date': '1959-03-18', 'name': None},\n",
      " {'age': 43, 'birth_date': '1978-06-04', 'name': None},\n",
      " {'age': 18, 'birth_date': '2003-10-09', 'name': None},\n",
      " {'age': 71, 'birth_date': '1949-11-25', 'name': None},\n",
      " {'age': 29, 'birth_date': '1992-08-04', 'name': None},\n",
      " {'age': 52, 'birth_date': '1968-11-11', 'name': None},\n",
      " {'age': 71, 'birth_date': '1950-03-23', 'name': None},\n",
      " {'age': 26, 'birth_date': '1995-01-25', 'name': None},\n",
      " {'age': 28, 'birth_date': '1993-10-21', 'name': None},\n",
      " {'age': 56, 'birth_date': '1965-08-30', 'name': None},\n",
      " {'age': 32, 'birth_date': '1989-08-11', 'name': None},\n",
      " {'age': 69, 'birth_date': '1951-12-24', 'name': None},\n",
      " {'age': 23, 'birth_date': '1998-02-14', 'name': None},\n",
      " {'age': 31, 'birth_date': '1990-02-24', 'name': None},\n",
      " {'age': 46, 'birth_date': '1975-03-04', 'name': None},\n",
      " {'age': 30, 'birth_date': '1991-09-07', 'name': None},\n",
      " {'age': 21, 'birth_date': '2000-10-13', 'name': None},\n",
      " {'age': 67, 'birth_date': '1953-12-24', 'name': None},\n",
      " {'age': 67, 'birth_date': '1954-07-17', 'name': None}]\n"
     ]
    }
   ],
   "source": [
    "min_age = 18\n",
    "max_age = 79\n",
    "patients = [ {'birth_date': row[1], 'age': row[20], 'name': get_fake_name() } \n",
    "            for row in rows if row[20] >= min_age and row[20] <= max_age ]\n",
    "pprint(patients)"
   ]
  },
  {
   "cell_type": "code",
   "execution_count": null,
   "metadata": {
    "collapsed": true,
    "jupyter": {
     "outputs_hidden": true
    }
   },
   "outputs": [],
   "source": []
  },
  {
   "cell_type": "code",
   "execution_count": null,
   "metadata": {},
   "outputs": [],
   "source": []
  }
 ],
 "metadata": {
  "kernelspec": {
   "display_name": "Python 3 (ipykernel)",
   "language": "python",
   "name": "python3"
  },
  "language_info": {
   "codemirror_mode": {
    "name": "ipython",
    "version": 3
   },
   "file_extension": ".py",
   "mimetype": "text/x-python",
   "name": "python",
   "nbconvert_exporter": "python",
   "pygments_lexer": "ipython3",
   "version": "3.9.7"
  }
 },
 "nbformat": 4,
 "nbformat_minor": 4
}
