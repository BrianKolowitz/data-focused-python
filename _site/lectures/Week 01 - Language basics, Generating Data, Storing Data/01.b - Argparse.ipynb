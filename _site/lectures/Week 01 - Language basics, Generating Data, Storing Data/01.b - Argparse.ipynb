{
 "cells": [
  {
   "cell_type": "markdown",
   "source": [
    "# Argparse\n",
    "\n",
    "## What is Argparse?\n",
    "\n",
    "[Argparse Tutorial](https://www.pythonforbeginners.com/argparse/argparse-tutorial)\n",
    "\n",
    "Argparse is a parser for command-line options, arguments and subcommands. This library makes it easy to write user-friendly command-line interfaces by:\n",
    "\n",
    "* defines what arguments it requires\n",
    "* and figuring out how to parse those out of sys.argv. \n",
    "\n",
    "The argparse module  automatically generates help and usage messages and issues errors when users give the program invalid arguments.\n",
    "\n",
    "## Getting Started\n",
    "\n",
    "See [agrparse_1.py](argparse_1.py)\n",
    "```python\n",
    "# import the library\n",
    "import argparse\n",
    "\n",
    "# initialize the parser\n",
    "parser = argparse.ArgumentParser()\n",
    "\n",
    "# parse arguments from sys.argv\n",
    "parser.parse_args()\n",
    "\n",
    "```"
   ],
   "metadata": {}
  },
  {
   "cell_type": "code",
   "execution_count": 1,
   "source": [
    "# run the code and ask for help\n",
    "!python argparse_1.py --help"
   ],
   "outputs": [
    {
     "output_type": "stream",
     "name": "stdout",
     "text": [
      "usage: argparse_1.py [-h]\n",
      "\n",
      "optional arguments:\n",
      "  -h, --help  show this help message and exit\n"
     ]
    }
   ],
   "metadata": {}
  },
  {
   "cell_type": "markdown",
   "source": [
    "### Positional Arguments\n",
    "\n",
    "See [argparse_2.py](argparse_2.py)\n",
    "\n",
    "```python\n",
    "import argparse\n",
    "\n",
    "parser = argparse.ArgumentParser()\n",
    "\n",
    "parser.add_argument(\"name\")\n",
    "parser.add_argument(\"age\")\n",
    "parser.add_argument(\"city\")\n",
    "args = parser.parse_args()\n",
    "\n",
    "print(args.name, args.age, args.city)\n",
    "```"
   ],
   "metadata": {}
  },
  {
   "cell_type": "code",
   "execution_count": 2,
   "source": [
    "!python argparse_2.py --help"
   ],
   "outputs": [
    {
     "output_type": "stream",
     "name": "stdout",
     "text": [
      "usage: argparse_2.py [-h] name age city\n",
      "\n",
      "positional arguments:\n",
      "  name\n",
      "  age\n",
      "  city\n",
      "\n",
      "optional arguments:\n",
      "  -h, --help  show this help message and exit\n"
     ]
    }
   ],
   "metadata": {}
  },
  {
   "cell_type": "code",
   "execution_count": 3,
   "source": [
    "!python argparse_2.py Ben 37 Pittsburgh"
   ],
   "outputs": [
    {
     "output_type": "stream",
     "name": "stdout",
     "text": [
      "Ben 37 Pittsburgh\n"
     ]
    }
   ],
   "metadata": {}
  },
  {
   "cell_type": "code",
   "execution_count": 4,
   "source": [
    "!python argparse_2.py Brian \"??\" Pittsburgh"
   ],
   "outputs": [
    {
     "output_type": "stream",
     "name": "stdout",
     "text": [
      "Brian ?? Pittsburgh\n"
     ]
    }
   ],
   "metadata": {}
  },
  {
   "cell_type": "markdown",
   "source": [
    "### Extending the help text\n",
    "\n",
    "See [argparse_3.py](argparse_3.py)\n",
    "\n",
    "```python\n",
    "import argparse\n",
    "\n",
    "parser = argparse.ArgumentParser()\n",
    "\n",
    "parser.add_argument(\"name\", help=\"the name of the person you want to find\")\n",
    "parser.add_argument(\"age\", help=\"the age of the person you'd like to find\")\n",
    "parser.add_argument(\"city\", help=\"the city you'd like to search\")\n",
    "\n",
    "args = parser.parse_args()\n",
    "```"
   ],
   "metadata": {}
  },
  {
   "cell_type": "code",
   "execution_count": 5,
   "source": [
    "!python argparse_3.py --help"
   ],
   "outputs": [
    {
     "output_type": "stream",
     "name": "stdout",
     "text": [
      "usage: argparse_3.py [-h] name age city\n",
      "\n",
      "positional arguments:\n",
      "  name        the name of the person you want to find\n",
      "  age         the age of the person you'd like to find\n",
      "  city        the city you'd like to search\n",
      "\n",
      "optional arguments:\n",
      "  -h, --help  show this help message and exit\n"
     ]
    }
   ],
   "metadata": {}
  },
  {
   "cell_type": "markdown",
   "source": [
    "### Changing the default argument type\n",
    "\n",
    "Argparse treats all arguments as strings by default. You can change the expected data type when you add each argument.\n",
    "\n",
    "See [argparse_4.py](argparse_4.py)\n",
    "\n",
    "```python\n",
    "import argparse\n",
    "\n",
    "parser = argparse.ArgumentParser()\n",
    "\n",
    "parser.add_argument(\"name\", help=\"the name of the person you want to find\")\n",
    "parser.add_argument(\"age\", help=\"the age of the person you'd like to find\", type=int)\n",
    "parser.add_argument(\"city\", help=\"the city you'd like to search\")\n",
    "\n",
    "args = parser.parse_args()\n",
    "```"
   ],
   "metadata": {}
  },
  {
   "cell_type": "code",
   "execution_count": 6,
   "source": [
    "!python argparse_4.py Ben abc Pittsburgh"
   ],
   "outputs": [
    {
     "output_type": "stream",
     "name": "stdout",
     "text": [
      "usage: argparse_4.py [-h] name age city\n",
      "argparse_4.py: error: argument age: invalid int value: 'abc'\n"
     ]
    }
   ],
   "metadata": {}
  },
  {
   "cell_type": "code",
   "execution_count": 7,
   "source": [
    "!python argparse_4.py Ben 37 Pittsburgh"
   ],
   "outputs": [],
   "metadata": {
    "collapsed": true
   }
  },
  {
   "cell_type": "markdown",
   "source": [
    "### Optional arguments\n",
    "\n",
    "See [argparse_5.py](argparse_5.py)\n",
    "\n",
    "```python\n",
    "import argparse\n",
    "\n",
    "parser = argparse.ArgumentParser()\n",
    "\n",
    "parser.add_argument(\"--verbose\", \n",
    "                    help=\"increase output verbosity\",\n",
    "                    action=\"store_true\")\n",
    "\n",
    "args = parser.parse_args()\n",
    "\n",
    "if args.verbose:\n",
    "    print(\"verbosity turned on\")\n",
    "```\n",
    "\n",
    "An optional argument (or option) is (by default) given None as a value when its\n",
    "not being used.\n",
    "\n",
    "* Using the --verbosity option, only two values are actually useful, True or False. \n",
    "* The keyword \"action\" is being given the value \"store_true\" which means that if the option is specifed, then assign the value \"True\" to args.verbose\n",
    "* Not specifying the option implies False."
   ],
   "metadata": {}
  },
  {
   "cell_type": "code",
   "execution_count": 8,
   "source": [
    "!python argparse_5.py --help"
   ],
   "outputs": [
    {
     "output_type": "stream",
     "name": "stdout",
     "text": [
      "usage: argparse_5.py [-h] [--verbose]\n",
      "\n",
      "optional arguments:\n",
      "  -h, --help  show this help message and exit\n",
      "  --verbose   increase output verbosity\n"
     ]
    }
   ],
   "metadata": {}
  },
  {
   "cell_type": "code",
   "execution_count": 9,
   "source": [
    "!python argparse_5.py --verbose"
   ],
   "outputs": [
    {
     "output_type": "stream",
     "name": "stdout",
     "text": [
      "verbosity turned on\n"
     ]
    }
   ],
   "metadata": {}
  },
  {
   "cell_type": "code",
   "execution_count": 10,
   "source": [
    "!python argparse_5.py"
   ],
   "outputs": [],
   "metadata": {
    "collapsed": true
   }
  },
  {
   "cell_type": "markdown",
   "source": [
    "### Short options\n",
    "\n",
    "See [argparse_6.py](argparse_6.py)\n",
    "\n",
    "```python\n",
    "import argparse\n",
    "\n",
    "parser = argparse.ArgumentParser()\n",
    "\n",
    "parser.add_argument(\"-n\", \"--name\", help=\"the name of the person you want to find\")\n",
    "parser.add_argument(\"-a\", \"--age\", help=\"the age of the person you'd like to find\", type=int)\n",
    "parser.add_argument(\"-c\", \"--city\", help=\"the city you'd like to search\")\n",
    "parser.add_argument(\"-v\", \"--verbose\", help=\"increase output verbosity\", action=\"store_true\")\n",
    "\n",
    "args = parser.parse_args()\n",
    "\n",
    "if args.verbose:\n",
    "    print(f\"Searching for {args.name} {args.age} years of age in or around {args.city}\")\n",
    "else:\n",
    "    print(f\"Searching for {args.name}\")\n",
    "```"
   ],
   "metadata": {}
  },
  {
   "cell_type": "code",
   "execution_count": 11,
   "source": [
    "!python argparse_6.py --help"
   ],
   "outputs": [
    {
     "output_type": "stream",
     "name": "stdout",
     "text": [
      "usage: argparse_6.py [-h] [-n NAME] [-a AGE] [-c CITY] [-v]\n",
      "\n",
      "optional arguments:\n",
      "  -h, --help            show this help message and exit\n",
      "  -n NAME, --name NAME  the name of the person you want to find\n",
      "  -a AGE, --age AGE     the age of the person you'd like to find\n",
      "  -c CITY, --city CITY  the city you'd like to search\n",
      "  -v, --verbose         increase output verbosity\n"
     ]
    }
   ],
   "metadata": {}
  },
  {
   "cell_type": "code",
   "execution_count": 12,
   "source": [
    "!python argparse_6.py -n Ben -a 37 -c Pittsburgh"
   ],
   "outputs": [
    {
     "output_type": "stream",
     "name": "stdout",
     "text": [
      "Searching for Ben\n"
     ]
    }
   ],
   "metadata": {}
  },
  {
   "cell_type": "code",
   "execution_count": 13,
   "source": [
    "!python argparse_6.py --name Ben --age 37 --city Pittsburgh"
   ],
   "outputs": [
    {
     "output_type": "stream",
     "name": "stdout",
     "text": [
      "Searching for Ben\n"
     ]
    }
   ],
   "metadata": {}
  },
  {
   "cell_type": "code",
   "execution_count": 14,
   "source": [
    "!python argparse_6.py --name Ben --age 37 --city Pittsburgh --verbose"
   ],
   "outputs": [
    {
     "output_type": "stream",
     "name": "stdout",
     "text": [
      "Searching for Ben 37 years of age in or around Pittsburgh\n"
     ]
    }
   ],
   "metadata": {}
  },
  {
   "cell_type": "code",
   "execution_count": null,
   "source": [],
   "outputs": [],
   "metadata": {
    "collapsed": true
   }
  }
 ],
 "metadata": {
  "kernelspec": {
   "name": "python3",
   "display_name": "Python 3.9.2 64-bit ('3.9.2': pyenv)"
  },
  "language_info": {
   "codemirror_mode": {
    "name": "ipython",
    "version": 3
   },
   "file_extension": ".py",
   "mimetype": "text/x-python",
   "name": "python",
   "nbconvert_exporter": "python",
   "pygments_lexer": "ipython3",
   "version": "3.9.2"
  },
  "interpreter": {
   "hash": "9bc413ca0ad2f6856e9ff6473685a1805f1ab11584b4a5e0de520d3c221249fb"
  }
 },
 "nbformat": 4,
 "nbformat_minor": 2
}