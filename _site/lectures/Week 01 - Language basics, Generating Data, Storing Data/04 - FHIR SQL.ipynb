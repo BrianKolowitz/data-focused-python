{
 "cells": [
  {
   "cell_type": "code",
   "execution_count": 5,
   "metadata": {},
   "outputs": [],
   "source": [
    "import json\n",
    "from dateutil.parser import parse\n",
    "import pprint"
   ]
  },
  {
   "cell_type": "code",
   "execution_count": 6,
   "metadata": {},
   "outputs": [
    {
     "name": "stdout",
     "output_type": "stream",
     "text": [
      "<class 'str'>\n"
     ]
    }
   ],
   "source": [
    "f = open('../data/fhir/Abraham100_Klein929_8ff56a9d-b91c-48c7-a6e9-a55344881a36.json', 'r')\n",
    "text = f.read()\n",
    "f.close()\n",
    "print(type(text))"
   ]
  },
  {
   "cell_type": "code",
   "execution_count": 7,
   "metadata": {},
   "outputs": [
    {
     "name": "stdout",
     "output_type": "stream",
     "text": [
      "<class 'dict'>\n"
     ]
    }
   ],
   "source": [
    "with open('../data/fhir/Abraham100_Klein929_8ff56a9d-b91c-48c7-a6e9-a55344881a36.json') as f:\n",
    "    bundle = json.load(f)\n",
    "print(type(bundle))"
   ]
  },
  {
   "cell_type": "code",
   "execution_count": 8,
   "metadata": {},
   "outputs": [
    {
     "name": "stdout",
     "output_type": "stream",
     "text": [
      "urn:uuid:07b3c863-ea51-45a7-b446-493b39eb72e2 active 125.0 USD 1992-07-31T05:18:05-04:00 1992-07-31T05:48:05-04:00\n"
     ]
    }
   ],
   "source": [
    "for entry in bundle['entry']:\n",
    "    resource = entry['resource']\n",
    "    resource_type = resource['resourceType']\n",
    "    if resource_type == 'Claim':\n",
    "        id = resource['id']\n",
    "        patient = resource['patient']['reference']\n",
    "        status = resource['status']\n",
    "        total = resource['total']['value']\n",
    "        currency = resource['total']['currency']\n",
    "        start = resource['billablePeriod']['start']\n",
    "        end = resource['billablePeriod']['end']\n",
    "        print(patient, status, total, currency, start, end)\n",
    "        break"
   ]
  },
  {
   "cell_type": "code",
   "execution_count": 9,
   "metadata": {},
   "outputs": [
    {
     "name": "stdout",
     "output_type": "stream",
     "text": [
      "urn:uuid:07b3c863-ea51-45a7-b446-493b39eb72e2 active 125.0 USD 1992-07-31 05:18:05-04:00 1992-07-31 05:48:05-04:00\n"
     ]
    }
   ],
   "source": [
    "for entry in bundle['entry']:\n",
    "    resource = entry['resource']\n",
    "    resource_type = resource['resourceType']\n",
    "    if resource_type == 'Claim':\n",
    "        id = resource['id']\n",
    "        patient = resource['patient']['reference']\n",
    "        status = resource['status']\n",
    "        total = resource['total']['value']\n",
    "        currency = resource['total']['currency']\n",
    "        start = parse(resource['billablePeriod']['start'])\n",
    "        end = parse(resource['billablePeriod']['end'])\n",
    "        print(patient, status, total, currency, start, end)\n",
    "        break"
   ]
  },
  {
   "cell_type": "code",
   "execution_count": 10,
   "metadata": {},
   "outputs": [],
   "source": [
    "import sqlalchemy as db"
   ]
  },
  {
   "cell_type": "code",
   "execution_count": 11,
   "metadata": {},
   "outputs": [],
   "source": [
    "engine = db.create_engine('sqlite:///fhir.sqlite')\n",
    "connection = engine.connect()\n",
    "metadata = db.MetaData()"
   ]
  },
  {
   "cell_type": "code",
   "execution_count": 12,
   "metadata": {},
   "outputs": [],
   "source": [
    "claims = db.Table('claims', metadata,\n",
    "                  db.Column('id', db.Integer()),\n",
    "                  db.Column('patient', db.String(255)),\n",
    "                  db.Column('status', db.String(255)),\n",
    "                  db.Column('total', db.Float()),\n",
    "                  db.Column('currency', db.String(255)),\n",
    "                  db.Column('start', db.DateTime()),\n",
    "                  db.Column('end', db.DateTime()))\n",
    "\n",
    "metadata.create_all(engine) #Creates the table"
   ]
  },
  {
   "cell_type": "code",
   "execution_count": 13,
   "metadata": {},
   "outputs": [
    {
     "name": "stdout",
     "output_type": "stream",
     "text": [
      "['id', 'patient', 'status', 'total', 'currency', 'start', 'end']\n"
     ]
    }
   ],
   "source": [
    "print(claims.columns.keys())"
   ]
  },
  {
   "cell_type": "code",
   "execution_count": 14,
   "metadata": {},
   "outputs": [],
   "source": [
    "for entry in bundle['entry']:\n",
    "    resource = entry['resource']\n",
    "    resource_type = resource['resourceType']\n",
    "    if resource_type == 'Claim':\n",
    "        id = resource['id']\n",
    "        patient = resource['patient']['reference']\n",
    "        status = resource['status']\n",
    "        total = resource['total']['value']\n",
    "        currency = resource['total']['currency']\n",
    "        start = parse(resource['billablePeriod']['start'])\n",
    "        end = parse(resource['billablePeriod']['end'])        \n",
    "        query = db.insert(claims).values(id=id, \n",
    "                                         patient=patient,\n",
    "                                         status=status,\n",
    "                                         total=total,\n",
    "                                         currency=currency,\n",
    "                                         start=start,\n",
    "                                         end=end)\n",
    "\n",
    "        result_proxy = connection.execute(query)"
   ]
  },
  {
   "cell_type": "code",
   "execution_count": 15,
   "metadata": {},
   "outputs": [],
   "source": [
    "stmt = db.select([claims])\n",
    "results = connection.execute(stmt).fetchall()"
   ]
  },
  {
   "cell_type": "code",
   "execution_count": 16,
   "metadata": {},
   "outputs": [],
   "source": [
    "import pandas as pd"
   ]
  },
  {
   "cell_type": "code",
   "execution_count": 17,
   "metadata": {},
   "outputs": [],
   "source": [
    "df = pd.DataFrame(results)"
   ]
  },
  {
   "cell_type": "code",
   "execution_count": 18,
   "metadata": {},
   "outputs": [],
   "source": [
    "df.columns = results[0].keys()"
   ]
  },
  {
   "cell_type": "code",
   "execution_count": 19,
   "metadata": {},
   "outputs": [
    {
     "data": {
      "text/html": [
       "<div>\n",
       "<style scoped>\n",
       "    .dataframe tbody tr th:only-of-type {\n",
       "        vertical-align: middle;\n",
       "    }\n",
       "\n",
       "    .dataframe tbody tr th {\n",
       "        vertical-align: top;\n",
       "    }\n",
       "\n",
       "    .dataframe thead th {\n",
       "        text-align: right;\n",
       "    }\n",
       "</style>\n",
       "<table border=\"1\" class=\"dataframe\">\n",
       "  <thead>\n",
       "    <tr style=\"text-align: right;\">\n",
       "      <th></th>\n",
       "      <th>id</th>\n",
       "      <th>patient</th>\n",
       "      <th>status</th>\n",
       "      <th>total</th>\n",
       "      <th>currency</th>\n",
       "      <th>start</th>\n",
       "      <th>end</th>\n",
       "    </tr>\n",
       "  </thead>\n",
       "  <tbody>\n",
       "    <tr>\n",
       "      <th>0</th>\n",
       "      <td>b16bf2ad-9084-4764-b029-83aa5e40edaa</td>\n",
       "      <td>urn:uuid:ab8f33ad-54b4-4ee0-acd7-a14918459c3d</td>\n",
       "      <td>active</td>\n",
       "      <td>255.0</td>\n",
       "      <td>USD</td>\n",
       "      <td>1988-04-23 13:35:04</td>\n",
       "      <td>1988-04-23 13:50:04</td>\n",
       "    </tr>\n",
       "    <tr>\n",
       "      <th>1</th>\n",
       "      <td>b16bf2ad-9084-4764-b029-83aa5e40edaa</td>\n",
       "      <td>urn:uuid:ab8f33ad-54b4-4ee0-acd7-a14918459c3d</td>\n",
       "      <td>active</td>\n",
       "      <td>255.0</td>\n",
       "      <td>USD</td>\n",
       "      <td>1988-04-23 13:35:04</td>\n",
       "      <td>1988-04-23 13:50:04</td>\n",
       "    </tr>\n",
       "    <tr>\n",
       "      <th>2</th>\n",
       "      <td>722b5412-303f-4c19-8065-b40c8c3cff26</td>\n",
       "      <td>urn:uuid:ab8f33ad-54b4-4ee0-acd7-a14918459c3d</td>\n",
       "      <td>active</td>\n",
       "      <td>125.0</td>\n",
       "      <td>USD</td>\n",
       "      <td>1988-04-23 13:35:04</td>\n",
       "      <td>1988-04-23 13:50:04</td>\n",
       "    </tr>\n",
       "    <tr>\n",
       "      <th>3</th>\n",
       "      <td>6305265e-1ffb-48af-bc29-404eafe9e426</td>\n",
       "      <td>urn:uuid:ab8f33ad-54b4-4ee0-acd7-a14918459c3d</td>\n",
       "      <td>active</td>\n",
       "      <td>125.0</td>\n",
       "      <td>USD</td>\n",
       "      <td>1991-08-03 13:35:04</td>\n",
       "      <td>1991-08-03 13:50:04</td>\n",
       "    </tr>\n",
       "    <tr>\n",
       "      <th>4</th>\n",
       "      <td>e6f0f9cb-0655-4e3f-bbb3-b11fe034618a</td>\n",
       "      <td>urn:uuid:ab8f33ad-54b4-4ee0-acd7-a14918459c3d</td>\n",
       "      <td>active</td>\n",
       "      <td>125.0</td>\n",
       "      <td>USD</td>\n",
       "      <td>1997-08-09 13:35:04</td>\n",
       "      <td>1997-08-09 14:50:04</td>\n",
       "    </tr>\n",
       "  </tbody>\n",
       "</table>\n",
       "</div>"
      ],
      "text/plain": [
       "                                     id  \\\n",
       "0  b16bf2ad-9084-4764-b029-83aa5e40edaa   \n",
       "1  b16bf2ad-9084-4764-b029-83aa5e40edaa   \n",
       "2  722b5412-303f-4c19-8065-b40c8c3cff26   \n",
       "3  6305265e-1ffb-48af-bc29-404eafe9e426   \n",
       "4  e6f0f9cb-0655-4e3f-bbb3-b11fe034618a   \n",
       "\n",
       "                                         patient  status  total currency  \\\n",
       "0  urn:uuid:ab8f33ad-54b4-4ee0-acd7-a14918459c3d  active  255.0      USD   \n",
       "1  urn:uuid:ab8f33ad-54b4-4ee0-acd7-a14918459c3d  active  255.0      USD   \n",
       "2  urn:uuid:ab8f33ad-54b4-4ee0-acd7-a14918459c3d  active  125.0      USD   \n",
       "3  urn:uuid:ab8f33ad-54b4-4ee0-acd7-a14918459c3d  active  125.0      USD   \n",
       "4  urn:uuid:ab8f33ad-54b4-4ee0-acd7-a14918459c3d  active  125.0      USD   \n",
       "\n",
       "                start                 end  \n",
       "0 1988-04-23 13:35:04 1988-04-23 13:50:04  \n",
       "1 1988-04-23 13:35:04 1988-04-23 13:50:04  \n",
       "2 1988-04-23 13:35:04 1988-04-23 13:50:04  \n",
       "3 1991-08-03 13:35:04 1991-08-03 13:50:04  \n",
       "4 1997-08-09 13:35:04 1997-08-09 14:50:04  "
      ]
     },
     "execution_count": 19,
     "metadata": {},
     "output_type": "execute_result"
    }
   ],
   "source": [
    "df.head()"
   ]
  },
  {
   "cell_type": "code",
   "execution_count": 20,
   "metadata": {},
   "outputs": [
    {
     "data": {
      "text/html": [
       "<div>\n",
       "<style scoped>\n",
       "    .dataframe tbody tr th:only-of-type {\n",
       "        vertical-align: middle;\n",
       "    }\n",
       "\n",
       "    .dataframe tbody tr th {\n",
       "        vertical-align: top;\n",
       "    }\n",
       "\n",
       "    .dataframe thead th {\n",
       "        text-align: right;\n",
       "    }\n",
       "</style>\n",
       "<table border=\"1\" class=\"dataframe\">\n",
       "  <thead>\n",
       "    <tr style=\"text-align: right;\">\n",
       "      <th></th>\n",
       "      <th>id</th>\n",
       "      <th>patient</th>\n",
       "      <th>status</th>\n",
       "      <th>total</th>\n",
       "      <th>currency</th>\n",
       "      <th>start</th>\n",
       "      <th>end</th>\n",
       "    </tr>\n",
       "  </thead>\n",
       "  <tbody>\n",
       "    <tr>\n",
       "      <th>0</th>\n",
       "      <td>b16bf2ad-9084-4764-b029-83aa5e40edaa</td>\n",
       "      <td>urn:uuid:ab8f33ad-54b4-4ee0-acd7-a14918459c3d</td>\n",
       "      <td>active</td>\n",
       "      <td>255.0</td>\n",
       "      <td>USD</td>\n",
       "      <td>1988-04-23 13:35:04</td>\n",
       "      <td>1988-04-23 13:50:04</td>\n",
       "    </tr>\n",
       "    <tr>\n",
       "      <th>1</th>\n",
       "      <td>b16bf2ad-9084-4764-b029-83aa5e40edaa</td>\n",
       "      <td>urn:uuid:ab8f33ad-54b4-4ee0-acd7-a14918459c3d</td>\n",
       "      <td>active</td>\n",
       "      <td>255.0</td>\n",
       "      <td>USD</td>\n",
       "      <td>1988-04-23 13:35:04</td>\n",
       "      <td>1988-04-23 13:50:04</td>\n",
       "    </tr>\n",
       "    <tr>\n",
       "      <th>2</th>\n",
       "      <td>722b5412-303f-4c19-8065-b40c8c3cff26</td>\n",
       "      <td>urn:uuid:ab8f33ad-54b4-4ee0-acd7-a14918459c3d</td>\n",
       "      <td>active</td>\n",
       "      <td>125.0</td>\n",
       "      <td>USD</td>\n",
       "      <td>1988-04-23 13:35:04</td>\n",
       "      <td>1988-04-23 13:50:04</td>\n",
       "    </tr>\n",
       "    <tr>\n",
       "      <th>3</th>\n",
       "      <td>6305265e-1ffb-48af-bc29-404eafe9e426</td>\n",
       "      <td>urn:uuid:ab8f33ad-54b4-4ee0-acd7-a14918459c3d</td>\n",
       "      <td>active</td>\n",
       "      <td>125.0</td>\n",
       "      <td>USD</td>\n",
       "      <td>1991-08-03 13:35:04</td>\n",
       "      <td>1991-08-03 13:50:04</td>\n",
       "    </tr>\n",
       "    <tr>\n",
       "      <th>4</th>\n",
       "      <td>e6f0f9cb-0655-4e3f-bbb3-b11fe034618a</td>\n",
       "      <td>urn:uuid:ab8f33ad-54b4-4ee0-acd7-a14918459c3d</td>\n",
       "      <td>active</td>\n",
       "      <td>125.0</td>\n",
       "      <td>USD</td>\n",
       "      <td>1997-08-09 13:35:04</td>\n",
       "      <td>1997-08-09 14:50:04</td>\n",
       "    </tr>\n",
       "  </tbody>\n",
       "</table>\n",
       "</div>"
      ],
      "text/plain": [
       "                                     id  \\\n",
       "0  b16bf2ad-9084-4764-b029-83aa5e40edaa   \n",
       "1  b16bf2ad-9084-4764-b029-83aa5e40edaa   \n",
       "2  722b5412-303f-4c19-8065-b40c8c3cff26   \n",
       "3  6305265e-1ffb-48af-bc29-404eafe9e426   \n",
       "4  e6f0f9cb-0655-4e3f-bbb3-b11fe034618a   \n",
       "\n",
       "                                         patient  status  total currency  \\\n",
       "0  urn:uuid:ab8f33ad-54b4-4ee0-acd7-a14918459c3d  active  255.0      USD   \n",
       "1  urn:uuid:ab8f33ad-54b4-4ee0-acd7-a14918459c3d  active  255.0      USD   \n",
       "2  urn:uuid:ab8f33ad-54b4-4ee0-acd7-a14918459c3d  active  125.0      USD   \n",
       "3  urn:uuid:ab8f33ad-54b4-4ee0-acd7-a14918459c3d  active  125.0      USD   \n",
       "4  urn:uuid:ab8f33ad-54b4-4ee0-acd7-a14918459c3d  active  125.0      USD   \n",
       "\n",
       "                start                 end  \n",
       "0 1988-04-23 13:35:04 1988-04-23 13:50:04  \n",
       "1 1988-04-23 13:35:04 1988-04-23 13:50:04  \n",
       "2 1988-04-23 13:35:04 1988-04-23 13:50:04  \n",
       "3 1991-08-03 13:35:04 1991-08-03 13:50:04  \n",
       "4 1997-08-09 13:35:04 1997-08-09 14:50:04  "
      ]
     },
     "execution_count": 20,
     "metadata": {},
     "output_type": "execute_result"
    }
   ],
   "source": [
    "stmt = db.select([claims])\n",
    "results = connection.execute(stmt).fetchall()\n",
    "pd.DataFrame(results).head()\n",
    "df.columns = results[0].keys()\n",
    "df.head()"
   ]
  },
  {
   "cell_type": "code",
   "execution_count": 21,
   "metadata": {},
   "outputs": [
    {
     "data": {
      "text/html": [
       "<div>\n",
       "<style scoped>\n",
       "    .dataframe tbody tr th:only-of-type {\n",
       "        vertical-align: middle;\n",
       "    }\n",
       "\n",
       "    .dataframe tbody tr th {\n",
       "        vertical-align: top;\n",
       "    }\n",
       "\n",
       "    .dataframe thead th {\n",
       "        text-align: right;\n",
       "    }\n",
       "</style>\n",
       "<table border=\"1\" class=\"dataframe\">\n",
       "  <thead>\n",
       "    <tr style=\"text-align: right;\">\n",
       "      <th></th>\n",
       "      <th>id</th>\n",
       "      <th>patient</th>\n",
       "      <th>status</th>\n",
       "      <th>total</th>\n",
       "      <th>currency</th>\n",
       "      <th>start</th>\n",
       "      <th>end</th>\n",
       "    </tr>\n",
       "  </thead>\n",
       "  <tbody>\n",
       "    <tr>\n",
       "      <th>0</th>\n",
       "      <td>16f8da2a-322e-47ca-bc82-8b66843858f9</td>\n",
       "      <td>urn:uuid:ab8f33ad-54b4-4ee0-acd7-a14918459c3d</td>\n",
       "      <td>active</td>\n",
       "      <td>74670.12</td>\n",
       "      <td>USD</td>\n",
       "      <td>2015-12-26 12:35:04</td>\n",
       "      <td>2015-12-26 17:50:04</td>\n",
       "    </tr>\n",
       "    <tr>\n",
       "      <th>1</th>\n",
       "      <td>16f8da2a-322e-47ca-bc82-8b66843858f9</td>\n",
       "      <td>urn:uuid:ab8f33ad-54b4-4ee0-acd7-a14918459c3d</td>\n",
       "      <td>active</td>\n",
       "      <td>74670.12</td>\n",
       "      <td>USD</td>\n",
       "      <td>2015-12-26 12:35:04</td>\n",
       "      <td>2015-12-26 17:50:04</td>\n",
       "    </tr>\n",
       "    <tr>\n",
       "      <th>2</th>\n",
       "      <td>16f8da2a-322e-47ca-bc82-8b66843858f9</td>\n",
       "      <td>urn:uuid:ab8f33ad-54b4-4ee0-acd7-a14918459c3d</td>\n",
       "      <td>active</td>\n",
       "      <td>74670.12</td>\n",
       "      <td>USD</td>\n",
       "      <td>2015-12-26 12:35:04</td>\n",
       "      <td>2015-12-26 17:50:04</td>\n",
       "    </tr>\n",
       "    <tr>\n",
       "      <th>3</th>\n",
       "      <td>16f8da2a-322e-47ca-bc82-8b66843858f9</td>\n",
       "      <td>urn:uuid:ab8f33ad-54b4-4ee0-acd7-a14918459c3d</td>\n",
       "      <td>active</td>\n",
       "      <td>74670.12</td>\n",
       "      <td>USD</td>\n",
       "      <td>2015-12-26 12:35:04</td>\n",
       "      <td>2015-12-26 17:50:04</td>\n",
       "    </tr>\n",
       "  </tbody>\n",
       "</table>\n",
       "</div>"
      ],
      "text/plain": [
       "                                     id  \\\n",
       "0  16f8da2a-322e-47ca-bc82-8b66843858f9   \n",
       "1  16f8da2a-322e-47ca-bc82-8b66843858f9   \n",
       "2  16f8da2a-322e-47ca-bc82-8b66843858f9   \n",
       "3  16f8da2a-322e-47ca-bc82-8b66843858f9   \n",
       "\n",
       "                                         patient  status     total currency  \\\n",
       "0  urn:uuid:ab8f33ad-54b4-4ee0-acd7-a14918459c3d  active  74670.12      USD   \n",
       "1  urn:uuid:ab8f33ad-54b4-4ee0-acd7-a14918459c3d  active  74670.12      USD   \n",
       "2  urn:uuid:ab8f33ad-54b4-4ee0-acd7-a14918459c3d  active  74670.12      USD   \n",
       "3  urn:uuid:ab8f33ad-54b4-4ee0-acd7-a14918459c3d  active  74670.12      USD   \n",
       "\n",
       "                start                 end  \n",
       "0 2015-12-26 12:35:04 2015-12-26 17:50:04  \n",
       "1 2015-12-26 12:35:04 2015-12-26 17:50:04  \n",
       "2 2015-12-26 12:35:04 2015-12-26 17:50:04  \n",
       "3 2015-12-26 12:35:04 2015-12-26 17:50:04  "
      ]
     },
     "execution_count": 21,
     "metadata": {},
     "output_type": "execute_result"
    }
   ],
   "source": [
    "stmt = db.select([claims]).where(claims.columns.total >= 25000.0).order_by(db.desc(claims.columns.total))\n",
    "results = connection.execute(stmt).fetchall()\n",
    "df = pd.DataFrame(results).head()\n",
    "df.columns = results[0].keys()\n",
    "df.head()"
   ]
  },
  {
   "cell_type": "code",
   "execution_count": 22,
   "metadata": {},
   "outputs": [
    {
     "data": {
      "text/html": [
       "<div>\n",
       "<style scoped>\n",
       "    .dataframe tbody tr th:only-of-type {\n",
       "        vertical-align: middle;\n",
       "    }\n",
       "\n",
       "    .dataframe tbody tr th {\n",
       "        vertical-align: top;\n",
       "    }\n",
       "\n",
       "    .dataframe thead th {\n",
       "        text-align: right;\n",
       "    }\n",
       "</style>\n",
       "<table border=\"1\" class=\"dataframe\">\n",
       "  <thead>\n",
       "    <tr style=\"text-align: right;\">\n",
       "      <th></th>\n",
       "      <th>total claims</th>\n",
       "      <th>average claim</th>\n",
       "    </tr>\n",
       "  </thead>\n",
       "  <tbody>\n",
       "    <tr>\n",
       "      <th>0</th>\n",
       "      <td>1413740.91</td>\n",
       "      <td>4336.628558</td>\n",
       "    </tr>\n",
       "  </tbody>\n",
       "</table>\n",
       "</div>"
      ],
      "text/plain": [
       "   total claims  average claim\n",
       "0    1413740.91    4336.628558"
      ]
     },
     "execution_count": 22,
     "metadata": {},
     "output_type": "execute_result"
    }
   ],
   "source": [
    "stmt = db.select([db.func.sum(claims.columns.total).label('total claims'),\n",
    "                  db.func.avg(claims.columns.total).label('average claim')])\n",
    "results = connection.execute(stmt).fetchall()\n",
    "df = pd.DataFrame(results).head()\n",
    "df.columns = results[0].keys()\n",
    "df.head()"
   ]
  },
  {
   "cell_type": "code",
   "execution_count": null,
   "metadata": {},
   "outputs": [],
   "source": []
  }
 ],
 "metadata": {
  "kernelspec": {
   "display_name": "Python 3",
   "language": "python",
   "name": "python3"
  },
  "language_info": {
   "codemirror_mode": {
    "name": "ipython",
    "version": 3
   },
   "file_extension": ".py",
   "mimetype": "text/x-python",
   "name": "python",
   "nbconvert_exporter": "python",
   "pygments_lexer": "ipython3",
   "version": "3.6.8"
  }
 },
 "nbformat": 4,
 "nbformat_minor": 2
}
