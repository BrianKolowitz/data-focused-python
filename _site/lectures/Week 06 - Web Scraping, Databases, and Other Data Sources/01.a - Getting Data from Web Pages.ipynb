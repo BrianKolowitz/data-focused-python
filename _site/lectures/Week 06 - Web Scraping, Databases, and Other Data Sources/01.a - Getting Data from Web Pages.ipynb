{
 "cells": [
  {
   "cell_type": "markdown",
   "metadata": {},
   "source": [
    "# Webscraping with BeautifulSoup\n",
    "[Source](https://www.peerlyst.com/posts/python-webscraping-anaconda-beautifulsoup-jupyter-and-the-hhs-wall-of-shame-molly-payne)\n",
    "\n",
    "Additional References\n",
    "* https://css-tricks.com/how-css-selectors-work/\n",
    "* https://scrapy.org/\n",
    "* https://www.seleniumhq.org/\n",
    "* https://automatetheboringstuff.com/chapter11/\n",
    "\n",
    "Lets Scrape the wall of shame from the U.S. Department of Health and Human Services\n",
    "Office for Civil Rights (You could just download the data file, but where is the fun in that!)"
   ]
  },
  {
   "cell_type": "markdown",
   "metadata": {},
   "source": [
    "## Step 1 - Import all of the libraries you'll need\n",
    "1. requests\n",
    "2. pandas\n",
    "3. numpy\n",
    "4. matplotlib.pyplot\n",
    "5. Beautiful Soup"
   ]
  },
  {
   "cell_type": "code",
   "execution_count": 1,
   "metadata": {},
   "outputs": [],
   "source": [
    "import requests, pandas, numpy, matplotlib.pyplot\n",
    "from bs4 import BeautifulSoup"
   ]
  },
  {
   "cell_type": "markdown",
   "metadata": {},
   "source": [
    "## Step 2 - Download the data\n",
    "\n",
    "### 2.a Use the requests library to grab the content of this page \n",
    "\n",
    "<https://ocrportal.hhs.gov/ocr/breach/breach_report.jsf>"
   ]
  },
  {
   "cell_type": "code",
   "execution_count": 2,
   "metadata": {},
   "outputs": [],
   "source": [
    "page = requests.get(\"https://ocrportal.hhs.gov/ocr/breach/breach_report.jsf\")"
   ]
  },
  {
   "cell_type": "code",
   "execution_count": 3,
   "metadata": {
    "scrolled": false
   },
   "outputs": [
    {
     "data": {
      "text/plain": [
       "'<!DOCTYPE html>\\n<html xmlns=\"http://www.w3.org/1999/xhtml\" xml:lang=\"en\" lang=\"en\" dir=\"ltr\"><head id=\"j_idt2\">\\n\\t\\t\\t<meta http-equiv=\"X-UA-Compatible\" content=\"IE=9\" /><link type=\"text/css\" rel=\"stylesheet\" href=\"/ocr/javax.faces.resource/theme.css.jsf?ln=primefaces-aristo\" /><link type=\"text/css\" rel=\"stylesheet\" href=\"/ocr/javax.faces.resource/components.css.jsf;jsessionid=EE6706ED5CF081A68BBC83244A33344F?ln=primefaces&amp;v=6.1\" /><script type=\"text/javascript\" src=\"/ocr/javax.faces.resource/jquery/jquery.js.jsf;jsessionid=EE6706ED5CF081A68BBC83244A33344F?ln=primefaces&amp;v=6.1\"></script><script type=\"text/javascript\" src=\"/ocr/javax.faces.resource/jquery/jquery-plugins.js.jsf;jsessionid=EE6706ED5CF081A68BBC83244A33344F?ln=primefaces&amp;v=6.1\"></script><script type=\"text/javascript\" src=\"/ocr/javax.faces.resource/core.js.jsf;jsessionid=EE6706ED5CF081A68BBC83244A33344F?ln=primefaces&amp;v=6.1\"></script><script type=\"text/javascript\" src=\"/ocr/javax.faces.resource/components.js.jsf;j'"
      ]
     },
     "execution_count": 3,
     "metadata": {},
     "output_type": "execute_result"
    }
   ],
   "source": [
    "page.content.decode('utf-8')[:1000]"
   ]
  },
  {
   "cell_type": "markdown",
   "metadata": {},
   "source": [
    "### 2.b Check thte status code of the page and print it to the screen"
   ]
  },
  {
   "cell_type": "code",
   "execution_count": 4,
   "metadata": {},
   "outputs": [
    {
     "data": {
      "text/plain": [
       "200"
      ]
     },
     "execution_count": 4,
     "metadata": {},
     "output_type": "execute_result"
    }
   ],
   "source": [
    "page.status_code"
   ]
  },
  {
   "cell_type": "markdown",
   "metadata": {},
   "source": [
    "# Step 3 - BeautifulSoup"
   ]
  },
  {
   "cell_type": "markdown",
   "metadata": {},
   "source": [
    "### 3.a Load the page content into a BeautifulSoup object named soup"
   ]
  },
  {
   "cell_type": "code",
   "execution_count": 6,
   "metadata": {},
   "outputs": [],
   "source": [
    "soup = BeautifulSoup(page.content, 'html.parser')"
   ]
  },
  {
   "cell_type": "markdown",
   "metadata": {},
   "source": [
    "### 3.b Display the soup object to visually interrogate"
   ]
  },
  {
   "cell_type": "code",
   "execution_count": 7,
   "metadata": {},
   "outputs": [
    {
     "name": "stdout",
     "output_type": "stream",
     "text": [
      "<class 'bs4.BeautifulSoup'> \n",
      " <!DOCTYPE html>\n",
      "\n",
      "<html dir=\"ltr\" lang=\"en\" xml:lang=\"en\" xmlns=\"http://www.w3.org/1999/xhtml\"><head id=\"j_idt2\">\n",
      "<meta content=\"IE=9\" http-equiv=\"X-UA-Compatible\"/><link href=\"/ocr/javax.faces.resource/theme.css.jsf?ln=primefaces-aristo\" rel=\"stylesheet\" type=\"text/css\"/><link href=\"/ocr/javax.faces.resource/components.css.jsf;jsessionid=EE6706ED5CF081A68BBC83244A33344F?ln=primefaces&amp;v=6.1\" rel=\"stylesheet\" type=\"text/css\"/><script src=\"/ocr/javax.faces.resource/jquery/jquery.js.jsf;jsessionid=EE6706ED5CF081A68BBC83244A33344F?ln=primefaces&amp;v=6.1\" type=\"text/javascript\"></script><script src=\"/ocr/javax.faces.resource/jquery/jquery-plugins.js.jsf;jsessionid=EE6706ED5CF081A68BBC83244A33344F?ln=primefaces&amp;v=6.1\" type=\"text/javascript\"></script><script src=\"/ocr/javax.faces.resource/core.js.jsf;jsessionid=EE6706ED5CF081A68BBC83244A33344F?ln=primefaces&amp;v=6.1\" type=\"text/javascript\"></script><script src=\"/ocr/javax.faces.resource/components.js.jsf;jsessionid=EE6706ED5CF081A68BBC83244A33344F?ln=primefaces&amp;v=6.1\" type=\"text/javascript\"></script><script type=\"text/javascript\">if(window.PrimeFaces){PrimeFaces.settings.locale='en';}</script>\n",
      "<meta content=\"text/html; charset=utf-8\" http-equiv=\"Content-Type\"/>\n",
      "<title>U.S. Department of Health &amp; Human Services - Office for Civil Rights</title>\n",
      "<link href=\"/ocr/images/favicon.ico\" rel=\"Shortcut Icon\" type=\"image/x-icon\"/>\n",
      "<link href=\"/ocr/css/ocr-portal.css\" rel=\"stylesheet\" type=\"text/css\"/>\n",
      "<link href=\"/ocr/css/navigation_ocr.css\" rel=\"stylesheet\" type=\"text/css\"/>\n",
      "<link href=\"/ocr/css/primary.css\" rel=\"stylesheet\" type=\"text/css\"/>\n",
      "<link href=\"/ocr/css/skip.css\" rel=\"stylesheet\" type=\"text/css\"/>\n",
      "<link href=\"/ocr/css/headerNavigation.css\" rel=\"stylesheet\" type=\"text/css\"/>\n",
      "<link href=\"/ocr/css/content.css\" rel=\"stylesheet\" type=\"text/css\"/>\n",
      "<link href=\"/ocr/css/breach.css\" rel=\"stylesheet\" type=\"text/css\"/>\n",
      "<script src=\"/ocr/js/util.js\" type=\"text/javascript\"></script>\n",
      "<script src=\"/ocr/js/locale.js\" type=\"text/javascript\"></script>\n",
      "<script src=\"/ocr/js/ocr-portal.js\" type=\"text/javascript\"></script></head><body>\n",
      "<div id=\"top\"></div>\n",
      "<div id=\"container\">\n",
      "<form action=\"/ocr/breach/breach_report.jsf;jsessionid=EE6706ED5CF081A68BBC83244A33344F\" enctype=\"application/x-www-form-urlencoded\" id=\"headerNavigation\" method=\"post\" name=\"headerNavigation\">\n",
      "<input name=\"headerNavigation\" type=\"hidden\" value=\"headerNavigation\"/>\n",
      "<div class=\"\" id=\"skip\">\n",
      "<ul id=\"skiplinks\">\n",
      "<li><a href=\"#bodyContent\" tabindex=\"0\" title=\"Skip\">Skip to content</a></li>\n",
      "</ul>\n",
      "</div>\n",
      "<div id=\"level1\">\n",
      "<div class=\"header\">\n",
      "<div id=\"navigationNew\">\n",
      "<div class=\"site-controls-greybar\"><img alt=\"\" height=\"28\" src=\"/ocr/images/cap_left_dkgrey_systemutil.gif;jsessionid=EE6706ED5CF081A68BBC83244A33344F\" style=\"border: 0; vertical-align: middle\" width=\"19\"/><script src=\"/ocr/javax.faces.resource/jsf.js.jsf;jsessionid=EE6706ED5CF081A68BBC83244A33344F?ln=javax.faces\" type=\"text/javascript\"></script><a class=\"headerLink\" href=\"#\" onclick=\"mojarra.jsfcljs(document.getElementById('headerNavigation'),{'headerNavigation:j_idt9':'headerNavigation:j_idt9'},'');return false\">File a Breach</a>  |\n",
      "\t\t\t\t\t<a class=\"headerLink\" href=\"http://www.hhs.gov\">HHS</a>  |\n",
      "\t\t\t\t\t<a class=\"headerLink\" href=\"http://www.hhs.gov/ocr/office/index.html\">Office for Civil Rights</a>  |\n",
      "\t\t\t\t\t<a class=\"headerLink\" href=\"https://www.hhs.gov/ocr/about-us/contact-us/index.html\">Contact Us</a>\n",
      "</div>\n",
      "<div class=\"site-controls-greybar-lt\"><img alt=\"\" height=\"28\" src=\"/ocr/images/back_left_ltgrey_systemutil_sm.gif;jsessionid=EE6706ED5CF081A68BBC83244A33344F\" style=\"border: 0; vertical-align: middle\" width=\"25\"/>\n",
      "<div class=\"site-controls-greybar-lt-bkgrnd\"><img alt=\"\" height=\"28\" src=\"/ocr/images/clear.gif;jsessionid=EE6706ED5CF081A68BBC83244A33344F\" style=\"border: 0; vertical-align: middle\" width=\"1\"/>\n",
      "<img align=\"absmiddle\" alt=\"user icon\" border=\"0\" class=\"sc-icon\" height=\"16\" src=\"/ocr/images/icons/icon_user.gif\" title=\"Welcome\" width=\"16\"/>\n",
      "\t\t\t\t\t\tWelcome\n",
      "\t\t\t\t\t</div>\n",
      "</div>\n",
      "</div>\n",
      "<h1 class=\"h1\" id=\"header-logo\">\n",
      "<div id=\"titleContent\">\n",
      "\t\t\t\t\tU.S. Department of Health and Human Services<br/>\n",
      "\t\t\t\t\tOffice for Civil Rights<br/>\n",
      "<div class=\"titleDivider\"></div>\n",
      "\t\t\t\t\tBreach Portal: Notice to the Secretary of HHS Breach of Unsecured Protected Health Information\n",
      "\t\t\t\t</div>\n",
      "</h1>\n",
      "</div>\n",
      "</div>\n",
      "<div id=\"bannerSection\">\n",
      "<div id=\"bannerImageWrapper\">\n",
      "<img alt=\"Person sitting at a laptop\" class=\"bannerImage\" height=\"100\" src=\"/ocr/images/1680x100sittingAtComputer2.jpg\" width=\"1680\"/>\n",
      "</div>\n",
      "</div><input autocomplete=\"off\" id=\"j_id1:javax.faces.ViewState:0\" name=\"javax.faces.ViewState\" type=\"hidden\" value=\"-1375118855781670739:3296133768900446413\"/>\n",
      "</form>\n",
      "<div class=\"divider\"></div>\n",
      "<div id=\"mainContent\">\n",
      "<div class=\"pageInstructions\">\n",
      "<a name=\"bodyContent\"></a><div aria-live=\"polite\" class=\"ui-messages ui-widget\" id=\"ocrMessage\"></div>\n",
      "<div class=\"content\">\n",
      "<form action=\"/ocr/breach/breach_report.jsf;jsessionid=EE6706ED5CF081A68BBC83244A33344F\" enctype=\"multipart/form-data\" id=\"ocrForm\" method=\"post\" name=\"ocrForm\">\n",
      "<input name=\"ocrForm\" type=\"hidden\" value=\"ocrForm\"/>\n",
      "<script>\n",
      "\t\t\t\tfunction doArchiveButtonClicked()\n",
      "\t\t\t\t{\n",
      "\t\t\t\t\tsetTimeout( \"PF('archiveRptButton').disable()\", 100 );\n",
      "\t\t\t\t\tPF('waitDlgVar').show();\n",
      "\t\t\t\t\treturn true;\n",
      "\t\t\t\t}\n",
      "\n",
      "\t\t\t\tfunction doUnderInvButtonClicked()\n",
      "\t\t\t\t{\n",
      "\t\t\t\t\tsetTimeout( \"PF('underInvRptButton').disable()\", 100 );\n",
      "\t\t\t\t\tPF('waitDlgVar').show();\n",
      "\t\t\t\t\treturn true;\n",
      "\t\t\t\t}\n",
      "\t\t\t</script><div class=\"ui-panel ui-widget ui-widget-content ui-corner-all banner\" data-widget=\"widget_ocrForm_j_idt22\" id=\"ocrForm:j_idt22\"><div class=\"ui-panel-content ui-widget-content\" id=\"ocrForm:j_idt22_content\"><button class=\"ui-button ui-widget ui-state-default ui-corner-all ui-button-text-only\" id=\"ocrForm:j_idt23\" name=\"ocrForm:j_idt23\" onclick=\"PrimeFaces.bcn(this,event,[function(event){return doUnderInvButtonClicked();},function(event){PrimeFaces.onPost();}]);\" type=\"submit\"><span class=\"ui-button-text ui-c\">Under Investigation</span></button><script id=\"ocrForm:j_idt23_s\" type=\"text/javascript\">PrimeFaces.cw(\"CommandButton\",\"underInvRptButton\",{id:\"ocrForm:j_idt23\"});</script><button class=\"ui-button ui-widget ui-state-default ui-corner-all ui-button-text-only\" id=\"ocrForm:j_idt24\" name=\"ocrForm:j_idt24\" onclick=\"PrimeFaces.bcn(this,event,[function(event){return doArchiveButtonClicked();},function(event){PrimeFaces.onPost();}]);\" type=\"submit\"><span class=\"ui-button-text ui-c\">Archive</span></button><script id=\"ocrForm:j_idt24_s\" type=\"text/javascript\">PrimeFaces.cw(\"CommandButton\",\"archiveRptButton\",{id:\"ocrForm:j_idt24\"});</script><button class=\"ui-button ui-widget ui-state-default ui-corner-all ui-button-text-only\" id=\"ocrForm:j_idt25\" name=\"ocrForm:j_idt25\" onclick='PrimeFaces.ab({s:\"ocrForm:j_idt25\",u:\"ocrForm:breachReports ocrForm:results\"});return false;' type=\"submit\"><span class=\"ui-button-text ui-c\">Help for Consumers</span></button><script id=\"ocrForm:j_idt25_s\" type=\"text/javascript\">PrimeFaces.cw(\"CommandButton\",\"widget_ocrForm_j_idt25\",{id:\"ocrForm:j_idt25\"});</script></div></div><script id=\"ocrForm:j_idt22_s\" type=\"text/javascript\">PrimeFaces.cw(\"Panel\",\"widget_ocrForm_j_idt22\",{id:\"ocrForm:j_idt22\"});</script><br/><br/><span id=\"ocrForm:breachReports\"><span id=\"ocrForm:underInvestigationFilterPanel\" style=\"margin-bottom:10px;\">\n",
      "<style>\n",
      "\t\t\t/* Calendar widget's size is too big. Limit it. */\n",
      "\t\tdiv.ui-datepicker{\n",
      "\t\t\tfont-size:0.9em;\n",
      "\t\t}\n",
      "\t</style>\n",
      "<script>\n",
      "\t\tfunction applyFilterButtonClicked()\n",
      "\t\t{\n",
      "\t\t\tsetTimeout( \"PF('applyFilterButton').disable()\", 100 );\n",
      "\t\t\tPF('waitDlgVar').show();\n",
      "\t\t\treturn true;\n",
      "\t\t}\n",
      "\t</script><table class=\"ui-panelgrid ui-widget noBorders\" id=\"ocrForm:j_idt29\" role=\"grid\"><tbody><tr class=\"ui-widget-content ui-panelgrid-even\" role=\"row\"><td class=\"ui-panelgrid-cell\" colspan=\"4\" role=\"gridcell\">As required by section 13402(e)(4) of the HITECH Act, the Secretary must post a list of breaches of unsecured protected health information affecting 500 or more individuals. The following breaches have been reported to the Secretary:\n",
      "\t\t\t\t<br/><br/><span style=\"font-size: 1.5em; font-weight: bold\">Cases Currently Under Investigation</span></td></tr><tr class=\"ui-widget-content ui-panelgrid-odd\" role=\"row\"><td class=\"ui-panelgrid-cell\" colspan=\"4\" role=\"gridcell\">This page lists all breaches reported within the last 24 months that are currently under investigation by the Office for Civil Rights.</td></tr><tr class=\"ui-widget-content ui-panelgrid-even\" role=\"row\"><td class=\"ui-panelgrid-cell\" colspan=\"4\" role=\"gridcell\"> \n",
      "\t\t\t\t<a class=\"ui-commandlink ui-widget\" href=\"#\" id=\"ocrForm:j_idt41\" onclick='PrimeFaces.ab({s:\"ocrForm:j_idt41\",p:\"ocrForm:j_idt41\",u:\"ocrForm:underInvestigationAdvancedOptionsTable ocrForm:j_idt41\",ps:true});return false;'>Show Advanced Options</a></td></tr></tbody></table><span id=\"ocrForm:underInvestigationAdvancedOptionsTable\"></span><div class=\"ui-dialog ui-widget ui-widget-content ui-corner-all ui-shadow ui-hidden-container\" id=\"ocrForm:waitDlgIN\"><div class=\"ui-dialog-content ui-widget-content\"><span id=\"ocrForm:waitDlgIN_title\"></span>We are generating the report for you. Please wait......</div></div><script id=\"ocrForm:waitDlgIN_s\" type=\"text/javascript\">$(function(){PrimeFaces.cw(\"Dialog\",\"waitDlgINI\",{id:\"ocrForm:waitDlgIN\",resizable:false,modal:true});});</script></span></span><span id=\"ocrForm:results\">\n",
      "<br/><span id=\"ocrForm:resultsPanel\" style=\"margin-bottom:10px;\">\n",
      "<style>\n",
      "\t\t.column1{width: 20%}\n",
      "\t\t.column2{width: 80%}\n",
      "\t</style><span style=\"float: right\"><a href=\"#\" onclick=\"mojarra.jsfcljs(document.getElementById('ocrForm'),{'ocrForm:j_idt360':'ocrForm:j_idt360'},'');return false\"><img alt=\"Excel\" id=\"ocrForm:j_idt361\" src=\"/ocr/images/icons/excel.png;jsessionid=EE6706ED5CF081A68BBC83244A33344F?pfdrid_c=true\" style=\"border-style: none\" title=\"Export as Excel\" width=\"24\"/></a><a href=\"#\" onclick=\"mojarra.jsfcljs(document.getElementById('ocrForm'),{'ocrForm:j_idt362':'ocrForm:j_idt362'},'');return false\"><img alt=\"PDF\" id=\"ocrForm:j_idt363\" src=\"/ocr/images/icons/pdf.png;jsessionid=EE6706ED5CF081A68BBC83244A33344F?pfdrid_c=true\" style=\"border-style: none\" title=\"Export as PDF\" width=\"24\"/></a><a href=\"#\" onclick=\"mojarra.jsfcljs(document.getElementById('ocrForm'),{'ocrForm:j_idt364':'ocrForm:j_idt364'},'');return false\"><img alt=\"CSV\" id=\"ocrForm:j_idt365\" src=\"/ocr/images/icons/csv.png;jsessionid=EE6706ED5CF081A68BBC83244A33344F?pfdrid_c=true\" style=\"border-style: none\" title=\"Export as CSV\" width=\"24\"/></a><a href=\"#\" onclick=\"mojarra.jsfcljs(document.getElementById('ocrForm'),{'ocrForm:j_idt366':'ocrForm:j_idt366'},'');return false\"><img alt=\"XML\" id=\"ocrForm:j_idt367\" src=\"/ocr/images/icons/xml.png;jsessionid=EE6706ED5CF081A68BBC83244A33344F?pfdrid_c=true\" style=\"border-style: none\" title=\"Export as XML\" width=\"24\"/></a></span><div class=\"ui-datatable ui-widget\" id=\"ocrForm:reportResultTable\" style=\"margin-bottom:20px\"><div class=\"ui-datatable-header ui-widget-header ui-corner-top\">\n",
      "\t\t\tBreach Report Results\n",
      "\t\t</div><div class=\"ui-datatable-tablewrapper\"><table role=\"grid\" style=\"table-layout: auto;\"><caption class=\"ui-helper-hidden-accessible\"></caption><thead id=\"ocrForm:reportResultTable_head\"><tr role=\"row\"><th class=\"ui-state-default\" id=\"ocrForm:reportResultTable:j_idt369\" role=\"columnheader\" scope=\"col\" style=\"width:50px\"><span class=\"ui-column-title\"><a class=\"ui-commandlink ui-widget\" href=\"#\" id=\"ocrForm:reportResultTable:j_idt370\" onclick='PrimeFaces.ab({s:\"ocrForm:reportResultTable:j_idt370\",u:\"ocrForm:reportResultTable:j_idt370 ocrForm:reportResultTable\"});return false;'>Expand All</a></span></th><th aria-label=\"Name of Covered Entity\" class=\"ui-state-default ui-sortable-column\" id=\"ocrForm:reportResultTable:j_idt372\" role=\"columnheader\" scope=\"col\"><span class=\"ui-column-title\"><span style=\"white-space:pre-line;\">Name of Covered Entity</span></span><span class=\"ui-sortable-column-icon ui-icon ui-icon-carat-2-n-s\"></span></th><th aria-label=\"State\" class=\"ui-state-default ui-sortable-column\" id=\"ocrForm:reportResultTable:j_idt375\" role=\"columnheader\" scope=\"col\"><span class=\"ui-column-title\"><span style=\"white-space:pre-line;\">State</span></span><span class=\"ui-sortable-column-icon ui-icon ui-icon-carat-2-n-s\"></span></th><th aria-label=\"Covered Entity Type\" class=\"ui-state-default ui-sortable-column\" id=\"ocrForm:reportResultTable:j_idt378\" role=\"columnheader\" scope=\"col\"><span class=\"ui-column-title\"><span style=\"white-space:pre-line;\">Covered Entity Type</span></span><span class=\"ui-sortable-column-icon ui-icon ui-icon-carat-2-n-s\"></span></th><th aria-label=\"Individuals Affected\" class=\"ui-state-default ui-sortable-column\" id=\"ocrForm:reportResultTable:j_idt381\" role=\"columnheader\" scope=\"col\"><span class=\"ui-column-title\"><span style=\"white-space:pre-line;\">Individuals Affected</span></span><span class=\"ui-sortable-column-icon ui-icon ui-icon-carat-2-n-s\"></span></th><th aria-label=\"Breach Submission Date\" class=\"ui-state-default ui-sortable-column\" id=\"ocrForm:reportResultTable:j_idt384\" role=\"columnheader\" scope=\"col\"><span class=\"ui-column-title\"><span style=\"white-space:pre-line;\">Breach Submission Date</span></span><span class=\"ui-sortable-column-icon ui-icon ui-icon-carat-2-n-s\"></span></th><th aria-label=\"Type of Breach\" class=\"ui-state-default\" id=\"ocrForm:reportResultTable:j_idt387\" role=\"columnheader\" scope=\"col\"><span class=\"ui-column-title\"><span style=\"white-space:pre-line;\">Type of Breach</span></span></th><th aria-label=\"Location of Breached Information\" class=\"ui-state-default\" id=\"ocrForm:reportResultTable:j_idt390\" role=\"columnheader\" scope=\"col\"><span class=\"ui-column-title\"><span style=\"white-space:pre-line;\">Location of Breached Information</span></span></th><th aria-label=\"Business Associate Present\" class=\"ui-state-default\" id=\"ocrForm:reportResultTable:j_idt396\" role=\"columnheader\" scope=\"col\" style=\"display: none\"><span class=\"ui-column-title\"><span style=\"white-space:pre-line;\">Business Associate Present</span></span></th><th aria-label=\"Web Description\" class=\"ui-state-default\" id=\"ocrForm:reportResultTable:j_idt399\" role=\"columnheader\" scope=\"col\" style=\"display: none\"><span class=\"ui-column-title\"><span style=\"white-space:pre-line;\">Web Description</span></span></th></tr></thead><tbody class=\"ui-datatable-data ui-widget-content\" id=\"ocrForm:reportResultTable_data\"><tr class=\"ui-widget-content ui-datatable-even\" data-ri=\"0\" role=\"row\"><td role=\"gridcell\" style=\"width:50px\"><div aria-expanded=\"false\" aria-label=\"Toggle Row\" class=\"ui-row-toggler ui-icon ui-icon-circle-triangle-e\" role=\"button\" tabindex=\"0\"></div></td><td role=\"gridcell\"><span style=\"white-space:pre-line;\">Byham's Insurance Services Inc.</span></td><td role=\"gridcell\">PA</td><td role=\"gridcell\"><span style=\"white-space:pre-line;\">Healthcare Clearing House</span></td><td role=\"gridcell\">1600</td><td role=\"gridcell\">06/27/2019</td><td role=\"gridcell\"><span style=\"white-space:pre-line;\">Unauthorized Access/Disclosure</span></td><td role=\"gridcell\"><span style=\"white-space:pre-line;\">Desktop Computer, Email, Network Server</span></td><td role=\"gridcell\" style=\"display: none\"><span style=\"white-space:pre-line;\">No</span></td><td role=\"gridcell\" style=\"display: none\"><span style=\"white-space:pre-line;\"></span></td></tr><tr class=\"ui-widget-content ui-datatable-odd\" data-ri=\"1\" role=\"row\"><td role=\"gridcell\" style=\"width:50px\"><div aria-expanded=\"false\" aria-label=\"Toggle Row\" class=\"ui-row-toggler ui-icon ui-icon-circle-triangle-e\" role=\"button\" tabindex=\"0\"></div></td><td role=\"gridcell\"><span style=\"white-space:pre-line;\">Addison County Home Health &amp; Hospice</span></td><td role=\"gridcell\">VT</td><td role=\"gridcell\"><span style=\"white-space:pre-line;\">Healthcare Provider</span></td><td role=\"gridcell\">758</td><td role=\"gridcell\">06/25/2019</td><td role=\"gridcell\"><span style=\"white-space:pre-line;\">Hacking/IT Incident</span></td><td role=\"gridcell\"><span style=\"white-space:pre-line;\">Email</span></td><td role=\"gridcell\" style=\"display: none\"><span style=\"white-space:pre-line;\">No</span></td><td role=\"gridcell\" style=\"display: none\"><span style=\"white-space:pre-line;\"></span></td></tr><tr class=\"ui-widget-content ui-datatable-even\" data-ri=\"2\" role=\"row\"><td role=\"gridcell\" style=\"width:50px\"><div aria-expanded=\"false\" aria-label=\"Toggle Row\" class=\"ui-row-toggler ui-icon ui-icon-circle-triangle-e\" role=\"button\" tabindex=\"0\"></div></td><td role=\"gridcell\"><span style=\"white-space:pre-line;\">Boulevard Surgical Associates</span></td><td role=\"gridcell\">CA</td><td role=\"gridcell\"><span style=\"white-space:pre-line;\">Healthcare Provider</span></td><td role=\"gridcell\">542</td><td role=\"gridcell\">06/20/2019</td><td role=\"gridcell\"><span style=\"white-space:pre-line;\">Theft</span></td><td role=\"gridcell\"><span style=\"white-space:pre-line;\">Paper/Films</span></td><td role=\"gridcell\" style=\"display: none\"><span style=\"white-space:pre-line;\">No</span></td><td role=\"gridcell\" style=\"display: none\"><span style=\"white-space:pre-line;\"></span></td></tr><tr class=\"ui-widget-content ui-datatable-odd\" data-ri=\"3\" role=\"row\"><td role=\"gridcell\" style=\"width:50px\"><div aria-expanded=\"false\" aria-label=\"Toggle Row\" class=\"ui-row-toggler ui-icon ui-icon-circle-triangle-e\" role=\"button\" tabindex=\"0\"></div></td><td role=\"gridcell\"><span style=\"white-space:pre-line;\">EyeCare Partners, LLC [on behalf of affiliated covered entities]</span></td><td role=\"gridcell\">MO</td><td role=\"gridcell\"><span style=\"white-space:pre-line;\">Healthcare Provider</span></td><td role=\"gridcell\">141165</td><td role=\"gridcell\">06/19/2019</td><td role=\"gridcell\"><span style=\"white-space:pre-line;\">Hacking/IT Incident</span></td><td role=\"gridcell\"><span style=\"white-space:pre-line;\">Network Server</span></td><td role=\"gridcell\" style=\"display: none\"><span style=\"white-space:pre-line;\">No</span></td><td role=\"gridcell\" style=\"display: none\"><span style=\"white-space:pre-line;\"></span></td></tr><tr class=\"ui-widget-content ui-datatable-even\" data-ri=\"4\" role=\"row\"><td role=\"gridcell\" style=\"width:50px\"><div aria-expanded=\"false\" aria-label=\"Toggle Row\" class=\"ui-row-toggler ui-icon ui-icon-circle-triangle-e\" role=\"button\" tabindex=\"0\"></div></td><td role=\"gridcell\"><span style=\"white-space:pre-line;\">Brenda LaTowsky, M.D., PLC</span></td><td role=\"gridcell\">AZ</td><td role=\"gridcell\"><span style=\"white-space:pre-line;\">Healthcare Provider</span></td><td role=\"gridcell\">1282</td><td role=\"gridcell\">06/17/2019</td><td role=\"gridcell\"><span style=\"white-space:pre-line;\">Theft</span></td><td role=\"gridcell\"><span style=\"white-space:pre-line;\">Laptop, Other Portable Electronic Device</span></td><td role=\"gridcell\" style=\"display: none\"><span style=\"white-space:pre-line;\">No</span></td><td role=\"gridcell\" style=\"display: none\"><span style=\"white-space:pre-line;\"></span></td></tr><tr class=\"ui-widget-content ui-datatable-odd\" data-ri=\"5\" role=\"row\"><td role=\"gridcell\" style=\"width:50px\"><div aria-expanded=\"false\" aria-label=\"Toggle Row\" class=\"ui-row-toggler ui-icon ui-icon-circle-triangle-e\" role=\"button\" tabindex=\"0\"></div></td><td role=\"gridcell\"><span style=\"white-space:pre-line;\">Community Healthlink</span></td><td role=\"gridcell\">MA</td><td role=\"gridcell\"><span style=\"white-space:pre-line;\">Healthcare Provider</span></td><td role=\"gridcell\">4598</td><td role=\"gridcell\">06/17/2019</td><td role=\"gridcell\"><span style=\"white-space:pre-line;\">Hacking/IT Incident</span></td><td role=\"gridcell\"><span style=\"white-space:pre-line;\">Email</span></td><td role=\"gridcell\" style=\"display: none\"><span style=\"white-space:pre-line;\">No</span></td><td role=\"gridcell\" style=\"display: none\"><span style=\"white-space:pre-line;\"></span></td></tr><tr class=\"ui-widget-content ui-datatable-even\" data-ri=\"6\" role=\"row\"><td role=\"gridcell\" style=\"width:50px\"><div aria-expanded=\"false\" aria-label=\"Toggle Row\" class=\"ui-row-toggler ui-icon ui-icon-circle-triangle-e\" role=\"button\" tabindex=\"0\"></div></td><td role=\"gridcell\"><span style=\"white-space:pre-line;\">Inform Diagnostics, Inc.</span></td><td role=\"gridcell\">TX</td><td role=\"gridcell\"><span style=\"white-space:pre-line;\">Healthcare Provider</span></td><td role=\"gridcell\">173617</td><td role=\"gridcell\">06/14/2019</td><td role=\"gridcell\"><span style=\"white-space:pre-line;\">Hacking/IT Incident</span></td><td role=\"gridcell\"><span style=\"white-space:pre-line;\">Network Server</span></td><td role=\"gridcell\" style=\"display: none\"><span style=\"white-space:pre-line;\">Yes</span></td><td role=\"gridcell\" style=\"display: none\"><span style=\"white-space:pre-line;\"></span></td></tr><tr class=\"ui-widget-content ui-datatable-odd\" data-ri=\"7\" role=\"row\"><td role=\"gridcell\" style=\"width:50px\"><div aria-expanded=\"false\" aria-label=\"Toggle Row\" class=\"ui-row-toggler ui-icon ui-icon-circle-triangle-e\" role=\"button\" tabindex=\"0\"></div></td><td role=\"gridcell\"><span style=\"white-space:pre-line;\">Desert Healthcare Services, LLC</span></td><td role=\"gridcell\">AZ</td><td role=\"gridcell\"><span style=\"white-space:pre-line;\">Healthcare Provider</span></td><td role=\"gridcell\">8000</td><td role=\"gridcell\">06/11/2019</td><td role=\"gridcell\"><span style=\"white-space:pre-line;\">Hacking/IT Incident</span></td><td role=\"gridcell\"><span style=\"white-space:pre-line;\">Network Server</span></td><td role=\"gridcell\" style=\"display: none\"><span style=\"white-space:pre-line;\">No</span></td><td role=\"gridcell\" style=\"display: none\"><span style=\"white-space:pre-line;\"></span></td></tr><tr class=\"ui-widget-content ui-datatable-even\" data-ri=\"8\" role=\"row\"><td role=\"gridcell\" style=\"width:50px\"><div aria-expanded=\"false\" aria-label=\"Toggle Row\" class=\"ui-row-toggler ui-icon ui-icon-circle-triangle-e\" role=\"button\" tabindex=\"0\"></div></td><td role=\"gridcell\"><span style=\"white-space:pre-line;\">Kansas City VAMC</span></td><td role=\"gridcell\">MO</td><td role=\"gridcell\"><span style=\"white-space:pre-line;\">Healthcare Provider</span></td><td role=\"gridcell\">534</td><td role=\"gridcell\">06/11/2019</td><td role=\"gridcell\"><span style=\"white-space:pre-line;\">Unauthorized Access/Disclosure</span></td><td role=\"gridcell\"><span style=\"white-space:pre-line;\">Paper/Films</span></td><td role=\"gridcell\" style=\"display: none\"><span style=\"white-space:pre-line;\">No</span></td><td role=\"gridcell\" style=\"display: none\"><span style=\"white-space:pre-line;\"></span></td></tr><tr class=\"ui-widget-content ui-datatable-odd\" data-ri=\"9\" role=\"row\"><td role=\"gridcell\" style=\"width:50px\"><div aria-expanded=\"false\" aria-label=\"Toggle Row\" class=\"ui-row-toggler ui-icon ui-icon-circle-triangle-e\" role=\"button\" tabindex=\"0\"></div></td><td role=\"gridcell\"><span style=\"white-space:pre-line;\">Sunshine State Health Plan, Inc.</span></td><td role=\"gridcell\">FL</td><td role=\"gridcell\"><span style=\"white-space:pre-line;\">Health Plan</span></td><td role=\"gridcell\">2000</td><td role=\"gridcell\">06/07/2019</td><td role=\"gridcell\"><span style=\"white-space:pre-line;\">Unauthorized Access/Disclosure</span></td><td role=\"gridcell\"><span style=\"white-space:pre-line;\">Other</span></td><td role=\"gridcell\" style=\"display: none\"><span style=\"white-space:pre-line;\">Yes</span></td><td role=\"gridcell\" style=\"display: none\"><span style=\"white-space:pre-line;\"></span></td></tr><tr class=\"ui-widget-content ui-datatable-even\" data-ri=\"10\" role=\"row\"><td role=\"gridcell\" style=\"width:50px\"><div aria-expanded=\"false\" aria-label=\"Toggle Row\" class=\"ui-row-toggler ui-icon ui-icon-circle-triangle-e\" role=\"button\" tabindex=\"0\"></div></td><td role=\"gridcell\"><span style=\"white-space:pre-line;\">Kingman Healthcare Incorporated</span></td><td role=\"gridcell\">AZ</td><td role=\"gridcell\"><span style=\"white-space:pre-line;\">Healthcare Provider</span></td><td role=\"gridcell\">1100</td><td role=\"gridcell\">06/07/2019</td><td role=\"gridcell\"><span style=\"white-space:pre-line;\">Unauthorized Access/Disclosure</span></td><td role=\"gridcell\"><span style=\"white-space:pre-line;\">Other</span></td><td role=\"gridcell\" style=\"display: none\"><span style=\"white-space:pre-line;\">No</span></td><td role=\"gridcell\" style=\"display: none\"><span style=\"white-space:pre-line;\"></span></td></tr><tr class=\"ui-widget-content ui-datatable-odd\" data-ri=\"11\" role=\"row\"><td role=\"gridcell\" style=\"width:50px\"><div aria-expanded=\"false\" aria-label=\"Toggle Row\" class=\"ui-row-toggler ui-icon ui-icon-circle-triangle-e\" role=\"button\" tabindex=\"0\"></div></td><td role=\"gridcell\"><span style=\"white-space:pre-line;\">Elim Care</span></td><td role=\"gridcell\">MN</td><td role=\"gridcell\"><span style=\"white-space:pre-line;\">Healthcare Provider</span></td><td role=\"gridcell\">2500</td><td role=\"gridcell\">06/07/2019</td><td role=\"gridcell\"><span style=\"white-space:pre-line;\">Hacking/IT Incident</span></td><td role=\"gridcell\"><span style=\"white-space:pre-line;\">Network Server</span></td><td role=\"gridcell\" style=\"display: none\"><span style=\"white-space:pre-line;\">Yes</span></td><td role=\"gridcell\" style=\"display: none\"><span style=\"white-space:pre-line;\"></span></td></tr><tr class=\"ui-widget-content ui-datatable-even\" data-ri=\"12\" role=\"row\"><td role=\"gridcell\" style=\"width:50px\"><div aria-expanded=\"false\" aria-label=\"Toggle Row\" class=\"ui-row-toggler ui-icon ui-icon-circle-triangle-e\" role=\"button\" tabindex=\"0\"></div></td><td role=\"gridcell\"><span style=\"white-space:pre-line;\">Worcester Eye Consultants</span></td><td role=\"gridcell\">MA</td><td role=\"gridcell\"><span style=\"white-space:pre-line;\">Healthcare Provider</span></td><td role=\"gridcell\">2634</td><td role=\"gridcell\">06/07/2019</td><td role=\"gridcell\"><span style=\"white-space:pre-line;\">Loss</span></td><td role=\"gridcell\"><span style=\"white-space:pre-line;\">Other</span></td><td role=\"gridcell\" style=\"display: none\"><span style=\"white-space:pre-line;\">Yes</span></td><td role=\"gridcell\" style=\"display: none\"><span style=\"white-space:pre-line;\"></span></td></tr><tr class=\"ui-widget-content ui-datatable-odd\" data-ri=\"13\" role=\"row\"><td role=\"gridcell\" style=\"width:50px\"><div aria-expanded=\"false\" aria-label=\"Toggle Row\" class=\"ui-row-toggler ui-icon ui-icon-circle-triangle-e\" role=\"button\" tabindex=\"0\"></div></td><td role=\"gridcell\"><span style=\"white-space:pre-line;\">CAPITOL CARDIOLOGY ASSOCIATES</span></td><td role=\"gridcell\">MD</td><td role=\"gridcell\"><span style=\"white-space:pre-line;\">Healthcare Provider</span></td><td role=\"gridcell\">1980</td><td role=\"gridcell\">06/07/2019</td><td role=\"gridcell\"><span style=\"white-space:pre-line;\">Unauthorized Access/Disclosure</span></td><td role=\"gridcell\"><span style=\"white-space:pre-line;\">Desktop Computer</span></td><td role=\"gridcell\" style=\"display: none\"><span style=\"white-space:pre-line;\">Yes</span></td><td role=\"gridcell\" style=\"display: none\"><span style=\"white-space:pre-line;\"></span></td></tr><tr class=\"ui-widget-content ui-datatable-even\" data-ri=\"14\" role=\"row\"><td role=\"gridcell\" style=\"width:50px\"><div aria-expanded=\"false\" aria-label=\"Toggle Row\" class=\"ui-row-toggler ui-icon ui-icon-circle-triangle-e\" role=\"button\" tabindex=\"0\"></div></td><td role=\"gridcell\"><span style=\"white-space:pre-line;\">SOUTHERN MARYLAND MEDICAL GROUP LLC</span></td><td role=\"gridcell\">MD</td><td role=\"gridcell\"><span style=\"white-space:pre-line;\">Healthcare Provider</span></td><td role=\"gridcell\">1400</td><td role=\"gridcell\">06/07/2019</td><td role=\"gridcell\"><span style=\"white-space:pre-line;\">Unauthorized Access/Disclosure</span></td><td role=\"gridcell\"><span style=\"white-space:pre-line;\">Desktop Computer</span></td><td role=\"gridcell\" style=\"display: none\"><span style=\"white-space:pre-line;\">Yes</span></td><td role=\"gridcell\" style=\"display: none\"><span style=\"white-space:pre-line;\"></span></td></tr><tr class=\"ui-widget-content ui-datatable-odd\" data-ri=\"15\" role=\"row\"><td role=\"gridcell\" style=\"width:50px\"><div aria-expanded=\"false\" aria-label=\"Toggle Row\" class=\"ui-row-toggler ui-icon ui-icon-circle-triangle-e\" role=\"button\" tabindex=\"0\"></div></td><td role=\"gridcell\"><span style=\"white-space:pre-line;\">Shingle Springs Health and Wellness Center</span></td><td role=\"gridcell\">CA</td><td role=\"gridcell\"><span style=\"white-space:pre-line;\">Healthcare Provider</span></td><td role=\"gridcell\">21513</td><td role=\"gridcell\">06/05/2019</td><td role=\"gridcell\"><span style=\"white-space:pre-line;\">Hacking/IT Incident</span></td><td role=\"gridcell\"><span style=\"white-space:pre-line;\">Network Server</span></td><td role=\"gridcell\" style=\"display: none\"><span style=\"white-space:pre-line;\">No</span></td><td role=\"gridcell\" style=\"display: none\"><span style=\"white-space:pre-line;\"></span></td></tr><tr class=\"ui-widget-content ui-datatable-even\" data-ri=\"16\" role=\"row\"><td role=\"gridcell\" style=\"width:50px\"><div aria-expanded=\"false\" aria-label=\"Toggle Row\" class=\"ui-row-toggler ui-icon ui-icon-circle-triangle-e\" role=\"button\" tabindex=\"0\"></div></td><td role=\"gridcell\"><span style=\"white-space:pre-line;\">Rosenbaum Dental Group</span></td><td role=\"gridcell\">FL</td><td role=\"gridcell\"><span style=\"white-space:pre-line;\">Healthcare Provider</span></td><td role=\"gridcell\">1200</td><td role=\"gridcell\">06/04/2019</td><td role=\"gridcell\"><span style=\"white-space:pre-line;\">Hacking/IT Incident</span></td><td role=\"gridcell\"><span style=\"white-space:pre-line;\">Desktop Computer</span></td><td role=\"gridcell\" style=\"display: none\"><span style=\"white-space:pre-line;\">No</span></td><td role=\"gridcell\" style=\"display: none\"><span style=\"white-space:pre-line;\"></span></td></tr><tr class=\"ui-widget-content ui-datatable-odd\" data-ri=\"17\" role=\"row\"><td role=\"gridcell\" style=\"width:50px\"><div aria-expanded=\"false\" aria-label=\"Toggle Row\" class=\"ui-row-toggler ui-icon ui-icon-circle-triangle-e\" role=\"button\" tabindex=\"0\"></div></td><td role=\"gridcell\"><span style=\"white-space:pre-line;\">Humana Inc</span></td><td role=\"gridcell\">KY</td><td role=\"gridcell\"><span style=\"white-space:pre-line;\">Health Plan</span></td><td role=\"gridcell\">863</td><td role=\"gridcell\">06/03/2019</td><td role=\"gridcell\"><span style=\"white-space:pre-line;\">Unauthorized Access/Disclosure</span></td><td role=\"gridcell\"><span style=\"white-space:pre-line;\">Network Server</span></td><td role=\"gridcell\" style=\"display: none\"><span style=\"white-space:pre-line;\">No</span></td><td role=\"gridcell\" style=\"display: none\"><span style=\"white-space:pre-line;\"></span></td></tr><tr class=\"ui-widget-content ui-datatable-even\" data-ri=\"18\" role=\"row\"><td role=\"gridcell\" style=\"width:50px\"><div aria-expanded=\"false\" aria-label=\"Toggle Row\" class=\"ui-row-toggler ui-icon ui-icon-circle-triangle-e\" role=\"button\" tabindex=\"0\"></div></td><td role=\"gridcell\"><span style=\"white-space:pre-line;\">Health Quest Systems, Inc. </span></td><td role=\"gridcell\">NY</td><td role=\"gridcell\"><span style=\"white-space:pre-line;\">Healthcare Provider</span></td><td role=\"gridcell\">28910</td><td role=\"gridcell\">05/31/2019</td><td role=\"gridcell\"><span style=\"white-space:pre-line;\">Hacking/IT Incident</span></td><td role=\"gridcell\"><span style=\"white-space:pre-line;\">Email</span></td><td role=\"gridcell\" style=\"display: none\"><span style=\"white-space:pre-line;\">No</span></td><td role=\"gridcell\" style=\"display: none\"><span style=\"white-space:pre-line;\"></span></td></tr><tr class=\"ui-widget-content ui-datatable-odd\" data-ri=\"19\" role=\"row\"><td role=\"gridcell\" style=\"width:50px\"><div aria-expanded=\"false\" aria-label=\"Toggle Row\" class=\"ui-row-toggler ui-icon ui-icon-circle-triangle-e\" role=\"button\" tabindex=\"0\"></div></td><td role=\"gridcell\"><span style=\"white-space:pre-line;\">City of Georgetown Fire Department</span></td><td role=\"gridcell\">TX</td><td role=\"gridcell\"><span style=\"white-space:pre-line;\">Healthcare Provider</span></td><td role=\"gridcell\">719</td><td role=\"gridcell\">05/31/2019</td><td role=\"gridcell\"><span style=\"white-space:pre-line;\">Loss</span></td><td role=\"gridcell\"><span style=\"white-space:pre-line;\">Other Portable Electronic Device</span></td><td role=\"gridcell\" style=\"display: none\"><span style=\"white-space:pre-line;\">No</span></td><td role=\"gridcell\" style=\"display: none\"><span style=\"white-space:pre-line;\"></span></td></tr><tr class=\"ui-widget-content ui-datatable-even\" data-ri=\"20\" role=\"row\"><td role=\"gridcell\" style=\"width:50px\"><div aria-expanded=\"false\" aria-label=\"Toggle Row\" class=\"ui-row-toggler ui-icon ui-icon-circle-triangle-e\" role=\"button\" tabindex=\"0\"></div></td><td role=\"gridcell\"><span style=\"white-space:pre-line;\">Broome County, New York</span></td><td role=\"gridcell\">NY</td><td role=\"gridcell\"><span style=\"white-space:pre-line;\">Healthcare Provider</span></td><td role=\"gridcell\">7048</td><td role=\"gridcell\">05/31/2019</td><td role=\"gridcell\"><span style=\"white-space:pre-line;\">Hacking/IT Incident</span></td><td role=\"gridcell\"><span style=\"white-space:pre-line;\">Email</span></td><td role=\"gridcell\" style=\"display: none\"><span style=\"white-space:pre-line;\">No</span></td><td role=\"gridcell\" style=\"display: none\"><span style=\"white-space:pre-line;\"></span></td></tr><tr class=\"ui-widget-content ui-datatable-odd\" data-ri=\"21\" role=\"row\"><td role=\"gridcell\" style=\"width:50px\"><div aria-expanded=\"false\" aria-label=\"Toggle Row\" class=\"ui-row-toggler ui-icon ui-icon-circle-triangle-e\" role=\"button\" tabindex=\"0\"></div></td><td role=\"gridcell\"><span style=\"white-space:pre-line;\">Cerpassrx, LLC</span></td><td role=\"gridcell\">TX</td><td role=\"gridcell\"><span style=\"white-space:pre-line;\">Health Plan</span></td><td role=\"gridcell\">2513</td><td role=\"gridcell\">05/31/2019</td><td role=\"gridcell\"><span style=\"white-space:pre-line;\">Hacking/IT Incident</span></td><td role=\"gridcell\"><span style=\"white-space:pre-line;\">Email</span></td><td role=\"gridcell\" style=\"display: none\"><span style=\"white-space:pre-line;\">No</span></td><td role=\"gridcell\" style=\"display: none\"><span style=\"white-space:pre-line;\"></span></td></tr><tr class=\"ui-widget-content ui-datatable-even\" data-ri=\"22\" role=\"row\"><td role=\"gridcell\" style=\"width:50px\"><div aria-expanded=\"false\" aria-label=\"Toggle Row\" class=\"ui-row-toggler ui-icon ui-icon-circle-triangle-e\" role=\"button\" tabindex=\"0\"></div></td><td role=\"gridcell\"><span style=\"white-space:pre-line;\">The Union Labor Life Insurance Company</span></td><td role=\"gridcell\">MD</td><td role=\"gridcell\"><span style=\"white-space:pre-line;\">Health Plan</span></td><td role=\"gridcell\">87400</td><td role=\"gridcell\">05/31/2019</td><td role=\"gridcell\"><span style=\"white-space:pre-line;\">Hacking/IT Incident</span></td><td role=\"gridcell\"><span style=\"white-space:pre-line;\">Email</span></td><td role=\"gridcell\" style=\"display: none\"><span style=\"white-space:pre-line;\">No</span></td><td role=\"gridcell\" style=\"display: none\"><span style=\"white-space:pre-line;\"></span></td></tr><tr class=\"ui-widget-content ui-datatable-odd\" data-ri=\"23\" role=\"row\"><td role=\"gridcell\" style=\"width:50px\"><div aria-expanded=\"false\" aria-label=\"Toggle Row\" class=\"ui-row-toggler ui-icon ui-icon-circle-triangle-e\" role=\"button\" tabindex=\"0\"></div></td><td role=\"gridcell\"><span style=\"white-space:pre-line;\">Capital City Paincare</span></td><td role=\"gridcell\">OH</td><td role=\"gridcell\"><span style=\"white-space:pre-line;\">Healthcare Provider</span></td><td role=\"gridcell\">1012</td><td role=\"gridcell\">05/31/2019</td><td role=\"gridcell\"><span style=\"white-space:pre-line;\">Hacking/IT Incident</span></td><td role=\"gridcell\"><span style=\"white-space:pre-line;\">Network Server</span></td><td role=\"gridcell\" style=\"display: none\"><span style=\"white-space:pre-line;\">No</span></td><td role=\"gridcell\" style=\"display: none\"><span style=\"white-space:pre-line;\"></span></td></tr><tr class=\"ui-widget-content ui-datatable-even\" data-ri=\"24\" role=\"row\"><td role=\"gridcell\" style=\"width:50px\"><div aria-expanded=\"false\" aria-label=\"Toggle Row\" class=\"ui-row-toggler ui-icon ui-icon-circle-triangle-e\" role=\"button\" tabindex=\"0\"></div></td><td role=\"gridcell\"><span style=\"white-space:pre-line;\">Takai, Hoover, and Hsu, P.A.</span></td><td role=\"gridcell\">MD</td><td role=\"gridcell\"><span style=\"white-space:pre-line;\">Healthcare Provider</span></td><td role=\"gridcell\">16542</td><td role=\"gridcell\">05/29/2019</td><td role=\"gridcell\"><span style=\"white-space:pre-line;\">Unauthorized Access/Disclosure</span></td><td role=\"gridcell\"><span style=\"white-space:pre-line;\">Desktop Computer, Electronic Medical Record</span></td><td role=\"gridcell\" style=\"display: none\"><span style=\"white-space:pre-line;\">No</span></td><td role=\"gridcell\" style=\"display: none\"><span style=\"white-space:pre-line;\"></span></td></tr><tr class=\"ui-widget-content ui-datatable-odd\" data-ri=\"25\" role=\"row\"><td role=\"gridcell\" style=\"width:50px\"><div aria-expanded=\"false\" aria-label=\"Toggle Row\" class=\"ui-row-toggler ui-icon ui-icon-circle-triangle-e\" role=\"button\" tabindex=\"0\"></div></td><td role=\"gridcell\"><span style=\"white-space:pre-line;\">Sunshine Family Dentistry</span></td><td role=\"gridcell\">TX</td><td role=\"gridcell\"><span style=\"white-space:pre-line;\">Healthcare Provider</span></td><td role=\"gridcell\">800</td><td role=\"gridcell\">05/27/2019</td><td role=\"gridcell\"><span style=\"white-space:pre-line;\">Theft</span></td><td role=\"gridcell\"><span style=\"white-space:pre-line;\">Network Server</span></td><td role=\"gridcell\" style=\"display: none\"><span style=\"white-space:pre-line;\">No</span></td><td role=\"gridcell\" style=\"display: none\"><span style=\"white-space:pre-line;\"></span></td></tr><tr class=\"ui-widget-content ui-datatable-even\" data-ri=\"26\" role=\"row\"><td role=\"gridcell\" style=\"width:50px\"><div aria-expanded=\"false\" aria-label=\"Toggle Row\" class=\"ui-row-toggler ui-icon ui-icon-circle-triangle-e\" role=\"button\" tabindex=\"0\"></div></td><td role=\"gridcell\"><span style=\"white-space:pre-line;\">Monroe County Hospital</span></td><td role=\"gridcell\">GA</td><td role=\"gridcell\"><span style=\"white-space:pre-line;\">Healthcare Provider</span></td><td role=\"gridcell\">10970</td><td role=\"gridcell\">05/25/2019</td><td role=\"gridcell\"><span style=\"white-space:pre-line;\">Hacking/IT Incident</span></td><td role=\"gridcell\"><span style=\"white-space:pre-line;\">Email</span></td><td role=\"gridcell\" style=\"display: none\"><span style=\"white-space:pre-line;\">No</span></td><td role=\"gridcell\" style=\"display: none\"><span style=\"white-space:pre-line;\"></span></td></tr><tr class=\"ui-widget-content ui-datatable-odd\" data-ri=\"27\" role=\"row\"><td role=\"gridcell\" style=\"width:50px\"><div aria-expanded=\"false\" aria-label=\"Toggle Row\" class=\"ui-row-toggler ui-icon ui-icon-circle-triangle-e\" role=\"button\" tabindex=\"0\"></div></td><td role=\"gridcell\"><span style=\"white-space:pre-line;\">Huggins Insurance Services, Inc.</span></td><td role=\"gridcell\">OR</td><td role=\"gridcell\"><span style=\"white-space:pre-line;\">Business Associate</span></td><td role=\"gridcell\">667</td><td role=\"gridcell\">05/24/2019</td><td role=\"gridcell\"><span style=\"white-space:pre-line;\">Hacking/IT Incident</span></td><td role=\"gridcell\"><span style=\"white-space:pre-line;\">Email</span></td><td role=\"gridcell\" style=\"display: none\"><span style=\"white-space:pre-line;\">Yes</span></td><td role=\"gridcell\" style=\"display: none\"><span style=\"white-space:pre-line;\"></span></td></tr><tr class=\"ui-widget-content ui-datatable-even\" data-ri=\"28\" role=\"row\"><td role=\"gridcell\" style=\"width:50px\"><div aria-expanded=\"false\" aria-label=\"Toggle Row\" class=\"ui-row-toggler ui-icon ui-icon-circle-triangle-e\" role=\"button\" tabindex=\"0\"></div></td><td role=\"gridcell\"><span style=\"white-space:pre-line;\">Maranatha Village Inc.</span></td><td role=\"gridcell\">MO</td><td role=\"gridcell\"><span style=\"white-space:pre-line;\">Healthcare Provider</span></td><td role=\"gridcell\">520</td><td role=\"gridcell\">05/24/2019</td><td role=\"gridcell\"><span style=\"white-space:pre-line;\">Hacking/IT Incident</span></td><td role=\"gridcell\"><span style=\"white-space:pre-line;\">Email</span></td><td role=\"gridcell\" style=\"display: none\"><span style=\"white-space:pre-line;\">No</span></td><td role=\"gridcell\" style=\"display: none\"><span style=\"white-space:pre-line;\"></span></td></tr><tr class=\"ui-widget-content ui-datatable-odd\" data-ri=\"29\" role=\"row\"><td role=\"gridcell\" style=\"width:50px\"><div aria-expanded=\"false\" aria-label=\"Toggle Row\" class=\"ui-row-toggler ui-icon ui-icon-circle-triangle-e\" role=\"button\" tabindex=\"0\"></div></td><td role=\"gridcell\"><span style=\"white-space:pre-line;\">Healthfirst</span></td><td role=\"gridcell\">NY</td><td role=\"gridcell\"><span style=\"white-space:pre-line;\">Health Plan</span></td><td role=\"gridcell\">1811</td><td role=\"gridcell\">05/24/2019</td><td role=\"gridcell\"><span style=\"white-space:pre-line;\">Unauthorized Access/Disclosure</span></td><td role=\"gridcell\"><span style=\"white-space:pre-line;\">Paper/Films</span></td><td role=\"gridcell\" style=\"display: none\"><span style=\"white-space:pre-line;\">No</span></td><td role=\"gridcell\" style=\"display: none\"><span style=\"white-space:pre-line;\"></span></td></tr><tr class=\"ui-widget-content ui-datatable-even\" data-ri=\"30\" role=\"row\"><td role=\"gridcell\" style=\"width:50px\"><div aria-expanded=\"false\" aria-label=\"Toggle Row\" class=\"ui-row-toggler ui-icon ui-icon-circle-triangle-e\" role=\"button\" tabindex=\"0\"></div></td><td role=\"gridcell\"><span style=\"white-space:pre-line;\">Talley Medical Surgical Eyecare Associates, PC</span></td><td role=\"gridcell\">IN</td><td role=\"gridcell\"><span style=\"white-space:pre-line;\">Healthcare Provider</span></td><td role=\"gridcell\">106000</td><td role=\"gridcell\">05/24/2019</td><td role=\"gridcell\"><span style=\"white-space:pre-line;\">Unauthorized Access/Disclosure</span></td><td role=\"gridcell\"><span style=\"white-space:pre-line;\">Desktop Computer, Electronic Medical Record, Email, Laptop, Network Server</span></td><td role=\"gridcell\" style=\"display: none\"><span style=\"white-space:pre-line;\">No</span></td><td role=\"gridcell\" style=\"display: none\"><span style=\"white-space:pre-line;\"></span></td></tr><tr class=\"ui-widget-content ui-datatable-odd\" data-ri=\"31\" role=\"row\"><td role=\"gridcell\" style=\"width:50px\"><div aria-expanded=\"false\" aria-label=\"Toggle Row\" class=\"ui-row-toggler ui-icon ui-icon-circle-triangle-e\" role=\"button\" tabindex=\"0\"></div></td><td role=\"gridcell\"><span style=\"white-space:pre-line;\">TriHealth Physician Practices</span></td><td role=\"gridcell\">OH</td><td role=\"gridcell\"><span style=\"white-space:pre-line;\">Healthcare Provider</span></td><td role=\"gridcell\">2433</td><td role=\"gridcell\">05/24/2019</td><td role=\"gridcell\"><span style=\"white-space:pre-line;\">Unauthorized Access/Disclosure</span></td><td role=\"gridcell\"><span style=\"white-space:pre-line;\">Email</span></td><td role=\"gridcell\" style=\"display: none\"><span style=\"white-space:pre-line;\">No</span></td><td role=\"gridcell\" style=\"display: none\"><span style=\"white-space:pre-line;\"></span></td></tr><tr class=\"ui-widget-content ui-datatable-even\" data-ri=\"32\" role=\"row\"><td role=\"gridcell\" style=\"width:50px\"><div aria-expanded=\"false\" aria-label=\"Toggle Row\" class=\"ui-row-toggler ui-icon ui-icon-circle-triangle-e\" role=\"button\" tabindex=\"0\"></div></td><td role=\"gridcell\"><span style=\"white-space:pre-line;\">Mercy Health Saint Mary's</span></td><td role=\"gridcell\">MI</td><td role=\"gridcell\"><span style=\"white-space:pre-line;\">Healthcare Provider</span></td><td role=\"gridcell\">978</td><td role=\"gridcell\">05/24/2019</td><td role=\"gridcell\"><span style=\"white-space:pre-line;\">Hacking/IT Incident</span></td><td role=\"gridcell\"><span style=\"white-space:pre-line;\">Network Server</span></td><td role=\"gridcell\" style=\"display: none\"><span style=\"white-space:pre-line;\">No</span></td><td role=\"gridcell\" style=\"display: none\"><span style=\"white-space:pre-line;\"></span></td></tr><tr class=\"ui-widget-content ui-datatable-odd\" data-ri=\"33\" role=\"row\"><td role=\"gridcell\" style=\"width:50px\"><div aria-expanded=\"false\" aria-label=\"Toggle Row\" class=\"ui-row-toggler ui-icon ui-icon-circle-triangle-e\" role=\"button\" tabindex=\"0\"></div></td><td role=\"gridcell\"><span style=\"white-space:pre-line;\">Centura Health</span></td><td role=\"gridcell\">CO</td><td role=\"gridcell\"><span style=\"white-space:pre-line;\">Healthcare Provider</span></td><td role=\"gridcell\">7515</td><td role=\"gridcell\">05/22/2019</td><td role=\"gridcell\"><span style=\"white-space:pre-line;\">Hacking/IT Incident</span></td><td role=\"gridcell\"><span style=\"white-space:pre-line;\">Email</span></td><td role=\"gridcell\" style=\"display: none\"><span style=\"white-space:pre-line;\">No</span></td><td role=\"gridcell\" style=\"display: none\"><span style=\"white-space:pre-line;\"></span></td></tr><tr class=\"ui-widget-content ui-datatable-even\" data-ri=\"34\" role=\"row\"><td role=\"gridcell\" style=\"width:50px\"><div aria-expanded=\"false\" aria-label=\"Toggle Row\" class=\"ui-row-toggler ui-icon ui-icon-circle-triangle-e\" role=\"button\" tabindex=\"0\"></div></td><td role=\"gridcell\"><span style=\"white-space:pre-line;\">Partington Plastic Surgery</span></td><td role=\"gridcell\">WA</td><td role=\"gridcell\"><span style=\"white-space:pre-line;\">Healthcare Provider</span></td><td role=\"gridcell\">9000</td><td role=\"gridcell\">05/22/2019</td><td role=\"gridcell\"><span style=\"white-space:pre-line;\">Unauthorized Access/Disclosure</span></td><td role=\"gridcell\"><span style=\"white-space:pre-line;\">Laptop</span></td><td role=\"gridcell\" style=\"display: none\"><span style=\"white-space:pre-line;\">No</span></td><td role=\"gridcell\" style=\"display: none\"><span style=\"white-space:pre-line;\"></span></td></tr><tr class=\"ui-widget-content ui-datatable-odd\" data-ri=\"35\" role=\"row\"><td role=\"gridcell\" style=\"width:50px\"><div aria-expanded=\"false\" aria-label=\"Toggle Row\" class=\"ui-row-toggler ui-icon ui-icon-circle-triangle-e\" role=\"button\" tabindex=\"0\"></div></td><td role=\"gridcell\"><span style=\"white-space:pre-line;\">Northwestern Health Sciences University</span></td><td role=\"gridcell\">MN</td><td role=\"gridcell\"><span style=\"white-space:pre-line;\">Healthcare Provider</span></td><td role=\"gridcell\">1198</td><td role=\"gridcell\">05/21/2019</td><td role=\"gridcell\"><span style=\"white-space:pre-line;\">Hacking/IT Incident</span></td><td role=\"gridcell\"><span style=\"white-space:pre-line;\">Email</span></td><td role=\"gridcell\" style=\"display: none\"><span style=\"white-space:pre-line;\">No</span></td><td role=\"gridcell\" style=\"display: none\"><span style=\"white-space:pre-line;\"></span></td></tr><tr class=\"ui-widget-content ui-datatable-even\" data-ri=\"36\" role=\"row\"><td role=\"gridcell\" style=\"width:50px\"><div aria-expanded=\"false\" aria-label=\"Toggle Row\" class=\"ui-row-toggler ui-icon ui-icon-circle-triangle-e\" role=\"button\" tabindex=\"0\"></div></td><td role=\"gridcell\"><span style=\"white-space:pre-line;\">Hematology Oncology Associates, PC</span></td><td role=\"gridcell\">OR</td><td role=\"gridcell\"><span style=\"white-space:pre-line;\">Healthcare Provider</span></td><td role=\"gridcell\">16073</td><td role=\"gridcell\">05/21/2019</td><td role=\"gridcell\"><span style=\"white-space:pre-line;\">Hacking/IT Incident</span></td><td role=\"gridcell\"><span style=\"white-space:pre-line;\">Email</span></td><td role=\"gridcell\" style=\"display: none\"><span style=\"white-space:pre-line;\">No</span></td><td role=\"gridcell\" style=\"display: none\"><span style=\"white-space:pre-line;\"></span></td></tr><tr class=\"ui-widget-content ui-datatable-odd\" data-ri=\"37\" role=\"row\"><td role=\"gridcell\" style=\"width:50px\"><div aria-expanded=\"false\" aria-label=\"Toggle Row\" class=\"ui-row-toggler ui-icon ui-icon-circle-triangle-e\" role=\"button\" tabindex=\"0\"></div></td><td role=\"gridcell\"><span style=\"white-space:pre-line;\">Penn Medicine</span></td><td role=\"gridcell\">PA</td><td role=\"gridcell\"><span style=\"white-space:pre-line;\">Healthcare Provider</span></td><td role=\"gridcell\">917</td><td role=\"gridcell\">05/21/2019</td><td role=\"gridcell\"><span style=\"white-space:pre-line;\">Unauthorized Access/Disclosure</span></td><td role=\"gridcell\"><span style=\"white-space:pre-line;\">Electronic Medical Record</span></td><td role=\"gridcell\" style=\"display: none\"><span style=\"white-space:pre-line;\">No</span></td><td role=\"gridcell\" style=\"display: none\"><span style=\"white-space:pre-line;\"></span></td></tr><tr class=\"ui-widget-content ui-datatable-even\" data-ri=\"38\" role=\"row\"><td role=\"gridcell\" style=\"width:50px\"><div aria-expanded=\"false\" aria-label=\"Toggle Row\" class=\"ui-row-toggler ui-icon ui-icon-circle-triangle-e\" role=\"button\" tabindex=\"0\"></div></td><td role=\"gridcell\"><span style=\"white-space:pre-line;\">Special Health Resources for Texas, Inc. </span></td><td role=\"gridcell\">TX</td><td role=\"gridcell\"><span style=\"white-space:pre-line;\">Healthcare Provider</span></td><td role=\"gridcell\">567</td><td role=\"gridcell\">05/21/2019</td><td role=\"gridcell\"><span style=\"white-space:pre-line;\">Unauthorized Access/Disclosure</span></td><td role=\"gridcell\"><span style=\"white-space:pre-line;\">Electronic Medical Record</span></td><td role=\"gridcell\" style=\"display: none\"><span style=\"white-space:pre-line;\">No</span></td><td role=\"gridcell\" style=\"display: none\"><span style=\"white-space:pre-line;\"></span></td></tr><tr class=\"ui-widget-content ui-datatable-odd\" data-ri=\"39\" role=\"row\"><td role=\"gridcell\" style=\"width:50px\"><div aria-expanded=\"false\" aria-label=\"Toggle Row\" class=\"ui-row-toggler ui-icon ui-icon-circle-triangle-e\" role=\"button\" tabindex=\"0\"></div></td><td role=\"gridcell\"><span style=\"white-space:pre-line;\">Acadia Montana Treatment Center</span></td><td role=\"gridcell\">MT</td><td role=\"gridcell\"><span style=\"white-space:pre-line;\">Healthcare Provider</span></td><td role=\"gridcell\">14794</td><td role=\"gridcell\">05/17/2019</td><td role=\"gridcell\"><span style=\"white-space:pre-line;\">Hacking/IT Incident</span></td><td role=\"gridcell\"><span style=\"white-space:pre-line;\">Email</span></td><td role=\"gridcell\" style=\"display: none\"><span style=\"white-space:pre-line;\">No</span></td><td role=\"gridcell\" style=\"display: none\"><span style=\"white-space:pre-line;\"></span></td></tr><tr class=\"ui-widget-content ui-datatable-even\" data-ri=\"40\" role=\"row\"><td role=\"gridcell\" style=\"width:50px\"><div aria-expanded=\"false\" aria-label=\"Toggle Row\" class=\"ui-row-toggler ui-icon ui-icon-circle-triangle-e\" role=\"button\" tabindex=\"0\"></div></td><td role=\"gridcell\"><span style=\"white-space:pre-line;\">Aeroflow Inc.</span></td><td role=\"gridcell\">NC</td><td role=\"gridcell\"><span style=\"white-space:pre-line;\">Healthcare Provider</span></td><td role=\"gridcell\">4450</td><td role=\"gridcell\">05/16/2019</td><td role=\"gridcell\"><span style=\"white-space:pre-line;\">Hacking/IT Incident</span></td><td role=\"gridcell\"><span style=\"white-space:pre-line;\">Network Server</span></td><td role=\"gridcell\" style=\"display: none\"><span style=\"white-space:pre-line;\">No</span></td><td role=\"gridcell\" style=\"display: none\"><span style=\"white-space:pre-line;\"></span></td></tr><tr class=\"ui-widget-content ui-datatable-odd\" data-ri=\"41\" role=\"row\"><td role=\"gridcell\" style=\"width:50px\"><div aria-expanded=\"false\" aria-label=\"Toggle Row\" class=\"ui-row-toggler ui-icon ui-icon-circle-triangle-e\" role=\"button\" tabindex=\"0\"></div></td><td role=\"gridcell\"><span style=\"white-space:pre-line;\">Communities Connected for Kids, Inc. </span></td><td role=\"gridcell\">FL</td><td role=\"gridcell\"><span style=\"white-space:pre-line;\">Business Associate</span></td><td role=\"gridcell\">501</td><td role=\"gridcell\">05/15/2019</td><td role=\"gridcell\"><span style=\"white-space:pre-line;\">Hacking/IT Incident</span></td><td role=\"gridcell\"><span style=\"white-space:pre-line;\">Network Server</span></td><td role=\"gridcell\" style=\"display: none\"><span style=\"white-space:pre-line;\">Yes</span></td><td role=\"gridcell\" style=\"display: none\"><span style=\"white-space:pre-line;\"></span></td></tr><tr class=\"ui-widget-content ui-datatable-even\" data-ri=\"42\" role=\"row\"><td role=\"gridcell\" style=\"width:50px\"><div aria-expanded=\"false\" aria-label=\"Toggle Row\" class=\"ui-row-toggler ui-icon ui-icon-circle-triangle-e\" role=\"button\" tabindex=\"0\"></div></td><td role=\"gridcell\"><span style=\"white-space:pre-line;\">Aging Disability and Transit Services of Rockingham County  </span></td><td role=\"gridcell\">NC</td><td role=\"gridcell\"><span style=\"white-space:pre-line;\">Healthcare Provider</span></td><td role=\"gridcell\">500</td><td role=\"gridcell\">05/15/2019</td><td role=\"gridcell\"><span style=\"white-space:pre-line;\">Hacking/IT Incident</span></td><td role=\"gridcell\"><span style=\"white-space:pre-line;\">Network Server</span></td><td role=\"gridcell\" style=\"display: none\"><span style=\"white-space:pre-line;\">No</span></td><td role=\"gridcell\" style=\"display: none\"><span style=\"white-space:pre-line;\"></span></td></tr><tr class=\"ui-widget-content ui-datatable-odd\" data-ri=\"43\" role=\"row\"><td role=\"gridcell\" style=\"width:50px\"><div aria-expanded=\"false\" aria-label=\"Toggle Row\" class=\"ui-row-toggler ui-icon ui-icon-circle-triangle-e\" role=\"button\" tabindex=\"0\"></div></td><td role=\"gridcell\"><span style=\"white-space:pre-line;\">Youth Opportunity Center, Inc.</span></td><td role=\"gridcell\">IN</td><td role=\"gridcell\"><span style=\"white-space:pre-line;\">Healthcare Provider</span></td><td role=\"gridcell\">1150</td><td role=\"gridcell\">05/14/2019</td><td role=\"gridcell\"><span style=\"white-space:pre-line;\">Unauthorized Access/Disclosure</span></td><td role=\"gridcell\"><span style=\"white-space:pre-line;\">Paper/Films</span></td><td role=\"gridcell\" style=\"display: none\"><span style=\"white-space:pre-line;\">No</span></td><td role=\"gridcell\" style=\"display: none\"><span style=\"white-space:pre-line;\"></span></td></tr><tr class=\"ui-widget-content ui-datatable-even\" data-ri=\"44\" role=\"row\"><td role=\"gridcell\" style=\"width:50px\"><div aria-expanded=\"false\" aria-label=\"Toggle Row\" class=\"ui-row-toggler ui-icon ui-icon-circle-triangle-e\" role=\"button\" tabindex=\"0\"></div></td><td role=\"gridcell\"><span style=\"white-space:pre-line;\">Health Net, LLC.</span></td><td role=\"gridcell\">CA</td><td role=\"gridcell\"><span style=\"white-space:pre-line;\">Health Plan</span></td><td role=\"gridcell\">2404</td><td role=\"gridcell\">05/13/2019</td><td role=\"gridcell\"><span style=\"white-space:pre-line;\">Unauthorized Access/Disclosure</span></td><td role=\"gridcell\"><span style=\"white-space:pre-line;\">Paper/Films</span></td><td role=\"gridcell\" style=\"display: none\"><span style=\"white-space:pre-line;\">No</span></td><td role=\"gridcell\" style=\"display: none\"><span style=\"white-space:pre-line;\"></span></td></tr><tr class=\"ui-widget-content ui-datatable-odd\" data-ri=\"45\" role=\"row\"><td role=\"gridcell\" style=\"width:50px\"><div aria-expanded=\"false\" aria-label=\"Toggle Row\" class=\"ui-row-toggler ui-icon ui-icon-circle-triangle-e\" role=\"button\" tabindex=\"0\"></div></td><td role=\"gridcell\"><span style=\"white-space:pre-line;\">Professional Dental Alliance of Florida PLLC d/b/a All Smiles Dentistry</span></td><td role=\"gridcell\">FL</td><td role=\"gridcell\"><span style=\"white-space:pre-line;\">Healthcare Provider</span></td><td role=\"gridcell\">1505</td><td role=\"gridcell\">05/13/2019</td><td role=\"gridcell\"><span style=\"white-space:pre-line;\">Unauthorized Access/Disclosure</span></td><td role=\"gridcell\"><span style=\"white-space:pre-line;\">Desktop Computer, Electronic Medical Record</span></td><td role=\"gridcell\" style=\"display: none\"><span style=\"white-space:pre-line;\">No</span></td><td role=\"gridcell\" style=\"display: none\"><span style=\"white-space:pre-line;\"></span></td></tr><tr class=\"ui-widget-content ui-datatable-even\" data-ri=\"46\" role=\"row\"><td role=\"gridcell\" style=\"width:50px\"><div aria-expanded=\"false\" aria-label=\"Toggle Row\" class=\"ui-row-toggler ui-icon ui-icon-circle-triangle-e\" role=\"button\" tabindex=\"0\"></div></td><td role=\"gridcell\"><span style=\"white-space:pre-line;\">Encompass Family and internal medicine group</span></td><td role=\"gridcell\">CA</td><td role=\"gridcell\"><span style=\"white-space:pre-line;\">Healthcare Provider</span></td><td role=\"gridcell\">26000</td><td role=\"gridcell\">05/13/2019</td><td role=\"gridcell\"><span style=\"white-space:pre-line;\">Unauthorized Access/Disclosure</span></td><td role=\"gridcell\"><span style=\"white-space:pre-line;\">Desktop Computer, Electronic Medical Record</span></td><td role=\"gridcell\" style=\"display: none\"><span style=\"white-space:pre-line;\">No</span></td><td role=\"gridcell\" style=\"display: none\"><span style=\"white-space:pre-line;\"></span></td></tr><tr class=\"ui-widget-content ui-datatable-odd\" data-ri=\"47\" role=\"row\"><td role=\"gridcell\" style=\"width:50px\"><div aria-expanded=\"false\" aria-label=\"Toggle Row\" class=\"ui-row-toggler ui-icon ui-icon-circle-triangle-e\" role=\"button\" tabindex=\"0\"></div></td><td role=\"gridcell\"><span style=\"white-space:pre-line;\">Memorial Hermann Health System</span></td><td role=\"gridcell\">TX</td><td role=\"gridcell\"><span style=\"white-space:pre-line;\">Healthcare Provider</span></td><td role=\"gridcell\">604</td><td role=\"gridcell\">05/13/2019</td><td role=\"gridcell\"><span style=\"white-space:pre-line;\">Unauthorized Access/Disclosure</span></td><td role=\"gridcell\"><span style=\"white-space:pre-line;\">Electronic Medical Record, Email</span></td><td role=\"gridcell\" style=\"display: none\"><span style=\"white-space:pre-line;\">No</span></td><td role=\"gridcell\" style=\"display: none\"><span style=\"white-space:pre-line;\"></span></td></tr><tr class=\"ui-widget-content ui-datatable-even\" data-ri=\"48\" role=\"row\"><td role=\"gridcell\" style=\"width:50px\"><div aria-expanded=\"false\" aria-label=\"Toggle Row\" class=\"ui-row-toggler ui-icon ui-icon-circle-triangle-e\" role=\"button\" tabindex=\"0\"></div></td><td role=\"gridcell\"><span style=\"white-space:pre-line;\">Midwest Medical Center</span></td><td role=\"gridcell\">IL</td><td role=\"gridcell\"><span style=\"white-space:pre-line;\">Healthcare Provider</span></td><td role=\"gridcell\">8010</td><td role=\"gridcell\">05/10/2019</td><td role=\"gridcell\"><span style=\"white-space:pre-line;\">Hacking/IT Incident</span></td><td role=\"gridcell\"><span style=\"white-space:pre-line;\">Email</span></td><td role=\"gridcell\" style=\"display: none\"><span style=\"white-space:pre-line;\">Yes</span></td><td role=\"gridcell\" style=\"display: none\"><span style=\"white-space:pre-line;\"></span></td></tr><tr class=\"ui-widget-content ui-datatable-odd\" data-ri=\"49\" role=\"row\"><td role=\"gridcell\" style=\"width:50px\"><div aria-expanded=\"false\" aria-label=\"Toggle Row\" class=\"ui-row-toggler ui-icon ui-icon-circle-triangle-e\" role=\"button\" tabindex=\"0\"></div></td><td role=\"gridcell\"><span style=\"white-space:pre-line;\">University Medical Center Physicians</span></td><td role=\"gridcell\">TX</td><td role=\"gridcell\"><span style=\"white-space:pre-line;\">Healthcare Provider</span></td><td role=\"gridcell\">3300</td><td role=\"gridcell\">05/10/2019</td><td role=\"gridcell\"><span style=\"white-space:pre-line;\">Unauthorized Access/Disclosure</span></td><td role=\"gridcell\"><span style=\"white-space:pre-line;\">Network Server, Other</span></td><td role=\"gridcell\" style=\"display: none\"><span style=\"white-space:pre-line;\">No</span></td><td role=\"gridcell\" style=\"display: none\"><span style=\"white-space:pre-line;\"></span></td></tr><tr class=\"ui-widget-content ui-datatable-even\" data-ri=\"50\" role=\"row\"><td role=\"gridcell\" style=\"width:50px\"><div aria-expanded=\"false\" aria-label=\"Toggle Row\" class=\"ui-row-toggler ui-icon ui-icon-circle-triangle-e\" role=\"button\" tabindex=\"0\"></div></td><td role=\"gridcell\"><span style=\"white-space:pre-line;\">Cancer Treatment Centers of America® (CTCA) at Southeastern Regional Medical Center</span></td><td role=\"gridcell\">GA</td><td role=\"gridcell\"><span style=\"white-space:pre-line;\">Healthcare Provider</span></td><td role=\"gridcell\">16819</td><td role=\"gridcell\">05/10/2019</td><td role=\"gridcell\"><span style=\"white-space:pre-line;\">Hacking/IT Incident</span></td><td role=\"gridcell\"><span style=\"white-space:pre-line;\">Email</span></td><td role=\"gridcell\" style=\"display: none\"><span style=\"white-space:pre-line;\">No</span></td><td role=\"gridcell\" style=\"display: none\"><span style=\"white-space:pre-line;\"></span></td></tr><tr class=\"ui-widget-content ui-datatable-odd\" data-ri=\"51\" role=\"row\"><td role=\"gridcell\" style=\"width:50px\"><div aria-expanded=\"false\" aria-label=\"Toggle Row\" class=\"ui-row-toggler ui-icon ui-icon-circle-triangle-e\" role=\"button\" tabindex=\"0\"></div></td><td role=\"gridcell\"><span style=\"white-space:pre-line;\">United Seating and Mobility LLC dba Numotion</span></td><td role=\"gridcell\">CT</td><td role=\"gridcell\"><span style=\"white-space:pre-line;\">Healthcare Provider</span></td><td role=\"gridcell\">3578</td><td role=\"gridcell\">05/09/2019</td><td role=\"gridcell\"><span style=\"white-space:pre-line;\">Theft</span></td><td role=\"gridcell\"><span style=\"white-space:pre-line;\">Laptop, Other Portable Electronic Device, Paper/Films</span></td><td role=\"gridcell\" style=\"display: none\"><span style=\"white-space:pre-line;\">No</span></td><td role=\"gridcell\" style=\"display: none\"><span style=\"white-space:pre-line;\"></span></td></tr><tr class=\"ui-widget-content ui-datatable-even\" data-ri=\"52\" role=\"row\"><td role=\"gridcell\" style=\"width:50px\"><div aria-expanded=\"false\" aria-label=\"Toggle Row\" class=\"ui-row-toggler ui-icon ui-icon-circle-triangle-e\" role=\"button\" tabindex=\"0\"></div></td><td role=\"gridcell\"><span style=\"white-space:pre-line;\">Bloodworks Northwest</span></td><td role=\"gridcell\">WA</td><td role=\"gridcell\"><span style=\"white-space:pre-line;\">Healthcare Provider</span></td><td role=\"gridcell\">1893</td><td role=\"gridcell\">05/08/2019</td><td role=\"gridcell\"><span style=\"white-space:pre-line;\">Loss</span></td><td role=\"gridcell\"><span style=\"white-space:pre-line;\">Paper/Films</span></td><td role=\"gridcell\" style=\"display: none\"><span style=\"white-space:pre-line;\">No</span></td><td role=\"gridcell\" style=\"display: none\"><span style=\"white-space:pre-line;\"></span></td></tr><tr class=\"ui-widget-content ui-datatable-odd\" data-ri=\"53\" role=\"row\"><td role=\"gridcell\" style=\"width:50px\"><div aria-expanded=\"false\" aria-label=\"Toggle Row\" class=\"ui-row-toggler ui-icon ui-icon-circle-triangle-e\" role=\"button\" tabindex=\"0\"></div></td><td role=\"gridcell\"><span style=\"white-space:pre-line;\">Independent Health Association, Inc.</span></td><td role=\"gridcell\">NY</td><td role=\"gridcell\"><span style=\"white-space:pre-line;\">Health Plan</span></td><td role=\"gridcell\">7605</td><td role=\"gridcell\">05/08/2019</td><td role=\"gridcell\"><span style=\"white-space:pre-line;\">Unauthorized Access/Disclosure</span></td><td role=\"gridcell\"><span style=\"white-space:pre-line;\">Email</span></td><td role=\"gridcell\" style=\"display: none\"><span style=\"white-space:pre-line;\">No</span></td><td role=\"gridcell\" style=\"display: none\"><span style=\"white-space:pre-line;\"></span></td></tr><tr class=\"ui-widget-content ui-datatable-even\" data-ri=\"54\" role=\"row\"><td role=\"gridcell\" style=\"width:50px\"><div aria-expanded=\"false\" aria-label=\"Toggle Row\" class=\"ui-row-toggler ui-icon ui-icon-circle-triangle-e\" role=\"button\" tabindex=\"0\"></div></td><td role=\"gridcell\"><span style=\"white-space:pre-line;\">Inmediata Health Group, Corp.</span></td><td role=\"gridcell\"></td><td role=\"gridcell\"><span style=\"white-space:pre-line;\">Healthcare Clearing House</span></td><td role=\"gridcell\">1565338</td><td role=\"gridcell\">05/07/2019</td><td role=\"gridcell\"><span style=\"white-space:pre-line;\">Unauthorized Access/Disclosure</span></td><td role=\"gridcell\"><span style=\"white-space:pre-line;\">Network Server</span></td><td role=\"gridcell\" style=\"display: none\"><span style=\"white-space:pre-line;\">No</span></td><td role=\"gridcell\" style=\"display: none\"><span style=\"white-space:pre-line;\"></span></td></tr><tr class=\"ui-widget-content ui-datatable-odd\" data-ri=\"55\" role=\"row\"><td role=\"gridcell\" style=\"width:50px\"><div aria-expanded=\"false\" aria-label=\"Toggle Row\" class=\"ui-row-toggler ui-icon ui-icon-circle-triangle-e\" role=\"button\" tabindex=\"0\"></div></td><td role=\"gridcell\"><span style=\"white-space:pre-line;\">Hospice Care Plus, Inc.</span></td><td role=\"gridcell\">KY</td><td role=\"gridcell\"><span style=\"white-space:pre-line;\">Healthcare Provider</span></td><td role=\"gridcell\">2000</td><td role=\"gridcell\">05/06/2019</td><td role=\"gridcell\"><span style=\"white-space:pre-line;\">Unauthorized Access/Disclosure</span></td><td role=\"gridcell\"><span style=\"white-space:pre-line;\">Laptop</span></td><td role=\"gridcell\" style=\"display: none\"><span style=\"white-space:pre-line;\">No</span></td><td role=\"gridcell\" style=\"display: none\"><span style=\"white-space:pre-line;\"></span></td></tr><tr class=\"ui-widget-content ui-datatable-even\" data-ri=\"56\" role=\"row\"><td role=\"gridcell\" style=\"width:50px\"><div aria-expanded=\"false\" aria-label=\"Toggle Row\" class=\"ui-row-toggler ui-icon ui-icon-circle-triangle-e\" role=\"button\" tabindex=\"0\"></div></td><td role=\"gridcell\"><span style=\"white-space:pre-line;\">American Indian Health &amp; Services, Inc. </span></td><td role=\"gridcell\">CA</td><td role=\"gridcell\"><span style=\"white-space:pre-line;\">Healthcare Provider</span></td><td role=\"gridcell\">3784</td><td role=\"gridcell\">05/06/2019</td><td role=\"gridcell\"><span style=\"white-space:pre-line;\">Unauthorized Access/Disclosure</span></td><td role=\"gridcell\"><span style=\"white-space:pre-line;\">Email</span></td><td role=\"gridcell\" style=\"display: none\"><span style=\"white-space:pre-line;\">No</span></td><td role=\"gridcell\" style=\"display: none\"><span style=\"white-space:pre-line;\"></span></td></tr><tr class=\"ui-widget-content ui-datatable-odd\" data-ri=\"57\" role=\"row\"><td role=\"gridcell\" style=\"width:50px\"><div aria-expanded=\"false\" aria-label=\"Toggle Row\" class=\"ui-row-toggler ui-icon ui-icon-circle-triangle-e\" role=\"button\" tabindex=\"0\"></div></td><td role=\"gridcell\"><span style=\"white-space:pre-line;\">Community Health Network, Inc.</span></td><td role=\"gridcell\">IN</td><td role=\"gridcell\"><span style=\"white-space:pre-line;\">Healthcare Provider</span></td><td role=\"gridcell\">3600</td><td role=\"gridcell\">05/06/2019</td><td role=\"gridcell\"><span style=\"white-space:pre-line;\">Hacking/IT Incident</span></td><td role=\"gridcell\"><span style=\"white-space:pre-line;\">Email</span></td><td role=\"gridcell\" style=\"display: none\"><span style=\"white-space:pre-line;\">No</span></td><td role=\"gridcell\" style=\"display: none\"><span style=\"white-space:pre-line;\"></span></td></tr><tr class=\"ui-widget-content ui-datatable-even\" data-ri=\"58\" role=\"row\"><td role=\"gridcell\" style=\"width:50px\"><div aria-expanded=\"false\" aria-label=\"Toggle Row\" class=\"ui-row-toggler ui-icon ui-icon-circle-triangle-e\" role=\"button\" tabindex=\"0\"></div></td><td role=\"gridcell\"><span style=\"white-space:pre-line;\">American Medical Response, Inc.</span></td><td role=\"gridcell\">TX</td><td role=\"gridcell\"><span style=\"white-space:pre-line;\">Healthcare Provider</span></td><td role=\"gridcell\">4300</td><td role=\"gridcell\">05/06/2019</td><td role=\"gridcell\"><span style=\"white-space:pre-line;\">Hacking/IT Incident</span></td><td role=\"gridcell\"><span style=\"white-space:pre-line;\">Email</span></td><td role=\"gridcell\" style=\"display: none\"><span style=\"white-space:pre-line;\">Yes</span></td><td role=\"gridcell\" style=\"display: none\"><span style=\"white-space:pre-line;\"></span></td></tr><tr class=\"ui-widget-content ui-datatable-odd\" data-ri=\"59\" role=\"row\"><td role=\"gridcell\" style=\"width:50px\"><div aria-expanded=\"false\" aria-label=\"Toggle Row\" class=\"ui-row-toggler ui-icon ui-icon-circle-triangle-e\" role=\"button\" tabindex=\"0\"></div></td><td role=\"gridcell\"><span style=\"white-space:pre-line;\">American Baptist Homes of the Midwest</span></td><td role=\"gridcell\">MN</td><td role=\"gridcell\"><span style=\"white-space:pre-line;\">Healthcare Provider</span></td><td role=\"gridcell\">10993</td><td role=\"gridcell\">05/06/2019</td><td role=\"gridcell\"><span style=\"white-space:pre-line;\">Hacking/IT Incident</span></td><td role=\"gridcell\"><span style=\"white-space:pre-line;\">Email, Network Server</span></td><td role=\"gridcell\" style=\"display: none\"><span style=\"white-space:pre-line;\">No</span></td><td role=\"gridcell\" style=\"display: none\"><span style=\"white-space:pre-line;\"></span></td></tr><tr class=\"ui-widget-content ui-datatable-even\" data-ri=\"60\" role=\"row\"><td role=\"gridcell\" style=\"width:50px\"><div aria-expanded=\"false\" aria-label=\"Toggle Row\" class=\"ui-row-toggler ui-icon ui-icon-circle-triangle-e\" role=\"button\" tabindex=\"0\"></div></td><td role=\"gridcell\"><span style=\"white-space:pre-line;\">Verity Health System of California, Inc.</span></td><td role=\"gridcell\">CA</td><td role=\"gridcell\"><span style=\"white-space:pre-line;\">Business Associate</span></td><td role=\"gridcell\">662</td><td role=\"gridcell\">05/03/2019</td><td role=\"gridcell\"><span style=\"white-space:pre-line;\">Hacking/IT Incident</span></td><td role=\"gridcell\"><span style=\"white-space:pre-line;\">Email</span></td><td role=\"gridcell\" style=\"display: none\"><span style=\"white-space:pre-line;\">Yes</span></td><td role=\"gridcell\" style=\"display: none\"><span style=\"white-space:pre-line;\"></span></td></tr><tr class=\"ui-widget-content ui-datatable-odd\" data-ri=\"61\" role=\"row\"><td role=\"gridcell\" style=\"width:50px\"><div aria-expanded=\"false\" aria-label=\"Toggle Row\" class=\"ui-row-toggler ui-icon ui-icon-circle-triangle-e\" role=\"button\" tabindex=\"0\"></div></td><td role=\"gridcell\"><span style=\"white-space:pre-line;\">Kelsey Research Foundation</span></td><td role=\"gridcell\">TX</td><td role=\"gridcell\"><span style=\"white-space:pre-line;\">Business Associate</span></td><td role=\"gridcell\">1228</td><td role=\"gridcell\">05/03/2019</td><td role=\"gridcell\"><span style=\"white-space:pre-line;\">Unauthorized Access/Disclosure</span></td><td role=\"gridcell\"><span style=\"white-space:pre-line;\">Email</span></td><td role=\"gridcell\" style=\"display: none\"><span style=\"white-space:pre-line;\">Yes</span></td><td role=\"gridcell\" style=\"display: none\"><span style=\"white-space:pre-line;\"></span></td></tr><tr class=\"ui-widget-content ui-datatable-even\" data-ri=\"62\" role=\"row\"><td role=\"gridcell\" style=\"width:50px\"><div aria-expanded=\"false\" aria-label=\"Toggle Row\" class=\"ui-row-toggler ui-icon ui-icon-circle-triangle-e\" role=\"button\" tabindex=\"0\"></div></td><td role=\"gridcell\"><span style=\"white-space:pre-line;\">Inspira Behavioral Care, Corp</span></td><td role=\"gridcell\"></td><td role=\"gridcell\"><span style=\"white-space:pre-line;\">Healthcare Provider</span></td><td role=\"gridcell\">4246</td><td role=\"gridcell\">05/02/2019</td><td role=\"gridcell\"><span style=\"white-space:pre-line;\">Theft</span></td><td role=\"gridcell\"><span style=\"white-space:pre-line;\">Desktop Computer</span></td><td role=\"gridcell\" style=\"display: none\"><span style=\"white-space:pre-line;\">No</span></td><td role=\"gridcell\" style=\"display: none\"><span style=\"white-space:pre-line;\"></span></td></tr><tr class=\"ui-widget-content ui-datatable-odd\" data-ri=\"63\" role=\"row\"><td role=\"gridcell\" style=\"width:50px\"><div aria-expanded=\"false\" aria-label=\"Toggle Row\" class=\"ui-row-toggler ui-icon ui-icon-circle-triangle-e\" role=\"button\" tabindex=\"0\"></div></td><td role=\"gridcell\"><span style=\"white-space:pre-line;\">The Southeastern Council on Alcoholism and Drug Dependence</span></td><td role=\"gridcell\">CT</td><td role=\"gridcell\"><span style=\"white-space:pre-line;\">Healthcare Provider</span></td><td role=\"gridcell\">25148</td><td role=\"gridcell\">05/01/2019</td><td role=\"gridcell\"><span style=\"white-space:pre-line;\">Hacking/IT Incident</span></td><td role=\"gridcell\"><span style=\"white-space:pre-line;\">Network Server</span></td><td role=\"gridcell\" style=\"display: none\"><span style=\"white-space:pre-line;\">No</span></td><td role=\"gridcell\" style=\"display: none\"><span style=\"white-space:pre-line;\"></span></td></tr><tr class=\"ui-widget-content ui-datatable-even\" data-ri=\"64\" role=\"row\"><td role=\"gridcell\" style=\"width:50px\"><div aria-expanded=\"false\" aria-label=\"Toggle Row\" class=\"ui-row-toggler ui-icon ui-icon-circle-triangle-e\" role=\"button\" tabindex=\"0\"></div></td><td role=\"gridcell\"><span style=\"white-space:pre-line;\">AA OBGYN PLLC</span></td><td role=\"gridcell\">TX</td><td role=\"gridcell\"><span style=\"white-space:pre-line;\">Healthcare Provider</span></td><td role=\"gridcell\">930</td><td role=\"gridcell\">04/30/2019</td><td role=\"gridcell\"><span style=\"white-space:pre-line;\">Unauthorized Access/Disclosure</span></td><td role=\"gridcell\"><span style=\"white-space:pre-line;\">Other</span></td><td role=\"gridcell\" style=\"display: none\"><span style=\"white-space:pre-line;\">No</span></td><td role=\"gridcell\" style=\"display: none\"><span style=\"white-space:pre-line;\"></span></td></tr><tr class=\"ui-widget-content ui-datatable-odd\" data-ri=\"65\" role=\"row\"><td role=\"gridcell\" style=\"width:50px\"><div aria-expanded=\"false\" aria-label=\"Toggle Row\" class=\"ui-row-toggler ui-icon ui-icon-circle-triangle-e\" role=\"button\" tabindex=\"0\"></div></td><td role=\"gridcell\"><span style=\"white-space:pre-line;\">The City of Fort Lauderdale</span></td><td role=\"gridcell\">FL</td><td role=\"gridcell\"><span style=\"white-space:pre-line;\">Health Plan</span></td><td role=\"gridcell\">757</td><td role=\"gridcell\">04/29/2019</td><td role=\"gridcell\"><span style=\"white-space:pre-line;\">Unauthorized Access/Disclosure</span></td><td role=\"gridcell\"><span style=\"white-space:pre-line;\">Other</span></td><td role=\"gridcell\" style=\"display: none\"><span style=\"white-space:pre-line;\">No</span></td><td role=\"gridcell\" style=\"display: none\"><span style=\"white-space:pre-line;\"></span></td></tr><tr class=\"ui-widget-content ui-datatable-even\" data-ri=\"66\" role=\"row\"><td role=\"gridcell\" style=\"width:50px\"><div aria-expanded=\"false\" aria-label=\"Toggle Row\" class=\"ui-row-toggler ui-icon ui-icon-circle-triangle-e\" role=\"button\" tabindex=\"0\"></div></td><td role=\"gridcell\"><span style=\"white-space:pre-line;\">Partners In Care</span></td><td role=\"gridcell\">OR</td><td role=\"gridcell\"><span style=\"white-space:pre-line;\">Healthcare Provider</span></td><td role=\"gridcell\">3048</td><td role=\"gridcell\">04/26/2019</td><td role=\"gridcell\"><span style=\"white-space:pre-line;\">Hacking/IT Incident</span></td><td role=\"gridcell\"><span style=\"white-space:pre-line;\">Email</span></td><td role=\"gridcell\" style=\"display: none\"><span style=\"white-space:pre-line;\">No</span></td><td role=\"gridcell\" style=\"display: none\"><span style=\"white-space:pre-line;\"></span></td></tr><tr class=\"ui-widget-content ui-datatable-odd\" data-ri=\"67\" role=\"row\"><td role=\"gridcell\" style=\"width:50px\"><div aria-expanded=\"false\" aria-label=\"Toggle Row\" class=\"ui-row-toggler ui-icon ui-icon-circle-triangle-e\" role=\"button\" tabindex=\"0\"></div></td><td role=\"gridcell\"><span style=\"white-space:pre-line;\">Medical Oncology Hematology Consultants, PA</span></td><td role=\"gridcell\">DE</td><td role=\"gridcell\"><span style=\"white-space:pre-line;\">Healthcare Provider</span></td><td role=\"gridcell\">8591</td><td role=\"gridcell\">04/26/2019</td><td role=\"gridcell\"><span style=\"white-space:pre-line;\">Hacking/IT Incident</span></td><td role=\"gridcell\"><span style=\"white-space:pre-line;\">Email</span></td><td role=\"gridcell\" style=\"display: none\"><span style=\"white-space:pre-line;\">No</span></td><td role=\"gridcell\" style=\"display: none\"><span style=\"white-space:pre-line;\"></span></td></tr><tr class=\"ui-widget-content ui-datatable-even\" data-ri=\"68\" role=\"row\"><td role=\"gridcell\" style=\"width:50px\"><div aria-expanded=\"false\" aria-label=\"Toggle Row\" class=\"ui-row-toggler ui-icon ui-icon-circle-triangle-e\" role=\"button\" tabindex=\"0\"></div></td><td role=\"gridcell\"><span style=\"white-space:pre-line;\">Health Care Service Corporation</span></td><td role=\"gridcell\">IL</td><td role=\"gridcell\"><span style=\"white-space:pre-line;\">Health Plan</span></td><td role=\"gridcell\">676</td><td role=\"gridcell\">04/24/2019</td><td role=\"gridcell\"><span style=\"white-space:pre-line;\">Unauthorized Access/Disclosure</span></td><td role=\"gridcell\"><span style=\"white-space:pre-line;\">Other Portable Electronic Device</span></td><td role=\"gridcell\" style=\"display: none\"><span style=\"white-space:pre-line;\">No</span></td><td role=\"gridcell\" style=\"display: none\"><span style=\"white-space:pre-line;\"></span></td></tr><tr class=\"ui-widget-content ui-datatable-odd\" data-ri=\"69\" role=\"row\"><td role=\"gridcell\" style=\"width:50px\"><div aria-expanded=\"false\" aria-label=\"Toggle Row\" class=\"ui-row-toggler ui-icon ui-icon-circle-triangle-e\" role=\"button\" tabindex=\"0\"></div></td><td role=\"gridcell\"><span style=\"white-space:pre-line;\">Logansport Memorial Hospital</span></td><td role=\"gridcell\">IN</td><td role=\"gridcell\"><span style=\"white-space:pre-line;\">Healthcare Provider</span></td><td role=\"gridcell\">3568</td><td role=\"gridcell\">04/23/2019</td><td role=\"gridcell\"><span style=\"white-space:pre-line;\">Hacking/IT Incident</span></td><td role=\"gridcell\"><span style=\"white-space:pre-line;\">Email</span></td><td role=\"gridcell\" style=\"display: none\"><span style=\"white-space:pre-line;\">No</span></td><td role=\"gridcell\" style=\"display: none\"><span style=\"white-space:pre-line;\"></span></td></tr><tr class=\"ui-widget-content ui-datatable-even\" data-ri=\"70\" role=\"row\"><td role=\"gridcell\" style=\"width:50px\"><div aria-expanded=\"false\" aria-label=\"Toggle Row\" class=\"ui-row-toggler ui-icon ui-icon-circle-triangle-e\" role=\"button\" tabindex=\"0\"></div></td><td role=\"gridcell\"><span style=\"white-space:pre-line;\">Doctors Management Services, Inc.</span></td><td role=\"gridcell\">MA</td><td role=\"gridcell\"><span style=\"white-space:pre-line;\">Business Associate</span></td><td role=\"gridcell\">206695</td><td role=\"gridcell\">04/22/2019</td><td role=\"gridcell\"><span style=\"white-space:pre-line;\">Hacking/IT Incident</span></td><td role=\"gridcell\"><span style=\"white-space:pre-line;\">Network Server</span></td><td role=\"gridcell\" style=\"display: none\"><span style=\"white-space:pre-line;\">Yes</span></td><td role=\"gridcell\" style=\"display: none\"><span style=\"white-space:pre-line;\"></span></td></tr><tr class=\"ui-widget-content ui-datatable-odd\" data-ri=\"71\" role=\"row\"><td role=\"gridcell\" style=\"width:50px\"><div aria-expanded=\"false\" aria-label=\"Toggle Row\" class=\"ui-row-toggler ui-icon ui-icon-circle-triangle-e\" role=\"button\" tabindex=\"0\"></div></td><td role=\"gridcell\"><span style=\"white-space:pre-line;\">LISA ROSE DURSO, M.D. PLLC</span></td><td role=\"gridcell\">NY</td><td role=\"gridcell\"><span style=\"white-space:pre-line;\">Healthcare Provider</span></td><td role=\"gridcell\">537</td><td role=\"gridcell\">04/22/2019</td><td role=\"gridcell\"><span style=\"white-space:pre-line;\">Hacking/IT Incident</span></td><td role=\"gridcell\"><span style=\"white-space:pre-line;\">Network Server</span></td><td role=\"gridcell\" style=\"display: none\"><span style=\"white-space:pre-line;\">No</span></td><td role=\"gridcell\" style=\"display: none\"><span style=\"white-space:pre-line;\"></span></td></tr><tr class=\"ui-widget-content ui-datatable-even\" data-ri=\"72\" role=\"row\"><td role=\"gridcell\" style=\"width:50px\"><div aria-expanded=\"false\" aria-label=\"Toggle Row\" class=\"ui-row-toggler ui-icon ui-icon-circle-triangle-e\" role=\"button\" tabindex=\"0\"></div></td><td role=\"gridcell\"><span style=\"white-space:pre-line;\">Area Agency on Aging and Disabilities of Southwest Washington</span></td><td role=\"gridcell\">WA</td><td role=\"gridcell\"><span style=\"white-space:pre-line;\">Health Plan</span></td><td role=\"gridcell\">7000</td><td role=\"gridcell\">04/22/2019</td><td role=\"gridcell\"><span style=\"white-space:pre-line;\">Unauthorized Access/Disclosure</span></td><td role=\"gridcell\"><span style=\"white-space:pre-line;\">Email</span></td><td role=\"gridcell\" style=\"display: none\"><span style=\"white-space:pre-line;\">No</span></td><td role=\"gridcell\" style=\"display: none\"><span style=\"white-space:pre-line;\"></span></td></tr><tr class=\"ui-widget-content ui-datatable-odd\" data-ri=\"73\" role=\"row\"><td role=\"gridcell\" style=\"width:50px\"><div aria-expanded=\"false\" aria-label=\"Toggle Row\" class=\"ui-row-toggler ui-icon ui-icon-circle-triangle-e\" role=\"button\" tabindex=\"0\"></div></td><td role=\"gridcell\"><span style=\"white-space:pre-line;\">EmCare, Inc.</span></td><td role=\"gridcell\">FL</td><td role=\"gridcell\"><span style=\"white-space:pre-line;\">Healthcare Provider</span></td><td role=\"gridcell\">31236</td><td role=\"gridcell\">04/20/2019</td><td role=\"gridcell\"><span style=\"white-space:pre-line;\">Hacking/IT Incident</span></td><td role=\"gridcell\"><span style=\"white-space:pre-line;\">Email</span></td><td role=\"gridcell\" style=\"display: none\"><span style=\"white-space:pre-line;\">No</span></td><td role=\"gridcell\" style=\"display: none\"><span style=\"white-space:pre-line;\"></span></td></tr><tr class=\"ui-widget-content ui-datatable-even\" data-ri=\"74\" role=\"row\"><td role=\"gridcell\" style=\"width:50px\"><div aria-expanded=\"false\" aria-label=\"Toggle Row\" class=\"ui-row-toggler ui-icon ui-icon-circle-triangle-e\" role=\"button\" tabindex=\"0\"></div></td><td role=\"gridcell\"><span style=\"white-space:pre-line;\">Bodybuilding.com LLC, operated by Vitalize, LLC (“Vitalize, LLC”)</span></td><td role=\"gridcell\">ID</td><td role=\"gridcell\"><span style=\"white-space:pre-line;\">Health Plan</span></td><td role=\"gridcell\">3193</td><td role=\"gridcell\">04/19/2019</td><td role=\"gridcell\"><span style=\"white-space:pre-line;\">Unauthorized Access/Disclosure</span></td><td role=\"gridcell\"><span style=\"white-space:pre-line;\">Network Server</span></td><td role=\"gridcell\" style=\"display: none\"><span style=\"white-space:pre-line;\">No</span></td><td role=\"gridcell\" style=\"display: none\"><span style=\"white-space:pre-line;\"></span></td></tr><tr class=\"ui-widget-content ui-datatable-odd\" data-ri=\"75\" role=\"row\"><td role=\"gridcell\" style=\"width:50px\"><div aria-expanded=\"false\" aria-label=\"Toggle Row\" class=\"ui-row-toggler ui-icon ui-icon-circle-triangle-e\" role=\"button\" tabindex=\"0\"></div></td><td role=\"gridcell\"><span style=\"white-space:pre-line;\">People, Inc.</span></td><td role=\"gridcell\">NY</td><td role=\"gridcell\"><span style=\"white-space:pre-line;\">Healthcare Provider</span></td><td role=\"gridcell\">970</td><td role=\"gridcell\">04/19/2019</td><td role=\"gridcell\"><span style=\"white-space:pre-line;\">Hacking/IT Incident</span></td><td role=\"gridcell\"><span style=\"white-space:pre-line;\">Email</span></td><td role=\"gridcell\" style=\"display: none\"><span style=\"white-space:pre-line;\">No</span></td><td role=\"gridcell\" style=\"display: none\"><span style=\"white-space:pre-line;\"></span></td></tr><tr class=\"ui-widget-content ui-datatable-even\" data-ri=\"76\" role=\"row\"><td role=\"gridcell\" style=\"width:50px\"><div aria-expanded=\"false\" aria-label=\"Toggle Row\" class=\"ui-row-toggler ui-icon ui-icon-circle-triangle-e\" role=\"button\" tabindex=\"0\"></div></td><td role=\"gridcell\"><span style=\"white-space:pre-line;\">Blue Cross of Idaho Health Service, Inc.</span></td><td role=\"gridcell\">ID</td><td role=\"gridcell\"><span style=\"white-space:pre-line;\">Health Plan</span></td><td role=\"gridcell\">6045</td><td role=\"gridcell\">04/19/2019</td><td role=\"gridcell\"><span style=\"white-space:pre-line;\">Unauthorized Access/Disclosure</span></td><td role=\"gridcell\"><span style=\"white-space:pre-line;\">Other</span></td><td role=\"gridcell\" style=\"display: none\"><span style=\"white-space:pre-line;\">No</span></td><td role=\"gridcell\" style=\"display: none\"><span style=\"white-space:pre-line;\"></span></td></tr><tr class=\"ui-widget-content ui-datatable-odd\" data-ri=\"77\" role=\"row\"><td role=\"gridcell\" style=\"width:50px\"><div aria-expanded=\"false\" aria-label=\"Toggle Row\" class=\"ui-row-toggler ui-icon ui-icon-circle-triangle-e\" role=\"button\" tabindex=\"0\"></div></td><td role=\"gridcell\"><span style=\"white-space:pre-line;\">Partners For Quality, Inc. </span></td><td role=\"gridcell\">PA</td><td role=\"gridcell\"><span style=\"white-space:pre-line;\">Healthcare Provider</span></td><td role=\"gridcell\">3673</td><td role=\"gridcell\">04/19/2019</td><td role=\"gridcell\"><span style=\"white-space:pre-line;\">Hacking/IT Incident</span></td><td role=\"gridcell\"><span style=\"white-space:pre-line;\">Email</span></td><td role=\"gridcell\" style=\"display: none\"><span style=\"white-space:pre-line;\">No</span></td><td role=\"gridcell\" style=\"display: none\"><span style=\"white-space:pre-line;\"></span></td></tr><tr class=\"ui-widget-content ui-datatable-even\" data-ri=\"78\" role=\"row\"><td role=\"gridcell\" style=\"width:50px\"><div aria-expanded=\"false\" aria-label=\"Toggle Row\" class=\"ui-row-toggler ui-icon ui-icon-circle-triangle-e\" role=\"button\" tabindex=\"0\"></div></td><td role=\"gridcell\"><span style=\"white-space:pre-line;\">KIM P. KORNEGAY, DMD</span></td><td role=\"gridcell\">AL</td><td role=\"gridcell\"><span style=\"white-space:pre-line;\">Healthcare Provider</span></td><td role=\"gridcell\">27000</td><td role=\"gridcell\">04/19/2019</td><td role=\"gridcell\"><span style=\"white-space:pre-line;\">Theft</span></td><td role=\"gridcell\"><span style=\"white-space:pre-line;\">Desktop Computer, Electronic Medical Record, Paper/Films</span></td><td role=\"gridcell\" style=\"display: none\"><span style=\"white-space:pre-line;\">No</span></td><td role=\"gridcell\" style=\"display: none\"><span style=\"white-space:pre-line;\"></span></td></tr><tr class=\"ui-widget-content ui-datatable-odd\" data-ri=\"79\" role=\"row\"><td role=\"gridcell\" style=\"width:50px\"><div aria-expanded=\"false\" aria-label=\"Toggle Row\" class=\"ui-row-toggler ui-icon ui-icon-circle-triangle-e\" role=\"button\" tabindex=\"0\"></div></td><td role=\"gridcell\"><span style=\"white-space:pre-line;\">AltaMed Health Services Corporation</span></td><td role=\"gridcell\">CA</td><td role=\"gridcell\"><span style=\"white-space:pre-line;\">Healthcare Provider</span></td><td role=\"gridcell\">5500</td><td role=\"gridcell\">04/18/2019</td><td role=\"gridcell\"><span style=\"white-space:pre-line;\">Hacking/IT Incident</span></td><td role=\"gridcell\"><span style=\"white-space:pre-line;\">Network Server</span></td><td role=\"gridcell\" style=\"display: none\"><span style=\"white-space:pre-line;\">Yes</span></td><td role=\"gridcell\" style=\"display: none\"><span style=\"white-space:pre-line;\"></span></td></tr><tr class=\"ui-widget-content ui-datatable-even\" data-ri=\"80\" role=\"row\"><td role=\"gridcell\" style=\"width:50px\"><div aria-expanded=\"false\" aria-label=\"Toggle Row\" class=\"ui-row-toggler ui-icon ui-icon-circle-triangle-e\" role=\"button\" tabindex=\"0\"></div></td><td role=\"gridcell\"><span style=\"white-space:pre-line;\">Pediatric Orthopedic Specialties, PA, dba ActivYouth Orthopaedics</span></td><td role=\"gridcell\">NJ</td><td role=\"gridcell\"><span style=\"white-space:pre-line;\">Healthcare Provider</span></td><td role=\"gridcell\">24176</td><td role=\"gridcell\">04/18/2019</td><td role=\"gridcell\"><span style=\"white-space:pre-line;\">Hacking/IT Incident</span></td><td role=\"gridcell\"><span style=\"white-space:pre-line;\">Network Server</span></td><td role=\"gridcell\" style=\"display: none\"><span style=\"white-space:pre-line;\">No</span></td><td role=\"gridcell\" style=\"display: none\"><span style=\"white-space:pre-line;\"></span></td></tr><tr class=\"ui-widget-content ui-datatable-odd\" data-ri=\"81\" role=\"row\"><td role=\"gridcell\" style=\"width:50px\"><div aria-expanded=\"false\" aria-label=\"Toggle Row\" class=\"ui-row-toggler ui-icon ui-icon-circle-triangle-e\" role=\"button\" tabindex=\"0\"></div></td><td role=\"gridcell\"><span style=\"white-space:pre-line;\">Gary W Peer MD</span></td><td role=\"gridcell\">CA</td><td role=\"gridcell\"><span style=\"white-space:pre-line;\">Healthcare Provider</span></td><td role=\"gridcell\">3400</td><td role=\"gridcell\">04/18/2019</td><td role=\"gridcell\"><span style=\"white-space:pre-line;\">Hacking/IT Incident</span></td><td role=\"gridcell\"><span style=\"white-space:pre-line;\">Network Server</span></td><td role=\"gridcell\" style=\"display: none\"><span style=\"white-space:pre-line;\">No</span></td><td role=\"gridcell\" style=\"display: none\"><span style=\"white-space:pre-line;\"></span></td></tr><tr class=\"ui-widget-content ui-datatable-even\" data-ri=\"82\" role=\"row\"><td role=\"gridcell\" style=\"width:50px\"><div aria-expanded=\"false\" aria-label=\"Toggle Row\" class=\"ui-row-toggler ui-icon ui-icon-circle-triangle-e\" role=\"button\" tabindex=\"0\"></div></td><td role=\"gridcell\"><span style=\"white-space:pre-line;\">ELENA MARIA BURUIANA PHYSICIAN P.C.</span></td><td role=\"gridcell\">NY</td><td role=\"gridcell\"><span style=\"white-space:pre-line;\">Healthcare Provider</span></td><td role=\"gridcell\">1308</td><td role=\"gridcell\">04/18/2019</td><td role=\"gridcell\"><span style=\"white-space:pre-line;\">Hacking/IT Incident</span></td><td role=\"gridcell\"><span style=\"white-space:pre-line;\">Network Server</span></td><td role=\"gridcell\" style=\"display: none\"><span style=\"white-space:pre-line;\">No</span></td><td role=\"gridcell\" style=\"display: none\"><span style=\"white-space:pre-line;\"></span></td></tr><tr class=\"ui-widget-content ui-datatable-odd\" data-ri=\"83\" role=\"row\"><td role=\"gridcell\" style=\"width:50px\"><div aria-expanded=\"false\" aria-label=\"Toggle Row\" class=\"ui-row-toggler ui-icon ui-icon-circle-triangle-e\" role=\"button\" tabindex=\"0\"></div></td><td role=\"gridcell\"><span style=\"white-space:pre-line;\">Madison Parish Hospital Service District</span></td><td role=\"gridcell\">LA</td><td role=\"gridcell\"><span style=\"white-space:pre-line;\">Healthcare Provider</span></td><td role=\"gridcell\">1436</td><td role=\"gridcell\">04/18/2019</td><td role=\"gridcell\"><span style=\"white-space:pre-line;\">Unauthorized Access/Disclosure</span></td><td role=\"gridcell\"><span style=\"white-space:pre-line;\">Desktop Computer, Email</span></td><td role=\"gridcell\" style=\"display: none\"><span style=\"white-space:pre-line;\">No</span></td><td role=\"gridcell\" style=\"display: none\"><span style=\"white-space:pre-line;\"></span></td></tr><tr class=\"ui-widget-content ui-datatable-even\" data-ri=\"84\" role=\"row\"><td role=\"gridcell\" style=\"width:50px\"><div aria-expanded=\"false\" aria-label=\"Toggle Row\" class=\"ui-row-toggler ui-icon ui-icon-circle-triangle-e\" role=\"button\" tabindex=\"0\"></div></td><td role=\"gridcell\"><span style=\"white-space:pre-line;\">Alana Healthcare</span></td><td role=\"gridcell\">TN</td><td role=\"gridcell\"><span style=\"white-space:pre-line;\">Healthcare Provider</span></td><td role=\"gridcell\">2691</td><td role=\"gridcell\">04/18/2019</td><td role=\"gridcell\"><span style=\"white-space:pre-line;\">Hacking/IT Incident</span></td><td role=\"gridcell\"><span style=\"white-space:pre-line;\">Email</span></td><td role=\"gridcell\" style=\"display: none\"><span style=\"white-space:pre-line;\">No</span></td><td role=\"gridcell\" style=\"display: none\"><span style=\"white-space:pre-line;\"></span></td></tr><tr class=\"ui-widget-content ui-datatable-odd\" data-ri=\"85\" role=\"row\"><td role=\"gridcell\" style=\"width:50px\"><div aria-expanded=\"false\" aria-label=\"Toggle Row\" class=\"ui-row-toggler ui-icon ui-icon-circle-triangle-e\" role=\"button\" tabindex=\"0\"></div></td><td role=\"gridcell\"><span style=\"white-space:pre-line;\">Center for Sight &amp; Hearing</span></td><td role=\"gridcell\">IL</td><td role=\"gridcell\"><span style=\"white-space:pre-line;\">Healthcare Provider</span></td><td role=\"gridcell\">5319</td><td role=\"gridcell\">04/18/2019</td><td role=\"gridcell\"><span style=\"white-space:pre-line;\">Hacking/IT Incident</span></td><td role=\"gridcell\"><span style=\"white-space:pre-line;\">Email</span></td><td role=\"gridcell\" style=\"display: none\"><span style=\"white-space:pre-line;\">No</span></td><td role=\"gridcell\" style=\"display: none\"><span style=\"white-space:pre-line;\"></span></td></tr><tr class=\"ui-widget-content ui-datatable-even\" data-ri=\"86\" role=\"row\"><td role=\"gridcell\" style=\"width:50px\"><div aria-expanded=\"false\" aria-label=\"Toggle Row\" class=\"ui-row-toggler ui-icon ui-icon-circle-triangle-e\" role=\"button\" tabindex=\"0\"></div></td><td role=\"gridcell\"><span style=\"white-space:pre-line;\">Centrelake Medical Group, Inc.</span></td><td role=\"gridcell\">CA</td><td role=\"gridcell\"><span style=\"white-space:pre-line;\">Healthcare Provider</span></td><td role=\"gridcell\">197661</td><td role=\"gridcell\">04/16/2019</td><td role=\"gridcell\"><span style=\"white-space:pre-line;\">Hacking/IT Incident</span></td><td role=\"gridcell\"><span style=\"white-space:pre-line;\">Network Server</span></td><td role=\"gridcell\" style=\"display: none\"><span style=\"white-space:pre-line;\">No</span></td><td role=\"gridcell\" style=\"display: none\"><span style=\"white-space:pre-line;\"></span></td></tr><tr class=\"ui-widget-content ui-datatable-odd\" data-ri=\"87\" role=\"row\"><td role=\"gridcell\" style=\"width:50px\"><div aria-expanded=\"false\" aria-label=\"Toggle Row\" class=\"ui-row-toggler ui-icon ui-icon-circle-triangle-e\" role=\"button\" tabindex=\"0\"></div></td><td role=\"gridcell\"><span style=\"white-space:pre-line;\">Gardner Family Health Network</span></td><td role=\"gridcell\">CA</td><td role=\"gridcell\"><span style=\"white-space:pre-line;\">Healthcare Provider</span></td><td role=\"gridcell\">5064</td><td role=\"gridcell\">04/16/2019</td><td role=\"gridcell\"><span style=\"white-space:pre-line;\">Unauthorized Access/Disclosure</span></td><td role=\"gridcell\"><span style=\"white-space:pre-line;\">Paper/Films</span></td><td role=\"gridcell\" style=\"display: none\"><span style=\"white-space:pre-line;\">No</span></td><td role=\"gridcell\" style=\"display: none\"><span style=\"white-space:pre-line;\"></span></td></tr><tr class=\"ui-widget-content ui-datatable-even\" data-ri=\"88\" role=\"row\"><td role=\"gridcell\" style=\"width:50px\"><div aria-expanded=\"false\" aria-label=\"Toggle Row\" class=\"ui-row-toggler ui-icon ui-icon-circle-triangle-e\" role=\"button\" tabindex=\"0\"></div></td><td role=\"gridcell\"><span style=\"white-space:pre-line;\">Tower Imaging, LLC</span></td><td role=\"gridcell\">FL</td><td role=\"gridcell\"><span style=\"white-space:pre-line;\">Healthcare Provider</span></td><td role=\"gridcell\">810</td><td role=\"gridcell\">04/16/2019</td><td role=\"gridcell\"><span style=\"white-space:pre-line;\">Theft</span></td><td role=\"gridcell\"><span style=\"white-space:pre-line;\">Laptop</span></td><td role=\"gridcell\" style=\"display: none\"><span style=\"white-space:pre-line;\">No</span></td><td role=\"gridcell\" style=\"display: none\"><span style=\"white-space:pre-line;\"></span></td></tr><tr class=\"ui-widget-content ui-datatable-odd\" data-ri=\"89\" role=\"row\"><td role=\"gridcell\" style=\"width:50px\"><div aria-expanded=\"false\" aria-label=\"Toggle Row\" class=\"ui-row-toggler ui-icon ui-icon-circle-triangle-e\" role=\"button\" tabindex=\"0\"></div></td><td role=\"gridcell\"><span style=\"white-space:pre-line;\">Delta Dental of Illinois</span></td><td role=\"gridcell\">IL</td><td role=\"gridcell\"><span style=\"white-space:pre-line;\">Health Plan</span></td><td role=\"gridcell\">5092</td><td role=\"gridcell\">04/16/2019</td><td role=\"gridcell\"><span style=\"white-space:pre-line;\">Hacking/IT Incident</span></td><td role=\"gridcell\"><span style=\"white-space:pre-line;\">Email</span></td><td role=\"gridcell\" style=\"display: none\"><span style=\"white-space:pre-line;\">No</span></td><td role=\"gridcell\" style=\"display: none\"><span style=\"white-space:pre-line;\"></span></td></tr><tr class=\"ui-widget-content ui-datatable-even\" data-ri=\"90\" role=\"row\"><td role=\"gridcell\" style=\"width:50px\"><div aria-expanded=\"false\" aria-label=\"Toggle Row\" class=\"ui-row-toggler ui-icon ui-icon-circle-triangle-e\" role=\"button\" tabindex=\"0\"></div></td><td role=\"gridcell\"><span style=\"white-space:pre-line;\">Minnesota Eye Consultants</span></td><td role=\"gridcell\">MN</td><td role=\"gridcell\"><span style=\"white-space:pre-line;\">Healthcare Provider</span></td><td role=\"gridcell\">4556</td><td role=\"gridcell\">04/16/2019</td><td role=\"gridcell\"><span style=\"white-space:pre-line;\">Improper Disposal</span></td><td role=\"gridcell\"><span style=\"white-space:pre-line;\">Paper/Films</span></td><td role=\"gridcell\" style=\"display: none\"><span style=\"white-space:pre-line;\">No</span></td><td role=\"gridcell\" style=\"display: none\"><span style=\"white-space:pre-line;\"></span></td></tr><tr class=\"ui-widget-content ui-datatable-odd\" data-ri=\"91\" role=\"row\"><td role=\"gridcell\" style=\"width:50px\"><div aria-expanded=\"false\" aria-label=\"Toggle Row\" class=\"ui-row-toggler ui-icon ui-icon-circle-triangle-e\" role=\"button\" tabindex=\"0\"></div></td><td role=\"gridcell\"><span style=\"white-space:pre-line;\">National Seating &amp; Mobility, Inc. </span></td><td role=\"gridcell\">TN</td><td role=\"gridcell\"><span style=\"white-space:pre-line;\">Healthcare Provider</span></td><td role=\"gridcell\">3800</td><td role=\"gridcell\">04/15/2019</td><td role=\"gridcell\"><span style=\"white-space:pre-line;\">Hacking/IT Incident</span></td><td role=\"gridcell\"><span style=\"white-space:pre-line;\">Email</span></td><td role=\"gridcell\" style=\"display: none\"><span style=\"white-space:pre-line;\">No</span></td><td role=\"gridcell\" style=\"display: none\"><span style=\"white-space:pre-line;\"></span></td></tr><tr class=\"ui-widget-content ui-datatable-even\" data-ri=\"92\" role=\"row\"><td role=\"gridcell\" style=\"width:50px\"><div aria-expanded=\"false\" aria-label=\"Toggle Row\" class=\"ui-row-toggler ui-icon ui-icon-circle-triangle-e\" role=\"button\" tabindex=\"0\"></div></td><td role=\"gridcell\"><span style=\"white-space:pre-line;\">Metro Santurce, Inc. d/b/a Hospital Pavia Santurce and Metro Hato Rey, Inc. d/b/a Hospital Pavia Hato Rey</span></td><td role=\"gridcell\"></td><td role=\"gridcell\"><span style=\"white-space:pre-line;\">Healthcare Provider</span></td><td role=\"gridcell\">305737</td><td role=\"gridcell\">04/13/2019</td><td role=\"gridcell\"><span style=\"white-space:pre-line;\">Hacking/IT Incident</span></td><td role=\"gridcell\"><span style=\"white-space:pre-line;\">Network Server</span></td><td role=\"gridcell\" style=\"display: none\"><span style=\"white-space:pre-line;\">No</span></td><td role=\"gridcell\" style=\"display: none\"><span style=\"white-space:pre-line;\"></span></td></tr><tr class=\"ui-widget-content ui-datatable-odd\" data-ri=\"93\" role=\"row\"><td role=\"gridcell\" style=\"width:50px\"><div aria-expanded=\"false\" aria-label=\"Toggle Row\" class=\"ui-row-toggler ui-icon ui-icon-circle-triangle-e\" role=\"button\" tabindex=\"0\"></div></td><td role=\"gridcell\"><span style=\"white-space:pre-line;\">Mid-Cities Home Medical Delivery Service, LLC</span></td><td role=\"gridcell\">TX</td><td role=\"gridcell\"><span style=\"white-space:pre-line;\">Healthcare Provider</span></td><td role=\"gridcell\">4000</td><td role=\"gridcell\">04/12/2019</td><td role=\"gridcell\"><span style=\"white-space:pre-line;\">Loss</span></td><td role=\"gridcell\"><span style=\"white-space:pre-line;\">Paper/Films</span></td><td role=\"gridcell\" style=\"display: none\"><span style=\"white-space:pre-line;\">No</span></td><td role=\"gridcell\" style=\"display: none\"><span style=\"white-space:pre-line;\"></span></td></tr><tr class=\"ui-widget-content ui-datatable-even\" data-ri=\"94\" role=\"row\"><td role=\"gridcell\" style=\"width:50px\"><div aria-expanded=\"false\" aria-label=\"Toggle Row\" class=\"ui-row-toggler ui-icon ui-icon-circle-triangle-e\" role=\"button\" tabindex=\"0\"></div></td><td role=\"gridcell\"><span style=\"white-space:pre-line;\">Harbor</span></td><td role=\"gridcell\">OH</td><td role=\"gridcell\"><span style=\"white-space:pre-line;\">Healthcare Provider</span></td><td role=\"gridcell\">2290</td><td role=\"gridcell\">04/12/2019</td><td role=\"gridcell\"><span style=\"white-space:pre-line;\">Hacking/IT Incident</span></td><td role=\"gridcell\"><span style=\"white-space:pre-line;\">Email</span></td><td role=\"gridcell\" style=\"display: none\"><span style=\"white-space:pre-line;\">No</span></td><td role=\"gridcell\" style=\"display: none\"><span style=\"white-space:pre-line;\"></span></td></tr><tr class=\"ui-widget-content ui-datatable-odd\" data-ri=\"95\" role=\"row\"><td role=\"gridcell\" style=\"width:50px\"><div aria-expanded=\"false\" aria-label=\"Toggle Row\" class=\"ui-row-toggler ui-icon ui-icon-circle-triangle-e\" role=\"button\" tabindex=\"0\"></div></td><td role=\"gridcell\"><span style=\"white-space:pre-line;\">Questcare Medical Services, PLLC</span></td><td role=\"gridcell\">TX</td><td role=\"gridcell\"><span style=\"white-space:pre-line;\">Healthcare Provider</span></td><td role=\"gridcell\">5573</td><td role=\"gridcell\">04/12/2019</td><td role=\"gridcell\"><span style=\"white-space:pre-line;\">Hacking/IT Incident</span></td><td role=\"gridcell\"><span style=\"white-space:pre-line;\">Email</span></td><td role=\"gridcell\" style=\"display: none\"><span style=\"white-space:pre-line;\">No</span></td><td role=\"gridcell\" style=\"display: none\"><span style=\"white-space:pre-line;\"></span></td></tr><tr class=\"ui-widget-content ui-datatable-even\" data-ri=\"96\" role=\"row\"><td role=\"gridcell\" style=\"width:50px\"><div aria-expanded=\"false\" aria-label=\"Toggle Row\" class=\"ui-row-toggler ui-icon ui-icon-circle-triangle-e\" role=\"button\" tabindex=\"0\"></div></td><td role=\"gridcell\"><span style=\"white-space:pre-line;\">Dakota County</span></td><td role=\"gridcell\">MN</td><td role=\"gridcell\"><span style=\"white-space:pre-line;\">Healthcare Provider</span></td><td role=\"gridcell\">1026</td><td role=\"gridcell\">04/12/2019</td><td role=\"gridcell\"><span style=\"white-space:pre-line;\">Hacking/IT Incident</span></td><td role=\"gridcell\"><span style=\"white-space:pre-line;\">Email</span></td><td role=\"gridcell\" style=\"display: none\"><span style=\"white-space:pre-line;\">No</span></td><td role=\"gridcell\" style=\"display: none\"><span style=\"white-space:pre-line;\"></span></td></tr><tr class=\"ui-widget-content ui-datatable-odd\" data-ri=\"97\" role=\"row\"><td role=\"gridcell\" style=\"width:50px\"><div aria-expanded=\"false\" aria-label=\"Toggle Row\" class=\"ui-row-toggler ui-icon ui-icon-circle-triangle-e\" role=\"button\" tabindex=\"0\"></div></td><td role=\"gridcell\"><span style=\"white-space:pre-line;\">Riverplace Counseling Center, Inc.</span></td><td role=\"gridcell\">MN</td><td role=\"gridcell\"><span style=\"white-space:pre-line;\">Healthcare Provider</span></td><td role=\"gridcell\">11639</td><td role=\"gridcell\">04/11/2019</td><td role=\"gridcell\"><span style=\"white-space:pre-line;\">Hacking/IT Incident</span></td><td role=\"gridcell\"><span style=\"white-space:pre-line;\">Network Server</span></td><td role=\"gridcell\" style=\"display: none\"><span style=\"white-space:pre-line;\">No</span></td><td role=\"gridcell\" style=\"display: none\"><span style=\"white-space:pre-line;\"></span></td></tr><tr class=\"ui-widget-content ui-datatable-even\" data-ri=\"98\" role=\"row\"><td role=\"gridcell\" style=\"width:50px\"><div aria-expanded=\"false\" aria-label=\"Toggle Row\" class=\"ui-row-toggler ui-icon ui-icon-circle-triangle-e\" role=\"button\" tabindex=\"0\"></div></td><td role=\"gridcell\"><span style=\"white-space:pre-line;\">Martinsburg VA Medical Center</span></td><td role=\"gridcell\">WV</td><td role=\"gridcell\"><span style=\"white-space:pre-line;\">Healthcare Provider</span></td><td role=\"gridcell\">4882</td><td role=\"gridcell\">04/11/2019</td><td role=\"gridcell\"><span style=\"white-space:pre-line;\">Unauthorized Access/Disclosure</span></td><td role=\"gridcell\"><span style=\"white-space:pre-line;\">Paper/Films</span></td><td role=\"gridcell\" style=\"display: none\"><span style=\"white-space:pre-line;\">No</span></td><td role=\"gridcell\" style=\"display: none\"><span style=\"white-space:pre-line;\"></span></td></tr><tr class=\"ui-widget-content ui-datatable-odd\" data-ri=\"99\" role=\"row\"><td role=\"gridcell\" style=\"width:50px\"><div aria-expanded=\"false\" aria-label=\"Toggle Row\" class=\"ui-row-toggler ui-icon ui-icon-circle-triangle-e\" role=\"button\" tabindex=\"0\"></div></td><td role=\"gridcell\"><span style=\"white-space:pre-line;\">Minnesota Department of Human Services</span></td><td role=\"gridcell\">MN</td><td role=\"gridcell\"><span style=\"white-space:pre-line;\">Healthcare Provider</span></td><td role=\"gridcell\">10263</td><td role=\"gridcell\">04/09/2019</td><td role=\"gridcell\"><span style=\"white-space:pre-line;\">Hacking/IT Incident</span></td><td role=\"gridcell\"><span style=\"white-space:pre-line;\">Email</span></td><td role=\"gridcell\" style=\"display: none\"><span style=\"white-space:pre-line;\">No</span></td><td role=\"gridcell\" style=\"display: none\"><span style=\"white-space:pre-line;\"></span></td></tr></tbody></table></div><div aria-label=\"Pagination\" class=\"ui-paginator ui-paginator-bottom ui-widget-header ui-corner-bottom\" id=\"ocrForm:reportResultTable_paginator_bottom\" role=\"navigation\"><span class=\"ui-paginator-current\">(Displaying 1 - 100 of 493)</span> <a aria-label=\"First Page\" class=\"ui-paginator-first ui-state-default ui-corner-all ui-state-disabled\" href=\"#\" tabindex=\"-1\"><span class=\"ui-icon ui-icon-seek-first\">F</span></a><a aria-label=\"Previous Page\" class=\"ui-paginator-prev ui-state-default ui-corner-all ui-state-disabled\" href=\"#\" tabindex=\"-1\"><span class=\"ui-icon ui-icon-seek-prev\">P</span></a><span class=\"ui-paginator-pages\"><a class=\"ui-paginator-page ui-state-default ui-state-active ui-corner-all\" href=\"#\" tabindex=\"0\">1</a><a class=\"ui-paginator-page ui-state-default ui-corner-all\" href=\"#\" tabindex=\"0\">2</a><a class=\"ui-paginator-page ui-state-default ui-corner-all\" href=\"#\" tabindex=\"0\">3</a><a class=\"ui-paginator-page ui-state-default ui-corner-all\" href=\"#\" tabindex=\"0\">4</a><a class=\"ui-paginator-page ui-state-default ui-corner-all\" href=\"#\" tabindex=\"0\">5</a></span><a aria-label=\"Next Page\" class=\"ui-paginator-next ui-state-default ui-corner-all\" href=\"#\" tabindex=\"0\"><span class=\"ui-icon ui-icon-seek-next\">N</span></a><a aria-label=\"Last Page\" class=\"ui-paginator-last ui-state-default ui-corner-all\" href=\"#\" tabindex=\"0\"><span class=\"ui-icon ui-icon-seek-end\">E</span></a><label class=\"ui-paginator-rpp-label ui-helper-hidden\" for=\"ocrForm:reportResultTable:j_id2\" id=\"ocrForm:reportResultTable_rppLabel\">Rows Per Page</label><select aria-labelledby=\"ocrForm:reportResultTable_rppLabel\" autocomplete=\"off\" class=\"ui-paginator-rpp-options ui-widget ui-state-default ui-corner-left\" id=\"ocrForm:reportResultTable:j_id2\" name=\"ocrForm:reportResultTable_rppDD\" value=\"100\"><option value=\"10\">10</option><option value=\"20\">20</option><option value=\"50\">50</option><option selected=\"selected\" value=\"100\">100</option></select></div></div><script id=\"ocrForm:reportResultTable_s\" type=\"text/javascript\">$(function(){PrimeFaces.cw(\"DataTable\",\"widget_ocrForm_reportResultTable\",{id:\"ocrForm:reportResultTable\",paginator:{id:['ocrForm:reportResultTable_paginator_bottom'],rows:100,rowCount:493,page:0,currentPageTemplate:'(Displaying {startRecord} - {endRecord} of {totalRecords})'},expansion:true,rowExpandMode:\"multiple\",groupColumnIndexes:[],behaviors:{page:function(ext,event) {PrimeFaces.ab({s:\"ocrForm:reportResultTable\",e:\"page\",p:\"ocrForm:reportResultTable\"},ext);}}});});</script></span></span><div class=\"ui-dialog ui-widget ui-widget-content ui-corner-all ui-shadow ui-hidden-container\" id=\"ocrForm:waitDlg\"><div class=\"ui-dialog-content ui-widget-content\"><span id=\"ocrForm:waitDlg_title\"></span>We are generating the report for you. Please wait......</div></div><script id=\"ocrForm:waitDlg_s\" type=\"text/javascript\">$(function(){PrimeFaces.cw(\"Dialog\",\"waitDlgVar\",{id:\"ocrForm:waitDlg\",resizable:false,modal:true});});</script><input autocomplete=\"off\" id=\"j_id1:javax.faces.ViewState:1\" name=\"javax.faces.ViewState\" type=\"hidden\" value=\"-1375118855781670739:3296133768900446413\"/>\n",
      "</form>\n",
      "</div>\n",
      "</div>\n",
      "</div>\n",
      "<div>  </div>\n",
      "<div id=\"footerNew\">\n",
      "<div id=\"footerContent\">\n",
      "            U.S. Department of Health &amp; Human Services - 200 Independence Avenue, S.W. - Washington, D.C. 20201\n",
      "            <br/><span style=\"color : #4d4947\">OCR Portal CS10.5 Production Server (Port1). Build Date: 05/22/2019 22:45</span>\n",
      "</div>\n",
      "<div id=\"footerPadding\"></div>\n",
      "</div>\n",
      "</div></body>\n",
      "</html>\n"
     ]
    }
   ],
   "source": [
    "print(type(soup), '\\n', soup)"
   ]
  },
  {
   "cell_type": "markdown",
   "metadata": {},
   "source": [
    "# Step 4 - Parse the Breach data\n",
    "\n",
    "After inspecting the page we found that ```<td role=\"gridcell\">``` usually precedes the breach records.\n",
    "\n",
    "### 4.a find the gridcells and store in a variable named \n",
    "\n",
    "```gridCell```"
   ]
  },
  {
   "cell_type": "code",
   "execution_count": 8,
   "metadata": {},
   "outputs": [],
   "source": [
    "gridCells = soup.find_all(role=\"gridcell\")"
   ]
  },
  {
   "cell_type": "code",
   "execution_count": 11,
   "metadata": {},
   "outputs": [
    {
     "name": "stdout",
     "output_type": "stream",
     "text": [
      "[<td class=\"ui-panelgrid-cell\" colspan=\"4\" role=\"gridcell\">As required by section 13402(e)(4) of the HITECH Act, the Secretary must post a list of breaches of unsecured protected health information affecting 500 or more individuals. The following breaches have been reported to the Secretary:\n",
      "\t\t\t\t<br/><br/><span style=\"font-size: 1.5em; font-weight: bold\">Cases Currently Under Investigation</span></td>, <td class=\"ui-panelgrid-cell\" colspan=\"4\" role=\"gridcell\">This page lists all breaches reported within the last 24 months that are currently under investigation by the Office for Civil Rights.</td>]\n"
     ]
    }
   ],
   "source": [
    "print(gridCells[:2])"
   ]
  },
  {
   "cell_type": "code",
   "execution_count": 9,
   "metadata": {},
   "outputs": [],
   "source": [
    "tr = soup.find_all('tr')"
   ]
  },
  {
   "cell_type": "code",
   "execution_count": 10,
   "metadata": {},
   "outputs": [
    {
     "data": {
      "text/plain": [
       "104"
      ]
     },
     "execution_count": 10,
     "metadata": {},
     "output_type": "execute_result"
    }
   ],
   "source": [
    "len(tr)"
   ]
  },
  {
   "cell_type": "markdown",
   "metadata": {},
   "source": [
    "### 4.b display the gridCells to inspect"
   ]
  },
  {
   "cell_type": "code",
   "execution_count": 11,
   "metadata": {},
   "outputs": [
    {
     "data": {
      "text/plain": [
       "<td class=\"ui-panelgrid-cell\" colspan=\"4\" role=\"gridcell\">As required by section 13402(e)(4) of the HITECH Act, the Secretary must post a list of breaches of unsecured protected health information affecting 500 or more individuals. The following breaches have been reported to the Secretary:\n",
       "\t\t\t\t<br/><br/><span style=\"font-size: 1.5em; font-weight: bold\">Cases Currently Under Investigation</span></td>"
      ]
     },
     "execution_count": 11,
     "metadata": {},
     "output_type": "execute_result"
    }
   ],
   "source": [
    "gridCells[0]"
   ]
  },
  {
   "cell_type": "code",
   "execution_count": 12,
   "metadata": {},
   "outputs": [
    {
     "data": {
      "text/plain": [
       "<td role=\"gridcell\" style=\"display: none\"><span style=\"white-space:pre-line;\"></span></td>"
      ]
     },
     "execution_count": 12,
     "metadata": {},
     "output_type": "execute_result"
    }
   ],
   "source": [
    "gridCells[-1]"
   ]
  },
  {
   "cell_type": "markdown",
   "metadata": {},
   "source": [
    "We've decided that we want to store the contents of the breach data into lists named:\n",
    "\n",
    "```\n",
    "singleBreachList - contains the tokenized breach data from the web page\n",
    "```\n",
    "\n",
    "We'll use singleBreachList to construct the following lists\n",
    "\n",
    "```\n",
    "nameCoveredEntityList             - singleBreachList item 0\n",
    "stateList                         - singleBreachList item 1\n",
    "coveredEntityTypeList             - singleBreachList item 2\n",
    "affectIndividualsList             - singleBreachList item 3\n",
    "breachSubmittedDateList           - singleBreachList item 4\n",
    "typeOfBreachList                  - singleBreachList item 5\n",
    "locationOfBreachedInformationList - singleBreachList item 6\n",
    "\n",
    "```\n",
    "\n",
    "Also notice that not all of \"gridcell\" was breach data, we need to skip a couple lines to get to the good stuff. Use a counter to do this, specifically \n",
    "\n",
    "```\n",
    "skipTheBoringStuffCounter\n",
    "```\n",
    "\n",
    "There also appears to be a pattern in how the gridcell data is organized, there is a new event every 8 lines. Use a counter for that as well, specifically \n",
    "\n",
    "```\n",
    "theGoodStuffCounter\n",
    "```\n",
    "\n",
    "### 4.c Initialize all of the lists to empty lists and the counters to zero."
   ]
  },
  {
   "cell_type": "code",
   "execution_count": 16,
   "metadata": {},
   "outputs": [],
   "source": [
    "nameCoveredEntityList = []\n",
    "stateList = []\n",
    "coveredEntityTypeList = []\n",
    "affectIndividualsList = []\n",
    "breachSubmittedDateList = []\n",
    "typeOfBreachList = []\n",
    "locationOfBreachedInformationList = []\n",
    "singleBreachList = []\n",
    "skipTheBoringStuffCounter = 0\n",
    "theGoodStuffCounter = 0"
   ]
  },
  {
   "cell_type": "markdown",
   "metadata": {},
   "source": [
    "### 4.d Parse the Data"
   ]
  },
  {
   "cell_type": "code",
   "execution_count": 17,
   "metadata": {},
   "outputs": [],
   "source": [
    "for c in gridCells:\n",
    "    if skipTheBoringStuffCounter <= 4:\n",
    "        skipTheBoringStuffCounter = skipTheBoringStuffCounter + 1\n",
    "\n",
    "    if skipTheBoringStuffCounter > 4:\n",
    "        c = c.get_text().strip()\n",
    "        \n",
    "        if c != '':\n",
    "            singleBreachList.append(c)\n",
    "            theGoodStuffCounter = theGoodStuffCounter + 1\n",
    "\n",
    "            if theGoodStuffCounter == 8:\n",
    "                nameCoveredEntityList.append(singleBreachList[0])\n",
    "                stateList.append(singleBreachList[1])\n",
    "                coveredEntityTypeList.append(singleBreachList[2])\n",
    "                affectIndividualsList.append(singleBreachList[3])\n",
    "                breachSubmittedDateList.append(singleBreachList[4])\n",
    "                typeOfBreachList.append(singleBreachList[5])\n",
    "                locationOfBreachedInformationList.append(singleBreachList[6])\n",
    "                \n",
    "                theGoodStuffCounter = 0\n",
    "                singleBreachList = []"
   ]
  },
  {
   "cell_type": "code",
   "execution_count": 19,
   "metadata": {},
   "outputs": [
    {
     "data": {
      "text/plain": [
       "['EmCare, Inc.',\n",
       " 'Partners For Quality, Inc.',\n",
       " 'AltaMed Health Services Corporation']"
      ]
     },
     "execution_count": 19,
     "metadata": {},
     "output_type": "execute_result"
    }
   ],
   "source": [
    "nameCoveredEntityList[0:3]"
   ]
  },
  {
   "cell_type": "markdown",
   "metadata": {},
   "source": [
    "# Step 5 - Create a Dataframe and Visualize the Data"
   ]
  },
  {
   "cell_type": "code",
   "execution_count": 20,
   "metadata": {},
   "outputs": [],
   "source": [
    "# create a dataframe using the newly scraped data\n",
    "breachDF = pandas.DataFrame({\n",
    "\"Company Name\":nameCoveredEntityList,\n",
    "\"State\":stateList,\n",
    "\"Company Type\":coveredEntityTypeList,\n",
    "\"Affected Individuals\":affectIndividualsList,\n",
    "\"Breach Date\":breachSubmittedDateList,\n",
    "\"Breach Type\":typeOfBreachList,\n",
    "\"Data location\":locationOfBreachedInformationList\n",
    "})"
   ]
  },
  {
   "cell_type": "code",
   "execution_count": 22,
   "metadata": {},
   "outputs": [
    {
     "data": {
      "text/html": [
       "<div>\n",
       "<style scoped>\n",
       "    .dataframe tbody tr th:only-of-type {\n",
       "        vertical-align: middle;\n",
       "    }\n",
       "\n",
       "    .dataframe tbody tr th {\n",
       "        vertical-align: top;\n",
       "    }\n",
       "\n",
       "    .dataframe thead th {\n",
       "        text-align: right;\n",
       "    }\n",
       "</style>\n",
       "<table border=\"1\" class=\"dataframe\">\n",
       "  <thead>\n",
       "    <tr style=\"text-align: right;\">\n",
       "      <th></th>\n",
       "      <th>Company Name</th>\n",
       "      <th>State</th>\n",
       "      <th>Company Type</th>\n",
       "      <th>Affected Individuals</th>\n",
       "      <th>Breach Date</th>\n",
       "      <th>Breach Type</th>\n",
       "      <th>Data location</th>\n",
       "    </tr>\n",
       "  </thead>\n",
       "  <tbody>\n",
       "    <tr>\n",
       "      <th>0</th>\n",
       "      <td>EmCare, Inc.</td>\n",
       "      <td>FL</td>\n",
       "      <td>Healthcare Provider</td>\n",
       "      <td>31236</td>\n",
       "      <td>04/20/2019</td>\n",
       "      <td>Hacking/IT Incident</td>\n",
       "      <td>Email</td>\n",
       "    </tr>\n",
       "    <tr>\n",
       "      <th>1</th>\n",
       "      <td>Partners For Quality, Inc.</td>\n",
       "      <td>PA</td>\n",
       "      <td>Healthcare Provider</td>\n",
       "      <td>3673</td>\n",
       "      <td>04/19/2019</td>\n",
       "      <td>Hacking/IT Incident</td>\n",
       "      <td>Email</td>\n",
       "    </tr>\n",
       "    <tr>\n",
       "      <th>2</th>\n",
       "      <td>AltaMed Health Services Corporation</td>\n",
       "      <td>CA</td>\n",
       "      <td>Healthcare Provider</td>\n",
       "      <td>5500</td>\n",
       "      <td>04/18/2019</td>\n",
       "      <td>Hacking/IT Incident</td>\n",
       "      <td>Network Server</td>\n",
       "    </tr>\n",
       "    <tr>\n",
       "      <th>3</th>\n",
       "      <td>Gary W Peer MD</td>\n",
       "      <td>CA</td>\n",
       "      <td>Healthcare Provider</td>\n",
       "      <td>3400</td>\n",
       "      <td>04/18/2019</td>\n",
       "      <td>Hacking/IT Incident</td>\n",
       "      <td>Network Server</td>\n",
       "    </tr>\n",
       "    <tr>\n",
       "      <th>4</th>\n",
       "      <td>ELENA MARIA BURUIANA PHYSICIAN P.C.</td>\n",
       "      <td>NY</td>\n",
       "      <td>Healthcare Provider</td>\n",
       "      <td>1308</td>\n",
       "      <td>04/18/2019</td>\n",
       "      <td>Hacking/IT Incident</td>\n",
       "      <td>Network Server</td>\n",
       "    </tr>\n",
       "  </tbody>\n",
       "</table>\n",
       "</div>"
      ],
      "text/plain": [
       "                          Company Name State         Company Type  \\\n",
       "0                         EmCare, Inc.    FL  Healthcare Provider   \n",
       "1           Partners For Quality, Inc.    PA  Healthcare Provider   \n",
       "2  AltaMed Health Services Corporation    CA  Healthcare Provider   \n",
       "3                       Gary W Peer MD    CA  Healthcare Provider   \n",
       "4  ELENA MARIA BURUIANA PHYSICIAN P.C.    NY  Healthcare Provider   \n",
       "\n",
       "  Affected Individuals Breach Date          Breach Type   Data location  \n",
       "0                31236  04/20/2019  Hacking/IT Incident           Email  \n",
       "1                 3673  04/19/2019  Hacking/IT Incident           Email  \n",
       "2                 5500  04/18/2019  Hacking/IT Incident  Network Server  \n",
       "3                 3400  04/18/2019  Hacking/IT Incident  Network Server  \n",
       "4                 1308  04/18/2019  Hacking/IT Incident  Network Server  "
      ]
     },
     "execution_count": 22,
     "metadata": {},
     "output_type": "execute_result"
    }
   ],
   "source": [
    "breachDF.head()"
   ]
  },
  {
   "cell_type": "code",
   "execution_count": 23,
   "metadata": {},
   "outputs": [
    {
     "data": {
      "text/plain": [
       "Breach Type\n",
       "Hacking/IT Incident               67\n",
       "Improper Disposal                  1\n",
       "Loss                               1\n",
       "Theft                             10\n",
       "Unauthorized Access/Disclosure    21\n",
       "dtype: int64"
      ]
     },
     "execution_count": 23,
     "metadata": {},
     "output_type": "execute_result"
    }
   ],
   "source": [
    "# group by the Breach Type\n",
    "breachDF.groupby('Breach Type').size()"
   ]
  },
  {
   "cell_type": "code",
   "execution_count": 24,
   "metadata": {},
   "outputs": [],
   "source": [
    "# allow matplotlib graphs to show in the notebook\n",
    "%matplotlib inline"
   ]
  },
  {
   "cell_type": "code",
   "execution_count": 25,
   "metadata": {},
   "outputs": [],
   "source": [
    "# group by the Breach Type\n",
    "breachDist = breachDF.groupby('Breach Type').size()"
   ]
  },
  {
   "cell_type": "code",
   "execution_count": 26,
   "metadata": {},
   "outputs": [
    {
     "data": {
      "text/plain": [
       "<matplotlib.axes._subplots.AxesSubplot at 0x120a83fd0>"
      ]
     },
     "execution_count": 26,
     "metadata": {},
     "output_type": "execute_result"
    },
    {
     "data": {
      "image/png": "[encoded data removed]",
      "text/plain": [
       "<Figure size 432x288 with 1 Axes>"
      ]
     },
     "metadata": {
      "needs_background": "light"
     },
     "output_type": "display_data"
    }
   ],
   "source": [
    "# plot the data\n",
    "breachDist.plot(kind='bar')"
   ]
  },
  {
   "cell_type": "code",
   "execution_count": null,
   "metadata": {
    "collapsed": true
   },
   "outputs": [],
   "source": []
  }
 ],
 "metadata": {
  "kernelspec": {
   "display_name": "Python 3",
   "language": "python",
   "name": "python3"
  },
  "language_info": {
   "codemirror_mode": {
    "name": "ipython",
    "version": 3
   },
   "file_extension": ".py",
   "mimetype": "text/x-python",
   "name": "python",
   "nbconvert_exporter": "python",
   "pygments_lexer": "ipython3",
   "version": "3.6.8"
  }
 },
 "nbformat": 4,
 "nbformat_minor": 2
}
