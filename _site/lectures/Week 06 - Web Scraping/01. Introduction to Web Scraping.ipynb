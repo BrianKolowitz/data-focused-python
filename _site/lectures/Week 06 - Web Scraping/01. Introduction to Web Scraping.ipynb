{
 "cells": [
  {
   "cell_type": "markdown",
   "metadata": {},
   "source": [
    "# Introduction to web scraping with python\n",
    "[source](https://dev.to/lewiskori/introduction-to-web-scraping-with-python-24li)"
   ]
  },
  {
   "cell_type": "markdown",
   "metadata": {},
   "source": [
    "## What is web scraping?\n",
    "\n",
    "This is the process of extracting information from a webpage by taking advantage of patterns in the web page's underlying code.\n",
    "\n",
    "We can use web scraping to gather unstructured data from the internet, process it and store it in a structured format.\n",
    "\n",
    "In this walkthrough, we'll be storing our data in a JSON file."
   ]
  },
  {
   "cell_type": "markdown",
   "metadata": {},
   "source": [
    "## Alternatives to web scraping\n",
    "\n",
    "Though web scraping is a useful tool in extracting data from a website, it's not the only means to achieve this task.\n",
    "\n",
    "Before starting to web scrape, find out if the page you seek to extract data from provides an API."
   ]
  },
  {
   "cell_type": "markdown",
   "metadata": {},
   "source": [
    "## robots.txt file\n",
    "\n",
    "Ensure that you check the robots.txt file of a website before making your scrapper. This file tells if the website allows scraping or if they do not.\n",
    "\n",
    "To check for the file, simply type the base URL followed by \"/robots.txt\"\n",
    "An example is, \"mysite.com/robots.txt\".\n",
    "\n",
    "For more about robots.txt files click [here](https://varvy.com/robottxt.html)."
   ]
  },
  {
   "cell_type": "markdown",
   "metadata": {},
   "source": [
    "## Getting started\n",
    "\n",
    "In this tutorial, we'll be extracting data from [books to scrape](http://books.toscrape.com/) which you can use to practise your web scraping.\n",
    "\n",
    "We'll extract the title, rating, link to more information about the book and the cover image of the book. Code can be found on [GitHub](https://github.com/lewis-kori/webcrawler-tutorial)."
   ]
  },
  {
   "cell_type": "markdown",
   "metadata": {},
   "source": [
    "###  Importing libraries\n",
    "\n",
    "The python libraries perform the following tasks.\n",
    "\n",
    "* requests - will be used to make Http requests to the webpage.\n",
    "* json - we'll use this to store the extracted information to a JSON file.\n",
    "* BeautifulSoup - for parsing HTML."
   ]
  },
  {
   "cell_type": "code",
   "execution_count": 15,
   "metadata": {},
   "outputs": [],
   "source": [
    "import requests\n",
    "import json\n",
    "from bs4 import BeautifulSoup"
   ]
  },
  {
   "cell_type": "markdown",
   "metadata": {},
   "source": [
    "### walkthrough\n",
    "\n",
    "We're initializing three variables here.\n",
    "\n",
    "* header-HTTP headers provide additional parameters to HTTP transactions. By sending the appropriate HTTP headers, one can access the response data in a different format.\n",
    "* base_url - is the webpage we want to scrape since we'll be needing the URL quite often, it's good to have a single initialization and reuse this variable going forward.\n",
    "* r - this is the response object returned by the get method. Here, we pass the base_url and header as parameters."
   ]
  },
  {
   "cell_type": "code",
   "execution_count": 16,
   "metadata": {},
   "outputs": [],
   "source": [
    "header = {'User-Agent': 'Mozilla/5.0 (Windows; U; Windows NT 5.1; en-US; rv:1.9.0.7) Gecko/2009021910 Firefox/3.0.7'}\n",
    "\n",
    "base_url = \"http://books.toscrape.com/\"\n",
    "\n",
    "r = requests.get(base_url, headers=header)"
   ]
  },
  {
   "cell_type": "markdown",
   "metadata": {},
   "source": [
    "To ensure our scraper runs when the http response is ok we'll use the if statement as a check. The number 200 is the status code for Ok. To get a list of all codes and their meanings [check out this resource](https://www.restapitutorial.com/httpstatuscodes.html). \n",
    "\n",
    "We'll then parse the response object using the BeautifulSoup method and store the new object to a variable called soup."
   ]
  },
  {
   "cell_type": "code",
   "execution_count": 17,
   "metadata": {},
   "outputs": [],
   "source": [
    "if r.status_code == 200:\n",
    "    soup = BeautifulSoup(r.text, 'html.parser')\n",
    "    books = soup.find_all('li',attrs={\"class\":\"col-xs-6 col-sm-4 col-md-3 col-lg-3\"})\n",
    "    result=[]\n",
    "    for book in books:\n",
    "        title=book.find('h3').text\n",
    "        link=base_url +book.find('a')['href']\n",
    "        stars = str(len(book.find_all('i',attrs=  {\"class\":\"icon-star\"}))) + \" out of 5\"\n",
    "        price=\"$\"+book.find('p',attrs={'class':'price_color'}).text[2:]\n",
    "        picture = base_url + book.find('img')['src']\n",
    "        single ={'title':title,'stars':stars,'price':price,'link':link,'picture':picture}\n",
    "        result.append(single)\n",
    "        \n",
    "    with open('books.json','w') as f:\n",
    "        json.dump(result,f,indent=4)\n",
    "else:\n",
    "    print(r.status_code)"
   ]
  },
  {
   "cell_type": "code",
   "execution_count": 18,
   "metadata": {},
   "outputs": [
    {
     "data": {
      "text/html": [
       "<div>\n",
       "<style scoped>\n",
       "    .dataframe tbody tr th:only-of-type {\n",
       "        vertical-align: middle;\n",
       "    }\n",
       "\n",
       "    .dataframe tbody tr th {\n",
       "        vertical-align: top;\n",
       "    }\n",
       "\n",
       "    .dataframe thead th {\n",
       "        text-align: right;\n",
       "    }\n",
       "</style>\n",
       "<table border=\"1\" class=\"dataframe\">\n",
       "  <thead>\n",
       "    <tr style=\"text-align: right;\">\n",
       "      <th></th>\n",
       "      <th>link</th>\n",
       "      <th>picture</th>\n",
       "      <th>price</th>\n",
       "      <th>stars</th>\n",
       "      <th>title</th>\n",
       "    </tr>\n",
       "  </thead>\n",
       "  <tbody>\n",
       "    <tr>\n",
       "      <th>0</th>\n",
       "      <td>http://books.toscrape.com/catalogue/a-light-in...</td>\n",
       "      <td>http://books.toscrape.com/media/cache/2c/da/2c...</td>\n",
       "      <td>$51.77</td>\n",
       "      <td>5 out of 5</td>\n",
       "      <td>A Light in the ...</td>\n",
       "    </tr>\n",
       "    <tr>\n",
       "      <th>1</th>\n",
       "      <td>http://books.toscrape.com/catalogue/tipping-th...</td>\n",
       "      <td>http://books.toscrape.com/media/cache/26/0c/26...</td>\n",
       "      <td>$53.74</td>\n",
       "      <td>5 out of 5</td>\n",
       "      <td>Tipping the Velvet</td>\n",
       "    </tr>\n",
       "    <tr>\n",
       "      <th>2</th>\n",
       "      <td>http://books.toscrape.com/catalogue/soumission...</td>\n",
       "      <td>http://books.toscrape.com/media/cache/3e/ef/3e...</td>\n",
       "      <td>$50.10</td>\n",
       "      <td>5 out of 5</td>\n",
       "      <td>Soumission</td>\n",
       "    </tr>\n",
       "    <tr>\n",
       "      <th>3</th>\n",
       "      <td>http://books.toscrape.com/catalogue/sharp-obje...</td>\n",
       "      <td>http://books.toscrape.com/media/cache/32/51/32...</td>\n",
       "      <td>$47.82</td>\n",
       "      <td>5 out of 5</td>\n",
       "      <td>Sharp Objects</td>\n",
       "    </tr>\n",
       "    <tr>\n",
       "      <th>4</th>\n",
       "      <td>http://books.toscrape.com/catalogue/sapiens-a-...</td>\n",
       "      <td>http://books.toscrape.com/media/cache/be/a5/be...</td>\n",
       "      <td>$54.23</td>\n",
       "      <td>5 out of 5</td>\n",
       "      <td>Sapiens: A Brief History ...</td>\n",
       "    </tr>\n",
       "  </tbody>\n",
       "</table>\n",
       "</div>"
      ],
      "text/plain": [
       "                                                link  \\\n",
       "0  http://books.toscrape.com/catalogue/a-light-in...   \n",
       "1  http://books.toscrape.com/catalogue/tipping-th...   \n",
       "2  http://books.toscrape.com/catalogue/soumission...   \n",
       "3  http://books.toscrape.com/catalogue/sharp-obje...   \n",
       "4  http://books.toscrape.com/catalogue/sapiens-a-...   \n",
       "\n",
       "                                             picture   price       stars  \\\n",
       "0  http://books.toscrape.com/media/cache/2c/da/2c...  $51.77  5 out of 5   \n",
       "1  http://books.toscrape.com/media/cache/26/0c/26...  $53.74  5 out of 5   \n",
       "2  http://books.toscrape.com/media/cache/3e/ef/3e...  $50.10  5 out of 5   \n",
       "3  http://books.toscrape.com/media/cache/32/51/32...  $47.82  5 out of 5   \n",
       "4  http://books.toscrape.com/media/cache/be/a5/be...  $54.23  5 out of 5   \n",
       "\n",
       "                          title  \n",
       "0            A Light in the ...  \n",
       "1            Tipping the Velvet  \n",
       "2                    Soumission  \n",
       "3                 Sharp Objects  \n",
       "4  Sapiens: A Brief History ...  "
      ]
     },
     "execution_count": 18,
     "metadata": {},
     "output_type": "execute_result"
    }
   ],
   "source": [
    "import pandas as pd\n",
    "\n",
    "df = pd.read_json('books.json')\n",
    "df.head()"
   ]
  },
  {
   "cell_type": "markdown",
   "metadata": {},
   "source": [
    "Let's take a look at a single record from our webpage to identify the patterns. Once we can see the page, we'll loop through every record in the page as they contain similar traits.\n",
    "\n",
    "![img1](https://res.cloudinary.com/practicaldev/image/fetch/s--_BwOwR81--/c_limit%2Cf_auto%2Cfl_progressive%2Cq_auto%2Cw_880/https://res.cloudinary.com/practicaldev/image/fetch/s--0vJGh1fH--/c_imagga_scale%2Cf_auto%2Cfl_progressive%2Ch_420%2Cq_auto%2Cw_1000/https://thepracticaldev.s3.amazonaws.com/i/pdfw0kcge1v8le01c1q5.PNG)"
   ]
  },
  {
   "cell_type": "markdown",
   "metadata": {},
   "source": [
    "From the image above, we'll notice that all books are contained within a list item with the class.\n",
    "\n",
    "```\n",
    "col-xs-6 col-sm-4 col-md-3 col-lg-3\n",
    "```\n",
    "\n",
    "By using the ```find_all()``` method, we can find all references of this HTML tag in the webpage. we pass the tag as the first argument and then using the attrs argument which takes in a python dictionary, we can specify attributes of the HTML tag selected. In this case, it was a class indicated above, but you can even use id as an attribute.\n",
    "\n",
    "Store the result in a variable, I chose the name books."
   ]
  },
  {
   "cell_type": "code",
   "execution_count": 19,
   "metadata": {},
   "outputs": [],
   "source": [
    "title = book.find('h3').text\n",
    "link = base_url + book.find('a')['href']"
   ]
  },
  {
   "cell_type": "markdown",
   "metadata": {},
   "source": [
    "If we observe keenly, we'll notice that each of the elements we want to extract is nested within the list item tag are all contained in similar tags, in the example above. The title of the book is between ```h3``` tags. \n",
    "\n",
    "The ```find()``` method returns the first matching tag. \n",
    "\n",
    "```text``` will simply return any text found within the tags specified.\n",
    "\n",
    "For the anchor tags, we'll be extracting the hyper reference link.\n",
    "\n",
    "As opposed to ```h3``` tag, the ```href``` element is within anchor tags in HTML. Like so:\n",
    "\n",
    "```html\n",
    "<a href=\"somelink.com\"></a>\n",
    "```\n",
    "\n",
    "In this case, the returned object will behave like a dictionary where we have a\n",
    "\n",
    "```\n",
    "dictionary_name[key]\n",
    "```\n",
    "\n",
    "We do this iteratively for all the values we seek to extract because we are taking advantage of the pattern in the underlying code of the webpage. Hence the use of the python for loop.\n",
    "\n",
    "The extracted elements are then stored in respective variables which we'll put in a dictionary. With this information, we can then comfortably append the dictionary object to the initialized result list set before our for loop.\n",
    "\n",
    "```python\n",
    "single ={'title':title,'stars':stars,'price':price,'link':link,'picture':picture}\n",
    "result.append(single)\n",
    "with open('books2.json','w') as f:\n",
    "    json.dump(result,f,indent=4)\n",
    "```\n",
    "\n",
    "Finally, store the python list in a JSON file by the name \"books.json\" with an indent of 4 for readability purposes."
   ]
  },
  {
   "cell_type": "code",
   "execution_count": null,
   "metadata": {},
   "outputs": [],
   "source": []
  }
 ],
 "metadata": {
  "kernelspec": {
   "display_name": "Python 3",
   "language": "python",
   "name": "python3"
  },
  "language_info": {
   "codemirror_mode": {
    "name": "ipython",
    "version": 3
   },
   "file_extension": ".py",
   "mimetype": "text/x-python",
   "name": "python",
   "nbconvert_exporter": "python",
   "pygments_lexer": "ipython3",
   "version": "3.6.8"
  }
 },
 "nbformat": 4,
 "nbformat_minor": 2
}
