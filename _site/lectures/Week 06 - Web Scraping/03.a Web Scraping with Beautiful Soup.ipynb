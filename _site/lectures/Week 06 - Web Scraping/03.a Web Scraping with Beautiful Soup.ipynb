{
 "cells": [
  {
   "cell_type": "markdown",
   "metadata": {},
   "source": [
    "# Web Scraping with Beautiful Soup\n",
    "\n",
    "[source](https://www.digitalocean.com/community/tutorials/how-to-scrape-web-pages-with-beautiful-soup-and-python-3)\n",
    "\n",
    "## Introduction\n",
    "\n",
    "Many data analysis, big data, and machine learning projects require scraping websites to gather the data that you’ll be working with. The Python programming language is widely used in the data science community, and therefore has an ecosystem of modules and tools that you can use in your own projects. In this tutorial we will be focusing on the Beautiful Soup module.\n",
    "\n",
    "[Beautiful Soup](https://www.crummy.com/software/BeautifulSoup/) is a Python library that allows for quick turnaround on web scraping projects. Currently available as Beautiful Soup 4 and compatible with both Python 2.7 and Python 3, Beautiful Soup creates a parse tree from parsed HTML and XML documents (including documents with non-closed tags or [tag soup](https://en.wikipedia.org/wiki/Tag_soup) and other malformed markup).\n",
    "\n",
    "In this tutorial, we will collect and parse a web page in order to grab textual data and write the information we have gathered to a CSV file."
   ]
  },
  {
   "cell_type": "markdown",
   "metadata": {},
   "source": [
    "## Prerequisites\n",
    "\n",
    "Before working on this tutorial, you should have a local or server-based Python programming environment set up on your machine.\n",
    "\n",
    "You should have the Requests and Beautiful Soup modules installed, which you can achieve by following the tutorial “[How To Work with Web Data Using Requests and Beautiful Soup with Python 3](https://www.digitalocean.com/community/tutorials/how-to-work-with-web-data-using-requests-and-beautiful-soup-with-python-3)”. It would also be useful to have a working familiarity with these modules.\n",
    "\n",
    "Additionally, since we will be working with data scraped from the web, you should be comfortable with HTML structure and tagging."
   ]
  },
  {
   "cell_type": "markdown",
   "metadata": {},
   "source": [
    "## Understanding the Data\n",
    "\n",
    "In this tutorial, we’ll be working with data from the official website of the [National Gallery of Art](https://www.nga.gov/) in the United States. The National Gallery is an art museum located on the National Mall in Washington, D.C. It holds over 120,000 pieces dated from the Renaissance to the present day done by more than 13,000 artists.\n",
    "\n",
    "We would like to search the Index of Artists, which, at the time of updating this tutorial, is available via the [Internet Archive’s](https://archive.org/) [Wayback Machine](https://web.archive.org/) at the following URL:\n",
    "\n",
    "https://web.archive.org/web/20170131230332/https://www.nga.gov/collection/an.shtm\n",
    "\n",
    "Beneath the Internet Archive’s header, you’ll see a page that looks like this:\n",
    "\n",
    "![img1](https://assets.digitalocean.com/articles/eng_python/beautiful-soup/index-of-artists-landing-page.png)\n",
    "\n",
    "Since we’ll be doing this project in order to learn about web scraping with Beautiful Soup, we don’t need to pull too much data from the site, so let’s limit the scope of the artist data we are looking to scrape. Let’s therefore choose one letter — in our example we’ll choose the letter **Z** — and we’ll see a page that looks like this:\n",
    "\n",
    "![img2](https://assets.digitalocean.com/articles/eng_python/beautiful-soup/artist-names-beginning-with-z-2018.png)\n",
    "\n",
    "In the page above, we see that the first artist listed at the time of writing is **Zabaglia, Niccola**, which is a good thing to note for when we start pulling data. We’ll start by working with this first page, with the following URL for the letter **Z**:\n",
    "\n",
    "https://web.archive.org/web/20121007172955/http://www.nga.gov/collection/anZ1.htm\n",
    "\n",
    "It is important to note for later how many pages total there are for the letter you are choosing to list, which you can discover by clicking through to the last page of artists. In this case, there are 4 pages total, and the last artist listed at the time of writing is **Zykmund, Václav**. The last page of **Z** artists has the following URL:\n",
    "\n",
    "https://web.archive.org/web/20121010201041/http://www.nga.gov/collection/anZ4.htm\n",
    "\n",
    "**However**, you can also access the above page by using the same Internet Archive numeric string of the first page:\n",
    "\n",
    "https://web.archive.org/web/20121007172955/http://www.nga.gov/collection/anZ4.htm\n",
    "\n",
    "This is important to note because we’ll be iterating through these pages later in this tutorial.\n",
    "\n",
    "To begin to familiarize yourself with how this web page is set up, you can take a look at its [DOM](https://www.digitalocean.com/community/tutorials/introduction-to-the-dom), which will help you understand how the HTML is structured. In order to inspect the DOM, you can open your browser’s Developer Tools."
   ]
  },
  {
   "cell_type": "markdown",
   "metadata": {},
   "source": [
    "## Importing the Libraries\n",
    "\n",
    "We’ll create a new file called nga_z_artists.py in this tutorial.\n",
    "\n",
    "Within this file, we can begin to import the libraries we’ll be using — [Requests](http://docs.python-requests.org/en/master/) and Beautiful Soup.\n",
    "\n",
    "The Requests library allows you to make use of HTTP within your Python programs in a human readable way, and the Beautiful Soup module is designed to get web scraping done quickly.\n",
    "\n",
    "We will import both Requests and Beautiful Soup with the ```import``` statement. For Beautiful Soup, we’ll be importing it from ```bs4```, the package in which Beautiful Soup 4 is found."
   ]
  },
  {
   "cell_type": "code",
   "execution_count": 1,
   "metadata": {},
   "outputs": [],
   "source": [
    "# Import libraries\n",
    "import requests\n",
    "from bs4 import BeautifulSoup"
   ]
  },
  {
   "cell_type": "markdown",
   "metadata": {},
   "source": [
    "## Collecting and Parsing a Web Page\n",
    "\n",
    "The next step we will need to do is collect the URL of the first web page with Requests. We’ll assign the URL for the first page to the variable ```page``` by using the method ```requests.get()```."
   ]
  },
  {
   "cell_type": "code",
   "execution_count": 2,
   "metadata": {},
   "outputs": [],
   "source": [
    "# Collect first page of artists’ list\n",
    "page = requests.get('https://web.archive.org/web/20121007172955/https://www.nga.gov/collection/anZ1.htm')"
   ]
  },
  {
   "cell_type": "markdown",
   "metadata": {},
   "source": [
    "We’ll now create a BeautifulSoup object, or a parse tree. This object takes as its arguments the ```page.text``` document from Requests (the content of the server’s response) and then parses it from Python’s built-in ```html.parser```."
   ]
  },
  {
   "cell_type": "code",
   "execution_count": 3,
   "metadata": {},
   "outputs": [],
   "source": [
    "# Create a BeautifulSoup object\n",
    "soup = BeautifulSoup(page.text, 'html.parser')"
   ]
  },
  {
   "attachments": {},
   "cell_type": "markdown",
   "metadata": {},
   "source": [
    "## Pulling Text From a Web Page\n",
    "\n",
    "For this project, we’ll collect artists’ names and the relevant links available on the website. You may want to collect different data, such as the artists’ nationality and dates. Whatever data you would like to collect, you need to find out how it is described by the DOM of the web page.\n",
    "\n",
    "To do this, in your web browser, right-click — or ```CTRL``` + click on macOS — on the first artist’s name, **Zabaglia, Niccola**. Within the context menu that pops up, you should see a menu item similar to **Inspect Element** (Firefox) or **Inspect** (Chrome).\n",
    "\n",
    "![img3](https://assets.digitalocean.com/articles/eng_python/beautiful-soup/inspect-element.png)\n",
    "\n",
    "Once you click on the relevant **Inspect** menu item, the tools for web developers should appear within your browser. We want to look for the class and tags associated with the artists’ names in this list.\n",
    "\n",
    "![img4](https://assets.digitalocean.com/articles/eng_python/beautiful-soup/web-page-inspector.png)\n",
    "\n",
    "We’ll see first that the table of names is within ```<div>``` tags where ```class=\"BodyText\"```. This is important to note so that we only search for text within this section of the web page. We also notice that the name **Zabaglia, Niccola** is in a link tag, since the name references a web page that describes the artist. So we will want to reference the ```<a>``` tag for links. Each artist’s name is a reference to a link.\n",
    "\n",
    "To do this, we’ll use Beautiful Soup’s ```find()``` and ```find_all()``` methods in order to pull the text of the artists’ names from the ```BodyText``` ```<div>```."
   ]
  },
  {
   "cell_type": "code",
   "execution_count": 4,
   "metadata": {},
   "outputs": [],
   "source": [
    "# Pull all text from the BodyText div\n",
    "artist_name_list = soup.find(class_='BodyText')"
   ]
  },
  {
   "cell_type": "code",
   "execution_count": 5,
   "metadata": {},
   "outputs": [],
   "source": [
    "# Pull text from all instances of <a> tag within BodyText div\n",
    "artist_name_list_items = artist_name_list.find_all('a')"
   ]
  },
  {
   "cell_type": "markdown",
   "metadata": {},
   "source": [
    "Next, at the bottom of our program file, we will want to create a for loop in order to iterate over all the artist names that we just put into the ```artist_name_list_items variable```.\n",
    "\n",
    "We’ll print these names out with the ```prettify()``` method in order to turn the Beautiful Soup parse tree into a nicely formatted Unicode string."
   ]
  },
  {
   "cell_type": "code",
   "execution_count": 7,
   "metadata": {},
   "outputs": [
    {
     "name": "stdout",
     "output_type": "stream",
     "text": [
      "<a href=\"/web/20121007172955/https://www.nga.gov/cgi-bin/tsearch?artistid=11630\">\n",
      " Zabaglia, Niccola\n",
      "</a>\n",
      "<a href=\"/web/20121007172955/https://www.nga.gov/cgi-bin/tsearch?artistid=34202\">\n",
      " Zaccone, Fabian\n",
      "</a>\n",
      "<a href=\"/web/20121007172955/https://www.nga.gov/cgi-bin/tsearch?artistid=3475\">\n",
      " Zadkine, Ossip\n",
      "</a>\n",
      "<a href=\"/web/20121007172955/https://www.nga.gov/cgi-bin/tsearch?artistid=25135\">\n",
      " Zaech, Bernhard\n",
      "</a>\n",
      "<a href=\"/web/20121007172955/https://www.nga.gov/cgi-bin/tsearch?artistid=2298\">\n",
      " Zagar, Jacob\n",
      "</a>\n",
      "<a href=\"/web/20121007172955/https://www.nga.gov/cgi-bin/tsearch?artistid=23988\">\n",
      " Zagroba, Idalia\n",
      "</a>\n"
     ]
    }
   ],
   "source": [
    "# Create for loop to print out the artists' names\n",
    "for i, artist_name in enumerate(artist_name_list_items):\n",
    "    print(artist_name.prettify())\n",
    "    if i > 4:\n",
    "        break"
   ]
  },
  {
   "cell_type": "markdown",
   "metadata": {},
   "source": [
    "What we see in the output at this point is the full text and tags related to all of the artists’ names within the ```<a>``` tags found in the ```<div class=\"BodyText\">``` tag on the first page, as well as some additional link text at the bottom. Since we don’t want this extra information, let’s work on removing this in the next section."
   ]
  },
  {
   "cell_type": "markdown",
   "metadata": {},
   "source": [
    "## Removing Superfluous Data\n",
    "\n",
    "So far, we have been able to collect all the link text data within one ```<div>``` section of our web page. However, we don’t want to have the bottom links that don’t reference artists’ names, so let’s work to remove that part.\n",
    "\n",
    "In order to remove the bottom links of the page, let’s again right-click and **Inspect** the DOM. We’ll see that the links on the bottom of the ```<div class=\"BodyText\">``` section are contained in an HTML table: ```<table class=\"AlphaNav\">```:\n",
    "\n",
    "![img5](https://assets.digitalocean.com/articles/eng_python/beautiful-soup/html-table.png)\n",
    "\n",
    "We can therefore use Beautiful Soup to find the ```AlphaNav``` class and use the ```decompose()``` method to remove a tag from the parse tree and then destroy it along with its contents.\n",
    "\n",
    "We’ll use the variable ```last_links``` to reference these bottom links and add them to the program file:"
   ]
  },
  {
   "cell_type": "code",
   "execution_count": 8,
   "metadata": {},
   "outputs": [
    {
     "name": "stdout",
     "output_type": "stream",
     "text": [
      "<a href=\"/web/20121007172955/https://www.nga.gov/cgi-bin/tsearch?artistid=11630\">\n",
      " Zabaglia, Niccola\n",
      "</a>\n",
      "<a href=\"/web/20121007172955/https://www.nga.gov/cgi-bin/tsearch?artistid=34202\">\n",
      " Zaccone, Fabian\n",
      "</a>\n",
      "<a href=\"/web/20121007172955/https://www.nga.gov/cgi-bin/tsearch?artistid=3475\">\n",
      " Zadkine, Ossip\n",
      "</a>\n",
      "<a href=\"/web/20121007172955/https://www.nga.gov/cgi-bin/tsearch?artistid=25135\">\n",
      " Zaech, Bernhard\n",
      "</a>\n",
      "<a href=\"/web/20121007172955/https://www.nga.gov/cgi-bin/tsearch?artistid=2298\">\n",
      " Zagar, Jacob\n",
      "</a>\n",
      "<a href=\"/web/20121007172955/https://www.nga.gov/cgi-bin/tsearch?artistid=23988\">\n",
      " Zagroba, Idalia\n",
      "</a>\n"
     ]
    }
   ],
   "source": [
    "page = requests.get('https://web.archive.org/web/20121007172955/https://www.nga.gov/collection/anZ1.htm')\n",
    "\n",
    "soup = BeautifulSoup(page.text, 'html.parser')\n",
    "\n",
    "# Remove bottom links\n",
    "last_links = soup.find(class_='AlphaNav')\n",
    "last_links.decompose()\n",
    "\n",
    "artist_name_list = soup.find(class_='BodyText')\n",
    "artist_name_list_items = artist_name_list.find_all('a')\n",
    "\n",
    "for i, artist_name in enumerate(artist_name_list_items):\n",
    "    print(artist_name.prettify())\n",
    "    if i > 4:\n",
    "        break"
   ]
  },
  {
   "cell_type": "markdown",
   "metadata": {},
   "source": [
    "At this point, we see that the output no longer includes the links at the bottom of the web page, and now only displays the links associated with artists’ names.\n",
    "\n",
    "Until now, we have targeted the links with the artists’ names specifically, but we have the extra tag data that we don’t really want. Let’s remove that in the next section."
   ]
  },
  {
   "cell_type": "markdown",
   "metadata": {},
   "source": [
    "## Pulling the Contents from a Tag\n",
    "\n",
    "In order to access only the actual artists’ names, we’ll want to target the contents of the ```<a>``` tags rather than print out the entire link tag.\n",
    "\n",
    "We can do this with Beautiful Soup’s ```.contents```, which will return the tag’s children as a Python list data type.\n",
    "\n",
    "Let’s revise the ```for``` loop so that instead of printing the entire link and its tag, we’ll print the list of children (i.e. the artists’ full names):"
   ]
  },
  {
   "cell_type": "code",
   "execution_count": 9,
   "metadata": {},
   "outputs": [
    {
     "name": "stdout",
     "output_type": "stream",
     "text": [
      "Zabaglia, Niccola\n",
      "Zaccone, Fabian\n",
      "Zadkine, Ossip\n",
      "Zaech, Bernhard\n",
      "Zagar, Jacob\n",
      "Zagroba, Idalia\n"
     ]
    }
   ],
   "source": [
    "# Use .contents to pull out the <a> tag’s children\n",
    "for i, artist_name in enumerate(artist_name_list_items):\n",
    "    names = artist_name.contents[0]\n",
    "    print(names)\n",
    "    if i > 4:\n",
    "        break"
   ]
  },
  {
   "cell_type": "markdown",
   "metadata": {},
   "source": [
    "Note that we are iterating over the list above by calling on the index number of each item."
   ]
  },
  {
   "cell_type": "markdown",
   "metadata": {},
   "source": [
    "We have received back a list of all the artists’ names available on the first page of the letter Z.\n",
    "\n",
    "However, what if we want to also capture the URLs associated with those artists? We can extract URLs found within a page’s ```<a>``` tags by using Beautiful Soup’s ```get('href')``` method.\n",
    "\n",
    "From the output of the links above, we know that the entire URL is not being captured, so we will concatenate the link string with the front of the URL string (in this case https://web.archive.org/).\n",
    "\n",
    "These lines we’ll also add to the ```for``` loop:"
   ]
  },
  {
   "cell_type": "code",
   "execution_count": 10,
   "metadata": {},
   "outputs": [
    {
     "name": "stdout",
     "output_type": "stream",
     "text": [
      "Zabaglia, Niccola\n",
      "https://web.archive.org/web/20121007172955/https://www.nga.gov/cgi-bin/tsearch?artistid=11630\n",
      "Zaccone, Fabian\n",
      "https://web.archive.org/web/20121007172955/https://www.nga.gov/cgi-bin/tsearch?artistid=34202\n",
      "Zadkine, Ossip\n",
      "https://web.archive.org/web/20121007172955/https://www.nga.gov/cgi-bin/tsearch?artistid=3475\n",
      "Zaech, Bernhard\n",
      "https://web.archive.org/web/20121007172955/https://www.nga.gov/cgi-bin/tsearch?artistid=25135\n",
      "Zagar, Jacob\n",
      "https://web.archive.org/web/20121007172955/https://www.nga.gov/cgi-bin/tsearch?artistid=2298\n",
      "Zagroba, Idalia\n",
      "https://web.archive.org/web/20121007172955/https://www.nga.gov/cgi-bin/tsearch?artistid=23988\n"
     ]
    }
   ],
   "source": [
    "for i, artist_name in enumerate(artist_name_list_items):\n",
    "    names = artist_name.contents[0]\n",
    "    links = 'https://web.archive.org' + artist_name.get('href')\n",
    "    print(names)\n",
    "    print(links)\n",
    "    if i > 4:\n",
    "        break"
   ]
  },
  {
   "cell_type": "markdown",
   "metadata": {},
   "source": [
    "Although we are now getting information from the website, it is currently just printing to our terminal window. Let’s instead capture this data so that we can use it elsewhere by writing it to a file."
   ]
  },
  {
   "cell_type": "markdown",
   "metadata": {},
   "source": [
    "## Writing the Data to a CSV File\n",
    "\n",
    "Collecting data that only lives in a terminal window is not very useful. Comma-separated values (CSV) files allow us to store tabular data in plain text, and is a common format for spreadsheets and databases. Before beginning with this section, you should familiarize yourself with [how to handle plain text files in Python](https://www.digitalocean.com/community/tutorials/how-to-handle-plain-text-files-in-python-3).\n",
    "\n",
    "First, we need to import Python’s built-in ```csv``` module along with the other modules at the top of the Python programming file:"
   ]
  },
  {
   "cell_type": "code",
   "execution_count": 11,
   "metadata": {},
   "outputs": [],
   "source": [
    "import csv"
   ]
  },
  {
   "cell_type": "markdown",
   "metadata": {},
   "source": [
    "Next, we’ll create and open a file called ```z-artist-names.csv``` for us to write to (we’ll use the variable ```f``` for file here) by using the ```'w'``` mode. We’ll also write the top row headings: ```Name``` and ```Link``` which we’ll pass to the ```writerow()``` method as a list:"
   ]
  },
  {
   "cell_type": "code",
   "execution_count": 12,
   "metadata": {},
   "outputs": [
    {
     "data": {
      "text/plain": [
       "11"
      ]
     },
     "execution_count": 12,
     "metadata": {},
     "output_type": "execute_result"
    }
   ],
   "source": [
    "f = csv.writer(open('z-artist-names.csv', 'w'))\n",
    "f.writerow(['Name', 'Link'])"
   ]
  },
  {
   "cell_type": "markdown",
   "metadata": {},
   "source": [
    "Finally, within our for loop, we’ll write each row with the artists’ ```names``` and their associated ```links```:"
   ]
  },
  {
   "cell_type": "code",
   "execution_count": 13,
   "metadata": {},
   "outputs": [],
   "source": [
    "page = requests.get('https://web.archive.org/web/20121007172955/http://www.nga.gov/collection/anZ1.htm')\n",
    "\n",
    "soup = BeautifulSoup(page.text, 'html.parser')\n",
    "\n",
    "last_links = soup.find(class_='AlphaNav')\n",
    "last_links.decompose()\n",
    "\n",
    "# Create a file to write to, add headers row\n",
    "f = csv.writer(open('z-artist-names.csv', 'w'))\n",
    "f.writerow(['Name', 'Link'])\n",
    "\n",
    "artist_name_list = soup.find(class_='BodyText')\n",
    "artist_name_list_items = artist_name_list.find_all('a')\n",
    "\n",
    "for artist_name in artist_name_list_items:\n",
    "    names = artist_name.contents[0]\n",
    "    links = 'https://web.archive.org' + artist_name.get('href')\n",
    "\n",
    "\n",
    "    # Add each artist’s name and associated link to a row\n",
    "    f.writerow([names, links])"
   ]
  },
  {
   "cell_type": "markdown",
   "metadata": {},
   "source": [
    "## Retrieving Related Pages\n",
    "\n",
    "We have created a program that will pull data from the first page of the list of artists whose last names start with the letter **Z**. However, there are 4 pages in total of these artists available on the website.\n",
    "\n",
    "In order to collect all of these pages, we can perform more iterations with for loops. This will revise most of the code we have written so far, but will employ similar concepts.\n",
    "\n",
    "To start, we’ll want to initialize a list to hold the pages:"
   ]
  },
  {
   "cell_type": "code",
   "execution_count": 14,
   "metadata": {},
   "outputs": [],
   "source": [
    "pages = []"
   ]
  },
  {
   "cell_type": "markdown",
   "metadata": {},
   "source": [
    "We will populate this initialized list with the following ```for``` loop:"
   ]
  },
  {
   "cell_type": "code",
   "execution_count": 15,
   "metadata": {},
   "outputs": [],
   "source": [
    "for i in range(1, 5):\n",
    "    url = 'https://web.archive.org/web/20121007172955/https://www.nga.gov/collection/anZ' + str(i) + '.htm'\n",
    "    pages.append(url)"
   ]
  },
  {
   "cell_type": "markdown",
   "metadata": {},
   "source": [
    "Earlier in this tutorial, we noted that we should pay attention to the total number of pages there are that contain artists’ names starting with the letter **Z** (or whatever letter we’re using). Since there are 4 pages for the letter **Z**, we constructed the ```for``` loop above with a range of ```1``` to ```5``` so that it will iterate through each of the 4 pages.\n",
    "\n",
    "For this specific web site, the URLs begin with the string https://web.archive.org/web/20121007172955/https://www.nga.gov/collection/anZ and then are followed with a number for the page (which will be the integer ```i``` from the ```for``` loop that we convert to a string) and end with ```.htm```. We will concatenate these strings together and then append the result to the ```pages``` list.\n",
    "\n",
    "In addition to this loop, we’ll have a second loop that will go through each of the pages above. The code in this ```for``` loop will look similar to the code we have created so far, as it is doing the task we completed for the first page of the letter **Z** artists for each of the 4 pages total. Note that because we have put the original program into the second ```for``` loop, we now have the original loop as a nested ```for``` loop contained in it.\n",
    "\n",
    "The two ```for``` loops will look like this:"
   ]
  },
  {
   "cell_type": "code",
   "execution_count": 16,
   "metadata": {},
   "outputs": [],
   "source": [
    "pages = []\n",
    "\n",
    "for i in range(1, 5):\n",
    "    url = 'https://web.archive.org/web/20121007172955/https://www.nga.gov/collection/anZ' + str(i) + '.htm'\n",
    "    pages.append(url)\n",
    "\n",
    "for item in pages:\n",
    "    page = requests.get(item)\n",
    "    soup = BeautifulSoup(page.text, 'html.parser')\n",
    "\n",
    "    last_links = soup.find(class_='AlphaNav')\n",
    "    last_links.decompose()\n",
    "\n",
    "    artist_name_list = soup.find(class_='BodyText')\n",
    "    artist_name_list_items = artist_name_list.find_all('a')\n",
    "\n",
    "    for artist_name in artist_name_list_items:\n",
    "        names = artist_name.contents[0]\n",
    "        links = 'https://web.archive.org' + artist_name.get('href')\n",
    "\n",
    "        f.writerow([names, links])"
   ]
  },
  {
   "cell_type": "markdown",
   "metadata": {},
   "source": [
    "In the code above, you should see that the first ```for``` loop is iterating over the pages and the second ```for``` loop is scraping data from each of those pages and then is adding the artists’ names and links line by line through each row of each page.\n",
    "\n",
    "These two ```for``` loops come below the ```import``` statements, the CSV file creation and writer (with the line for writing the headers of the file), and the initialization of the ```pages``` variable (assigned to a list).\n",
    "\n",
    "Within the greater context of the programming file, the complete code looks like this:"
   ]
  },
  {
   "cell_type": "code",
   "execution_count": 17,
   "metadata": {},
   "outputs": [],
   "source": [
    "import requests\n",
    "import csv\n",
    "from bs4 import BeautifulSoup\n",
    "\n",
    "\n",
    "f = csv.writer(open('z-artist-names.csv', 'w'))\n",
    "f.writerow(['Name', 'Link'])\n",
    "\n",
    "pages = []\n",
    "\n",
    "for i in range(1, 5):\n",
    "    url = 'https://web.archive.org/web/20121007172955/https://www.nga.gov/collection/anZ' + str(i) + '.htm'\n",
    "    pages.append(url)\n",
    "\n",
    "\n",
    "for item in pages:\n",
    "    page = requests.get(item)\n",
    "    soup = BeautifulSoup(page.text, 'html.parser')\n",
    "\n",
    "    last_links = soup.find(class_='AlphaNav')\n",
    "    last_links.decompose()\n",
    "\n",
    "    artist_name_list = soup.find(class_='BodyText')\n",
    "    artist_name_list_items = artist_name_list.find_all('a')\n",
    "\n",
    "    for artist_name in artist_name_list_items:\n",
    "        names = artist_name.contents[0]\n",
    "        links = 'https://web.archive.org' + artist_name.get('href')\n",
    "\n",
    "        f.writerow([names, links])"
   ]
  },
  {
   "cell_type": "markdown",
   "metadata": {},
   "source": [
    "Since this program is doing a bit of work, it will take a little while to create the CSV file. Once it is done, the output will be complete, showing the artists’ names and their associated links from **Zabaglia, Niccola** to **Zykmund, Václav**."
   ]
  },
  {
   "cell_type": "markdown",
   "metadata": {},
   "source": [
    "## Being Considerate\n",
    "\n",
    "When scraping web pages, it is important to remain considerate of the servers you are grabbing information from.\n",
    "\n",
    "Check to see if a site has terms of service or terms of use that pertains to web scraping. Also, check to see if a site has an API that allows you to grab data before scraping it yourself.\n",
    "\n",
    "Be sure to not continuously hit servers to gather data. Once you have collected what you need from a site, run scripts that will go over the data locally rather than burden someone else’s servers.\n",
    "\n",
    "Additionally, it is a good idea to scrape with a header that has your name and email so that a website can identify you and follow up if they have any questions. An example of a header you can use with the Python Requests library is as follows:"
   ]
  },
  {
   "cell_type": "code",
   "execution_count": 18,
   "metadata": {},
   "outputs": [],
   "source": [
    "import requests\n",
    "\n",
    "headers = {\n",
    "    'User-Agent': 'Your Name, example.com',\n",
    "    'From': 'email@example.com'\n",
    "}\n",
    "\n",
    "url = 'https://example.com'\n",
    "\n",
    "page = requests.get(url, headers = headers)"
   ]
  },
  {
   "cell_type": "markdown",
   "metadata": {},
   "source": [
    "Using headers with identifiable information ensures that the people who go over a server’s logs can reach out to you."
   ]
  },
  {
   "cell_type": "markdown",
   "metadata": {},
   "source": [
    "## Conclusion\n",
    "\n",
    "This tutorial went through using Python and Beautiful Soup to scrape data from a website. We stored the text that we gathered within a CSV file.\n",
    "\n",
    "You can continue working on this project by collecting more data and making your CSV file more robust. For example, you may want to include the nationalities and years of each artist. You can also use what you have learned to scrape data from other websites."
   ]
  },
  {
   "cell_type": "code",
   "execution_count": null,
   "metadata": {},
   "outputs": [],
   "source": []
  }
 ],
 "metadata": {
  "kernelspec": {
   "display_name": "Python 3",
   "language": "python",
   "name": "python3"
  },
  "language_info": {
   "codemirror_mode": {
    "name": "ipython",
    "version": 3
   },
   "file_extension": ".py",
   "mimetype": "text/x-python",
   "name": "python",
   "nbconvert_exporter": "python",
   "pygments_lexer": "ipython3",
   "version": "3.6.8"
  }
 },
 "nbformat": 4,
 "nbformat_minor": 2
}
