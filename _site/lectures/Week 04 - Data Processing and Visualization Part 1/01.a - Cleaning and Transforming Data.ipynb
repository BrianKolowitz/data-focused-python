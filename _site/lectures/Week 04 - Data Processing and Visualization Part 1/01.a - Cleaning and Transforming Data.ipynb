{
 "cells": [
  {
   "cell_type": "code",
   "execution_count": 1,
   "metadata": {
    "collapsed": true
   },
   "outputs": [],
   "source": [
    "import csv\n",
    "import json\n",
    "from pprint import pprint"
   ]
  },
  {
   "cell_type": "code",
   "execution_count": 2,
   "metadata": {},
   "outputs": [
    {
     "name": "stdout",
     "output_type": "stream",
     "text": [
      "['Id', 'BIRTHDATE', 'DEATHDATE', 'SSN', 'DRIVERS', 'PASSPORT', 'PREFIX', 'FIRST', 'LAST', 'SUFFIX', 'MAIDEN', 'MARITAL', 'RACE', 'ETHNICITY', 'GENDER', 'BIRTHPLACE', 'ADDRESS', 'CITY', 'STATE', 'ZIP']\n",
      "['3287bb9c-e395-4146-8dd5-1fc3d887d220', '2015-07-12', '', '999-82-9751', '', '', '', 'Victor265', 'Kilback373', '', '', '', 'white', 'polish', 'M', 'Newton  Massachusetts  US', '657 Heathcote Divide', 'Fitchburg', 'Massachusetts', '01420']\n"
     ]
    }
   ],
   "source": [
    "with open('../data/csv/patients.csv') as f:\n",
    "    reader = csv.reader(f)\n",
    "    header = next(reader, None)\n",
    "    rows = [row for row in reader]\n",
    "\n",
    "print(header)\n",
    "print(rows[0])"
   ]
  },
  {
   "cell_type": "code",
   "execution_count": 3,
   "metadata": {
    "collapsed": true
   },
   "outputs": [],
   "source": [
    "import datetime\n",
    "from datetime import date, timedelta\n",
    "from dateutil import parser\n",
    "\n",
    "def get_age(birth_date):\n",
    "    if isinstance(birth_date, str):\n",
    "        birth_date = parser.parse(birth_date).date()\n",
    "\n",
    "    age = (date.today()  - birth_date) // timedelta(days=365)\n",
    "    return age"
   ]
  },
  {
   "cell_type": "code",
   "execution_count": 4,
   "metadata": {},
   "outputs": [
    {
     "data": {
      "text/plain": [
       "datetime.date(2019, 11, 14)"
      ]
     },
     "execution_count": 4,
     "metadata": {},
     "output_type": "execute_result"
    }
   ],
   "source": [
    "date.today()"
   ]
  },
  {
   "cell_type": "code",
   "execution_count": 5,
   "metadata": {},
   "outputs": [
    {
     "data": {
      "text/plain": [
       "datetime.datetime(2019, 11, 14, 8, 49, 59, 813451)"
      ]
     },
     "execution_count": 5,
     "metadata": {},
     "output_type": "execute_result"
    }
   ],
   "source": [
    "datetime.datetime.now()"
   ]
  },
  {
   "cell_type": "code",
   "execution_count": 6,
   "metadata": {},
   "outputs": [
    {
     "name": "stdout",
     "output_type": "stream",
     "text": [
      "8\n"
     ]
    }
   ],
   "source": [
    "print(get_age('2011-09-10'))"
   ]
  },
  {
   "cell_type": "code",
   "execution_count": 7,
   "metadata": {},
   "outputs": [
    {
     "name": "stdout",
     "output_type": "stream",
     "text": [
      "5\n"
     ]
    }
   ],
   "source": [
    "print(get_age('2014-01-10'))"
   ]
  },
  {
   "cell_type": "code",
   "execution_count": 8,
   "metadata": {},
   "outputs": [
    {
     "name": "stdout",
     "output_type": "stream",
     "text": [
      "[4, 16, 11, 15, 6, 7, 53, 82, 12, 18, 52, 21, 16, 62, 9, 37, 32, 3, 80, 17, 16, 13, 24, 26, 27, 6, 69, 30, 80, 39, 49, 15, 38, 52, 58, 63, 9, 19, 30, 50, 1, 51, 80, 28, 67, 22, 97, 10, 49, 97, 25, 74, 76, 27, 15, 67, 32, 76, 56, 74, 97, 64, 68, 58, 48, 31, 2, 76, 64, 46, 1, 64, 75, 97, 23, 17, 45, 77, 97, 30, 8, 72, 59, 97, 61, 57, 65, 0, 48, 97, 1, 68, 59, 60, 41, 16, 70, 27, 97, 51, 69, 24, 26, 54, 30, 67, 21, 29, 44, 97, 104, 28, 19, 65, 65, 104, 97, 104, 97, 104, 104, 97, 104, 97, 97, 97, 97, 88, 88]\n"
     ]
    }
   ],
   "source": [
    "ages = [get_age(row[1]) for row in rows]\n",
    "print(ages)"
   ]
  },
  {
   "cell_type": "code",
   "execution_count": 9,
   "metadata": {},
   "outputs": [
    {
     "name": "stdout",
     "output_type": "stream",
     "text": [
      "[{'age': 4, 'birth_date': '2015-07-12'},\n",
      " {'age': 16, 'birth_date': '2003-04-15'},\n",
      " {'age': 11, 'birth_date': '2008-06-26'},\n",
      " {'age': 15, 'birth_date': '2004-06-22'},\n",
      " {'age': 6, 'birth_date': '2012-12-12'},\n",
      " {'age': 7, 'birth_date': '2012-10-04'},\n",
      " {'age': 53, 'birth_date': '1966-10-02'},\n",
      " {'age': 82, 'birth_date': '1937-04-18'},\n",
      " {'age': 12, 'birth_date': '2007-01-01'},\n",
      " {'age': 18, 'birth_date': '2001-09-12'},\n",
      " {'age': 52, 'birth_date': '1967-11-05'},\n",
      " {'age': 21, 'birth_date': '1998-05-27'},\n",
      " {'age': 16, 'birth_date': '2003-06-22'},\n",
      " {'age': 62, 'birth_date': '1957-02-03'},\n",
      " {'age': 9, 'birth_date': '2009-12-15'},\n",
      " {'age': 37, 'birth_date': '1981-11-24'},\n",
      " {'age': 32, 'birth_date': '1987-04-23'},\n",
      " {'age': 3, 'birth_date': '2016-02-26'},\n",
      " {'age': 80, 'birth_date': '1939-05-17'},\n",
      " {'age': 17, 'birth_date': '2002-05-04'},\n",
      " {'age': 16, 'birth_date': '2003-07-13'},\n",
      " {'age': 13, 'birth_date': '2006-09-05'},\n",
      " {'age': 24, 'birth_date': '1995-04-13'},\n",
      " {'age': 26, 'birth_date': '1993-08-19'},\n",
      " {'age': 27, 'birth_date': '1992-02-09'},\n",
      " {'age': 6, 'birth_date': '2013-09-10'},\n",
      " {'age': 69, 'birth_date': '1950-02-06'},\n",
      " {'age': 30, 'birth_date': '1989-05-19'},\n",
      " {'age': 80, 'birth_date': '1939-05-17'},\n",
      " {'age': 39, 'birth_date': '1980-08-01'},\n",
      " {'age': 49, 'birth_date': '1970-10-17'},\n",
      " {'age': 15, 'birth_date': '2004-09-02'},\n",
      " {'age': 38, 'birth_date': '1981-09-17'},\n",
      " {'age': 52, 'birth_date': '1967-11-06'},\n",
      " {'age': 58, 'birth_date': '1961-07-15'},\n",
      " {'age': 63, 'birth_date': '1956-04-05'},\n",
      " {'age': 9, 'birth_date': '2010-04-02'},\n",
      " {'age': 19, 'birth_date': '2000-09-13'},\n",
      " {'age': 30, 'birth_date': '1989-04-14'},\n",
      " {'age': 50, 'birth_date': '1969-08-30'},\n",
      " {'age': 1, 'birth_date': '2018-02-15'},\n",
      " {'age': 51, 'birth_date': '1968-11-10'},\n",
      " {'age': 80, 'birth_date': '1939-05-17'},\n",
      " {'age': 28, 'birth_date': '1991-04-14'},\n",
      " {'age': 67, 'birth_date': '1951-12-13'},\n",
      " {'age': 22, 'birth_date': '1997-09-25'},\n",
      " {'age': 97, 'birth_date': '1922-04-03'},\n",
      " {'age': 10, 'birth_date': '2009-06-25'},\n",
      " {'age': 49, 'birth_date': '1970-01-22'},\n",
      " {'age': 97, 'birth_date': '1922-04-03'},\n",
      " {'age': 25, 'birth_date': '1994-10-02'},\n",
      " {'age': 74, 'birth_date': '1945-05-24'},\n",
      " {'age': 76, 'birth_date': '1943-02-09'},\n",
      " {'age': 27, 'birth_date': '1992-01-30'},\n",
      " {'age': 15, 'birth_date': '2004-11-05'},\n",
      " {'age': 67, 'birth_date': '1951-12-13'},\n",
      " {'age': 32, 'birth_date': '1987-04-26'},\n",
      " {'age': 76, 'birth_date': '1943-02-09'},\n",
      " {'age': 56, 'birth_date': '1963-03-09'},\n",
      " {'age': 74, 'birth_date': '1945-05-24'},\n",
      " {'age': 97, 'birth_date': '1922-04-03'},\n",
      " {'age': 64, 'birth_date': '1955-11-30'},\n",
      " {'age': 68, 'birth_date': '1950-12-18'},\n",
      " {'age': 58, 'birth_date': '1961-05-19'},\n",
      " {'age': 48, 'birth_date': '1971-07-29'},\n",
      " {'age': 31, 'birth_date': '1988-11-14'},\n",
      " {'age': 2, 'birth_date': '2017-05-08'},\n",
      " {'age': 76, 'birth_date': '1943-02-09'},\n",
      " {'age': 64, 'birth_date': '1955-11-30'},\n",
      " {'age': 46, 'birth_date': '1973-09-21'},\n",
      " {'age': 1, 'birth_date': '2018-03-25'},\n",
      " {'age': 64, 'birth_date': '1955-03-13'},\n",
      " {'age': 75, 'birth_date': '1944-05-19'},\n",
      " {'age': 97, 'birth_date': '1922-04-03'},\n",
      " {'age': 23, 'birth_date': '1996-09-26'},\n",
      " {'age': 17, 'birth_date': '2002-11-08'},\n",
      " {'age': 45, 'birth_date': '1974-11-01'},\n",
      " {'age': 77, 'birth_date': '1942-06-19'},\n",
      " {'age': 97, 'birth_date': '1922-09-27'},\n",
      " {'age': 30, 'birth_date': '1989-07-17'},\n",
      " {'age': 8, 'birth_date': '2011-10-02'},\n",
      " {'age': 72, 'birth_date': '1947-05-03'},\n",
      " {'age': 59, 'birth_date': '1960-06-11'},\n",
      " {'age': 97, 'birth_date': '1922-04-03'},\n",
      " {'age': 61, 'birth_date': '1958-11-22'},\n",
      " {'age': 57, 'birth_date': '1962-06-28'},\n",
      " {'age': 65, 'birth_date': '1954-08-17'},\n",
      " {'age': 0, 'birth_date': '2019-03-24'},\n",
      " {'age': 48, 'birth_date': '1971-07-25'},\n",
      " {'age': 97, 'birth_date': '1922-09-27'},\n",
      " {'age': 1, 'birth_date': '2018-09-20'},\n",
      " {'age': 68, 'birth_date': '1951-09-17'},\n",
      " {'age': 59, 'birth_date': '1960-06-11'},\n",
      " {'age': 60, 'birth_date': '1959-03-18'},\n",
      " {'age': 41, 'birth_date': '1978-06-04'},\n",
      " {'age': 16, 'birth_date': '2003-10-09'},\n",
      " {'age': 70, 'birth_date': '1949-11-25'},\n",
      " {'age': 27, 'birth_date': '1992-08-04'},\n",
      " {'age': 97, 'birth_date': '1922-09-27'},\n",
      " {'age': 51, 'birth_date': '1968-11-11'},\n",
      " {'age': 69, 'birth_date': '1950-03-23'},\n",
      " {'age': 24, 'birth_date': '1995-01-25'},\n",
      " {'age': 26, 'birth_date': '1993-10-21'},\n",
      " {'age': 54, 'birth_date': '1965-08-30'},\n",
      " {'age': 30, 'birth_date': '1989-08-11'},\n",
      " {'age': 67, 'birth_date': '1951-12-24'},\n",
      " {'age': 21, 'birth_date': '1998-02-14'},\n",
      " {'age': 29, 'birth_date': '1990-02-24'},\n",
      " {'age': 44, 'birth_date': '1975-03-04'},\n",
      " {'age': 97, 'birth_date': '1922-09-27'},\n",
      " {'age': 104, 'birth_date': '1915-04-02'},\n",
      " {'age': 28, 'birth_date': '1991-09-07'},\n",
      " {'age': 19, 'birth_date': '2000-10-13'},\n",
      " {'age': 65, 'birth_date': '1953-12-24'},\n",
      " {'age': 65, 'birth_date': '1954-07-17'},\n",
      " {'age': 104, 'birth_date': '1915-04-02'},\n",
      " {'age': 97, 'birth_date': '1922-09-27'},\n",
      " {'age': 104, 'birth_date': '1915-04-02'},\n",
      " {'age': 97, 'birth_date': '1922-09-27'},\n",
      " {'age': 104, 'birth_date': '1915-04-02'},\n",
      " {'age': 104, 'birth_date': '1915-04-02'},\n",
      " {'age': 97, 'birth_date': '1922-09-27'},\n",
      " {'age': 104, 'birth_date': '1915-04-02'},\n",
      " {'age': 97, 'birth_date': '1922-09-27'},\n",
      " {'age': 97, 'birth_date': '1922-09-27'},\n",
      " {'age': 97, 'birth_date': '1922-09-27'},\n",
      " {'age': 97, 'birth_date': '1922-09-27'},\n",
      " {'age': 88, 'birth_date': '1931-03-16'},\n",
      " {'age': 88, 'birth_date': '1931-03-16'}]\n"
     ]
    }
   ],
   "source": [
    "patients = [ {'birth_date': row[1], 'age': get_age(row[1])} for row in rows ]\n",
    "pprint(patients)"
   ]
  },
  {
   "cell_type": "code",
   "execution_count": 10,
   "metadata": {},
   "outputs": [
    {
     "name": "stdout",
     "output_type": "stream",
     "text": [
      "[{'age': 53, 'birth_date': '1966-10-02'},\n",
      " {'age': 18, 'birth_date': '2001-09-12'},\n",
      " {'age': 52, 'birth_date': '1967-11-05'},\n",
      " {'age': 21, 'birth_date': '1998-05-27'},\n",
      " {'age': 62, 'birth_date': '1957-02-03'},\n",
      " {'age': 37, 'birth_date': '1981-11-24'},\n",
      " {'age': 32, 'birth_date': '1987-04-23'},\n",
      " {'age': 24, 'birth_date': '1995-04-13'},\n",
      " {'age': 26, 'birth_date': '1993-08-19'},\n",
      " {'age': 27, 'birth_date': '1992-02-09'},\n",
      " {'age': 69, 'birth_date': '1950-02-06'},\n",
      " {'age': 30, 'birth_date': '1989-05-19'},\n",
      " {'age': 39, 'birth_date': '1980-08-01'},\n",
      " {'age': 49, 'birth_date': '1970-10-17'},\n",
      " {'age': 38, 'birth_date': '1981-09-17'},\n",
      " {'age': 52, 'birth_date': '1967-11-06'},\n",
      " {'age': 58, 'birth_date': '1961-07-15'},\n",
      " {'age': 63, 'birth_date': '1956-04-05'},\n",
      " {'age': 19, 'birth_date': '2000-09-13'},\n",
      " {'age': 30, 'birth_date': '1989-04-14'},\n",
      " {'age': 50, 'birth_date': '1969-08-30'},\n",
      " {'age': 51, 'birth_date': '1968-11-10'},\n",
      " {'age': 28, 'birth_date': '1991-04-14'},\n",
      " {'age': 67, 'birth_date': '1951-12-13'},\n",
      " {'age': 22, 'birth_date': '1997-09-25'},\n",
      " {'age': 49, 'birth_date': '1970-01-22'},\n",
      " {'age': 25, 'birth_date': '1994-10-02'},\n",
      " {'age': 74, 'birth_date': '1945-05-24'},\n",
      " {'age': 76, 'birth_date': '1943-02-09'},\n",
      " {'age': 27, 'birth_date': '1992-01-30'},\n",
      " {'age': 67, 'birth_date': '1951-12-13'},\n",
      " {'age': 32, 'birth_date': '1987-04-26'},\n",
      " {'age': 76, 'birth_date': '1943-02-09'},\n",
      " {'age': 56, 'birth_date': '1963-03-09'},\n",
      " {'age': 74, 'birth_date': '1945-05-24'},\n",
      " {'age': 64, 'birth_date': '1955-11-30'},\n",
      " {'age': 68, 'birth_date': '1950-12-18'},\n",
      " {'age': 58, 'birth_date': '1961-05-19'},\n",
      " {'age': 48, 'birth_date': '1971-07-29'},\n",
      " {'age': 31, 'birth_date': '1988-11-14'},\n",
      " {'age': 76, 'birth_date': '1943-02-09'},\n",
      " {'age': 64, 'birth_date': '1955-11-30'},\n",
      " {'age': 46, 'birth_date': '1973-09-21'},\n",
      " {'age': 64, 'birth_date': '1955-03-13'},\n",
      " {'age': 75, 'birth_date': '1944-05-19'},\n",
      " {'age': 23, 'birth_date': '1996-09-26'},\n",
      " {'age': 45, 'birth_date': '1974-11-01'},\n",
      " {'age': 77, 'birth_date': '1942-06-19'},\n",
      " {'age': 30, 'birth_date': '1989-07-17'},\n",
      " {'age': 72, 'birth_date': '1947-05-03'},\n",
      " {'age': 59, 'birth_date': '1960-06-11'},\n",
      " {'age': 61, 'birth_date': '1958-11-22'},\n",
      " {'age': 57, 'birth_date': '1962-06-28'},\n",
      " {'age': 65, 'birth_date': '1954-08-17'},\n",
      " {'age': 48, 'birth_date': '1971-07-25'},\n",
      " {'age': 68, 'birth_date': '1951-09-17'},\n",
      " {'age': 59, 'birth_date': '1960-06-11'},\n",
      " {'age': 60, 'birth_date': '1959-03-18'},\n",
      " {'age': 41, 'birth_date': '1978-06-04'},\n",
      " {'age': 70, 'birth_date': '1949-11-25'},\n",
      " {'age': 27, 'birth_date': '1992-08-04'},\n",
      " {'age': 51, 'birth_date': '1968-11-11'},\n",
      " {'age': 69, 'birth_date': '1950-03-23'},\n",
      " {'age': 24, 'birth_date': '1995-01-25'},\n",
      " {'age': 26, 'birth_date': '1993-10-21'},\n",
      " {'age': 54, 'birth_date': '1965-08-30'},\n",
      " {'age': 30, 'birth_date': '1989-08-11'},\n",
      " {'age': 67, 'birth_date': '1951-12-24'},\n",
      " {'age': 21, 'birth_date': '1998-02-14'},\n",
      " {'age': 29, 'birth_date': '1990-02-24'},\n",
      " {'age': 44, 'birth_date': '1975-03-04'},\n",
      " {'age': 28, 'birth_date': '1991-09-07'},\n",
      " {'age': 19, 'birth_date': '2000-10-13'},\n",
      " {'age': 65, 'birth_date': '1953-12-24'},\n",
      " {'age': 65, 'birth_date': '1954-07-17'}]\n"
     ]
    }
   ],
   "source": [
    "# filtering based on age\n",
    "min_age = 18\n",
    "max_age = 79\n",
    "patients = [ {'birth_date': row[1], 'age': get_age(row[1])} \n",
    "            for row in rows if get_age(row[1]) >= min_age and get_age(row[1]) <= max_age ]\n",
    "pprint(patients)"
   ]
  },
  {
   "cell_type": "code",
   "execution_count": 11,
   "metadata": {
    "collapsed": true
   },
   "outputs": [],
   "source": [
    "# another way to do it, add the age to the end\n",
    "for row in rows:\n",
    "    row.append(get_age(row[1]))"
   ]
  },
  {
   "cell_type": "code",
   "execution_count": 12,
   "metadata": {},
   "outputs": [
    {
     "name": "stdout",
     "output_type": "stream",
     "text": [
      "['3287bb9c-e395-4146-8dd5-1fc3d887d220', '2015-07-12', '', '999-82-9751', '', '', '', 'Victor265', 'Kilback373', '', '', '', 'white', 'polish', 'M', 'Newton  Massachusetts  US', '657 Heathcote Divide', 'Fitchburg', 'Massachusetts', '01420', 4]\n"
     ]
    }
   ],
   "source": [
    "print(rows[0])"
   ]
  },
  {
   "cell_type": "code",
   "execution_count": 13,
   "metadata": {},
   "outputs": [
    {
     "name": "stdout",
     "output_type": "stream",
     "text": [
      "[{'age': 53, 'birth_date': '1966-10-02'},\n",
      " {'age': 18, 'birth_date': '2001-09-12'},\n",
      " {'age': 52, 'birth_date': '1967-11-05'},\n",
      " {'age': 21, 'birth_date': '1998-05-27'},\n",
      " {'age': 62, 'birth_date': '1957-02-03'},\n",
      " {'age': 37, 'birth_date': '1981-11-24'},\n",
      " {'age': 32, 'birth_date': '1987-04-23'},\n",
      " {'age': 24, 'birth_date': '1995-04-13'},\n",
      " {'age': 26, 'birth_date': '1993-08-19'},\n",
      " {'age': 27, 'birth_date': '1992-02-09'},\n",
      " {'age': 69, 'birth_date': '1950-02-06'},\n",
      " {'age': 30, 'birth_date': '1989-05-19'},\n",
      " {'age': 39, 'birth_date': '1980-08-01'},\n",
      " {'age': 49, 'birth_date': '1970-10-17'},\n",
      " {'age': 38, 'birth_date': '1981-09-17'},\n",
      " {'age': 52, 'birth_date': '1967-11-06'},\n",
      " {'age': 58, 'birth_date': '1961-07-15'},\n",
      " {'age': 63, 'birth_date': '1956-04-05'},\n",
      " {'age': 19, 'birth_date': '2000-09-13'},\n",
      " {'age': 30, 'birth_date': '1989-04-14'},\n",
      " {'age': 50, 'birth_date': '1969-08-30'},\n",
      " {'age': 51, 'birth_date': '1968-11-10'},\n",
      " {'age': 28, 'birth_date': '1991-04-14'},\n",
      " {'age': 67, 'birth_date': '1951-12-13'},\n",
      " {'age': 22, 'birth_date': '1997-09-25'},\n",
      " {'age': 49, 'birth_date': '1970-01-22'},\n",
      " {'age': 25, 'birth_date': '1994-10-02'},\n",
      " {'age': 74, 'birth_date': '1945-05-24'},\n",
      " {'age': 76, 'birth_date': '1943-02-09'},\n",
      " {'age': 27, 'birth_date': '1992-01-30'},\n",
      " {'age': 67, 'birth_date': '1951-12-13'},\n",
      " {'age': 32, 'birth_date': '1987-04-26'},\n",
      " {'age': 76, 'birth_date': '1943-02-09'},\n",
      " {'age': 56, 'birth_date': '1963-03-09'},\n",
      " {'age': 74, 'birth_date': '1945-05-24'},\n",
      " {'age': 64, 'birth_date': '1955-11-30'},\n",
      " {'age': 68, 'birth_date': '1950-12-18'},\n",
      " {'age': 58, 'birth_date': '1961-05-19'},\n",
      " {'age': 48, 'birth_date': '1971-07-29'},\n",
      " {'age': 31, 'birth_date': '1988-11-14'},\n",
      " {'age': 76, 'birth_date': '1943-02-09'},\n",
      " {'age': 64, 'birth_date': '1955-11-30'},\n",
      " {'age': 46, 'birth_date': '1973-09-21'},\n",
      " {'age': 64, 'birth_date': '1955-03-13'},\n",
      " {'age': 75, 'birth_date': '1944-05-19'},\n",
      " {'age': 23, 'birth_date': '1996-09-26'},\n",
      " {'age': 45, 'birth_date': '1974-11-01'},\n",
      " {'age': 77, 'birth_date': '1942-06-19'},\n",
      " {'age': 30, 'birth_date': '1989-07-17'},\n",
      " {'age': 72, 'birth_date': '1947-05-03'},\n",
      " {'age': 59, 'birth_date': '1960-06-11'},\n",
      " {'age': 61, 'birth_date': '1958-11-22'},\n",
      " {'age': 57, 'birth_date': '1962-06-28'},\n",
      " {'age': 65, 'birth_date': '1954-08-17'},\n",
      " {'age': 48, 'birth_date': '1971-07-25'},\n",
      " {'age': 68, 'birth_date': '1951-09-17'},\n",
      " {'age': 59, 'birth_date': '1960-06-11'},\n",
      " {'age': 60, 'birth_date': '1959-03-18'},\n",
      " {'age': 41, 'birth_date': '1978-06-04'},\n",
      " {'age': 70, 'birth_date': '1949-11-25'},\n",
      " {'age': 27, 'birth_date': '1992-08-04'},\n",
      " {'age': 51, 'birth_date': '1968-11-11'},\n",
      " {'age': 69, 'birth_date': '1950-03-23'},\n",
      " {'age': 24, 'birth_date': '1995-01-25'},\n",
      " {'age': 26, 'birth_date': '1993-10-21'},\n",
      " {'age': 54, 'birth_date': '1965-08-30'},\n",
      " {'age': 30, 'birth_date': '1989-08-11'},\n",
      " {'age': 67, 'birth_date': '1951-12-24'},\n",
      " {'age': 21, 'birth_date': '1998-02-14'},\n",
      " {'age': 29, 'birth_date': '1990-02-24'},\n",
      " {'age': 44, 'birth_date': '1975-03-04'},\n",
      " {'age': 28, 'birth_date': '1991-09-07'},\n",
      " {'age': 19, 'birth_date': '2000-10-13'},\n",
      " {'age': 65, 'birth_date': '1953-12-24'},\n",
      " {'age': 65, 'birth_date': '1954-07-17'}]\n"
     ]
    }
   ],
   "source": [
    "min_age = 18\n",
    "max_age = 79\n",
    "patients = [ {'birth_date': row[1], 'age': row[20]} \n",
    "            for row in rows if row[20] >= min_age and row[20] <= max_age ]\n",
    "pprint(patients)"
   ]
  },
  {
   "cell_type": "code",
   "execution_count": 14,
   "metadata": {
    "collapsed": true
   },
   "outputs": [],
   "source": [
    "# deidentify the name\n",
    "import random\n",
    "\n",
    "def fake_name_generator():\n",
    "    fake_names = \\\n",
    "\"\"\"Veronique Tippetts\n",
    "Sarah Santiago\n",
    "Eustolia Bushard\n",
    "Emanuel Riker\n",
    "Maybelle Denney\n",
    "Lilia Gobel\n",
    "Clarine Vandermeer\n",
    "Felicidad Joynes\n",
    "Rod Pixley\n",
    "Rashad Fukushima\n",
    "Marci Bakley\n",
    "Melvina Cichon\n",
    "Susy Sibert\n",
    "Oma Hoskins\n",
    "Lance Curnutte\n",
    "Mei Wooldridge\n",
    "Jillian Mccroy\n",
    "Darby Castellon\n",
    "Raul Pickney\n",
    "Loni Kaur\"\"\".split('\\n')\n",
    "    return random.choice(fake_names).strip()"
   ]
  },
  {
   "cell_type": "code",
   "execution_count": 15,
   "metadata": {},
   "outputs": [
    {
     "name": "stdout",
     "output_type": "stream",
     "text": [
      "Loni Kaur\n",
      "Eustolia Bushard\n",
      "Maybelle Denney\n"
     ]
    }
   ],
   "source": [
    "print(fake_name_generator())\n",
    "print(fake_name_generator())\n",
    "print(fake_name_generator())"
   ]
  },
  {
   "cell_type": "code",
   "execution_count": 16,
   "metadata": {
    "collapsed": true
   },
   "outputs": [],
   "source": [
    "# don't reuse names\n",
    "fake_names = \\\n",
    "\"\"\"Veronique Tippetts\n",
    "Sarah Santiago\n",
    "Eustolia Bushard\n",
    "Emanuel Riker\n",
    "Maybelle Denney\n",
    "Lilia Gobel\n",
    "Clarine Vandermeer\n",
    "Felicidad Joynes\n",
    "Rod Pixley\n",
    "Rashad Fukushima\n",
    "Marci Bakley\n",
    "Melvina Cichon\n",
    "Susy Sibert\n",
    "Oma Hoskins\n",
    "Lance Curnutte\n",
    "Mei Wooldridge\n",
    "Jillian Mccroy\n",
    "Darby Castellon\n",
    "Raul Pickney\n",
    "Loni Kaur\"\"\".split('\\n')\n",
    "    \n",
    "def get_fake_name():\n",
    "    if len(fake_names) == 0:\n",
    "        return None\n",
    "    r = random.randint(0, len(fake_names) - 1)\n",
    "    n = fake_names[r].strip()\n",
    "    del fake_names[r]\n",
    "    return n"
   ]
  },
  {
   "cell_type": "code",
   "execution_count": 17,
   "metadata": {},
   "outputs": [
    {
     "name": "stdout",
     "output_type": "stream",
     "text": [
      "Oma Hoskins\n",
      "Darby Castellon\n",
      "Loni Kaur\n",
      "Melvina Cichon\n",
      "Eustolia Bushard\n",
      "Raul Pickney\n",
      "Clarine Vandermeer\n",
      "Rashad Fukushima\n",
      "Jillian Mccroy\n",
      "Maybelle Denney\n",
      "Rod Pixley\n",
      "Lilia Gobel\n",
      "Veronique Tippetts\n",
      "Susy Sibert\n",
      "Marci Bakley\n",
      "Emanuel Riker\n",
      "Lance Curnutte\n",
      "Mei Wooldridge\n",
      "Sarah Santiago\n",
      "Felicidad Joynes\n",
      "None\n"
     ]
    }
   ],
   "source": [
    "for i in range(21):\n",
    "    print(get_fake_name())"
   ]
  },
  {
   "cell_type": "code",
   "execution_count": 18,
   "metadata": {},
   "outputs": [
    {
     "name": "stdout",
     "output_type": "stream",
     "text": [
      "[{'age': 53, 'birth_date': '1966-10-02', 'name': None},\n",
      " {'age': 18, 'birth_date': '2001-09-12', 'name': None},\n",
      " {'age': 52, 'birth_date': '1967-11-05', 'name': None},\n",
      " {'age': 21, 'birth_date': '1998-05-27', 'name': None},\n",
      " {'age': 62, 'birth_date': '1957-02-03', 'name': None},\n",
      " {'age': 37, 'birth_date': '1981-11-24', 'name': None},\n",
      " {'age': 32, 'birth_date': '1987-04-23', 'name': None},\n",
      " {'age': 24, 'birth_date': '1995-04-13', 'name': None},\n",
      " {'age': 26, 'birth_date': '1993-08-19', 'name': None},\n",
      " {'age': 27, 'birth_date': '1992-02-09', 'name': None},\n",
      " {'age': 69, 'birth_date': '1950-02-06', 'name': None},\n",
      " {'age': 30, 'birth_date': '1989-05-19', 'name': None},\n",
      " {'age': 39, 'birth_date': '1980-08-01', 'name': None},\n",
      " {'age': 49, 'birth_date': '1970-10-17', 'name': None},\n",
      " {'age': 38, 'birth_date': '1981-09-17', 'name': None},\n",
      " {'age': 52, 'birth_date': '1967-11-06', 'name': None},\n",
      " {'age': 58, 'birth_date': '1961-07-15', 'name': None},\n",
      " {'age': 63, 'birth_date': '1956-04-05', 'name': None},\n",
      " {'age': 19, 'birth_date': '2000-09-13', 'name': None},\n",
      " {'age': 30, 'birth_date': '1989-04-14', 'name': None},\n",
      " {'age': 50, 'birth_date': '1969-08-30', 'name': None},\n",
      " {'age': 51, 'birth_date': '1968-11-10', 'name': None},\n",
      " {'age': 28, 'birth_date': '1991-04-14', 'name': None},\n",
      " {'age': 67, 'birth_date': '1951-12-13', 'name': None},\n",
      " {'age': 22, 'birth_date': '1997-09-25', 'name': None},\n",
      " {'age': 49, 'birth_date': '1970-01-22', 'name': None},\n",
      " {'age': 25, 'birth_date': '1994-10-02', 'name': None},\n",
      " {'age': 74, 'birth_date': '1945-05-24', 'name': None},\n",
      " {'age': 76, 'birth_date': '1943-02-09', 'name': None},\n",
      " {'age': 27, 'birth_date': '1992-01-30', 'name': None},\n",
      " {'age': 67, 'birth_date': '1951-12-13', 'name': None},\n",
      " {'age': 32, 'birth_date': '1987-04-26', 'name': None},\n",
      " {'age': 76, 'birth_date': '1943-02-09', 'name': None},\n",
      " {'age': 56, 'birth_date': '1963-03-09', 'name': None},\n",
      " {'age': 74, 'birth_date': '1945-05-24', 'name': None},\n",
      " {'age': 64, 'birth_date': '1955-11-30', 'name': None},\n",
      " {'age': 68, 'birth_date': '1950-12-18', 'name': None},\n",
      " {'age': 58, 'birth_date': '1961-05-19', 'name': None},\n",
      " {'age': 48, 'birth_date': '1971-07-29', 'name': None},\n",
      " {'age': 31, 'birth_date': '1988-11-14', 'name': None},\n",
      " {'age': 76, 'birth_date': '1943-02-09', 'name': None},\n",
      " {'age': 64, 'birth_date': '1955-11-30', 'name': None},\n",
      " {'age': 46, 'birth_date': '1973-09-21', 'name': None},\n",
      " {'age': 64, 'birth_date': '1955-03-13', 'name': None},\n",
      " {'age': 75, 'birth_date': '1944-05-19', 'name': None},\n",
      " {'age': 23, 'birth_date': '1996-09-26', 'name': None},\n",
      " {'age': 45, 'birth_date': '1974-11-01', 'name': None},\n",
      " {'age': 77, 'birth_date': '1942-06-19', 'name': None},\n",
      " {'age': 30, 'birth_date': '1989-07-17', 'name': None},\n",
      " {'age': 72, 'birth_date': '1947-05-03', 'name': None},\n",
      " {'age': 59, 'birth_date': '1960-06-11', 'name': None},\n",
      " {'age': 61, 'birth_date': '1958-11-22', 'name': None},\n",
      " {'age': 57, 'birth_date': '1962-06-28', 'name': None},\n",
      " {'age': 65, 'birth_date': '1954-08-17', 'name': None},\n",
      " {'age': 48, 'birth_date': '1971-07-25', 'name': None},\n",
      " {'age': 68, 'birth_date': '1951-09-17', 'name': None},\n",
      " {'age': 59, 'birth_date': '1960-06-11', 'name': None},\n",
      " {'age': 60, 'birth_date': '1959-03-18', 'name': None},\n",
      " {'age': 41, 'birth_date': '1978-06-04', 'name': None},\n",
      " {'age': 70, 'birth_date': '1949-11-25', 'name': None},\n",
      " {'age': 27, 'birth_date': '1992-08-04', 'name': None},\n",
      " {'age': 51, 'birth_date': '1968-11-11', 'name': None},\n",
      " {'age': 69, 'birth_date': '1950-03-23', 'name': None},\n",
      " {'age': 24, 'birth_date': '1995-01-25', 'name': None},\n",
      " {'age': 26, 'birth_date': '1993-10-21', 'name': None},\n",
      " {'age': 54, 'birth_date': '1965-08-30', 'name': None},\n",
      " {'age': 30, 'birth_date': '1989-08-11', 'name': None},\n",
      " {'age': 67, 'birth_date': '1951-12-24', 'name': None},\n",
      " {'age': 21, 'birth_date': '1998-02-14', 'name': None},\n",
      " {'age': 29, 'birth_date': '1990-02-24', 'name': None},\n",
      " {'age': 44, 'birth_date': '1975-03-04', 'name': None},\n",
      " {'age': 28, 'birth_date': '1991-09-07', 'name': None},\n",
      " {'age': 19, 'birth_date': '2000-10-13', 'name': None},\n",
      " {'age': 65, 'birth_date': '1953-12-24', 'name': None},\n",
      " {'age': 65, 'birth_date': '1954-07-17', 'name': None}]\n"
     ]
    }
   ],
   "source": [
    "min_age = 18\n",
    "max_age = 79\n",
    "patients = [ {'birth_date': row[1], 'age': row[20], 'name': get_fake_name() } \n",
    "            for row in rows if row[20] >= min_age and row[20] <= max_age ]\n",
    "pprint(patients)"
   ]
  },
  {
   "cell_type": "code",
   "execution_count": null,
   "metadata": {
    "collapsed": true
   },
   "outputs": [],
   "source": []
  }
 ],
 "metadata": {
  "kernelspec": {
   "display_name": "Python 3",
   "language": "python",
   "name": "python3"
  },
  "language_info": {
   "codemirror_mode": {
    "name": "ipython",
    "version": 3
   },
   "file_extension": ".py",
   "mimetype": "text/x-python",
   "name": "python",
   "nbconvert_exporter": "python",
   "pygments_lexer": "ipython3",
   "version": "3.6.4"
  }
 },
 "nbformat": 4,
 "nbformat_minor": 2
}
