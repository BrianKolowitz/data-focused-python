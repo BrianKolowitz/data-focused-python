{
 "cells": [
  {
   "cell_type": "markdown",
   "id": "8e6b00fb-6a01-4270-bc36-4ff75d4a2bdd",
   "metadata": {},
   "source": [
    "# Introducing Linters \n",
    "[Source](https://realpython.com/python-testing/)\n",
    "\n",
    "A linter will look at your code and comment on it. It could give you tips about mistakes you’ve made, correct trailing spaces, and even predict bugs you may have introduced."
   ]
  },
  {
   "cell_type": "markdown",
   "id": "a41aab76-04f4-4b71-a296-bd870df633c7",
   "metadata": {},
   "source": [
    "## Passive Linting With flake8\n",
    "\n",
    "A popular linter that comments on the style of your code in relation to the PEP 8 specification is flake8."
   ]
  },
  {
   "cell_type": "markdown",
   "id": "30c85347-327d-4eab-bb43-a02f93403ea0",
   "metadata": {},
   "source": [
    "You can install flake8 using pip:\n",
    "\n",
    "```bash\n",
    "pip install flake8\n",
    "```"
   ]
  },
  {
   "cell_type": "markdown",
   "id": "46e36330-0598-4b7d-a5d9-3a7f8c1e7ccb",
   "metadata": {},
   "source": [
    "You can then run flake8 over a single file, a folder, or a pattern:"
   ]
  },
  {
   "cell_type": "code",
   "execution_count": 1,
   "id": "37eb1a61-891b-476c-a16b-3d42c6f24bd4",
   "metadata": {},
   "outputs": [
    {
     "name": "stdout",
     "output_type": "stream",
     "text": [
      "lint_example.py:2:3: E111 indentation is not a multiple of 4\n",
      "lint_example.py:4:1: E302 expected 2 blank lines, found 1\n",
      "lint_example.py:7:1: W293 blank line contains whitespace\n",
      "lint_example.py:10:4: E111 indentation is not a multiple of 4\n",
      "lint_example.py:11:4: E111 indentation is not a multiple of 4\n",
      "lint_example.py:11:44: W292 no newline at end of file\n"
     ]
    }
   ],
   "source": [
    "!flake8 lint_example.py"
   ]
  },
  {
   "cell_type": "markdown",
   "id": "77905067-c74a-4365-a1db-13459dc19d48",
   "metadata": {},
   "source": [
    "`flake8` is configurable on the command line or inside a configuration file in your project. If you wanted to ignore certain rules, like `E302` shown above, you can set them in the configuration. flake8 will inspect a `.flake8` file in the project folder or a `setup.cfg` file. If you decided to use `Tox`, you can put the `flake8` configuration section inside `tox.ini`."
   ]
  },
  {
   "cell_type": "markdown",
   "id": "352aa28e-c335-4f39-8ba6-66a4852dc1a3",
   "metadata": {},
   "source": [
    "This example ignores the `.git` and `__pycache__` directories as well as the `E302` rule. Also, it sets the max line length to ***90*** instead of ***80*** characters. You will likely find that the default constraint of 79 characters for line-width is very limiting for tests, as they contain long method names, string literals with test values, and other pieces of data that can be longer. It is common to set the line length for tests to up to 120 characters:\n",
    "\n",
    "```ini\n",
    "[flake8]\n",
    "ignore = E302\n",
    "exclude = .git,__pycache__\n",
    "max-line-length = 90\n",
    "```"
   ]
  },
  {
   "cell_type": "markdown",
   "id": "b35244aa-9ad5-4b7d-aa7b-93e12432d0e7",
   "metadata": {},
   "source": [
    "Alternatively, you can provide these options on the command line:"
   ]
  },
  {
   "cell_type": "code",
   "execution_count": 7,
   "id": "83b3e447-8800-4562-b542-ff30a8cd6545",
   "metadata": {},
   "outputs": [
    {
     "name": "stdout",
     "output_type": "stream",
     "text": [
      "lint_example.py:2:3: E111 indentation is not a multiple of 4\n",
      "lint_example.py:7:1: W293 blank line contains whitespace\n",
      "lint_example.py:10:4: E111 indentation is not a multiple of 4\n",
      "lint_example.py:11:4: E111 indentation is not a multiple of 4\n",
      "lint_example.py:11:44: W292 no newline at end of file\n"
     ]
    }
   ],
   "source": [
    "!flake8 --ignore E302 --exclude .git,__pycache__ --max-line-length=90 lint_example.py"
   ]
  },
  {
   "cell_type": "markdown",
   "id": "6fd05074-5742-4076-be05-09186c838639",
   "metadata": {},
   "source": [
    "A full list of configuration options is available on the [Documentation Website](http://flake8.pycqa.org/en/latest/user/options.html)."
   ]
  },
  {
   "cell_type": "markdown",
   "id": "73963fb2-6f17-46c1-a5ec-77d7df52c79f",
   "metadata": {},
   "source": [
    "# Aggressive Linting with a Code Formatter\n",
    "[Source](https://realpython.com/python-testing/)\n",
    "\n",
    "`flake8` is a passive linter: it recommends changes, but you have to go and change the code. A more aggressive approach is a code formatter. Code formatters will change your code automatically to meet a collection of style and layout practices.\n",
    "\n",
    "`black` is a very unforgiving formatter. It doesn’t have any configuration options, and it has a very specific style. This makes it great as a drop-in tool to put in your test pipeline."
   ]
  },
  {
   "cell_type": "markdown",
   "id": "2691d88a-cb32-4694-b2c2-3dcc1bff70c5",
   "metadata": {},
   "source": [
    "You can install black via pip:\n",
    "\n",
    "```bash\n",
    "pip install black\n",
    "```\n",
    "\n",
    "Then to run black at the command line, provide the file or directory you want to format:\n",
    "\n",
    "```bash\n",
    "black test.py\n",
    "```"
   ]
  },
  {
   "cell_type": "code",
   "execution_count": null,
   "id": "469be7d7-0471-43ad-ae74-47ed9b73d259",
   "metadata": {},
   "outputs": [],
   "source": []
  }
 ],
 "metadata": {
  "kernelspec": {
   "display_name": "Python 3 (ipykernel)",
   "language": "python",
   "name": "python3"
  },
  "language_info": {
   "codemirror_mode": {
    "name": "ipython",
    "version": 3
   },
   "file_extension": ".py",
   "mimetype": "text/x-python",
   "name": "python",
   "nbconvert_exporter": "python",
   "pygments_lexer": "ipython3",
   "version": "3.9.7"
  }
 },
 "nbformat": 4,
 "nbformat_minor": 5
}
